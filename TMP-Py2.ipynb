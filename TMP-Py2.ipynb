{
 "cells": [
  {
   "cell_type": "code",
   "execution_count": 2,
   "metadata": {},
   "outputs": [
    {
     "name": "stdout",
     "output_type": "stream",
     "text": [
      "C:\\Program Files\n",
      "2\n",
      "4\n",
      "6\n",
      "8\n"
     ]
    }
   ],
   "source": [
    "print(r'C:\\Program Files')\n",
    "for i in range(2,10,2):\n",
    "    print(i)\n",
    "import math"
   ]
  },
  {
   "cell_type": "code",
   "execution_count": null,
   "metadata": {},
   "outputs": [],
   "source": [
    "%debug\n"
   ]
  },
  {
   "cell_type": "code",
   "execution_count": 5,
   "metadata": {},
   "outputs": [
    {
     "name": "stdout",
     "output_type": "stream",
     "text": [
      "Exception reporting mode: Plain\n"
     ]
    },
    {
     "ename": "ZeroDivisionError",
     "evalue": "integer division or modulo by zero",
     "output_type": "error",
     "traceback": [
      "Traceback \u001b[0;36m(most recent call last)\u001b[0m:\n",
      "\u001b[0;36m  File \u001b[0;32m\"<ipython-input-5-98b18b80197b>\"\u001b[0;36m, line \u001b[0;32m2\u001b[0;36m, in \u001b[0;35m<module>\u001b[0;36m\u001b[0m\n\u001b[0;31m    1/0\u001b[0m\n",
      "\u001b[0;31mZeroDivisionError\u001b[0m\u001b[0;31m:\u001b[0m integer division or modulo by zero\n"
     ]
    }
   ],
   "source": [
    "%xmode Plain\n",
    "1/0"
   ]
  },
  {
   "cell_type": "code",
   "execution_count": 8,
   "metadata": {},
   "outputs": [
    {
     "name": "stdout",
     "output_type": "stream",
     "text": [
      "3\n"
     ]
    },
    {
     "data": {
      "text/plain": [
       "3"
      ]
     },
     "execution_count": 8,
     "metadata": {},
     "output_type": "execute_result"
    }
   ],
   "source": [
    "print(math.gcd(24,15))\n",
    "math.gcd(15,24)"
   ]
  },
  {
   "cell_type": "code",
   "execution_count": 17,
   "metadata": {},
   "outputs": [],
   "source": [
    "import hashlib"
   ]
  },
  {
   "cell_type": "code",
   "execution_count": 31,
   "metadata": {},
   "outputs": [
    {
     "name": "stdout",
     "output_type": "stream",
     "text": [
      "e10adc3949ba59abbe56e057f20f883e\n"
     ]
    }
   ],
   "source": [
    "a=hashlib.md5(b\"123456\").hexdigest()\n",
    "print(a)"
   ]
  },
  {
   "cell_type": "code",
   "execution_count": 7,
   "metadata": {},
   "outputs": [
    {
     "name": "stdout",
     "output_type": "stream",
     "text": [
      "请输入要解密的字符串\n",
      "fdakfjdsaljfdajfdkljakflda\n",
      "分为\t2\t栏时，解密结果为：  fadjafkdfkjldjsaaklfjlfdda\n",
      "分为\t13\t栏时，解密结果为：  fafdajdjdlafddkjslfafkjkla\n"
     ]
    }
   ],
   "source": [
    "#!/usr/bin/env python\n",
    "# -*- coding: gbk -*-\n",
    "# -*- coding: utf_8 -*-\n",
    "# Author: seclover\n",
    "# http://www.bugscan.net\n",
    "e = input('请输入要解密的字符串\\n')\n",
    "elen = len(e)\n",
    "field=[]\n",
    "for i in range(2,elen):\n",
    "    if(elen%i==0):\n",
    "        field.append(i)\n",
    "\n",
    "for f in field:\n",
    "    b = elen // f\n",
    "    result = {x:'' for x in range(b)}\n",
    "    for i in range(elen):\n",
    "        a = i % b;\n",
    "        result.update({a:result[a] + e[i]})\n",
    "    d = ''\n",
    "    for i in range(b):\n",
    "        d = d + result[i]\n",
    "    print('分为\\t'+str(f)+'\\t'+'栏时，解密结果为：  '+d)"
   ]
  },
  {
   "cell_type": "code",
   "execution_count": 1,
   "metadata": {},
   "outputs": [],
   "source": [
    "import uu"
   ]
  },
  {
   "cell_type": "code",
   "execution_count": 2,
   "metadata": {},
   "outputs": [
    {
     "name": "stdout",
     "output_type": "stream",
     "text": [
      "M=75E;F-O9&7*Q[VKMOZ]^-;&SL2\\_M>JN[O.JL[$L;[.Q+S^M<2Y_;/,HZS7\n",
      "MJKN[NO.UQ,[$O/Z_R=+4S:BY_;2_SL2QOF4M;6%I;+WXT-\"TJ\\KDHZS4VKW3\n",
      "MRM6WO;;4N,/.Q+S^O?C0T'5U9&5C;V1EHZR\\M+VKQN37JKN[SJJS]<J\\M<2V\n",
      "M_KWXUL;.Q+S^H:-U=65N8V]D92#4R\\OCMZC4\\KVKP:S0^+7$(#/7UKW:L>#\"\n",
      "MZ]>JN[NSR2`TU]:]VJ.H.\"UB:70@M;T@-BUB:72CJ;7$O\\FT\\M.AU]:W^Z.L\n",
      "MN,.QX,+KM<30I\\+*N-_3VDAE>+CQRKTN\"KK#P<NCK+_)TM2XYLO?Q.-K97G!\n",
      "HRZ.L6%),>S9N-&]S.7$T,S%Q-7)N,#-Q,#(U<#9Q-3DQ<3@Q<7)P?0``\n"
     ]
    }
   ],
   "source": [
    "A = '''M=75E;F-O9&7*Q[VKMOZ]^-;&SL2\\_M>JN[O.JL[$L;[.Q+S^M<2Y_;/,HZS7\n",
    "MJKN[NO.UQ,[$O/Z_R=+4S:BY_;2_SL2QOF4M;6%I;+WXT-\"TJ\\KDHZS4VKW3\n",
    "MRM6WO;;4N,/.Q+S^O?C0T'5U9&5C;V1EHZR\\M+VKQN37JKN[SJJS]<J\\M<2V\n",
    "M_KWXUL;.Q+S^H:-U=65N8V]D92#4R\\OCMZC4\\KVKP:S0^+7$(#/7UKW:L>#\"\n",
    "MZ]>JN[NSR2`TU]:]VJ.H.\"UB:70@M;T@-BUB:72CJ;7$O\\FT\\M.AU]:W^Z.L\n",
    "MN,.QX,+KM<30I\\+*N-_3VDAE>+CQRKTN\"KK#P<NCK+_)TM2XYLO?Q.-K97G!\n",
    "HRZ.L6%),>S9N-&]S.7$T,S%Q-7)N,#-Q,#(U<#9Q-3DQ<3@Q<7)P?0``'''\n",
    "print(A)"
   ]
  },
  {
   "cell_type": "code",
   "execution_count": 3,
   "metadata": {},
   "outputs": [],
   "source": [
    "uu.decode('uu.txt','1.txt')"
   ]
  },
  {
   "cell_type": "code",
   "execution_count": 4,
   "metadata": {},
   "outputs": [],
   "source": [
    "uu.encode('uu.txt','uu_en.txt')"
   ]
  },
  {
   "cell_type": "code",
   "execution_count": 29,
   "metadata": {},
   "outputs": [],
   "source": [
    "a='51026a40ec1e8dbc84afe07fa1678629bd52dbbefc7037c2c38665401e066031b8120d687098b588f65aa09f974279bd3a8352adcd80'"
   ]
  },
  {
   "cell_type": "code",
   "execution_count": 30,
   "metadata": {},
   "outputs": [
    {
     "data": {
      "text/plain": [
       "b'Q\\x02j@\\xec\\x1e\\x8d\\xbc\\x84\\xaf\\xe0\\x7f\\xa1g\\x86)\\xbdR\\xdb\\xbe\\xfcp7\\xc2\\xc3\\x86e@\\x1e\\x06`1\\xb8\\x12\\rhp\\x98\\xb5\\x88\\xf6Z\\xa0\\x9f\\x97By\\xbd:\\x83R\\xad\\xcd\\x80'"
      ]
     },
     "execution_count": 30,
     "metadata": {},
     "output_type": "execute_result"
    }
   ],
   "source": [
    "bytes.fromhex(a)"
   ]
  },
  {
   "cell_type": "code",
   "execution_count": 8,
   "metadata": {},
   "outputs": [
    {
     "name": "stdout",
     "output_type": "stream",
     "text": [
      "#BA?\">=&!%$B \u001e",
      "%@\u001fBB B\u001e",
      "?=?\u001e",
      "&& >\u001e",
      "\u001f\n"
     ]
    }
   ],
   "source": [
    "b=''\n",
    "for i in a:\n",
    "    b += chr(i)\n",
    "print(b)"
   ]
  },
  {
   "cell_type": "code",
   "execution_count": 4,
   "metadata": {},
   "outputs": [
    {
     "name": "stdout",
     "output_type": "stream",
     "text": [
      "5ef46e\n"
     ]
    }
   ],
   "source": [
    "file_3=\"e64fe5\"\n",
    "print(file_3[::-1])\n",
    "#7815696ecbf1c965ef46e4878e1baa9495fa21252d459b2"
   ]
  },
  {
   "cell_type": "code",
   "execution_count": 11,
   "metadata": {},
   "outputs": [],
   "source": [
    "a=[73, 48, 109, 97, 115, 46, 95, 116, 105, 111, 51, 89, 124, 73, 45, 73]"
   ]
  },
  {
   "cell_type": "code",
   "execution_count": 12,
   "metadata": {},
   "outputs": [
    {
     "name": "stdout",
     "output_type": "stream",
     "text": [
      "I0mas._tio3Y|I-I\n"
     ]
    }
   ],
   "source": [
    "b=''\n",
    "for i in a:\n",
    "    b += chr(i)\n",
    "print(b)"
   ]
  },
  {
   "cell_type": "code",
   "execution_count": 13,
   "metadata": {},
   "outputs": [
    {
     "data": {
      "text/plain": [
       "282879662"
      ]
     },
     "execution_count": 13,
     "metadata": {},
     "output_type": "execute_result"
    }
   ],
   "source": [
    "a='482*579682+641*(4017+1401)'\n",
    "eval(a)"
   ]
  },
  {
   "cell_type": "code",
   "execution_count": 23,
   "metadata": {},
   "outputs": [
    {
     "ename": "TypeError",
     "evalue": "'range' object does not support item assignment",
     "output_type": "error",
     "traceback": [
      "\u001b[0;31m---------------------------------------------------------------------------\u001b[0m",
      "\u001b[0;31mTypeError\u001b[0m                                 Traceback (most recent call last)",
      "\u001b[0;32m<ipython-input-23-20ffee6887dd>\u001b[0m in \u001b[0;36m<module>\u001b[0;34m()\u001b[0m\n\u001b[1;32m      2\u001b[0m \u001b[0ml\u001b[0m\u001b[0;34m=\u001b[0m\u001b[0mrange\u001b[0m\u001b[0;34m(\u001b[0m\u001b[0mlen\u001b[0m\u001b[0;34m(\u001b[0m\u001b[0ms\u001b[0m\u001b[0;34m)\u001b[0m\u001b[0;34m)\u001b[0m\u001b[0;34m\u001b[0m\u001b[0m\n\u001b[1;32m      3\u001b[0m \u001b[0;32mfor\u001b[0m \u001b[0mi\u001b[0m \u001b[0;32min\u001b[0m \u001b[0mrange\u001b[0m\u001b[0;34m(\u001b[0m\u001b[0mlen\u001b[0m\u001b[0;34m(\u001b[0m\u001b[0ms\u001b[0m\u001b[0;34m)\u001b[0m\u001b[0;34m)\u001b[0m\u001b[0;34m:\u001b[0m\u001b[0;34m\u001b[0m\u001b[0m\n\u001b[0;32m----> 4\u001b[0;31m     \u001b[0ml\u001b[0m\u001b[0;34m[\u001b[0m\u001b[0mi\u001b[0m\u001b[0;34m]\u001b[0m\u001b[0;34m=\u001b[0m\u001b[0ms\u001b[0m\u001b[0;34m[\u001b[0m\u001b[0mi\u001b[0m\u001b[0;34m]\u001b[0m\u001b[0;34m\u001b[0m\u001b[0m\n\u001b[0m\u001b[1;32m      5\u001b[0m     \u001b[0;32mfor\u001b[0m \u001b[0mj\u001b[0m \u001b[0;32min\u001b[0m \u001b[0mrange\u001b[0m\u001b[0;34m(\u001b[0m\u001b[0mlen\u001b[0m\u001b[0;34m(\u001b[0m\u001b[0ms\u001b[0m\u001b[0;34m)\u001b[0m\u001b[0;34m)\u001b[0m\u001b[0;34m:\u001b[0m\u001b[0;34m\u001b[0m\u001b[0m\n\u001b[1;32m      6\u001b[0m         \u001b[0mcount\u001b[0m\u001b[0;34m=\u001b[0m\u001b[0;36m1\u001b[0m\u001b[0;34m\u001b[0m\u001b[0m\n",
      "\u001b[0;31mTypeError\u001b[0m: 'range' object does not support item assignment"
     ]
    }
   ],
   "source": [
    "s='hAsh{4hGaGh}4B}has{hhhass}onnLansAnnh{F}s}an{}}onGo4sh{nshhaAnnn}sBsshA}4h4}oBGnhLBGAaoosB}n}shGa4G}oL}Fs4FsB}LsAG4nanshaG}}o4GossBaaFsGBaoson4aFhnBF44oashLnoBas}nG4n}GoA{sGhBnoAh4{ABnns{}hhLFahGBonGBnso}FasL}B{BBFh}nanso}Bnah{}{Bsa}aFnn}{B}asG}nL}BB}nosGGh4{{444aonFBF44a}L}FnsA}Gn4ABsn}nsaB4GA4n4o{onsaGh}Gnnns}4a}BnaBaFhLGLB4A4nonhaoonoLLah}BGAhsaFon4haG{F4hL4}}}4oaa4}}GAFsGGL}aos{G{AoF}FGasAn}s}sBn}4shhoG4B{s}sAsnooo{hshhohoasnhoLL4}a{an4hGn{}F{BAaoFaB}FnAnssh{GLnBnsh}h4}h}}oFFBnBsah}aoL{Fs}BGhaoa4L4{L4aBh4Gasnhh4hnBGn44sF4hsnhan}}haB4BnoAAAas4}{ss}aonohonLFa}Ah{hs{}aBn4LBGnnh{{G{onaasGBs{nnBo}4{n{LnBoaa4F{a{hGGnaF{G{nohah}o4n4ahLaaL{{hLno}LnFGoGa{sAA4hLFh}AAGL}{ah{ossonnshA{n4Goas4nsBoB{AAoFBa4{Gh}La4B}BsAFhnB{FG}Aa}oAsa{4a}B}o{{sannLn4FB{os4oAAa}Gho}{o}4n}ss4BA}BBAnBFahoanasLFa{B}G{}hFALLBs}nG4G}4o4ahA{{Bsn}Bo4F}B{hasnaF}nshha}}}sn}asnhhh{hAaaas}{Lohaons}4AhA}4}4LLLoBnn{A44AnBoG}oGB{GG4}aLn{o4G4GB}G}{Ao4oGho}AAnAsBGhsGLB{hhAGs{shhashGhAGBnoF}sn{sGa4aoah}AB4oBaaasGFn{4{oB4GLah}{4}ns}as}{sLGLsnn}h}4FsAL{A4FFn4na{aGnohGh4sLsaoL{{}GLnaBhnn}naGa4nsL{hsso}oG{L}naGaaG44hL{saFoo44FG}a}BAho}as4hBo4h}nLao{n}FLBLaaa}AhashBaLsh}FAnnshBABahGBanG4oAGaB}G4hhhn}a}}As4An}B4A}a}anoGLFaG}FLF{LB}}4h{asoGnLa}hnnaFBFB4FoGn}44on}hn}oaAhBah{a{s{4o}4oG}La}}Bosh{}s}FhnB4sBBnLaGLGshso}oahAA4saGBGshhaLGn4hA{A4oALhohn{{B}F}LBo4L{Gn}hG{nF}4}4AnhshBhB4nassshL{FnnoaAnBGFs{}nFnBnnnnGaAFhFBBALLsF}L}s{{4aAnh}aoF4}}{nons4n{BA4oFLLs}AaALnnA}has{{onABonh}sh4anahon4sL{LB{sah}aa}FG}o4hn}hG}a}}4LhnB}o4LsnA}{hFBBoFn4FLFh}4GsA4}ooans{Loo}}hhGhshnnha{s4}}noh}assBs{}GBaAon}aooonsoahaha}FFn}LsB{onoA}oh4{sanA}LhaB}BsaGs{BanaaALoA}oG}onAnBB4A}nAL{Lahh}{sB}h{oBa4ananho{sBnhonoossnF4FBn{naBooh4hsnnaGosoo}saahan}{}Gho4{A4}hnBAoos{a}}GhB}hABBnohG{sshA44GBn{AF}aaF}4sAasL4hs4LoaoF4}Bo4a}ahs}FFhGaLonB4{G}4Bo{A}AoALh4ash}a}ALo4n{Ao}LAssBsBB'\n",
    "l=range(len(s))\n",
    "for i in range(len(s)):\n",
    "    l[i]=s[i]\n",
    "    for j in range(len(s)):\n",
    "        count=1\n",
    "        for k in xrange(j+1,len(s)):\n",
    "            if l[j]==' ' or l[k]==' ':\n",
    "                pass\n",
    "            elif l[j]==l[k]:\n",
    "                count+=1\n",
    "            l[k]=' '\n",
    "            if l[j]!=' ':\n",
    "                print(l[j],\"    \",count)"
   ]
  },
  {
   "cell_type": "code",
   "execution_count": 1,
   "metadata": {},
   "outputs": [
    {
     "name": "stdout",
     "output_type": "stream",
     "text": [
      "{'A': 100, 'a': 180, 'B': 130, 'G': 110, 'F': 80, 'h': 170, 'L': 90, 'o': 150, 'n': 190, 's': 160, '4': 140, '{': 120, '}': 200}\n",
      "[[100, 'A'], [180, 'a'], [130, 'B'], [110, 'G'], [80, 'F'], [170, 'h'], [90, 'L'], [150, 'o'], [190, 'n'], [160, 's'], [140, '4'], [120, '{'], [200, '}']]\n",
      "FLAG{B4oshan}\n"
     ]
    }
   ],
   "source": [
    "result = {}\n",
    "html2='hAsh{4hGaGh}4B}has{hhhass}onnLansAnnh{F}s}an{}}onGo4sh{nshhaAnnn}sBsshA}4h4}oBGnhLBGAaoosB}n}shGa4G}oL}Fs4FsB}LsAG4nanshaG}}o4GossBaaFsGBaoson4aFhnBF44oashLnoBas}nG4n}GoA{sGhBnoAh4{ABnns{}hhLFahGBonGBnso}FasL}B{BBFh}nanso}Bnah{}{Bsa}aFnn}{B}asG}nL}BB}nosGGh4{{444aonFBF44a}L}FnsA}Gn4ABsn}nsaB4GA4n4o{onsaGh}Gnnns}4a}BnaBaFhLGLB4A4nonhaoonoLLah}BGAhsaFon4haG{F4hL4}}}4oaa4}}GAFsGGL}aos{G{AoF}FGasAn}s}sBn}4shhoG4B{s}sAsnooo{hshhohoasnhoLL4}a{an4hGn{}F{BAaoFaB}FnAnssh{GLnBnsh}h4}h}}oFFBnBsah}aoL{Fs}BGhaoa4L4{L4aBh4Gasnhh4hnBGn44sF4hsnhan}}haB4BnoAAAas4}{ss}aonohonLFa}Ah{hs{}aBn4LBGnnh{{G{onaasGBs{nnBo}4{n{LnBoaa4F{a{hGGnaF{G{nohah}o4n4ahLaaL{{hLno}LnFGoGa{sAA4hLFh}AAGL}{ah{ossonnshA{n4Goas4nsBoB{AAoFBa4{Gh}La4B}BsAFhnB{FG}Aa}oAsa{4a}B}o{{sannLn4FB{os4oAAa}Gho}{o}4n}ss4BA}BBAnBFahoanasLFa{B}G{}hFALLBs}nG4G}4o4ahA{{Bsn}Bo4F}B{hasnaF}nshha}}}sn}asnhhh{hAaaas}{Lohaons}4AhA}4}4LLLoBnn{A44AnBoG}oGB{GG4}aLn{o4G4GB}G}{Ao4oGho}AAnAsBGhsGLB{hhAGs{shhashGhAGBnoF}sn{sGa4aoah}AB4oBaaasGFn{4{oB4GLah}{4}ns}as}{sLGLsnn}h}4FsAL{A4FFn4na{aGnohGh4sLsaoL{{}GLnaBhnn}naGa4nsL{hsso}oG{L}naGaaG44hL{saFoo44FG}a}BAho}as4hBo4h}nLao{n}FLBLaaa}AhashBaLsh}FAnnshBABahGBanG4oAGaB}G4hhhn}a}}As4An}B4A}a}anoGLFaG}FLF{LB}}4h{asoGnLa}hnnaFBFB4FoGn}44on}hn}oaAhBah{a{s{4o}4oG}La}}Bosh{}s}FhnB4sBBnLaGLGshso}oahAA4saGBGshhaLGn4hA{A4oALhohn{{B}F}LBo4L{Gn}hG{nF}4}4AnhshBhB4nassshL{FnnoaAnBGFs{}nFnBnnnnGaAFhFBBALLsF}L}s{{4aAnh}aoF4}}{nons4n{BA4oFLLs}AaALnnA}has{{onABonh}sh4anahon4sL{LB{sah}aa}FG}o4hn}hG}a}}4LhnB}o4LsnA}{hFBBoFn4FLFh}4GsA4}ooans{Loo}}hhGhshnnha{s4}}noh}assBs{}GBaAon}aooonsoahaha}FFn}LsB{onoA}oh4{sanA}LhaB}BsaGs{BanaaALoA}oG}onAnBB4A}nAL{Lahh}{sB}h{oBa4ananho{sBnhonoossnF4FBn{naBooh4hsnnaGosoo}saahan}{}Gho4{A4}hnBAoos{a}}GhB}hABBnohG{sshA44GBn{AF}aaF}4sAasL4hs4LoaoF4}Bo4a}ahs}FFhGaLonB4{G}4Bo{A}AoALh4ash}a}ALo4n{Ao}LAssBsBB'\n",
    "for i in html2:\n",
    "    result[i]=html2.count(i)\n",
    "    \n",
    "print(result)\n",
    "def sort_by_value(d): \n",
    "    items=d.items() \n",
    "    backitems=[[v[1],v[0]] for v in items] \n",
    "    print(backitems)\n",
    "    backitems.sort(reverse=False) \n",
    "    return [ backitems[i][1] for i in range(0,len(backitems))] \n",
    "k = sort_by_value(result)\n",
    "#print(k)\n",
    "k1 = ''\n",
    "for j in k:\n",
    "    k1 += j\n",
    "print(k1)"
   ]
  },
  {
   "cell_type": "code",
   "execution_count": 15,
   "metadata": {},
   "outputs": [
    {
     "name": "stdout",
     "output_type": "stream",
     "text": [
      "flag{Na1v3}\n"
     ]
    }
   ],
   "source": [
    "a = [144,150,139,145,165,120,139,91,160,93,167]\n",
    "k=''\n",
    "for i in a:\n",
    "    k += chr(i-42)\n",
    "print(k)"
   ]
  },
  {
   "cell_type": "code",
   "execution_count": 18,
   "metadata": {},
   "outputs": [
    {
     "name": "stdout",
     "output_type": "stream",
     "text": [
      "['flag{', '1v3}']\n"
     ]
    }
   ],
   "source": [
    "print(k.split('Na'))"
   ]
  },
  {
   "cell_type": "code",
   "execution_count": 14,
   "metadata": {},
   "outputs": [
    {
     "data": {
      "text/plain": [
       "512"
      ]
     },
     "execution_count": 14,
     "metadata": {},
     "output_type": "execute_result"
    }
   ],
   "source": [
    "\"\".__class__.__mro__[-1].__subclasses__()[29].__call__(eval,'os.system(\"ls\")')"
   ]
  },
  {
   "cell_type": "code",
   "execution_count": 15,
   "metadata": {},
   "outputs": [
    {
     "data": {
      "text/plain": [
       "49"
      ]
     },
     "execution_count": 15,
     "metadata": {},
     "output_type": "execute_result"
    }
   ],
   "source": [
    "ord('1')"
   ]
  },
  {
   "cell_type": "code",
   "execution_count": 4,
   "metadata": {},
   "outputs": [],
   "source": [
    "a = [146527998, 205327308, 94243885, 138810487, 408218567, 77866117, 71548549, 563255818, 559010506, 449018203, 576200653, 307283021, 467607947, 314806739, 341420795, 341420795, 469998524,\n",
    "417733494, 342206934, 392460324, 382290309, 185532945, 364788505, 210058699, 198137551, 360748557, 440064477, 319861317, 676258995, 389214123, 829768461, 534844356, 427514172, 864054312]\n",
    "b = [46393, 49151, 36900, 59564, 35883, 3517, 52957, 1509, 61207, 63274, 27694, 20932, 37997, 22069, 8438, 33995,\n",
    "53298, 16908, 30902, 64602, 64028, 29629, 26537, 12026, 31610, 48639, 19968, 45654, 51972, 64956, 45293, 64752, 37108]\n",
    "c = [57355, 22538, 47767, 8940, 4975, 27050, 56102, 21796, 41174, 63445, 53454, 28762, 59215, 16407, 64340, 37644,\n",
    "59896, 41276, 25896, 27501, 38944, 37039, 38213, 61842, 43497, 9221, 9879, 14436, 60468, 19926, 47198, 8406, 64666]\n",
    "d = [-341994984, -370404060, -257581614, -494024809, -135267265, 54930974, -155841406, 540422378, -107286502, -128056922, 265261633, 275964257, 119059597, 202392013, 283676377,\n",
    "126284124, -68971076, 261217574, 197555158, -12893337, -10293675, 93868075, 121661845, 167461231, 123220255, 221507, 258914772, 180963987, 107841171, 41609001, 276531381, 169983906, 276158562]\n",
    "flag = ''"
   ]
  },
  {
   "cell_type": "code",
   "execution_count": 5,
   "metadata": {},
   "outputs": [
    {
     "name": "stdout",
     "output_type": "stream",
     "text": [
      "f\n",
      "fl\n",
      "fla\n",
      "flag\n",
      "flag{\n",
      "flag{M\n",
      "flag{MA\n",
      "flag{MAt\n",
      "flag{MAth\n",
      "flag{MAth_\n",
      "flag{MAth_i\n",
      "flag{MAth_i&\n",
      "flag{MAth_i&_\n",
      "flag{MAth_i&_G\n",
      "flag{MAth_i&_GO\n",
      "flag{MAth_i&_GOO\n",
      "flag{MAth_i&_GOOd\n",
      "flag{MAth_i&_GOOd_\n",
      "flag{MAth_i&_GOOd_D\n",
      "flag{MAth_i&_GOOd_DO\n",
      "flag{MAth_i&_GOOd_DON\n",
      "flag{MAth_i&_GOOd_DON7\n",
      "flag{MAth_i&_GOOd_DON7_\n",
      "flag{MAth_i&_GOOd_DON7_9\n",
      "flag{MAth_i&_GOOd_DON7_90\n",
      "flag{MAth_i&_GOOd_DON7_90V\n",
      "flag{MAth_i&_GOOd_DON7_90V_\n",
      "flag{MAth_i&_GOOd_DON7_90V_7\n",
      "flag{MAth_i&_GOOd_DON7_90V_7h\n",
      "flag{MAth_i&_GOOd_DON7_90V_7hI\n",
      "flag{MAth_i&_GOOd_DON7_90V_7hIn\n",
      "flag{MAth_i&_GOOd_DON7_90V_7hInK\n",
      "flag{MAth_i&_GOOd_DON7_90V_7hInK?\n"
     ]
    }
   ],
   "source": [
    "for m in range(33):\n",
    "    for i in range(33, 127):\n",
    "        if a[m] == b[m] * i **2+ c[m] * i + d[m]:\n",
    "            for j in range(33,127):\n",
    "                if a[(m +1)] == b[m] * j **2+ c[m] * j + d[m]:\n",
    "                    flag+=chr(i)\n",
    "                    print flag"
   ]
  },
  {
   "cell_type": "code",
   "execution_count": null,
   "metadata": {},
   "outputs": [],
   "source": []
  }
 ],
 "metadata": {
  "kernelspec": {
   "display_name": "Python 2",
   "language": "python",
   "name": "python2"
  },
  "language_info": {
   "codemirror_mode": {
    "name": "ipython",
    "version": 2
   },
   "file_extension": ".py",
   "mimetype": "text/x-python",
   "name": "python",
   "nbconvert_exporter": "python",
   "pygments_lexer": "ipython2",
   "version": "2.7.15rc1"
  }
 },
 "nbformat": 4,
 "nbformat_minor": 2
}
