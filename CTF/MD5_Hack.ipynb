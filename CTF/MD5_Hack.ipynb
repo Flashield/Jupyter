{
 "cells": [
  {
   "cell_type": "code",
   "execution_count": 1,
   "metadata": {},
   "outputs": [
    {
     "name": "stdout",
     "output_type": "stream",
     "text": [
      "asdf13573747198fdsa\n",
      "7d06700a3de25e7c6ed1b52e7b34d155\n"
     ]
    }
   ],
   "source": [
    "import hashlib\n",
    "dic = ['1','2','3','4','5','6','7','8','9','0']\n",
    "for x in range(len(dic)):\n",
    "    for y in range(len(dic)):\n",
    "        for z in range(len(dic)):\n",
    "            for k in range(len(dic)):\n",
    "                str1 = \"asdf135\" + dic[x] +dic[y] + dic[z] + dic[k] +\"7198fdsa\"                 \n",
    "                m2 = hashlib.md5()\n",
    "                m2.update(str1.encode(encoding='utf-8'))\n",
    "                str2 = m2.hexdigest()\n",
    "                if str2 == '7d06700a3de25e7c6ed1b52e7b34d155':\n",
    "                    print(str1)\n",
    "                    print(str2)"
   ]
  },
  {
   "cell_type": "code",
   "execution_count": 1,
   "metadata": {},
   "outputs": [
    {
     "name": "stdout",
     "output_type": "stream",
     "text": [
      "asdf13763319697198fdsa\n",
      "0e330662434999611493510780701282\n"
     ]
    },
    {
     "data": {
      "text/plain": [
       "'while int3<=99999:\\n    str3 = str(int3)\\n    str4 = \\'asdf13\\'+str3+\"7198fdsa\"\\n    m2=hashlib.md5()\\n    m2.update(str4.encode(encoding=\\'utf-8\\'))\\n    str5 = m2.hexdigest()\\n    if str5 == \\'7d06700a3de25e7c6ed1b52e7b34d155\\':\\n        print(str4)\\n        print(str5)\\n        break\\n    int3 += 1\\nfor x in range(len(dic)):\\n    for y in range(len(dic)):\\n        for z in range(len(dic)):\\n            str1 = \"c2\" + dic[x]+\\'m\\'+dic[y]+\\'2Rm\\'+ dic[z]+\\'yA\\'                 \\n            m2 = hashlib.md5()\\n            m2.update(str1.encode(encoding=\\'utf-8\\'))\\n            str2 = m2.hexdigest()\\n            #print(str1)\\n            #print(str2[0:5]+\\':\\'+str2[29:])\\n            if str2[0:5] ==\\'00919\\' and str2[29:] == \\'3c5\\':\\n                print(str1)\\n                print(str2)\\n                break'"
      ]
     },
     "execution_count": 1,
     "metadata": {},
     "output_type": "execute_result"
    }
   ],
   "source": [
    "import hashlib\n",
    "def isdec(x):\n",
    "    try:\n",
    "        y=int(x)\n",
    "        return 1\n",
    "    except:\n",
    "        return 0\n",
    "'''dic = ['1','2','3','4','5','6','7','8','9','0']+list('abcdefghijklmnopqrstuvwxyzABCDEFGHIJKLMNOPQRSTUVWXYZ')'''\n",
    "int3=50000\n",
    "while int3<=9999999999:\n",
    "    str3 = str(int3)\n",
    "    str4 = 'asdf13'+str3+\"7198fdsa\"\n",
    "    m2=hashlib.md5()\n",
    "    m2.update(str4.encode(encoding='utf-8'))\n",
    "    str5 = m2.hexdigest()\n",
    "    if (str5[0:2] == '0e' and isdec(str5[3:])):\n",
    "        print(str4)\n",
    "        print(str5)\n",
    "        break\n",
    "    int3 += 1\n",
    "'''while int3<=99999:\n",
    "    str3 = str(int3)\n",
    "    str4 = 'asdf13'+str3+\"7198fdsa\"\n",
    "    m2=hashlib.md5()\n",
    "    m2.update(str4.encode(encoding='utf-8'))\n",
    "    str5 = m2.hexdigest()\n",
    "    if str5 == '7d06700a3de25e7c6ed1b52e7b34d155':\n",
    "        print(str4)\n",
    "        print(str5)\n",
    "        break\n",
    "    int3 += 1\n",
    "for x in range(len(dic)):\n",
    "    for y in range(len(dic)):\n",
    "        for z in range(len(dic)):\n",
    "            str1 = \"c2\" + dic[x]+'m'+dic[y]+'2Rm'+ dic[z]+'yA'                 \n",
    "            m2 = hashlib.md5()\n",
    "            m2.update(str1.encode(encoding='utf-8'))\n",
    "            str2 = m2.hexdigest()\n",
    "            #print(str1)\n",
    "            #print(str2[0:5]+':'+str2[29:])\n",
    "            if str2[0:5] =='00919' and str2[29:] == '3c5':\n",
    "                print(str1)\n",
    "                print(str2)\n",
    "                break'''"
   ]
  },
  {
   "cell_type": "code",
   "execution_count": 1,
   "metadata": {},
   "outputs": [],
   "source": [
    "int3=1234567890"
   ]
  },
  {
   "cell_type": "code",
   "execution_count": 2,
   "metadata": {},
   "outputs": [],
   "source": [
    "str3=str(int3)"
   ]
  },
  {
   "cell_type": "code",
   "execution_count": 12,
   "metadata": {},
   "outputs": [],
   "source": [
    "str3='7d06700a3de25e7c6ed1b52e7b34d155'"
   ]
  },
  {
   "cell_type": "code",
   "execution_count": 21,
   "metadata": {},
   "outputs": [
    {
     "data": {
      "text/plain": [
       "'z'"
      ]
     },
     "execution_count": 21,
     "metadata": {},
     "output_type": "execute_result"
    }
   ],
   "source": [
    "chr(65)\n",
    "chr(122)"
   ]
  },
  {
   "cell_type": "code",
   "execution_count": 20,
   "metadata": {},
   "outputs": [
    {
     "data": {
      "text/plain": [
       "122"
      ]
     },
     "execution_count": 20,
     "metadata": {},
     "output_type": "execute_result"
    }
   ],
   "source": [
    "ord('z')"
   ]
  },
  {
   "cell_type": "code",
   "execution_count": 22,
   "metadata": {},
   "outputs": [],
   "source": [
    "dic = ['1','2','3','4','5','6','7','8','9','0']"
   ]
  },
  {
   "cell_type": "code",
   "execution_count": 2,
   "metadata": {},
   "outputs": [
    {
     "data": {
      "text/plain": [
       "116"
      ]
     },
     "execution_count": 2,
     "metadata": {},
     "output_type": "execute_result"
    }
   ],
   "source": [
    "ord('t')"
   ]
  },
  {
   "cell_type": "code",
   "execution_count": 26,
   "metadata": {},
   "outputs": [
    {
     "data": {
      "text/plain": [
       "['1', '2', '3', '4', '5', '6', '7', '8', '9', '0', 'a']"
      ]
     },
     "execution_count": 26,
     "metadata": {},
     "output_type": "execute_result"
    }
   ],
   "source": [
    "dic+list('a')"
   ]
  },
  {
   "cell_type": "code",
   "execution_count": null,
   "metadata": {},
   "outputs": [],
   "source": []
  }
 ],
 "metadata": {
  "kernelspec": {
   "display_name": "Python 3",
   "language": "python",
   "name": "python3"
  },
  "language_info": {
   "codemirror_mode": {
    "name": "ipython",
    "version": 3
   },
   "file_extension": ".py",
   "mimetype": "text/x-python",
   "name": "python",
   "nbconvert_exporter": "python",
   "pygments_lexer": "ipython3",
   "version": "3.6.6"
  }
 },
 "nbformat": 4,
 "nbformat_minor": 2
}
