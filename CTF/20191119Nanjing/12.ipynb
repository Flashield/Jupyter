{
 "cells": [
  {
   "cell_type": "code",
   "execution_count": 6,
   "metadata": {},
   "outputs": [
    {
     "name": "stdout",
     "output_type": "stream",
     "text": [
      "flag{adafwtdassyagafwkweqzjzsad}\n"
     ]
    }
   ],
   "source": [
    "encode = 'ICNHTNKNHWZJM[[ULFLGVBVH[RBRYKHO'\n",
    "flag = ''\n",
    "for i in range(len(encode)):\n",
    "    k = chr(((ord(encode[i])^0x20)+int(i/8))^0xF)\n",
    "    flag += k\n",
    "print(flag)"
   ]
  }
 ],
 "metadata": {
  "kernelspec": {
   "display_name": "Python 3",
   "language": "python",
   "name": "python3"
  },
  "language_info": {
   "codemirror_mode": {
    "name": "ipython",
    "version": 3
   },
   "file_extension": ".py",
   "mimetype": "text/x-python",
   "name": "python",
   "nbconvert_exporter": "python",
   "pygments_lexer": "ipython3",
   "version": "3.6.8"
  }
 },
 "nbformat": 4,
 "nbformat_minor": 2
}
