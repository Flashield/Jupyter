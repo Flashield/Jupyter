{
 "cells": [
  {
   "cell_type": "code",
   "execution_count": null,
   "metadata": {},
   "outputs": [],
   "source": [
    "%env DISPLAY=192.168.245.1:0\n",
    "from selenium import webdriver\n",
    "import time\n",
    "chrome_options = webdriver.chrome.options.Options()\n",
    "browser = webdriver.Chrome(options=chrome_options)\n",
    "\n",
    "browser.get('http://66.66.56.200/6_44577210206b04d9a3aa80e6069c6d2e/answer.php')\n",
    "for i in range(20):\n",
    "    ques = browser.find_element_by_xpath('/html/body/form/div')\n",
    "    #题目要求不能太快，1-2s内提交\n",
    "    time.sleep(1)\n",
    "    t_ques = ques.text.replace('=','==')\n",
    "    if eval(t_ques) == True:\n",
    "        butt = browser.find_element_by_xpath('/html/body/form/label[1]/input')\n",
    "        butt.click()\n",
    "        submit = browser.find_element_by_xpath('/html/body/form/input')\n",
    "        submit.click()\n",
    "    if eval(t_ques) == False:\n",
    "        butt = browser.find_element_by_xpath('/html/body/form/label[2]/input')\n",
    "        butt.click()\n",
    "        submit = browser.find_element_by_xpath('/html/body/form/input')\n",
    "        submit.click()"
   ]
  }
 ],
 "metadata": {
  "kernelspec": {
   "display_name": "Python 3",
   "language": "python",
   "name": "python3"
  },
  "language_info": {
   "codemirror_mode": {
    "name": "ipython",
    "version": 3
   },
   "file_extension": ".py",
   "mimetype": "text/x-python",
   "name": "python",
   "nbconvert_exporter": "python",
   "pygments_lexer": "ipython3",
   "version": "3.6.8"
  }
 },
 "nbformat": 4,
 "nbformat_minor": 2
}
