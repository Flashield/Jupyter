{
 "cells": [
  {
   "cell_type": "code",
   "execution_count": 1,
   "metadata": {},
   "outputs": [
    {
     "name": "stdout",
     "output_type": "stream",
     "text": [
      "0x5f04850fec81a27ab5fc98befa4eb40c\n"
     ]
    }
   ],
   "source": [
    "import hashlib\n",
    "md5s = [\n",
    "    0x831DAA3C843BA8B087C895F0ED305CE7,\n",
    "    0x6722F7A07246C6AF20662B855846C2C8,\n",
    "    0x5F04850FEC81A27AB5FC98BEFA4EB40C,\n",
    "    0xECF8DCAC7503E63A6A3667C5FB94F610,\n",
    "    0xC0FD15AE2C3931BC1E140523AE934722,\n",
    "    0x569F606FD6DA5D612F10CFB95C0BDE6D,\n",
    "    0x68CB5A1CF54C078BF0E7E89584C1A4E,\n",
    "    0xC11E2CD82D1F9FBD7E4D6EE9581FF3BD,\n",
    "    0x1DF4C637D625313720F45706A48FF20F,\n",
    "    0x3122EF3A001AAECDB8DD9D843C029E06,\n",
    "    0xADB778A0F729293E7E0B19B96A4C5A61,\n",
    "    0x938C747C6A051B3E163EB802A325148E,\n",
    "    0x38543C5E820DD9403B57BEFF6020596D]\n",
    "print(str(hex(md5s[2])))"
   ]
  },
  {
   "cell_type": "code",
   "execution_count": 12,
   "metadata": {},
   "outputs": [
    {
     "name": "stdout",
     "output_type": "stream",
     "text": [
      "0x4ff89342bb46cea91a288c3bed86e1b2\n"
     ]
    }
   ],
   "source": [
    "a='flag{'\n",
    "m=hashlib.md5()\n",
    "m.update(a.encode(encoding='utf-8'))\n",
    "m_str = m.hexdigest()\n",
    "print('0x{}'.format(m_str))"
   ]
  },
  {
   "cell_type": "code",
   "execution_count": null,
   "metadata": {},
   "outputs": [],
   "source": [
    "import hashlib\n",
    "flag=['a','b','c','d','e']\n",
    "i=0\n",
    "b_fg=0\n",
    "for k1 in range(33,127):\n",
    "    for k2 in range(33,127):\n",
    "        for k3 in range(33,127):\n",
    "            for k4 in range(33,127):\n",
    "                for k5 in range(33,127):\n",
    "                    flag[0]=chr(k1)\n",
    "                    flag[1]=chr(k2)\n",
    "                    flag[2]=chr(k3)\n",
    "                    flag[3]=chr(k4)\n",
    "                    flag[4]=chr(k5)\n",
    "                    flag1=flag[0]+flag[1]+flag[2]+flag[3]+flag[4]\n",
    "                    m=hashlib.md5()\n",
    "                    m.update(flag1.encode(encoding='utf-8'))\n",
    "                    m_str = m.hexdigest()\n",
    "                    #print('0x{}'.format(m_str))\n",
    "                    if '0x{}'.format(m_str) == '0x5f04850fec81a27ab5fc98befa4eb40c':\n",
    "                        print(flag1,'0x{}'.format(m_str))\n",
    "                        b_fg = True\n",
    "                        break\n",
    "                if b_fg == True:\n",
    "                    break\n",
    "            if b_fg == True:\n",
    "                break\n",
    "        if b_fg == True:\n",
    "            break\n",
    "    if b_fg == True:\n",
    "        break"
   ]
  },
  {
   "cell_type": "code",
   "execution_count": null,
   "metadata": {},
   "outputs": [],
   "source": []
  }
 ],
 "metadata": {
  "kernelspec": {
   "display_name": "Python 3",
   "language": "python",
   "name": "python3"
  },
  "language_info": {
   "codemirror_mode": {
    "name": "ipython",
    "version": 3
   },
   "file_extension": ".py",
   "mimetype": "text/x-python",
   "name": "python",
   "nbconvert_exporter": "python",
   "pygments_lexer": "ipython3",
   "version": "3.5.2"
  }
 },
 "nbformat": 4,
 "nbformat_minor": 2
}
