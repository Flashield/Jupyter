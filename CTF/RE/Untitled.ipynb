{
 "cells": [
  {
   "cell_type": "code",
   "execution_count": 18,
   "metadata": {},
   "outputs": [
    {
     "data": {
      "text/plain": [
       "14"
      ]
     },
     "execution_count": 18,
     "metadata": {},
     "output_type": "execute_result"
    }
   ],
   "source": [
    "v5 = [0x68,0x57,0x19,0x48,0x50,0x6e,0x58,0x78,0x54,0x61,0x19,0x58,0x5e,0x06]\n",
    "bytes.fromhex(v5)\n",
    "#python2用来转换hex\n",
    "v5=b'hW\\x19HPnXxTj\\x19X^\\x06'\n",
    "len(v5)"
   ]
  },
  {
   "cell_type": "code",
   "execution_count": 19,
   "metadata": {},
   "outputs": [
    {
     "name": "stdout",
     "output_type": "stream",
     "text": [
      "Cr4ckIsSoE4sy!\n"
     ]
    }
   ],
   "source": [
    "flag=''\n",
    "for i in v5:\n",
    "    flag += chr((i-5)^0x20)\n",
    "print(flag)"
   ]
  },
  {
   "cell_type": "code",
   "execution_count": 22,
   "metadata": {},
   "outputs": [
    {
     "name": "stdout",
     "output_type": "stream",
     "text": [
      "flag{w4nn4_j4r_my_d3x}\n"
     ]
    }
   ],
   "source": [
    "key = [102, 108, 97, 103, 123, 119, 52, 110, 110, 52, 95, 106, 52, 114, 95, 109, 121, 95, 100, 51, 120, 125]\n",
    "flag = ''\n",
    "for i in key:\n",
    "    flag+=chr(i)\n",
    "print(flag)"
   ]
  },
  {
   "cell_type": "code",
   "execution_count": 24,
   "metadata": {},
   "outputs": [
    {
     "name": "stdout",
     "output_type": "stream",
     "text": [
      "[123, 148, 62, 53, 24, 116, 244, 126, 63, 90]\n"
     ]
    }
   ],
   "source": [
    "a=[0x7b, 0x94, 0x3e, 0x35, 0x18, 0x74, 0xf4, 0x7e, 0x3f, 90 ]\n",
    "print(a)"
   ]
  },
  {
   "cell_type": "code",
   "execution_count": 48,
   "metadata": {},
   "outputs": [
    {
     "name": "stdout",
     "output_type": "stream",
     "text": [
      "K4a9P37ciB\n"
     ]
    }
   ],
   "source": [
    "flag2 = ''\n",
    "for i in a:\n",
    "    for j in range(250):    \n",
    "        num2 = j&7\n",
    "        num3 = (j>>3)&0xff\n",
    "        arr3 = (num2<<5)|num3\n",
    "        arr3 ^= 0x12\n",
    "        if arr3 == i:\n",
    "            flag2+=chr(j)\n",
    "print(flag2)"
   ]
  },
  {
   "cell_type": "code",
   "execution_count": 49,
   "metadata": {},
   "outputs": [
    {
     "name": "stdout",
     "output_type": "stream",
     "text": [
      "3 9 105 123\n"
     ]
    }
   ],
   "source": [
    "k=ord('K')\n",
    "print(k&7,(k>>3)&0xff,((k&7)<<5)|((k>>3)&0xff),((k&7)<<5)|((k>>3)&0xff)^0x12)"
   ]
  },
  {
   "cell_type": "code",
   "execution_count": 50,
   "metadata": {},
   "outputs": [
    {
     "data": {
      "text/plain": [
       "'5'"
      ]
     },
     "execution_count": 50,
     "metadata": {},
     "output_type": "execute_result"
    }
   ],
   "source": [
    "chr(53)"
   ]
  },
  {
   "cell_type": "code",
   "execution_count": 4,
   "metadata": {},
   "outputs": [
    {
     "name": "stdout",
     "output_type": "stream",
     "text": [
      "s4B5C4FBBBD8740B2\n"
     ]
    }
   ],
   "source": [
    "a='v1G0F1CGGGA=215G7'\n",
    "flag=''\n",
    "for i in a:\n",
    "    flag += chr(ord(i)^0x5)\n",
    "print(flag)"
   ]
  },
  {
   "cell_type": "code",
   "execution_count": 1,
   "metadata": {},
   "outputs": [
    {
     "ename": "OverflowError",
     "evalue": "int too large to convert to float",
     "output_type": "error",
     "traceback": [
      "\u001b[0;31m---------------------------------------------------------------------------\u001b[0m",
      "\u001b[0;31mOverflowError\u001b[0m                             Traceback (most recent call last)",
      "\u001b[0;32m<ipython-input-1-d55252c84703>\u001b[0m in \u001b[0;36m<module>\u001b[0;34m()\u001b[0m\n\u001b[1;32m      3\u001b[0m \u001b[0mb\u001b[0m\u001b[0;34m=\u001b[0m\u001b[0;36m3076433822814954379524766401149703829388998303211949802495903993728411768630234941908379224548551637739711829408802249649539193280247277641130590337304610\u001b[0m\u001b[0;34m\u001b[0m\u001b[0m\n\u001b[1;32m      4\u001b[0m \u001b[0ma\u001b[0m\u001b[0;34m=\u001b[0m\u001b[0;36m1\u001b[0m\u001b[0;34m\u001b[0m\u001b[0m\n\u001b[0;32m----> 5\u001b[0;31m \u001b[0mk\u001b[0m\u001b[0;34m=\u001b[0m\u001b[0mmath\u001b[0m\u001b[0;34m.\u001b[0m\u001b[0msqrt\u001b[0m\u001b[0;34m(\u001b[0m\u001b[0mb\u001b[0m\u001b[0;34m*\u001b[0m\u001b[0mb\u001b[0m\u001b[0;34m-\u001b[0m\u001b[0;36m4\u001b[0m\u001b[0;34m*\u001b[0m\u001b[0ma\u001b[0m\u001b[0;34m*\u001b[0m\u001b[0mc\u001b[0m\u001b[0;34m)\u001b[0m\u001b[0;34m\u001b[0m\u001b[0m\n\u001b[0m\u001b[1;32m      6\u001b[0m \u001b[0mprint\u001b[0m\u001b[0;34m(\u001b[0m\u001b[0mb\u001b[0m\u001b[0;34m*\u001b[0m\u001b[0mb\u001b[0m\u001b[0;34m-\u001b[0m\u001b[0;36m4\u001b[0m\u001b[0;34m*\u001b[0m\u001b[0ma\u001b[0m\u001b[0;34m*\u001b[0m\u001b[0mc\u001b[0m\u001b[0;34m)\u001b[0m\u001b[0;34m\u001b[0m\u001b[0m\n",
      "\u001b[0;31mOverflowError\u001b[0m: int too large to convert to float"
     ]
    }
   ],
   "source": [
    "import math\n",
    "c=-124505798868852368271793067207129696073932674127432142354942921070883060568367994640569010231335260457364506494110523026110017140104859164273763238997103561724449631734026588389430139126071592845163714736995224119505578368149365211675712937016546150619119982582497478157517451465975193671664573708353622373359\n",
    "b=3076433822814954379524766401149703829388998303211949802495903993728411768630234941908379224548551637739711829408802249649539193280247277641130590337304610\n",
    "a=1\n",
    "k=math.sqrt(b*b-4*a*c)\n",
    "print(b*b-4*a*c)"
   ]
  },
  {
   "cell_type": "code",
   "execution_count": null,
   "metadata": {},
   "outputs": [],
   "source": []
  }
 ],
 "metadata": {
  "kernelspec": {
   "display_name": "Python 3",
   "language": "python",
   "name": "python3"
  },
  "language_info": {
   "codemirror_mode": {
    "name": "ipython",
    "version": 3
   },
   "file_extension": ".py",
   "mimetype": "text/x-python",
   "name": "python",
   "nbconvert_exporter": "python",
   "pygments_lexer": "ipython3",
   "version": "3.6.6"
  }
 },
 "nbformat": 4,
 "nbformat_minor": 2
}
