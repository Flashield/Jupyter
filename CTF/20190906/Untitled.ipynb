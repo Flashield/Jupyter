{
 "cells": [
  {
   "cell_type": "code",
   "execution_count": 21,
   "metadata": {},
   "outputs": [
    {
     "name": "stdout",
     "output_type": "stream",
     "text": [
      "igq4;741R;1ikR51ibOOp\n",
      "hfp5:650S:0hjS40hcNNq\n",
      "kes69563P93kiP73k`MMr\n",
      "jdr78472Q82jhQ62jaLLs\n",
      "mcu0?305V?5moV15mfKKt\n",
      "lbt1>214W>4lnW04lgJJu\n",
      "oaw2=127T=7omT37odIIv\n",
      "n`v3<036U<6nlU26neHHw\n",
      "aoy<3?<9Z39acZ=9ajGGx\n",
      "`nx=2>=8[28`b[<8`kFFy\n",
      "cm{>1=>;X1;caX?;chEEz\n",
      "blz?0<?:Y0:b`Y>:biDD{\n",
      "ek}87;8=^7=eg^9=enCC|\n",
      "dj|96:9<_6<df_8<doBB}\n"
     ]
    }
   ],
   "source": [
    "import base64\n",
    "\n",
    "miwen=base64.b64decode(\"aWdxNDs3NDFSOzFpa1I1MWliT09w\")\n",
    "#miwen=\"EOBD.7igq4;1ikb51ibOO0;:41R\"\n",
    "mingwen=\"\"\n",
    "for i in xrange(0,256):\n",
    "    sign=True\n",
    "    for j in miwen:\n",
    "        mingwenint=(ord(j)^i)\n",
    "        #if mingwenint>32 and mingwenint<128:\n",
    "        if mingwenint>47 and mingwenint<127:\n",
    "            mingwen+=chr(mingwenint)\n",
    "        else:\n",
    "            sign=False\n",
    "            break\n",
    "    if sign:\n",
    "        print mingwen\n",
    "    mingwen=\"\""
   ]
  },
  {
   "cell_type": "code",
   "execution_count": 14,
   "metadata": {},
   "outputs": [
    {
     "data": {
      "text/plain": [
       "'}'"
      ]
     },
     "execution_count": 14,
     "metadata": {},
     "output_type": "execute_result"
    }
   ],
   "source": [
    "chr(125)"
   ]
  },
  {
   "cell_type": "code",
   "execution_count": 22,
   "metadata": {},
   "outputs": [
    {
     "name": "stdout",
     "output_type": "stream",
     "text": [
      "(32, ' ')\n",
      "(33, '!')\n",
      "(34, '\"')\n",
      "(35, '#')\n",
      "(36, '$')\n",
      "(37, '%')\n",
      "(38, '&')\n",
      "(39, \"'\")\n",
      "(40, '(')\n",
      "(41, ')')\n",
      "(42, '*')\n",
      "(43, '+')\n",
      "(44, ',')\n",
      "(45, '-')\n",
      "(46, '.')\n",
      "(47, '/')\n",
      "(48, '0')\n",
      "(49, '1')\n",
      "(50, '2')\n",
      "(51, '3')\n",
      "(52, '4')\n",
      "(53, '5')\n",
      "(54, '6')\n",
      "(55, '7')\n",
      "(56, '8')\n",
      "(57, '9')\n",
      "(58, ':')\n",
      "(59, ';')\n",
      "(60, '<')\n",
      "(61, '=')\n",
      "(62, '>')\n",
      "(63, '?')\n",
      "(64, '@')\n",
      "(65, 'A')\n",
      "(66, 'B')\n",
      "(67, 'C')\n",
      "(68, 'D')\n",
      "(69, 'E')\n",
      "(70, 'F')\n",
      "(71, 'G')\n",
      "(72, 'H')\n",
      "(73, 'I')\n",
      "(74, 'J')\n",
      "(75, 'K')\n",
      "(76, 'L')\n",
      "(77, 'M')\n",
      "(78, 'N')\n",
      "(79, 'O')\n",
      "(80, 'P')\n",
      "(81, 'Q')\n",
      "(82, 'R')\n",
      "(83, 'S')\n",
      "(84, 'T')\n",
      "(85, 'U')\n",
      "(86, 'V')\n",
      "(87, 'W')\n",
      "(88, 'X')\n",
      "(89, 'Y')\n",
      "(90, 'Z')\n",
      "(91, '[')\n",
      "(92, '\\\\')\n",
      "(93, ']')\n",
      "(94, '^')\n",
      "(95, '_')\n",
      "(96, '`')\n",
      "(97, 'a')\n",
      "(98, 'b')\n",
      "(99, 'c')\n",
      "(100, 'd')\n",
      "(101, 'e')\n",
      "(102, 'f')\n",
      "(103, 'g')\n",
      "(104, 'h')\n",
      "(105, 'i')\n",
      "(106, 'j')\n",
      "(107, 'k')\n",
      "(108, 'l')\n",
      "(109, 'm')\n",
      "(110, 'n')\n",
      "(111, 'o')\n",
      "(112, 'p')\n",
      "(113, 'q')\n",
      "(114, 'r')\n",
      "(115, 's')\n",
      "(116, 't')\n",
      "(117, 'u')\n",
      "(118, 'v')\n",
      "(119, 'w')\n",
      "(120, 'x')\n",
      "(121, 'y')\n",
      "(122, 'z')\n",
      "(123, '{')\n",
      "(124, '|')\n",
      "(125, '}')\n"
     ]
    }
   ],
   "source": [
    "for i in range(32,126):\n",
    "    print(i,chr(i))"
   ]
  },
  {
   "cell_type": "code",
   "execution_count": null,
   "metadata": {},
   "outputs": [],
   "source": []
  }
 ],
 "metadata": {
  "kernelspec": {
   "display_name": "Python 2",
   "language": "python",
   "name": "python2"
  },
  "language_info": {
   "codemirror_mode": {
    "name": "ipython",
    "version": 2
   },
   "file_extension": ".py",
   "mimetype": "text/x-python",
   "name": "python",
   "nbconvert_exporter": "python",
   "pygments_lexer": "ipython2",
   "version": "2.7.15+"
  }
 },
 "nbformat": 4,
 "nbformat_minor": 2
}
