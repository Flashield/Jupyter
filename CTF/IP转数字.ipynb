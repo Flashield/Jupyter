{
 "cells": [
  {
   "cell_type": "code",
   "execution_count": 3,
   "metadata": {},
   "outputs": [
    {
     "name": "stdout",
     "output_type": "stream",
     "text": [
      "2130706433\n",
      "127.0.0.1\n"
     ]
    }
   ],
   "source": [
    "import socket\n",
    "import struct\n",
    "ip = '127.0.0.1'\n",
    "Long=socket.ntohl(struct.unpack(\"I\",socket.inet_aton(str(ip)))[0])\n",
    "print(Long)\n",
    "print(socket.inet_ntoa(struct.pack('I',socket.htonl(Long))))"
   ]
  },
  {
   "cell_type": "code",
   "execution_count": null,
   "metadata": {},
   "outputs": [],
   "source": []
  }
 ],
 "metadata": {
  "kernelspec": {
   "display_name": "Python 3",
   "language": "python",
   "name": "python3"
  },
  "language_info": {
   "codemirror_mode": {
    "name": "ipython",
    "version": 3
   },
   "file_extension": ".py",
   "mimetype": "text/x-python",
   "name": "python",
   "nbconvert_exporter": "python",
   "pygments_lexer": "ipython3",
   "version": "3.5.2"
  }
 },
 "nbformat": 4,
 "nbformat_minor": 2
}
