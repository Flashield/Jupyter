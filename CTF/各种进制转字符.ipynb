{
 "cells": [
  {
   "cell_type": "code",
   "execution_count": 1,
   "metadata": {},
   "outputs": [
    {
     "name": "stdout",
     "output_type": "stream",
     "text": [
      "531812496966249028856658281305062781\n",
      "0x666c61677be5a4a7e5aeb6e5a5bd7d\n",
      "666c61677be5a4a7e5aeb6e5a5bd7d\n",
      "flag{大家好}\n"
     ]
    }
   ],
   "source": [
    "#string='0110011001101100011000010110011101111011001101000100010001010011010111110011000101101110010111110100010000110001011100110110101101111101'\n",
    "string='0b11001100110110001100001011001110111101111100101101001001010011111100101101011101011011011100101101001011011110101111101'\n",
    "#二进制转换\n",
    "print(int(string,2))\n",
    "print(hex(int(string,2)))\n",
    "print(str(hex(int(string,2)))[2:])\n",
    "k=bytes.fromhex(str(hex(int(string,2)))[2:])\n",
    "print(k.decode(encoding='utf-8',errors='ignore'))"
   ]
  },
  {
   "cell_type": "code",
   "execution_count": 2,
   "metadata": {},
   "outputs": [
    {
     "name": "stdout",
     "output_type": "stream",
     "text": [
      "flag{大家好}\n",
      "bytes: b'flag{\\xe5\\xa4\\xa7\\xe5\\xae\\xb6\\xe5\\xa5\\xbd}'\n",
      "hex: 666c61677be5a4a7e5aeb6e5a5bd7d\n",
      "bin: 0b11001100110110001100001011001110111101111100101101001001010011111100101101011101011011011100101101001011011110101111101\n"
     ]
    },
    {
     "data": {
      "text/plain": [
       "str"
      ]
     },
     "execution_count": 2,
     "metadata": {},
     "output_type": "execute_result"
    }
   ],
   "source": [
    "a='flag{大家好}'\n",
    "k = a.encode(encoding='utf-8')\n",
    "print(k.decode(encoding='utf-8'))\n",
    "b=bytes(k)\n",
    "print('bytes:',b)\n",
    "print('hex:',b.hex())\n",
    "print('bin:',bin(int(b.hex(),16)))\n",
    "type(b.hex())"
   ]
  },
  {
   "cell_type": "code",
   "execution_count": 9,
   "metadata": {},
   "outputs": [
    {
     "name": "stdout",
     "output_type": "stream",
     "text": [
      "13040004482822401464552733648616657709511161604695918727799154815817176273065072125441828221 2\n"
     ]
    },
    {
     "ename": "TypeError",
     "evalue": "'NoneType' object is not subscriptable",
     "output_type": "error",
     "traceback": [
      "\u001b[0;31m---------------------------------------------------------------------------\u001b[0m",
      "\u001b[0;31mTypeError\u001b[0m                                 Traceback (most recent call last)",
      "\u001b[0;32m<ipython-input-9-f612b1c71e58>\u001b[0m in \u001b[0;36m<module>\u001b[0;34m()\u001b[0m\n\u001b[0;32m----> 1\u001b[0;31m \u001b[0mprint\u001b[0m\u001b[0;34m(\u001b[0m\u001b[0mstr\u001b[0m\u001b[0;34m(\u001b[0m\u001b[0;36m0x666C61677B496B65697237754E6769616768697A69654331636861653274686165355261657D\u001b[0m\u001b[0;34m)\u001b[0m\u001b[0;34m,\u001b[0m\u001b[0;36m2\u001b[0m\u001b[0;34m)\u001b[0m\u001b[0;34m[\u001b[0m\u001b[0;36m2\u001b[0m\u001b[0;34m:\u001b[0m\u001b[0;34m]\u001b[0m\u001b[0;34m\u001b[0m\u001b[0;34m\u001b[0m\u001b[0m\n\u001b[0m",
      "\u001b[0;31mTypeError\u001b[0m: 'NoneType' object is not subscriptable"
     ]
    }
   ],
   "source": [
    "print(str(0x666C61677B496B65697237754E6769616768697A69654331636861653274686165355261657D),2)[2:]"
   ]
  },
  {
   "cell_type": "code",
   "execution_count": 12,
   "metadata": {},
   "outputs": [],
   "source": [
    "k = hex(int(string,2))"
   ]
  },
  {
   "cell_type": "code",
   "execution_count": 1,
   "metadata": {},
   "outputs": [
    {
     "data": {
      "text/plain": [
       "b'is_not_real'"
      ]
     },
     "execution_count": 1,
     "metadata": {},
     "output_type": "execute_result"
    }
   ],
   "source": [
    "bytes.fromhex('69735f6e6f745f7265616c')"
   ]
  },
  {
   "cell_type": "code",
   "execution_count": 13,
   "metadata": {},
   "outputs": [
    {
     "data": {
      "text/plain": [
       "str"
      ]
     },
     "execution_count": 13,
     "metadata": {},
     "output_type": "execute_result"
    }
   ],
   "source": [
    "type(k)"
   ]
  }
 ],
 "metadata": {
  "kernelspec": {
   "display_name": "Python 3",
   "language": "python",
   "name": "python3"
  },
  "language_info": {
   "codemirror_mode": {
    "name": "ipython",
    "version": 3
   },
   "file_extension": ".py",
   "mimetype": "text/x-python",
   "name": "python",
   "nbconvert_exporter": "python",
   "pygments_lexer": "ipython3",
   "version": "3.6.9"
  }
 },
 "nbformat": 4,
 "nbformat_minor": 2
}
