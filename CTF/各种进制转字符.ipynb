{
 "cells": [
  {
   "cell_type": "code",
   "execution_count": 22,
   "metadata": {},
   "outputs": [
    {
     "name": "stdout",
     "output_type": "stream",
     "text": [
      "531812496966249028856658281305062781\n",
      "0x666c61677be5a4a7e5aeb6e5a5bd7d\n",
      "666c61677be5a4a7e5aeb6e5a5bd7d\n",
      "flag{大家好}\n"
     ]
    }
   ],
   "source": [
    "#string='0110011001101100011000010110011101111011001101000100010001010011010111110011000101101110010111110100010000110001011100110110101101111101'\n",
    "string='0b11001100110110001100001011001110111101111100101101001001010011111100101101011101011011011100101101001011011110101111101'\n",
    "#二进制转换\n",
    "print(int(string,2))\n",
    "print(hex(int(string,2)))\n",
    "print(str(hex(int(string,2)))[2:])\n",
    "k=bytes.fromhex(str(hex(int(string,2)))[2:])\n",
    "print(k.decode(encoding='utf-8',errors='ignore'))"
   ]
  },
  {
   "cell_type": "code",
   "execution_count": 21,
   "metadata": {},
   "outputs": [
    {
     "name": "stdout",
     "output_type": "stream",
     "text": [
      "flag{大家好}\n",
      "bytes: b'flag{\\xe5\\xa4\\xa7\\xe5\\xae\\xb6\\xe5\\xa5\\xbd}'\n",
      "hex: 666c61677be5a4a7e5aeb6e5a5bd7d\n",
      "bin: 0b11001100110110001100001011001110111101111100101101001001010011111100101101011101011011011100101101001011011110101111101\n"
     ]
    },
    {
     "data": {
      "text/plain": [
       "str"
      ]
     },
     "execution_count": 21,
     "metadata": {},
     "output_type": "execute_result"
    }
   ],
   "source": [
    "a='flag{大家好}'\n",
    "k = a.encode(encoding='utf-8')\n",
    "print(k.decode(encoding='utf-8'))\n",
    "b=bytes(k)\n",
    "print('bytes:',b)\n",
    "print('hex:',b.hex())\n",
    "print('bin:',bin(int(b.hex(),16)))\n",
    "type(b.hex())"
   ]
  },
  {
   "cell_type": "code",
   "execution_count": 4,
   "metadata": {},
   "outputs": [
    {
     "ename": "ValueError",
     "evalue": "invalid literal for int() with base 16: b'\\xe7\\x99\\xbd\\xe5\\xad\\xa6\\xe5\\xae\\xb6'",
     "output_type": "error",
     "traceback": [
      "\u001b[0;31m---------------------------------------------------------------------------\u001b[0m",
      "\u001b[0;31mValueError\u001b[0m                                Traceback (most recent call last)",
      "\u001b[0;32m<ipython-input-4-b2e9f1e8c169>\u001b[0m in \u001b[0;36m<module>\u001b[0;34m()\u001b[0m\n\u001b[0;32m----> 1\u001b[0;31m \u001b[0mint\u001b[0m\u001b[0;34m(\u001b[0m\u001b[0mk\u001b[0m\u001b[0;34m,\u001b[0m\u001b[0;36m16\u001b[0m\u001b[0;34m)\u001b[0m\u001b[0;34m\u001b[0m\u001b[0;34m\u001b[0m\u001b[0m\n\u001b[0m",
      "\u001b[0;31mValueError\u001b[0m: invalid literal for int() with base 16: b'\\xe7\\x99\\xbd\\xe5\\xad\\xa6\\xe5\\xae\\xb6'"
     ]
    }
   ],
   "source": [
    "int(k,16)"
   ]
  }
 ],
 "metadata": {
  "kernelspec": {
   "display_name": "Python 3",
   "language": "python",
   "name": "python3"
  },
  "language_info": {
   "codemirror_mode": {
    "name": "ipython",
    "version": 3
   },
   "file_extension": ".py",
   "mimetype": "text/x-python",
   "name": "python",
   "nbconvert_exporter": "python",
   "pygments_lexer": "ipython3",
   "version": "3.7.4"
  }
 },
 "nbformat": 4,
 "nbformat_minor": 2
}
