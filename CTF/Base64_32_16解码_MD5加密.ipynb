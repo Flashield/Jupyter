{
 "cells": [
  {
   "cell_type": "code",
   "execution_count": 5,
   "metadata": {},
   "outputs": [
    {
     "name": "stdout",
     "output_type": "stream",
     "text": [
      "需要解密的字符串：ZmxhZ3s1YTcyODZiZmRmMzAyZTRiZGQ5MTE3ZmU3MGViMzQ1M30=\n",
      "Base64解码:b'flag{5a7286bfdf302e4bdd9117fe70eb3453}'\n",
      "Base32解码错误:Incorrect padding\n",
      "Base16解码错误:Non-base16 digit found\n"
     ]
    }
   ],
   "source": [
    "import base64\n",
    "\n",
    "String = input(\"需要解密的字符串：\")\n",
    "try:\n",
    "    print(\"Base64解码:{}\".format(base64.b64decode(String)))\n",
    "except Exception as ex:\n",
    "    print(\"Base64解码错误:{}\".format(ex))\n",
    "\n",
    "try:\n",
    "    print(\"Base32解码:{}\".format(base64.b32decode(String)))\n",
    "except Exception as ex:\n",
    "    print(\"Base32解码错误:{}\".format(ex))\n",
    "    \n",
    "try:\n",
    "    print(\"Base16解码:{}\".format(base64.b16decode(String)))\n",
    "except Exception as ex:\n",
    "    print(\"Base16解码错误:{}\".format(ex))"
   ]
  },
  {
   "cell_type": "code",
   "execution_count": 12,
   "metadata": {},
   "outputs": [
    {
     "name": "stdout",
     "output_type": "stream",
     "text": [
      "需要加密的字符串：1\n",
      "MD5加密结果:c4ca4238a0b923820dcc509a6f75849b\n"
     ]
    }
   ],
   "source": [
    "import hashlib\n",
    "\n",
    "String = input(\"需要加密的字符串：\")\n",
    "EnString = hashlib.md5()\n",
    "EnString.update(String.encode(encoding='utf-8'))\n",
    "print(\"MD5加密结果:{}\".format(EnString.hexdigest()))"
   ]
  },
  {
   "cell_type": "code",
   "execution_count": 3,
   "metadata": {},
   "outputs": [
    {
     "name": "stdout",
     "output_type": "stream",
     "text": [
      "b'ewogImNlbGxzIjogWwogIHsKICAgImNlbGxfdHlwZSI6ICJjb2RlIiwKICAgImV4ZWN1dGlvbl9jb3VudCI6IDMsCiAgICJtZXRhZGF0YSI6IHt9LAogICAib3V0cHV0cyI6IFsKICAgIHsKICAgICAibmFtZSI6ICJzdGRvdXQiLAogICAgICJvdXRwdXRfdHlwZSI6ICJzdHJlYW0iLAogICAgICJ0ZXh0IjogWwogICAgICAiMS45LjAKIgogICAgIF0KICAgIH0KICAgXSwKICAgInNvdXJjZSI6IFsKICAgICJpbXBvcnQgdGVuc29yZmxvdyBhcyB0ZgoiLAogICAgInByaW50KHRmLl9fdmVyc2lvbl9fKSIKICAgXQogIH0sCiAgewogICAiY2VsbF90eXBlIjogImNvZGUiLAogICAiZXhlY3V0aW9uX2NvdW50IjogbnVsbCwKICAgIm1ldGFkYXRhIjoge30sCiAgICJvdXRwdXRzIjogW10sCiAgICJzb3VyY2UiOiBbXQogIH0KIF0sCiAibWV0YWRhdGEiOiB7CiAgImtlcm5lbHNwZWMiOiB7CiAgICJkaXNwbGF5X25hbWUiOiAiUHl0aG9uIDMiLAogICAibGFuZ3VhZ2UiOiAicHl0aG9uIiwKICAgIm5hbWUiOiAicHl0aG9uMyIKICB9LAogICJsYW5ndWFnZV9pbmZvIjogewogICAiY29kZW1pcnJvcl9tb2RlIjogewogICAgIm5hbWUiOiAiaXB5dGhvbiIsCiAgICAidmVyc2lvbiI6IDMKICAgfSwKICAgImZpbGVfZXh0ZW5zaW9uIjogIi5weSIsCiAgICJtaW1ldHlwZSI6ICJ0ZXh0L3gtcHl0aG9uIiwKICAgIm5hbWUiOiAicHl0aG9uIiwKICAgIm5iY29udmVydF9leHBvcnRlciI6ICJweXRob24iLAogICAicHlnbWVudHNfbGV4ZXIiOiAiaXB5dGhvbjMiLAogICAidmVyc2lvbiI6ICIzLjUuMiIKICB9CiB9LAogIm5iZm9ybWF0IjogNCwKICJuYmZvcm1hdF9taW5vciI6IDIKfQo='\n"
     ]
    }
   ],
   "source": [
    "str1=b'''{\n",
    " \"cells\": [\n",
    "  {\n",
    "   \"cell_type\": \"code\",\n",
    "   \"execution_count\": 3,\n",
    "   \"metadata\": {},\n",
    "   \"outputs\": [\n",
    "    {\n",
    "     \"name\": \"stdout\",\n",
    "     \"output_type\": \"stream\",\n",
    "     \"text\": [\n",
    "      \"1.9.0\\n\"\n",
    "     ]\n",
    "    }\n",
    "   ],\n",
    "   \"source\": [\n",
    "    \"import tensorflow as tf\\n\",\n",
    "    \"print(tf.__version__)\"\n",
    "   ]\n",
    "  },\n",
    "  {\n",
    "   \"cell_type\": \"code\",\n",
    "   \"execution_count\": null,\n",
    "   \"metadata\": {},\n",
    "   \"outputs\": [],\n",
    "   \"source\": []\n",
    "  }\n",
    " ],\n",
    " \"metadata\": {\n",
    "  \"kernelspec\": {\n",
    "   \"display_name\": \"Python 3\",\n",
    "   \"language\": \"python\",\n",
    "   \"name\": \"python3\"\n",
    "  },\n",
    "  \"language_info\": {\n",
    "   \"codemirror_mode\": {\n",
    "    \"name\": \"ipython\",\n",
    "    \"version\": 3\n",
    "   },\n",
    "   \"file_extension\": \".py\",\n",
    "   \"mimetype\": \"text/x-python\",\n",
    "   \"name\": \"python\",\n",
    "   \"nbconvert_exporter\": \"python\",\n",
    "   \"pygments_lexer\": \"ipython3\",\n",
    "   \"version\": \"3.5.2\"\n",
    "  }\n",
    " },\n",
    " \"nbformat\": 4,\n",
    " \"nbformat_minor\": 2\n",
    "}\n",
    "'''\n",
    "print(base64.b64encode(str1))"
   ]
  },
  {
   "cell_type": "code",
   "execution_count": 60,
   "metadata": {},
   "outputs": [],
   "source": [
    "a=b\"\\xe6\\xb1\\x89\\xe5\\xad\\x97\""
   ]
  },
  {
   "cell_type": "code",
   "execution_count": 62,
   "metadata": {},
   "outputs": [
    {
     "data": {
      "text/plain": [
       "'汉字'"
      ]
     },
     "execution_count": 62,
     "metadata": {},
     "output_type": "execute_result"
    }
   ],
   "source": [
    "a.decode(encoding='utf-8')"
   ]
  },
  {
   "cell_type": "code",
   "execution_count": 54,
   "metadata": {},
   "outputs": [],
   "source": [
    "b='汉字'"
   ]
  },
  {
   "cell_type": "code",
   "execution_count": 55,
   "metadata": {},
   "outputs": [
    {
     "data": {
      "text/plain": [
       "b'\\xe6\\xb1\\x89\\xe5\\xad\\x97'"
      ]
     },
     "execution_count": 55,
     "metadata": {},
     "output_type": "execute_result"
    }
   ],
   "source": [
    "b.encode('UTF-8')"
   ]
  },
  {
   "cell_type": "code",
   "execution_count": 8,
   "metadata": {},
   "outputs": [],
   "source": [
    "a='=aGQ0MzBkfXVjpqYmR3ZTE4bnNnJuam51M2hzOWFia2cHBz'"
   ]
  },
  {
   "cell_type": "code",
   "execution_count": 17,
   "metadata": {},
   "outputs": [
    {
     "data": {
      "text/plain": [
       "102"
      ]
     },
     "execution_count": 17,
     "metadata": {},
     "output_type": "execute_result"
    }
   ],
   "source": [
    "ord('f')"
   ]
  },
  {
   "cell_type": "code",
   "execution_count": 5,
   "metadata": {},
   "outputs": [],
   "source": [
    "a=b'\\x00\\n\\x07\\x01\\x1dW \\'\"_R%^ TTQT#$Q$TPW%\\'US\\'PW \"#W^\\x1b'"
   ]
  },
  {
   "cell_type": "code",
   "execution_count": 11,
   "metadata": {},
   "outputs": [
    {
     "data": {
      "text/plain": [
       "'<!DOCTYPE html>\\n<html lang=\"en\" >\\n\\n<head>\\n  <meta charset=\"UTF-8\">\\n  <title>Upload Form</title>\\n\\n    <link rel=\"stylesheet\" href=\"https://cdnjs.cloudflare.com/ajax/libs/meyer-reset/2.0/reset.min.css\">\\n\\n  <link rel=\\'stylesheet\\' href=\\'https://fonts.googleapis.com/css?family=Roboto:400,100,300,500,700,900\\'>\\n<link rel=\\'stylesheet\\' href=\\'https://fonts.googleapis.com/css?family=Montserrat:400,700\\'>\\n<link rel=\\'stylesheet\\' href=\\'https://maxcdn.bootstrapcdn.com/font-awesome/4.3.0/css/font-awesome.min.css\\'>\\n\\n      <link rel=\"stylesheet\" href=\"css/style.css\">\\n\\n\\n</head>\\n\\n<body>\\n<?php\\n    $error = \"\";\\n    $exts = array(\"jpg\",\"png\",\"gif\",\"jpeg\");\\n    if(!empty($_FILES[\"image\"]))\\n    {\\n        $temp = explode(\".\", $_FILES[\"image\"][\"name\"]);\\n        $extension = end($temp);\\n        if((@$_upfileS[\"image\"][\"size\"] < 102400))\\n        {\\n            if(in_array($extension,$exts)){\\n              $path = \"uploads/\".md5($temp[0].time()).\".\".$extension;\\n              move_uploaded_file($_FILES[\"image\"][\"tmp_name\"], $path);\\n              $error = \"上传成功!\";\\n            }\\n        else{\\n            $error = \"上传失败！\";\\n        }\\n\\n        }else{\\n          $error = \"文件过大，上传失败！\";\\n        }\\n    }\\n\\n?>\\n<div class=\"form\">\\n  <div class=\"thumbnail\"><img src=\"hat.svg\"/></div>\\n  <form class=\"login-form\" action=\"\" method=\"post\" enctype=\"multipart/form-data\">\\n    <input type=\"file\" name=\"image\" placeholder=\"image\"/>\\n    <button type=\"submit\">login</button>\\n  </form>\\n  <?php echo $error;?>\\n</div>\\n<script src=\\'http://cdnjs.cloudflare.com/ajax/libs/jquery/2.1.3/jquery.min.js\\'></script>\\n\\n\\n\\n<script  src=\"js/index.js\"></script>\\n\\n\\n\\n\\n</body>\\n\\n</html>\\n'"
      ]
     },
     "execution_count": 11,
     "metadata": {},
     "output_type": "execute_result"
    }
   ],
   "source": [
    "a=base64.b64decode(String)\n",
    "a.decode(encoding='utf-8')"
   ]
  },
  {
   "cell_type": "code",
   "execution_count": null,
   "metadata": {},
   "outputs": [],
   "source": []
  }
 ],
 "metadata": {
  "kernelspec": {
   "display_name": "Python 3",
   "language": "python",
   "name": "python3"
  },
  "language_info": {
   "codemirror_mode": {
    "name": "ipython",
    "version": 3
   },
   "file_extension": ".py",
   "mimetype": "text/x-python",
   "name": "python",
   "nbconvert_exporter": "python",
   "pygments_lexer": "ipython3",
   "version": "3.7.4"
  }
 },
 "nbformat": 4,
 "nbformat_minor": 2
}
