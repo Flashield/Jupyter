{
 "cells": [
  {
   "cell_type": "code",
   "execution_count": 38,
   "metadata": {},
   "outputs": [],
   "source": [
    "import binascii\n",
    "\n",
    "def crc32(s):\n",
    "    crc32=\"00000000\"+str(hex(binascii.crc32(s)& 0xffffffff )[2:])\n",
    "    return crc32[len(crc32)-8:len(crc32)].upper()"
   ]
  },
  {
   "cell_type": "code",
   "execution_count": 40,
   "metadata": {},
   "outputs": [],
   "source": [
    "payloads = 'ABCDEFGHIJKLMNOPQRSTUVWXYZabcdefghijklmnopqrstuvwxyz0123456789@_.}{'\n",
    "for i in payloads:\n",
    "    if crc32(i.encode(encoding='utf-8')).find('76D32BE0')>0:\n",
    "        print(i)"
   ]
  },
  {
   "cell_type": "code",
   "execution_count": 41,
   "metadata": {
    "scrolled": true
   },
   "outputs": [
    {
     "name": "stdout",
     "output_type": "stream",
     "text": [
      "la\n"
     ]
    }
   ],
   "source": [
    "for i in payloads:\n",
    "    for j in payloads:\n",
    "        k=i+j\n",
    "        if crc32(k.encode(encoding='utf-8'))=='B224679A':\n",
    "            print(k)"
   ]
  },
  {
   "cell_type": "code",
   "execution_count": 42,
   "metadata": {},
   "outputs": [
    {
     "name": "stdout",
     "output_type": "stream",
     "text": [
      "g{7\n"
     ]
    }
   ],
   "source": [
    "for i1 in payloads:\n",
    "    for i2 in payloads:\n",
    "        for i3 in payloads:\n",
    "            k=i1+i2+i3\n",
    "            if crc32(k.encode(encoding='utf-8'))=='C6AF0185':\n",
    "                print(k)"
   ]
  },
  {
   "cell_type": "code",
   "execution_count": null,
   "metadata": {},
   "outputs": [],
   "source": [
    "for i1 in payloads:\n",
    "    for i2 in payloads:\n",
    "        for i3 in payloads:\n",
    "            for i4 in payloads:\n",
    "                k=i1+i2+i3+i4\n",
    "                if crc32(k.encode(encoding='utf-8'))=='48A40D43':\n",
    "                    print(k)"
   ]
  },
  {
   "cell_type": "code",
   "execution_count": null,
   "metadata": {},
   "outputs": [],
   "source": []
  },
  {
   "cell_type": "code",
   "execution_count": 39,
   "metadata": {},
   "outputs": [
    {
     "name": "stdout",
     "output_type": "stream",
     "text": [
      "76D32BE0\n",
      "E8B7BE43\n"
     ]
    },
    {
     "data": {
      "text/plain": [
       "'bc'"
      ]
     },
     "execution_count": 39,
     "metadata": {},
     "output_type": "execute_result"
    }
   ],
   "source": [
    "print(crc32('f'.encode(encoding='GBK')))\n",
    "flag='abcdefg'\n",
    "print(crc32(flag[0:1].encode(encoding='utf-8')))\n",
    "flag[0:1]\n",
    "flag[1:3]"
   ]
  }
 ],
 "metadata": {
  "kernelspec": {
   "display_name": "Python 3",
   "language": "python",
   "name": "python3"
  },
  "language_info": {
   "codemirror_mode": {
    "name": "ipython",
    "version": 3
   },
   "file_extension": ".py",
   "mimetype": "text/x-python",
   "name": "python",
   "nbconvert_exporter": "python",
   "pygments_lexer": "ipython3",
   "version": "3.6.6"
  }
 },
 "nbformat": 4,
 "nbformat_minor": 2
}
