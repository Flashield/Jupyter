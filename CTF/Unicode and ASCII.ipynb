{
 "cells": [
  {
   "cell_type": "code",
   "execution_count": 1,
   "metadata": {},
   "outputs": [
    {
     "name": "stdout",
     "output_type": "stream",
     "text": [
      "f\n"
     ]
    }
   ],
   "source": [
    "chr(102)\n",
    "k='&#102'\n",
    "print(chr(int(k.replace('&#',''))))"
   ]
  },
  {
   "cell_type": "code",
   "execution_count": 2,
   "metadata": {},
   "outputs": [],
   "source": [
    "a='&#102;&#49;&#97;&#103;&#123;&#115;&#105;&#49;&#49;&#121;&#98;&#48;&#121;&#101;&#109;&#109;&#109;&#125;'"
   ]
  },
  {
   "cell_type": "code",
   "execution_count": 3,
   "metadata": {},
   "outputs": [
    {
     "name": "stdout",
     "output_type": "stream",
     "text": [
      "['&#102', '&#49', '&#97', '&#103', '&#123', '&#115', '&#105', '&#49', '&#49', '&#121', '&#98', '&#48', '&#121', '&#101', '&#109', '&#109', '&#109', '&#125', '']\n"
     ]
    }
   ],
   "source": [
    "b=a.split(';')\n",
    "print(b)"
   ]
  },
  {
   "cell_type": "code",
   "execution_count": 4,
   "metadata": {},
   "outputs": [
    {
     "name": "stdout",
     "output_type": "stream",
     "text": [
      "f1ag{si11yb0yemmm}"
     ]
    }
   ],
   "source": [
    "for i in b[:-1]:\n",
    "    print(chr(int(i.replace('&#',''))),end='')"
   ]
  },
  {
   "cell_type": "code",
   "execution_count": 5,
   "metadata": {},
   "outputs": [
    {
     "name": "stdout",
     "output_type": "stream",
     "text": [
      "b'flag_is_here{2e4b1024a7c8c542719c67a0dfc3f420.php}'\n"
     ]
    }
   ],
   "source": [
    "a='666c61675f69735f686572657b32653462313032346137633863353432373139633637613064666333663432302e7068707d'\n",
    "b=bytes.fromhex(a)\n",
    "print(b)"
   ]
  },
  {
   "cell_type": "code",
   "execution_count": null,
   "metadata": {},
   "outputs": [],
   "source": []
  }
 ],
 "metadata": {
  "kernelspec": {
   "display_name": "Python 3",
   "language": "python",
   "name": "python3"
  },
  "language_info": {
   "codemirror_mode": {
    "name": "ipython",
    "version": 3
   },
   "file_extension": ".py",
   "mimetype": "text/x-python",
   "name": "python",
   "nbconvert_exporter": "python",
   "pygments_lexer": "ipython3",
   "version": "3.7.4"
  }
 },
 "nbformat": 4,
 "nbformat_minor": 2
}
