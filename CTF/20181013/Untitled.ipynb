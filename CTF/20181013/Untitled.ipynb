{
 "cells": [
  {
   "cell_type": "code",
   "execution_count": 2,
   "metadata": {},
   "outputs": [],
   "source": [
    "a='945035db9e6015a0c496c8dae3c3dba05c0026be417a947241e715021b08264b'"
   ]
  },
  {
   "cell_type": "code",
   "execution_count": 11,
   "metadata": {},
   "outputs": [
    {
     "name": "stdout",
     "output_type": "stream",
     "text": [
      "b'\\x94P5\\xdb\\x9e`\\x15\\xa0\\xc4\\x96\\xc8\\xda\\xe3\\xc3\\xdb\\xa0\\\\\\x00&\\xbeAz\\x94rA\\xe7\\x15\\x02\\x1b\\x08&K'\n",
      "32\n"
     ]
    }
   ],
   "source": [
    "b=bytes.fromhex(a)\n",
    "print(b)\n",
    "print(len(b))"
   ]
  },
  {
   "cell_type": "code",
   "execution_count": 13,
   "metadata": {},
   "outputs": [
    {
     "name": "stdout",
     "output_type": "stream",
     "text": [
      "í)L¢ç\u0019lÙ½ï±£º¢Ù%y_Ç8\u0003í\u000b",
      "8l{bq_2ý9\\²÷\t|É­ÿ¡³ª²É5iO×(\u0013ý\u001b(|kraO\"ç#F¨í\u0013fÓ·å»©°¨Ó/sUÍ2\tç\u00012fqh{U8ä E«î\u0010eÐ´æ¸ª³«Ð,pVÎ1\n",
      "ä\u00021erkxV;í)L¢ç\u0019lÙ½ï±£º¢Ù%y_Ç8\u0003í\u000b",
      "8l{bq_2ã'B¬é\u0017b×³á¿­´¬×+wQÉ6\r",
      "ã\u00056bulQ<ñ5P¾û\u0005pÅ¡ó­¿¦¾Å9eCÛ$\u001fñ\u0017$pg~mC.ý9\\²÷\t|É­ÿ¡³ª²É5iO×(\u0013ý\u001b(|kraO\"ç#F¨í\u0013fÓ·å»©°¨Ó/sUÍ2\tç\u00012fqh{U8ñ5P¾û\u0005pÅ¡ó­¿¦¾Å9eCÛ$\u001fñ\u0017$pg~mC.µq\u0014ú¿A4å·éûÂâú}!\u0007`[µS`Æ4#:)\u0007jð4Q¿ú\u0004qÄ ò¬¾§¿Ä8dBÚ%\u001e",
      "ð\u0016%qflB/ù=X¶ó\r",
      "xÍ©û¥·®¶Í1mKÓ,\u0017ù\u001f,xoveK&ç#F¨í\u0013fÓ·å»©°¨Ó/sUÍ2\tç\u00012fqh{U8ì(M£æ\u0018mØ¼î°¢»£Ø$x^Æ9\u0002ì\n",
      "9mzcp^3Ë\u000fjÁ?JÿÉ",
      "¼ÿ\u0003_yá\u001e",
      "%Ë-\u001e",
      "¸J]DWy\u0014à$A¯ê\u0014aÔ°â¼®·¯Ô(tRÊ5\u000eà\u00065avo|R?à$A¯ê\u0014aÔ°â¼®·¯Ô(tRÊ5\u000eà\u00065avo|R?ü8]³ö\b}È¬þ ²«³È4hNÖ)\u0012ü\u001a)}js`N#â&C­è\u0016cÖ²à¾¬µ­Ö*vPÈ7\f",
      "â\u00047ctm~P=Ë\u000fjÁ?JÿÉ",
      "¼ÿ\u0003_yá\u001e",
      "%Ë-\u001e",
      "¸J]DWy\u0014õ1Tºÿ\u0001tÁ¥÷©»¢ºÁ=aGß \u001bõ\u0013 tcziG*æ\"G©ì\u0012gÒ¶äº¨±©Ò.rTÌ3\bæ\u00003gpizT9æ\"G©ì\u0012gÒ¶äº¨±©Ò.rTÌ3\bæ\u00003gpizT9Ë\u000fjÁ?JÿÉ",
      "¼ÿ\u0003_yá\u001e",
      "%Ë-\u001e",
      "¸J]DWy\u0014ð4Q¿ú\u0004qÄ ò¬¾§¿Ä8dBÚ%\u001e",
      "ð\u0016%qflB/ý9\\²÷\t|É­ÿ¡³ª²É5iO×(\u0013ý\u001b(|kraO\"ð4Q¿ú\u0004qÄ ò¬¾§¿Ä8dBÚ%\u001e",
      "ð\u0016%qflB/â&C­è\u0016cÖ²à¾¬µ­Ö*vPÈ7\f",
      "â\u00047ctm~P=ý9\\²÷\t|É­ÿ¡³ª²É5iO×(\u0013ý\u001b(|kraO\""
     ]
    },
    {
     "ename": "TypeError",
     "evalue": "unsupported operand type(s) for ^: 'bytes' and 'bytes'",
     "output_type": "error",
     "traceback": [
      "\u001b[0;31m---------------------------------------------------------------------------\u001b[0m",
      "\u001b[0;31mTypeError\u001b[0m                                 Traceback (most recent call last)",
      "\u001b[0;32m<ipython-input-13-b3d93daf9ad9>\u001b[0m in \u001b[0;36m<module>\u001b[0;34m()\u001b[0m\n\u001b[1;32m      2\u001b[0m     \u001b[0;32mfor\u001b[0m \u001b[0mj\u001b[0m \u001b[0;32min\u001b[0m \u001b[0mb\u001b[0m\u001b[0;34m:\u001b[0m\u001b[0;34m\u001b[0m\u001b[0m\n\u001b[1;32m      3\u001b[0m         \u001b[0mprint\u001b[0m\u001b[0;34m(\u001b[0m\u001b[0mchr\u001b[0m\u001b[0;34m(\u001b[0m\u001b[0mj\u001b[0m\u001b[0;34m^\u001b[0m\u001b[0mi\u001b[0m\u001b[0;34m)\u001b[0m\u001b[0;34m,\u001b[0m\u001b[0mend\u001b[0m\u001b[0;34m=\u001b[0m\u001b[0;34m''\u001b[0m\u001b[0;34m)\u001b[0m\u001b[0;34m\u001b[0m\u001b[0m\n\u001b[0;32m----> 4\u001b[0;31m \u001b[0;34mb'\\x94'\u001b[0m\u001b[0;34m^\u001b[0m\u001b[0;34mb'y'\u001b[0m\u001b[0;34m\u001b[0m\u001b[0m\n\u001b[0m",
      "\u001b[0;31mTypeError\u001b[0m: unsupported operand type(s) for ^: 'bytes' and 'bytes'"
     ]
    }
   ],
   "source": [
    "for i in b'yispyweise!dmsx_tthv_arr_didvi':\n",
    "    for j in b:\n",
    "        print(chr(j^i),end='')"
   ]
  },
  {
   "cell_type": "code",
   "execution_count": 14,
   "metadata": {},
   "outputs": [
    {
     "data": {
      "text/plain": [
       "30"
      ]
     },
     "execution_count": 14,
     "metadata": {},
     "output_type": "execute_result"
    }
   ],
   "source": [
    "n=b'yispyweise!dmsx_tthv_arr_didvi'\n",
    "len(n)"
   ]
  }
 ],
 "metadata": {
  "kernelspec": {
   "display_name": "Python 3",
   "language": "python",
   "name": "python3"
  },
  "language_info": {
   "codemirror_mode": {
    "name": "ipython",
    "version": 3
   },
   "file_extension": ".py",
   "mimetype": "text/x-python",
   "name": "python",
   "nbconvert_exporter": "python",
   "pygments_lexer": "ipython3",
   "version": "3.6.6"
  }
 },
 "nbformat": 4,
 "nbformat_minor": 2
}
