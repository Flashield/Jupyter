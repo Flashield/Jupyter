{
 "cells": [
  {
   "cell_type": "code",
   "execution_count": 13,
   "metadata": {},
   "outputs": [
    {
     "name": "stdout",
     "output_type": "stream",
     "text": [
      "b'\\xf4\\x81\\x18\\xefo\\xc5\\xd4\\x8f\\xd4 \\xf7Oo{ \\x13C\\x07r\\x7f\\x9b[\\xd4V\\xde\"\\xec\\xb2l\\xd34Xvv\\xa4\\xd9\\xef\\x83[\\x93)x]\\xfb\\xd8\\xca\\xaa9\\xc39\\xb3\\xf5\\xa7u'\n",
      "b'f48118ef6fc5d48fd420f74f6f7b20134307727f9b5bd456de22ecb26cd334587676a4d9ef835b9329785dfbd8caaa39c339b3f5a775'\n"
     ]
    },
    {
     "ename": "TypeError",
     "evalue": "ord() expected string of length 1, but int found",
     "output_type": "error",
     "traceback": [
      "\u001b[0;31m---------------------------------------------------------------------------\u001b[0m",
      "\u001b[0;31mTypeError\u001b[0m                                 Traceback (most recent call last)",
      "\u001b[0;32m<ipython-input-13-131ea0b5f6cf>\u001b[0m in \u001b[0;36m<module>\u001b[0;34m()\u001b[0m\n\u001b[1;32m     30\u001b[0m \u001b[0mprint\u001b[0m\u001b[0;34m(\u001b[0m\u001b[0mtest\u001b[0m\u001b[0;34m)\u001b[0m\u001b[0;34m\u001b[0m\u001b[0m\n\u001b[1;32m     31\u001b[0m \u001b[0mprint\u001b[0m\u001b[0;34m(\u001b[0m\u001b[0mcodecs\u001b[0m\u001b[0;34m.\u001b[0m\u001b[0mencode\u001b[0m\u001b[0;34m(\u001b[0m\u001b[0mtest\u001b[0m\u001b[0;34m,\u001b[0m \u001b[0;34m'hex_codec'\u001b[0m\u001b[0;34m)\u001b[0m\u001b[0;34m)\u001b[0m\u001b[0;34m\u001b[0m\u001b[0m\n\u001b[0;32m---> 32\u001b[0;31m \u001b[0mprint\u001b[0m\u001b[0;34m(\u001b[0m\u001b[0mcodecs\u001b[0m\u001b[0;34m.\u001b[0m\u001b[0mencode\u001b[0m\u001b[0;34m(\u001b[0m\u001b[0mfez\u001b[0m\u001b[0;34m(\u001b[0m\u001b[0mtest\u001b[0m\u001b[0;34m,\u001b[0m\u001b[0mK\u001b[0m\u001b[0;34m)\u001b[0m\u001b[0;34m,\u001b[0m \u001b[0;34m'hex_codec'\u001b[0m\u001b[0;34m)\u001b[0m\u001b[0;34m)\u001b[0m\u001b[0;34m\u001b[0m\u001b[0m\n\u001b[0m\u001b[1;32m     33\u001b[0m \u001b[0mprint\u001b[0m\u001b[0;34m(\u001b[0m\u001b[0mcodecs\u001b[0m\u001b[0;34m.\u001b[0m\u001b[0mencode\u001b[0m\u001b[0;34m(\u001b[0m\u001b[0mfez\u001b[0m\u001b[0;34m(\u001b[0m\u001b[0mm\u001b[0m\u001b[0;34m,\u001b[0m\u001b[0mK\u001b[0m\u001b[0;34m)\u001b[0m\u001b[0;34m,\u001b[0m\u001b[0;34m'hex_codec'\u001b[0m\u001b[0;34m)\u001b[0m\u001b[0;34m)\u001b[0m\u001b[0;34m\u001b[0m\u001b[0m\n\u001b[1;32m     34\u001b[0m \u001b[0mprint\u001b[0m\u001b[0;34m(\u001b[0m\u001b[0mtest\u001b[0m\u001b[0;34m.\u001b[0m\u001b[0mencode\u001b[0m\u001b[0;34m(\u001b[0m\u001b[0;34m\"hex\"\u001b[0m\u001b[0;34m)\u001b[0m\u001b[0;34m)\u001b[0m\u001b[0;34m\u001b[0m\u001b[0m\n",
      "\u001b[0;32m<ipython-input-13-131ea0b5f6cf>\u001b[0m in \u001b[0;36mfez\u001b[0;34m(m, K)\u001b[0m\n\u001b[1;32m     17\u001b[0m \u001b[0;32mdef\u001b[0m \u001b[0mfez\u001b[0m\u001b[0;34m(\u001b[0m\u001b[0mm\u001b[0m\u001b[0;34m,\u001b[0m\u001b[0mK\u001b[0m\u001b[0;34m)\u001b[0m\u001b[0;34m:\u001b[0m\u001b[0;34m\u001b[0m\u001b[0m\n\u001b[1;32m     18\u001b[0m     \u001b[0;32mfor\u001b[0m \u001b[0mi\u001b[0m \u001b[0;32min\u001b[0m \u001b[0mK\u001b[0m\u001b[0;34m:\u001b[0m\u001b[0;34m\u001b[0m\u001b[0m\n\u001b[0;32m---> 19\u001b[0;31m         \u001b[0mm\u001b[0m\u001b[0;34m=\u001b[0m\u001b[0mround\u001b[0m\u001b[0;34m(\u001b[0m\u001b[0mm\u001b[0m\u001b[0;34m,\u001b[0m\u001b[0mi\u001b[0m\u001b[0;34m)\u001b[0m\u001b[0;34m\u001b[0m\u001b[0m\n\u001b[0m\u001b[1;32m     20\u001b[0m     \u001b[0;32mreturn\u001b[0m \u001b[0mm\u001b[0m\u001b[0;34m\u001b[0m\u001b[0m\n\u001b[1;32m     21\u001b[0m \u001b[0;34m\u001b[0m\u001b[0m\n",
      "\u001b[0;32m<ipython-input-13-131ea0b5f6cf>\u001b[0m in \u001b[0;36mround\u001b[0;34m(M, K)\u001b[0m\n\u001b[1;32m     13\u001b[0m     \u001b[0mR\u001b[0m\u001b[0;34m=\u001b[0m\u001b[0mM\u001b[0m\u001b[0;34m[\u001b[0m\u001b[0;36m27\u001b[0m\u001b[0;34m:\u001b[0m\u001b[0;36m54\u001b[0m\u001b[0;34m]\u001b[0m\u001b[0;34m\u001b[0m\u001b[0m\n\u001b[1;32m     14\u001b[0m     \u001b[0mnew_l\u001b[0m\u001b[0;34m=\u001b[0m\u001b[0mR\u001b[0m\u001b[0;34m\u001b[0m\u001b[0m\n\u001b[0;32m---> 15\u001b[0;31m     \u001b[0mnew_r\u001b[0m\u001b[0;34m=\u001b[0m\u001b[0mxor\u001b[0m\u001b[0;34m(\u001b[0m\u001b[0mxor\u001b[0m\u001b[0;34m(\u001b[0m\u001b[0mR\u001b[0m\u001b[0;34m,\u001b[0m\u001b[0mL\u001b[0m\u001b[0;34m)\u001b[0m\u001b[0;34m,\u001b[0m\u001b[0mK\u001b[0m\u001b[0;34m)\u001b[0m\u001b[0;34m\u001b[0m\u001b[0m\n\u001b[0m\u001b[1;32m     16\u001b[0m     \u001b[0;32mreturn\u001b[0m \u001b[0mnew_l\u001b[0m\u001b[0;34m+\u001b[0m\u001b[0mnew_r\u001b[0m\u001b[0;34m\u001b[0m\u001b[0m\n\u001b[1;32m     17\u001b[0m \u001b[0;32mdef\u001b[0m \u001b[0mfez\u001b[0m\u001b[0;34m(\u001b[0m\u001b[0mm\u001b[0m\u001b[0;34m,\u001b[0m\u001b[0mK\u001b[0m\u001b[0;34m)\u001b[0m\u001b[0;34m:\u001b[0m\u001b[0;34m\u001b[0m\u001b[0m\n",
      "\u001b[0;32m<ipython-input-13-131ea0b5f6cf>\u001b[0m in \u001b[0;36mxor\u001b[0;34m(a, b)\u001b[0m\n\u001b[1;32m      5\u001b[0m     \u001b[0mc\u001b[0m\u001b[0;34m=\u001b[0m\u001b[0;34m\"\"\u001b[0m\u001b[0;34m\u001b[0m\u001b[0m\n\u001b[1;32m      6\u001b[0m     \u001b[0;32mfor\u001b[0m \u001b[0mi\u001b[0m \u001b[0;32min\u001b[0m \u001b[0mrange\u001b[0m\u001b[0;34m(\u001b[0m\u001b[0mlen\u001b[0m\u001b[0;34m(\u001b[0m\u001b[0ma\u001b[0m\u001b[0;34m)\u001b[0m\u001b[0;34m)\u001b[0m\u001b[0;34m:\u001b[0m\u001b[0;34m\u001b[0m\u001b[0m\n\u001b[0;32m----> 7\u001b[0;31m         \u001b[0mc\u001b[0m\u001b[0;34m+=\u001b[0m\u001b[0mchr\u001b[0m\u001b[0;34m(\u001b[0m\u001b[0mord\u001b[0m\u001b[0;34m(\u001b[0m\u001b[0ma\u001b[0m\u001b[0;34m[\u001b[0m\u001b[0mi\u001b[0m\u001b[0;34m]\u001b[0m\u001b[0;34m)\u001b[0m\u001b[0;34m^\u001b[0m\u001b[0mord\u001b[0m\u001b[0;34m(\u001b[0m\u001b[0mb\u001b[0m\u001b[0;34m[\u001b[0m\u001b[0mi\u001b[0m\u001b[0;34m]\u001b[0m\u001b[0;34m)\u001b[0m\u001b[0;34m)\u001b[0m\u001b[0;34m\u001b[0m\u001b[0m\n\u001b[0m\u001b[1;32m      8\u001b[0m     \u001b[0;32mreturn\u001b[0m \u001b[0mc\u001b[0m\u001b[0;34m\u001b[0m\u001b[0m\n\u001b[1;32m      9\u001b[0m \u001b[0;32mdef\u001b[0m \u001b[0mf\u001b[0m\u001b[0;34m(\u001b[0m\u001b[0mx\u001b[0m\u001b[0;34m,\u001b[0m\u001b[0mk\u001b[0m\u001b[0;34m)\u001b[0m\u001b[0;34m:\u001b[0m\u001b[0;34m\u001b[0m\u001b[0m\n",
      "\u001b[0;31mTypeError\u001b[0m: ord() expected string of length 1, but int found"
     ]
    }
   ],
   "source": [
    "import os\n",
    "import codecs\n",
    "def xor(a,b):\n",
    "    assert len(a)==len(b)\n",
    "    c=\"\"\n",
    "    for i in range(len(a)):\n",
    "        c+=chr(ord(a[i])^ord(b[i]))\n",
    "    return c\n",
    "def f(x,k):\n",
    "    return xor(xor(x,k),7)\n",
    "def round(M,K):\n",
    "    L=M[0:27]\n",
    "    R=M[27:54]\n",
    "    new_l=R\n",
    "    new_r=xor(xor(R,L),K)\n",
    "    return new_l+new_r\n",
    "def fez(m,K):\n",
    "    for i in K:\n",
    "        m=round(m,i)\n",
    "    return m\n",
    "\n",
    "K=[]\n",
    "for i in range(7):\n",
    "    K.append(os.urandom(27))\n",
    "m=open(\"flag\",\"rb\").read()\n",
    "assert len(m)<54\n",
    "m+=os.urandom(54-len(m))\n",
    "\n",
    "#test=os.urandom(54)\n",
    "print(test)\n",
    "print(test.encode(\"hex\"))\n",
    "print(fez(test,K).encode(\"hex\"))\n",
    "print(fez(m,K).encode(\"hex\"))"
   ]
  },
  {
   "cell_type": "code",
   "execution_count": 16,
   "metadata": {},
   "outputs": [],
   "source": [
    "a=0x7fd27e685d517f00"
   ]
  },
  {
   "cell_type": "code",
   "execution_count": 18,
   "metadata": {},
   "outputs": [
    {
     "name": "stdout",
     "output_type": "stream",
     "text": [
      "[b'\\x15\\x82\\xa9\\xab[\\x12X\\x7f\\x1c\\x08\\x13YWCT(\\xbeO\\xd8BU\\x9d\\xb9\\x9c\\x19\\xec_', b'\\x00\\xaf;w\\x95v\\xaeW*P*\\x9b\\x18D\\xc1t\\x8a0\\x1d\\x1c\\xed\\x8e*i\\xf19\\xa0', b\"\\xedE\\xee\\xaeX\\x94S1\\xdfU\\xa4\\xf8\\xc8\\xf4\\x0e\\xc3\\x1d\\x0emb\\xb2!'J\\x16\\x16c\", b'\\t,\\xdb\\x9bOX?\\xc6,\\xb4\\xff|\\x85\\x18\\xed\\xcf\\x04\\xc9=\\x04\\xc6m\\x1f\\xb8\\xfb\\x15\"', b'\\xf5\\xd7\\x97\\xc3\\xe4\\x9b\\xda\\xe9\\x91\\x1e\\xff`\\xd4\\xa9\\xe3\\xd3\\xda\\x81\\xb9vq~\\xc5\\xf9\\xd1Z3', b'w\\xd0\\x83\\xa3\\xfd\\xce\\xb1mq\\xd7\\x144\\\\\\x17i\\xd1N\\xc8\\xe6\\xdd.\\xd7\\x08?\\xfe\\x87W', b'\\x11\\xfe\\xc2\\xf1\\xc0$g\\x13\\x0cJ\\x88T~6;\\teF\\x9fpE@Y\\x07{\\xb9(', b'\\xf6^qd\\xbd\\x13\\x85\\x80}q\\x1d,j\\xb2\\x06\\x0b(R\\xdc+\\xda\\xe2\\xa3\\x0b\\xb5\\x17\\xed', b'2\\xeev\\x0ee\\xb2\\xf2ea\"? @c\\x1a\\x99\\xc9\\xe9\\x02\\x83\\x9b\\x9a\\xae\\'\\xb6W\\r', b'Z\\x8a\\x89k3wg\\x921\\xc6[\\x10\\xd9\\xc3H\\xe8\\xf6\\x8a\\x9bnD-,L\\xbce\\xbc', b\"\\r\\xae\\xf52tI-S\\xdd\\xeb\\xeb\\xb7v:?':;\\xc2\\xa8+\\xa8tX7VB\", b'\\xe5\\xaa\\xda\\xdeEu/7\\xab\\xef\\xd8,\\x82\\x03\\xfe\\x89\\xf1\\n\\x93\\x9c5%6\\x15\\xe18)', b'Y\\xd2\\xfa|\\x80\\xb8\\xd8\\xac\\xd8\\xc4(\\xc3\\xdaM3s\\xae\\xfbu\\xdcq\\xd8\\xefQ2L\\x91', b'0\\xf8\\xfb>f\\x10\\ri\\xd1h\\xb7\\xd8\\xf4\\xce\"%c\\xa2g\\xae_L\\xb2\\xa5\\xed>\\xc6']\n"
     ]
    }
   ],
   "source": [
    "for i in range(7):\n",
    "    K.append(os.urandom(27))\n",
    "print(K)"
   ]
  },
  {
   "cell_type": "code",
   "execution_count": 19,
   "metadata": {},
   "outputs": [],
   "source": [
    "a='51026a40ec1e8dbc84afe07fa1678629bd52dbbefc7037c2c38665401e066031b8120d687098b588f65aa09f974279bd3a8352adcd80'"
   ]
  },
  {
   "cell_type": "code",
   "execution_count": 21,
   "metadata": {},
   "outputs": [
    {
     "name": "stdout",
     "output_type": "stream",
     "text": [
      "b'Q\\x02j@\\xec\\x1e\\x8d\\xbc\\x84\\xaf\\xe0\\x7f\\xa1g\\x86)\\xbdR\\xdb\\xbe\\xfcp7\\xc2\\xc3\\x86e@\\x1e\\x06`1\\xb8\\x12\\rhp\\x98\\xb5\\x88\\xf6Z\\xa0\\x9f\\x97By\\xbd:\\x83R\\xad\\xcd\\x80'\n"
     ]
    }
   ],
   "source": [
    "b=bytes.fromhex(a)\n",
    "print(b)"
   ]
  }
 ],
 "metadata": {
  "kernelspec": {
   "display_name": "Python 3",
   "language": "python",
   "name": "python3"
  },
  "language_info": {
   "codemirror_mode": {
    "name": "ipython",
    "version": 3
   },
   "file_extension": ".py",
   "mimetype": "text/x-python",
   "name": "python",
   "nbconvert_exporter": "python",
   "pygments_lexer": "ipython3",
   "version": "3.6.6"
  }
 },
 "nbformat": 4,
 "nbformat_minor": 2
}
