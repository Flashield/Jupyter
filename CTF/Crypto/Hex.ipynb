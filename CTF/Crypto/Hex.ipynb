{
 "cells": [
  {
   "cell_type": "code",
   "execution_count": 1,
   "metadata": {},
   "outputs": [],
   "source": [
    "a='666c61677b313834303066326232363465313030637d'"
   ]
  },
  {
   "cell_type": "code",
   "execution_count": 2,
   "metadata": {},
   "outputs": [
    {
     "name": "stdout",
     "output_type": "stream",
     "text": [
      "b'flag{18400f2b264e100c}'\n"
     ]
    }
   ],
   "source": [
    "#hex转字符串\n",
    "b=bytes.fromhex(a)\n",
    "print(b)"
   ]
  },
  {
   "cell_type": "code",
   "execution_count": 11,
   "metadata": {},
   "outputs": [
    {
     "name": "stdout",
     "output_type": "stream",
     "text": [
      "flag{9f3c8348afd5c77c}\n"
     ]
    }
   ],
   "source": [
    "#byte转string\n",
    "c=b.decode('utf-8')\n",
    "print(c)"
   ]
  },
  {
   "cell_type": "code",
   "execution_count": 12,
   "metadata": {},
   "outputs": [
    {
     "name": "stdout",
     "output_type": "stream",
     "text": [
      "666c61675f69735f686572657b32653462313032346137633863353432373139633637613064666333663432302e7068707d\n"
     ]
    }
   ],
   "source": [
    "h='flag_is_here{2e4b1024a7c8c542719c67a0dfc3f420.php}'\n",
    "#str转byte\n",
    "i=h.encode('utf-8')\n",
    "#byte转hex\n",
    "print(i.hex())"
   ]
  },
  {
   "cell_type": "code",
   "execution_count": null,
   "metadata": {},
   "outputs": [],
   "source": []
  }
 ],
 "metadata": {
  "kernelspec": {
   "display_name": "Python 3",
   "language": "python",
   "name": "python3"
  },
  "language_info": {
   "codemirror_mode": {
    "name": "ipython",
    "version": 3
   },
   "file_extension": ".py",
   "mimetype": "text/x-python",
   "name": "python",
   "nbconvert_exporter": "python",
   "pygments_lexer": "ipython3",
   "version": "3.7.4"
  }
 },
 "nbformat": 4,
 "nbformat_minor": 2
}
