{
 "cells": [
  {
   "cell_type": "code",
   "execution_count": 1,
   "metadata": {},
   "outputs": [],
   "source": [
    "#爆破CRC\n",
    "\n",
    "import binascii\n",
    "def crack():\n",
    "    crcs = set([0xE761062E, 0x2F9A55D3, 0xF0F809B5,\n",
    "        0x645F52A4, 0x0F448B76, 0x3E1A57D9, 0x3A512755])\n",
    "    r = xrange(32, 127)\n",
    "    for a in r:\n",
    "        for b in r:\n",
    "            for c in r:\n",
    "                for d in r:\n",
    "                    txt = chr(a)+chr(b)+chr(c)+chr(d)\n",
    "                    crc = binascii.crc32(txt)\n",
    "                    if (crc & 0xFFFFFFFF) in crcs:\n",
    "                        print txt"
   ]
  }
 ],
 "metadata": {
  "kernelspec": {
   "display_name": "Python 2",
   "language": "python",
   "name": "python2"
  },
  "language_info": {
   "codemirror_mode": {
    "name": "ipython",
    "version": 2
   },
   "file_extension": ".py",
   "mimetype": "text/x-python",
   "name": "python",
   "nbconvert_exporter": "python",
   "pygments_lexer": "ipython2",
   "version": "2.7.15+"
  }
 },
 "nbformat": 4,
 "nbformat_minor": 2
}
