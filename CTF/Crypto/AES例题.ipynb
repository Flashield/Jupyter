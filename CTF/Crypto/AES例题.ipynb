{
 "cells": [
  {
   "cell_type": "code",
   "execution_count": 2,
   "metadata": {},
   "outputs": [
    {
     "name": "stdout",
     "output_type": "stream",
     "text": [
      "45\n",
      "��h\u0010��\u0000�\u0016Y�6:��r�\u001f�w\u001b���su\u0019�/��>TG\u001ff\u001d",
      "�2pi����tm\n",
      "mbZoEMrhAO0WWeugNjqNw3KJH6B3G5Wt9nN1GYcvldM+VEcfZh2VMnBp/MGclnRt\n",
      "flag is hctf{xxxxxxxxxxxxxxx}\u0000\u0000\u0000\n"
     ]
    }
   ],
   "source": [
    "#!/usr/bin/env python\n",
    "# coding:utf-8\n",
    "__author__ = 'Aklis'\n",
    "\n",
    "from Crypto import Random\n",
    "from Crypto.Cipher import AES\n",
    "\n",
    "import sys\n",
    "import base64\n",
    "\n",
    "\n",
    "def decrypt(encrypted, passphrase):\n",
    "  IV = encrypted[:16]\n",
    "  aes = AES.new(passphrase, AES.MODE_CBC, IV)\n",
    "  return aes.decrypt(encrypted[16:])\n",
    "\n",
    "\n",
    "def encrypt(message, passphrase):\n",
    "  IV = message[:16]\n",
    "  length = 16\n",
    "  count = len(message)\n",
    "  padding = length - (count % length)\n",
    "  message = message + '\\0' * padding\n",
    "  aes = AES.new(passphrase, AES.MODE_CBC, IV)\n",
    "  return aes.encrypt(message)\n",
    "\n",
    "\n",
    "IV = 'YUFHJKVWEASDGQDH'\n",
    "\n",
    "message = IV + 'flag is hctf{xxxxxxxxxxxxxxx}'\n",
    "\n",
    "\n",
    "print len(message)\n",
    "\n",
    "example = encrypt(message, 'Qq4wdrhhyEWe4qBF')\n",
    "print example\n",
    "#base64加密后\n",
    "print base64.b64encode(example)\n",
    "example = decrypt(example, 'Qq4wdrhhyEWe4qBF') \n",
    "print example"
   ]
  },
  {
   "cell_type": "code",
   "execution_count": 3,
   "metadata": {},
   "outputs": [
    {
     "data": {
      "text/plain": [
       "'flag is hctf{n0w_U_w111_n0t_f1nd_me}\\x00\\x00\\x00\\x00\\x00\\x00\\x00\\x00\\x00\\x00\\x00\\x00'"
      ]
     },
     "execution_count": 3,
     "metadata": {},
     "output_type": "execute_result"
    }
   ],
   "source": [
    "decr_str = 'mbZoEMrhAO0WWeugNjqNw3U6Tt2C+rwpgpbdWRZgfQI3MAh0sZ9qjnziUKkV90XhAOkIs/OXoYVw5uQDjVvgNA=='\n",
    "decrypt(base64.b64decode(decr_str), 'Qq4wdrhhyEWe4qBF') "
   ]
  }
 ],
 "metadata": {
  "kernelspec": {
   "display_name": "Python 2",
   "language": "python",
   "name": "python2"
  },
  "language_info": {
   "codemirror_mode": {
    "name": "ipython",
    "version": 2
   },
   "file_extension": ".py",
   "mimetype": "text/x-python",
   "name": "python",
   "nbconvert_exporter": "python",
   "pygments_lexer": "ipython2",
   "version": "2.7.15+"
  }
 },
 "nbformat": 4,
 "nbformat_minor": 2
}
