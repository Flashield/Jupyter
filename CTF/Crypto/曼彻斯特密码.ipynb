{
 "cells": [
  {
   "cell_type": "code",
   "execution_count": 4,
   "metadata": {},
   "outputs": [
    {
     "name": "stdout",
     "output_type": "stream",
     "text": [
      "0b100100011011001010100101010101010011001111000100001110110001100000011010101010101000100010001101010101010011101110110000100011010001100100001\n",
      "flag{5EFCF5F507AA5FAD77}\n"
     ]
    }
   ],
   "source": [
    "#n=0x5555555595555A65556AA696AA6666666955\n",
    "n=0x123654AAA678876303555111AAA77611A321\n",
    "print(bin(n))\n",
    "flag=''\n",
    "bs='0'+bin(n)[2:]\n",
    "r=''\n",
    "def conv(s):\n",
    "    return hex(int(s,2))[2:]\n",
    "for i in range(0,len(bs),2):\n",
    "        #修改10和01，看是否跳变看是否为1\n",
    "        if bs[i:i+2]=='01':\n",
    "            r+='0'\n",
    "        else:\n",
    "            r+='1'\n",
    "for i in range(0,len(r),8):\n",
    "    tmp=r[i:i+8][::-1]\n",
    "    flag+=conv(tmp[:4])\n",
    "    flag+=conv(tmp[4:])\n",
    "print(\"flag\"+\"{\"+flag.upper()+\"}\")"
   ]
  }
 ],
 "metadata": {
  "kernelspec": {
   "display_name": "Python 2",
   "language": "python",
   "name": "python2"
  },
  "language_info": {
   "codemirror_mode": {
    "name": "ipython",
    "version": 2
   },
   "file_extension": ".py",
   "mimetype": "text/x-python",
   "name": "python",
   "nbconvert_exporter": "python",
   "pygments_lexer": "ipython2",
   "version": "2.7.15rc1"
  }
 },
 "nbformat": 4,
 "nbformat_minor": 2
}
