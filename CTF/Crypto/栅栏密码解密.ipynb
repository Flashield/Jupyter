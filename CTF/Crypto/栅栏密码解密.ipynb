{
 "cells": [
  {
   "cell_type": "code",
   "execution_count": 1,
   "metadata": {
    "scrolled": false
   },
   "outputs": [
    {
     "name": "stdout",
     "output_type": "stream",
     "text": [
      "请输入要解密的字符串\n",
      "}LwFo{9wy7qRvs6UqLz\\x7fkand\n",
      "分为\t3\t栏时，解密结果为：  }7zLq\\wRxFv7osf{6k9UawqnyLd\n",
      "分为\t9\t栏时，解密结果为：  }F97vUz7aLowqsq\\fnw{yR6Lxkd\n"
     ]
    }
   ],
   "source": [
    "#!/usr/bin/env python\n",
    "# -*- coding: gbk -*-\n",
    "# -*- coding: utf_8 -*-\n",
    "# Author: seclover\n",
    "# http://www.bugscan.net\n",
    "e = input('请输入要解密的字符串\\n')\n",
    "elen = len(e)\n",
    "field=[]\n",
    "for i in range(2,elen):\n",
    "    if(elen%i==0):\n",
    "        field.append(i)\n",
    "\n",
    "for f in field:\n",
    "    b = elen // f\n",
    "    result = {x:'' for x in range(b)}\n",
    "    for i in range(elen):\n",
    "        a = i % b;\n",
    "        result.update({a:result[a] + e[i]})\n",
    "    d = ''\n",
    "    for i in range(b):\n",
    "        d = d + result[i]\n",
    "    print('分为\\t'+str(f)+'\\t'+'栏时，解密结果为：  '+d)"
   ]
  },
  {
   "cell_type": "code",
   "execution_count": null,
   "metadata": {},
   "outputs": [],
   "source": []
  }
 ],
 "metadata": {
  "kernelspec": {
   "display_name": "Python 3",
   "language": "python",
   "name": "python3"
  },
  "language_info": {
   "codemirror_mode": {
    "name": "ipython",
    "version": 3
   },
   "file_extension": ".py",
   "mimetype": "text/x-python",
   "name": "python",
   "nbconvert_exporter": "python",
   "pygments_lexer": "ipython3",
   "version": "3.7.4"
  }
 },
 "nbformat": 4,
 "nbformat_minor": 2
}
