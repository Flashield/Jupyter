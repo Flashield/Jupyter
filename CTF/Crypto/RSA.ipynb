{
 "cells": [
  {
   "cell_type": "code",
   "execution_count": 6,
   "metadata": {},
   "outputs": [
    {
     "name": "stdout",
     "output_type": "stream",
     "text": [
      "14387073763249801692493674864107900306007889970401611155360615803588944959757\n",
      "m: 38321129010629359589718877669457409338494938118120317\n"
     ]
    }
   ],
   "source": [
    "#已知n,e,c,yafu分解n后，求明文(m)\n",
    "import math\n",
    "n = 0xEFF76062D52A7D4927DF587FBBC293CF9A622F56E854055D6A30DCF77C9B7591\n",
    "#通过yafu分解N，得到p，q\n",
    "#yafu-x64.exe factor(108539847268573990275234024354672437246525085076605516960320005722741589898641)\n",
    "q = 333360321402603178263879595968004169219\n",
    "p = 325593180411801742356727264127253758939\n",
    "e=0x10001\n",
    "c=0x127922e5f701afb823a407af5f9afcc750d8053fbe1206ce6afa240bd87748ef\n",
    "def egcd(a, b):\n",
    "    if a == 0:\n",
    "        return (b, 0, 1)\n",
    "    else:\n",
    "        g, y, x = egcd(b % a, a)\n",
    "        return (g, x - (b // a) * y, y)\n",
    "def modinv(a, m):\n",
    "    g, x, y = egcd(a, m)\n",
    "    if g != 1:\n",
    "          raise Exception('modular inverse does not exist')\n",
    "    else:\n",
    "          return x % m\n",
    "d=modinv(e,(p-1)*(q-1))\n",
    "print(d)\n",
    "#m是明文\n",
    "m=pow(c,d,n)\n",
    "print('m:',m)"
   ]
  },
  {
   "cell_type": "code",
   "execution_count": 1,
   "metadata": {},
   "outputs": [
    {
     "name": "stdout",
     "output_type": "stream",
     "text": [
      "19178568796155560423675975774142829153827883709027717723363077606260717434369\n"
     ]
    }
   ],
   "source": [
    "import gmpy2\n",
    "p = 3487583947589437589237958723892346254777\n",
    "q = 8767867843568934765983476584376578389\n",
    "e = 65537\n",
    "d = gmpy2.invert(e,(p-1)*(q-1))\n",
    "print(d)"
   ]
  },
  {
   "cell_type": "code",
   "execution_count": null,
   "metadata": {},
   "outputs": [],
   "source": [
    "from libnum import gcd\n",
    "n1=55\n",
    "n2=77\n",
    "print (\"p -> {}\".format(gcd(n1, n2)))\n",
    "print (\"q1 -> {}\".format(n1 / gcd(n1, n2)))\n",
    "print (\"q2 -> {}\".format(n2 / gcd(n1, n2)))"
   ]
  },
  {
   "cell_type": "code",
   "execution_count": 7,
   "metadata": {},
   "outputs": [
    {
     "data": {
      "text/plain": [
       "'0x666c61677b313834303066326232363465313030637d'"
      ]
     },
     "execution_count": 7,
     "metadata": {},
     "output_type": "execute_result"
    }
   ],
   "source": [
    "hex(38321129010629359589718877669457409338494938118120317)"
   ]
  },
  {
   "cell_type": "code",
   "execution_count": 5,
   "metadata": {},
   "outputs": [
    {
     "data": {
      "text/plain": [
       "108539847268573990275234024354672437246525085076605516960320005722741589898641"
      ]
     },
     "execution_count": 5,
     "metadata": {},
     "output_type": "execute_result"
    }
   ],
   "source": [
    "0xEFF76062D52A7D4927DF587FBBC293CF9A622F56E854055D6A30DCF77C9B7591"
   ]
  },
  {
   "cell_type": "code",
   "execution_count": 8,
   "metadata": {},
   "outputs": [
    {
     "data": {
      "text/plain": [
       "b'flag{18400f2b264e100c}'"
      ]
     },
     "execution_count": 8,
     "metadata": {},
     "output_type": "execute_result"
    }
   ],
   "source": [
    "bytes.fromhex('666c61677b313834303066326232363465313030637d')"
   ]
  },
  {
   "cell_type": "code",
   "execution_count": null,
   "metadata": {},
   "outputs": [],
   "source": []
  }
 ],
 "metadata": {
  "kernelspec": {
   "display_name": "Python 3",
   "language": "python",
   "name": "python3"
  },
  "language_info": {
   "codemirror_mode": {
    "name": "ipython",
    "version": 3
   },
   "file_extension": ".py",
   "mimetype": "text/x-python",
   "name": "python",
   "nbconvert_exporter": "python",
   "pygments_lexer": "ipython3",
   "version": "3.6.8"
  }
 },
 "nbformat": 4,
 "nbformat_minor": 2
}
