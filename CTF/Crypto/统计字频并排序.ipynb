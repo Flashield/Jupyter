{
 "cells": [
  {
   "cell_type": "code",
   "execution_count": 2,
   "metadata": {},
   "outputs": [
    {
     "name": "stdout",
     "output_type": "stream",
     "text": [
      "字频情况：{'v': 20, '0': 36, '5': 40, 'q': 8, 'e': 58, 'l': 74, 'L': 46, '3': 64, 'H': 44, 'U': 30, 'A': 18, 'D': 14, 'z': 22, 'o': 62, 'P': 66, 'k': 38, 'r': 52, '{': 68, 'c': 26, 't': 50, 'G': 32, 'B': 56, 'x': 34, 'O': 4, 'K': 48, 'p': 6, 'S': 16, '}': 2, 'w': 54, 'I': 42, 'g': 70, 'f': 76, '9': 24, '6': 60, 'Y': 28, 'u': 10, 'b': 12, 'a': 72}\n",
      "[[20, 'v'], [36, '0'], [40, '5'], [8, 'q'], [58, 'e'], [74, 'l'], [46, 'L'], [64, '3'], [44, 'H'], [30, 'U'], [18, 'A'], [14, 'D'], [22, 'z'], [62, 'o'], [66, 'P'], [38, 'k'], [52, 'r'], [68, '{'], [26, 'c'], [50, 't'], [32, 'G'], [56, 'B'], [34, 'x'], [4, 'O'], [48, 'K'], [6, 'p'], [16, 'S'], [2, '}'], [54, 'w'], [42, 'I'], [70, 'g'], [76, 'f'], [24, '9'], [60, '6'], [28, 'Y'], [10, 'u'], [12, 'b'], [72, 'a']]\n",
      "flag{P3o6eBwrtKLHI5k0xGUYc9zvASDbuqpO}\n"
     ]
    }
   ],
   "source": [
    "result = {}\n",
    "#str_input='hAsh{4hGaGh}4B}has{hhhass}onnLansAnnh{F}s}an{}}onGo4sh{nshhaAnnn}sBsshA}4h4}oBGnhLBGAaoosB}n}shGa4G}oL}Fs4FsB}LsAG4nanshaG}}o4GossBaaFsGBaoson4aFhnBF44oashLnoBas}nG4n}GoA{sGhBnoAh4{ABnns{}hhLFahGBonGBnso}FasL}B{BBFh}nanso}Bnah{}{Bsa}aFnn}{B}asG}nL}BB}nosGGh4{{444aonFBF44a}L}FnsA}Gn4ABsn}nsaB4GA4n4o{onsaGh}Gnnns}4a}BnaBaFhLGLB4A4nonhaoonoLLah}BGAhsaFon4haG{F4hL4}}}4oaa4}}GAFsGGL}aos{G{AoF}FGasAn}s}sBn}4shhoG4B{s}sAsnooo{hshhohoasnhoLL4}a{an4hGn{}F{BAaoFaB}FnAnssh{GLnBnsh}h4}h}}oFFBnBsah}aoL{Fs}BGhaoa4L4{L4aBh4Gasnhh4hnBGn44sF4hsnhan}}haB4BnoAAAas4}{ss}aonohonLFa}Ah{hs{}aBn4LBGnnh{{G{onaasGBs{nnBo}4{n{LnBoaa4F{a{hGGnaF{G{nohah}o4n4ahLaaL{{hLno}LnFGoGa{sAA4hLFh}AAGL}{ah{ossonnshA{n4Goas4nsBoB{AAoFBa4{Gh}La4B}BsAFhnB{FG}Aa}oAsa{4a}B}o{{sannLn4FB{os4oAAa}Gho}{o}4n}ss4BA}BBAnBFahoanasLFa{B}G{}hFALLBs}nG4G}4o4ahA{{Bsn}Bo4F}B{hasnaF}nshha}}}sn}asnhhh{hAaaas}{Lohaons}4AhA}4}4LLLoBnn{A44AnBoG}oGB{GG4}aLn{o4G4GB}G}{Ao4oGho}AAnAsBGhsGLB{hhAGs{shhashGhAGBnoF}sn{sGa4aoah}AB4oBaaasGFn{4{oB4GLah}{4}ns}as}{sLGLsnn}h}4FsAL{A4FFn4na{aGnohGh4sLsaoL{{}GLnaBhnn}naGa4nsL{hsso}oG{L}naGaaG44hL{saFoo44FG}a}BAho}as4hBo4h}nLao{n}FLBLaaa}AhashBaLsh}FAnnshBABahGBanG4oAGaB}G4hhhn}a}}As4An}B4A}a}anoGLFaG}FLF{LB}}4h{asoGnLa}hnnaFBFB4FoGn}44on}hn}oaAhBah{a{s{4o}4oG}La}}Bosh{}s}FhnB4sBBnLaGLGshso}oahAA4saGBGshhaLGn4hA{A4oALhohn{{B}F}LBo4L{Gn}hG{nF}4}4AnhshBhB4nassshL{FnnoaAnBGFs{}nFnBnnnnGaAFhFBBALLsF}L}s{{4aAnh}aoF4}}{nons4n{BA4oFLLs}AaALnnA}has{{onABonh}sh4anahon4sL{LB{sah}aa}FG}o4hn}hG}a}}4LhnB}o4LsnA}{hFBBoFn4FLFh}4GsA4}ooans{Loo}}hhGhshnnha{s4}}noh}assBs{}GBaAon}aooonsoahaha}FFn}LsB{onoA}oh4{sanA}LhaB}BsaGs{BanaaALoA}oG}onAnBB4A}nAL{Lahh}{sB}h{oBa4ananho{sBnhonoossnF4FBn{naBooh4hsnnaGosoo}saahan}{}Gho4{A4}hnBAoos{a}}GhB}hABBnohG{sshA44GBn{AF}aaF}4sAasL4hs4LoaoF4}Bo4a}ahs}FFhGaLonB4{G}4Bo{A}AoALh4ash}a}ALo4n{Ao}LAssBsBB'\n",
    "str_input= 'v05qelL3HlUADzoP5kr{503ctGLoBPAxOUkKcpS5HUv}loBkw5Ikt3}wkDwvcBPO5gftL5v39tAzvHvlx6BYG5zB6DlUkIurzIKHAwrq3bwk6Y3qD5eg5DecowU5rgoSYUr5gkD6k9{OASUqx3ItYlOoaAHfa5zvbIPzPbDtI{0IrfxSxz{Klpzfe9puflaafuSY3P9vwHgu3Y{kArL5xrSeak9LIfUIclHYvtzDK9xtbGc560vpvwoSzuzrzlp600LzK9UGpkugtLqGv05{{GSxLe9x0kcDAaSa0bbYBGwA69k6oUekkGG3GxKcboxkG0qDvLIvoYl65L0YDxgKu9ekgutwKaeqrYDPBGzwYeqUtAgIkHlvU{rD{D9Ag0fP3uo6xwxvuBSkP3YKPtBfwvBPaKl5PzoK56tllK{xYaYlfkKPrt{vkGb66ofrYzoAexxbgLevKk39bxcbxt{H3U50B5G33bBw30KcH{HHk{wokcAePoH{{aHHoYcerUw3GUK9v6APaUUfoxgPPS3BgBLU35H099Bcxw{3oGLtGo9B0{GlKPLxkzI9lagGYYgPYw9zGUf03lazfxkBU{zzka6lYPH9cBal{YBleIe{SHtSgeLzLfILLaa605{9kgg{{UrHSrLoYafxroK5YwrLr3frGY0BxeYcteflfL9AKcUk9ggAHx3ewPI0YYwwLLr660fcK3t3Ufl0xIk6rBaKPfLBLKefxBAkIG{xgfKterG5SPo0cfPkaAggHxSaoH9kw{IBB95kKllBkI0{gk0GoffkPGKI5IGtKarPo303g{oPrcf56wcxHUKwIIa0KwtLeP{0PtUlwI0fBe5r0wrUog53oBwgGrGtIPwIrec5LKK6eU6Hl{GtP50PLrtx3KrHglUlBaIfHeaPxl5lfBIIoPBgUcL05HoaIre{53BKIfPPoILBGofl3HH6aGP5K555aIe5tfo0clxH{0Hc{LrPfaBeU6awIG33Ia3a0BrortgaggKwlf{P60Io6KIo{leeKLPrIIww66tPKwKlHfI6B3wg3KcPg3HKwP6lHLKltww{ragorHa{Ho{clKraowaKfLPBr6B3LloLrw{rLrBfBH6lHoloa3lwHItLB3KoLegBrfBBHgKoBHeHrIeltKaeHle{flaBrBltLa{lol6wHow{r6aoLB{rea{3KfoelK3aLtPrLtw3BflBBw6o{wg{gfrPBeerot6{6tL3gewLo{owag{3ofoBafe3fggrfl3fLtB{Plgtgefgfo6gegofPe33oB{ggB3oewf3feoPlP{{ftetteo6ffaa33ale6ef3P{agwPetwtagoefe36al{wgggeg3ePtltPweP3P{lPfgaaPl33g6a6gg6a333l{al6l3a{6lagf{6fPlgagagttPlgtlt6gg{aalfg6{{6lfff66f{66gll{glPaPffll6P6{fP6P6fP66a{faaaff{aa{faf'\n",
    "for i in str_input:\n",
    "    result[i]=str_input.count(i)\n",
    "    \n",
    "print(\"字频情况：{}\".format(result))\n",
    "def sort_by_value(d): \n",
    "    items=d.items() \n",
    "    backitems=[[v[1],v[0]] for v in items] \n",
    "    print(backitems)\n",
    "    #backitems.sort(reverse=False) \n",
    "    backitems.sort(reverse=True) \n",
    "    return [ backitems[i][1] for i in range(0,len(backitems))] \n",
    "k = sort_by_value(result)\n",
    "#print(k)\n",
    "k1 = ''\n",
    "for j in k:\n",
    "    k1 += j\n",
    "print(k1)"
   ]
  },
  {
   "cell_type": "code",
   "execution_count": null,
   "metadata": {},
   "outputs": [],
   "source": []
  }
 ],
 "metadata": {
  "kernelspec": {
   "display_name": "Python 3",
   "language": "python",
   "name": "python3"
  },
  "language_info": {
   "codemirror_mode": {
    "name": "ipython",
    "version": 3
   },
   "file_extension": ".py",
   "mimetype": "text/x-python",
   "name": "python",
   "nbconvert_exporter": "python",
   "pygments_lexer": "ipython3",
   "version": "3.6.6"
  }
 },
 "nbformat": 4,
 "nbformat_minor": 2
}
