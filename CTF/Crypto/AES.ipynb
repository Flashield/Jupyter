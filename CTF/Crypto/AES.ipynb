{
 "cells": [
  {
   "cell_type": "code",
   "execution_count": 1,
   "metadata": {},
   "outputs": [
    {
     "name": "stdout",
     "output_type": "stream",
     "text": [
      "b'flag{22cc261a585599421a021dbfd833dc40}\\n\\n\\n\\n\\n\\n\\n\\n\\n\\n'\n"
     ]
    }
   ],
   "source": [
    "try:\n",
    "    from Crypto.Cipher import AES\n",
    "except ImportError:\n",
    "    print(\"You are either dont have gmpy2 install or using Python3\")\n",
    "\n",
    "ciphertext_enc=bytes.fromhex(\"a92af45bfa21b1c72f0b10b18e4754289b60f64888c1c7257d61b78830c85a038ab142efe4fc3878557f8edd7cc5f67c\")\n",
    "key = bytes.fromhex(\"6162636465666768696a6b6c6d6e7071\")\n",
    "iv1 = bytes.fromhex(\"01020304050607080910111213141516\")\n",
    "\n",
    "decobj = AES.new(key, AES.MODE_CBC,iv1)\n",
    "decrypted_plaintext = decobj.decrypt(ciphertext_enc)\n",
    "\n",
    "print(decrypted_plaintext)"
   ]
  },
  {
   "cell_type": "code",
   "execution_count": 4,
   "metadata": {},
   "outputs": [
    {
     "name": "stdout",
     "output_type": "stream",
     "text": [
      "b\"Salted__d\\xff\\x81\\x00/v\\x11\\x93\\xfb\\xe1KS5#)\\xc0\\x8f\\xe3>T\\xd8\\xf6#\\xb9w.-\\x8c\\x96\\xbe\\xff9\\x06\\xe89\\xfeZ\\x910]l4\\xcb\\xab\\x8b\\x15\\xc2\\xc0q\\xe1N\\xd7\\x1a\\x08\\xf4f\\x05-'$t\\xcc\\xe0{\\xa3\\xb8\\x1b\\xe9\\xbfZ\\xe1\\xaa\" b'bigtang\\x00\\x00\\x00\\x00\\x00\\x00\\x00\\x00\\x00'\n",
      "b'L\\x9b\\xb7\\xd9\\xd7\\x8c\\x00\\x18\\xf87\\x93+\\xf2\\x89.\\xac\\xa8F`ng\\x11\\x86z\\xe1\\xb9\\xb0\\x90\\xba\\xc1\\xb9g^k\\xe2\\xba\\xa2\\x94[\\xc96)\\xca\\xe5\\x00\\xdeV~\\xd0#\\xc2_\\xa37\\xf3t\\xe9\\x0e\\xcbsh\\x94\\x12SD\\xbc\\xfc\\x81\\\\\\xf4\\x9e\\x0b\\x7f\\x8eq\\xa8\\xa5\\xbf\\xc0\\xb1'\n"
     ]
    }
   ],
   "source": [
    "import base64\n",
    "try:\n",
    "    from Crypto.Cipher import AES\n",
    "except ImportError:\n",
    "    print(\"You are either dont have gmpy2 install or using Python3\")\n",
    "\n",
    "ciphertext_enc = b'U2FsdGVkX19k/4EAL3YRk/vhS1M1IynAj+M+VNj2I7l3Li2Mlr7/OQboOf5akTBdbDTLq4sVwsBx4U7XGgj0ZgUtJyR0zOB7o7gb6b9a4ao='\n",
    "ciphertext_enc = base64.b64decode(ciphertext_enc)\n",
    "key = b'bigtang\\0\\0\\0\\0\\0\\0\\0\\0\\0'\n",
    "print(ciphertext_enc,key)\n",
    "decobj=AES.new(key,AES.MODE_ECB)\n",
    "decrypted_plaintext = decobj.decrypt(ciphertext_enc)\n",
    "print(decrypted_plaintext)"
   ]
  },
  {
   "cell_type": "code",
   "execution_count": 1,
   "metadata": {},
   "outputs": [
    {
     "ename": "NameError",
     "evalue": "name 'AES' is not defined",
     "output_type": "error",
     "traceback": [
      "\u001b[0;31m---------------------------------------------------------------------------\u001b[0m",
      "\u001b[0;31mNameError\u001b[0m                                 Traceback (most recent call last)",
      "\u001b[0;32m<ipython-input-1-09efd2e27eb3>\u001b[0m in \u001b[0;36m<module>\u001b[0;34m()\u001b[0m\n\u001b[1;32m      1\u001b[0m \u001b[0mplaintext\u001b[0m \u001b[0;34m=\u001b[0m \u001b[0;34mb'Hello,World!\\0\\0\\0\\0'\u001b[0m\u001b[0;34m\u001b[0m\u001b[0m\n\u001b[1;32m      2\u001b[0m \u001b[0mkey\u001b[0m \u001b[0;34m=\u001b[0m \u001b[0;34mb'bigoutang\\0\\0\\0\\0\\0\\0\\0'\u001b[0m\u001b[0;34m\u001b[0m\u001b[0m\n\u001b[0;32m----> 3\u001b[0;31m \u001b[0mencobj\u001b[0m \u001b[0;34m=\u001b[0m \u001b[0mAES\u001b[0m\u001b[0;34m.\u001b[0m\u001b[0mnew\u001b[0m\u001b[0;34m(\u001b[0m\u001b[0mkey\u001b[0m\u001b[0;34m,\u001b[0m\u001b[0mAES\u001b[0m\u001b[0;34m.\u001b[0m\u001b[0mMODE_ECB\u001b[0m\u001b[0;34m,\u001b[0m\u001b[0;34m)\u001b[0m\u001b[0;34m\u001b[0m\u001b[0m\n\u001b[0m\u001b[1;32m      4\u001b[0m \u001b[0ma\u001b[0m \u001b[0;34m=\u001b[0m \u001b[0mencobj\u001b[0m\u001b[0;34m.\u001b[0m\u001b[0mencrypt\u001b[0m\u001b[0;34m(\u001b[0m\u001b[0mplaintext\u001b[0m\u001b[0;34m)\u001b[0m\u001b[0;34m\u001b[0m\u001b[0m\n\u001b[1;32m      5\u001b[0m \u001b[0mb\u001b[0m \u001b[0;34m=\u001b[0m \u001b[0mbase64\u001b[0m\u001b[0;34m.\u001b[0m\u001b[0mb64encode\u001b[0m\u001b[0;34m(\u001b[0m\u001b[0ma\u001b[0m\u001b[0;34m)\u001b[0m\u001b[0;34m\u001b[0m\u001b[0m\n",
      "\u001b[0;31mNameError\u001b[0m: name 'AES' is not defined"
     ]
    }
   ],
   "source": [
    "plaintext = b'Hello,World!\\0\\0\\0\\0'\n",
    "key = b'bigoutang\\0\\0\\0\\0\\0\\0\\0'\n",
    "encobj = AES.new(key,AES.MODE_ECB,)\n",
    "a = encobj.encrypt(plaintext)\n",
    "b = base64.b64encode(a)\n",
    "print(b)"
   ]
  },
  {
   "cell_type": "code",
   "execution_count": 3,
   "metadata": {},
   "outputs": [
    {
     "name": "stdout",
     "output_type": "stream",
     "text": [
      "b'0\\xc8\\xecA\\x13r\\t=)\\x07\\xfa\\xb4\\xd7\\x1b\\x04?u\\x8d_\\xc9\\xa1\\xb1`\\xd1-o\\xc8\\xb0\\xa1\\xf4#%'\n",
      "b'This is Plain Text!\\x00\\x00\\x00\\x00\\x00\\x00\\x00\\x00\\x00\\x00\\x00\\x00\\x00'\n"
     ]
    }
   ],
   "source": [
    "from Crypto.Cipher import AES\n",
    "\n",
    "def main():\n",
    "    #encrypt here\n",
    "    obj=AES.new('This is a key123', AES.MODE_CBC, 'This is an IV456')\n",
    "    message='This is Plain Text!\\0\\0\\0\\0\\0\\0\\0\\0\\0\\0\\0\\0\\0'\n",
    "    ciphertext=obj.encrypt(message)\n",
    "    print(ciphertext)\n",
    "    \n",
    "    #decrypt here, we use the same key!\n",
    "    obj2=AES.new('This is a key123', AES.MODE_CBC, 'This is an IV456')\n",
    "    print(obj2.decrypt(ciphertext))\n",
    "    \n",
    "if __name__=='__main__':\n",
    "    main()"
   ]
  }
 ],
 "metadata": {
  "kernelspec": {
   "display_name": "Python 3",
   "language": "python",
   "name": "python3"
  },
  "language_info": {
   "codemirror_mode": {
    "name": "ipython",
    "version": 3
   },
   "file_extension": ".py",
   "mimetype": "text/x-python",
   "name": "python",
   "nbconvert_exporter": "python",
   "pygments_lexer": "ipython3",
   "version": "3.6.6"
  }
 },
 "nbformat": 4,
 "nbformat_minor": 2
}
