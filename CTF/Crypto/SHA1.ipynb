{
 "cells": [
  {
   "cell_type": "code",
   "execution_count": 4,
   "metadata": {},
   "outputs": [
    {
     "name": "stdout",
     "output_type": "stream",
     "text": [
      "b'DoOvnxZ2XLKwYFfhcr7iMZ7olp4M5Yryd5UqtJjgK0FzykzEde3XeJmjsfY1UArRCe2fRavM'\n"
     ]
    }
   ],
   "source": [
    "from hashlib import sha1\n",
    "s=b'DoOvnxZ2XLKwYFfhcr7iMZ7olp4M5Yryd5UqtJjg'\n",
    "t=b'K0FzykzEde3XeJmjsfY1UArRCe2fRavM'\n",
    "rlt = s+t\n",
    "print(rlt)\n",
    "m1 = sha1()\n",
    "m1.update(rlt)"
   ]
  },
  {
   "cell_type": "code",
   "execution_count": 2,
   "metadata": {},
   "outputs": [
    {
     "name": "stdout",
     "output_type": "stream",
     "text": [
      "bea22470c0899b2ccead08f28efab11dd096c4ec\n"
     ]
    }
   ],
   "source": [
    "print(m1.hexdigest())"
   ]
  },
  {
   "cell_type": "code",
   "execution_count": 3,
   "metadata": {},
   "outputs": [
    {
     "name": "stdout",
     "output_type": "stream",
     "text": [
      "27700106c5b441e6f1ce462099bfd0695917dc4e\n"
     ]
    }
   ],
   "source": [
    "m2=sha1()\n",
    "m2.update(s)\n",
    "print(m2.hexdigest())"
   ]
  },
  {
   "cell_type": "code",
   "execution_count": null,
   "metadata": {},
   "outputs": [],
   "source": []
  }
 ],
 "metadata": {
  "kernelspec": {
   "display_name": "Python 3",
   "language": "python",
   "name": "python3"
  },
  "language_info": {
   "codemirror_mode": {
    "name": "ipython",
    "version": 3
   },
   "file_extension": ".py",
   "mimetype": "text/x-python",
   "name": "python",
   "nbconvert_exporter": "python",
   "pygments_lexer": "ipython3",
   "version": "3.6.6"
  }
 },
 "nbformat": 4,
 "nbformat_minor": 2
}
