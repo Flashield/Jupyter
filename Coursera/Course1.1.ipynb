{
 "cells": [
  {
   "cell_type": "code",
   "execution_count": 8,
   "metadata": {},
   "outputs": [
    {
     "name": "stdout",
     "output_type": "stream",
     "text": [
      "[[ 88.  74.  96.  85.]\n",
      " [ 92.  99.  95.  94.]\n",
      " [ 91.  87.  99.  95.]\n",
      " [ 78.  99.  97.  81.]\n",
      " [ 88.  78.  98.  84.]\n",
      " [100.  95. 100.  92.]]\n",
      "[[13.48536933  7.49213711 56.2118442  15.80683105]\n",
      " [14.09834066 10.02326451 55.62630416 17.48049551]\n",
      " [13.94509783  8.80832336 57.96846433 17.66645823]\n",
      " [11.952941   10.02326451 56.79738425 15.06298018]\n",
      " [13.48536933  7.89711749 57.38292429 15.62086833]\n",
      " [15.32428333  9.61828413 58.55400438 17.10857008]]\n",
      "[[14.45590727  9.48329066 57.38292429 17.41850794]\n",
      " [12.97455988  8.4708397  56.79738425 15.49689318]]\n",
      "[1 0 0 1 1 0]\n"
     ]
    }
   ],
   "source": [
    "import numpy as np\n",
    "from scipy.cluster.vq import vq, kmeans, whiten\n",
    "list1 = [88.0, 74.0, 96.0, 85.0]\n",
    "list2 = [92.0, 99.0, 95.0, 94.0]\n",
    "list3 = [91.0, 87.0, 99.0, 95.0]\n",
    "list4 = [78.0, 99.0, 97.0, 81.0]\n",
    "list5 = [88.0, 78.0, 98.0, 84.0]\n",
    "list6 = [100.0, 95.0, 100.0, 92.0]\n",
    "data = np.array([list1,list2,list3,list4,list5,list6])\n",
    "print(data)\n",
    "whiten = whiten(data)\n",
    "print(whiten)\n",
    "centroids,_ = kmeans(whiten, 2)\n",
    "print(centroids)\n",
    "result,_= vq(whiten, centroids)\n",
    "print(result)      # result可能是[0 1 1 1 0 1]或其他类似列表"
   ]
  },
  {
   "cell_type": "code",
   "execution_count": 16,
   "metadata": {},
   "outputs": [
    {
     "data": {
      "image/png": "[encoded data removed]",
      "text/plain": [
       "<Figure size 432x288 with 1 Axes>"
      ]
     },
     "metadata": {},
     "output_type": "display_data"
    }
   ],
   "source": [
    "#import numpy as np\n",
    "import matplotlib.pyplot as plt\n",
    "t=np.arange(0.,4.,0.01)\n",
    "plt.plot(t,t,t,t+2,t,t**2)\n",
    "# 我是图，我是图，我是图\n",
    "plt.show()"
   ]
  },
  {
   "cell_type": "code",
   "execution_count": 2,
   "metadata": {},
   "outputs": [
    {
     "name": "stdout",
     "output_type": "stream",
     "text": [
      "Input your surname:ZHUANG\n",
      "Input your firstname:Dazhuang\n",
      "Your firstname is:Dazhuang\n",
      "Your full name is:Dazhuang ZHUANG\n"
     ]
    }
   ],
   "source": [
    "#第一课练习\n",
    "surname=input(\"Input your surname:\")\n",
    "firstname=input(\"Input your firstname:\")\n",
    "print(\"Your firstname is:\"+firstname)\n",
    "print(\"Your full name is:\"+firstname+\" \"+surname)"
   ]
  },
  {
   "cell_type": "code",
   "execution_count": null,
   "metadata": {},
   "outputs": [],
   "source": []
  }
 ],
 "metadata": {
  "kernelspec": {
   "display_name": "Python 3",
   "language": "python",
   "name": "python3"
  },
  "language_info": {
   "codemirror_mode": {
    "name": "ipython",
    "version": 3
   },
   "file_extension": ".py",
   "mimetype": "text/x-python",
   "name": "python",
   "nbconvert_exporter": "python",
   "pygments_lexer": "ipython3",
   "version": "3.5.2"
  }
 },
 "nbformat": 4,
 "nbformat_minor": 2
}
