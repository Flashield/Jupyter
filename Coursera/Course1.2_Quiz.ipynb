{
 "cells": [
  {
   "cell_type": "code",
   "execution_count": 14,
   "metadata": {},
   "outputs": [
    {
     "name": "stdout",
     "output_type": "stream",
     "text": [
      "P is 2 and M is 3 and N is 1\n",
      "P is 3 and M is 7 and N is 2\n",
      "P is 5 and M is 31 and N is 3\n",
      "P is 7 and M is 127 and N is 4\n",
      "P is 13 and M is 8191 and N is 5\n",
      "P is 17 and M is 131071 and N is 6\n",
      "131071\n"
     ]
    }
   ],
   "source": [
    "import math\n",
    "def isprime(x):\n",
    "    rlt = 1\n",
    "    for i in range(2,int(math.sqrt(x))+1,1):\n",
    "        if x%i == 0: \n",
    "            rlt = 0\n",
    "            break\n",
    "    return rlt\n",
    "isprime(11)\n",
    "P=2\n",
    "n=0\n",
    "while n<6:    \n",
    "    M = int(math.pow(2,P)-1)\n",
    "    #print(\"P is {}--{} and M is {}--{}\".format(P,isprime(P),M,isprime(M)))\n",
    "    if (isprime(P) and isprime(M)):\n",
    "        n += 1\n",
    "        print(\"P is {} and M is {} and N is {}\".format(P,M,n))        \n",
    "    P += 1\n",
    "print(M)\n",
    "    "
   ]
  },
  {
   "cell_type": "code",
   "execution_count": null,
   "metadata": {},
   "outputs": [],
   "source": [
    "import math\n",
    "for i in range(int(math.sqrt(45))):\n",
    "    print(i)"
   ]
  }
 ],
 "metadata": {
  "kernelspec": {
   "display_name": "Python 3",
   "language": "python",
   "name": "python3"
  },
  "language_info": {
   "codemirror_mode": {
    "name": "ipython",
    "version": 3
   },
   "file_extension": ".py",
   "mimetype": "text/x-python",
   "name": "python",
   "nbconvert_exporter": "python",
   "pygments_lexer": "ipython3",
   "version": "3.5.2"
  }
 },
 "nbformat": 4,
 "nbformat_minor": 2
}
