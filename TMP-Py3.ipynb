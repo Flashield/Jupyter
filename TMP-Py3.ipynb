{
 "cells": [
  {
   "cell_type": "code",
   "execution_count": 3,
   "metadata": {},
   "outputs": [],
   "source": [
    "import xgboost"
   ]
  },
  {
   "cell_type": "code",
   "execution_count": 1,
   "metadata": {},
   "outputs": [],
   "source": [
    "import js2py\n",
    "#执行本地的js\n",
    "\n",
    "def get_js():\n",
    "    f = open(\"app.rsa.min.js\",'r',encoding='UTF-8')\n",
    "    line = f.readline()\n",
    "    htmlstr = ''\n",
    "    while line:\n",
    "        htmlstr = htmlstr + line\n",
    "        line = f.readline()\n",
    "    return htmlstr\n",
    "\n",
    "def get_encode(plain_str):\n",
    "    context = js2py.EvalJs()\n",
    "    context.execute(get_js())\n",
    "    Encode_str = context.ztEncrptyUtil.encode(plain_str)\n",
    "    return Encode_str"
   ]
  },
  {
   "cell_type": "code",
   "execution_count": 7,
   "metadata": {},
   "outputs": [
    {
     "name": "stdout",
     "output_type": "stream",
     "text": [
      "'accountType=2;idCard=32068119870'\n",
      "'分段1：256'\n",
      "'分段2：256'\n",
      "'2017221;areaCode=0513;actionCode'\n",
      "'分段1：256'\n",
      "'分段2：256'\n",
      "'=jsztActionCode_mallbroadBandBui'\n",
      "'分段1：256'\n",
      "'分段2：256'\n",
      "'nessselectUserBroadAccNbr;;PathC'\n",
      "'分段1：256'\n",
      "'分段2：256'\n",
      "'ode=mall-00003;channelCode_commo'\n",
      "'分段1：256'\n",
      "'分段2：256'\n",
      "'n=300177;pubAreaCode=025;pushUse'\n",
      "'分段1：256'\n",
      "'分段2：256'\n",
      "'rId=jszt_912507;coachUser=;userL'\n",
      "'分段1：256'\n",
      "'分段2：256'\n",
      "'ogAccNbrType=;userLogAccNbr=;use'\n",
      "'分段1：256'\n",
      "'分段2：256'\n",
      "'rTokenAccNbrType=2;ztVersion=4.0'\n",
      "'分段1：256'\n",
      "'分段2：256'\n",
      "';ztInterSource=300177;pubToken=u'\n",
      "'分段1：256'\n",
      "'分段2：256'\n",
      "'ndefined;'\n",
      "'分段1：256'\n",
      "'分段2：256'\n"
     ]
    },
    {
     "data": {
      "text/plain": [
       "'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'"
      ]
     },
     "execution_count": 7,
     "metadata": {},
     "output_type": "execute_result"
    }
   ],
   "source": [
    "get_encode(\"accountType=2;idCard=320681198702017221;areaCode=0513;actionCode=jsztActionCode_mallbroadBandBuinessselectUserBroadAccNbr;;PathCode=mall-00003;channelCode_common=300177;pubAreaCode=025;pushUserId=jszt_912507;coachUser=;userLogAccNbrType=;userLogAccNbr=;userTokenAccNbrType=2;ztVersion=4.0;ztInterSource=300177;pubToken=undefined;\")"
   ]
  },
  {
   "cell_type": "code",
   "execution_count": 28,
   "metadata": {},
   "outputs": [],
   "source": [
    "a='fdalj.fda;.f dsa3.1.m4a'"
   ]
  },
  {
   "cell_type": "code",
   "execution_count": 29,
   "metadata": {},
   "outputs": [
    {
     "data": {
      "text/plain": [
       "['fdalj', 'fda;', 'f dsa3', '1', 'm4a']"
      ]
     },
     "execution_count": 29,
     "metadata": {},
     "output_type": "execute_result"
    }
   ],
   "source": [
    "a.split('.')"
   ]
  },
  {
   "cell_type": "code",
   "execution_count": 30,
   "metadata": {},
   "outputs": [
    {
     "data": {
      "text/plain": [
       "20"
      ]
     },
     "execution_count": 30,
     "metadata": {},
     "output_type": "execute_result"
    }
   ],
   "source": [
    "a.find(a.split('.')[-1],-4)"
   ]
  },
  {
   "cell_type": "code",
   "execution_count": 31,
   "metadata": {},
   "outputs": [
    {
     "data": {
      "text/plain": [
       "'fdalj.fda;.f dsa3.1'"
      ]
     },
     "execution_count": 31,
     "metadata": {},
     "output_type": "execute_result"
    }
   ],
   "source": [
    "prefix = a[0:a.rfind('.')]\n",
    "prefix"
   ]
  },
  {
   "cell_type": "code",
   "execution_count": 32,
   "metadata": {},
   "outputs": [
    {
     "data": {
      "text/plain": [
       "19"
      ]
     },
     "execution_count": 32,
     "metadata": {},
     "output_type": "execute_result"
    }
   ],
   "source": [
    "a.rfind('.')"
   ]
  },
  {
   "cell_type": "code",
   "execution_count": 47,
   "metadata": {},
   "outputs": [],
   "source": [
    "from random import randint"
   ]
  },
  {
   "cell_type": "code",
   "execution_count": 1,
   "metadata": {},
   "outputs": [],
   "source": [
    "import random"
   ]
  },
  {
   "cell_type": "code",
   "execution_count": null,
   "metadata": {},
   "outputs": [],
   "source": [
    "random.randint"
   ]
  },
  {
   "cell_type": "code",
   "execution_count": 1,
   "metadata": {},
   "outputs": [],
   "source": [
    "a=[1,5,7,9]\n",
    "b=[2,2,6,8]\n",
    "a+=b"
   ]
  },
  {
   "cell_type": "code",
   "execution_count": 2,
   "metadata": {},
   "outputs": [
    {
     "name": "stdout",
     "output_type": "stream",
     "text": [
      "[1, 2, 2, 5, 6, 7, 8, 9]\n"
     ]
    }
   ],
   "source": [
    "a.sort(reverse=False)\n",
    "print(a)"
   ]
  },
  {
   "cell_type": "code",
   "execution_count": 3,
   "metadata": {},
   "outputs": [],
   "source": [
    "a=[1]\n",
    "b=[2]\n",
    "c=[3]\n",
    "d=[4]"
   ]
  },
  {
   "cell_type": "code",
   "execution_count": 4,
   "metadata": {},
   "outputs": [
    {
     "name": "stdout",
     "output_type": "stream",
     "text": [
      "[1, 2, 2, 2, 2, 2, 2, 2, 2, 2, 3, 3, 3, 3, 3, 3, 3, 3, 3, 4, 4, 4, 4, 4, 4, 4, 4, 4]\n"
     ]
    }
   ],
   "source": [
    "print(a+b*9+c*9+d*9)"
   ]
  },
  {
   "cell_type": "code",
   "execution_count": 5,
   "metadata": {},
   "outputs": [],
   "source": [
    "a={'a':1,'b':2,'c':3}"
   ]
  },
  {
   "cell_type": "code",
   "execution_count": 6,
   "metadata": {},
   "outputs": [
    {
     "data": {
      "text/plain": [
       "False"
      ]
     },
     "execution_count": 6,
     "metadata": {},
     "output_type": "execute_result"
    }
   ],
   "source": [
    "'d' in a.keys()"
   ]
  },
  {
   "cell_type": "code",
   "execution_count": 7,
   "metadata": {},
   "outputs": [],
   "source": [
    "import numpy"
   ]
  },
  {
   "cell_type": "code",
   "execution_count": 8,
   "metadata": {},
   "outputs": [],
   "source": [
    "x = [[1.2,2.2,1.4],[1.3,2.4,2.1],[1,1,0]]\n",
    "m = numpy.array(x)"
   ]
  },
  {
   "cell_type": "markdown",
   "metadata": {},
   "source": [
    "$E=mc^2$"
   ]
  },
  {
   "cell_type": "code",
   "execution_count": 1,
   "metadata": {
    "pycharm": {
     "is_executing": false
    }
   },
   "outputs": [],
   "source": [
    "a=[0x78,0x49,0x72,0x43,0x6A,0x7E,0x3C,0x72,0x7C,0x32,0x74,0x57,0x73,0x76,0x33,0x50,0x74,0x49,0x7F,0x7A,0x6E,0x64,0x6B,0x61]"
   ]
  },
  {
   "cell_type": "code",
   "execution_count": 2,
   "metadata": {
    "pycharm": {
     "is_executing": false
    }
   },
   "outputs": [],
   "source": [
    "flag=''\n",
    "raw=''\n",
    "for i in range(len(a)):\n",
    "    #raw += chr(a[i])\n",
    "    flag += chr((a[23-i]^0x06)-1)"
   ]
  },
  {
   "cell_type": "code",
   "execution_count": 3,
   "metadata": {
    "pycharm": {
     "is_executing": false
    }
   },
   "outputs": [
    {
     "name": "stdout",
     "output_type": "stream",
     "text": [
      "flag{xNqU4otPq3ys9wkDsN}\n"
     ]
    }
   ],
   "source": [
    "print(flag)"
   ]
  },
  {
   "cell_type": "code",
   "execution_count": 5,
   "metadata": {
    "pycharm": {
     "is_executing": false
    }
   },
   "outputs": [],
   "source": [
    "import random"
   ]
  },
  {
   "cell_type": "code",
   "execution_count": 7,
   "metadata": {
    "pycharm": {
     "is_executing": false
    }
   },
   "outputs": [
    {
     "name": "stdout",
     "output_type": "stream",
     "text": [
      "677+337-180 = 834\n",
      "566+168-92 = 642\n",
      "221-571+607 = 257\n",
      "277+118+452 = 847\n"
     ]
    }
   ],
   "source": [
    "for i in range(10):\n",
    "    s_calc=str(random.randint(50,800))+random.choice(['+','-'])+str(random.randint(50,800))+random.choice(['+','-'])+str(random.randint(50,800))\n",
    "    if eval(s_calc) > 0 and eval(s_calc) < 1000:\n",
    "        print(s_calc,'=',eval(s_calc))"
   ]
  },
  {
   "cell_type": "code",
   "execution_count": 14,
   "metadata": {},
   "outputs": [
    {
     "name": "stdout",
     "output_type": "stream",
     "text": [
      "409+391 = 800\n",
      "743-619 = 124\n",
      "673-595 = 78\n",
      "628+593 = 1221\n",
      "478-111 = 367\n",
      "758+786 = 1544\n",
      "370+276 = 646\n",
      "666-581 = 85\n",
      "679+213 = 892\n",
      "785+562 = 1347\n",
      "271+62 = 333\n",
      "354+477 = 831\n",
      "689+363 = 1052\n",
      "665+428 = 1093\n"
     ]
    }
   ],
   "source": [
    "for i in range(20):\n",
    "    s_calc=str(random.randint(50,800))+random.choice(['+','-'])+str(random.randint(50,800))\n",
    "    if eval(s_calc)>0:\n",
    "        print(s_calc,'=',eval(s_calc))"
   ]
  },
  {
   "cell_type": "code",
   "execution_count": 40,
   "metadata": {},
   "outputs": [
    {
     "data": {
      "text/plain": [
       "9"
      ]
     },
     "execution_count": 40,
     "metadata": {},
     "output_type": "execute_result"
    }
   ],
   "source": [
    "random.randint(-8,10)"
   ]
  },
  {
   "cell_type": "code",
   "execution_count": 43,
   "metadata": {},
   "outputs": [],
   "source": [
    "s_Array=[]\n",
    "for i in range(50):\n",
    "    s_Array += [str(random.randint(-8,10))+',']"
   ]
  },
  {
   "cell_type": "code",
   "execution_count": 46,
   "metadata": {},
   "outputs": [
    {
     "name": "stdout",
     "output_type": "stream",
     "text": [
      "['-1,', '8,', '2,', '6,', '3,', '5,', '9,', '9,', '-5,', '4,', '5,', '7,', '-5,', '7,', '4,', '3,', '2,', '-1,', '-5,', '2,', '-5,', '-1,', '-3,', '-2,', '0,', '-2,', '-5,', '-1,', '-5,', '1,', '3,', '-4,', '6,', '6,', '8,', '4,', '10,', '0,', '4,', '4,', '-5,', '-7,', '-6,', '1,', '0,', '-5,', '8,', '-8,', '9,', '5,']\n"
     ]
    }
   ],
   "source": [
    "print(str(s_Array))"
   ]
  },
  {
   "cell_type": "code",
   "execution_count": 47,
   "metadata": {},
   "outputs": [
    {
     "data": {
      "text/plain": [
       "'-1,8,2,6,3,5,9,9,-5,4,5,7,-5,7,4,3,2,-1,-5,2,-5,-1,-3,-2,0,-2,-5,-1,-5,1,3,-4,6,6,8,4,10,0,4,4,-5,-7,-6,1,0,-5,8,-8,9,5,'"
      ]
     },
     "execution_count": 47,
     "metadata": {},
     "output_type": "execute_result"
    }
   ],
   "source": [
    "''.join(s_Array)"
   ]
  },
  {
   "cell_type": "code",
   "execution_count": 5,
   "metadata": {},
   "outputs": [
    {
     "name": "stdout",
     "output_type": "stream",
     "text": [
      "A\n",
      "B\n",
      "C\n",
      "D\n",
      "E\n",
      "F\n",
      "G\n",
      "H\n",
      "I\n",
      "J\n",
      "K\n",
      "L\n",
      "M\n",
      "N\n",
      "O\n",
      "P\n",
      "Q\n",
      "R\n",
      "S\n",
      "T\n",
      "U\n",
      "V\n",
      "W\n",
      "X\n",
      "Y\n",
      "Z\n"
     ]
    }
   ],
   "source": [
    "for i in range(65,91):\n",
    "    print(chr(i),end=\"\\t\")"
   ]
  },
  {
   "cell_type": "code",
   "execution_count": 6,
   "metadata": {},
   "outputs": [],
   "source": [
    "i=range(65,91)"
   ]
  },
  {
   "cell_type": "code",
   "execution_count": 7,
   "metadata": {},
   "outputs": [],
   "source": [
    "import random"
   ]
  },
  {
   "cell_type": "code",
   "execution_count": 18,
   "metadata": {},
   "outputs": [
    {
     "ename": "TypeError",
     "evalue": "an integer is required (got type list)",
     "output_type": "error",
     "traceback": [
      "\u001b[0;31m---------------------------------------------------------------------------\u001b[0m",
      "\u001b[0;31mTypeError\u001b[0m                                 Traceback (most recent call last)",
      "\u001b[0;32m<ipython-input-18-d2e1fa9107bb>\u001b[0m in \u001b[0;36m<module>\u001b[0;34m()\u001b[0m\n\u001b[0;32m----> 1\u001b[0;31m \u001b[0mrandom\u001b[0m\u001b[0;34m.\u001b[0m\u001b[0mshuffle\u001b[0m\u001b[0;34m(\u001b[0m\u001b[0mchr\u001b[0m\u001b[0;34m(\u001b[0m\u001b[0mi\u001b[0m\u001b[0;34m)\u001b[0m\u001b[0;34m)\u001b[0m\u001b[0;34m\u001b[0m\u001b[0;34m\u001b[0m\u001b[0m\n\u001b[0m",
      "\u001b[0;31mTypeError\u001b[0m: an integer is required (got type list)"
     ]
    }
   ],
   "source": [
    "random.shuffle(chr(i))"
   ]
  },
  {
   "cell_type": "code",
   "execution_count": 15,
   "metadata": {},
   "outputs": [],
   "source": [
    "i = list(i)"
   ]
  },
  {
   "cell_type": "code",
   "execution_count": 19,
   "metadata": {},
   "outputs": [
    {
     "name": "stdout",
     "output_type": "stream",
     "text": [
      "M\n",
      "D\n",
      "R\n",
      "L\n",
      "N\n",
      "B\n",
      "O\n",
      "Y\n",
      "G\n",
      "H\n",
      "I\n",
      "S\n",
      "T\n",
      "P\n",
      "Q\n",
      "J\n",
      "E\n",
      "V\n",
      "Z\n",
      "K\n",
      "U\n",
      "A\n",
      "F\n",
      "W\n",
      "X\n",
      "C\n"
     ]
    }
   ],
   "source": [
    "for k in i:\n",
    "    print(chr(k))"
   ]
  },
  {
   "cell_type": "code",
   "execution_count": 1,
   "metadata": {
    "pycharm": {
     "is_executing": false
    }
   },
   "outputs": [],
   "source": [
    "a=[113, 123, 118, 112, 108, 94, 99, 72, 38, 68, 72, 87, 89, 72, 36, 118, 100, 78, 72, 87, 121, 83, 101, 39, 62, 94, 62, 38, 107, 115, 106]"
   ]
  },
  {
   "cell_type": "code",
   "execution_count": 2,
   "metadata": {
    "pycharm": {
     "is_executing": false
    }
   },
   "outputs": [
    {
     "name": "stdout",
     "output_type": "stream",
     "text": [
      "flag{It_1S_@N_3asY_@nDr0)I)1|d}\n"
     ]
    }
   ],
   "source": [
    "s=''\n",
    "for i in a:\n",
    "    s += chr(i^0x17)\n",
    "print(s)"
   ]
  },
  {
   "cell_type": "code",
   "execution_count": 21,
   "metadata": {},
   "outputs": [
    {
     "data": {
      "text/plain": [
       "'The'"
      ]
     },
     "execution_count": 21,
     "metadata": {},
     "output_type": "execute_result"
    }
   ],
   "source": [
    "bytes.fromhex('546865').decode(encoding='utf-8')"
   ]
  },
  {
   "cell_type": "code",
   "execution_count": 20,
   "metadata": {},
   "outputs": [
    {
     "data": {
      "text/plain": [
       "'The'"
      ]
     },
     "execution_count": 20,
     "metadata": {},
     "output_type": "execute_result"
    }
   ],
   "source": [
    "k.decode(encoding='utf-8')"
   ]
  },
  {
   "cell_type": "code",
   "execution_count": 1,
   "metadata": {},
   "outputs": [],
   "source": [
    "import random"
   ]
  },
  {
   "cell_type": "code",
   "execution_count": 21,
   "metadata": {},
   "outputs": [
    {
     "name": "stdout",
     "output_type": "stream",
     "text": [
      "----------第1天----------\n",
      "1566 - 709 = 857\n",
      "938 + 54 = 992\n",
      "2 × 813 = 1626\n",
      "854 + 863 = 1717\n",
      "3 × 507 = 1521\n",
      "1738 / 2 = 869\n",
      "4 × 633 = 2532\n",
      "6 × 346 = 2076\n",
      "1087 - 983 = 104\n",
      "7 × 163 = 1141\n",
      "----------第2天----------\n",
      "677 + 475 = 1152\n",
      "38 + 321 = 359\n",
      "330 + 294 = 624\n",
      "774 - 381 = 393\n",
      "1 × 471 = 471\n",
      "524 + 543 = 1067\n",
      "748 + 74 = 822\n",
      "9 × 604 = 5436\n",
      "833 - 332 = 501\n",
      "350 + 599 = 949\n",
      "----------第3天----------\n",
      "3192 / 7 = 456\n",
      "471 + 785 = 1256\n",
      "828 / 4 = 207\n",
      "6290 / 10 = 629\n",
      "937 + 57 = 994\n",
      "9 × 897 = 8073\n",
      "1827 - 937 = 890\n",
      "3 × 677 = 2031\n",
      "197 - 81 = 116\n",
      "9 × 342 = 3078\n",
      "----------第4天----------\n",
      "2 × 371 = 742\n",
      "1772 - 818 = 954\n",
      "10 × 359 = 3590\n",
      "819 + 512 = 1331\n",
      "1185 - 362 = 823\n",
      "1584 - 644 = 940\n",
      "6183 / 9 = 687\n",
      "1004 / 4 = 251\n",
      "1260 - 943 = 317\n",
      "148 + 639 = 787\n",
      "----------第5天----------\n",
      "51 + 802 = 853\n",
      "7 × 684 = 4788\n",
      "2 × 423 = 846\n",
      "7010 / 10 = 701\n",
      "489 + 816 = 1305\n",
      "1261 - 263 = 998\n",
      "1508 - 712 = 796\n",
      "10 × 209 = 2090\n",
      "478 + 392 = 870\n",
      "818 - 788 = 30\n",
      "----------第6天----------\n",
      "289 + 379 = 668\n",
      "886 + 208 = 1094\n",
      "234 + 70 = 304\n",
      "542 + 582 = 1124\n",
      "1065 - 775 = 290\n",
      "2876 / 4 = 719\n",
      "155 / 5 = 31\n",
      "1584 - 659 = 925\n",
      "9 × 908 = 8172\n",
      "6 × 55 = 330\n",
      "----------第7天----------\n",
      "2985 / 5 = 597\n",
      "13 + 681 = 694\n",
      "6 × 694 = 4164\n",
      "2792 / 4 = 698\n",
      "219 + 254 = 473\n",
      "720 - 30 = 690\n",
      "4 × 826 = 3304\n",
      "587 + 718 = 1305\n",
      "19 + 382 = 401\n",
      "4232 / 8 = 529\n",
      "----------第8天----------\n",
      "2443 / 7 = 349\n",
      "702 - 117 = 585\n",
      "610 / 2 = 305\n",
      "854 - 527 = 327\n",
      "6012 / 9 = 668\n",
      "6759 / 9 = 751\n",
      "919 / 1 = 919\n",
      "869 - 55 = 814\n",
      "4650 / 6 = 775\n",
      "366 + 243 = 609\n",
      "----------第9天----------\n",
      "268 + 104 = 372\n",
      "589 + 491 = 1080\n",
      "901 + 187 = 1088\n",
      "1493 - 799 = 694\n",
      "505 + 37 = 542\n",
      "817 - 300 = 517\n",
      "3 × 811 = 2433\n",
      "28 / 2 = 14\n",
      "4725 / 9 = 525\n",
      "2 × 29 = 58\n",
      "----------第10天----------\n",
      "554 / 2 = 277\n",
      "869 + 849 = 1718\n",
      "6 × 345 = 2070\n",
      "862 + 198 = 1060\n",
      "766 - 486 = 280\n",
      "1324 - 758 = 566\n",
      "62 + 55 = 117\n",
      "5292 / 7 = 756\n",
      "710 / 2 = 355\n",
      "290 + 837 = 1127\n"
     ]
    }
   ],
   "source": [
    "for i in range(160):\n",
    "    a = random.randint(1,10)\n",
    "    b = random.randint(10,999)\n",
    "    if i % 10 == 0:\n",
    "        print(\"----------第{}天----------\".format(round(i / 10)+1))\n",
    "    rand_oper = random.choice(oper)\n",
    "    if rand_oper == \"*\":\n",
    "        print(\"{} × {} = {}\".format(a,b,a*b))\n",
    "    elif rand_oper == \"/\":\n",
    "        print(\"{} / {} = {}\".format(a*b,a,b))\n",
    "    elif rand_oper == \"+\":\n",
    "        a = random.randint(1,999)\n",
    "        b = random.randint(1,999)\n",
    "        print(\"{} + {} = {}\".format(a, b, a+b))\n",
    "    elif rand_oper == \"-\":\n",
    "        a = random.randint(1,999)\n",
    "        b = random.randint(1,999)\n",
    "        print(\"{} - {} = {}\".format(a+b, a, b))\n",
    "    else:\n",
    "        print(i, rand_oper)"
   ]
  },
  {
   "cell_type": "code",
   "execution_count": 5,
   "metadata": {},
   "outputs": [
    {
     "name": "stdout",
     "output_type": "stream",
     "text": [
      "9 × 945 = 8505\n"
     ]
    }
   ],
   "source": [
    "print(\"{} × {} = {}\".format(a,b,a*b))"
   ]
  },
  {
   "cell_type": "markdown",
   "metadata": {},
   "source": [
    "$\\div$"
   ]
  },
  {
   "cell_type": "code",
   "execution_count": 15,
   "metadata": {},
   "outputs": [],
   "source": [
    "oper=[\"+\",\"-\",\"*\",\"/\"]"
   ]
  },
  {
   "cell_type": "code",
   "execution_count": 16,
   "metadata": {},
   "outputs": [
    {
     "data": {
      "text/plain": [
       "'+'"
      ]
     },
     "execution_count": 16,
     "metadata": {},
     "output_type": "execute_result"
    }
   ],
   "source": [
    "random.choice(oper)"
   ]
  },
  {
   "cell_type": "code",
   "execution_count": 33,
   "metadata": {},
   "outputs": [
    {
     "name": "stdout",
     "output_type": "stream",
     "text": [
      "----------第1天----------\n",
      "937 - 214 = \n",
      "3 × 57 = \n",
      "9 × 454 = \n",
      "16 + 488 = \n",
      "823 - 189 = \n",
      "3 × 492 = \n",
      "132 ÷ 6 = \n",
      "529 + 235 = \n",
      "74 ÷ 2 = \n",
      "9 × 59 = \n",
      "----------第2天----------\n",
      "1436 - 509 = \n",
      "5 × 437 = \n",
      "253 + 500 = \n",
      "1266 - 461 = \n",
      "144 + 991 = \n",
      "744 + 374 = \n",
      "8 × 407 = \n",
      "1090 - 244 = \n",
      "1189 - 392 = \n",
      "235 + 281 = \n",
      "----------第3天----------\n",
      "372 ÷ 4 = \n",
      "736 ÷ 8 = \n",
      "8 × 339 = \n",
      "642 - 409 = \n",
      "264 + 155 = \n",
      "7 × 257 = \n",
      "1071 - 770 = \n",
      "1915 - 942 = \n",
      "614 + 932 = \n",
      "1248 - 358 = \n",
      "----------第4天----------\n",
      "195 ÷ 3 = \n",
      "7 × 916 = \n",
      "253 + 303 = \n",
      "1479 - 715 = \n",
      "792 + 952 = \n",
      "531 - 276 = \n",
      "863 - 861 = \n",
      "7 × 130 = \n",
      "327 + 255 = \n",
      "626 - 311 = \n",
      "----------第5天----------\n",
      "570 ÷ 6 = \n",
      "10 × 999 = \n",
      "46 + 317 = \n",
      "642 + 496 = \n",
      "554 - 170 = \n",
      "173 + 149 = \n",
      "5 × 652 = \n",
      "144 ÷ 6 = \n",
      "712 + 273 = \n",
      "637 ÷ 7 = \n",
      "----------第6天----------\n",
      "5 × 992 = \n",
      "9 × 809 = \n",
      "839 + 397 = \n",
      "981 + 610 = \n",
      "891 ÷ 9 = \n",
      "3 × 794 = \n",
      "519 + 690 = \n",
      "558 ÷ 9 = \n",
      "768 - 384 = \n",
      "1465 - 581 = \n",
      "----------第7天----------\n",
      "6 × 554 = \n",
      "940 + 250 = \n",
      "9 × 890 = \n",
      "192 ÷ 3 = \n",
      "7 × 974 = \n",
      "12 ÷ 2 = \n",
      "81 ÷ 9 = \n",
      "630 ÷ 9 = \n",
      "130 ÷ 5 = \n",
      "3 × 348 = \n",
      "----------第8天----------\n",
      "222 + 469 = \n",
      "9 × 452 = \n",
      "412 + 721 = \n",
      "640 + 821 = \n",
      "852 - 434 = \n",
      "216 + 297 = \n",
      "224 ÷ 4 = \n",
      "273 ÷ 7 = \n",
      "7 × 608 = \n",
      "570 ÷ 6 = \n",
      "----------第9天----------\n",
      "9 × 737 = \n",
      "350 ÷ 7 = \n",
      "662 - 183 = \n",
      "1176 - 682 = \n",
      "1402 - 826 = \n",
      "138 ÷ 3 = \n",
      "792 ÷ 8 = \n",
      "547 + 308 = \n",
      "722 + 927 = \n",
      "495 - 488 = \n",
      "----------第10天----------\n",
      "144 ÷ 8 = \n",
      "357 + 246 = \n",
      "8 × 514 = \n",
      "4 × 414 = \n",
      "8 × 671 = \n",
      "10 × 392 = \n",
      "190 ÷ 5 = \n",
      "525 ÷ 7 = \n",
      "154 ÷ 7 = \n",
      "118 ÷ 2 = \n",
      "----------第11天----------\n",
      "5 × 943 = \n",
      "3 × 87 = \n",
      "135 ÷ 9 = \n",
      "769 + 276 = \n",
      "144 ÷ 3 = \n",
      "838 + 665 = \n",
      "405 ÷ 5 = \n",
      "1081 - 505 = \n",
      "57 ÷ 3 = \n",
      "854 + 311 = \n",
      "----------第12天----------\n",
      "952 - 904 = \n",
      "4 × 715 = \n",
      "231 + 378 = \n",
      "496 + 391 = \n",
      "1190 - 422 = \n",
      "102 ÷ 3 = \n",
      "10 × 834 = \n",
      "325 ÷ 5 = \n",
      "202 + 788 = \n",
      "937 + 242 = \n",
      "----------第13天----------\n",
      "3 × 445 = \n",
      "5 × 291 = \n",
      "599 + 461 = \n",
      "729 + 579 = \n",
      "208 + 452 = \n",
      "6 × 680 = \n",
      "624 + 549 = \n",
      "567 ÷ 7 = \n",
      "1337 - 482 = \n",
      "252 ÷ 7 = \n",
      "----------第14天----------\n",
      "955 + 17 = \n",
      "858 + 372 = \n",
      "7 × 886 = \n",
      "890 + 776 = \n",
      "905 - 819 = \n",
      "20 ÷ 5 = \n",
      "528 + 698 = \n",
      "6 × 914 = \n",
      "760 - 138 = \n",
      "496 + 49 = \n",
      "----------第15天----------\n",
      "189 ÷ 9 = \n",
      "46 ÷ 2 = \n",
      "1233 - 663 = \n",
      "10 × 477 = \n",
      "640 - 10 = \n",
      "135 ÷ 9 = \n",
      "10 × 250 = \n",
      "84 ÷ 4 = \n",
      "908 + 616 = \n",
      "723 + 779 = \n",
      "----------第16天----------\n",
      "10 × 141 = \n",
      "540 + 807 = \n",
      "471 + 10 = \n",
      "12 ÷ 6 = \n",
      "984 + 861 = \n",
      "8 × 540 = \n",
      "332 + 347 = \n",
      "650 - 296 = \n",
      "683 + 764 = \n",
      "9 × 104 = \n",
      "----------第17天----------\n",
      "111 + 774 = \n",
      "207 + 745 = \n",
      "210 ÷ 5 = \n",
      "390 + 774 = \n",
      "9 × 644 = \n",
      "106 ÷ 2 = \n",
      "504 ÷ 6 = \n",
      "3 × 77 = \n",
      "1441 - 814 = \n",
      "63 ÷ 3 = \n",
      "----------第18天----------\n",
      "40 ÷ 8 = \n",
      "828 - 532 = \n",
      "6 × 672 = \n",
      "6 × 393 = \n",
      "536 ÷ 8 = \n",
      "672 + 325 = \n",
      "195 + 105 = \n",
      "3 × 980 = \n",
      "532 - 47 = \n",
      "178 ÷ 2 = \n",
      "----------第19天----------\n",
      "1128 - 926 = \n",
      "897 - 863 = \n",
      "282 ÷ 6 = \n",
      "545 + 567 = \n",
      "430 + 518 = \n",
      "675 ÷ 9 = \n",
      "6 × 656 = \n",
      "886 - 224 = \n",
      "824 + 757 = \n",
      "56 ÷ 4 = \n",
      "----------第20天----------\n",
      "4 × 768 = \n",
      "270 ÷ 5 = \n",
      "1837 - 946 = \n",
      "150 - 125 = \n",
      "6 × 685 = \n",
      "624 + 110 = \n",
      "5 × 810 = \n",
      "9 × 759 = \n",
      "98 ÷ 7 = \n",
      "8 × 478 = \n",
      "----------第21天----------\n",
      "690 + 545 = \n",
      "624 - 529 = \n",
      "563 + 186 = \n",
      "722 + 860 = \n",
      "184 ÷ 8 = \n",
      "7 × 477 = \n",
      "3 × 800 = \n",
      "8 × 312 = \n",
      "283 + 149 = \n",
      "228 ÷ 4 = \n",
      "----------第22天----------\n",
      "190 ÷ 5 = \n",
      "50 + 663 = \n",
      "948 + 602 = \n",
      "537 + 940 = \n",
      "963 + 787 = \n",
      "132 ÷ 6 = \n",
      "486 ÷ 9 = \n",
      "794 + 743 = \n",
      "8 × 807 = \n",
      "8 × 121 = \n",
      "----------第23天----------\n",
      "595 - 55 = \n",
      "356 + 21 = \n",
      "96 ÷ 3 = \n",
      "363 + 23 = \n",
      "6 × 212 = \n",
      "790 + 362 = \n",
      "362 - 156 = \n",
      "88 + 579 = \n",
      "3 + 53 = \n",
      "883 + 388 = \n",
      "----------第24天----------\n",
      "68 ÷ 2 = \n",
      "668 - 495 = \n",
      "3 × 373 = \n",
      "1287 - 480 = \n",
      "207 ÷ 9 = \n",
      "933 - 401 = \n",
      "914 - 747 = \n",
      "4 × 214 = \n",
      "4 × 423 = \n",
      "478 + 105 = \n",
      "----------第25天----------\n",
      "1043 - 529 = \n",
      "6 × 891 = \n",
      "292 + 50 = \n",
      "8 × 67 = \n",
      "632 ÷ 8 = \n",
      "857 + 118 = \n",
      "8 × 651 = \n",
      "300 ÷ 4 = \n",
      "1228 - 447 = \n",
      "878 - 381 = \n"
     ]
    }
   ],
   "source": [
    "for i in range(250):\n",
    "    if i % 10 == 0:\n",
    "        print(\"----------第{}天----------\".format(round(i / 10)+1))\n",
    "    rand_oper = random.choice(oper)\n",
    "    if rand_oper == \"*\":\n",
    "        a = random.randint(3,10)\n",
    "        b = random.randint(10,999)\n",
    "        print(\"{} × {} = {}\".format(a,b,\"\"))\n",
    "    elif rand_oper == \"/\":\n",
    "        a = random.randint(1,99)\n",
    "        b = random.randint(2,9)\n",
    "        print(\"{} ÷ {} = {}\".format(a*b,b,\"\"))\n",
    "    elif rand_oper == \"+\":\n",
    "        a = random.randint(1,999)\n",
    "        b = random.randint(1,999)\n",
    "        print(\"{} + {} = {}\".format(a, b, \"\"))\n",
    "    elif rand_oper == \"-\":\n",
    "        a = random.randint(1,999)\n",
    "        b = random.randint(1,999)\n",
    "        print(\"{} - {} = {}\".format(a+b, a, \"\"))\n",
    "    else:\n",
    "        print(i, rand_oper)"
   ]
  },
  {
   "cell_type": "code",
   "execution_count": 1,
   "metadata": {
    "pycharm": {
     "is_executing": false
    }
   },
   "outputs": [
    {
     "name": "stdout",
     "output_type": "stream",
     "text": [
      "Hello, My World, I Love You!\n"
     ]
    }
   ],
   "source": [
    "print(\"Hello, My World, I Love You!\")"
   ]
  },
  {
   "cell_type": "code",
   "execution_count": 2,
   "metadata": {
    "pycharm": {
     "is_executing": false,
     "name": "#%%\n"
    }
   },
   "outputs": [
    {
     "name": "stdout",
     "output_type": "stream",
     "text": [
      "1 2 3 34\n"
     ]
    }
   ],
   "source": [
    "a = [1,2,3,4]\n",
    "print(1,2,3,34)"
   ]
  },
  {
   "cell_type": "code",
   "execution_count": 4,
   "metadata": {
    "pycharm": {
     "name": "#%%\n"
    }
   },
   "outputs": [
    {
     "data": {
      "text/plain": [
       "798"
      ]
     },
     "execution_count": 4,
     "metadata": {},
     "output_type": "execute_result"
    }
   ],
   "source": [
    "len('182812482972168423884795132699225934365072979206288632257180603530046820174392675977209758378734399146216742345585898385168866887000708558119959898992294085847474548306743585711154035585848291290988967352517174312220756638881837930962458861193652684492265539096477345065113556380573776423787885892688197584678128636231428194711357642971544417113415626331810909274966752557628893585198569815939514862013512237657828262360291726912615575646318630641527418369988268899879152029186728850816178597399494254385226049249357897840618728804680238123954207656671747782543031545429711152272581734051959578453680011676521727918037340906791388178004979453256050227967701258768070039292546964652071924183467364467145178290753361477912582242961929982420950384199259355122986865808523351306098081481072454093823090')"
   ]
  },
  {
   "cell_type": "code",
   "execution_count": 5,
   "metadata": {},
   "outputs": [],
   "source": [
    "n='438980397031315392229453908048509540832246041631432878509579665664182747463100230160823865621798053164989325086085003940181731721089701380743698761443812523024144817205902380903062054138730658451286904347536210833160924917347633148983052015550354913154312162901555870494273903714349869746793861874257201085777893961715468950661641778512110325457371446203379767458862059193946434683324578530163650541637261158037041205642428802942295011562277084687025213626698849526240663754073508102229066475773893638716845176469070938803298515155140240970836387785401085919369741520890271902332951669953411373633688944162470994856654604872287103746922041844065053274059990595496159866206551119361036237431289830985174384522423364811997241255005514248198447925396378192915553898993758660041223393168707380580012437'\n",
    "c='182812482972168423884795132699225934365072979206288632257180603530046820174392675977209758378734399146216742345585898385168866887000708558119959898992294085847474548306743585711154035585848291290988967352517174312220756638881837930962458861193652684492265539096477345065113556380573776423787885892688197584678128636231428194711357642971544417113415626331810909274966752557628893585198569815939514862013512237657828262360291726912615575646318630641527418369988268899879152029186728850816178597399494254385226049249357897840618728804680238123954207656671747782543031545429711152272581734051959578453680011676521727918037340906791388178004979453256050227967701258768070039292546964652071924183467364467145178290753361477912582242961929982420950384199259355122986865808523351306098081481072454093823090'"
   ]
  },
  {
   "cell_type": "code",
   "execution_count": 34,
   "metadata": {},
   "outputs": [],
   "source": [
    "pq_1=n[-200:]\n",
    "pq_2=n[:198]\n",
    "pq=pq_2+pq_1"
   ]
  },
  {
   "cell_type": "code",
   "execution_count": 74,
   "metadata": {},
   "outputs": [],
   "source": [
    "pq = int(pq)"
   ]
  },
  {
   "cell_type": "code",
   "execution_count": 71,
   "metadata": {},
   "outputs": [],
   "source": [
    "p2_q2=int(str(int(n)-(pow(10,400)+1)*int(pq))[:-200])"
   ]
  },
  {
   "cell_type": "code",
   "execution_count": 72,
   "metadata": {},
   "outputs": [
    {
     "data": {
      "text/plain": [
       "149059115008845943788686247621115138315971097043804137122569465942718322083925207395073724809635644054572405536603135954965381115866360301258462034076642742242284689244725935342007516375047243635261715933631183339096664194834121374440574790524805238819257757408829598223890077634850861466799135940883222179126678605705447851253430461701028964665116410198336169552598003000338120267462560803455285050"
      ]
     },
     "execution_count": 72,
     "metadata": {},
     "output_type": "execute_result"
    }
   ],
   "source": [
    "p2_q2"
   ]
  },
  {
   "cell_type": "code",
   "execution_count": 75,
   "metadata": {},
   "outputs": [],
   "source": [
    "t1=p2_q2+2*pq"
   ]
  },
  {
   "cell_type": "code",
   "execution_count": 84,
   "metadata": {},
   "outputs": [],
   "source": [
    "import gmpy2 \n",
    "\n",
    "p_p_q = gmpy2.iroot(t1,2)"
   ]
  },
  {
   "cell_type": "code",
   "execution_count": 82,
   "metadata": {},
   "outputs": [],
   "source": [
    "t2 = t1-4*pq"
   ]
  },
  {
   "cell_type": "code",
   "execution_count": 85,
   "metadata": {},
   "outputs": [],
   "source": [
    "p_m_q = gmpy2.iroot(t2,2)"
   ]
  },
  {
   "cell_type": "code",
   "execution_count": 97,
   "metadata": {},
   "outputs": [],
   "source": [
    "p = (p_p_q+p_m_q)//2\n",
    "q = (p_p_q-p_m_q)//2"
   ]
  },
  {
   "cell_type": "code",
   "execution_count": 89,
   "metadata": {},
   "outputs": [],
   "source": [
    "p_p_q = 15390100532976028036566707415665788210144919873251179927038675446371084321201614535387554562058176442517533850721654700914519613191519912647703052700111296571734693280005588205728742958783826751851382\n",
    "p_m_q = 7827070691042905442425984672534718816941611996609336353243072759064686501182791909647808887158067388358674367589039616322394102992777239864012674211772020618714709168819372287126331816126679158457724"
   ]
  },
  {
   "cell_type": "code",
   "execution_count": 100,
   "metadata": {},
   "outputs": [
    {
     "name": "stdout",
     "output_type": "stream",
     "text": [
      "11608585612009466739496346044100253513543265934930258140140874102717885411192203222517681724608121915438104109155347158618456858092148576255857863455941658595224701224412480246427537387455252955154553\n",
      "3781514920966561297070361371565534696601653938320921786897801343653198910009411312869872837450054527079429741566307542296062755099371336391845189244169637976509992055593107959301205571328573796696829\n"
     ]
    }
   ],
   "source": [
    "print(p)\n",
    "print(q)"
   ]
  },
  {
   "cell_type": "code",
   "execution_count": 101,
   "metadata": {},
   "outputs": [
    {
     "data": {
      "text/plain": [
       "43898039703131539222945390804850954083224604163143287850957966566418274746310023016082386562179805316498932508608500394018173172108970138074369876144381252302414481720590238090306205413873065845128688944162470994856654604872287103746922041844065053274059990595496159866206551119361036237431289830985174384522423364811997241255005514248198447925396378192915553898993758660041223393168707380580012437"
      ]
     },
     "execution_count": 101,
     "metadata": {},
     "output_type": "execute_result"
    }
   ],
   "source": [
    "p*q"
   ]
  },
  {
   "cell_type": "code",
   "execution_count": 102,
   "metadata": {},
   "outputs": [],
   "source": [
    "e = 65537"
   ]
  },
  {
   "cell_type": "code",
   "execution_count": 147,
   "metadata": {},
   "outputs": [],
   "source": [
    "phi = (p1-1)*(p2-1)"
   ]
  },
  {
   "cell_type": "code",
   "execution_count": 148,
   "metadata": {},
   "outputs": [],
   "source": [
    "d = gmpy2.invert(e,phi)"
   ]
  },
  {
   "cell_type": "code",
   "execution_count": 149,
   "metadata": {},
   "outputs": [],
   "source": [
    "m = pow(int(c),d,p1*p2)"
   ]
  },
  {
   "cell_type": "code",
   "execution_count": 150,
   "metadata": {},
   "outputs": [
    {
     "data": {
      "text/plain": [
       "mpz(30441514151309293867397180840357391809781413739226379308757424137571047860349)"
      ]
     },
     "execution_count": 150,
     "metadata": {},
     "output_type": "execute_result"
    }
   ],
   "source": [
    "m"
   ]
  },
  {
   "cell_type": "code",
   "execution_count": 133,
   "metadata": {},
   "outputs": [
    {
     "data": {
      "text/plain": [
       "'0x217880160aa10d5e2323f325a600e8297e62922ff670d6b5b09b3f7cccdc35aef08b027f5c7db673ae00c38bfa70112d2763402d2c169e231e7a06135fe3b3cc8cec6103613af05607a00e90782a06559a1335465c8103fbe0955430f290e3d6376590bf4496f71bc869660cc9784a4d33d130aede021f4ddf1e517cac67d0e9bc50dd8772dd0d3880a0225f4ef0b391157f3691b8e2c79c563d778fe9eca7604541f20365a37df21b48fc9ecb7450e046f7ff14ca2e391bccfe70227668074eefce256b17a1562aafe38c0ffc8a851e25309f7fa70fa4a1d03cf781b14ae8eb6318603d94495b94d4043148883f09f0a0fe8e70be307a9ad14f4d3cc5e16e3983bd7ed9007b7cbd42efa8e679d8e023d14b31b587ec2a9e3258fb34c3b0a637af12ad3614897e7c0d90fad19abf3938c975ef222eff6ff512ac8bc82187b0b343acdaf8dd240fd8522878d'"
      ]
     },
     "execution_count": 133,
     "metadata": {},
     "output_type": "execute_result"
    }
   ],
   "source": [
    "str(hex(m))"
   ]
  },
  {
   "cell_type": "code",
   "execution_count": 151,
   "metadata": {},
   "outputs": [
    {
     "data": {
      "text/plain": [
       "b'CMISCCTF{easy_math_game_hhhhhhh}'"
      ]
     },
     "execution_count": 151,
     "metadata": {},
     "output_type": "execute_result"
    }
   ],
   "source": [
    "bytes.fromhex(str(hex(m))[2:])"
   ]
  },
  {
   "cell_type": "code",
   "execution_count": 119,
   "metadata": {},
   "outputs": [],
   "source": [
    "q2 = int(n)//p"
   ]
  },
  {
   "cell_type": "code",
   "execution_count": 124,
   "metadata": {},
   "outputs": [
    {
     "data": {
      "text/plain": [
       "438980397031315392229453908048509540832246041631432878509579665664182747463100230160823865621798053164989325086085003940181731721089701380743698761443812523024144817205902380903062054138730658451286904347536210833160924917347633148983052015550354913154312162901555870494273903714349869746793861874257201085777893961715468950661641778512110325457371446203379767458862059193946434683324578530163650541593363118333909666419483412137444057479052480523881925775740882959822389007763485086146679913594088322217912667860570544785125343046170102896466511641019833616955259800300033812026746256080345528505000000000000000000000000000000000000000000000000000000000000000000000000000000000000000000000000000000000000000000000000000000000000000000000000000000000000000000000000000000000000000000000000000000000"
      ]
     },
     "execution_count": 124,
     "metadata": {},
     "output_type": "execute_result"
    }
   ],
   "source": [
    "int(n) - p*q"
   ]
  },
  {
   "cell_type": "code",
   "execution_count": 128,
   "metadata": {},
   "outputs": [],
   "source": [
    "p1 = p*pow(10,200)+q\n",
    "p2 = q*(pow(10,200))+p"
   ]
  },
  {
   "cell_type": "code",
   "execution_count": 130,
   "metadata": {},
   "outputs": [
    {
     "data": {
      "text/plain": [
       "True"
      ]
     },
     "execution_count": 130,
     "metadata": {},
     "output_type": "execute_result"
    }
   ],
   "source": [
    "p1*p2"
   ]
  },
  {
   "cell_type": "code",
   "execution_count": 137,
   "metadata": {},
   "outputs": [
    {
     "ename": "UnicodeDecodeError",
     "evalue": "'utf-8' codec can't decode byte 0x88 in position 2: invalid start byte",
     "output_type": "error",
     "traceback": [
      "\u001b[0;31m---------------------------------------------------------------------------\u001b[0m",
      "\u001b[0;31mUnicodeDecodeError\u001b[0m                        Traceback (most recent call last)",
      "\u001b[0;32m<ipython-input-137-26332ac272ab>\u001b[0m in \u001b[0;36m<module>\u001b[0;34m()\u001b[0m\n\u001b[1;32m      1\u001b[0m \u001b[0;32mimport\u001b[0m \u001b[0mlibnum\u001b[0m\u001b[0;34m\u001b[0m\u001b[0;34m\u001b[0m\u001b[0m\n\u001b[0;32m----> 2\u001b[0;31m \u001b[0mlibnum\u001b[0m\u001b[0;34m.\u001b[0m\u001b[0mn2s\u001b[0m\u001b[0;34m(\u001b[0m\u001b[0mm\u001b[0m\u001b[0;34m)\u001b[0m\u001b[0;34m\u001b[0m\u001b[0;34m\u001b[0m\u001b[0m\n\u001b[0m",
      "\u001b[0;32m/usr/local/lib/python3.6/dist-packages/libnum/strings.py\u001b[0m in \u001b[0;36mn2s\u001b[0;34m(n)\u001b[0m\n\u001b[1;32m     18\u001b[0m     \u001b[0;32mif\u001b[0m \u001b[0mlen\u001b[0m\u001b[0;34m(\u001b[0m\u001b[0ms\u001b[0m\u001b[0;34m)\u001b[0m \u001b[0;34m%\u001b[0m \u001b[0;36m2\u001b[0m \u001b[0;34m!=\u001b[0m \u001b[0;36m0\u001b[0m\u001b[0;34m:\u001b[0m\u001b[0;34m\u001b[0m\u001b[0;34m\u001b[0m\u001b[0m\n\u001b[1;32m     19\u001b[0m         \u001b[0ms\u001b[0m \u001b[0;34m=\u001b[0m \u001b[0;34m\"0\"\u001b[0m \u001b[0;34m+\u001b[0m \u001b[0ms\u001b[0m\u001b[0;34m\u001b[0m\u001b[0;34m\u001b[0m\u001b[0m\n\u001b[0;32m---> 20\u001b[0;31m     \u001b[0;32mreturn\u001b[0m \u001b[0mstr\u001b[0m\u001b[0;34m(\u001b[0m\u001b[0mcodecs\u001b[0m\u001b[0;34m.\u001b[0m\u001b[0mdecode\u001b[0m\u001b[0;34m(\u001b[0m\u001b[0ms\u001b[0m\u001b[0;34m,\u001b[0m \u001b[0;34m'hex'\u001b[0m\u001b[0;34m)\u001b[0m\u001b[0;34m,\u001b[0m \u001b[0;34m'utf-8'\u001b[0m\u001b[0;34m)\u001b[0m\u001b[0;34m\u001b[0m\u001b[0;34m\u001b[0m\u001b[0m\n\u001b[0m\u001b[1;32m     21\u001b[0m \u001b[0;34m\u001b[0m\u001b[0m\n\u001b[1;32m     22\u001b[0m \u001b[0;34m\u001b[0m\u001b[0m\n",
      "\u001b[0;31mUnicodeDecodeError\u001b[0m: 'utf-8' codec can't decode byte 0x88 in position 2: invalid start byte"
     ]
    }
   ],
   "source": [
    "import libnum\n",
    "libnum.n2s(m)"
   ]
  },
  {
   "cell_type": "code",
   "execution_count": 140,
   "metadata": {},
   "outputs": [
    {
     "ename": "OverflowError",
     "evalue": "int too large to convert to float",
     "output_type": "error",
     "traceback": [
      "\u001b[0;31m---------------------------------------------------------------------------\u001b[0m",
      "\u001b[0;31mOverflowError\u001b[0m                             Traceback (most recent call last)",
      "\u001b[0;32m<ipython-input-140-fe2be58a9d8f>\u001b[0m in \u001b[0;36m<module>\u001b[0;34m()\u001b[0m\n\u001b[1;32m      9\u001b[0m \u001b[0;31m#abhigh,ablow = n/(tmp**3)-1, n % tmp\u001b[0m\u001b[0;34m\u001b[0m\u001b[0;34m\u001b[0m\u001b[0;34m\u001b[0m\u001b[0m\n\u001b[1;32m     10\u001b[0m \u001b[0mab\u001b[0m \u001b[0;34m=\u001b[0m \u001b[0mabhigh\u001b[0m\u001b[0;34m*\u001b[0m\u001b[0mtmp\u001b[0m\u001b[0;34m+\u001b[0m\u001b[0mablow\u001b[0m\u001b[0;34m\u001b[0m\u001b[0;34m\u001b[0m\u001b[0m\n\u001b[0;32m---> 11\u001b[0;31m \u001b[0ma2b2\u001b[0m \u001b[0;34m=\u001b[0m \u001b[0mint\u001b[0m\u001b[0;34m(\u001b[0m\u001b[0mstr\u001b[0m\u001b[0;34m(\u001b[0m\u001b[0;34m(\u001b[0m\u001b[0mn\u001b[0m\u001b[0;34m-\u001b[0m\u001b[0mab\u001b[0m\u001b[0;34m*\u001b[0m\u001b[0;34m(\u001b[0m\u001b[0mtmp\u001b[0m\u001b[0;34m**\u001b[0m\u001b[0;36m2\u001b[0m\u001b[0;34m)\u001b[0m\u001b[0;34m-\u001b[0m\u001b[0mab\u001b[0m\u001b[0;34m)\u001b[0m\u001b[0;34m)\u001b[0m\u001b[0;34m[\u001b[0m\u001b[0;34m:\u001b[0m\u001b[0;34m-\u001b[0m\u001b[0;36m200\u001b[0m\u001b[0;34m]\u001b[0m\u001b[0;34m)\u001b[0m\u001b[0;34m\u001b[0m\u001b[0;34m\u001b[0m\u001b[0m\n\u001b[0m\u001b[1;32m     12\u001b[0m \u001b[0;31m#print a2b2\u001b[0m\u001b[0;34m\u001b[0m\u001b[0;34m\u001b[0m\u001b[0;34m\u001b[0m\u001b[0m\n\u001b[1;32m     13\u001b[0m \u001b[0;31m#(a-b),(a+b)\u001b[0m\u001b[0;34m\u001b[0m\u001b[0;34m\u001b[0m\u001b[0;34m\u001b[0m\u001b[0m\n",
      "\u001b[0;31mOverflowError\u001b[0m: int too large to convert to float"
     ]
    }
   ],
   "source": [
    "import gmpy2\n",
    "import libnum\n",
    "c = 182812482972168423884795132699225934365072979206288632257180603530046820174392675977209758378734399146216742345585898385168866887000708558119959898992294085847474548306743585711154035585848291290988967352517174312220756638881837930962458861193652684492265539096477345065113556380573776423787885892688197584678128636231428194711357642971544417113415626331810909274966752557628893585198569815939514862013512237657828262360291726912615575646318630641527418369988268899879152029186728850816178597399494254385226049249357897840618728804680238123954207656671747782543031545429711152272581734051959578453680011676521727918037340906791388178004979453256050227967701258768070039292546964652071924183467364467145178290753361477912582242961929982420950384199259355122986865808523351306098081481072454093823090\n",
    "n = 438980397031315392229453908048509540832246041631432878509579665664182747463100230160823865621798053164989325086085003940181731721089701380743698761443812523024144817205902380903062054138730658451286904347536210833160924917347633148983052015550354913154312162901555870494273903714349869746793861874257201085777893961715468950661641778512110325457371446203379767458862059193946434683324578530163650541637261158037041205642428802942295011562277084687025213626698849526240663754073508102229066475773893638716845176469070938803298515155140240970836387785401085919369741520890271902332951669953411373633688944162470994856654604872287103746922041844065053274059990595496159866206551119361036237431289830985174384522423364811997241255005514248198447925396378192915553898993758660041223393168707380580012437\n",
    "e = 65537\n",
    "\n",
    "tmp = 10**200\n",
    "abhigh,ablow = n/(tmp**3), n % tmp\n",
    "#abhigh,ablow = n/(tmp**3)-1, n % tmp\n",
    "ab = abhigh*tmp+ablow\n",
    "a2b2 = int(str((n-ab*(tmp**2)-ab))[:-200])\n",
    "#print a2b2\n",
    "#(a-b),(a+b)\n",
    "tmp1 = gmpy2.iroot(a2b2-2*ab,2)[0]\n",
    "tmp2 = gmpy2.iroot(a2b2+2*ab,2)[0]\n",
    "a = (tmp1+tmp2)/2\n",
    "b = a-tmp1\n",
    "p = a*tmp + b\n",
    "q = n/p\n",
    "phi = (p-1)*(q-1)\n",
    "d = gmpy2.invert(e,phi)\n",
    "m = pow(c,d,p*q)\n",
    "print(libnum.n2s(m))"
   ]
  },
  {
   "cell_type": "code",
   "execution_count": 143,
   "metadata": {},
   "outputs": [
    {
     "ename": "OverflowError",
     "evalue": "cannot convert float infinity to integer",
     "output_type": "error",
     "traceback": [
      "\u001b[0;31m---------------------------------------------------------------------------\u001b[0m",
      "\u001b[0;31mOverflowError\u001b[0m                             Traceback (most recent call last)",
      "\u001b[0;32m<ipython-input-143-b4db8c922bff>\u001b[0m in \u001b[0;36m<module>\u001b[0;34m()\u001b[0m\n\u001b[0;32m----> 1\u001b[0;31m \u001b[0mint\u001b[0m\u001b[0;34m(\u001b[0m\u001b[0mab\u001b[0m\u001b[0;34m*\u001b[0m\u001b[0mtmp\u001b[0m\u001b[0;34m)\u001b[0m\u001b[0;34m\u001b[0m\u001b[0;34m\u001b[0m\u001b[0m\n\u001b[0m",
      "\u001b[0;31mOverflowError\u001b[0m: cannot convert float infinity to integer"
     ]
    }
   ],
   "source": [
    "int(ab*tmp)"
   ]
  },
  {
   "cell_type": "code",
   "execution_count": 5,
   "metadata": {},
   "outputs": [],
   "source": [
    "import urllib.request\n",
    "import requests"
   ]
  },
  {
   "cell_type": "code",
   "execution_count": 68,
   "metadata": {},
   "outputs": [],
   "source": [
    "PicUrl = 'http://mmbiz.qpic.cn/mmbiz_jpg/eLeIX511CwbS4Hol8EJYANzdt2mTcE8w05jeBJDzatHHeYuBng9WbiadbYpGC6HG1gq5ZWzPOGEv51ZKbiaCjKkw/0'\n",
    "requests.get(PicUrl)\n",
    "a = requests.get(PicUrl)"
   ]
  },
  {
   "cell_type": "code",
   "execution_count": 69,
   "metadata": {},
   "outputs": [
    {
     "data": {
      "image/jpeg": "[encoded data removed]",
      "text/plain": [
       "<IPython.core.display.Image object>"
      ]
     },
     "metadata": {},
     "output_type": "display_data"
    }
   ],
   "source": [
    "from IPython.display import Image\n",
    "display(Image(a.content))"
   ]
  },
  {
   "cell_type": "code",
   "execution_count": 70,
   "metadata": {},
   "outputs": [],
   "source": [
    "import base64\n",
    "b = base64.b64encode(a.content).decode()"
   ]
  },
  {
   "cell_type": "code",
   "execution_count": 71,
   "metadata": {},
   "outputs": [],
   "source": [
    "data={'image':b}"
   ]
  },
  {
   "cell_type": "code",
   "execution_count": 72,
   "metadata": {},
   "outputs": [],
   "source": [
    "gen_ocr_url = 'https://aip.baidubce.com/rest/2.0/ocr/v1/handwriting?access_token={}'.format('24.93af92125eeb01ff859f9257315fbc83.2592000.1592635679.282335-11705762')\n",
    "r = requests.post(url=gen_ocr_url, data=data)"
   ]
  },
  {
   "cell_type": "code",
   "execution_count": 73,
   "metadata": {},
   "outputs": [
    {
     "data": {
      "text/plain": [
       "b'{\"log_id\": 2892001469685875147, \"words_result_num\": 1, \"words_result\": [{\"location\": {\"width\": 330, \"top\": 2, \"left\": 0, \"height\": 56}, \"words\": \"\\xe5\\x88\\xb6\\xe4\\xbd\\x9c\\xe5\\xa5\\xbd\\xe6\\x9c\\xac\\xe6\\x98\\xaf\\xe5\\x90\\xa6\\xe6\\x9c\\x89\\xe6\\x84\\x8f\\xe4\\xb9\\x89\"}]}'"
      ]
     },
     "execution_count": 73,
     "metadata": {},
     "output_type": "execute_result"
    }
   ],
   "source": [
    "r.content"
   ]
  },
  {
   "cell_type": "code",
   "execution_count": 74,
   "metadata": {},
   "outputs": [],
   "source": [
    "import json"
   ]
  },
  {
   "cell_type": "code",
   "execution_count": 75,
   "metadata": {},
   "outputs": [],
   "source": [
    "h = r.content.decode()"
   ]
  },
  {
   "cell_type": "code",
   "execution_count": 76,
   "metadata": {},
   "outputs": [
    {
     "data": {
      "text/plain": [
       "'制作好本是否有意义'"
      ]
     },
     "execution_count": 76,
     "metadata": {},
     "output_type": "execute_result"
    }
   ],
   "source": [
    "json.loads(h)['words_result'][0]['words']"
   ]
  },
  {
   "cell_type": "code",
   "execution_count": 33,
   "metadata": {},
   "outputs": [],
   "source": [
    "a = {1,2,3,-1}"
   ]
  },
  {
   "cell_type": "code",
   "execution_count": 36,
   "metadata": {},
   "outputs": [
    {
     "name": "stdout",
     "output_type": "stream",
     "text": [
      "{1, 2, 3, -1} <class 'set'>\n"
     ]
    }
   ],
   "source": [
    "print(a, type(a))"
   ]
  },
  {
   "cell_type": "code",
   "execution_count": 44,
   "metadata": {},
   "outputs": [
    {
     "data": {
      "text/plain": [
       "11.090536506409418"
      ]
     },
     "execution_count": 44,
     "metadata": {},
     "output_type": "execute_result"
    }
   ],
   "source": [
    "import math\n",
    "math.sqrt(123)"
   ]
  },
  {
   "cell_type": "code",
   "execution_count": 47,
   "metadata": {},
   "outputs": [
    {
     "data": {
      "text/plain": [
       "'string'"
      ]
     },
     "execution_count": 47,
     "metadata": {},
     "output_type": "execute_result"
    }
   ],
   "source": [
    "s = ' string '\n",
    "s.strip()"
   ]
  },
  {
   "cell_type": "code",
   "execution_count": 48,
   "metadata": {},
   "outputs": [],
   "source": [
    "s = list(s.strip())"
   ]
  },
  {
   "cell_type": "code",
   "execution_count": 85,
   "metadata": {},
   "outputs": [
    {
     "name": "stdout",
     "output_type": "stream",
     "text": [
      "5050\n"
     ]
    }
   ],
   "source": [
    "sum = 0\n",
    "for i in range(101):\n",
    "    sum += i\n",
    "    \n",
    "print(sum)"
   ]
  },
  {
   "cell_type": "code",
   "execution_count": 61,
   "metadata": {},
   "outputs": [
    {
     "ename": "TypeError",
     "evalue": "sequence item 0: expected str instance, int found",
     "output_type": "error",
     "traceback": [
      "\u001b[0;31m---------------------------------------------------------------------------\u001b[0m",
      "\u001b[0;31mTypeError\u001b[0m                                 Traceback (most recent call last)",
      "\u001b[0;32m<ipython-input-61-17caabfcd723>\u001b[0m in \u001b[0;36m<module>\u001b[0;34m\u001b[0m\n\u001b[1;32m      1\u001b[0m \u001b[0ma\u001b[0m \u001b[0;34m=\u001b[0m \u001b[0;34m[\u001b[0m\u001b[0;36m1\u001b[0m\u001b[0;34m,\u001b[0m\u001b[0;36m2\u001b[0m\u001b[0;34m,\u001b[0m\u001b[0;36m3\u001b[0m\u001b[0;34m]\u001b[0m\u001b[0;34m\u001b[0m\u001b[0;34m\u001b[0m\u001b[0m\n\u001b[0;32m----> 2\u001b[0;31m \u001b[0;34m'+'\u001b[0m\u001b[0;34m.\u001b[0m\u001b[0mjoin\u001b[0m\u001b[0;34m(\u001b[0m\u001b[0mlist\u001b[0m\u001b[0;34m(\u001b[0m\u001b[0mrange\u001b[0m\u001b[0;34m(\u001b[0m\u001b[0;36m101\u001b[0m\u001b[0;34m)\u001b[0m\u001b[0;34m)\u001b[0m\u001b[0;34m)\u001b[0m\u001b[0;34m\u001b[0m\u001b[0;34m\u001b[0m\u001b[0m\n\u001b[0m",
      "\u001b[0;31mTypeError\u001b[0m: sequence item 0: expected str instance, int found"
     ]
    }
   ],
   "source": [
    "'+'.join(list(range(101)))"
   ]
  },
  {
   "cell_type": "code",
   "execution_count": 86,
   "metadata": {},
   "outputs": [
    {
     "data": {
      "text/plain": [
       "5050"
      ]
     },
     "execution_count": 86,
     "metadata": {},
     "output_type": "execute_result"
    }
   ],
   "source": [
    "eval('+'.join([str(x) for x in range(101)]))"
   ]
  },
  {
   "cell_type": "code",
   "execution_count": 87,
   "metadata": {},
   "outputs": [],
   "source": [
    "import pandas as pd\n",
    "data = {\"name\": [\"Jim\", \"Tom\",\"Mary\",\"Lily\"],\n",
    "        \"sex\":['男','男','女','女'],\n",
    "        \"age\": [28,37,27,34],\n",
    "        \"salary\": [3500,4800,4500,3900]}\n",
    "df = pd.DataFrame(data)"
   ]
  },
  {
   "cell_type": "code",
   "execution_count": 112,
   "metadata": {},
   "outputs": [],
   "source": [
    "a = df.iloc[:,[1,3]]"
   ]
  },
  {
   "cell_type": "code",
   "execution_count": 115,
   "metadata": {},
   "outputs": [
    {
     "name": "stderr",
     "output_type": "stream",
     "text": [
      "/usr/local/lib/python3.6/dist-packages/ipykernel_launcher.py:1: SettingWithCopyWarning: \n",
      "A value is trying to be set on a copy of a slice from a DataFrame\n",
      "\n",
      "See the caveats in the documentation: https://pandas.pydata.org/pandas-docs/stable/user_guide/indexing.html#returning-a-view-versus-a-copy\n",
      "  \"\"\"Entry point for launching an IPython kernel.\n",
      "/usr/local/lib/python3.6/dist-packages/IPython/core/interactiveshell.py:3331: SettingWithCopyWarning: \n",
      "A value is trying to be set on a copy of a slice from a DataFrame\n",
      "\n",
      "See the caveats in the documentation: https://pandas.pydata.org/pandas-docs/stable/user_guide/indexing.html#returning-a-view-versus-a-copy\n",
      "  exec(code_obj, self.user_global_ns, self.user_ns)\n"
     ]
    }
   ],
   "source": [
    "a.salary[1] = 5800"
   ]
  },
  {
   "cell_type": "code",
   "execution_count": 138,
   "metadata": {},
   "outputs": [
    {
     "data": {
      "text/html": [
       "<div>\n",
       "<style scoped>\n",
       "    .dataframe tbody tr th:only-of-type {\n",
       "        vertical-align: middle;\n",
       "    }\n",
       "\n",
       "    .dataframe tbody tr th {\n",
       "        vertical-align: top;\n",
       "    }\n",
       "\n",
       "    .dataframe thead th {\n",
       "        text-align: right;\n",
       "    }\n",
       "</style>\n",
       "<table border=\"1\" class=\"dataframe\">\n",
       "  <thead>\n",
       "    <tr style=\"text-align: right;\">\n",
       "      <th></th>\n",
       "      <th>name</th>\n",
       "      <th>sex</th>\n",
       "      <th>age</th>\n",
       "      <th>salary</th>\n",
       "    </tr>\n",
       "  </thead>\n",
       "  <tbody>\n",
       "    <tr>\n",
       "      <th>0</th>\n",
       "      <td>Jim</td>\n",
       "      <td>男</td>\n",
       "      <td>28</td>\n",
       "      <td>3500</td>\n",
       "    </tr>\n",
       "    <tr>\n",
       "      <th>1</th>\n",
       "      <td>Tom</td>\n",
       "      <td>男</td>\n",
       "      <td>37</td>\n",
       "      <td>4800</td>\n",
       "    </tr>\n",
       "    <tr>\n",
       "      <th>2</th>\n",
       "      <td>Mary</td>\n",
       "      <td>女</td>\n",
       "      <td>27</td>\n",
       "      <td>4500</td>\n",
       "    </tr>\n",
       "    <tr>\n",
       "      <th>3</th>\n",
       "      <td>Lily</td>\n",
       "      <td>女</td>\n",
       "      <td>34</td>\n",
       "      <td>3900</td>\n",
       "    </tr>\n",
       "    <tr>\n",
       "      <th>4</th>\n",
       "      <td>Bob</td>\n",
       "      <td>男</td>\n",
       "      <td>24</td>\n",
       "      <td>2600</td>\n",
       "    </tr>\n",
       "  </tbody>\n",
       "</table>\n",
       "</div>"
      ],
      "text/plain": [
       "   name sex  age  salary\n",
       "0   Jim   男   28    3500\n",
       "1   Tom   男   37    4800\n",
       "2  Mary   女   27    4500\n",
       "3  Lily   女   34    3900\n",
       "4   Bob   男   24    2600"
      ]
     },
     "execution_count": 138,
     "metadata": {},
     "output_type": "execute_result"
    }
   ],
   "source": [
    "df"
   ]
  },
  {
   "cell_type": "code",
   "execution_count": 131,
   "metadata": {},
   "outputs": [],
   "source": [
    "df.loc[5] = df.loc[2]+df.loc[4]"
   ]
  },
  {
   "cell_type": "code",
   "execution_count": 145,
   "metadata": {},
   "outputs": [
    {
     "data": {
      "text/html": [
       "<div>\n",
       "<style scoped>\n",
       "    .dataframe tbody tr th:only-of-type {\n",
       "        vertical-align: middle;\n",
       "    }\n",
       "\n",
       "    .dataframe tbody tr th {\n",
       "        vertical-align: top;\n",
       "    }\n",
       "\n",
       "    .dataframe thead th {\n",
       "        text-align: right;\n",
       "    }\n",
       "</style>\n",
       "<table border=\"1\" class=\"dataframe\">\n",
       "  <thead>\n",
       "    <tr style=\"text-align: right;\">\n",
       "      <th></th>\n",
       "      <th>name</th>\n",
       "      <th>sex</th>\n",
       "      <th>age</th>\n",
       "      <th>salary</th>\n",
       "    </tr>\n",
       "  </thead>\n",
       "  <tbody>\n",
       "    <tr>\n",
       "      <th>1</th>\n",
       "      <td>Tom</td>\n",
       "      <td>男</td>\n",
       "      <td>37</td>\n",
       "      <td>4800</td>\n",
       "    </tr>\n",
       "    <tr>\n",
       "      <th>2</th>\n",
       "      <td>Mary</td>\n",
       "      <td>女</td>\n",
       "      <td>27</td>\n",
       "      <td>4500</td>\n",
       "    </tr>\n",
       "    <tr>\n",
       "      <th>3</th>\n",
       "      <td>Lily</td>\n",
       "      <td>女</td>\n",
       "      <td>34</td>\n",
       "      <td>3900</td>\n",
       "    </tr>\n",
       "    <tr>\n",
       "      <th>0</th>\n",
       "      <td>Jim</td>\n",
       "      <td>男</td>\n",
       "      <td>28</td>\n",
       "      <td>3500</td>\n",
       "    </tr>\n",
       "    <tr>\n",
       "      <th>4</th>\n",
       "      <td>Bob</td>\n",
       "      <td>男</td>\n",
       "      <td>24</td>\n",
       "      <td>2600</td>\n",
       "    </tr>\n",
       "  </tbody>\n",
       "</table>\n",
       "</div>"
      ],
      "text/plain": [
       "   name sex  age  salary\n",
       "1   Tom   男   37    4800\n",
       "2  Mary   女   27    4500\n",
       "3  Lily   女   34    3900\n",
       "0   Jim   男   28    3500\n",
       "4   Bob   男   24    2600"
      ]
     },
     "execution_count": 145,
     "metadata": {},
     "output_type": "execute_result"
    }
   ],
   "source": [
    "df.sort_values(by='salary', ascending=False)"
   ]
  }
 ],
 "metadata": {
  "file_extension": ".py",
  "kernelspec": {
   "display_name": "Python 3",
   "language": "python",
   "name": "python3"
  },
  "language_info": {
   "codemirror_mode": {
    "name": "ipython",
    "version": 3
   },
   "file_extension": ".py",
   "mimetype": "text/x-python",
   "name": "python",
   "nbconvert_exporter": "python",
   "pygments_lexer": "ipython3",
   "version": "3.6.9"
  },
  "mimetype": "text/x-python",
  "name": "python",
  "npconvert_exporter": "python",
  "pycharm": {
   "stem_cell": {
    "cell_type": "raw",
    "metadata": {
     "collapsed": false
    },
    "source": []
   }
  },
  "pygments_lexer": "ipython3",
  "toc": {
   "base_numbering": 1,
   "nav_menu": {},
   "number_sections": true,
   "sideBar": true,
   "skip_h1_title": false,
   "title_cell": "Table of Contents",
   "title_sidebar": "Contents",
   "toc_cell": false,
   "toc_position": {},
   "toc_section_display": true,
   "toc_window_display": false
  },
  "varInspector": {
   "cols": {
    "lenName": 16,
    "lenType": 16,
    "lenVar": 40
   },
   "kernels_config": {
    "python": {
     "delete_cmd_postfix": "",
     "delete_cmd_prefix": "del ",
     "library": "var_list.py",
     "varRefreshCmd": "print(var_dic_list())"
    },
    "r": {
     "delete_cmd_postfix": ") ",
     "delete_cmd_prefix": "rm(",
     "library": "var_list.r",
     "varRefreshCmd": "cat(var_dic_list()) "
    }
   },
   "types_to_exclude": [
    "module",
    "function",
    "builtin_function_or_method",
    "instance",
    "_Feature"
   ],
   "window_display": false
  },
  "version": 3
 },
 "nbformat": 4,
 "nbformat_minor": 2
}
