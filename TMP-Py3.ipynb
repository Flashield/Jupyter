{
 "cells": [
  {
   "cell_type": "code",
   "execution_count": 1,
   "metadata": {},
   "outputs": [],
   "source": [
    "import js2py\n",
    "#执行本地的js\n",
    "\n",
    "def get_js():\n",
    "    f = open(\"app.rsa.min.js\",'r',encoding='UTF-8')\n",
    "    line = f.readline()\n",
    "    htmlstr = ''\n",
    "    while line:\n",
    "        htmlstr = htmlstr + line\n",
    "        line = f.readline()\n",
    "    return htmlstr\n",
    "\n",
    "def get_encode(plain_str):\n",
    "    context = js2py.EvalJs()\n",
    "    context.execute(get_js())\n",
    "    Encode_str = context.ztEncrptyUtil.encode(plain_str)\n",
    "    return Encode_str"
   ]
  },
  {
   "cell_type": "code",
   "execution_count": 7,
   "metadata": {},
   "outputs": [
    {
     "name": "stdout",
     "output_type": "stream",
     "text": [
      "'accountType=2;idCard=32068119870'\n",
      "'分段1：256'\n",
      "'分段2：256'\n",
      "'2017221;areaCode=0513;actionCode'\n",
      "'分段1：256'\n",
      "'分段2：256'\n",
      "'=jsztActionCode_mallbroadBandBui'\n",
      "'分段1：256'\n",
      "'分段2：256'\n",
      "'nessselectUserBroadAccNbr;;PathC'\n",
      "'分段1：256'\n",
      "'分段2：256'\n",
      "'ode=mall-00003;channelCode_commo'\n",
      "'分段1：256'\n",
      "'分段2：256'\n",
      "'n=300177;pubAreaCode=025;pushUse'\n",
      "'分段1：256'\n",
      "'分段2：256'\n",
      "'rId=jszt_912507;coachUser=;userL'\n",
      "'分段1：256'\n",
      "'分段2：256'\n",
      "'ogAccNbrType=;userLogAccNbr=;use'\n",
      "'分段1：256'\n",
      "'分段2：256'\n",
      "'rTokenAccNbrType=2;ztVersion=4.0'\n",
      "'分段1：256'\n",
      "'分段2：256'\n",
      "';ztInterSource=300177;pubToken=u'\n",
      "'分段1：256'\n",
      "'分段2：256'\n",
      "'ndefined;'\n",
      "'分段1：256'\n",
      "'分段2：256'\n"
     ]
    },
    {
     "data": {
      "text/plain": [
       "'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'"
      ]
     },
     "execution_count": 7,
     "metadata": {},
     "output_type": "execute_result"
    }
   ],
   "source": [
    "get_encode(\"accountType=2;idCard=320681198702017221;areaCode=0513;actionCode=jsztActionCode_mallbroadBandBuinessselectUserBroadAccNbr;;PathCode=mall-00003;channelCode_common=300177;pubAreaCode=025;pushUserId=jszt_912507;coachUser=;userLogAccNbrType=;userLogAccNbr=;userTokenAccNbrType=2;ztVersion=4.0;ztInterSource=300177;pubToken=undefined;\")"
   ]
  },
  {
   "cell_type": "code",
   "execution_count": 28,
   "metadata": {},
   "outputs": [],
   "source": [
    "a='fdalj.fda;.f dsa3.1.m4a'"
   ]
  },
  {
   "cell_type": "code",
   "execution_count": 29,
   "metadata": {},
   "outputs": [
    {
     "data": {
      "text/plain": [
       "['fdalj', 'fda;', 'f dsa3', '1', 'm4a']"
      ]
     },
     "execution_count": 29,
     "metadata": {},
     "output_type": "execute_result"
    }
   ],
   "source": [
    "a.split('.')"
   ]
  },
  {
   "cell_type": "code",
   "execution_count": 30,
   "metadata": {},
   "outputs": [
    {
     "data": {
      "text/plain": [
       "20"
      ]
     },
     "execution_count": 30,
     "metadata": {},
     "output_type": "execute_result"
    }
   ],
   "source": [
    "a.find(a.split('.')[-1],-4)"
   ]
  },
  {
   "cell_type": "code",
   "execution_count": 31,
   "metadata": {},
   "outputs": [
    {
     "data": {
      "text/plain": [
       "'fdalj.fda;.f dsa3.1'"
      ]
     },
     "execution_count": 31,
     "metadata": {},
     "output_type": "execute_result"
    }
   ],
   "source": [
    "prefix = a[0:a.rfind('.')]\n",
    "prefix"
   ]
  },
  {
   "cell_type": "code",
   "execution_count": 32,
   "metadata": {},
   "outputs": [
    {
     "data": {
      "text/plain": [
       "19"
      ]
     },
     "execution_count": 32,
     "metadata": {},
     "output_type": "execute_result"
    }
   ],
   "source": [
    "a.rfind('.')"
   ]
  },
  {
   "cell_type": "code",
   "execution_count": 47,
   "metadata": {},
   "outputs": [],
   "source": [
    "from random import randint"
   ]
  },
  {
   "cell_type": "code",
   "execution_count": 1,
   "metadata": {},
   "outputs": [],
   "source": [
    "import random"
   ]
  },
  {
   "cell_type": "code",
   "execution_count": null,
   "metadata": {},
   "outputs": [],
   "source": [
    "random.randint"
   ]
  },
  {
   "cell_type": "code",
   "execution_count": 1,
   "metadata": {},
   "outputs": [],
   "source": [
    "a=[1,5,7,9]\n",
    "b=[2,2,6,8]\n",
    "a+=b"
   ]
  },
  {
   "cell_type": "code",
   "execution_count": 2,
   "metadata": {},
   "outputs": [
    {
     "name": "stdout",
     "output_type": "stream",
     "text": [
      "[1, 2, 2, 5, 6, 7, 8, 9]\n"
     ]
    }
   ],
   "source": [
    "a.sort(reverse=False)\n",
    "print(a)"
   ]
  },
  {
   "cell_type": "code",
   "execution_count": 3,
   "metadata": {},
   "outputs": [],
   "source": [
    "a=[1]\n",
    "b=[2]\n",
    "c=[3]\n",
    "d=[4]"
   ]
  },
  {
   "cell_type": "code",
   "execution_count": 4,
   "metadata": {},
   "outputs": [
    {
     "name": "stdout",
     "output_type": "stream",
     "text": [
      "[1, 2, 2, 2, 2, 2, 2, 2, 2, 2, 3, 3, 3, 3, 3, 3, 3, 3, 3, 4, 4, 4, 4, 4, 4, 4, 4, 4]\n"
     ]
    }
   ],
   "source": [
    "print(a+b*9+c*9+d*9)"
   ]
  },
  {
   "cell_type": "code",
   "execution_count": 5,
   "metadata": {},
   "outputs": [],
   "source": [
    "a={'a':1,'b':2,'c':3}"
   ]
  },
  {
   "cell_type": "code",
   "execution_count": 6,
   "metadata": {},
   "outputs": [
    {
     "data": {
      "text/plain": [
       "False"
      ]
     },
     "execution_count": 6,
     "metadata": {},
     "output_type": "execute_result"
    }
   ],
   "source": [
    "'d' in a.keys()"
   ]
  },
  {
   "cell_type": "code",
   "execution_count": 7,
   "metadata": {},
   "outputs": [],
   "source": [
    "import numpy"
   ]
  },
  {
   "cell_type": "code",
   "execution_count": 8,
   "metadata": {},
   "outputs": [],
   "source": [
    "x = [[1.2,2.2,1.4],[1.3,2.4,2.1],[1,1,0]]\n",
    "m = numpy.array(x)"
   ]
  },
  {
   "cell_type": "markdown",
   "metadata": {},
   "source": [
    "$E=mc^2$"
   ]
  },
  {
   "cell_type": "code",
   "execution_count": 9,
   "metadata": {},
   "outputs": [],
   "source": [
    "a=[0x78,0x49,0x72,0x43,0x6A,0x7E,0x3C,0x72,0x7C,0x32,0x74,0x57,0x73,0x76,0x33,0x50,0x74,0x49,0x7F,0x7A,0x6E,0x64,0x6B,0x61]"
   ]
  },
  {
   "cell_type": "code",
   "execution_count": 10,
   "metadata": {},
   "outputs": [],
   "source": [
    "flag=''\n",
    "raw=''\n",
    "for i in range(len(a)):\n",
    "    #raw += chr(a[i])\n",
    "    flag += chr((a[23-i]^0x06)-1)"
   ]
  },
  {
   "cell_type": "code",
   "execution_count": 11,
   "metadata": {},
   "outputs": [
    {
     "name": "stdout",
     "output_type": "stream",
     "text": [
      "flag{xNqU4otPq3ys9wkDsN}\n"
     ]
    }
   ],
   "source": [
    "print(flag)"
   ]
  },
  {
   "cell_type": "code",
   "execution_count": 12,
   "metadata": {},
   "outputs": [],
   "source": [
    "import random"
   ]
  },
  {
   "cell_type": "code",
   "execution_count": 19,
   "metadata": {},
   "outputs": [
    {
     "name": "stdout",
     "output_type": "stream",
     "text": [
      "64+749+68 = 881\n",
      "442+264-115 = 591\n",
      "268+81-234 = 115\n",
      "528-278+680 = 930\n",
      "761-213+226 = 774\n",
      "123+731-541 = 313\n",
      "794+252-506 = 540\n"
     ]
    }
   ],
   "source": [
    "for i in range(20):\n",
    "    s_calc=str(random.randint(50,800))+random.choice(['+','-'])+str(random.randint(50,800))+random.choice(['+','-'])+str(random.randint(50,800))\n",
    "    if eval(s_calc) > 0 and eval(s_calc) < 1000:\n",
    "        print(s_calc,'=',eval(s_calc))"
   ]
  },
  {
   "cell_type": "code",
   "execution_count": 14,
   "metadata": {},
   "outputs": [
    {
     "name": "stdout",
     "output_type": "stream",
     "text": [
      "409+391 = 800\n",
      "743-619 = 124\n",
      "673-595 = 78\n",
      "628+593 = 1221\n",
      "478-111 = 367\n",
      "758+786 = 1544\n",
      "370+276 = 646\n",
      "666-581 = 85\n",
      "679+213 = 892\n",
      "785+562 = 1347\n",
      "271+62 = 333\n",
      "354+477 = 831\n",
      "689+363 = 1052\n",
      "665+428 = 1093\n"
     ]
    }
   ],
   "source": [
    "for i in range(20):\n",
    "    s_calc=str(random.randint(50,800))+random.choice(['+','-'])+str(random.randint(50,800))\n",
    "    if eval(s_calc)>0:\n",
    "        print(s_calc,'=',eval(s_calc))"
   ]
  },
  {
   "cell_type": "code",
   "execution_count": 40,
   "metadata": {},
   "outputs": [
    {
     "data": {
      "text/plain": [
       "9"
      ]
     },
     "execution_count": 40,
     "metadata": {},
     "output_type": "execute_result"
    }
   ],
   "source": [
    "random.randint(-8,10)"
   ]
  },
  {
   "cell_type": "code",
   "execution_count": 43,
   "metadata": {},
   "outputs": [],
   "source": [
    "s_Array=[]\n",
    "for i in range(50):\n",
    "    s_Array += [str(random.randint(-8,10))+',']"
   ]
  },
  {
   "cell_type": "code",
   "execution_count": 46,
   "metadata": {},
   "outputs": [
    {
     "name": "stdout",
     "output_type": "stream",
     "text": [
      "['-1,', '8,', '2,', '6,', '3,', '5,', '9,', '9,', '-5,', '4,', '5,', '7,', '-5,', '7,', '4,', '3,', '2,', '-1,', '-5,', '2,', '-5,', '-1,', '-3,', '-2,', '0,', '-2,', '-5,', '-1,', '-5,', '1,', '3,', '-4,', '6,', '6,', '8,', '4,', '10,', '0,', '4,', '4,', '-5,', '-7,', '-6,', '1,', '0,', '-5,', '8,', '-8,', '9,', '5,']\n"
     ]
    }
   ],
   "source": [
    "print(str(s_Array))"
   ]
  },
  {
   "cell_type": "code",
   "execution_count": 47,
   "metadata": {},
   "outputs": [
    {
     "data": {
      "text/plain": [
       "'-1,8,2,6,3,5,9,9,-5,4,5,7,-5,7,4,3,2,-1,-5,2,-5,-1,-3,-2,0,-2,-5,-1,-5,1,3,-4,6,6,8,4,10,0,4,4,-5,-7,-6,1,0,-5,8,-8,9,5,'"
      ]
     },
     "execution_count": 47,
     "metadata": {},
     "output_type": "execute_result"
    }
   ],
   "source": [
    "''.join(s_Array)"
   ]
  },
  {
   "cell_type": "code",
   "execution_count": 5,
   "metadata": {},
   "outputs": [
    {
     "name": "stdout",
     "output_type": "stream",
     "text": [
      "A\n",
      "B\n",
      "C\n",
      "D\n",
      "E\n",
      "F\n",
      "G\n",
      "H\n",
      "I\n",
      "J\n",
      "K\n",
      "L\n",
      "M\n",
      "N\n",
      "O\n",
      "P\n",
      "Q\n",
      "R\n",
      "S\n",
      "T\n",
      "U\n",
      "V\n",
      "W\n",
      "X\n",
      "Y\n",
      "Z\n"
     ]
    }
   ],
   "source": [
    "for i in range(65,91):\n",
    "    print(chr(i),end=\"\\t\")"
   ]
  },
  {
   "cell_type": "code",
   "execution_count": 6,
   "metadata": {},
   "outputs": [],
   "source": [
    "i=range(65,91)"
   ]
  },
  {
   "cell_type": "code",
   "execution_count": 7,
   "metadata": {},
   "outputs": [],
   "source": [
    "import random"
   ]
  },
  {
   "cell_type": "code",
   "execution_count": 18,
   "metadata": {},
   "outputs": [
    {
     "ename": "TypeError",
     "evalue": "an integer is required (got type list)",
     "output_type": "error",
     "traceback": [
      "\u001b[0;31m---------------------------------------------------------------------------\u001b[0m",
      "\u001b[0;31mTypeError\u001b[0m                                 Traceback (most recent call last)",
      "\u001b[0;32m<ipython-input-18-d2e1fa9107bb>\u001b[0m in \u001b[0;36m<module>\u001b[0;34m()\u001b[0m\n\u001b[0;32m----> 1\u001b[0;31m \u001b[0mrandom\u001b[0m\u001b[0;34m.\u001b[0m\u001b[0mshuffle\u001b[0m\u001b[0;34m(\u001b[0m\u001b[0mchr\u001b[0m\u001b[0;34m(\u001b[0m\u001b[0mi\u001b[0m\u001b[0;34m)\u001b[0m\u001b[0;34m)\u001b[0m\u001b[0;34m\u001b[0m\u001b[0;34m\u001b[0m\u001b[0m\n\u001b[0m",
      "\u001b[0;31mTypeError\u001b[0m: an integer is required (got type list)"
     ]
    }
   ],
   "source": [
    "random.shuffle(chr(i))"
   ]
  },
  {
   "cell_type": "code",
   "execution_count": 15,
   "metadata": {},
   "outputs": [],
   "source": [
    "i = list(i)"
   ]
  },
  {
   "cell_type": "code",
   "execution_count": 19,
   "metadata": {},
   "outputs": [
    {
     "name": "stdout",
     "output_type": "stream",
     "text": [
      "M\n",
      "D\n",
      "R\n",
      "L\n",
      "N\n",
      "B\n",
      "O\n",
      "Y\n",
      "G\n",
      "H\n",
      "I\n",
      "S\n",
      "T\n",
      "P\n",
      "Q\n",
      "J\n",
      "E\n",
      "V\n",
      "Z\n",
      "K\n",
      "U\n",
      "A\n",
      "F\n",
      "W\n",
      "X\n",
      "C\n"
     ]
    }
   ],
   "source": [
    "for k in i:\n",
    "    print(chr(k))"
   ]
  },
  {
   "cell_type": "code",
   "execution_count": 1,
   "metadata": {},
   "outputs": [],
   "source": [
    "a=[113, 123, 118, 112, 108, 94, 99, 72, 38, 68, 72, 87, 89, 72, 36, 118, 100, 78, 72, 87, 121, 83, 101, 39, 62, 94, 62, 38, 107, 115, 106]"
   ]
  },
  {
   "cell_type": "code",
   "execution_count": 5,
   "metadata": {},
   "outputs": [
    {
     "name": "stdout",
     "output_type": "stream",
     "text": [
      "flag{It_1S_@N_3asY_@nDr0)I)1|d}\n"
     ]
    }
   ],
   "source": [
    "s=''\n",
    "for i in a:\n",
    "    s += chr(i^0x17)\n",
    "print(s)"
   ]
  },
  {
   "cell_type": "code",
   "execution_count": 21,
   "metadata": {},
   "outputs": [
    {
     "data": {
      "text/plain": [
       "'The'"
      ]
     },
     "execution_count": 21,
     "metadata": {},
     "output_type": "execute_result"
    }
   ],
   "source": [
    "bytes.fromhex('546865').decode(encoding='utf-8')"
   ]
  },
  {
   "cell_type": "code",
   "execution_count": 20,
   "metadata": {},
   "outputs": [
    {
     "data": {
      "text/plain": [
       "'The'"
      ]
     },
     "execution_count": 20,
     "metadata": {},
     "output_type": "execute_result"
    }
   ],
   "source": [
    "k.decode(encoding='utf-8')"
   ]
  },
  {
   "cell_type": "code",
   "execution_count": null,
   "metadata": {},
   "outputs": [],
   "source": []
  }
 ],
 "metadata": {
  "file_extension": ".py",
  "kernelspec": {
   "display_name": "Python 3",
   "language": "python",
   "name": "python3"
  },
  "language_info": {
   "codemirror_mode": {
    "name": "ipython",
    "version": 3
   },
   "file_extension": ".py",
   "mimetype": "text/x-python",
   "name": "python",
   "nbconvert_exporter": "python",
   "pygments_lexer": "ipython3",
   "version": "3.6.8"
  },
  "mimetype": "text/x-python",
  "name": "python",
  "npconvert_exporter": "python",
  "pygments_lexer": "ipython3",
  "version": 3
 },
 "nbformat": 4,
 "nbformat_minor": 2
}
