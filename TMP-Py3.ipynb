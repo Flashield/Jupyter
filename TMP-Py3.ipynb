{
 "cells": [
  {
   "cell_type": "code",
   "execution_count": 5,
   "metadata": {},
   "outputs": [],
   "source": [
    "from IPython.core.interactiveshell import InteractiveShell\n",
    "InteractiveShell.ast_node_interactivity = \"all\""
   ]
  },
  {
   "cell_type": "code",
   "execution_count": null,
   "metadata": {},
   "outputs": [],
   "source": [
    "import js2py\n",
    "#执行本地的js\n",
    "\n",
    "def get_js():\n",
    "    f = open(\"app.rsa.min.js\",'r',encoding='UTF-8')\n",
    "    line = f.readline()\n",
    "    htmlstr = ''\n",
    "    while line:\n",
    "        htmlstr = htmlstr + line\n",
    "        line = f.readline()\n",
    "    return htmlstr\n",
    "\n",
    "def get_encode(plain_str):\n",
    "    context = js2py.EvalJs()\n",
    "    context.execute(get_js())\n",
    "    Encode_str = context.ztEncrptyUtil.encode(plain_str)\n",
    "    return Encode_str"
   ]
  },
  {
   "cell_type": "code",
   "execution_count": null,
   "metadata": {},
   "outputs": [],
   "source": [
    "divmod(432,33)\n"
   ]
  },
  {
   "cell_type": "code",
   "execution_count": null,
   "metadata": {},
   "outputs": [],
   "source": [
    "get_encode(\"accountType=2;idCard=320681198702017221;areaCode=0513;actionCode=jsztActionCode_mallbroadBandBuinessselectUserBroadAccNbr;;PathCode=mall-00003;channelCode_common=300177;pubAreaCode=025;pushUserId=jszt_912507;coachUser=;userLogAccNbrType=;userLogAccNbr=;userTokenAccNbrType=2;ztVersion=4.0;ztInterSource=300177;pubToken=undefined;\")"
   ]
  },
  {
   "cell_type": "code",
   "execution_count": null,
   "metadata": {},
   "outputs": [],
   "source": [
    "a='fdalj.fda;.f dsa3.1.m4a'"
   ]
  },
  {
   "cell_type": "code",
   "execution_count": null,
   "metadata": {},
   "outputs": [],
   "source": [
    "a.split('.')"
   ]
  },
  {
   "cell_type": "code",
   "execution_count": null,
   "metadata": {},
   "outputs": [],
   "source": [
    "a.find(a.split('.')[-1],-4)"
   ]
  },
  {
   "cell_type": "code",
   "execution_count": null,
   "metadata": {},
   "outputs": [],
   "source": [
    "prefix = a[0:a.rfind('.')]\n",
    "prefix"
   ]
  },
  {
   "cell_type": "code",
   "execution_count": null,
   "metadata": {},
   "outputs": [],
   "source": [
    "a.rfind('.')"
   ]
  },
  {
   "cell_type": "code",
   "execution_count": null,
   "metadata": {},
   "outputs": [],
   "source": [
    "from random import randint"
   ]
  },
  {
   "cell_type": "code",
   "execution_count": null,
   "metadata": {},
   "outputs": [],
   "source": [
    "import random"
   ]
  },
  {
   "cell_type": "code",
   "execution_count": null,
   "metadata": {},
   "outputs": [],
   "source": [
    "random.randint"
   ]
  },
  {
   "cell_type": "code",
   "execution_count": null,
   "metadata": {},
   "outputs": [],
   "source": [
    "a=[1,5,7,9]\n",
    "b=[2,2,6,8]\n",
    "a+=b"
   ]
  },
  {
   "cell_type": "code",
   "execution_count": null,
   "metadata": {},
   "outputs": [],
   "source": [
    "a.sort(reverse=False)\n",
    "print(a)"
   ]
  },
  {
   "cell_type": "code",
   "execution_count": null,
   "metadata": {},
   "outputs": [],
   "source": [
    "a=[1]\n",
    "b=[2]\n",
    "c=[3]\n",
    "d=[4]"
   ]
  },
  {
   "cell_type": "code",
   "execution_count": null,
   "metadata": {},
   "outputs": [],
   "source": [
    "print(a+b*9+c*9+d*9)"
   ]
  },
  {
   "cell_type": "code",
   "execution_count": null,
   "metadata": {},
   "outputs": [],
   "source": [
    "a={'a':1,'b':2,'c':3}"
   ]
  },
  {
   "cell_type": "code",
   "execution_count": null,
   "metadata": {},
   "outputs": [],
   "source": [
    "'d' in a.keys()"
   ]
  },
  {
   "cell_type": "code",
   "execution_count": null,
   "metadata": {},
   "outputs": [],
   "source": [
    "import numpy"
   ]
  },
  {
   "cell_type": "code",
   "execution_count": null,
   "metadata": {},
   "outputs": [],
   "source": [
    "x = [[1.2,2.2,1.4],[1.3,2.4,2.1],[1,1,0]]\n",
    "m = numpy.array(x)"
   ]
  },
  {
   "cell_type": "markdown",
   "metadata": {},
   "source": [
    "$E=mc^2$"
   ]
  },
  {
   "cell_type": "code",
   "execution_count": null,
   "metadata": {
    "pycharm": {
     "is_executing": false
    }
   },
   "outputs": [],
   "source": [
    "a=[0x78,0x49,0x72,0x43,0x6A,0x7E,0x3C,0x72,0x7C,0x32,0x74,0x57,0x73,0x76,0x33,0x50,0x74,0x49,0x7F,0x7A,0x6E,0x64,0x6B,0x61]"
   ]
  },
  {
   "cell_type": "code",
   "execution_count": null,
   "metadata": {
    "pycharm": {
     "is_executing": false
    }
   },
   "outputs": [],
   "source": [
    "flag=''\n",
    "raw=''\n",
    "for i in range(len(a)):\n",
    "    #raw += chr(a[i])\n",
    "    flag += chr((a[23-i]^0x06)-1)"
   ]
  },
  {
   "cell_type": "code",
   "execution_count": null,
   "metadata": {
    "pycharm": {
     "is_executing": false
    }
   },
   "outputs": [],
   "source": [
    "print(flag)"
   ]
  },
  {
   "cell_type": "code",
   "execution_count": null,
   "metadata": {
    "pycharm": {
     "is_executing": false
    }
   },
   "outputs": [],
   "source": [
    "import random"
   ]
  },
  {
   "cell_type": "code",
   "execution_count": null,
   "metadata": {
    "pycharm": {
     "is_executing": false
    }
   },
   "outputs": [],
   "source": [
    "for i in range(10):\n",
    "    s_calc=str(random.randint(50,800))+random.choice(['+','-'])+str(random.randint(50,800))+random.choice(['+','-'])+str(random.randint(50,800))\n",
    "    if eval(s_calc) > 0 and eval(s_calc) < 1000:\n",
    "        print(s_calc,'=',eval(s_calc))"
   ]
  },
  {
   "cell_type": "code",
   "execution_count": null,
   "metadata": {},
   "outputs": [],
   "source": [
    "for i in range(20):\n",
    "    s_calc=str(random.randint(50,800))+random.choice(['+','-'])+str(random.randint(50,800))\n",
    "    if eval(s_calc)>0:\n",
    "        print(s_calc,'=',eval(s_calc))"
   ]
  },
  {
   "cell_type": "code",
   "execution_count": null,
   "metadata": {},
   "outputs": [],
   "source": [
    "random.randint(-8,10)"
   ]
  },
  {
   "cell_type": "code",
   "execution_count": null,
   "metadata": {},
   "outputs": [],
   "source": [
    "s_Array=[]\n",
    "for i in range(50):\n",
    "    s_Array += [str(random.randint(-8,10))+',']"
   ]
  },
  {
   "cell_type": "code",
   "execution_count": null,
   "metadata": {},
   "outputs": [],
   "source": [
    "print(str(s_Array))"
   ]
  },
  {
   "cell_type": "code",
   "execution_count": null,
   "metadata": {},
   "outputs": [],
   "source": [
    "''.join(s_Array)"
   ]
  },
  {
   "cell_type": "code",
   "execution_count": null,
   "metadata": {},
   "outputs": [],
   "source": [
    "for i in range(65,91):\n",
    "    print(chr(i),end=\"\\t\")"
   ]
  },
  {
   "cell_type": "code",
   "execution_count": null,
   "metadata": {},
   "outputs": [],
   "source": [
    "i=range(65,91)"
   ]
  },
  {
   "cell_type": "code",
   "execution_count": null,
   "metadata": {},
   "outputs": [],
   "source": [
    "import random"
   ]
  },
  {
   "cell_type": "code",
   "execution_count": null,
   "metadata": {},
   "outputs": [],
   "source": [
    "random.shuffle(chr(i))"
   ]
  },
  {
   "cell_type": "code",
   "execution_count": null,
   "metadata": {},
   "outputs": [],
   "source": [
    "i = list(i)"
   ]
  },
  {
   "cell_type": "code",
   "execution_count": null,
   "metadata": {},
   "outputs": [],
   "source": [
    "for k in i:\n",
    "    print(chr(k))"
   ]
  },
  {
   "cell_type": "code",
   "execution_count": null,
   "metadata": {
    "pycharm": {
     "is_executing": false
    }
   },
   "outputs": [],
   "source": [
    "a=[113, 123, 118, 112, 108, 94, 99, 72, 38, 68, 72, 87, 89, 72, 36, 118, 100, 78, 72, 87, 121, 83, 101, 39, 62, 94, 62, 38, 107, 115, 106]"
   ]
  },
  {
   "cell_type": "code",
   "execution_count": null,
   "metadata": {
    "pycharm": {
     "is_executing": false
    }
   },
   "outputs": [],
   "source": [
    "s=''\n",
    "for i in a:\n",
    "    s += chr(i^0x17)\n",
    "print(s)"
   ]
  },
  {
   "cell_type": "code",
   "execution_count": null,
   "metadata": {},
   "outputs": [],
   "source": [
    "bytes.fromhex('546865').decode(encoding='utf-8')"
   ]
  },
  {
   "cell_type": "code",
   "execution_count": null,
   "metadata": {},
   "outputs": [],
   "source": [
    "k.decode(encoding='utf-8')"
   ]
  },
  {
   "cell_type": "code",
   "execution_count": 3,
   "metadata": {},
   "outputs": [],
   "source": [
    "import random"
   ]
  },
  {
   "cell_type": "code",
   "execution_count": null,
   "metadata": {},
   "outputs": [],
   "source": [
    "for i in range(160):\n",
    "    a = random.randint(1,10)\n",
    "    b = random.randint(10,999)\n",
    "    if i % 10 == 0:\n",
    "        print(\"----------第{}天----------\".format(round(i / 10)+1))\n",
    "    rand_oper = random.choice(oper)\n",
    "    if rand_oper == \"*\":\n",
    "        print(\"{} × {} = {}\".format(a,b,a*b))\n",
    "    elif rand_oper == \"/\":\n",
    "        print(\"{} / {} = {}\".format(a*b,a,b))\n",
    "    elif rand_oper == \"+\":\n",
    "        a = random.randint(1,999)\n",
    "        b = random.randint(1,999)\n",
    "        print(\"{} + {} = {}\".format(a, b, a+b))\n",
    "    elif rand_oper == \"-\":\n",
    "        a = random.randint(1,999)\n",
    "        b = random.randint(1,999)\n",
    "        print(\"{} - {} = {}\".format(a+b, a, b))\n",
    "    else:\n",
    "        print(i, rand_oper)"
   ]
  },
  {
   "cell_type": "code",
   "execution_count": null,
   "metadata": {},
   "outputs": [],
   "source": [
    "print(\"{} × {} = {}\".format(a,b,a*b))"
   ]
  },
  {
   "cell_type": "markdown",
   "metadata": {},
   "source": [
    "$\\div$"
   ]
  },
  {
   "cell_type": "code",
   "execution_count": 1,
   "metadata": {},
   "outputs": [],
   "source": [
    "oper=[\"+\",\"-\",\"*\",\"/\"]"
   ]
  },
  {
   "cell_type": "code",
   "execution_count": 4,
   "metadata": {},
   "outputs": [
    {
     "data": {
      "text/plain": [
       "'/'"
      ]
     },
     "execution_count": 4,
     "metadata": {},
     "output_type": "execute_result"
    }
   ],
   "source": [
    "random.choice(oper)"
   ]
  },
  {
   "cell_type": "code",
   "execution_count": 6,
   "metadata": {},
   "outputs": [
    {
     "name": "stdout",
     "output_type": "stream",
     "text": [
      "----------第1天----------\n",
      "490 ÷ 5 = \n",
      "158 + 110 = \n",
      "915 + 981 = \n",
      "1100 - 547 = \n",
      "1360 - 911 = \n",
      "270 ÷ 6 = \n",
      "90 ÷ 3 = \n",
      "568 ÷ 8 = \n",
      "675 ÷ 9 = \n",
      "249 ÷ 3 = \n",
      "----------第2天----------\n",
      "476 ÷ 7 = \n",
      "1687 - 872 = \n",
      "10 × 951 = \n",
      "77 ÷ 7 = \n",
      "8 × 491 = \n",
      "128 ÷ 8 = \n",
      "1036 - 61 = \n",
      "564 ÷ 6 = \n",
      "1331 - 499 = \n",
      "6 × 655 = \n",
      "----------第3天----------\n",
      "81 ÷ 3 = \n",
      "90 ÷ 3 = \n",
      "1420 - 898 = \n",
      "343 ÷ 7 = \n",
      "595 ÷ 7 = \n",
      "9 × 86 = \n",
      "285 + 392 = \n",
      "42 ÷ 2 = \n",
      "926 + 294 = \n",
      "1421 - 561 = \n",
      "----------第4天----------\n",
      "1227 - 924 = \n",
      "642 - 138 = \n",
      "525 + 107 = \n",
      "162 ÷ 3 = \n",
      "544 ÷ 8 = \n",
      "8 × 227 = \n",
      "4 × 629 = \n",
      "8 × 600 = \n",
      "434 ÷ 7 = \n",
      "1080 - 919 = \n",
      "----------第5天----------\n",
      "111 ÷ 3 = \n",
      "241 + 597 = \n",
      "120 ÷ 3 = \n",
      "994 - 993 = \n",
      "438 - 127 = \n",
      "10 ÷ 2 = \n",
      "3 × 789 = \n",
      "7 × 359 = \n",
      "72 ÷ 3 = \n",
      "8 × 253 = \n",
      "----------第6天----------\n",
      "652 - 330 = \n",
      "697 - 533 = \n",
      "6 × 285 = \n",
      "268 + 953 = \n",
      "915 - 518 = \n",
      "475 ÷ 5 = \n",
      "676 + 92 = \n",
      "1121 - 596 = \n",
      "511 ÷ 7 = \n",
      "576 - 399 = \n",
      "----------第7天----------\n",
      "1472 - 757 = \n",
      "1009 - 194 = \n",
      "5 × 219 = \n",
      "352 ÷ 8 = \n",
      "5 × 246 = \n",
      "3 × 572 = \n",
      "903 + 514 = \n",
      "859 + 20 = \n",
      "1547 - 754 = \n",
      "8 × 567 = \n",
      "----------第8天----------\n",
      "1165 - 973 = \n",
      "468 + 785 = \n",
      "4 × 930 = \n",
      "6 × 370 = \n",
      "10 × 412 = \n",
      "579 - 103 = \n",
      "10 × 885 = \n",
      "136 ÷ 2 = \n",
      "8 × 608 = \n",
      "95 + 985 = \n",
      "----------第9天----------\n",
      "823 + 160 = \n",
      "1053 - 812 = \n",
      "4 × 12 = \n",
      "569 + 551 = \n",
      "95 + 902 = \n",
      "99 ÷ 3 = \n",
      "450 ÷ 9 = \n",
      "284 - 12 = \n",
      "1146 - 240 = \n",
      "2 ÷ 2 = \n",
      "----------第10天----------\n",
      "304 ÷ 8 = \n",
      "449 + 408 = \n",
      "1165 - 546 = \n",
      "1328 - 434 = \n",
      "634 - 366 = \n",
      "475 ÷ 5 = \n",
      "455 ÷ 5 = \n",
      "1657 - 719 = \n",
      "986 - 707 = \n",
      "3 × 561 = \n",
      "----------第11天----------\n",
      "15 ÷ 5 = \n",
      "8 × 836 = \n",
      "633 - 404 = \n",
      "1107 - 284 = \n",
      "1487 - 531 = \n",
      "1314 - 411 = \n",
      "798 - 685 = \n",
      "335 ÷ 5 = \n",
      "327 + 741 = \n",
      "1246 - 720 = \n",
      "----------第12天----------\n",
      "693 ÷ 7 = \n",
      "3 × 461 = \n",
      "399 ÷ 7 = \n",
      "4 × 618 = \n",
      "5 × 668 = \n",
      "558 ÷ 6 = \n",
      "76 ÷ 2 = \n",
      "622 + 974 = \n",
      "1321 - 405 = \n",
      "581 - 358 = \n",
      "----------第13天----------\n",
      "592 + 855 = \n",
      "1433 - 849 = \n",
      "243 - 78 = \n",
      "5 × 944 = \n",
      "950 + 964 = \n",
      "536 ÷ 8 = \n",
      "162 ÷ 3 = \n",
      "146 ÷ 2 = \n",
      "4 × 352 = \n",
      "175 ÷ 7 = \n",
      "----------第14天----------\n",
      "5 × 728 = \n",
      "1222 - 409 = \n",
      "661 - 486 = \n",
      "546 - 444 = \n",
      "354 ÷ 6 = \n",
      "396 + 530 = \n",
      "91 + 992 = \n",
      "78 ÷ 3 = \n",
      "681 - 540 = \n",
      "332 + 177 = \n",
      "----------第15天----------\n",
      "1140 - 785 = \n",
      "7 × 505 = \n",
      "567 ÷ 9 = \n",
      "1679 - 831 = \n",
      "630 ÷ 9 = \n",
      "358 + 511 = \n",
      "261 ÷ 9 = \n",
      "580 - 91 = \n",
      "901 - 538 = \n",
      "186 ÷ 3 = \n",
      "----------第16天----------\n",
      "75 ÷ 3 = \n",
      "90 ÷ 5 = \n",
      "960 - 301 = \n",
      "626 - 352 = \n",
      "1280 - 772 = \n",
      "542 + 49 = \n",
      "490 - 195 = \n",
      "140 ÷ 7 = \n",
      "3 × 506 = \n",
      "596 - 234 = \n",
      "----------第17天----------\n",
      "639 - 403 = \n",
      "9 × 508 = \n",
      "5 × 637 = \n",
      "622 + 452 = \n",
      "1521 - 714 = \n",
      "4 × 364 = \n",
      "4 × 836 = \n",
      "1544 - 882 = \n",
      "4 × 779 = \n",
      "8 × 907 = \n",
      "----------第18天----------\n",
      "1384 - 487 = \n",
      "586 - 144 = \n",
      "194 + 605 = \n",
      "5 × 410 = \n",
      "472 - 376 = \n",
      "40 ÷ 5 = \n",
      "529 + 924 = \n",
      "6 × 769 = \n",
      "155 ÷ 5 = \n",
      "230 + 133 = \n",
      "----------第19天----------\n",
      "603 ÷ 9 = \n",
      "888 - 262 = \n",
      "860 + 265 = \n",
      "180 ÷ 3 = \n",
      "874 + 647 = \n",
      "6 × 155 = \n",
      "994 - 670 = \n",
      "104 ÷ 2 = \n",
      "1383 - 514 = \n",
      "8 × 131 = \n",
      "----------第20天----------\n",
      "775 - 157 = \n",
      "1489 - 517 = \n",
      "623 ÷ 7 = \n",
      "828 - 121 = \n",
      "335 + 439 = \n",
      "870 - 209 = \n",
      "677 - 46 = \n",
      "4 × 478 = \n",
      "96 ÷ 6 = \n",
      "546 ÷ 7 = \n",
      "----------第21天----------\n",
      "300 ÷ 5 = \n",
      "336 ÷ 4 = \n",
      "180 + 639 = \n",
      "4 × 927 = \n",
      "68 ÷ 4 = \n",
      "104 ÷ 4 = \n",
      "744 ÷ 8 = \n",
      "9 × 559 = \n",
      "261 ÷ 9 = \n",
      "9 × 670 = \n",
      "----------第22天----------\n",
      "1105 - 294 = \n",
      "350 ÷ 5 = \n",
      "9 × 446 = \n",
      "7 × 884 = \n",
      "8 × 98 = \n",
      "934 - 39 = \n",
      "8 × 165 = \n",
      "6 × 796 = \n",
      "5 × 967 = \n",
      "9 × 850 = \n",
      "----------第23天----------\n",
      "886 - 421 = \n",
      "375 + 696 = \n",
      "266 + 450 = \n",
      "523 + 536 = \n",
      "766 + 267 = \n",
      "995 + 920 = \n",
      "10 × 79 = \n",
      "515 + 518 = \n",
      "654 - 243 = \n",
      "350 ÷ 5 = \n",
      "----------第24天----------\n",
      "450 ÷ 9 = \n",
      "725 + 414 = \n",
      "75 + 860 = \n",
      "8 × 601 = \n",
      "1350 - 645 = \n",
      "220 ÷ 5 = \n",
      "759 - 615 = \n",
      "1086 - 417 = \n",
      "9 × 60 = \n",
      "8 × 954 = \n",
      "----------第25天----------\n",
      "1061 - 970 = \n",
      "144 ÷ 6 = \n",
      "3 × 196 = \n",
      "198 ÷ 9 = \n",
      "300 + 374 = \n",
      "160 ÷ 5 = \n",
      "228 ÷ 3 = \n",
      "345 + 727 = \n",
      "183 + 83 = \n",
      "1371 - 664 = \n"
     ]
    }
   ],
   "source": [
    "for i in range(250):\n",
    "    if i % 10 == 0:\n",
    "        print(\"----------第{}天----------\".format(round(i / 10)+1))\n",
    "    rand_oper = random.choice(oper)\n",
    "    if rand_oper == \"*\":\n",
    "        a = random.randint(3,10)\n",
    "        b = random.randint(10,999)\n",
    "        print(\"{} × {} = {}\".format(a,b,\"\"))\n",
    "    elif rand_oper == \"/\":\n",
    "        a = random.randint(1,99)\n",
    "        b = random.randint(2,9)\n",
    "        print(\"{} ÷ {} = {}\".format(a*b,b,\"\"))\n",
    "    elif rand_oper == \"+\":\n",
    "        a = random.randint(1,999)\n",
    "        b = random.randint(1,999)\n",
    "        print(\"{} + {} = {}\".format(a, b, \"\"))\n",
    "    elif rand_oper == \"-\":\n",
    "        a = random.randint(1,999)\n",
    "        b = random.randint(1,999)\n",
    "        print(\"{} - {} = {}\".format(a+b, a, \"\"))\n",
    "    else:\n",
    "        print(i, rand_oper)"
   ]
  },
  {
   "cell_type": "code",
   "execution_count": null,
   "metadata": {
    "pycharm": {
     "is_executing": false
    }
   },
   "outputs": [],
   "source": [
    "print(\"Hello, My World, I Love You!\")"
   ]
  },
  {
   "cell_type": "code",
   "execution_count": null,
   "metadata": {
    "pycharm": {
     "is_executing": false,
     "name": "#%%\n"
    }
   },
   "outputs": [],
   "source": [
    "a = [1,2,3,4]\n",
    "print(1,2,3,34)"
   ]
  },
  {
   "cell_type": "code",
   "execution_count": null,
   "metadata": {
    "pycharm": {
     "name": "#%%\n"
    }
   },
   "outputs": [],
   "source": [
    "len('182812482972168423884795132699225934365072979206288632257180603530046820174392675977209758378734399146216742345585898385168866887000708558119959898992294085847474548306743585711154035585848291290988967352517174312220756638881837930962458861193652684492265539096477345065113556380573776423787885892688197584678128636231428194711357642971544417113415626331810909274966752557628893585198569815939514862013512237657828262360291726912615575646318630641527418369988268899879152029186728850816178597399494254385226049249357897840618728804680238123954207656671747782543031545429711152272581734051959578453680011676521727918037340906791388178004979453256050227967701258768070039292546964652071924183467364467145178290753361477912582242961929982420950384199259355122986865808523351306098081481072454093823090')"
   ]
  },
  {
   "cell_type": "code",
   "execution_count": null,
   "metadata": {},
   "outputs": [],
   "source": [
    "n='438980397031315392229453908048509540832246041631432878509579665664182747463100230160823865621798053164989325086085003940181731721089701380743698761443812523024144817205902380903062054138730658451286904347536210833160924917347633148983052015550354913154312162901555870494273903714349869746793861874257201085777893961715468950661641778512110325457371446203379767458862059193946434683324578530163650541637261158037041205642428802942295011562277084687025213626698849526240663754073508102229066475773893638716845176469070938803298515155140240970836387785401085919369741520890271902332951669953411373633688944162470994856654604872287103746922041844065053274059990595496159866206551119361036237431289830985174384522423364811997241255005514248198447925396378192915553898993758660041223393168707380580012437'\n",
    "c='182812482972168423884795132699225934365072979206288632257180603530046820174392675977209758378734399146216742345585898385168866887000708558119959898992294085847474548306743585711154035585848291290988967352517174312220756638881837930962458861193652684492265539096477345065113556380573776423787885892688197584678128636231428194711357642971544417113415626331810909274966752557628893585198569815939514862013512237657828262360291726912615575646318630641527418369988268899879152029186728850816178597399494254385226049249357897840618728804680238123954207656671747782543031545429711152272581734051959578453680011676521727918037340906791388178004979453256050227967701258768070039292546964652071924183467364467145178290753361477912582242961929982420950384199259355122986865808523351306098081481072454093823090'"
   ]
  },
  {
   "cell_type": "code",
   "execution_count": null,
   "metadata": {},
   "outputs": [],
   "source": [
    "pq_1=n[-200:]\n",
    "pq_2=n[:198]\n",
    "pq=pq_2+pq_1"
   ]
  },
  {
   "cell_type": "code",
   "execution_count": null,
   "metadata": {},
   "outputs": [],
   "source": [
    "pq = int(pq)"
   ]
  },
  {
   "cell_type": "code",
   "execution_count": null,
   "metadata": {},
   "outputs": [],
   "source": [
    "p2_q2=int(str(int(n)-(pow(10,400)+1)*int(pq))[:-200])"
   ]
  },
  {
   "cell_type": "code",
   "execution_count": null,
   "metadata": {},
   "outputs": [],
   "source": [
    "p2_q2"
   ]
  },
  {
   "cell_type": "code",
   "execution_count": null,
   "metadata": {},
   "outputs": [],
   "source": [
    "t1=p2_q2+2*pq"
   ]
  },
  {
   "cell_type": "code",
   "execution_count": null,
   "metadata": {},
   "outputs": [],
   "source": [
    "import gmpy2 \n",
    "\n",
    "p_p_q = gmpy2.iroot(t1,2)"
   ]
  },
  {
   "cell_type": "code",
   "execution_count": null,
   "metadata": {},
   "outputs": [],
   "source": [
    "t2 = t1-4*pq"
   ]
  },
  {
   "cell_type": "code",
   "execution_count": null,
   "metadata": {},
   "outputs": [],
   "source": [
    "p_m_q = gmpy2.iroot(t2,2)"
   ]
  },
  {
   "cell_type": "code",
   "execution_count": null,
   "metadata": {},
   "outputs": [],
   "source": [
    "p = (p_p_q+p_m_q)//2\n",
    "q = (p_p_q-p_m_q)//2"
   ]
  },
  {
   "cell_type": "code",
   "execution_count": null,
   "metadata": {},
   "outputs": [],
   "source": [
    "p_p_q = 15390100532976028036566707415665788210144919873251179927038675446371084321201614535387554562058176442517533850721654700914519613191519912647703052700111296571734693280005588205728742958783826751851382\n",
    "p_m_q = 7827070691042905442425984672534718816941611996609336353243072759064686501182791909647808887158067388358674367589039616322394102992777239864012674211772020618714709168819372287126331816126679158457724"
   ]
  },
  {
   "cell_type": "code",
   "execution_count": null,
   "metadata": {},
   "outputs": [],
   "source": [
    "print(p)\n",
    "print(q)"
   ]
  },
  {
   "cell_type": "code",
   "execution_count": null,
   "metadata": {},
   "outputs": [],
   "source": [
    "p*q"
   ]
  },
  {
   "cell_type": "code",
   "execution_count": null,
   "metadata": {},
   "outputs": [],
   "source": [
    "e = 65537"
   ]
  },
  {
   "cell_type": "code",
   "execution_count": null,
   "metadata": {},
   "outputs": [],
   "source": [
    "phi = (p1-1)*(p2-1)"
   ]
  },
  {
   "cell_type": "code",
   "execution_count": null,
   "metadata": {},
   "outputs": [],
   "source": [
    "d = gmpy2.invert(e,phi)"
   ]
  },
  {
   "cell_type": "code",
   "execution_count": null,
   "metadata": {},
   "outputs": [],
   "source": [
    "m = pow(int(c),d,p1*p2)"
   ]
  },
  {
   "cell_type": "code",
   "execution_count": null,
   "metadata": {},
   "outputs": [],
   "source": [
    "m"
   ]
  },
  {
   "cell_type": "code",
   "execution_count": null,
   "metadata": {},
   "outputs": [],
   "source": [
    "str(hex(m))"
   ]
  },
  {
   "cell_type": "code",
   "execution_count": null,
   "metadata": {},
   "outputs": [],
   "source": [
    "bytes.fromhex(str(hex(m))[2:])"
   ]
  },
  {
   "cell_type": "code",
   "execution_count": null,
   "metadata": {},
   "outputs": [],
   "source": [
    "q2 = int(n)//p"
   ]
  },
  {
   "cell_type": "code",
   "execution_count": null,
   "metadata": {},
   "outputs": [],
   "source": [
    "int(n) - p*q"
   ]
  },
  {
   "cell_type": "code",
   "execution_count": null,
   "metadata": {},
   "outputs": [],
   "source": [
    "p1 = p*pow(10,200)+q\n",
    "p2 = q*(pow(10,200))+p"
   ]
  },
  {
   "cell_type": "code",
   "execution_count": null,
   "metadata": {},
   "outputs": [],
   "source": [
    "p1*p2"
   ]
  },
  {
   "cell_type": "code",
   "execution_count": null,
   "metadata": {},
   "outputs": [],
   "source": [
    "import libnum\n",
    "libnum.n2s(m)"
   ]
  },
  {
   "cell_type": "code",
   "execution_count": null,
   "metadata": {},
   "outputs": [],
   "source": [
    "import gmpy2\n",
    "import libnum\n",
    "c = 182812482972168423884795132699225934365072979206288632257180603530046820174392675977209758378734399146216742345585898385168866887000708558119959898992294085847474548306743585711154035585848291290988967352517174312220756638881837930962458861193652684492265539096477345065113556380573776423787885892688197584678128636231428194711357642971544417113415626331810909274966752557628893585198569815939514862013512237657828262360291726912615575646318630641527418369988268899879152029186728850816178597399494254385226049249357897840618728804680238123954207656671747782543031545429711152272581734051959578453680011676521727918037340906791388178004979453256050227967701258768070039292546964652071924183467364467145178290753361477912582242961929982420950384199259355122986865808523351306098081481072454093823090\n",
    "n = 438980397031315392229453908048509540832246041631432878509579665664182747463100230160823865621798053164989325086085003940181731721089701380743698761443812523024144817205902380903062054138730658451286904347536210833160924917347633148983052015550354913154312162901555870494273903714349869746793861874257201085777893961715468950661641778512110325457371446203379767458862059193946434683324578530163650541637261158037041205642428802942295011562277084687025213626698849526240663754073508102229066475773893638716845176469070938803298515155140240970836387785401085919369741520890271902332951669953411373633688944162470994856654604872287103746922041844065053274059990595496159866206551119361036237431289830985174384522423364811997241255005514248198447925396378192915553898993758660041223393168707380580012437\n",
    "e = 65537\n",
    "\n",
    "tmp = 10**200\n",
    "abhigh,ablow = n/(tmp**3), n % tmp\n",
    "#abhigh,ablow = n/(tmp**3)-1, n % tmp\n",
    "ab = abhigh*tmp+ablow\n",
    "a2b2 = int(str((n-ab*(tmp**2)-ab))[:-200])\n",
    "#print a2b2\n",
    "#(a-b),(a+b)\n",
    "tmp1 = gmpy2.iroot(a2b2-2*ab,2)[0]\n",
    "tmp2 = gmpy2.iroot(a2b2+2*ab,2)[0]\n",
    "a = (tmp1+tmp2)/2\n",
    "b = a-tmp1\n",
    "p = a*tmp + b\n",
    "q = n/p\n",
    "phi = (p-1)*(q-1)\n",
    "d = gmpy2.invert(e,phi)\n",
    "m = pow(c,d,p*q)\n",
    "print(libnum.n2s(m))"
   ]
  },
  {
   "cell_type": "code",
   "execution_count": null,
   "metadata": {},
   "outputs": [],
   "source": [
    "int(ab*tmp)"
   ]
  },
  {
   "cell_type": "code",
   "execution_count": null,
   "metadata": {},
   "outputs": [],
   "source": [
    "import base64\n",
    "b = base64.b64encode(a.content).decode()"
   ]
  },
  {
   "cell_type": "code",
   "execution_count": null,
   "metadata": {},
   "outputs": [],
   "source": [
    "data={'image':b}"
   ]
  },
  {
   "cell_type": "code",
   "execution_count": null,
   "metadata": {},
   "outputs": [],
   "source": [
    "gen_ocr_url = 'https://aip.baidubce.com/rest/2.0/ocr/v1/handwriting?access_token={}'.format('24.93af92125eeb01ff859f9257315fbc83.2592000.1592635679.282335-11705762')\n",
    "r = requests.post(url=gen_ocr_url, data=data)"
   ]
  },
  {
   "cell_type": "code",
   "execution_count": null,
   "metadata": {},
   "outputs": [],
   "source": [
    "r.content"
   ]
  },
  {
   "cell_type": "code",
   "execution_count": null,
   "metadata": {},
   "outputs": [],
   "source": [
    "import json"
   ]
  },
  {
   "cell_type": "code",
   "execution_count": null,
   "metadata": {},
   "outputs": [],
   "source": [
    "h = r.content.decode()"
   ]
  },
  {
   "cell_type": "code",
   "execution_count": null,
   "metadata": {},
   "outputs": [],
   "source": [
    "json.loads(h)['words_result'][0]['words']"
   ]
  },
  {
   "cell_type": "code",
   "execution_count": null,
   "metadata": {},
   "outputs": [],
   "source": [
    "a = {1,2,3,-1}"
   ]
  },
  {
   "cell_type": "code",
   "execution_count": null,
   "metadata": {},
   "outputs": [],
   "source": [
    "print(a, type(a))"
   ]
  },
  {
   "cell_type": "code",
   "execution_count": null,
   "metadata": {},
   "outputs": [],
   "source": [
    "import math\n",
    "math.sqrt(123)"
   ]
  },
  {
   "cell_type": "code",
   "execution_count": null,
   "metadata": {},
   "outputs": [],
   "source": [
    "s = ' string '\n",
    "s.strip()"
   ]
  },
  {
   "cell_type": "code",
   "execution_count": null,
   "metadata": {},
   "outputs": [],
   "source": [
    "s = list(s.strip())"
   ]
  },
  {
   "cell_type": "code",
   "execution_count": null,
   "metadata": {},
   "outputs": [],
   "source": [
    "sum = 0\n",
    "for i in range(101):\n",
    "    sum += i\n",
    "    \n",
    "print(sum)"
   ]
  },
  {
   "cell_type": "code",
   "execution_count": null,
   "metadata": {},
   "outputs": [],
   "source": [
    "'+'.join(list(range(101)))"
   ]
  },
  {
   "cell_type": "code",
   "execution_count": null,
   "metadata": {},
   "outputs": [],
   "source": [
    "eval('+'.join([str(x) for x in range(101)]))"
   ]
  },
  {
   "cell_type": "code",
   "execution_count": null,
   "metadata": {},
   "outputs": [],
   "source": [
    "import pandas as pd\n",
    "data = {\"name\": [\"Jim\", \"Tom\",\"Mary\",\"Lily\"],\n",
    "        \"sex\":['男','男','女','女'],\n",
    "        \"age\": [28,37,27,34],\n",
    "        \"salary\": [3500,4800,4500,3900]}\n",
    "df = pd.DataFrame(data)"
   ]
  },
  {
   "cell_type": "code",
   "execution_count": null,
   "metadata": {},
   "outputs": [],
   "source": [
    "a = df.iloc[:,[1,3]]"
   ]
  },
  {
   "cell_type": "code",
   "execution_count": null,
   "metadata": {},
   "outputs": [],
   "source": [
    "a.salary[1] = 5800"
   ]
  },
  {
   "cell_type": "code",
   "execution_count": null,
   "metadata": {},
   "outputs": [],
   "source": [
    "df"
   ]
  },
  {
   "cell_type": "code",
   "execution_count": null,
   "metadata": {},
   "outputs": [],
   "source": [
    "df.loc[5] = df.loc[2]+df.loc[4]"
   ]
  },
  {
   "cell_type": "code",
   "execution_count": null,
   "metadata": {},
   "outputs": [],
   "source": [
    "df.sort_values(by='salary', ascending=False)"
   ]
  },
  {
   "cell_type": "code",
   "execution_count": null,
   "metadata": {},
   "outputs": [],
   "source": [
    "a=[]"
   ]
  },
  {
   "cell_type": "code",
   "execution_count": null,
   "metadata": {},
   "outputs": [],
   "source": [
    "def func1(b):\n",
    "    a.append(b)"
   ]
  },
  {
   "cell_type": "code",
   "execution_count": null,
   "metadata": {},
   "outputs": [],
   "source": [
    "func1(2)"
   ]
  },
  {
   "cell_type": "code",
   "execution_count": 1,
   "metadata": {},
   "outputs": [],
   "source": [
    "a=0b101010011\n",
    "b=0b1100011101"
   ]
  },
  {
   "cell_type": "code",
   "execution_count": 2,
   "metadata": {},
   "outputs": [
    {
     "data": {
      "text/plain": [
       "'0b100010001'"
      ]
     },
     "execution_count": 2,
     "metadata": {},
     "output_type": "execute_result"
    },
    {
     "data": {
      "text/plain": [
       "'0b1101011111'"
      ]
     },
     "execution_count": 2,
     "metadata": {},
     "output_type": "execute_result"
    }
   ],
   "source": [
    "bin(a & b)\n",
    "bin(a | b)"
   ]
  },
  {
   "cell_type": "code",
   "execution_count": null,
   "metadata": {},
   "outputs": [],
   "source": [
    "4&5"
   ]
  },
  {
   "cell_type": "code",
   "execution_count": 5,
   "metadata": {},
   "outputs": [
    {
     "data": {
      "text/html": [
       "<div>\n",
       "<style scoped>\n",
       "    .dataframe tbody tr th:only-of-type {\n",
       "        vertical-align: middle;\n",
       "    }\n",
       "\n",
       "    .dataframe tbody tr th {\n",
       "        vertical-align: top;\n",
       "    }\n",
       "\n",
       "    .dataframe thead th {\n",
       "        text-align: right;\n",
       "    }\n",
       "</style>\n",
       "<table border=\"1\" class=\"dataframe\">\n",
       "  <thead>\n",
       "    <tr style=\"text-align: right;\">\n",
       "      <th></th>\n",
       "      <th>Col1</th>\n",
       "      <th>Col2</th>\n",
       "    </tr>\n",
       "  </thead>\n",
       "  <tbody>\n",
       "    <tr>\n",
       "      <th>0</th>\n",
       "      <td>1</td>\n",
       "      <td>2</td>\n",
       "    </tr>\n",
       "    <tr>\n",
       "      <th>1</th>\n",
       "      <td>3</td>\n",
       "      <td>4</td>\n",
       "    </tr>\n",
       "    <tr>\n",
       "      <th>2</th>\n",
       "      <td>5</td>\n",
       "      <td>6</td>\n",
       "    </tr>\n",
       "  </tbody>\n",
       "</table>\n",
       "</div>"
      ],
      "text/plain": [
       "   Col1  Col2\n",
       "0     1     2\n",
       "1     3     4\n",
       "2     5     6"
      ]
     },
     "execution_count": 5,
     "metadata": {},
     "output_type": "execute_result"
    },
    {
     "data": {
      "text/plain": [
       "0    7\n",
       "1    8\n",
       "2    9\n",
       "Name: importance, dtype: int64"
      ]
     },
     "execution_count": 5,
     "metadata": {},
     "output_type": "execute_result"
    },
    {
     "data": {
      "text/html": [
       "<div>\n",
       "<style scoped>\n",
       "    .dataframe tbody tr th:only-of-type {\n",
       "        vertical-align: middle;\n",
       "    }\n",
       "\n",
       "    .dataframe tbody tr th {\n",
       "        vertical-align: top;\n",
       "    }\n",
       "\n",
       "    .dataframe thead th {\n",
       "        text-align: right;\n",
       "    }\n",
       "</style>\n",
       "<table border=\"1\" class=\"dataframe\">\n",
       "  <thead>\n",
       "    <tr style=\"text-align: right;\">\n",
       "      <th></th>\n",
       "      <th>Col1</th>\n",
       "      <th>Col2</th>\n",
       "      <th>importance</th>\n",
       "    </tr>\n",
       "  </thead>\n",
       "  <tbody>\n",
       "    <tr>\n",
       "      <th>2</th>\n",
       "      <td>5</td>\n",
       "      <td>6</td>\n",
       "      <td>9</td>\n",
       "    </tr>\n",
       "    <tr>\n",
       "      <th>1</th>\n",
       "      <td>3</td>\n",
       "      <td>4</td>\n",
       "      <td>8</td>\n",
       "    </tr>\n",
       "    <tr>\n",
       "      <th>0</th>\n",
       "      <td>1</td>\n",
       "      <td>2</td>\n",
       "      <td>7</td>\n",
       "    </tr>\n",
       "  </tbody>\n",
       "</table>\n",
       "</div>"
      ],
      "text/plain": [
       "   Col1  Col2  importance\n",
       "2     5     6           9\n",
       "1     3     4           8\n",
       "0     1     2           7"
      ]
     },
     "execution_count": 5,
     "metadata": {},
     "output_type": "execute_result"
    }
   ],
   "source": [
    "import pandas as pd\n",
    "\n",
    "df_a = pd.DataFrame([[1,2],[3,4],[5,6]], columns=['Col1', 'Col2'])\n",
    "s_b = pd.Series([7,8,9],name=\"importance\")\n",
    "\n",
    "df_a\n",
    "s_b\n",
    "\n",
    "#增加一列\n",
    "df_a[\"importance\"]=s_b\n",
    "\n",
    "#按列排序\n",
    "df_a.sort_values(by='importance',ascending=False)"
   ]
  },
  {
   "cell_type": "code",
   "execution_count": 1,
   "metadata": {},
   "outputs": [],
   "source": [
    "from sklearn.manifold import TSNE"
   ]
  },
  {
   "cell_type": "code",
   "execution_count": 31,
   "metadata": {},
   "outputs": [],
   "source": [
    "from zblib.SendSMS import sms_send"
   ]
  },
  {
   "cell_type": "code",
   "execution_count": 32,
   "metadata": {},
   "outputs": [
    {
     "name": "stdout",
     "output_type": "stream",
     "text": [
      "<class 'str'>\n",
      "Message send to 13806296955 : Test\n"
     ]
    }
   ],
   "source": [
    "sms_send(13806296955,5,'Test')"
   ]
  },
  {
   "cell_type": "code",
   "execution_count": 3,
   "metadata": {},
   "outputs": [
    {
     "name": "stdout",
     "output_type": "stream",
     "text": [
      "False\n"
     ]
    }
   ],
   "source": [
    "x=0.1\n",
    "for num in range(9):\n",
    "    x += 0.1\n",
    "print(x == 1)"
   ]
  },
  {
   "cell_type": "code",
   "execution_count": null,
   "metadata": {},
   "outputs": [],
   "source": []
  }
 ],
 "metadata": {
  "file_extension": ".py",
  "kernelspec": {
   "display_name": "Python 3",
   "language": "python",
   "name": "python3"
  },
  "language_info": {
   "codemirror_mode": {
    "name": "ipython",
    "version": 3
   },
   "file_extension": ".py",
   "mimetype": "text/x-python",
   "name": "python",
   "nbconvert_exporter": "python",
   "pygments_lexer": "ipython3",
   "version": "3.8.5"
  },
  "mimetype": "text/x-python",
  "name": "python",
  "npconvert_exporter": "python",
  "pycharm": {
   "stem_cell": {
    "cell_type": "raw",
    "metadata": {
     "collapsed": false
    },
    "source": []
   }
  },
  "pygments_lexer": "ipython3",
  "toc": {
   "base_numbering": 1,
   "nav_menu": {},
   "number_sections": true,
   "sideBar": true,
   "skip_h1_title": false,
   "title_cell": "Table of Contents",
   "title_sidebar": "Contents",
   "toc_cell": false,
   "toc_position": {},
   "toc_section_display": true,
   "toc_window_display": false
  },
  "varInspector": {
   "cols": {
    "lenName": 16,
    "lenType": 16,
    "lenVar": 40
   },
   "kernels_config": {
    "python": {
     "delete_cmd_postfix": "",
     "delete_cmd_prefix": "del ",
     "library": "var_list.py",
     "varRefreshCmd": "print(var_dic_list())"
    },
    "r": {
     "delete_cmd_postfix": ") ",
     "delete_cmd_prefix": "rm(",
     "library": "var_list.r",
     "varRefreshCmd": "cat(var_dic_list()) "
    }
   },
   "types_to_exclude": [
    "module",
    "function",
    "builtin_function_or_method",
    "instance",
    "_Feature"
   ],
   "window_display": false
  },
  "version": 3
 },
 "nbformat": 4,
 "nbformat_minor": 4
}
