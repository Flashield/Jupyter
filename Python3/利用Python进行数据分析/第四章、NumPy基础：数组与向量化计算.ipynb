{
 "cells": [
  {
   "cell_type": "markdown",
   "metadata": {},
   "source": [
    "NumPy，是Numerical Python的简称，是目前Python数值计算中最为重要的基础包。大多数计算包都提供了基于NumPy的科学函数功能，将NumPy的数组对象作为数据交换的通用语。\n",
    "\n",
    "以下内容将会出现在NumPy中：\n",
    "\n",
    "* ndarray，一种高效多维数组，提供了基于数组的便捷算术操作以及灵活的广播功能。\n",
    "* 对所有数据进行快速的矩阵计算，而无须编写循环程序。\n",
    "* 对硬盘中数组数据进行读写的工具，并对内存映射文件进行操作。\n",
    "* 线性代数、随机数生成以及傅里叶变换功能。\n",
    "* 用于连接NumPy到C、C++和FORTRAN语言类库的C语言API。\n",
    "\n",
    "由于NumPy提供了一个非常易用的C语言API，这使得，将数据传递给用底层语言编写的外部类库，再由外部类库将计算结果按照NumPy数组的方式返回，变得非常简单。这个特征使得Python可以对存量C/C++/Fortran代码库进行封装，并为这些代码提供动态、易用的接口。\n",
    "\n",
    "NumPy本身并不提供建模和科学函数，理解NumPy的数组以及基于数组的计算将帮助你更高效地使用基于数组的工具，比如pandas。由于NumPy是一个很大的话题，后续会讲解NumPy的一些高级特性，例如广播机制。\n",
    "\n",
    "对于大多数的数据分析应用，主要关注的内容为：\n",
    "\n",
    "* 在数据处理、清洗、构造子集、过滤、变换以及其他计算中进行快速的向量化计算。\n",
    "* 常见的数组算法，比sort、unique以及set操作等。\n",
    "* 高效的描述性统计和聚合/概述数据。\n",
    "* 数据排列和相关数据操作，例如对异构数据进行merge和join。\n",
    "* 使用数组表达式来表明条件逻辑，代替if-elif-else条件分支的循环。\n",
    "* 分组数据的操作（聚合、变换以及函数式操作）。\n",
    "\n",
    "虽然NumPy提供了数值数据操作的计算基础，但大多数人还是想把pandas作为统计、分析的基石，尤其是针对表格数据。pandas提供了更多的针对特定场景的函数功能，例如时间序列操作等NumPy并不包含的功能。\n",
    "\n",
    "Python中的数组计算方式要追溯到1995年，当时Jim Hugunin创造Numeric库。之后10年里，许多科研编程社区开始利用Python进行数组编程，但类库的生态在2000年之后都是碎片化的。2005年，Travis Oliphant在Numeric和Numarray项目之上打造了NumPy，将社区整合到同一个数组计算框架下。\n",
    "\n",
    "NumPy之所以如此重要，其中一个原因就是它的设计对于含有大量数组的数据非常有效。此外还有如下原因：\n",
    "\n",
    "* NumPy在内部将数据存储在连续的内存块上，这与其他的Python内建数据结构是不同的。NumPy的算法库是用C语言写的，所以在操作数据内存时，不需要任何类型检查或者其他管理操作。NumPy数组使用的内存量也小于其他Python内建序列。\n",
    "* NumPy可以针对全量数组进行复杂计算而不需要写Python循环。\n",
    "\n",
    "下面的例子将展现NumPy的不同，假设一个NumPy数组包含100万个整数，还有一个同样数据内容的Python列表，现在同时对每个序列乘以2："
   ]
  },
  {
   "cell_type": "code",
   "execution_count": 1,
   "metadata": {},
   "outputs": [],
   "source": [
    "import numpy as np\n",
    "my_arr = np.arange(1000000)\n",
    "my_list = list(range(1000000))"
   ]
  },
  {
   "cell_type": "code",
   "execution_count": 2,
   "metadata": {},
   "outputs": [
    {
     "name": "stdout",
     "output_type": "stream",
     "text": [
      "CPU times: user 37.1 ms, sys: 28.4 ms, total: 65.5 ms\n",
      "Wall time: 62 ms\n"
     ]
    }
   ],
   "source": [
    "%time for _ in range(10): my_arr2 = my_arr * 2"
   ]
  },
  {
   "cell_type": "code",
   "execution_count": 3,
   "metadata": {},
   "outputs": [
    {
     "name": "stdout",
     "output_type": "stream",
     "text": [
      "CPU times: user 980 ms, sys: 276 ms, total: 1.26 s\n",
      "Wall time: 1.24 s\n"
     ]
    }
   ],
   "source": [
    "%time for _ in range(10): my_list2 = [x * 2 for x in my_list]"
   ]
  },
  {
   "cell_type": "markdown",
   "metadata": {},
   "source": [
    "NumPy的方法比Python方法要快10到100倍，并且使用的内存也更少。"
   ]
  },
  {
   "cell_type": "markdown",
   "metadata": {},
   "source": [
    "## 4.1　NumPy ndarray：多维数组对象\n",
    "NumPy的核心特征之一就是N-维数组对象——ndarray。ndarray是Python中一个快速、灵活的大型数据集容器。数组允许你使用类似于标量的操作语法在整块数据上进行数学计算。\n",
    "\n",
    "为了让你感受下NumPy如何使用类似于Python内建对象的标量计算语法进行批量计算，我首先导入NumPy，再生成一个小的随机数组："
   ]
  },
  {
   "cell_type": "code",
   "execution_count": 4,
   "metadata": {},
   "outputs": [
    {
     "name": "stdout",
     "output_type": "stream",
     "text": [
      "[[-1.66378331  0.35332454 -0.20878118]\n",
      " [ 1.00556167  1.42869563  0.56133272]]\n",
      "[[-16.63783305   3.53324544  -2.08781181]\n",
      " [ 10.05561673  14.28695633   5.61332719]]\n",
      "[[2.76817489 0.12483823 0.04358958]\n",
      " [1.01115428 2.04117121 0.31509442]]\n"
     ]
    }
   ],
   "source": [
    "import numpy as np\n",
    "\n",
    "# 生成随机数组\n",
    "data = np.random.randn(2, 3)\n",
    "print(data)\n",
    "\n",
    "# 给data加上一个数学操作：\n",
    "print(data * 10)\n",
    "print(data * data)"
   ]
  },
  {
   "cell_type": "markdown",
   "metadata": {},
   "source": [
    "在第一个数学操作中，所有的元素都同时乘以了10。在第二个数学操作中，数组中的对应元素进行了相加。\n",
    "\n",
    "都使用标准的NumPy导入方式`import numpy as np`。当然也可以在代码中写`from numpy import *`来省略多写的一个np。然而还是建议保持写标准导入的方式。numpy这个命名空间包含了大量与Python内建函数重名的函数（比如min和max）。\n",
    "\n",
    "一个ndarray是一个通用的多维同类数据容器，也就是说，它包含的每一个元素均为相同类型。每一个数组都有一个shape属性，用来表征数组每一维度的数量；每一个数组都有一个dtype属性，用来描述数组的数据类型："
   ]
  },
  {
   "cell_type": "code",
   "execution_count": 5,
   "metadata": {},
   "outputs": [
    {
     "name": "stdout",
     "output_type": "stream",
     "text": [
      "(2, 3)\n",
      "float64\n"
     ]
    }
   ],
   "source": [
    "print(data.shape)\n",
    "print(data.dtype)"
   ]
  },
  {
   "cell_type": "markdown",
   "metadata": {},
   "source": [
    "介绍NumPy数组的基础操作，这部分内容将足以保证后面内容的阅读。虽然深入理解NumPy对于大部分数据分析应用并不是必需的，但是精通基于数组的编程和思考是成为Python科学计算专家的重要一步。\n",
    "\n",
    "> 约定当看到“数组”、“NumPy数组”或“ndarray”时，他们都表示同一个对象：ndarray对象。"
   ]
  },
  {
   "cell_type": "markdown",
   "metadata": {},
   "source": [
    "### 4.1.1　　生成ndarray\n",
    "生成数组最简单的方式就是使用array函数。array函数接收任意的序列型对象（当然也包括其他的数组），生成一个新的包含传递数据的NumPy数组。"
   ]
  },
  {
   "cell_type": "code",
   "execution_count": 6,
   "metadata": {},
   "outputs": [
    {
     "name": "stdout",
     "output_type": "stream",
     "text": [
      "[0 1 2 3 4 5 6 7 8 9] <class 'numpy.ndarray'>\n",
      "[6.  7.5 8.  0.  1. ] <class 'numpy.ndarray'>\n"
     ]
    }
   ],
   "source": [
    "data1 = [6, 7.5, 8, 0, 1]\n",
    "\n",
    "arr1 = np.array(range(10))\n",
    "print(arr1, type(arr1))\n",
    "\n",
    "arr1 = np.array(data1)\n",
    "print(arr1, type(arr1))"
   ]
  },
  {
   "cell_type": "markdown",
   "metadata": {},
   "source": [
    "嵌套序列，例如同等长度的列表，将会自动转换成多维数组："
   ]
  },
  {
   "cell_type": "code",
   "execution_count": 7,
   "metadata": {},
   "outputs": [
    {
     "name": "stdout",
     "output_type": "stream",
     "text": [
      "[[1 2 3 4]\n",
      " [5 6 7 8]] <class 'numpy.ndarray'>\n"
     ]
    }
   ],
   "source": [
    "data2 = [[1, 2, 3, 4], [5, 6, 7, 8]]\n",
    "arr2 = np.array(data2)\n",
    "print(arr2, type(arr2))"
   ]
  },
  {
   "cell_type": "markdown",
   "metadata": {},
   "source": [
    "因为data2是一个包含列表的列表，所以Numpy数组arr2形成了二维数组。我们可以通过检查ndim和shape属性来确认这一点："
   ]
  },
  {
   "cell_type": "code",
   "execution_count": 8,
   "metadata": {},
   "outputs": [
    {
     "name": "stdout",
     "output_type": "stream",
     "text": [
      "2\n",
      "(2, 4)\n"
     ]
    }
   ],
   "source": [
    "# 数组维数(Number of array dimensions)\n",
    "print(arr2.ndim)\n",
    "\n",
    "# 数组形状(Tuple of array dimensions.)\n",
    "print(arr2.shape)"
   ]
  },
  {
   "cell_type": "markdown",
   "metadata": {},
   "source": [
    "除非显式地指定，否则np.array会自动推断生成数组的数据类型。数据类型被存储在一个特殊的元数据dtype中。例如，之前的两个例子："
   ]
  },
  {
   "cell_type": "code",
   "execution_count": 9,
   "metadata": {},
   "outputs": [
    {
     "name": "stdout",
     "output_type": "stream",
     "text": [
      "float64\n",
      "int64\n"
     ]
    }
   ],
   "source": [
    "print(arr1.dtype)\n",
    "\n",
    "print(arr2.dtype)"
   ]
  },
  {
   "cell_type": "markdown",
   "metadata": {},
   "source": [
    "除了np.array，还有很多其他函数可以创建新数组。例如，给定长度及形状后，zeros可以一次性创造全0数组，ones可以一次性创造全1数组。empty则可以创建一个没有初始化数值的数组。想要创建高维数组，则需要为shape传递一个元组："
   ]
  },
  {
   "cell_type": "code",
   "execution_count": 10,
   "metadata": {},
   "outputs": [
    {
     "name": "stdout",
     "output_type": "stream",
     "text": [
      "[0. 0. 0. 0. 0. 0. 0. 0. 0. 0.] <class 'numpy.ndarray'>\n",
      "[[0. 0. 0. 0. 0. 0.]\n",
      " [0. 0. 0. 0. 0. 0.]\n",
      " [0. 0. 0. 0. 0. 0.]] <class 'numpy.ndarray'>\n",
      "[[[1.82903734e-316 0.00000000e+000]\n",
      "  [0.00000000e+000 0.00000000e+000]\n",
      "  [0.00000000e+000 0.00000000e+000]]\n",
      "\n",
      " [[0.00000000e+000 0.00000000e+000]\n",
      "  [0.00000000e+000 0.00000000e+000]\n",
      "  [0.00000000e+000 0.00000000e+000]]] <class 'numpy.ndarray'>\n"
     ]
    },
    {
     "data": {
      "text/plain": [
       "array([[[1.82903734e-316, 0.00000000e+000],\n",
       "        [0.00000000e+000, 0.00000000e+000],\n",
       "        [0.00000000e+000, 0.00000000e+000]],\n",
       "\n",
       "       [[0.00000000e+000, 0.00000000e+000],\n",
       "        [0.00000000e+000, 0.00000000e+000],\n",
       "        [0.00000000e+000, 0.00000000e+000]]])"
      ]
     },
     "execution_count": 10,
     "metadata": {},
     "output_type": "execute_result"
    }
   ],
   "source": [
    "np_test = np.zeros(10)\n",
    "print(np_test, type(np_test))\n",
    "\n",
    "np_test = np.zeros((3, 6))\n",
    "print(np_test, type(np_test))\n",
    "\n",
    "np_test = np.empty((2, 3, 2))\n",
    "print(np_test, type(np_test))\n",
    "\n",
    "np_test"
   ]
  },
  {
   "cell_type": "markdown",
   "metadata": {},
   "source": [
    "> 要使用np.empty来生成一个全0数组，并不安全，有些时候它可能会返回未初始化的垃圾数值。"
   ]
  },
  {
   "cell_type": "markdown",
   "metadata": {},
   "source": [
    "arange是Python内建函数range的数组版："
   ]
  },
  {
   "cell_type": "code",
   "execution_count": 11,
   "metadata": {},
   "outputs": [
    {
     "name": "stdout",
     "output_type": "stream",
     "text": [
      "[ 0  1  2  3  4  5  6  7  8  9 10 11 12 13 14] <class 'numpy.ndarray'>\n"
     ]
    }
   ],
   "source": [
    "np_test = np.arange(15)\n",
    "print(np_test, type(np_test))"
   ]
  },
  {
   "cell_type": "markdown",
   "metadata": {},
   "source": [
    "下表展示的是标准数组的生成函数。由于NumPy专注于数值计算，如果没有特别指明的话，默认的数据类型是float64（浮点型）。"
   ]
  },
  {
   "cell_type": "markdown",
   "metadata": {},
   "source": [
    "\n",
    "| 函数             | 描述                                                                                                 |\n",
    "| -               | -                                                                                                    |\n",
    "| array           | 将输入数据(可以是列表、元组、数组以及其他序列)转换为ndarray,如不显式指明数据类型,将自动推断;默认复制所有的输入数据 |\n",
    "| asarray         | 将输入转换为 ndarray,但如果输入已经是 ndarray则不再复制                                                   |\n",
    "| arange          | Python内建函数 range的数组版,返回一个数组                                                               |\n",
    "| ones            | 根据给定形状和数据类型生成全1数组                                                                        |\n",
    "| ones_like       | 根据所给的数组生成一个形状一样的全1数组                                                                   |\n",
    "| zeros           | 根据给定形状和数据类型生成全0数组                                                                        |\n",
    "| zeros_like      | 根据所给的数组生成一个形状一样的全0数组                                                                   |\n",
    "| empty           | 根据给定形状生成一个没有初始化数值的空数组                                                                 |\n",
    "| empty_like      | 根据所给数组生成一个形状一样但没有初始化数值的空数组                                                        |\n",
    "| full            | 根据给定的形状和数据类型生成指定数值的数组                                                                 |\n",
    "| full_like       | 根据所给的数组生成一个形状一样但内容是指定数值的数组                                                        |\n",
    "| eyes, indentity | 生成一个N*N特征矩阵(对角线位置都是1,其余位置是0)                                                          |\n"
   ]
  },
  {
   "cell_type": "markdown",
   "metadata": {},
   "source": [
    "### 4.1.2　ndarray的数据类型\n",
    "数据类型，即dytpe，是一个特殊的对象，它包含了ndarray需要为某一种类型数据所申明的内存块信息（也称为元数据，即表示数据的数据）："
   ]
  },
  {
   "cell_type": "code",
   "execution_count": 12,
   "metadata": {},
   "outputs": [
    {
     "name": "stdout",
     "output_type": "stream",
     "text": [
      "float64 <class 'numpy.dtype'>\n",
      "int32 <class 'numpy.dtype'>\n"
     ]
    }
   ],
   "source": [
    "arr1 = np.array([1, 2, 3], dtype=np.float64)\n",
    "arr2 = np.array([1, 2, 3], dtype=np.int32)\n",
    "\n",
    "print(arr1.dtype, type(arr1.dtype))\n",
    "print(arr2.dtype, type(arr2.dtype))"
   ]
  },
  {
   "cell_type": "markdown",
   "metadata": {},
   "source": [
    "dtype是NumPy能够与其他系统数据灵活交互的原因。通常，其他系统提供一个硬盘或内存与数据的对应关系，使得利用C或Fortran等底层语言读写数据变得十分方便。数据的dtype通常都是按照一个方式命名：类型名，比如float和int，后面再接上表明每个元素位数的数字。一个标准的双精度浮点值（Python中数据类型为float），将使用8字节或64位。因此，这个类型在NumPy中称为float64。下表展现所有的NumPy所支持的数据类型。"
   ]
  },
  {
   "cell_type": "markdown",
   "metadata": {},
   "source": [
    "| 类型           | 类型代码      | 描述                                          |\n",
    "| ------------- | ------------ | -------------------------------------------- |\n",
    "| int8, uint8   | i1, u1       | 有符号和无符号的8位整数                          |\n",
    "| int16, uint16 | i2, u2       | 有符号和无符号的16位整数                         |\n",
    "| int32, uint32 | i4, u4       | 有符号和无符号的32位整数                         |\n",
    "| int64, uint64 | i8, u8       | 有符号和无符号的64位整数                         |\n",
    "| float16       | f2           | 半精度浮点数                                   |\n",
    "| float32       | f4或f         | 标准单精度浮点数； 兼容C语言float                |\n",
    "| float64       | f8或d         | 标准双精度浮点数； 兼容C语言double和Python float |\n",
    "| float128      | f16或g        | 拓展精度浮点数                                 |\n",
    "| complex64,    | c8, c16, c32 | 分别基于32位、64位、128位浮点数的复数             |\n",
    "| complex128    |              |                                              |\n",
    "| complex256    |              |                                              |\n",
    "| bool          | ?            | 布尔值，存储True或False                        |\n",
    "| obiect        | O            | Python object类型                             |\n",
    "| string        | S            | 修正的ASCII字符串类型；（长度为10，使用'S10'）    |\n",
    "| unicode       | U            | 修正的Unicode字符串类型；（长度为10，使用'U10'）  |"
   ]
  },
  {
   "cell_type": "markdown",
   "metadata": {},
   "source": [
    "通常你只需要关心数据的大类，比如是否是浮点型、整数、布尔值、字符串或某个Python对象。当需要在内存或硬盘上做更深入的存取操作时，尤其是大数据集时，才真正需要了解存储的数据类型。\n",
    "\n",
    "可以使用astype方法显式地转换数组的数据类型："
   ]
  },
  {
   "cell_type": "code",
   "execution_count": 13,
   "metadata": {},
   "outputs": [
    {
     "name": "stdout",
     "output_type": "stream",
     "text": [
      "int64\n",
      "float64\n"
     ]
    }
   ],
   "source": [
    "arr = np.array([1, 2, 3, 4, 5])\n",
    "print(arr.dtype)\n",
    "float_arr = arr.astype(np.float64)\n",
    "print(float_arr.dtype)"
   ]
  },
  {
   "cell_type": "markdown",
   "metadata": {},
   "source": [
    "如果把浮点数转换成整数，则小数点后的部分将被去除："
   ]
  },
  {
   "cell_type": "code",
   "execution_count": 14,
   "metadata": {},
   "outputs": [
    {
     "name": "stdout",
     "output_type": "stream",
     "text": [
      "[ 3.7 -1.2 -2.6  0.5 12.9 10.1]\n",
      "[ 3 -1 -2  0 12 10]\n"
     ]
    }
   ],
   "source": [
    "arr = np.array([3.7, -1.2, -2.6, 0.5, 12.9, 10.1])\n",
    "print(arr)\n",
    "print(arr.astype(np.int32))"
   ]
  },
  {
   "cell_type": "markdown",
   "metadata": {},
   "source": [
    "一个数组，里面的元素都是表达数字含义的字符串，也可以通过astype将字符串转换为数字："
   ]
  },
  {
   "cell_type": "code",
   "execution_count": 15,
   "metadata": {},
   "outputs": [
    {
     "name": "stdout",
     "output_type": "stream",
     "text": [
      "[b'1.25' b'-9.6' b'42'] |S4\n",
      "[ 1.25 -9.6  42.  ] float64\n"
     ]
    }
   ],
   "source": [
    "numeric_strings = np.array(['1.25', '-9.6', '42'], dtype=np.string_)\n",
    "\n",
    "print(numeric_strings, numeric_strings.dtype)\n",
    "print(numeric_strings.astype(float), numeric_strings.astype(float).dtype)"
   ]
  },
  {
   "cell_type": "markdown",
   "metadata": {},
   "source": [
    "> 在NumPy中，当使用`numpy.string_`类型作字符串数据要小心，因为NumPy会修正它的大小或删除输入且不发出警告。pandas在处理非数值数据时有更直观的开箱型操作。\n",
    "\n",
    "如果因为某些原因导致转换类型失败（比如字符串无法转换为float64位时），将会抛出一个ValueError。\n",
    "> 这里使用float来代替np.float64，是因为NumPy可以使用相同别名来表征与Python精度相同的Python数据类型。\n",
    "\n",
    "也可以使用另一个数组的dtype属性，来传递属性："
   ]
  },
  {
   "cell_type": "code",
   "execution_count": 16,
   "metadata": {},
   "outputs": [
    {
     "name": "stdout",
     "output_type": "stream",
     "text": [
      "[0. 1. 2. 3. 4. 5. 6. 7. 8. 9.]\n"
     ]
    }
   ],
   "source": [
    "int_array = np.arange(10)\n",
    "calibers = np.array([.22, .270, .357, .380, .44, .50], dtype=np.float64)\n",
    "print(int_array.astype(calibers.dtype))"
   ]
  },
  {
   "cell_type": "markdown",
   "metadata": {},
   "source": [
    "也可以使用类型代码来传入数据类型："
   ]
  },
  {
   "cell_type": "code",
   "execution_count": 17,
   "metadata": {},
   "outputs": [
    {
     "name": "stdout",
     "output_type": "stream",
     "text": [
      "[4.9e-324 9.9e-324 1.5e-323 2.0e-323 2.5e-323 3.0e-323 3.5e-323 4.0e-323]\n",
      "[         0 1075314688          0 1075707904          0 1075838976\n",
      "          0 1072693248]\n"
     ]
    }
   ],
   "source": [
    "print(np.empty(8))\n",
    "empty_uint32 = np.empty(8, dtype='u4')\n",
    "print(empty_uint32)"
   ]
  },
  {
   "cell_type": "markdown",
   "metadata": {},
   "source": [
    "> 使用astype时总是生成一个新的数组，即使传入的dtype与之前一样。"
   ]
  },
  {
   "cell_type": "markdown",
   "metadata": {},
   "source": [
    "### 4.1.3　NumPy数组算术\n",
    "数组之所以重要是因为它允许你进行批量操作而无须任何for循环。NumPy用户称这种特性为向量化。任何在两个等尺寸数组之间的算术操作都应用了逐元素操作的方式："
   ]
  },
  {
   "cell_type": "code",
   "execution_count": 18,
   "metadata": {},
   "outputs": [
    {
     "name": "stdout",
     "output_type": "stream",
     "text": [
      "[[1. 2. 3.]\n",
      " [4. 5. 6.]]\n",
      "[[ 1.  4.  9.]\n",
      " [16. 25. 36.]]\n",
      "[[0. 0. 0.]\n",
      " [0. 0. 0.]]\n"
     ]
    }
   ],
   "source": [
    "arr = np.array([[1., 2., 3.], [4., 5., 6.]])\n",
    "print(arr)\n",
    "print(arr * arr)\n",
    "print(arr - arr)"
   ]
  },
  {
   "cell_type": "markdown",
   "metadata": {},
   "source": [
    "带有标量计算的算术操作，会把计算参数传递给数组的每一个元素："
   ]
  },
  {
   "cell_type": "code",
   "execution_count": 19,
   "metadata": {},
   "outputs": [
    {
     "name": "stdout",
     "output_type": "stream",
     "text": [
      "[[1.         0.5        0.33333333]\n",
      " [0.25       0.2        0.16666667]]\n",
      "[[1.         1.41421356 1.73205081]\n",
      " [2.         2.23606798 2.44948974]]\n"
     ]
    }
   ],
   "source": [
    "print(1 / arr)\n",
    "print(arr ** 0.5)"
   ]
  },
  {
   "cell_type": "markdown",
   "metadata": {},
   "source": [
    "同尺寸数组之间的比较，会产生一个布尔值数组："
   ]
  },
  {
   "cell_type": "code",
   "execution_count": 20,
   "metadata": {},
   "outputs": [
    {
     "name": "stdout",
     "output_type": "stream",
     "text": [
      "[[ 0.  4.  1.]\n",
      " [ 7.  2. 12.]]\n",
      "[[False  True False]\n",
      " [ True False  True]]\n"
     ]
    }
   ],
   "source": [
    "arr2 = np.array([[0., 4., 1.], [7., 2., 12.]])\n",
    "print(arr2)\n",
    "print(arr2 > arr)"
   ]
  },
  {
   "cell_type": "markdown",
   "metadata": {},
   "source": [
    "不同尺寸的数组间的操作，将会用到广播特性。"
   ]
  },
  {
   "cell_type": "markdown",
   "metadata": {},
   "source": [
    "### 4.1.4　基础索引与切片\n",
    "NumPy数组索引是一个大话题，有很多种方式可以选中数据的子集或某个单个元素。一维数组比较简单，看起来和Python的列表很类似："
   ]
  },
  {
   "cell_type": "code",
   "execution_count": 21,
   "metadata": {},
   "outputs": [
    {
     "name": "stdout",
     "output_type": "stream",
     "text": [
      "[0 1 2 3 4 5 6 7 8 9]\n",
      "5\n",
      "[5 6 7]\n",
      "[ 0  1  2  3  4 12 12 12  8  9]\n"
     ]
    }
   ],
   "source": [
    "arr = np.arange(10)\n",
    "print(arr)\n",
    "print(arr[5])\n",
    "print(arr[5:8])\n",
    "arr[5:8] = 12\n",
    "print(arr)"
   ]
  },
  {
   "cell_type": "markdown",
   "metadata": {},
   "source": [
    "如果传入了一个数值给数组的切片，例如`arr[5：8]=12`，数值被传递给了整个切片。区别于Python的内建列表，数组的切片是原数组的视图。这意味着数据并不是被复制了，任何对于视图的修改都会反映到原数组上。"
   ]
  },
  {
   "cell_type": "code",
   "execution_count": 22,
   "metadata": {},
   "outputs": [
    {
     "name": "stdout",
     "output_type": "stream",
     "text": [
      "[12 12 12]\n"
     ]
    }
   ],
   "source": [
    "arr_slice = arr[5:8]\n",
    "\n",
    "print(arr_slice)"
   ]
  },
  {
   "cell_type": "markdown",
   "metadata": {},
   "source": [
    "当改变arr_slice，变化也会体现在原数组上："
   ]
  },
  {
   "cell_type": "code",
   "execution_count": 23,
   "metadata": {},
   "outputs": [
    {
     "data": {
      "text/plain": [
       "array([    0,     1,     2,     3,     4,    12, 12345,    12,     8,\n",
       "           9])"
      ]
     },
     "execution_count": 23,
     "metadata": {},
     "output_type": "execute_result"
    }
   ],
   "source": [
    "arr_slice[1] = 12345\n",
    "arr"
   ]
  },
  {
   "cell_type": "markdown",
   "metadata": {},
   "source": [
    "不写切片值的[：]将会引用数组的所有值："
   ]
  },
  {
   "cell_type": "code",
   "execution_count": 24,
   "metadata": {},
   "outputs": [
    {
     "data": {
      "text/plain": [
       "array([ 0,  1,  2,  3,  4, 64, 64, 64,  8,  9])"
      ]
     },
     "execution_count": 24,
     "metadata": {},
     "output_type": "execute_result"
    }
   ],
   "source": [
    "arr_slice[:] = 64\n",
    "arr"
   ]
  },
  {
   "cell_type": "markdown",
   "metadata": {},
   "source": [
    "其他的数组编程语言都是更为急切地复制数据。由于NumPy被设计成适合处理非常大的数组，可以想象如果NumPy持续复制数据会引起多少内存问题。\n",
    "\n",
    "> 如果还是想要一份数组切片的拷贝而不是一份视图的话，就必须显式地复制这个数组，例如`arr[5：8].copy（）`\n",
    "\n",
    "对更高维度的数组，会有更多选择。在一个二维数组中，每个索引值对应的元素不再是一个值，而是一个一维数组："
   ]
  },
  {
   "cell_type": "code",
   "execution_count": 25,
   "metadata": {},
   "outputs": [
    {
     "data": {
      "text/plain": [
       "array([7, 8, 9])"
      ]
     },
     "execution_count": 25,
     "metadata": {},
     "output_type": "execute_result"
    }
   ],
   "source": [
    "arr2d = np.array([[1, 2, 3], [4, 5, 6], [7, 8, 9]])\n",
    "arr2d[2]"
   ]
  },
  {
   "cell_type": "markdown",
   "metadata": {},
   "source": [
    "因此，单个元素可以通过递归的方式获得。但是要多写点代码，你可以通过传递一个索引的逗号分隔列表去选择单个元素，以下两种方式效果一样："
   ]
  },
  {
   "cell_type": "code",
   "execution_count": 26,
   "metadata": {},
   "outputs": [
    {
     "name": "stdout",
     "output_type": "stream",
     "text": [
      "3\n",
      "3\n"
     ]
    }
   ],
   "source": [
    "print(arr2d[0][2])\n",
    "print(arr2d[0, 2])"
   ]
  },
  {
   "cell_type": "markdown",
   "metadata": {},
   "source": [
    "在多维数组中，可以省略后续索引值，返回的对象将是降低一个维度的数组。因此在一个2×2×3的数组arr3d中："
   ]
  },
  {
   "cell_type": "code",
   "execution_count": 27,
   "metadata": {},
   "outputs": [
    {
     "name": "stdout",
     "output_type": "stream",
     "text": [
      "[[[ 1  2  3]\n",
      "  [ 4  5  6]]\n",
      "\n",
      " [[ 7  8  9]\n",
      "  [10 11 12]]]\n",
      "(2, 2, 3)\n",
      "[[1 2 3]\n",
      " [4 5 6]]\n",
      "(2, 3)\n"
     ]
    }
   ],
   "source": [
    "arr3d = np.array([[[1, 2, 3], [4, 5, 6]], [[7, 8, 9], [10, 11, 12]]])\n",
    "\n",
    "print(arr3d)\n",
    "print(arr3d.shape)\n",
    "# arr3d[0]是一个2×3的数组：\n",
    "print(arr3d[0])\n",
    "print(arr3d[0].shape)"
   ]
  },
  {
   "cell_type": "markdown",
   "metadata": {},
   "source": [
    "标量和数组都可以传递给arr3d[0]："
   ]
  },
  {
   "cell_type": "code",
   "execution_count": 28,
   "metadata": {},
   "outputs": [
    {
     "name": "stdout",
     "output_type": "stream",
     "text": [
      "[[[42 42 42]\n",
      "  [42 42 42]]\n",
      "\n",
      " [[ 7  8  9]\n",
      "  [10 11 12]]]\n",
      "----------\n",
      "[[[ 1  2  3]\n",
      "  [ 4  5  6]]\n",
      "\n",
      " [[ 7  8  9]\n",
      "  [10 11 12]]]\n"
     ]
    }
   ],
   "source": [
    "old_values = arr3d[0].copy()\n",
    "arr3d[0] = 42\n",
    "print(arr3d)\n",
    "print(\"----------\")\n",
    "arr3d[0] = old_values\n",
    "print(arr3d)"
   ]
  },
  {
   "cell_type": "markdown",
   "metadata": {},
   "source": [
    "类似地，arr3d[1，0]返回的是一个一维数组："
   ]
  },
  {
   "cell_type": "code",
   "execution_count": 29,
   "metadata": {},
   "outputs": [
    {
     "data": {
      "text/plain": [
       "array([7, 8, 9])"
      ]
     },
     "execution_count": 29,
     "metadata": {},
     "output_type": "execute_result"
    }
   ],
   "source": [
    "arr3d[1, 0]"
   ]
  },
  {
   "cell_type": "markdown",
   "metadata": {},
   "source": [
    "上面的表达式可以分解为下面两步："
   ]
  },
  {
   "cell_type": "code",
   "execution_count": 30,
   "metadata": {},
   "outputs": [
    {
     "name": "stdout",
     "output_type": "stream",
     "text": [
      "[[ 7  8  9]\n",
      " [10 11 12]]\n",
      "[7 8 9]\n"
     ]
    }
   ],
   "source": [
    "x = arr3d[1]\n",
    "print(x)\n",
    "print(x[0])"
   ]
  },
  {
   "cell_type": "markdown",
   "metadata": {},
   "source": [
    "需要注意的是，以上的数组子集选择中，返回的数组都是`视图`。"
   ]
  },
  {
   "cell_type": "markdown",
   "metadata": {},
   "source": [
    "#### 4.1.4.1　数组的切片索引\n",
    "\n",
    "与Python列表的一维对象类似，数组可以通过类似的语法进行切片："
   ]
  },
  {
   "cell_type": "code",
   "execution_count": 31,
   "metadata": {},
   "outputs": [
    {
     "name": "stdout",
     "output_type": "stream",
     "text": [
      "[ 0  1  2  3  4 64 64 64  8  9]\n",
      "[ 1  2  3  4 64]\n"
     ]
    }
   ],
   "source": [
    "print(arr)\n",
    "print(arr[1:6])"
   ]
  },
  {
   "cell_type": "markdown",
   "metadata": {},
   "source": [
    "再回想下前面的二维数组，arr2d，对数组进行切片略有不同："
   ]
  },
  {
   "cell_type": "code",
   "execution_count": 32,
   "metadata": {},
   "outputs": [
    {
     "name": "stdout",
     "output_type": "stream",
     "text": [
      "[[1 2 3]\n",
      " [4 5 6]\n",
      " [7 8 9]]\n",
      "[[1 2 3]\n",
      " [4 5 6]]\n",
      "[[1 2]\n",
      " [4 5]]\n",
      "[[1 2]\n",
      " [4 5]\n",
      " [7 8]]\n"
     ]
    }
   ],
   "source": [
    "print(arr2d)\n",
    "\n",
    "print(arr2d[:2])\n",
    "print(arr2d[:2, :2])\n",
    "print(arr2d[:, :2])"
   ]
  },
  {
   "cell_type": "markdown",
   "metadata": {},
   "source": [
    "数组沿着轴0进行了切片。表达式`arrzd[：2]`的含义为选择arr2d的前两“行”。\n",
    "\n",
    "可以进行多组切片，与多组索引类似："
   ]
  },
  {
   "cell_type": "code",
   "execution_count": 33,
   "metadata": {},
   "outputs": [
    {
     "name": "stdout",
     "output_type": "stream",
     "text": [
      "[[2 3]\n",
      " [5 6]]\n"
     ]
    }
   ],
   "source": [
    "print(arr2d[:2, 1:])"
   ]
  },
  {
   "cell_type": "markdown",
   "metadata": {},
   "source": [
    "在上面这个例子中那样切片时，需要按照原数组的维度进行切片。如果将索引和切片混合，就可以得到低维度的切片。\n",
    "\n",
    "例如，可以选择第二行但是只选择前两列："
   ]
  },
  {
   "cell_type": "code",
   "execution_count": 34,
   "metadata": {},
   "outputs": [
    {
     "data": {
      "text/plain": [
       "array([4, 5])"
      ]
     },
     "execution_count": 34,
     "metadata": {},
     "output_type": "execute_result"
    }
   ],
   "source": [
    "arr2d[1, :2]"
   ]
  },
  {
   "cell_type": "markdown",
   "metadata": {},
   "source": [
    "类似地，也可以选择第三列，但是只选择前两行："
   ]
  },
  {
   "cell_type": "code",
   "execution_count": 35,
   "metadata": {},
   "outputs": [
    {
     "name": "stdout",
     "output_type": "stream",
     "text": [
      "[[1 2 3]\n",
      " [4 5 6]\n",
      " [7 8 9]]\n",
      "[3 6] (2,)\n",
      "[[3]\n",
      " [6]] (2, 1)\n"
     ]
    }
   ],
   "source": [
    "print(arr2d)\n",
    "# 注意这两种不同切片方式的结果\n",
    "# 切出来的是一维的数组\n",
    "print(arr2d[:2, 2], arr2d[:2, 2].shape)\n",
    "# 切出来的是矩阵（向量）\n",
    "print(arr2d[:2, 2:3], arr2d[:2, 2:3].shape)"
   ]
  },
  {
   "cell_type": "markdown",
   "metadata": {},
   "source": [
    "需要注意的是，单独一个冒号表示选择整个轴上的数组，可以按照下面的方式在更高维度上进行切片："
   ]
  },
  {
   "cell_type": "code",
   "execution_count": 36,
   "metadata": {},
   "outputs": [
    {
     "data": {
      "text/plain": [
       "array([[1],\n",
       "       [4],\n",
       "       [7]])"
      ]
     },
     "execution_count": 36,
     "metadata": {},
     "output_type": "execute_result"
    }
   ],
   "source": [
    "arr2d[:, :1]"
   ]
  },
  {
   "cell_type": "markdown",
   "metadata": {},
   "source": [
    "对切片表达式赋值时，整个切片都会重新赋值："
   ]
  },
  {
   "cell_type": "code",
   "execution_count": 37,
   "metadata": {},
   "outputs": [
    {
     "name": "stdout",
     "output_type": "stream",
     "text": [
      "[[1 0 0]\n",
      " [4 0 0]\n",
      " [7 8 9]]\n"
     ]
    }
   ],
   "source": [
    "arr2d[:2, 1:] = 0\n",
    "print(arr2d)"
   ]
  },
  {
   "cell_type": "markdown",
   "metadata": {},
   "source": [
    "### 4.1.5　布尔索引\n",
    "假设数据都在数组中，并且数组中的数据是一些存在重复的人名。可以使用numpy.random中的randn函数来生成一些随机正态分布的数据："
   ]
  },
  {
   "cell_type": "code",
   "execution_count": 38,
   "metadata": {},
   "outputs": [],
   "source": [
    "names = np.array(['Bob', 'Joe', 'Will', 'Bob', 'Will', 'Joe', 'Joe'])\n",
    "data = np.random.randn(7, 4)"
   ]
  },
  {
   "cell_type": "code",
   "execution_count": 39,
   "metadata": {},
   "outputs": [
    {
     "data": {
      "text/plain": [
       "array(['Bob', 'Joe', 'Will', 'Bob', 'Will', 'Joe', 'Joe'], dtype='<U4')"
      ]
     },
     "execution_count": 39,
     "metadata": {},
     "output_type": "execute_result"
    }
   ],
   "source": [
    "names"
   ]
  },
  {
   "cell_type": "code",
   "execution_count": 40,
   "metadata": {},
   "outputs": [
    {
     "data": {
      "text/plain": [
       "array([[-0.2780747 ,  1.85471521,  0.59282245, -1.47050481],\n",
       "       [ 0.51013794,  0.82825926,  1.14706472,  1.25702978],\n",
       "       [ 0.29163795, -1.53326307,  1.29497748,  0.73627944],\n",
       "       [-0.02425234, -0.51063244,  0.53950334, -0.02491018],\n",
       "       [ 1.36856233, -1.88461655, -0.95989986, -0.54895186],\n",
       "       [ 0.52609978, -0.82194034,  2.02478468, -1.2957634 ],\n",
       "       [-0.16122789,  0.88606254,  0.03222369, -0.40726919]])"
      ]
     },
     "execution_count": 40,
     "metadata": {},
     "output_type": "execute_result"
    }
   ],
   "source": [
    "data"
   ]
  },
  {
   "cell_type": "markdown",
   "metadata": {},
   "source": [
    "假设每个人名都和data数组中的一行相对应，并且想要选中所有'Bob'对应的行。与数学操作类似，数组的比较操作（比如==）也是可以向量化的。因此，比较names数组和字符串'Bob'会产生一个布尔值数组："
   ]
  },
  {
   "cell_type": "code",
   "execution_count": 41,
   "metadata": {},
   "outputs": [
    {
     "data": {
      "text/plain": [
       "array([ True, False, False,  True, False, False, False])"
      ]
     },
     "execution_count": 41,
     "metadata": {},
     "output_type": "execute_result"
    }
   ],
   "source": [
    "names == 'Bob'"
   ]
  },
  {
   "cell_type": "markdown",
   "metadata": {},
   "source": [
    "在索引数组时可以传入布尔值数组："
   ]
  },
  {
   "cell_type": "code",
   "execution_count": 42,
   "metadata": {},
   "outputs": [
    {
     "data": {
      "text/plain": [
       "array([[-0.2780747 ,  1.85471521,  0.59282245, -1.47050481],\n",
       "       [-0.02425234, -0.51063244,  0.53950334, -0.02491018]])"
      ]
     },
     "execution_count": 42,
     "metadata": {},
     "output_type": "execute_result"
    }
   ],
   "source": [
    "data[names == 'Bob']"
   ]
  },
  {
   "cell_type": "markdown",
   "metadata": {},
   "source": [
    "布尔值数组的长度必须和数组轴索引长度一致。甚至还可以用切片或整数值（或整数值的序列）对布尔值数组进行混合和匹配。\n",
    "\n",
    "> 当布尔值数组的长度不正确时，布尔值选择数据的方法并不会报错，因此建议在使用该特性的时候要小心。"
   ]
  },
  {
   "cell_type": "code",
   "execution_count": 43,
   "metadata": {},
   "outputs": [
    {
     "data": {
      "text/plain": [
       "array([[-1.47050481],\n",
       "       [-0.02491018]])"
      ]
     },
     "execution_count": 43,
     "metadata": {},
     "output_type": "execute_result"
    }
   ],
   "source": [
    "data[names == 'Bob', 3:4]"
   ]
  },
  {
   "cell_type": "code",
   "execution_count": 44,
   "metadata": {},
   "outputs": [
    {
     "data": {
      "text/plain": [
       "array([-1.47050481, -0.02491018])"
      ]
     },
     "execution_count": 44,
     "metadata": {},
     "output_type": "execute_result"
    }
   ],
   "source": [
    "data[names == 'Bob', 3]"
   ]
  },
  {
   "cell_type": "markdown",
   "metadata": {},
   "source": [
    "为了选择除了'Bob'以外的其他数据，可以使用`!=`或在条件表达式前使用`~`对条件取反："
   ]
  },
  {
   "cell_type": "code",
   "execution_count": 45,
   "metadata": {},
   "outputs": [
    {
     "data": {
      "text/plain": [
       "array([False,  True,  True, False,  True,  True,  True])"
      ]
     },
     "execution_count": 45,
     "metadata": {},
     "output_type": "execute_result"
    }
   ],
   "source": [
    "names != 'Bob'"
   ]
  },
  {
   "cell_type": "code",
   "execution_count": 46,
   "metadata": {},
   "outputs": [
    {
     "data": {
      "text/plain": [
       "array([[ 0.51013794,  0.82825926,  1.14706472,  1.25702978],\n",
       "       [ 0.29163795, -1.53326307,  1.29497748,  0.73627944],\n",
       "       [ 1.36856233, -1.88461655, -0.95989986, -0.54895186],\n",
       "       [ 0.52609978, -0.82194034,  2.02478468, -1.2957634 ],\n",
       "       [-0.16122789,  0.88606254,  0.03222369, -0.40726919]])"
      ]
     },
     "execution_count": 46,
     "metadata": {},
     "output_type": "execute_result"
    }
   ],
   "source": [
    "data[~(names == 'Bob')]"
   ]
  },
  {
   "cell_type": "markdown",
   "metadata": {},
   "source": [
    "`~`符号可以在你想要对一个通用条件进行取反时使用："
   ]
  },
  {
   "cell_type": "code",
   "execution_count": 47,
   "metadata": {},
   "outputs": [
    {
     "data": {
      "text/plain": [
       "array([[ 0.51013794,  0.82825926,  1.14706472,  1.25702978],\n",
       "       [ 0.29163795, -1.53326307,  1.29497748,  0.73627944],\n",
       "       [ 1.36856233, -1.88461655, -0.95989986, -0.54895186],\n",
       "       [ 0.52609978, -0.82194034,  2.02478468, -1.2957634 ],\n",
       "       [-0.16122789,  0.88606254,  0.03222369, -0.40726919]])"
      ]
     },
     "execution_count": 47,
     "metadata": {},
     "output_type": "execute_result"
    }
   ],
   "source": [
    "cond = names == 'Bob'\n",
    "data[~cond]"
   ]
  },
  {
   "cell_type": "markdown",
   "metadata": {},
   "source": [
    "当要选择三个名字中的两个时，可以对多个布尔值条件进行联合，需要使用数学操作符如`&`（and）和`|`（or）："
   ]
  },
  {
   "cell_type": "code",
   "execution_count": 48,
   "metadata": {},
   "outputs": [
    {
     "data": {
      "text/plain": [
       "array([ True, False,  True,  True,  True, False, False])"
      ]
     },
     "execution_count": 48,
     "metadata": {},
     "output_type": "execute_result"
    }
   ],
   "source": [
    "mask = (names == 'Bob') | (names == 'Will')\n",
    "mask"
   ]
  },
  {
   "cell_type": "code",
   "execution_count": 49,
   "metadata": {},
   "outputs": [
    {
     "data": {
      "text/plain": [
       "array([[-0.2780747 ,  1.85471521,  0.59282245, -1.47050481],\n",
       "       [ 0.29163795, -1.53326307,  1.29497748,  0.73627944],\n",
       "       [-0.02425234, -0.51063244,  0.53950334, -0.02491018],\n",
       "       [ 1.36856233, -1.88461655, -0.95989986, -0.54895186]])"
      ]
     },
     "execution_count": 49,
     "metadata": {},
     "output_type": "execute_result"
    }
   ],
   "source": [
    "data[mask]"
   ]
  },
  {
   "cell_type": "markdown",
   "metadata": {},
   "source": [
    "> 使用布尔值索引选择数据时，总是生成数据的拷贝，即使返回的数组并没有任何变化。\n",
    "\n",
    "> Python的关键字and和or对布尔值数组并没有用，请使用`&`（and）和`|`（or）来代替。\n",
    "\n",
    "基于常识来设置布尔值数组的值也是可行的。将data中所有的负值设置为0，可以如此操作："
   ]
  },
  {
   "cell_type": "code",
   "execution_count": 50,
   "metadata": {},
   "outputs": [
    {
     "data": {
      "text/plain": [
       "array([[0.        , 1.85471521, 0.59282245, 0.        ],\n",
       "       [0.51013794, 0.82825926, 1.14706472, 1.25702978],\n",
       "       [0.29163795, 0.        , 1.29497748, 0.73627944],\n",
       "       [0.        , 0.        , 0.53950334, 0.        ],\n",
       "       [1.36856233, 0.        , 0.        , 0.        ],\n",
       "       [0.52609978, 0.        , 2.02478468, 0.        ],\n",
       "       [0.        , 0.88606254, 0.03222369, 0.        ]])"
      ]
     },
     "execution_count": 50,
     "metadata": {},
     "output_type": "execute_result"
    }
   ],
   "source": [
    "data[data < 0] = 0\n",
    "data"
   ]
  },
  {
   "cell_type": "markdown",
   "metadata": {},
   "source": [
    "利用一维布尔值数组对每一行设置数值也是非常简单的："
   ]
  },
  {
   "cell_type": "code",
   "execution_count": 51,
   "metadata": {},
   "outputs": [
    {
     "data": {
      "text/plain": [
       "array([[7.        , 7.        , 7.        , 7.        ],\n",
       "       [0.51013794, 0.82825926, 1.14706472, 1.25702978],\n",
       "       [7.        , 7.        , 7.        , 7.        ],\n",
       "       [7.        , 7.        , 7.        , 7.        ],\n",
       "       [7.        , 7.        , 7.        , 7.        ],\n",
       "       [0.52609978, 0.        , 2.02478468, 0.        ],\n",
       "       [0.        , 0.88606254, 0.03222369, 0.        ]])"
      ]
     },
     "execution_count": 51,
     "metadata": {},
     "output_type": "execute_result"
    }
   ],
   "source": [
    "data[names != 'Joe'] = 7\n",
    "data"
   ]
  },
  {
   "cell_type": "markdown",
   "metadata": {},
   "source": [
    "后续将会看到，如何利用pandas方便地在二维数据上进行上述的操作。"
   ]
  },
  {
   "cell_type": "markdown",
   "metadata": {},
   "source": [
    "### 4.1.6　神奇索引\n",
    "神奇索引是NumPy中的术语，用于描述使用整数数组进行数据索引。"
   ]
  },
  {
   "cell_type": "code",
   "execution_count": 52,
   "metadata": {},
   "outputs": [
    {
     "name": "stdout",
     "output_type": "stream",
     "text": [
      "[[0. 0. 0. 0.]\n",
      " [1. 1. 1. 1.]\n",
      " [2. 2. 2. 2.]\n",
      " [3. 3. 3. 3.]\n",
      " [4. 4. 4. 4.]\n",
      " [5. 5. 5. 5.]\n",
      " [6. 6. 6. 6.]\n",
      " [7. 7. 7. 7.]]\n"
     ]
    }
   ],
   "source": [
    "arr = np.empty((8,4))\n",
    "\n",
    "for i in range(8):\n",
    "    arr[i] = i   \n",
    "print(arr)"
   ]
  },
  {
   "cell_type": "markdown",
   "metadata": {},
   "source": [
    "为了选出一个符合特定顺序的子集，可以简单地通过传递一个包含指明所需顺序的列表或数组来完成："
   ]
  },
  {
   "cell_type": "code",
   "execution_count": 53,
   "metadata": {},
   "outputs": [
    {
     "data": {
      "text/plain": [
       "array([[4., 4., 4., 4.],\n",
       "       [3., 3., 3., 3.],\n",
       "       [0., 0., 0., 0.],\n",
       "       [6., 6., 6., 6.]])"
      ]
     },
     "execution_count": 53,
     "metadata": {},
     "output_type": "execute_result"
    }
   ],
   "source": [
    "arr[[4, 3, 0, 6]]"
   ]
  },
  {
   "cell_type": "markdown",
   "metadata": {},
   "source": [
    "如果使用负的索引，将从尾部进行选择："
   ]
  },
  {
   "cell_type": "code",
   "execution_count": 54,
   "metadata": {},
   "outputs": [
    {
     "data": {
      "text/plain": [
       "array([[5., 5., 5., 5.],\n",
       "       [3., 3., 3., 3.],\n",
       "       [1., 1., 1., 1.]])"
      ]
     },
     "execution_count": 54,
     "metadata": {},
     "output_type": "execute_result"
    }
   ],
   "source": [
    "arr[[-3, -5, -7]]"
   ]
  },
  {
   "cell_type": "markdown",
   "metadata": {},
   "source": [
    "传递多个索引数组时情况有些许不同，这样会根据每个索引元组对应的元素选出一个一维数组："
   ]
  },
  {
   "cell_type": "code",
   "execution_count": 55,
   "metadata": {},
   "outputs": [
    {
     "name": "stdout",
     "output_type": "stream",
     "text": [
      "[ 0  1  2  3  4  5  6  7  8  9 10 11 12 13 14 15 16 17 18 19 20 21 22 23\n",
      " 24 25 26 27 28 29 30 31]\n"
     ]
    },
    {
     "data": {
      "text/plain": [
       "array([[ 0,  1,  2,  3],\n",
       "       [ 4,  5,  6,  7],\n",
       "       [ 8,  9, 10, 11],\n",
       "       [12, 13, 14, 15],\n",
       "       [16, 17, 18, 19],\n",
       "       [20, 21, 22, 23],\n",
       "       [24, 25, 26, 27],\n",
       "       [28, 29, 30, 31]])"
      ]
     },
     "execution_count": 55,
     "metadata": {},
     "output_type": "execute_result"
    }
   ],
   "source": [
    "print(np.arange(32))\n",
    "arr = np.arange(32).reshape((8, 4))\n",
    "arr"
   ]
  },
  {
   "cell_type": "code",
   "execution_count": 56,
   "metadata": {},
   "outputs": [
    {
     "data": {
      "text/plain": [
       "array([ 4, 23, 29, 10])"
      ]
     },
     "execution_count": 56,
     "metadata": {},
     "output_type": "execute_result"
    }
   ],
   "source": [
    "# 取(1,0),(5,3),(7,1),(2,2)并构造数组\n",
    "arr[[1, 5, 7, 2], [0, 3, 1, 2]]"
   ]
  },
  {
   "cell_type": "markdown",
   "metadata": {},
   "source": [
    "在上述例子中，元素（1，0）、（5，3）、（7，1）和（2，2）被选中。\n",
    "\n",
    "> 如果不考虑数组的维数（本例中是二维），神奇索引的结果总是一维的。\n",
    "\n",
    "通常情况下，如果是通过选择矩阵中行列的子集所形成的矩形区域。下面是实现的一种方式："
   ]
  },
  {
   "cell_type": "code",
   "execution_count": 57,
   "metadata": {},
   "outputs": [
    {
     "data": {
      "text/plain": [
       "array([[ 4,  7,  5,  6],\n",
       "       [20, 23, 21, 22],\n",
       "       [28, 31, 29, 30],\n",
       "       [ 8, 11,  9, 10]])"
      ]
     },
     "execution_count": 57,
     "metadata": {},
     "output_type": "execute_result"
    }
   ],
   "source": [
    "arr[[1, 5, 7, 2]][:, [0, 3, 1, 2]]"
   ]
  },
  {
   "cell_type": "markdown",
   "metadata": {},
   "source": [
    "> 请牢记神奇索引与切片不同，它总是将数据复制到一个新的数组中。"
   ]
  },
  {
   "cell_type": "markdown",
   "metadata": {},
   "source": [
    "### 4.1.7　数组转置和换轴\n",
    "转置是一种特殊的数据重组形式，可以返回底层数据的视图而不需要复制任何内容。数组拥有transpose方法，也有特殊的T属性："
   ]
  },
  {
   "cell_type": "code",
   "execution_count": 58,
   "metadata": {},
   "outputs": [
    {
     "name": "stdout",
     "output_type": "stream",
     "text": [
      "[[ 0  1  2  3  4]\n",
      " [ 5  6  7  8  9]\n",
      " [10 11 12 13 14]]\n",
      "[[ 0  5 10]\n",
      " [ 1  6 11]\n",
      " [ 2  7 12]\n",
      " [ 3  8 13]\n",
      " [ 4  9 14]]\n"
     ]
    }
   ],
   "source": [
    "arr = np.arange(15).reshape((3, 5))\n",
    "print(arr)\n",
    "print(arr.T)"
   ]
  },
  {
   "cell_type": "markdown",
   "metadata": {},
   "source": [
    "当进行矩阵计算时，可能会经常进行一些特定操作，比如，当计算矩阵内积会使用`np.dot`："
   ]
  },
  {
   "cell_type": "code",
   "execution_count": 59,
   "metadata": {},
   "outputs": [
    {
     "name": "stdout",
     "output_type": "stream",
     "text": [
      "[[ 0.22340128  2.70914476  0.79085653]\n",
      " [ 0.32665669  0.219522   -0.36015957]\n",
      " [-0.20274634 -2.18238955  0.20442503]\n",
      " [ 0.08538851  1.05808451 -0.19519054]\n",
      " [-1.13146012 -0.34238701 -1.09660094]\n",
      " [-0.90950433  0.9212849  -1.35500909]]\n",
      "--------------------------------------------------\n",
      "[[ 2.31241014  0.75923913  2.47406325]\n",
      " [ 0.75923913 14.23601697  0.53793124]\n",
      " [ 2.47406325  0.53793124  3.87364117]]\n"
     ]
    }
   ],
   "source": [
    "arr = np.random.randn(6, 3)\n",
    "\n",
    "print(arr)\n",
    "print(\"-\"*50)\n",
    "print(np.dot(arr.T, arr))       "
   ]
  },
  {
   "cell_type": "markdown",
   "metadata": {},
   "source": [
    "对于更高维度的数组，`transpose`方法可以接收包含轴编号的元组，用于置换轴（拓展下思维）："
   ]
  },
  {
   "cell_type": "code",
   "execution_count": 60,
   "metadata": {},
   "outputs": [
    {
     "name": "stdout",
     "output_type": "stream",
     "text": [
      "[[[[ 0  1]\n",
      "   [ 2  3]]\n",
      "\n",
      "  [[ 4  5]\n",
      "   [ 6  7]]]\n",
      "\n",
      "\n",
      " [[[ 8  9]\n",
      "   [10 11]]\n",
      "\n",
      "  [[12 13]\n",
      "   [14 15]]]]\n",
      "--------------------------------------------------\n",
      "[[[[ 0  1]\n",
      "   [ 8  9]]\n",
      "\n",
      "  [[ 2  3]\n",
      "   [10 11]]]\n",
      "\n",
      "\n",
      " [[[ 4  5]\n",
      "   [12 13]]\n",
      "\n",
      "  [[ 6  7]\n",
      "   [14 15]]]]\n"
     ]
    }
   ],
   "source": [
    "arr = np.arange(16).reshape((2, 2, 2, 2))\n",
    "\n",
    "print(arr)\n",
    "print(\"-\"*50)\n",
    "print(arr.transpose((1, 2, 0, 3)))"
   ]
  },
  {
   "cell_type": "markdown",
   "metadata": {},
   "source": [
    "在这里，轴已经被重新排序，使得原先的第二个轴变为第一个，原先的第一个轴变成了第二个，最后一个轴并没有改变。\n",
    "\n",
    "使用.T进行转置是换轴的一个特殊案例。ndarray有一个swapaxes方法，该方法接收一对轴编号作为参数，并对轴进行调整用于重组数据："
   ]
  },
  {
   "cell_type": "code",
   "execution_count": 61,
   "metadata": {},
   "outputs": [
    {
     "name": "stdout",
     "output_type": "stream",
     "text": [
      "[[[[ 0  1]\n",
      "   [ 4  5]]\n",
      "\n",
      "  [[ 2  3]\n",
      "   [ 6  7]]]\n",
      "\n",
      "\n",
      " [[[ 8  9]\n",
      "   [12 13]]\n",
      "\n",
      "  [[10 11]\n",
      "   [14 15]]]]\n",
      "--------------------------------------------------\n",
      "[[[[ 0  1]\n",
      "   [ 2  3]]\n",
      "\n",
      "  [[ 4  5]\n",
      "   [ 6  7]]]\n",
      "\n",
      "\n",
      " [[[ 8  9]\n",
      "   [10 11]]\n",
      "\n",
      "  [[12 13]\n",
      "   [14 15]]]]\n"
     ]
    }
   ],
   "source": [
    "print(arr.swapaxes(1, 2))\n",
    "print(\"-\"*50)\n",
    "print(arr)"
   ]
  },
  {
   "cell_type": "markdown",
   "metadata": {},
   "source": [
    "> swapaxes返回的是数据的视图，而没有对数据进行复制。"
   ]
  },
  {
   "cell_type": "markdown",
   "metadata": {},
   "source": [
    "## 4.2　通用函数：快速的逐元素数组函数\n",
    "通用函数，也可以称为ufunc，是一种在ndarray数据中进行逐元素操作的函数。某些简单函数接收一个或多个标量数值，并产生一个或多个标量结果，而通用函数就是对这些简单函数的向量化封装。\n",
    "\n",
    "有很多ufunc是简单的逐元素转换，比如sqrt或exp函数："
   ]
  },
  {
   "cell_type": "code",
   "execution_count": 62,
   "metadata": {},
   "outputs": [
    {
     "name": "stdout",
     "output_type": "stream",
     "text": [
      "[0 1 2 3 4 5 6 7 8 9]\n",
      "[0.         1.         1.41421356 1.73205081 2.         2.23606798\n",
      " 2.44948974 2.64575131 2.82842712 3.        ]\n",
      "[1.00000000e+00 2.71828183e+00 7.38905610e+00 2.00855369e+01\n",
      " 5.45981500e+01 1.48413159e+02 4.03428793e+02 1.09663316e+03\n",
      " 2.98095799e+03 8.10308393e+03]\n"
     ]
    }
   ],
   "source": [
    "arr = np.arange(10)\n",
    "print(arr)\n",
    "\n",
    "print(np.sqrt(arr))\n",
    "print(np.exp(arr))        "
   ]
  },
  {
   "cell_type": "markdown",
   "metadata": {},
   "source": [
    "这些是所谓的一元通用函数。还有一些通用函数，比如add或maximum则会接收两个数组并返回一个数组作为结果，因此称为二元通用函数："
   ]
  },
  {
   "cell_type": "code",
   "execution_count": 63,
   "metadata": {},
   "outputs": [
    {
     "name": "stdout",
     "output_type": "stream",
     "text": [
      "[ 1.20862074  1.17972033 -0.22804582 -1.26331814 -0.1258529  -0.96264587\n",
      " -0.58224708 -0.75352136] [ 0.04167336  0.3572661   2.05690236 -0.89785692 -1.74797039  1.74658481\n",
      " -0.51553371 -0.5465496 ]\n",
      "[ 1.20862074  1.17972033  2.05690236 -0.89785692 -0.1258529   1.74658481\n",
      " -0.51553371 -0.5465496 ]\n"
     ]
    }
   ],
   "source": [
    "x = np.random.randn(8)\n",
    "y = np.random.randn(8)\n",
    "print(x,y)\n",
    "print(np.maximum(x, y))"
   ]
  },
  {
   "cell_type": "markdown",
   "metadata": {},
   "source": [
    "这里，numpy.maximum逐个元素地将x和y中元素的最大值计算出来。\n",
    "\n",
    "也有一些通用函数返回多个数组。比如modf，是Python内建函数divmod的向量化版本。它返回了一个浮点值数组的小数部分和整数部分："
   ]
  },
  {
   "cell_type": "code",
   "execution_count": 64,
   "metadata": {},
   "outputs": [
    {
     "name": "stdout",
     "output_type": "stream",
     "text": [
      "[ 4.7377329   5.74718254  2.51348656 -6.78022251 -8.81414623 11.21991382\n",
      "  8.07105903]\n",
      "[ 0.7377329   0.74718254  0.51348656 -0.78022251 -0.81414623  0.21991382\n",
      "  0.07105903]\n",
      "[ 4.  5.  2. -6. -8. 11.  8.]\n"
     ]
    }
   ],
   "source": [
    "arr = np.random.randn(7) * 5\n",
    "\n",
    "print(arr)\n",
    "\n",
    "# 返回一个浮点值数组的小数部分和整数部分\n",
    "remainder, whole_part = np.modf(arr)\n",
    "\n",
    "print(remainder)\n",
    "print(whole_part)"
   ]
  },
  {
   "cell_type": "markdown",
   "metadata": {},
   "source": [
    "通用函数接收一个可选参数out，允许对数组按位置操作："
   ]
  },
  {
   "cell_type": "code",
   "execution_count": 65,
   "metadata": {},
   "outputs": [
    {
     "name": "stdout",
     "output_type": "stream",
     "text": [
      "[ 4.7377329   5.74718254  2.51348656 -6.78022251 -8.81414623 11.21991382\n",
      "  8.07105903]\n",
      "--------------------------------------------------\n",
      "[2.17663339 2.39732821 1.58539792        nan        nan 3.34961398\n",
      " 2.84096093]\n",
      "--------------------------------------------------\n",
      "[2.17663339 2.39732821 1.58539792        nan        nan 3.34961398\n",
      " 2.84096093]\n",
      "--------------------------------------------------\n",
      "[2.17663339 2.39732821 1.58539792        nan        nan 3.34961398\n",
      " 2.84096093]\n"
     ]
    },
    {
     "name": "stderr",
     "output_type": "stream",
     "text": [
      "/usr/lib/python3/dist-packages/ipykernel_launcher.py:3: RuntimeWarning: invalid value encountered in sqrt\n",
      "  This is separate from the ipykernel package so we can avoid doing imports until\n",
      "/usr/lib/python3/dist-packages/ipykernel_launcher.py:5: RuntimeWarning: invalid value encountered in sqrt\n",
      "  \"\"\"\n"
     ]
    }
   ],
   "source": [
    "print(arr)\n",
    "print(\"-\"*50)\n",
    "print(np.sqrt(arr))\n",
    "print(\"-\"*50)\n",
    "print(np.sqrt(arr, arr))\n",
    "print(\"-\"*50)\n",
    "print(arr)"
   ]
  },
  {
   "cell_type": "markdown",
   "metadata": {},
   "source": [
    "## 4.3　使用数组进行面向数组编程\n",
    "使用NumPy数组可以利用简单的数组表达式完成多种数据操作任务，而无须写些大量循环。这种利用数组表达式来替代显式循环的方法，称为`向量化`。通常，向量化的数组操作会比纯Python的等价实现在速度上快一到两个数量级（甚至更多），这对所有种类的数值计算产生了最大的影响。\n",
    "\n",
    "作为一个简单的示例，假设想要对一些网格数据来计算函数sqrt（x^2+y^2）的值。np.meshgrid函数接收两个一维数组，并根据两个数组的所有（x，y）对生成一个二维矩阵："
   ]
  },
  {
   "cell_type": "code",
   "execution_count": 66,
   "metadata": {},
   "outputs": [
    {
     "name": "stdout",
     "output_type": "stream",
     "text": [
      "--------------------------------------------------\n",
      "[[-5.   -4.99 -4.98 ...  4.97  4.98  4.99]\n",
      " [-5.   -4.99 -4.98 ...  4.97  4.98  4.99]\n",
      " [-5.   -4.99 -4.98 ...  4.97  4.98  4.99]\n",
      " ...\n",
      " [-5.   -4.99 -4.98 ...  4.97  4.98  4.99]\n",
      " [-5.   -4.99 -4.98 ...  4.97  4.98  4.99]\n",
      " [-5.   -4.99 -4.98 ...  4.97  4.98  4.99]]\n",
      "--------------------------------------------------\n",
      "[[-5.   -5.   -5.   ... -5.   -5.   -5.  ]\n",
      " [-4.99 -4.99 -4.99 ... -4.99 -4.99 -4.99]\n",
      " [-4.98 -4.98 -4.98 ... -4.98 -4.98 -4.98]\n",
      " ...\n",
      " [ 4.97  4.97  4.97 ...  4.97  4.97  4.97]\n",
      " [ 4.98  4.98  4.98 ...  4.98  4.98  4.98]\n",
      " [ 4.99  4.99  4.99 ...  4.99  4.99  4.99]]\n"
     ]
    }
   ],
   "source": [
    "points = np.arange(-5, 5, 0.01) # 1000 equally spaced points\n",
    "\n",
    "xs, ys = np.meshgrid(points, points)\n",
    "#print(points)\n",
    "print(\"-\"*50)\n",
    "print(xs)\n",
    "print(\"-\"*50)\n",
    "print(ys)"
   ]
  },
  {
   "cell_type": "markdown",
   "metadata": {},
   "source": [
    "现在，你可以用和两个坐标值同样的表达式来使用函数："
   ]
  },
  {
   "cell_type": "code",
   "execution_count": 67,
   "metadata": {},
   "outputs": [
    {
     "name": "stdout",
     "output_type": "stream",
     "text": [
      "[[7.07106781 7.06400028 7.05693985 ... 7.04988652 7.05693985 7.06400028]\n",
      " [7.06400028 7.05692568 7.04985815 ... 7.04279774 7.04985815 7.05692568]\n",
      " [7.05693985 7.04985815 7.04278354 ... 7.03571603 7.04278354 7.04985815]\n",
      " ...\n",
      " [7.04988652 7.04279774 7.03571603 ... 7.0286414  7.03571603 7.04279774]\n",
      " [7.05693985 7.04985815 7.04278354 ... 7.03571603 7.04278354 7.04985815]\n",
      " [7.06400028 7.05692568 7.04985815 ... 7.04279774 7.04985815 7.05692568]]\n"
     ]
    }
   ],
   "source": [
    "z = np.sqrt(xs ** 2 + ys ** 2)\n",
    "print(z)"
   ]
  },
  {
   "cell_type": "markdown",
   "metadata": {},
   "source": [
    "使用matplotlib来生成这个二维数组的可视化："
   ]
  },
  {
   "cell_type": "code",
   "execution_count": 68,
   "metadata": {},
   "outputs": [
    {
     "data": {
      "text/plain": [
       "Text(0.5,1,'Image plot of $\\\\sqrt{x^2 + y^2}$ for a grid of values')"
      ]
     },
     "execution_count": 68,
     "metadata": {},
     "output_type": "execute_result"
    }
   ],
   "source": [
    "import matplotlib.pyplot as plt\n",
    "\n",
    "plt.imshow(z, cmap=plt.cm.gray); plt.colorbar()\n",
    "plt.title(\"Image plot of $\\sqrt{x^2 + y^2}$ for a grid of values\")"
   ]
  },
  {
   "cell_type": "markdown",
   "metadata": {},
   "source": [
    "使用matplotlib函数imshow根据函数值的二维数组生成一个图像。"
   ]
  },
  {
   "cell_type": "markdown",
   "metadata": {},
   "source": [
    "### 4.3.1　将条件逻辑作为数组操作\n",
    "numpy.where函数是三元表达式x if condition else y的向量化版本。假设我们有一个布尔值数组和两个数值数组："
   ]
  },
  {
   "cell_type": "code",
   "execution_count": 69,
   "metadata": {},
   "outputs": [],
   "source": [
    "xarr = np.array([1.1, 1.2, 1.3, 1.4, 1.5])\n",
    "yarr = np.array([2.1, 2.2, 2.3, 2.4, 2.5])\n",
    "\n",
    "cond = np.array([True, False, True, True, False])"
   ]
  },
  {
   "cell_type": "markdown",
   "metadata": {},
   "source": [
    "假设cond中的元素为True时，取xarr中的对应元素值，否则取yarr中的元素。可以通过列表推导式来完成，像下列代码这样："
   ]
  },
  {
   "cell_type": "code",
   "execution_count": 70,
   "metadata": {},
   "outputs": [
    {
     "data": {
      "text/plain": [
       "[1.1, 2.2, 1.3, 1.4, 2.5]"
      ]
     },
     "execution_count": 70,
     "metadata": {},
     "output_type": "execute_result"
    }
   ],
   "source": [
    "# %%timeit\n",
    "result = [(x if c else y) for x, y, c in zip(xarr, yarr, cond)]\n",
    "result"
   ]
  },
  {
   "cell_type": "markdown",
   "metadata": {},
   "source": [
    "> 这样会产生多个问题。首先，如果数组很大的话，速度会很慢（因为所有的工作都是通过解释器解释Python代码完成）。其次，当数组是多维时，就无法凑效了。\n",
    "\n",
    "而使用np.where时，就可以非常简单地完成："
   ]
  },
  {
   "cell_type": "code",
   "execution_count": 71,
   "metadata": {},
   "outputs": [
    {
     "data": {
      "text/plain": [
       "array([1.1, 2.2, 1.3, 1.4, 2.5])"
      ]
     },
     "execution_count": 71,
     "metadata": {},
     "output_type": "execute_result"
    }
   ],
   "source": [
    "# %%timeit\n",
    "result = np.where(cond, xarr, yarr)\n",
    "result"
   ]
  },
  {
   "cell_type": "markdown",
   "metadata": {},
   "source": [
    "np.where的第二个和第三个参数并不需要是数组，它们可以是标量。where在数据分析中的一个典型用法是根据一个数组来生成一个新的数组。假设你有一个随机生成的矩阵数据，并且你想将其中的正值都替换为2，将所有的负值替换为-2，使用np.where会很容易实现："
   ]
  },
  {
   "cell_type": "code",
   "execution_count": 72,
   "metadata": {},
   "outputs": [
    {
     "name": "stdout",
     "output_type": "stream",
     "text": [
      "[[-0.27851414  1.2811958   2.79646934  0.56978287]\n",
      " [-1.10294534  0.24606657 -2.25810832  0.39194609]\n",
      " [-0.06439795  0.62290223  0.11677971 -0.90953791]\n",
      " [-0.48698015  0.78021673 -0.0877678   1.66511349]]\n",
      "[[False  True  True  True]\n",
      " [False  True False  True]\n",
      " [False  True  True False]\n",
      " [False  True False  True]]\n",
      "[[-1  1  1  1]\n",
      " [-1  1 -1  1]\n",
      " [-1  1  1 -1]\n",
      " [-1  1 -1  1]]\n"
     ]
    }
   ],
   "source": [
    "arr = np.random.randn(4, 4)\n",
    "\n",
    "print(arr)\n",
    "print(arr > 0)\n",
    "print(np.where(arr > 0, 1, -1))"
   ]
  },
  {
   "cell_type": "markdown",
   "metadata": {},
   "source": [
    "可以使用np.where将标量和数组联合，例如，可以像下面的代码那样将arr中的所有正值替换为常数2："
   ]
  },
  {
   "cell_type": "code",
   "execution_count": 73,
   "metadata": {},
   "outputs": [
    {
     "name": "stdout",
     "output_type": "stream",
     "text": [
      "[[-0.27851414  2.          2.          2.        ]\n",
      " [-1.10294534  2.         -2.25810832  2.        ]\n",
      " [-0.06439795  2.          2.         -0.90953791]\n",
      " [-0.48698015  2.         -0.0877678   2.        ]]\n",
      "--------------------------------------------------\n",
      "[[ 1.13958588  2.          2.          2.        ]\n",
      " [ 0.8094936   2.         -0.61745729  2.        ]\n",
      " [-0.56599179  2.          2.         -0.49095711]\n",
      " [-0.48118639  2.          0.23683375  2.        ]]\n"
     ]
    }
   ],
   "source": [
    "# 可以传入同结构的数组\n",
    "print(np.where(arr > 0, 2, arr)) # 仅将正值设为2\n",
    "print(\"-\"*50)\n",
    "arr_test = np.random.randn(4, 4)\n",
    "print(np.where(arr > 0, 2, arr_test)) # 将正值进行用另一个矩阵进行替换"
   ]
  },
  {
   "cell_type": "markdown",
   "metadata": {},
   "source": [
    "> 传递给np.where的数组既可以是同等大小的数组，也可以是标量。"
   ]
  },
  {
   "cell_type": "markdown",
   "metadata": {},
   "source": [
    "### 4.3.2　数学和统计方法\n",
    "许多关于计算整个数组统计值或关于轴向数据的数学函数，可以作为数组类型的方法被调用。可以使用`聚合函数`（通常也叫缩减函数），比如sum、mean(平均值)和std（标准差），既可以直接调用数组实例的方法，也可以使用顶层的NumPy函数。"
   ]
  },
  {
   "cell_type": "code",
   "execution_count": 74,
   "metadata": {},
   "outputs": [
    {
     "name": "stdout",
     "output_type": "stream",
     "text": [
      "[[ 1.22357829 -2.03476097  0.58127121  0.48602189]\n",
      " [ 0.12651873  0.50103392  1.41272308  1.43558231]\n",
      " [-0.03291312  0.5304855   0.23574908 -0.28691473]\n",
      " [ 0.12683735  0.26121565 -0.47177478  1.12037175]\n",
      " [ 0.71037734  0.51376164 -1.15352683 -1.4552571 ]]\n",
      "0.1915190109234683\n",
      "0.1915190109234683\n",
      "3.830380218469366\n",
      "0.36100531271603487\n"
     ]
    }
   ],
   "source": [
    "arr = np.random.randn(5, 4)\n",
    "\n",
    "print(arr)\n",
    "print(arr.mean())\n",
    "print(np.mean(arr))\n",
    "print(arr.sum())\n",
    "print(arr[:4,:1].mean())"
   ]
  },
  {
   "cell_type": "markdown",
   "metadata": {},
   "source": [
    "像mean、sum等函数可以接收一个可选参数axis，这个参数可以用于计算给定轴向上的统计值，形成一个下降一维度的数组："
   ]
  },
  {
   "cell_type": "code",
   "execution_count": 75,
   "metadata": {},
   "outputs": [
    {
     "name": "stdout",
     "output_type": "stream",
     "text": [
      "[ 0.06402761  0.86896451  0.11160168  0.25916249 -0.34616124]\n",
      "[ 2.15439859 -0.22826425  0.60444177  1.29980411]\n",
      "[ 2.15439859 -0.22826425  0.60444177  1.29980411]\n"
     ]
    }
   ],
   "source": [
    "# 按列计算\n",
    "print(arr.mean(axis=1))\n",
    "\n",
    "# 按行计算\n",
    "print(arr.sum(axis=0))\n",
    "print(np.sum(arr, axis=0))"
   ]
  },
  {
   "cell_type": "markdown",
   "metadata": {},
   "source": [
    "arr.mean(1)表示“计算每一列的平均值”，而arr.sum(0)表示“计算行轴向的累和”。\n",
    "\n",
    "其他的方法，例如cumsum和cumprod并不会聚合，它们会产生一个中间结果："
   ]
  },
  {
   "cell_type": "code",
   "execution_count": 76,
   "metadata": {},
   "outputs": [
    {
     "name": "stdout",
     "output_type": "stream",
     "text": [
      "[0 1 2 3 4 5 6 7]\n"
     ]
    },
    {
     "data": {
      "text/plain": [
       "array([ 0,  1,  3,  6, 10, 15, 21, 28])"
      ]
     },
     "execution_count": 76,
     "metadata": {},
     "output_type": "execute_result"
    }
   ],
   "source": [
    "arr = np.arange(8)\n",
    "print(arr)\n",
    "arr.cumsum()"
   ]
  },
  {
   "cell_type": "markdown",
   "metadata": {},
   "source": [
    "在多维数组中，像cumsum这样的累积函数返回相同长度的数组，但是可以在指定轴向上根据较低维度的切片进行部分聚合："
   ]
  },
  {
   "cell_type": "code",
   "execution_count": 77,
   "metadata": {},
   "outputs": [
    {
     "name": "stdout",
     "output_type": "stream",
     "text": [
      "[[0 1 2]\n",
      " [3 4 5]\n",
      " [6 7 8]]\n",
      "[[ 0  1  2]\n",
      " [ 3  5  7]\n",
      " [ 9 12 15]]\n",
      "[[  0   0   0]\n",
      " [  3  12  60]\n",
      " [  6  42 336]]\n",
      "[ 0  1  3  6 10 15 21 28 36]\n"
     ]
    }
   ],
   "source": [
    "arr = np.array([[0, 1, 2], [3, 4, 5], [6, 7, 8]])\n",
    "\n",
    "print(arr)\n",
    "print(arr.cumsum(axis=0))\n",
    "print(arr.cumprod(axis=1))\n",
    "print(arr.cumsum())"
   ]
  },
  {
   "cell_type": "markdown",
   "metadata": {},
   "source": [
    "### 4.3.3　布尔值数组的方法\n",
    "在前面介绍的方法，布尔值会被强制为1（True）和0（False）。因此，sum通常可以用于计算布尔值数组中的True的个数："
   ]
  },
  {
   "cell_type": "code",
   "execution_count": 78,
   "metadata": {},
   "outputs": [
    {
     "data": {
      "text/plain": [
       "53"
      ]
     },
     "execution_count": 78,
     "metadata": {},
     "output_type": "execute_result"
    }
   ],
   "source": [
    "arr = np.random.randn(100)\n",
    "\n",
    "(arr > 0).sum() # 正值的个数"
   ]
  },
  {
   "cell_type": "markdown",
   "metadata": {},
   "source": [
    "对于布尔值数组，有两个非常有用的方法any和all。any检查数组中是否至少有一个True，而all检查是否每个值都是True："
   ]
  },
  {
   "cell_type": "code",
   "execution_count": 79,
   "metadata": {},
   "outputs": [
    {
     "name": "stdout",
     "output_type": "stream",
     "text": [
      "True\n",
      "False\n"
     ]
    }
   ],
   "source": [
    "bools = np.array([False, False, True, False])\n",
    "\n",
    "print(bools.any())\n",
    "print(bools.all())"
   ]
  },
  {
   "cell_type": "markdown",
   "metadata": {},
   "source": [
    "这些方法也可适用于非布尔值数组，所有的非0元素都会按True处理。"
   ]
  },
  {
   "cell_type": "markdown",
   "metadata": {},
   "source": [
    "### 4.3.4　排序\n",
    "和Python的内建列表类型相似，NumPy数组可以使用sort方法按位置排序："
   ]
  },
  {
   "cell_type": "code",
   "execution_count": 80,
   "metadata": {},
   "outputs": [
    {
     "name": "stdout",
     "output_type": "stream",
     "text": [
      "[-1.25781708 -0.23764481  0.47105431  0.06763119  1.79256605  0.81756052]\n",
      "[-1.25781708 -0.23764481  0.06763119  0.47105431  0.81756052  1.79256605]\n"
     ]
    }
   ],
   "source": [
    "arr = np.random.randn(6)\n",
    "\n",
    "print(arr)\n",
    "# 和list.sort()一样，会改变原来对象的值\n",
    "arr.sort()\n",
    "print(arr)"
   ]
  },
  {
   "cell_type": "markdown",
   "metadata": {},
   "source": [
    "可以在多维数组中根据传递的axis值，沿着轴向对每个一维数据段进行排序："
   ]
  },
  {
   "cell_type": "code",
   "execution_count": 81,
   "metadata": {},
   "outputs": [
    {
     "name": "stdout",
     "output_type": "stream",
     "text": [
      "[[ 1.2680527  -0.5319483  -0.30126113]\n",
      " [ 0.3973903   0.44370868 -0.45395025]\n",
      " [-1.33488091  0.70443869 -0.60376889]\n",
      " [-0.96188673 -0.93892209  0.7532754 ]\n",
      " [-1.54490897 -0.2690804  -0.3340371 ]]\n",
      "--------------------------------------------------\n",
      "[[-0.5319483  -0.30126113  1.2680527 ]\n",
      " [-0.45395025  0.3973903   0.44370868]\n",
      " [-1.33488091 -0.60376889  0.70443869]\n",
      " [-0.96188673 -0.93892209  0.7532754 ]\n",
      " [-1.54490897 -0.3340371  -0.2690804 ]]\n",
      "--------------------------------------------------\n",
      "[[-1.54490897 -0.93892209 -0.2690804 ]\n",
      " [-1.33488091 -0.60376889  0.44370868]\n",
      " [-0.96188673 -0.3340371   0.70443869]\n",
      " [-0.5319483  -0.30126113  0.7532754 ]\n",
      " [-0.45395025  0.3973903   1.2680527 ]]\n"
     ]
    }
   ],
   "source": [
    "arr = np.random.randn(5, 3)\n",
    "\n",
    "print(arr)\n",
    "# 按行排序\n",
    "arr.sort(axis=1)\n",
    "print(\"-\"*50)\n",
    "print(arr)\n",
    "# 按列排序\n",
    "arr.sort(axis=0)\n",
    "print(\"-\"*50)\n",
    "print(arr)"
   ]
  },
  {
   "cell_type": "markdown",
   "metadata": {},
   "source": [
    "> 顶层的np.sort方法返回的是已经排序好的数组拷贝，而不是对原数组按位置排序。下面的例子计算的是一个数组的分位数，并选出分位数所对应的值，这是一种应急的方式："
   ]
  },
  {
   "cell_type": "code",
   "execution_count": 82,
   "metadata": {},
   "outputs": [
    {
     "data": {
      "text/plain": [
       "-1.6494512631927636"
      ]
     },
     "execution_count": 82,
     "metadata": {},
     "output_type": "execute_result"
    }
   ],
   "source": [
    "large_arr = np.random.randn(10000)\n",
    "\n",
    "large_arr.sort()\n",
    "\n",
    "large_arr[int(0.05 * len(large_arr))] # 5% quantile(5%的分位数)"
   ]
  },
  {
   "cell_type": "markdown",
   "metadata": {},
   "source": [
    "一些与排序相关的其他种类的数据操作（比如根据一张表中的某一列进行排序），也将会出现在pandas中。"
   ]
  },
  {
   "cell_type": "markdown",
   "metadata": {},
   "source": [
    "### 4.3.5　唯一值与其他集合逻辑\n",
    "NumPy包含一些针对一维ndarray的基础集合操作。常用的一个方法是np.unique，返回的是数组中唯一值`排序后`形成的数组："
   ]
  },
  {
   "cell_type": "code",
   "execution_count": 83,
   "metadata": {},
   "outputs": [
    {
     "data": {
      "text/plain": [
       "array(['Bob', 'Joe', 'Will'], dtype='<U4')"
      ]
     },
     "execution_count": 83,
     "metadata": {},
     "output_type": "execute_result"
    }
   ],
   "source": [
    "names =np.array(['Bob', 'Joe', 'Will', 'Bob', 'Will', 'Joe', 'Joe'])\n",
    "\n",
    "np.unique(names)"
   ]
  },
  {
   "cell_type": "code",
   "execution_count": 84,
   "metadata": {},
   "outputs": [
    {
     "data": {
      "text/plain": [
       "array([1, 2, 3, 4])"
      ]
     },
     "execution_count": 84,
     "metadata": {},
     "output_type": "execute_result"
    }
   ],
   "source": [
    "ints = np.array([3, 3, 3, 2, 2, 1, 1, 4, 4])\n",
    "\n",
    "np.unique(ints)"
   ]
  },
  {
   "cell_type": "markdown",
   "metadata": {},
   "source": [
    "将np.unique和纯Python实现相比较："
   ]
  },
  {
   "cell_type": "code",
   "execution_count": 85,
   "metadata": {},
   "outputs": [
    {
     "data": {
      "text/plain": [
       "['Bob', 'Joe', 'Will']"
      ]
     },
     "execution_count": 85,
     "metadata": {},
     "output_type": "execute_result"
    }
   ],
   "source": [
    "sorted(set(names))"
   ]
  },
  {
   "cell_type": "markdown",
   "metadata": {},
   "source": [
    "另一个函数，`np.in1d`，可以检查一个数组中的值是否在另外一个数组中，并返回一个布尔值数组："
   ]
  },
  {
   "cell_type": "code",
   "execution_count": 86,
   "metadata": {},
   "outputs": [
    {
     "data": {
      "text/plain": [
       "array([ True, False, False,  True,  True, False,  True])"
      ]
     },
     "execution_count": 86,
     "metadata": {},
     "output_type": "execute_result"
    }
   ],
   "source": [
    "values = np.array([6, 0, 0, 3, 2, 5, 6])\n",
    "\n",
    "np.in1d(values, [2, 3, 6])"
   ]
  },
  {
   "cell_type": "markdown",
   "metadata": {},
   "source": [
    "下表是NumPy中集合函数的列表。"
   ]
  },
  {
   "cell_type": "markdown",
   "metadata": {},
   "source": [
    "| 方法             | 描述                                     |\n",
    "| ---------------- | --------------------------------------- |\n",
    "| unique(x)        | 计算x的唯一值,并排序                      |\n",
    "| intersect1d(x,y) | 计算x和y的交集,并排序                     |\n",
    "| union1d(x,y)     | 计算x和y的并集,并排序                     |\n",
    "| in1d(x,y)        | 计算中的元素是否包含在y中,返回一个布尔值数组 |\n",
    "| setdiff1d(x,y)   | 差集,在x中但不在y中的x的元素               |\n",
    "| setxor1d(x,y)    | 异或集,在x或y中,但不属于x、y交集的元素      |"
   ]
  },
  {
   "cell_type": "markdown",
   "metadata": {},
   "source": [
    "## 4.4　使用数组进行文件输入和输出\n",
    "NumPy可以在硬盘中将数据以文本或二进制文件的形式进行存入硬盘或由硬盘载入。在本节，只讨论NumPy的内建二进制格式，因为大部分用户更倾向于使用pandas或其他工具来载入文本或表格型数据。\n",
    "\n",
    "`np.save`和`np.load`是高效存取硬盘数据的两大工具函数。数组在默认情况下是以未压缩的格式进行存储的，后缀名是`.npy`："
   ]
  },
  {
   "cell_type": "code",
   "execution_count": 87,
   "metadata": {},
   "outputs": [],
   "source": [
    "arr = np.arange(10)\n",
    "\n",
    "np.save('some_array', arr)"
   ]
  },
  {
   "cell_type": "markdown",
   "metadata": {},
   "source": [
    "> 如果文件存放路径中没写.npy时，后缀名会被自动加上。硬盘上的数组可以使用np.load进行载入："
   ]
  },
  {
   "cell_type": "code",
   "execution_count": 88,
   "metadata": {},
   "outputs": [
    {
     "data": {
      "text/plain": [
       "array([0, 1, 2, 3, 4, 5, 6, 7, 8, 9])"
      ]
     },
     "execution_count": 88,
     "metadata": {},
     "output_type": "execute_result"
    }
   ],
   "source": [
    "load_arr = np.load('some_array.npy')\n",
    "load_arr"
   ]
  },
  {
   "cell_type": "markdown",
   "metadata": {},
   "source": [
    "可以使用`np.savez`并将数组作为参数传递给该函数，用于在未压缩文件中保存多个数组："
   ]
  },
  {
   "cell_type": "code",
   "execution_count": 89,
   "metadata": {},
   "outputs": [],
   "source": [
    "np.savez('array_archive.npz', a=arr, b=np.random.randn(5,5))"
   ]
  },
  {
   "cell_type": "markdown",
   "metadata": {},
   "source": [
    "当载入一个.npy文件的时候，会获得一个字典型的对象，并通过该对象很方便地载入单个数组："
   ]
  },
  {
   "cell_type": "code",
   "execution_count": 90,
   "metadata": {},
   "outputs": [
    {
     "data": {
      "text/plain": [
       "(array([[ 1.31369748, -0.18122569,  0.46102375, -0.60789025, -0.36740244],\n",
       "        [-1.18598753,  0.39016994, -0.56301308,  1.13187503, -0.38391976],\n",
       "        [-1.05611536, -2.31151427,  0.52314813, -0.80153611,  2.06001215],\n",
       "        [ 1.2409101 ,  0.67223961,  0.23379065,  0.36256208,  0.31625483],\n",
       "        [-1.42253345,  0.27978663,  1.22259628, -0.45386881, -0.88801012]]),\n",
       " array([0, 1, 2, 3, 4, 5, 6, 7, 8, 9]))"
      ]
     },
     "execution_count": 90,
     "metadata": {},
     "output_type": "execute_result"
    }
   ],
   "source": [
    "arch = np.load('array_archive.npz')\n",
    "\n",
    "arch['b'], arch['a']"
   ]
  },
  {
   "cell_type": "markdown",
   "metadata": {},
   "source": [
    "如果的数据已经压缩好了，可能会想要使用`numpy.savez_compressed`将数据存入已经压缩的文件："
   ]
  },
  {
   "cell_type": "code",
   "execution_count": 91,
   "metadata": {},
   "outputs": [
    {
     "data": {
      "text/plain": [
       "array([[ 2.146713  , -1.43821659,  0.73303467, -0.14037148, -0.11560512],\n",
       "       [ 0.92319032,  1.25790864,  0.75737734, -1.02636212,  1.40279775],\n",
       "       [-0.36898347,  0.87677296, -0.55569642,  1.25249954,  0.66204371],\n",
       "       [-1.92556443,  0.82513129,  0.57328021,  0.47081025, -1.44693118],\n",
       "       [ 0.13834343,  1.89502454,  1.08921713, -0.16344893,  1.15539763]])"
      ]
     },
     "execution_count": 91,
     "metadata": {},
     "output_type": "execute_result"
    }
   ],
   "source": [
    "np.savez_compressed('arrays_compressed.npz', a=arr, c=np.random.randn(5,5))\n",
    "\n",
    "np.load('arrays_compressed.npz')['c']"
   ]
  },
  {
   "cell_type": "markdown",
   "metadata": {},
   "source": [
    "## 4.5　线性代数\n",
    "线性代数，比如矩阵乘法、分解、行列式等方阵数学，是所有数组类库的重要组成部分。和Matlab等其他语言相比，NumPy的线性代数中所不同的是`*`是矩阵的逐元素乘积，而不是矩阵的点乘积。因此NumPy的数组方法和numpy命名空间中都有一个函数dot，用于矩阵的操作："
   ]
  },
  {
   "cell_type": "code",
   "execution_count": 92,
   "metadata": {},
   "outputs": [
    {
     "name": "stdout",
     "output_type": "stream",
     "text": [
      "[[1. 2. 3.]\n",
      " [4. 5. 6.]] (2, 3)\n",
      "[[ 6. 23.]\n",
      " [-1.  7.]\n",
      " [ 8.  9.]] (3, 2)\n",
      "--------------------------------------------------\n",
      "[[ 28.  64.]\n",
      " [ 67. 181.]]\n"
     ]
    }
   ],
   "source": [
    "x = np.array([[1., 2., 3.], [4., 5., 6.]])\n",
    "\n",
    "y = np.array([[6., 23.], [-1, 7], [8, 9]])\n",
    "\n",
    "print(x, x.shape)\n",
    "print(y, y.shape)\n",
    "print(\"-\"*50)\n",
    "print(x.dot(y))"
   ]
  },
  {
   "cell_type": "markdown",
   "metadata": {},
   "source": [
    "x.dot(y)等价于np.dot(x，y)："
   ]
  },
  {
   "cell_type": "code",
   "execution_count": 93,
   "metadata": {},
   "outputs": [
    {
     "data": {
      "text/plain": [
       "array([[ 28.,  64.],\n",
       "       [ 67., 181.]])"
      ]
     },
     "execution_count": 93,
     "metadata": {},
     "output_type": "execute_result"
    }
   ],
   "source": [
    "np.dot(x, y)"
   ]
  },
  {
   "cell_type": "markdown",
   "metadata": {},
   "source": [
    "一个二维数组和一个长度合适的一维数组之间的矩阵乘积，其结果是一个一维数组："
   ]
  },
  {
   "cell_type": "code",
   "execution_count": 94,
   "metadata": {},
   "outputs": [
    {
     "data": {
      "text/plain": [
       "array([ 6., 15.])"
      ]
     },
     "execution_count": 94,
     "metadata": {},
     "output_type": "execute_result"
    }
   ],
   "source": [
    "np.dot(x, np.ones(3))"
   ]
  },
  {
   "cell_type": "markdown",
   "metadata": {},
   "source": [
    "特殊符号`@`也作为中缀操作符，用于点乘矩阵操作："
   ]
  },
  {
   "cell_type": "code",
   "execution_count": 95,
   "metadata": {},
   "outputs": [
    {
     "data": {
      "text/plain": [
       "array([ 6., 15.])"
      ]
     },
     "execution_count": 95,
     "metadata": {},
     "output_type": "execute_result"
    }
   ],
   "source": [
    "x @ np.ones(3)"
   ]
  },
  {
   "cell_type": "markdown",
   "metadata": {},
   "source": [
    "`numpy.linalg`拥有一个矩阵分解的标准函数集，以及其他常用函数，例如求逆和行列式求解。这些函数都是通过在MATLAB和R等其他语言使用的相同的行业标准线性代数库来实现的，例如BLAS、LAPACK或英特尔专有的MKL（数学核心库）（是否使用MKL取决于使用NumPy的版本）："
   ]
  },
  {
   "cell_type": "code",
   "execution_count": 96,
   "metadata": {},
   "outputs": [
    {
     "name": "stdout",
     "output_type": "stream",
     "text": [
      "[[-1.25719818  0.11415654  0.04766859 -1.64722425 -0.26350177]\n",
      " [ 0.50745016  0.29077471 -0.72066328  1.94429818  0.31302075]\n",
      " [ 0.55703258  0.21211262 -0.71964244 -0.79207067  0.95016463]\n",
      " [ 1.0881693   0.04954216 -0.23921878 -0.70212193  0.09135442]\n",
      " [ 0.75908537  0.6392714  -0.7425169   1.22161706  0.0183342 ]]\n"
     ]
    },
    {
     "data": {
      "text/plain": [
       "array([[ 3.90866125,  0.66136174, -1.6504381 ,  2.7795967 ,  1.13271533],\n",
       "       [ 0.66136174,  0.55369576, -0.84327545,  0.95546335,  0.2787264 ],\n",
       "       [-1.6504381 , -0.84327545,  1.64807007, -1.64880804, -0.95738926],\n",
       "       [ 2.7795967 ,  0.95546335, -1.64880804,  9.10634254,  0.24831007],\n",
       "       [ 1.13271533,  0.2787264 , -0.95738926,  0.24831007,  1.07890976]])"
      ]
     },
     "execution_count": 96,
     "metadata": {},
     "output_type": "execute_result"
    }
   ],
   "source": [
    "from numpy.linalg import inv, qr\n",
    "X = np.random.randn(5, 5)\n",
    "print(X)\n",
    "mat = X.T.dot(X)\n",
    "mat"
   ]
  },
  {
   "cell_type": "code",
   "execution_count": 97,
   "metadata": {},
   "outputs": [
    {
     "data": {
      "text/plain": [
       "array([[ 0.57758606,  1.36471067,  1.33386106, -0.08463685,  0.24415291],\n",
       "       [ 1.36471067, 34.25638408, 27.80520392,  0.63519344, 14.24464933],\n",
       "       [ 1.33386106, 27.80520392, 24.41179594,  0.74353147, 12.90750719],\n",
       "       [-0.08463685,  0.63519344,  0.74353147,  0.18887251,  0.54107803],\n",
       "       [ 0.24415291, 14.24464933, 12.90750719,  0.54107803,  8.31973007]])"
      ]
     },
     "execution_count": 97,
     "metadata": {},
     "output_type": "execute_result"
    }
   ],
   "source": [
    "inv(mat)"
   ]
  },
  {
   "cell_type": "code",
   "execution_count": 98,
   "metadata": {},
   "outputs": [
    {
     "data": {
      "text/plain": [
       "array([[ 1.00000000e+00,  0.00000000e+00,  1.77635684e-15,\n",
       "        -1.11022302e-16,  0.00000000e+00],\n",
       "       [-2.77555756e-17,  1.00000000e+00,  8.88178420e-16,\n",
       "        -1.38777878e-16, -2.22044605e-15],\n",
       "       [-3.88578059e-16,  3.55271368e-15,  1.00000000e+00,\n",
       "         2.22044605e-16,  8.88178420e-16],\n",
       "       [ 1.87350135e-16, -6.21724894e-15,  5.32907052e-15,\n",
       "         1.00000000e+00, -4.44089210e-16],\n",
       "       [ 2.22044605e-16,  1.77635684e-15, -1.77635684e-15,\n",
       "         0.00000000e+00,  1.00000000e+00]])"
      ]
     },
     "execution_count": 98,
     "metadata": {},
     "output_type": "execute_result"
    }
   ],
   "source": [
    "mat.dot(inv(mat))"
   ]
  },
  {
   "cell_type": "code",
   "execution_count": 99,
   "metadata": {},
   "outputs": [
    {
     "data": {
      "text/plain": [
       "array([[-0.74605571,  0.53964048, -0.0346039 ,  0.38840165,  0.01165167],\n",
       "       [-0.12623573, -0.53568823, -0.1133598 ,  0.47130782,  0.67979494],\n",
       "       [ 0.31502315,  0.57259607, -0.36749791, -0.24167068,  0.61598273],\n",
       "       [-0.5305484 , -0.30476692, -0.46679699, -0.63801985,  0.02582177],\n",
       "       [-0.21620414,  0.03281969,  0.79561171, -0.40191922,  0.39704104]])"
      ]
     },
     "execution_count": 99,
     "metadata": {},
     "output_type": "execute_result"
    }
   ],
   "source": [
    "q, r = qr(mat)\n",
    "q"
   ]
  },
  {
   "cell_type": "code",
   "execution_count": 100,
   "metadata": {},
   "outputs": [
    {
     "data": {
      "text/plain": [
       "array([[-5.23910106, -1.39614153,  2.93871447, -7.59880145, -1.54685901],\n",
       "       [ 0.        , -0.70461285,  0.97584891, -2.72311113, -0.12651594],\n",
       "       [ 0.        ,  0.        , -0.44500864, -3.65181737,  1.02352865],\n",
       "       [ 0.        ,  0.        ,  0.        , -3.98144202,  0.21062601],\n",
       "       [ 0.        ,  0.        ,  0.        ,  0.        ,  0.04772283]])"
      ]
     },
     "execution_count": 100,
     "metadata": {},
     "output_type": "execute_result"
    }
   ],
   "source": [
    "r"
   ]
  },
  {
   "cell_type": "markdown",
   "metadata": {},
   "source": [
    "表达式X.T.dot（X）计算的是X和它的转置矩阵X.T的点乘积。\n",
    "\n",
    "下表是最常用的线性代数函数列表。"
   ]
  },
  {
   "cell_type": "markdown",
   "metadata": {},
   "source": [
    "| 函数  | 描述                                                                                     |\n",
    "| ----- | ---------------------------------------------------------------------------------------- |\n",
    "| diag  | 将一个方阵的对角(或非对角)元素作为一维数组返回,或者将一维数组转换成一个方阵,并且在非对角线上有零点 |\n",
    "| dot   | 矩阵点乘                                                                                 |\n",
    "| trace | 计算对角元素和                                                                            |\n",
    "| det   | 计算矩阵的行列式                                                                          |\n",
    "| eig   | 计算方阵的特征值和特征向量                                                                 |\n",
    "| inv   | 计算方阵的逆矩阵                                                                          |\n",
    "| pinv  | 计算矩阵的 Moore- Penrose伪逆                                                             |\n",
    "| qr    | 计算QR分解                                                                               |\n",
    "| svd   | 计算奇异值分解(SVD)                                                                       |\n",
    "| solve | 求解x的线性系统Ax=b,其中A是方阵                                                            |\n",
    "| lstsq | 计算Ax=b的最小二乘解                                                                      |"
   ]
  },
  {
   "cell_type": "markdown",
   "metadata": {},
   "source": [
    "## 4.6　伪随机数生成\n",
    "`numpy.random`模块填补了Python内建的random模块的不足，可以高效地生成多种概率分布下的完整样本值数组。例如，可以使用normal来获得一个$4 \\times 4$的正态分布样本数组："
   ]
  },
  {
   "cell_type": "code",
   "execution_count": 101,
   "metadata": {},
   "outputs": [
    {
     "data": {
      "text/plain": [
       "array([[-1.2122705 ,  0.0724713 ,  0.2240326 ,  1.11016449],\n",
       "       [ 2.06005225,  1.78876902,  0.12194062,  0.45072559],\n",
       "       [ 0.29818591, -1.27299902,  1.43610907, -0.25416316],\n",
       "       [ 0.14647258, -0.71726771, -0.0732253 ,  0.0199053 ]])"
      ]
     },
     "execution_count": 101,
     "metadata": {},
     "output_type": "execute_result"
    }
   ],
   "source": [
    "samples = np.random.normal(size=(4, 4))\n",
    "\n",
    "samples       "
   ]
  },
  {
   "cell_type": "markdown",
   "metadata": {},
   "source": [
    "然而Python内建的random模块一次只能生成一个值。你可以从下面的示例中看到，numpy.random在生成大型样本时比纯Python的方式快了一个数量级："
   ]
  },
  {
   "cell_type": "code",
   "execution_count": 102,
   "metadata": {},
   "outputs": [],
   "source": [
    "from random import normalvariate\n",
    "N = 1000000"
   ]
  },
  {
   "cell_type": "code",
   "execution_count": 103,
   "metadata": {},
   "outputs": [
    {
     "name": "stdout",
     "output_type": "stream",
     "text": [
      "1 loop, best of 3: 899 ms per loop\n"
     ]
    }
   ],
   "source": [
    "%%timeit \n",
    "samples = [normalvariate(0, 1) for _ in range(N)]"
   ]
  },
  {
   "cell_type": "code",
   "execution_count": 104,
   "metadata": {},
   "outputs": [
    {
     "name": "stdout",
     "output_type": "stream",
     "text": [
      "10 loops, best of 3: 58.5 ms per loop\n"
     ]
    }
   ],
   "source": [
    "%%timeit \n",
    "np.random.normal(size=N)"
   ]
  },
  {
   "cell_type": "markdown",
   "metadata": {},
   "source": [
    "这些为伪随机数，因为它们是由具有确定性行为的算法根据随机数生成器中的随机数种子生成的。你可以通过np.random.seed更改NumPy的随机数种子："
   ]
  },
  {
   "cell_type": "code",
   "execution_count": 105,
   "metadata": {},
   "outputs": [],
   "source": [
    "np.random.seed(1234)"
   ]
  },
  {
   "cell_type": "markdown",
   "metadata": {},
   "source": [
    "numpy.random中的数据生成函数公用了一个全局的随机数种子。为了避免全局状态，可以使用numpy.random.RandomState生成一个随机数生成器，使数据独立于其他的随机数状态："
   ]
  },
  {
   "cell_type": "code",
   "execution_count": 106,
   "metadata": {},
   "outputs": [
    {
     "data": {
      "text/plain": [
       "array([ 0.47143516, -1.19097569,  1.43270697, -0.3126519 , -0.72058873,\n",
       "        0.88716294,  0.85958841, -0.6365235 ,  0.01569637, -2.24268495])"
      ]
     },
     "execution_count": 106,
     "metadata": {},
     "output_type": "execute_result"
    }
   ],
   "source": [
    "rng = np.random.RandomState(1234)\n",
    "\n",
    "rng.randn(10)"
   ]
  },
  {
   "cell_type": "markdown",
   "metadata": {},
   "source": [
    "下表是numpy.random中可用的部分函数。"
   ]
  },
  {
   "cell_type": "markdown",
   "metadata": {},
   "source": [
    "| 函数        | 描述                                             |\n",
    "| ----------- | ----------------------------------------------- |\n",
    "| seed        | 向随机数生成器传递随机状态种子                      |\n",
    "| permutation | 返回一个序列的随机排列,或者返回一个乱序的整数范围序列 |\n",
    "| shuffle     | 随机排列一个序列                                  |\n",
    "| rand        | 从均匀分布中抽取样本                              |\n",
    "| randint     | 根据给定的由低到高的范围抽取随机整数                |\n",
    "| randn       | 从均值0方差1的正态分布中抽取样本( MATLAB型接口)     |\n",
    "| binomial    | 从二项分布中抽取样本                              |\n",
    "| normal      | 从正态(高斯)分布中抽取样本                         |\n",
    "| beta        | 从beta分布中抽取样本                              |\n",
    "| chisquare   | 从卡方分布中抽取样本                              |\n",
    "| gamma       | 从伽马分布中抽取样本                              |\n",
    "| uniform     | 从均匀\\[0,1)分布中抽取样本                        |"
   ]
  },
  {
   "cell_type": "markdown",
   "metadata": {},
   "source": [
    "## 4.7　示例：随机漫步\n",
    "随机漫步的模拟（https://en.wikipedia.org/wiki/Random_walk ）提供了一个使用数组操作的说明性应用。首先，考虑一个简单的随机漫步，从0开始，步进为1和-1，且两种步进发生的概率相等。\n",
    "\n",
    "以下是使用内建random模块利用纯Python实现的一个1000步的随机漫步："
   ]
  },
  {
   "cell_type": "code",
   "execution_count": 107,
   "metadata": {},
   "outputs": [
    {
     "data": {
      "image/png": "[encoded data removed]",
      "text/plain": [
       "<matplotlib.figure.Figure at 0x7f9175a57c18>"
      ]
     },
     "metadata": {},
     "output_type": "display_data"
    }
   ],
   "source": [
    "# 1,000步的随机漫步：\n",
    "import random\n",
    "import matplotlib.pyplot as plt\n",
    "position = 0\n",
    "walk = [position]\n",
    "steps = 1000\n",
    "for i in range(steps):\n",
    "    step = 1 if random.randint(0, 1) else -1\n",
    "    position += step\n",
    "    walk.append(position)\n",
    "\n",
    "# 对随机漫步进行可视化\n",
    "plt.plot(walk)\n",
    "plt.show()"
   ]
  },
  {
   "cell_type": "markdown",
   "metadata": {},
   "source": [
    "walk只是对随机步进的累积，并且可以通过一个数组表达式实现。因此，使用np.random模块一次性抽取1000次投掷硬币的结果，每次投掷的结果为1或-1，然后计算累积值："
   ]
  },
  {
   "cell_type": "code",
   "execution_count": 108,
   "metadata": {},
   "outputs": [
    {
     "name": "stdout",
     "output_type": "stream",
     "text": [
      "-9\n",
      "60\n"
     ]
    }
   ],
   "source": [
    "nsteps = 1000\n",
    "draws = np.random.randint(0, 2, size=nsteps)\n",
    "steps = np.where(draws > 0, 1, -1)\n",
    "walk = steps.cumsum()\n",
    "# 从漫步轨道上提取一些统计数据，比如最大值、最小值等：\n",
    "print(walk.min())\n",
    "print(walk.max())"
   ]
  },
  {
   "cell_type": "markdown",
   "metadata": {},
   "source": [
    "更复杂的统计是第一次穿越时间，即随机漫步的某一步达到了某个特定值。这里假设我们想要知道漫步中是何时连续朝某个方向连续走了10步。np.abs（walk）>=10给我们一个布尔值数组，用于表明漫步是否连续在同一方向走了十步，但是我们想要的是第一次走了10步或-10步的位置。可以使用argmax来计算，该函数可以返回布尔值数组中最大值的第一个位置（True就是最大值）："
   ]
  },
  {
   "cell_type": "code",
   "execution_count": 109,
   "metadata": {},
   "outputs": [
    {
     "data": {
      "text/plain": [
       "297"
      ]
     },
     "execution_count": 109,
     "metadata": {},
     "output_type": "execute_result"
    }
   ],
   "source": [
    "# 这是取位置下标\n",
    "(np.abs(walk) >= 10).argmax()"
   ]
  },
  {
   "cell_type": "markdown",
   "metadata": {},
   "source": [
    "> 这里使用argmax效率并不高，因为它总是完整地扫描整个数组。在这个特殊的示例中，一旦True被发现，就知道最大值了。"
   ]
  },
  {
   "cell_type": "markdown",
   "metadata": {},
   "source": [
    "### 4.7.1　一次性模拟多次随机漫步\n",
    "如果目标是模拟多次随机漫步，比如说5000步。可以稍微地修改下之前的代码来生成所有的随机步。如果传入一个2个元素的元组，numpy.random中的函数可以生成一个二维的抽取数组，并且可以一次性地跨行算出全部5000个随机步的累积和："
   ]
  },
  {
   "cell_type": "code",
   "execution_count": 110,
   "metadata": {},
   "outputs": [
    {
     "data": {
      "text/plain": [
       "array([[  1,   2,   3, ...,  46,  47,  46],\n",
       "       [  1,   0,   1, ...,  40,  41,  42],\n",
       "       [  1,   2,   3, ..., -26, -27, -28],\n",
       "       ...,\n",
       "       [  1,   0,   1, ...,  64,  65,  66],\n",
       "       [  1,   2,   1, ...,   2,   1,   0],\n",
       "       [ -1,  -2,  -3, ...,  32,  33,  34]])"
      ]
     },
     "execution_count": 110,
     "metadata": {},
     "output_type": "execute_result"
    }
   ],
   "source": [
    "nwalks = 5000\n",
    "\n",
    "nsteps = 1000\n",
    "draws = np.random.randint(0, 2, size=(nwalks, nsteps)) # 0或1\n",
    "steps = np.where(draws > 0, 1, -1)\n",
    "walks = steps.cumsum(1)\n",
    "walks"
   ]
  },
  {
   "cell_type": "markdown",
   "metadata": {},
   "source": [
    "现在可以计算出这些随机步的最大值和最小值了："
   ]
  },
  {
   "cell_type": "code",
   "execution_count": 111,
   "metadata": {},
   "outputs": [
    {
     "data": {
      "text/plain": [
       "(122, -128)"
      ]
     },
     "execution_count": 111,
     "metadata": {},
     "output_type": "execute_result"
    }
   ],
   "source": [
    "walks.max(), walks.min()"
   ]
  },
  {
   "cell_type": "markdown",
   "metadata": {},
   "source": [
    "如果在这些随机步中计算出30或-30的最小穿越时间。由于不是所有的5000个都达到了30。可以用any方法来检查："
   ]
  },
  {
   "cell_type": "code",
   "execution_count": 112,
   "metadata": {},
   "outputs": [
    {
     "name": "stdout",
     "output_type": "stream",
     "text": [
      "[ True  True  True ...  True False  True] (5000,)\n"
     ]
    },
    {
     "data": {
      "text/plain": [
       "3368"
      ]
     },
     "execution_count": 112,
     "metadata": {},
     "output_type": "execute_result"
    }
   ],
   "source": [
    "hits30 = (np.abs(walks) >= 30).any(axis=1)\n",
    "print(hits30, hits30.shape)\n",
    "# True = 1, False = 0\n",
    "hits30.sum() # 达到30或-30的数字"
   ]
  },
  {
   "cell_type": "markdown",
   "metadata": {},
   "source": [
    "可以使用布尔值数组来选出绝对步数超过30的步所在的行，并使用argmax从轴向1上获取穿越时间："
   ]
  },
  {
   "cell_type": "code",
   "execution_count": 113,
   "metadata": {},
   "outputs": [
    {
     "name": "stdout",
     "output_type": "stream",
     "text": [
      "[133 395 343 ... 409 297 747]\n"
     ]
    },
    {
     "data": {
      "text/plain": [
       "509.99762470308787"
      ]
     },
     "execution_count": 113,
     "metadata": {},
     "output_type": "execute_result"
    }
   ],
   "source": [
    "crossing_times = (np.abs(walks[hits30]) >= 30).argmax(axis=1)\n",
    "print(crossing_times)\n",
    "crossing_times.mean()"
   ]
  },
  {
   "cell_type": "markdown",
   "metadata": {},
   "source": [
    "利用其他分布而不是等概率的掷硬币实验来随机漫步也是很容易的。只需要使用一个不同的随机数生成函数，比如normal，再根据特定的均值和标准差即可生成正态分布下的随机步："
   ]
  },
  {
   "cell_type": "code",
   "execution_count": 114,
   "metadata": {},
   "outputs": [
    {
     "name": "stdout",
     "output_type": "stream",
     "text": [
      "[[ -1  -2  -3 ...   4   5   6]\n",
      " [ -1   0   1 ...  40  41  40]\n",
      " [  1   2   1 ...  32  31  30]\n",
      " ...\n",
      " [  1   0   1 ...  52  53  54]\n",
      " [ -1   0  -1 ... -12 -11 -10]\n",
      " [ -1   0   1 ...  -4  -5  -4]] (5000, 1000)\n",
      "125 -126\n"
     ]
    }
   ],
   "source": [
    "draws = np.random.normal(loc=0, scale=0.25,\n",
    "                         size=(nwalks, nsteps))\n",
    "steps = np.where(draws > 0, 1, -1)\n",
    "walks = steps.cumsum(1)\n",
    "print(walks, walks.shape)\n",
    "print(walks.max(), walks.min())"
   ]
  },
  {
   "cell_type": "code",
   "execution_count": 115,
   "metadata": {},
   "outputs": [
    {
     "name": "stdout",
     "output_type": "stream",
     "text": [
      "[ True  True  True ...  True False  True] (5000,)\n",
      "3389\n",
      "[515 789 133 ... 113 175 611] (3389,)\n",
      "503.91295367365007\n"
     ]
    }
   ],
   "source": [
    "hits30 = (np.abs(walks) >= 30).any(axis=1)\n",
    "print(hits30, hits30.shape)\n",
    "# True = 1, False = 0\n",
    "print(hits30.sum()) # 达到30或-30的数字\n",
    "\n",
    "crossing_times = (np.abs(walks[hits30]) >= 30).argmax(axis=1)\n",
    "print(crossing_times, crossing_times.shape)\n",
    "print(crossing_times.mean())"
   ]
  }
 ],
 "metadata": {
  "kernelspec": {
   "display_name": "Python 3",
   "language": "python",
   "name": "python3"
  },
  "language_info": {
   "codemirror_mode": {
    "name": "ipython",
    "version": 3
   },
   "file_extension": ".py",
   "mimetype": "text/x-python",
   "name": "python",
   "nbconvert_exporter": "python",
   "pygments_lexer": "ipython3",
   "version": "3.6.9"
  },
  "toc": {
   "base_numbering": 1,
   "nav_menu": {},
   "number_sections": false,
   "sideBar": true,
   "skip_h1_title": false,
   "title_cell": "Table of Contents",
   "title_sidebar": "Contents",
   "toc_cell": false,
   "toc_position": {
    "height": "calc(100% - 180px)",
    "left": "10px",
    "top": "150px",
    "width": "195.980182px"
   },
   "toc_section_display": true,
   "toc_window_display": true
  }
 },
 "nbformat": 4,
 "nbformat_minor": 2
}
