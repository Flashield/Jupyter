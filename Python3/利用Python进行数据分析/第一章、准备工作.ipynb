{
 "cells": [
  {
   "cell_type": "markdown",
   "metadata": {},
   "source": [
    "## 1.1　概述\n",
    "成为一个高效的数据分析师，专注于Python语言的编程、类库、工具而不是数据分析方法论。"
   ]
  },
  {
   "cell_type": "markdown",
   "metadata": {},
   "source": [
    "### 1.1.1　什么类型的数据\n",
    "主要的关注的是结构化数据，这个有意义的术语包含了众多常见的数据形式，例如：\n",
    "\n",
    "* 表格型的数据，每一列可能会包含不同的类型（字符串、数值、日期或其他）。这类数据包含了大部分类型的数据，它们通常存储在关系型数据库或者由制表符、逗号分隔的文本文件中。\n",
    "\n",
    "* 多维数组（矩阵）。\n",
    "\n",
    "* 由键位列关联的多张表数据（对于SQL用户来说就是主键或外键）。\n",
    "\n",
    "* 均匀或非均匀的时间序列。\n",
    "\n",
    "以上是一份大致完整的清单。很多数据集可以转换为一种更适合分析、建模的结构形式。如果不进行转换，从数据集中提取特征形成一种结构形式也是可行的。\n",
    "> 例如，一个新闻文章的数据集可以被处理为一个词频表，然后再用于情感分析。"
   ]
  },
  {
   "cell_type": "markdown",
   "metadata": {},
   "source": [
    "## 1.2　为何利用Python进行数据分析\n",
    "\n",
    "Python和Ruby从2005年之后格外流行，可以基于众多web框架，比如Rails（Ruby）和Django（Python）进行网站搭建。此类语言通常称为脚本语言，因为它们可以用于快速编写小型程序、脚本或对其他任务进行自动化。\n",
    "\n",
    "在解释型语言中，由于历史和文化上的原因，Python发展出了一个大型、活跃的科学计算及数据分析社区。在过去十年里，Python已经从一个最前沿或者说“后果自负”的科学计算语言，成为数据科学、机器学习和学术/工业界通用软件开发等领域最为重要的语言之一。\n",
    "\n",
    "在数据科学、交互式计算以及数据可视化等领域，Python经常被拿来和其他开源或商业编程语言、工具进行对比，比如R、MATLAB、SAS、Stata等。近些年，Python提高了对类库的支持（比如pandas和scikit-learn），使得它成为数据分析任务的一个流行选择。再综合考虑Python在通用软件工程上的总体实力，便成为搭建数据应用的首选语言。"
   ]
  },
  {
   "cell_type": "markdown",
   "metadata": {},
   "source": [
    "### 1.2.1　Python作为胶水\n",
    "Python在科学计算方面的成功部分是因为它很容易整合C、C++和FORTRAN等语言的代码。大部分现代计算环境都拥有相似的存量程序集，这些程序集使用FORTRAN和C的库进行线性代数、调优、积分、快速傅里叶变换等算法运算。很多公司和国家实验室都使用Python将过去数十年产生的存量软件黏合在一起。\n",
    "\n",
    "很多程序中包含了一小部分运行起来要花费大量时间的代码，而大量“胶水代码”却很少运行。很多情况下，胶水代码的执行时间可以忽略不计；精力应当更多地投入优化计算瓶颈的方面，有些时候需要将代码迁移到底层语言，比如C。"
   ]
  },
  {
   "cell_type": "markdown",
   "metadata": {},
   "source": [
    "### 1.2.2　解决“双语言”难题\n",
    "在许多组织中，通常会使用一种更特殊的计算语言，比如用SAS或R针对想法进行研究、原型实现和测试，之后再将这些想法迁移到用Java、C#或C++编写的大型生产环境上。逐渐地，人们发现Python不但更适用于研究和原型实现，也适合搭建生产系统。当一种语言可以满足需求时，为什么要维持两个开发环境呢？"
   ]
  },
  {
   "cell_type": "markdown",
   "metadata": {},
   "source": [
    "### 1.2.3　为何不使用Python\n",
    "虽然Python可以为很多分析应用和通用系统提供一个优秀环境，但仍然有一些场景用Python并不合适。\n",
    "\n",
    "由于Python是一个解释型语言，大多数情况下Python代码的运行效率会低于Java或C++等编译型语言。因为开发者时间通常比CPU时间更有价值，很多人就愉快地选择了使用Python。然而，当需要一款低延迟、高资源利用要求的应用时（例如高频交易系统），为了尽可能获得最高性能，在底层语言（也意味着更低的代码生产力）比如C++上花费编程时间将会更加值得。\n",
    "\n",
    "当搭建高并发、多线程应用，尤其是多CPU绑定线程时，使用Python则会成为一项挑战。原因在于Python拥有`全局解释器锁`（GIL），这是一种防止解释器同时执行多个Python指令的机制。在大数据处理应用中，计算机集群需要在合理时间内处理一个数据集，单进程多线程系统的场景仍然是有需求的。\n",
    "\n",
    "这并不是说Python无法执行真正的多线程、并行代码。Python的C语言拓展使用本地多线程（在C或C++中）以并行方式运行代码，而不受GIL的影响，因为这些拓展通常无须与Python对象交互。"
   ]
  },
  {
   "cell_type": "markdown",
   "metadata": {},
   "source": [
    "## 1.3　重要的Python库\n",
    "简要地介绍一部分重要的库。"
   ]
  },
  {
   "cell_type": "markdown",
   "metadata": {},
   "source": [
    "### 1.3.1　NumPy\n",
    "NumPy（http://numpy.org ）是Numerical Python的简写，是Python数值计算的基石。它提供多种数据结构、算法以及大部分涉及Python数值计算所需的接口。NumPy还包括其他内容：\n",
    "\n",
    "* 快速、高效的多维数组对象ndarray\n",
    "* 基于元素的数组计算或数组间数学操作函数\n",
    "* 用于读写硬盘中基于数组的数据集的工具\n",
    "* 线性代数操作、傅里叶变换以及随机数生成\n",
    "* 成熟的C语言API，允许Python拓展和本地的C或C++代码访问NumPy的数据结构和计算设施。\n",
    "\n",
    "除了NumPy赋予Python的快速数组处理能力之外，NumPy的另一个主要用途是在算法和库之间作为数据传递的数据容器。对于数值数据，NumPy数组能够比Python内建数据结构更为高效地存储和操作数据。此外，用底层语言编写的库，例如用C或Fortran编写的库，可以在NumPy数组存储的数据上直接操作，而无须将数据复制到其他内存中后再操作。因此，许多Python的数值计算工具将NumPy数组作为基础数据结构，或与NumPy进行无缝互操作。"
   ]
  },
  {
   "cell_type": "markdown",
   "metadata": {},
   "source": [
    "### 1.3.2　pandas\n",
    "pandas（http://pandas.pydata.org ）提供了高级数据结构和函数，这些数据结构和函数的设计使得利用结构化、表格化数据的工作快速、简单、有表现力。它出现于2010年，帮助Python成为强大、高效的数据分析环境。主要使用的pandas对象是DataFrame，它是用于实现表格化、面向列、使用行列标签的数据结构；以及Series，一种一维标签数组对象。\n",
    "\n",
    "pandas将表格和关系型数据库（例如SQL）的灵活数据操作能力与NumPy的高性能数组计算的理念相结合。提供复杂的索引函数，使得数据的重组、切块、切片、聚合、子集选择更为简单。由于数据操作、预处理、清洗在数据分析中是重要的技能，pandas将是重要主题。\n",
    "\n",
    "pandas最初被开发出来用于解决金融和商业分析问题，pandas尤其擅长深度时间序列和处理商业进程中产生的时间索引数据。"
   ]
  },
  {
   "cell_type": "markdown",
   "metadata": {},
   "source": [
    "### 1.3.3　matplotlib\n",
    "matplotlib（http://matplotlib.org ）是最流行的用于制图及其他二维数据可视化的Python库。matplotlib被设计为适合出版的制图工具。对于Python编程者来说也有其他可视化库，但matplotlib依然使用最为广泛，并且与生态系统的其他库良好整合。"
   ]
  },
  {
   "cell_type": "markdown",
   "metadata": {},
   "source": [
    "### 1.3.4　IPython与Jupyter\n",
    "IPython项目（http://ipython.org ）开始于2001年，由Fernando Pérez发起，旨在开发一个更具交互性的Python解释器。在过去的16年中，它成为Python数据技术栈中最重要的工具之一。它的设计侧重于在交互计算和软件开发两方面将生产力最大化。使用了一种执行-探索工作流来替代其他语言中典型的编辑-编译-运行工作流。它还提供针对操作系统命令行和文件系统的易用接口。由于数据分析编码工作包含大量的探索、试验、试错和遍历，IPython可以使你更快速地完成工作。\n",
    "\n",
    "2014年，Fernando和IPython团队发布了Jupyter项目（http://jupyter.org ）。Jupyter项目旨在设计一个适用于更多语言的交互式计算工具。IPython web notebook则成为Jupyter notebook，可以支持超过40种编程语言。IPython系统目前可以作为一个内核（一种编程语言模式）用于在Jupyter中使用Python。\n",
    "\n",
    "IPython自身已成为Jupyter开源项目中的一个组件，后者提供交互性、探索性的高效环境。IPtyhon最古老、最简单的“模式”就是一个加强版的Python命令行，用于提高编写、测试、调试Python代码的速度。也可以通过基于Web、支持多语言的代码“笔记本”——Jupyter Notebook来使用IPython系统。IPython命令行和Jupyter notebook对于数据探索和可视化非常有用。\n",
    "\n",
    "Jupyter notebook系统允许使用Markdown和HTML创建包含代码和文本的富文档。其他编程语言也针对Jupyter实现了内核，允许在Jupyter中使用多种语言而不仅仅是Python。"
   ]
  },
  {
   "cell_type": "markdown",
   "metadata": {},
   "source": [
    "### 1.3.5　SciPy\n",
    "SciPy（http://scipy.org ）是科学计算领域针对不同标准问题域的包集合。以下是SciPy中包含的一些包：\n",
    "\n",
    "scipy.integrate: 数值积分例程和微分方程求解器\n",
    "\n",
    "scipy.linalg: 线性代数例程和基于numpy.linalg的矩阵分解\n",
    "\n",
    "scipy.optimize: 函数优化器（最小化器）和求根算法\n",
    "\n",
    "scipy.signal: 信号处理工具\n",
    "\n",
    "scipy.sparse: 稀疏矩阵与稀疏线性系统求解器\n",
    "\n",
    "scipy.special: SPECFUN的包装器。SPECFUN是Fortran语言下实现通用数据函数的包，例如gamma函数。\n",
    "\n",
    "scipy.stats: 标准的连续和离散概率分布（密度函数、采样器、连续分布函数）、各类统计测试、各类描述性统计。\n",
    "\n",
    "SciPy与NumPy一起为很多传统科学计算应用提供了一个合理、完整、成熟的计算基础。"
   ]
  },
  {
   "cell_type": "markdown",
   "metadata": {},
   "source": [
    "### 1.3.6　scikit-learn\n",
    "scikit-learn项目（http://scikit-learn.org ）诞生于2010年，目前已成为Python编程者首选的机器学习工具包。仅仅七年，scikit-learn就拥有了全世界1500位代码贡献者。其中包含以下子模块。\n",
    "\n",
    "* 分类：SVM、最近邻、随机森林、逻辑回归等\n",
    "* 回归：Lasso、岭回归等\n",
    "* 聚类：k-means、谱聚类等\n",
    "* 降维：PCA、特征选择、矩阵分解等\n",
    "* 模型选择：网格搜索、交叉验证、指标矩阵\n",
    "* 预处理：特征提取、正态化\n",
    "\n",
    "scikit-learn与pandas、statsmodels、IPython一起使Python成了高效的数据科学编程语言。"
   ]
  },
  {
   "cell_type": "markdown",
   "metadata": {},
   "source": [
    "### 1.3.7　statsmodels\n",
    "statsmodels（http://statsmodels.org ）是一个统计分析包。它源自斯坦福大学统计学教授Jonathan Taylor利用R语言实现的各类分析模型。Skipper Seabold和Josef Perktold早在2010年便创建了新的statsmodels项目。自那之后该项目迅速成长，拥有大量活跃用户和贡献者者。Nathaniel Smith开发了Patsy项目，为R语言公式系统所驱动的statsmodels包提供公式、模型规范框架。\n",
    "\n",
    "与scikit-learn相比，statsmodels包含经典的（高频词汇）统计学、经济学算法。它所包含的模型如下。\n",
    "\n",
    "* 回归模型：线性回归、通用线性模型、鲁棒线性模型、线性混合效应模型等\n",
    "* 方差分析（ANOVA）\n",
    "* 时间序列分析：AR、ARMA、ARIMA、VAR等模型\n",
    "* 非参数方法：核密度估计、核回归\n",
    "* 统计模型结果可视化\n",
    "\n",
    "statsmodels更专注于统计推理，提供不确定性评价和p值参数。相反，scikit-learn更专注于预测。"
   ]
  },
  {
   "cell_type": "markdown",
   "metadata": {},
   "source": [
    "## 1.4　安装与设置\n",
    "均使用anaconda。\n",
    "### 1.4.1　Windows\n",
    "### 1.4.2　Apple（OS X和macOS）\n",
    "### 1.4.3　GNU/Linux"
   ]
  },
  {
   "cell_type": "markdown",
   "metadata": {},
   "source": [
    "### 1.4.4　安装及更新Python包\n",
    "```sh\n",
    "conda install package_name\n",
    "conda update package_name\n",
    "```\n",
    "> 当同时使用conda和pip进行包安装时，请不要尝试使用pip更新conda安装的包，否则可能会导致环境问题。当使用Anaconda或者Miniconda时，最好还是使用conda进行更新。"
   ]
  },
  {
   "cell_type": "markdown",
   "metadata": {},
   "source": [
    "### 1.4.5　Python 2和Python 3\n",
    "Python 3.x的第一个版本发布于2008年年底。它包含了大量与Python 2.x代码不兼容的变更。因为距离Python在1991年第一次发布已经过去了17年，鉴于长期以来的经验教训，创造一个“震撼”的Python 3版本是极好的。\n",
    "\n",
    "2012年，大部分科学数据分析社区仍然在使用Python 2.x，因为当时很多包并没有完全兼容Python 3。现如今，用户可以根据喜好在Python 2.x和Python 3.x进行选择，因为基本上两个版本都有全量的库支持。\n",
    "\n",
    "然而，Python 2.x在2020年结束开发周期（包括重要安全补丁），所以在Python 2.7下创建新项目并不是个好主意。因此使用Python 3.6，该稳定版部署更为广泛、支持更为友好。"
   ]
  },
  {
   "cell_type": "markdown",
   "metadata": {},
   "source": [
    "### 1.4.6　集成开发环境和文本编辑器\n",
    "在IPython或Jupyter notebook中写一段代码，然后迭代测试、调试。这种方式有助于在交互情况下操作数据，并可以通过肉眼确认特定数据集是否做了正确的事。像pandas和NumPy库都被设计为适合在命令行下使用。\n",
    "\n",
    "然而，当开发软件时，一些用户可能倾向于使用功能更为丰富的集成开发环境（IDE），而不是功能相对简单的文本编辑器比如Emacs或Vim。下面介绍一些IDE：\n",
    "\n",
    "* PyDev（免费），基于Eclipse平台的IDE\n",
    "* PyCharm，Jetbrains公司开发（对商业用户收费，对开源用户免费）\n",
    "* Python Tools for Visual Studio（适合Windows用户）\n",
    "* Spyder（免费），Anaconda集成的IDE\n",
    "* Komodo IDE（收费）\n",
    "\n",
    "由于Python十分流行，大多数文本编辑器，比如Atom和Sublime Text 2都对Python有较好的支持。"
   ]
  },
  {
   "cell_type": "markdown",
   "metadata": {},
   "source": [
    "## 1.5　社区和会议\n",
    "除了网络搜索，科学、数据相关的Python邮件列表对于解决问题也非常有帮助。可以看看下列邮件列表：\n",
    "\n",
    "* pydata：与数据分析和pandas相关的谷歌群组列表\n",
    "* pystatsmodels：与statsmodels和pandas相关的问题\n",
    "* scikit-learn邮件列表（scikit-learn@python.org）以及Python机器学习相关内容\n",
    "* numpy-discussion：NumPy相关问题\n",
    "* scipy-user：与SciPy或科学相关的Python问题"
   ]
  },
  {
   "cell_type": "markdown",
   "metadata": {},
   "source": [
    "## 1.6　快速浏览\n",
    "尽管可能会有很多不同的工作目的，但工作任务大体上会分为以下几个部分:\n",
    "\n",
    "1. 与外部世界交互\n",
    "2. 读写各种格式的文件以及数据存储\n",
    "3. 准备\n",
    "4. 对分析数据进行清洗、处理、联合、正态化、重组、切片、切块和转换\n",
    "5. 转换\n",
    "6. 将数学或统计操作应用到数据集的分组上以产生新的数据集（例如通过分组参数对一张大表进行聚合）\n",
    "7. 建模和计算\n",
    "8. 将数据接入到统计模型、机器学习算法和其他计算工具上\n",
    "9. 演示\n",
    "10. 创建动态或静态的图形可视化或文字概述"
   ]
  },
  {
   "cell_type": "markdown",
   "metadata": {},
   "source": [
    "### 1.6.1　代码示例\n",
    "### 1.6.2　示例数据"
   ]
  },
  {
   "cell_type": "markdown",
   "metadata": {},
   "source": [
    "### 1.6.3　导入约定"
   ]
  },
  {
   "cell_type": "code",
   "execution_count": 1,
   "metadata": {},
   "outputs": [],
   "source": [
    "import numpy as np\n",
    "import matplotlib.pyplot as plt\n",
    "import pandas as pd\n",
    "import seaborn as sns\n",
    "import statsmodels as sm"
   ]
  },
  {
   "cell_type": "markdown",
   "metadata": {},
   "source": [
    "### 1.6.4　术语\n",
    "编程和数据科学中的一些术语，以下是一些简单的定义。\n",
    "\n",
    "* 处理/处置/规整（munge/munging/wrangling）: 描述的是将非结构化或者同时又很凌乱的数据整理成结构化、清晰形式的整个过程。时下，这个词在很多数据骇客中流传。在英文中，“Munge”（处理）和“grunge”（垃圾）谐音。\n",
    "\n",
    "* 伪代码: 用一种类似代码的形式描述算法或者过程，而事实上又不是实际有效的源代码。\n",
    "\n",
    "* 语法糖: 并不增加新特性，但便利于代码编写的编程语法。"
   ]
  }
 ],
 "metadata": {
  "kernelspec": {
   "display_name": "Python 3",
   "language": "python",
   "name": "python3"
  },
  "language_info": {
   "codemirror_mode": {
    "name": "ipython",
    "version": 3
   },
   "file_extension": ".py",
   "mimetype": "text/x-python",
   "name": "python",
   "nbconvert_exporter": "python",
   "pygments_lexer": "ipython3",
   "version": "3.6.9"
  },
  "toc": {
   "base_numbering": 1,
   "nav_menu": {},
   "number_sections": false,
   "sideBar": true,
   "skip_h1_title": false,
   "title_cell": "Table of Contents",
   "title_sidebar": "Contents",
   "toc_cell": false,
   "toc_position": {},
   "toc_section_display": true,
   "toc_window_display": true
  }
 },
 "nbformat": 4,
 "nbformat_minor": 2
}
