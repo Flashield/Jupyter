{
 "cells": [
  {
   "cell_type": "markdown",
   "metadata": {},
   "source": [
    "编程时经常需要检查一系列条件，并据此决定采取什么措施。在Python中，if 语句让你能够检查程序的当前状态，并据此采取相应的措施。"
   ]
  },
  {
   "cell_type": "markdown",
   "metadata": {},
   "source": [
    "## 5.1　一个简单示例"
   ]
  },
  {
   "cell_type": "code",
   "execution_count": 1,
   "metadata": {},
   "outputs": [
    {
     "name": "stdout",
     "output_type": "stream",
     "text": [
      "Audi\n",
      "BMW\n",
      "Subaru\n",
      "Toyota\n"
     ]
    }
   ],
   "source": [
    "cars = ['audi', 'bmw', 'subaru', 'toyota']\n",
    "\n",
    "for car in cars:\n",
    "    if car == 'bmw':\n",
    "        print(car.upper())  #对于汽车名'bmw' ，以全大写的方式打印\n",
    "    else:\n",
    "        print(car.title())  #其他的汽车以首字母大写的方式打印"
   ]
  },
  {
   "cell_type": "markdown",
   "metadata": {},
   "source": [
    "## 5.2　条件测试\n",
    "每条if语句的核心都是一个值为True或False的表达式，这种表达式被称为`条件测试`。\n",
    "\n",
    "Python根据条件测试的值为True还是False来决定是否执行if语句中的代码。如果条件测试的值为True，Python就执行紧跟在if语句后面的代码；如果为False，Python就忽略这些代码。"
   ]
  },
  {
   "cell_type": "markdown",
   "metadata": {},
   "source": [
    "### 5.2.1 检查是否相等\n",
    "首先使用一个等号将car 的值设置为'bmw'。接下来，使用两个等号（==）检查car 的值是否为'bmw'。这个相等运算符在它两边的值相等时返回True ，否则返回False 。两边的值相等，因此Python返回True 。如果变量car的值不是'audi'，测试将返回False。"
   ]
  },
  {
   "cell_type": "code",
   "execution_count": 2,
   "metadata": {},
   "outputs": [
    {
     "name": "stdout",
     "output_type": "stream",
     "text": [
      "True\n"
     ]
    }
   ],
   "source": [
    "car = 'bmw'\n",
    "print(car == 'bmw')"
   ]
  },
  {
   "cell_type": "code",
   "execution_count": 3,
   "metadata": {},
   "outputs": [
    {
     "name": "stdout",
     "output_type": "stream",
     "text": [
      "False\n"
     ]
    }
   ],
   "source": [
    "print(car == 'audi')"
   ]
  },
  {
   "cell_type": "markdown",
   "metadata": {},
   "source": [
    "### 5.2.2　检查是否相等时不考虑大小写\n",
    "在Python中检查是否相等时区分大小写，如果大小写很重要，这种行为有其优点；但如果大小写无关紧要，而只想检查变量的值，可将变量的值转换为小写或大写，再进行比较。\n",
    "> 函数lower() 不会修改存储在变量car 中的值，因此进行这样的比较时不会影响原来的变量。"
   ]
  },
  {
   "cell_type": "code",
   "execution_count": 4,
   "metadata": {},
   "outputs": [
    {
     "name": "stdout",
     "output_type": "stream",
     "text": [
      "False\n",
      "True\n",
      "True\n"
     ]
    }
   ],
   "source": [
    "car = 'Audi'\n",
    "print(car == 'audi')\n",
    "print(car.lower() == 'audi'.lower())\n",
    "print(car.upper() == 'audi'.upper())"
   ]
  },
  {
   "cell_type": "markdown",
   "metadata": {},
   "source": [
    "### 5.2.3　检查是否不相等\n",
    "要判断两个值是否不等，可结合使用惊叹号和等号（!= ），其中的惊叹号表示不，在很多编程语言中都如此。"
   ]
  },
  {
   "cell_type": "code",
   "execution_count": 5,
   "metadata": {},
   "outputs": [
    {
     "name": "stdout",
     "output_type": "stream",
     "text": [
      "Hold the anchovies!\n"
     ]
    }
   ],
   "source": [
    "requested_topping = 'mushrooms'\n",
    "if requested_topping != 'anchovies':\n",
    "    print(\"Hold the anchovies!\")"
   ]
  },
  {
   "cell_type": "markdown",
   "metadata": {},
   "source": [
    "### 5.2.4　比较数字\n",
    "条件语句中可包含各种数学比较，如小于(<)、小于等于(<=)、大于(>)、大于等于(>=)。"
   ]
  },
  {
   "cell_type": "code",
   "execution_count": 6,
   "metadata": {},
   "outputs": [
    {
     "name": "stdout",
     "output_type": "stream",
     "text": [
      "True\n"
     ]
    }
   ],
   "source": [
    "age = 18\n",
    "print(age == 18)"
   ]
  },
  {
   "cell_type": "code",
   "execution_count": 7,
   "metadata": {},
   "outputs": [
    {
     "name": "stdout",
     "output_type": "stream",
     "text": [
      "That is not the correct answer. Please try again!\n"
     ]
    }
   ],
   "source": [
    "answer = 17\n",
    "if answer != 42:\n",
    "    print(\"That is not the correct answer. Please try again!\")"
   ]
  },
  {
   "cell_type": "code",
   "execution_count": 8,
   "metadata": {},
   "outputs": [
    {
     "name": "stdout",
     "output_type": "stream",
     "text": [
      "False\n",
      "True\n",
      "False\n",
      "True\n"
     ]
    }
   ],
   "source": [
    "age = 21\n",
    "print(age < 21)\n",
    "print(age <= 21)\n",
    "print(age > 21)\n",
    "print(age >= 21)"
   ]
  },
  {
   "cell_type": "markdown",
   "metadata": {},
   "source": [
    "### 5.2.5　检查多个条件\n",
    "\n",
    "1. 使用and 检查多个条件\n",
    "\n",
    "要检查是否两个条件都为True，可使用关键字and将两个条件测试合而为一；如果每个测试都通过了，整个表达式就为True；如果至少有一个测试没有通过，整个表达式就为False。\n",
    "> 为改善可读性，可将每个测试都分别放在一对括号内，但并非必须这样做。"
   ]
  },
  {
   "cell_type": "code",
   "execution_count": 9,
   "metadata": {},
   "outputs": [
    {
     "name": "stdout",
     "output_type": "stream",
     "text": [
      "False\n",
      "False\n",
      "True\n",
      "True\n"
     ]
    }
   ],
   "source": [
    "age_0 = 22\n",
    "age_1 = 18\n",
    "print(age_0 >= 21 and age_1 >= 21)\n",
    "print((age_0 >= 21) & (age_1 >= 21))\n",
    "age_1 = 22\n",
    "print(age_0 >= 21 and age_1 >= 21)\n",
    "print((age_0 >= 21) and (age_1 >= 21))"
   ]
  },
  {
   "cell_type": "markdown",
   "metadata": {},
   "source": [
    "2. 使用or 检查多个条件\n",
    "\n",
    "关键字or也能够检查多个条件，但只要至少有一个条件满足，就能通过整个测试。仅当两个测试都没有通过时，使用or的表达式才为False 。\n",
    "\n",
    "> 另注意，类似与C,|和&分别表示or和and。但是尤其要注意运算的优先级。"
   ]
  },
  {
   "cell_type": "code",
   "execution_count": 10,
   "metadata": {},
   "outputs": [
    {
     "name": "stdout",
     "output_type": "stream",
     "text": [
      "True\n",
      "True\n",
      "False\n",
      "False\n",
      "False\n"
     ]
    }
   ],
   "source": [
    "age_0 = 22\n",
    "age_1 = 18\n",
    "print(age_0 >= 21 or age_1 >= 21)\n",
    "print((age_0 >= 21) | (age_1 >= 21))\n",
    "print(age_0 >= 21 | age_1 >= 21)\n",
    "age_0 = 18\n",
    "print(age_0 >= 21 or age_1 >= 21)\n",
    "print((age_0 >= 21) | (age_1 >= 21))"
   ]
  },
  {
   "cell_type": "markdown",
   "metadata": {},
   "source": [
    "### 5.2.6　检查特定值是否包含在列表中\n",
    "要判断特定的值是否已包含在列表中，可使用关键字in。"
   ]
  },
  {
   "cell_type": "code",
   "execution_count": 11,
   "metadata": {},
   "outputs": [
    {
     "name": "stdout",
     "output_type": "stream",
     "text": [
      "True\n",
      "False\n"
     ]
    }
   ],
   "source": [
    "requested_toppings = ['mushrooms', 'onions', 'pineapple']\n",
    "print('mushrooms' in requested_toppings)\n",
    "print('pepperoni' in requested_toppings)"
   ]
  },
  {
   "cell_type": "markdown",
   "metadata": {},
   "source": [
    "### 5.2.7　检查特定值是否不包含在列表中\n",
    "确定特定的值未包含在列表中很重要；在这种情况下，可使用关键字not in。"
   ]
  },
  {
   "cell_type": "code",
   "execution_count": 12,
   "metadata": {},
   "outputs": [
    {
     "name": "stdout",
     "output_type": "stream",
     "text": [
      "Marie, you can post a response if you wish.\n"
     ]
    }
   ],
   "source": [
    "banned_users = ['andrew', 'carolina', 'david']\n",
    "user = 'marie'\n",
    "if user not in banned_users:\n",
    "    print(user.title() + \", you can post a response if you wish.\")"
   ]
  },
  {
   "cell_type": "markdown",
   "metadata": {},
   "source": [
    "### 5.2.8　布尔表达式\n",
    "布尔表达式不过是条件测试的别名。与条件表达式一样，布尔表达式的结果要么为True，要么为False。布尔值通常用于记录条件。"
   ]
  },
  {
   "cell_type": "code",
   "execution_count": 13,
   "metadata": {},
   "outputs": [
    {
     "name": "stdout",
     "output_type": "stream",
     "text": [
      "True False\n"
     ]
    }
   ],
   "source": [
    "game_active = True\n",
    "can_edit = False\n",
    "print(game_active, can_edit)"
   ]
  },
  {
   "cell_type": "markdown",
   "metadata": {},
   "source": [
    "**练习：**\n",
    "5-1 条件测试 ：编写一系列条件测试；将每个测试以及你对其结果的预测和实际结果都打印出来。\n",
    "\n",
    "详细研究实际结果，直到你明白了它为何为True 或False 。\n",
    "\n",
    "创建至少10个测试，且其中结果分别为True 和False 的测试都至少有5个。\n",
    "\n",
    "5-2 更多的条件测试 ：你并非只能创建10个测试。如果你想尝试做更多的比较，可再编写一些测试，并将它们加入到conditional_tests.py中。对于下面列出的各种测试，至少编写一个结果为True 和False 的测试。\n",
    "\n",
    "检查两个字符串相等和不等。\n",
    "\n",
    "使用函数lower()的测试。\n",
    "\n",
    "检查两个数字相等、不等、大于、小于、大于等于和小于等于。\n",
    "\n",
    "使用关键字and 和or 的测试。\n",
    "\n",
    "测试特定的值是否包含在列表中。\n",
    "\n",
    "测试特定的值是否未包含在列表中。"
   ]
  },
  {
   "cell_type": "code",
   "execution_count": 14,
   "metadata": {},
   "outputs": [
    {
     "name": "stdout",
     "output_type": "stream",
     "text": [
      "-----5-1-----\n",
      "Is car == 'subaru'? I predict True. Actually it's True\n",
      "Is car == 'audi'? I predict False. Actually it's False\n",
      "Is number == 44? I predict True. Actually it's False\n",
      "Is number == 55? I predict False. Actually it's True\n",
      "-----5-2-----\n",
      "False True\n",
      "True False\n",
      "False True False True True False\n",
      "False\n",
      "True\n",
      "False\n",
      "False\n"
     ]
    }
   ],
   "source": [
    "# 5-1\n",
    "print('-----5-1-----')\n",
    "car = 'subaru'\n",
    "print(\"Is car == 'subaru'? I predict True. Actually it's {}\".format(car == 'subaru'))\n",
    "print(\"Is car == 'audi'? I predict False. Actually it's {}\".format(car == 'audi'))\n",
    "number = 55\n",
    "print(\"Is number == 44? I predict True. Actually it's {}\".format(number == 44))\n",
    "print(\"Is number == 55? I predict False. Actually it's {}\".format(number == 55))\n",
    "# 5-2\n",
    "print('-----5-2-----')\n",
    "string_1 = 'string_1'\n",
    "string_2 = 'String_1'\n",
    "print(string_1 == string_2, string_1 != string_2)\n",
    "print(string_1.lower() == string_2.lower(), string_1.lower() != string_2.lower())\n",
    "number_1 = 55\n",
    "number_2 = 66\n",
    "print(number_1 == number_2, number_1 != number_2, number_1 > number_2, number_1 < number_2, \\\n",
    "     number_1 <= number_2, number_1 >= number_2)\n",
    "print(string_1 == string_2 and number_1 != number_2)\n",
    "print(string_1 != string_2 or number_1 <= number_2)\n",
    "numbers = [1,2,3,4,5,6,7,8,10]\n",
    "print(9 in numbers)\n",
    "print(8 not in numbers)"
   ]
  },
  {
   "cell_type": "markdown",
   "metadata": {},
   "source": [
    "## 5.3　if 语句\n",
    "### 5.3.1　简单的if 语句\n",
    "最简单的if语句只有一个测试和一个操作。"
   ]
  },
  {
   "cell_type": "code",
   "execution_count": 15,
   "metadata": {},
   "outputs": [
    {
     "name": "stdout",
     "output_type": "stream",
     "text": [
      "You are old enough to vote!\n"
     ]
    }
   ],
   "source": [
    "age = 19\n",
    "if age >= 18:\n",
    "    print(\"You are old enough to vote!\")"
   ]
  },
  {
   "cell_type": "markdown",
   "metadata": {},
   "source": [
    "在if语句中，缩进的作用与for循环中相同。如果测试通过了，将执行if语句后面所有缩进的代码行，否则将忽略它们。\n",
    "\n",
    "在紧跟在if语句后面的代码块中，可根据需要包含任意数量的代码行。"
   ]
  },
  {
   "cell_type": "code",
   "execution_count": 16,
   "metadata": {},
   "outputs": [
    {
     "name": "stdout",
     "output_type": "stream",
     "text": [
      "You are old enough to vote!\n",
      "Have you registered to vote yet?\n"
     ]
    }
   ],
   "source": [
    "age = 19\n",
    "if age >= 18:\n",
    "    print(\"You are old enough to vote!\")\n",
    "    print(\"Have you registered to vote yet?\")"
   ]
  },
  {
   "cell_type": "markdown",
   "metadata": {},
   "source": [
    "### 5.3.2　if-else 语句\n",
    "经常需要在条件测试通过了时执行一个操作，并在没有通过时执行另一个操作；在这种情况下，可使用Python提供的if-else语句。\n",
    "\n",
    "if-else语句块类似于简单的if语句，但其中的else 语句让你能够指定条件测试未通过时要执行的操作。\n",
    "\n",
    "if-else 结构非常适合用于要让Python执行两种操作之一的情形。在这种简单的if-else 结构中，总是会执行两个操作中的一个。"
   ]
  },
  {
   "cell_type": "code",
   "execution_count": 17,
   "metadata": {},
   "outputs": [
    {
     "name": "stdout",
     "output_type": "stream",
     "text": [
      "Sorry, you are too young to vote.\n",
      "Please register to vote as soon as you turn 18!\n"
     ]
    }
   ],
   "source": [
    "age = 17\n",
    "if age >= 18:\n",
    "    print(\"You are old enough to vote!\")\n",
    "    print(\"Have you registered to vote yet?\")\n",
    "else:\n",
    "    print(\"Sorry, you are too young to vote.\")\n",
    "    print(\"Please register to vote as soon as you turn 18!\")"
   ]
  },
  {
   "cell_type": "markdown",
   "metadata": {},
   "source": [
    "### 5.3.3　if-elif-else 结构\n",
    "经常需要检查超过两个的情形，为此可使用Python提供的if-elif-else 结构。\n",
    "\n",
    "Python只执行if-elif-else 结构中的一个代码块，它依次检查每个条件测试，直到遇到通过了的条件测试。测试通过后，Python将执行紧跟在它后面的代码，并跳过余下的测试。"
   ]
  },
  {
   "cell_type": "code",
   "execution_count": 18,
   "metadata": {},
   "outputs": [
    {
     "name": "stdout",
     "output_type": "stream",
     "text": [
      "Your admission cost is $5.\n"
     ]
    }
   ],
   "source": [
    "age = 12\n",
    "\n",
    "if age < 4:\n",
    "    print(\"Your admission cost is $0.\")\n",
    "elif age < 18:\n",
    "    print(\"Your admission cost is $5.\")\n",
    "else:\n",
    "    print(\"Your admission cost is $10.\")"
   ]
  },
  {
   "cell_type": "code",
   "execution_count": 19,
   "metadata": {},
   "outputs": [
    {
     "name": "stdout",
     "output_type": "stream",
     "text": [
      "Your admission cost is $5.\n"
     ]
    }
   ],
   "source": [
    "age = 12\n",
    "\n",
    "if age < 4:\n",
    "    price = 0\n",
    "elif age < 18:\n",
    "    price = 5\n",
    "else:\n",
    "    price = 10\n",
    "\n",
    "print(\"Your admission cost is ${}.\".format(price))"
   ]
  },
  {
   "cell_type": "markdown",
   "metadata": {},
   "source": [
    "### 5.3.4　使用多个elif 代码块\n",
    "可根据需要使用任意数量的elif代码块。"
   ]
  },
  {
   "cell_type": "code",
   "execution_count": 20,
   "metadata": {},
   "outputs": [
    {
     "name": "stdout",
     "output_type": "stream",
     "text": [
      "Your admission cost is $3.\n"
     ]
    }
   ],
   "source": [
    "age = 66\n",
    "\n",
    "if age < 4:\n",
    "    price = 0\n",
    "elif age < 18:\n",
    "    price = 5\n",
    "elif age < 65:\n",
    "    price = 10\n",
    "else:\n",
    "    price = 3\n",
    "    \n",
    "print(\"Your admission cost is ${}.\".format(price))"
   ]
  },
  {
   "cell_type": "markdown",
   "metadata": {},
   "source": [
    "### 5.3.5　省略else 代码块\n",
    "Python并不要求if-elif结构后面必须有else代码块。在有些情况下，else代码块很有用；而在其他一些情况下，使用一条elif语句来处理特定的情形更清晰。\n",
    "\n",
    "> else 是一条包罗万象的语句，只要不满足任何if或elif中的条件测试，其中的代码就会执行，这可能会引入无效甚至恶意的数据。如果知道最终要测试的条件，应考虑使用一个elif代码块来代替else代码块。这样就可以肯定，仅当满足相应的条件时，代码才会执行。"
   ]
  },
  {
   "cell_type": "code",
   "execution_count": 21,
   "metadata": {},
   "outputs": [
    {
     "name": "stdout",
     "output_type": "stream",
     "text": [
      "Your admission cost is $5.\n"
     ]
    }
   ],
   "source": [
    "age = 12\n",
    "\n",
    "if age < 4:\n",
    "    price = 0\n",
    "elif age < 18:\n",
    "    price = 5\n",
    "elif age < 65:\n",
    "    price = 10\n",
    "elif age >= 65:\n",
    "    price = 3\n",
    "    \n",
    "print(\"Your admission cost is ${}.\".format(price))"
   ]
  },
  {
   "cell_type": "markdown",
   "metadata": {},
   "source": [
    "### 5.3.6　测试多个条件\n",
    "\n",
    "if-elif-else 结构功能强大，但仅适合用于只有一个条件满足的情况：遇到通过了的测试后，Python就跳过余下的测试。这种行为很好，效率很高，让你能够测试一个特定的条件。\n",
    "\n",
    "然而，有时候必须检查你关心的所有条件。在这种情况下，应使用一系列不包含elif和else代码块的简单if语句。在可能有多个条件为True，且你需要在每个条件为True时都采取相应措施时，适合使用这种方法。"
   ]
  },
  {
   "cell_type": "code",
   "execution_count": 22,
   "metadata": {},
   "outputs": [
    {
     "name": "stdout",
     "output_type": "stream",
     "text": [
      "Adding mushrooms.\n",
      "Adding extra cheese.\n",
      "\n",
      "Finished making your pizza!\n"
     ]
    }
   ],
   "source": [
    "requested_toppings = ['mushrooms', 'extra cheese']\n",
    "\n",
    "if 'mushrooms' in requested_toppings:\n",
    "    print(\"Adding mushrooms.\")\n",
    "if 'pepperoni' in requested_toppings:\n",
    "    print(\"Adding pepperoni.\")\n",
    "if 'extra cheese' in requested_toppings:\n",
    "    print(\"Adding extra cheese.\")\n",
    "\n",
    "print(\"\\nFinished making your pizza!\")"
   ]
  },
  {
   "cell_type": "code",
   "execution_count": 23,
   "metadata": {},
   "outputs": [
    {
     "name": "stdout",
     "output_type": "stream",
     "text": [
      "Adding mushrooms.\n",
      "\n",
      "Finished making your pizza!\n"
     ]
    }
   ],
   "source": [
    "requested_toppings = ['mushrooms', 'extra cheese']\n",
    "\n",
    "if 'mushrooms' in requested_toppings:\n",
    "    print(\"Adding mushrooms.\")\n",
    "elif 'pepperoni' in requested_toppings:\n",
    "    print(\"Adding pepperoni.\")\n",
    "elif 'extra cheese' in requested_toppings:\n",
    "    print(\"Adding extra cheese.\")\n",
    "\n",
    "print(\"\\nFinished making your pizza!\")"
   ]
  },
  {
   "cell_type": "markdown",
   "metadata": {},
   "source": [
    "如果你只想执行一个代码块，就使用if-elif-else 结构；如果要运行多个代码块，就使用一系列独立的if 语句。"
   ]
  },
  {
   "cell_type": "markdown",
   "metadata": {},
   "source": [
    "**练习：**\n",
    "5-3 外星人颜色#1 ：假设在游戏中刚射杀了一个外星人，请创建一个名为alien_color 的变量，并将其设置为'green' 、'yellow' 或'red' 。\n",
    "\n",
    "编写一条if 语句，检查外星人是否是绿色的；如果是，就打印一条消息，指出玩家获得了5个点。\n",
    "\n",
    "编写这个程序的两个版本，在一个版本中上述测试通过了，而在另一个版本中未通过（未通过测试时没有输出）。\n",
    "\n",
    "5-4 外星人颜色#2 ：像练习5-3那样设置外星人的颜色，并编写一个if-else 结构。\n",
    "\n",
    "如果外星人是绿色的，就打印一条消息，指出玩家因射杀该外星人获得了5个点。\n",
    "\n",
    "如果外星人不是绿色的，就打印一条消息，指出玩家获得了10个点。\n",
    "\n",
    "编写这个程序的两个版本，在一个版本中执行if 代码块，而在另一个版本中执行else 代码块。\n",
    "\n",
    "5-5 外星人颜色#3 ：将练习5-4中的if-else 结构改为if-elif-else 结构。\n",
    "\n",
    "如果外星人是绿色的，就打印一条消息，指出玩家获得了5个点。\n",
    "\n",
    "如果外星人是黄色的，就打印一条消息，指出玩家获得了10个点。\n",
    "\n",
    "如果外星人是红色的，就打印一条消息，指出玩家获得了15个点。\n",
    "\n",
    "编写这个程序的三个版本，它们分别在外星人为绿色、黄色和红色时打印一条消息。\n",
    "\n",
    "5-6 人生的不同阶段 ：设置变量age 的值，再编写一个if-elif-else 结构，根据age 的值判断处于人生的哪个阶段。\n",
    "\n",
    "如果一个人的年龄小于2岁，就打印一条消息，指出他是婴儿。\n",
    "\n",
    "如果一个人的年龄为2（含）～4岁，就打印一条消息，指出他正蹒跚学步。\n",
    "\n",
    "如果一个人的年龄为4（含）～13岁，就打印一条消息，指出他是儿童。\n",
    "\n",
    "如果一个人的年龄为13（含）～20岁，就打印一条消息，指出他是青少年。\n",
    "\n",
    "如果一个人的年龄为20（含）～65岁，就打印一条消息，指出他是成年人。\n",
    "\n",
    "如果一个人的年龄超过65（含）岁，就打印一条消息，指出他是老年人。\n",
    "\n",
    "5-7 喜欢的水果 ：创建一个列表，其中包含你喜欢的水果，再编写一系列独立的if 语句，检查列表中是否包含特定的水果。\n",
    "\n",
    "将该列表命名为favorite_fruits ，并在其中包含三种水果。\n",
    "\n",
    "编写5条if 语句，每条都检查某种水果是否包含在列表中，如果包含在列表中，就打印一条消息，如“You really like bananas!”。"
   ]
  },
  {
   "cell_type": "code",
   "execution_count": 24,
   "metadata": {},
   "outputs": [
    {
     "name": "stdout",
     "output_type": "stream",
     "text": [
      "-----5-3-----\n",
      "Player gets 5 points.\n",
      "-----5-4-----\n",
      "Player gets 10 points.\n",
      "-----5-5-----\n",
      "Player gets 15 points.\n",
      "-----5-6-----\n",
      "38 years old is adult\n",
      "-----5-7-----\n",
      "You really like bananas!\n"
     ]
    }
   ],
   "source": [
    "# 5-3\n",
    "print(\"-----5-3-----\")\n",
    "alien_color = 'green'\n",
    "if alien_color == 'green':\n",
    "    print(\"Player gets 5 points.\")\n",
    "alien_color = 'red'\n",
    "if alien_color == 'green':\n",
    "    print(\"Player gets 5 points.\")\n",
    "# 5-4\n",
    "print(\"-----5-4-----\")\n",
    "if alien_color == 'green':\n",
    "    score = 5\n",
    "else:\n",
    "    score = 10\n",
    "print(\"Player gets {} points.\".format(score))\n",
    "# 5-5\n",
    "print(\"-----5-5-----\")\n",
    "if alien_color == \"green\":\n",
    "    score = 5\n",
    "elif alien_color == \"yellow\":\n",
    "    score = 10\n",
    "else:\n",
    "    score = 15\n",
    "print(\"Player gets {} points.\".format(score))\n",
    "# 5-6\n",
    "print(\"-----5-6-----\")\n",
    "age = 38\n",
    "if age < 2:\n",
    "    status = \"infant\"\n",
    "elif age < 4:\n",
    "    status = \"baby\"\n",
    "elif age < 13:\n",
    "    status = \"child\"\n",
    "elif age < 20:\n",
    "    status = \"teenage\"\n",
    "elif age < 65:\n",
    "    status = \"adult\"\n",
    "elif age >= 65:\n",
    "    status = \"aged\"\n",
    "print(\"{} years old is {}\".format(age, status))\n",
    "# 5-7\n",
    "print(\"-----5-7-----\")\n",
    "favorite_fruits = [\"bananas\", \"apples\", \"cherries\", \"oranges\"]\n",
    "fruit = \"bananas\"\n",
    "if fruit in favorite_fruits:\n",
    "    print(\"You really like {}!\".format(fruit))"
   ]
  },
  {
   "cell_type": "markdown",
   "metadata": {},
   "source": [
    "## 5.4　使用if 语句处理列表\n",
    "### 5.4.1　检查特殊元素"
   ]
  },
  {
   "cell_type": "code",
   "execution_count": 25,
   "metadata": {},
   "outputs": [
    {
     "name": "stdout",
     "output_type": "stream",
     "text": [
      "Adding mushrooms.\n",
      "Adding green peppers.\n",
      "Adding extra cheese.\n",
      "\n",
      "Finished making your pizza!\n"
     ]
    }
   ],
   "source": [
    "requested_toppings = ['mushrooms', 'green peppers', 'extra cheese']\n",
    "\n",
    "for requested_topping in requested_toppings:\n",
    "    print(\"Adding {}.\".format(requested_topping))\n",
    "\n",
    "print(\"\\nFinished making your pizza!\")"
   ]
  },
  {
   "cell_type": "code",
   "execution_count": 26,
   "metadata": {},
   "outputs": [
    {
     "name": "stdout",
     "output_type": "stream",
     "text": [
      "Adding mushrooms.\n",
      "Sorry, we are out of green peppers right now.\n",
      "Adding extra cheese.\n",
      "\n",
      "Finished making your pizza!\n"
     ]
    }
   ],
   "source": [
    "requested_toppings = ['mushrooms', 'green peppers', 'extra cheese']\n",
    "\n",
    "for requested_topping in requested_toppings:\n",
    "    if requested_topping == 'green peppers':\n",
    "        print(\"Sorry, we are out of green peppers right now.\")\n",
    "    else:\n",
    "        print(\"Adding \" + requested_topping + \".\")\n",
    "\n",
    "print(\"\\nFinished making your pizza!\")"
   ]
  },
  {
   "cell_type": "markdown",
   "metadata": {},
   "source": [
    "### 5.4.2 确定列表不是空的\n",
    "到目前为止，对于处理的每个列表都做了一个简单的假设，即假设它们都至少包含一个元素。我们马上就要让用户来提供存储在列表中的信息，因此不能再假设循环运行时列表不是空的。有鉴于此，在运行for 循环前确定列表是否为空很重要。"
   ]
  },
  {
   "cell_type": "code",
   "execution_count": 27,
   "metadata": {},
   "outputs": [
    {
     "name": "stdout",
     "output_type": "stream",
     "text": [
      "Are you sure you want a plain pizza?\n"
     ]
    }
   ],
   "source": [
    "requested_toppings = []\n",
    "\n",
    "if requested_toppings:\n",
    "    for requested_topping in requested_toppings:\n",
    "        print(\"Adding \" + requested_topping + \".\")\n",
    "    print(\"\\nFinished making your pizza!\")\n",
    "else:\n",
    "    print(\"Are you sure you want a plain pizza?\")"
   ]
  },
  {
   "cell_type": "markdown",
   "metadata": {},
   "source": [
    "首先创建了一个空列表，其中不包含元素。然后进行了简单检查，而不是直接执行for循环。在if语句中将列表名用在条件表达式中时，Python将在列表至少包含一个元素时返回True，并在列表为空时返回False。"
   ]
  },
  {
   "cell_type": "markdown",
   "metadata": {},
   "source": [
    "### 5.4.3　使用多个列表"
   ]
  },
  {
   "cell_type": "code",
   "execution_count": 28,
   "metadata": {},
   "outputs": [
    {
     "name": "stdout",
     "output_type": "stream",
     "text": [
      "Adding mushrooms.\n",
      "Sorry, we don't have french fries.\n",
      "Adding extra cheese.\n",
      "\n",
      "Finished making your pizza!\n"
     ]
    }
   ],
   "source": [
    "available_toppings = ['mushrooms', 'olives', 'green peppers',\n",
    "                        'pepperoni', 'pineapple', 'extra cheese']\n",
    "\n",
    "requested_toppings = ['mushrooms', 'french fries', 'extra cheese']\n",
    "\n",
    "for requested_topping in requested_toppings:\n",
    "    if requested_topping in available_toppings:\n",
    "        print(\"Adding \" + requested_topping + \".\")\n",
    "    else:\n",
    "        print(\"Sorry, we don't have \" + requested_topping + \".\")\n",
    "\n",
    "print(\"\\nFinished making your pizza!\")"
   ]
  },
  {
   "cell_type": "markdown",
   "metadata": {},
   "source": [
    "**练习：**\n",
    "5-8 以特殊方式跟管理员打招呼 ：创建一个至少包含5个用户名的列表，且其中一个用户名为'admin' 。想象你要编写代码，在每位用户登录网站后都打印一条问候消息。遍历用户名列表，并向每位用户打印一条问候消息。\n",
    "\n",
    "如果用户名为'admin' ，就打印一条特殊的问候消息，如“Hello admin, would you like to see a status report?”。\n",
    "\n",
    "否则，打印一条普通的问候消息，如“Hello Eric, thank you for logging in again”。\n",
    "\n",
    "5-9 处理没有用户的情形 ：在为完成练习5-8编写的程序中，添加一条if 语句，检查用户名列表是否为空。\n",
    "\n",
    "如果为空，就打印消息“We need to find some users!”。\n",
    "\n",
    "删除列表中的所有用户名，确定将打印正确的消息。\n",
    "\n",
    "5-10 检查用户名 ：按下面的说明编写一个程序，模拟网站确保每位用户的用户名都独一无二的方式。\n",
    "\n",
    "创建一个至少包含5个用户名的列表，并将其命名为current_users 。\n",
    "\n",
    "再创建一个包含5个用户名的列表，将其命名为new_users ，并确保其中有一两个用户名也包含在列表current_users 中。\n",
    "\n",
    "遍历列表new_users ，对于其中的每个用户名，都检查它是否已被使用。如果是这样，就打印一条消息，指出需要输入别的用户名；否则，打印一条消息，指出这个用户名未被使用。\n",
    "\n",
    "确保比较时不区分大消息；换句话说，如果用户名'John' 已被使用，应拒绝用户名'JOHN' 。\n",
    "\n",
    "5-11 序数 ：序数表示位置，如1st和2nd。大多数序数都以th结尾，只有1、2和3例外。\n",
    "\n",
    "在一个列表中存储数字1~9。\n",
    "\n",
    "遍历这个列表。\n",
    "\n",
    "在循环中使用一个if-elif-else 结构，以打印每个数字对应的序数。输出内容应为1st 、2nd 、3rd 、4th 、5th 、6th 、7th 、8th 和9th ，但每个序数都独占一行。"
   ]
  },
  {
   "cell_type": "code",
   "execution_count": 29,
   "metadata": {},
   "outputs": [
    {
     "name": "stdout",
     "output_type": "stream",
     "text": [
      "-----5-8-----\n",
      "-----5-9-----\n",
      "We need to find some users!\n",
      "-----5-10-----\n",
      "trump can be used.\n",
      "Mike is used.\n",
      "Biden can be used.\n",
      "ALice is used.\n",
      "Clinton can be used.\n",
      "-----5-11-----\n",
      "1st\t2nd\t3rd\t4th\t5th\t6th\t7th\t8th\t9th\t"
     ]
    }
   ],
   "source": [
    "# 5-8\n",
    "print(\"-----5-8-----\")\n",
    "#users = ['admin', 'mike', 'john', 'alice', 'helen']\n",
    "users = []\n",
    "for user in users:\n",
    "    if user == 'admin':\n",
    "        print(\"Hello {}, would you like to see a status report?\".format(user))\n",
    "    else:\n",
    "        print(\"Hello {}, thank you for logging in again.\".format(user))\n",
    "# 5-9\n",
    "print(\"-----5-9-----\")\n",
    "if users:\n",
    "    for user in users:\n",
    "        if user == 'admin':\n",
    "            print(\"Hello {}, would you like to see a status report?\".format(user))\n",
    "        else:\n",
    "            print(\"Hello {}, thank you for logging in again.\".format(user))\n",
    "else:\n",
    "    print(\"We need to find some users!\")\n",
    "\n",
    "# 5-10\n",
    "print(\"-----5-10-----\")\n",
    "current_users = ['frank', 'mike', 'john', 'alice', 'helen']\n",
    "new_users = ['trump', 'Mike', 'Biden', 'ALice', 'Clinton']\n",
    "for user in new_users:\n",
    "    if user.lower() in [current_user.lower() for current_user in current_users]:\n",
    "        print(\"{} is used.\".format(user))\n",
    "    else:\n",
    "        print(\"{} can be used.\".format(user))\n",
    "# 5-11\n",
    "print(\"-----5-11-----\")\n",
    "numbers = list(range(1,10))\n",
    "for number in numbers:\n",
    "    if number ==  1:\n",
    "        print(\"{}st\".format(number),end=\"\\t\")\n",
    "    elif number ==  2:\n",
    "        print(\"{}nd\".format(number),end=\"\\t\")\n",
    "    elif number ==  3:\n",
    "        print(\"{}rd\".format(number),end=\"\\t\")\n",
    "    else:\n",
    "        print(\"{}th\".format(number),end=\"\\t\")"
   ]
  },
  {
   "cell_type": "markdown",
   "metadata": {},
   "source": [
    "5.5　设置if 语句的格式\n",
    "本章的每个示例都展示了良好的格式设置习惯。在条件测试的格式设置方面，PEP 8提供的唯一建议是，在诸如== 、>= 和<= 等比较运算符两边各添加一个空格，例如，`if age < 4:` 要比`if age<4:` 好。\n",
    "\n",
    "这样的空格不会影响Python对代码的解读，而只是让代码阅读起来更容易。\n",
    "\n",
    "**练习：**\n",
    "\n",
    "5-12 设置if 语句的格式 ：审核你在本章编写的程序，确保正确地设置了条件测试的格式。\n",
    "\n",
    "5-13 自己的想法 ：与刚拿起本书时相比，现在你是一名能力更强的程序员了。鉴于你对如何在程序中模拟现实情形有了更深入的认识，你可以考虑使用程序来解决一些问题。随着编程技能不断提高，你可能想解决一些问题，请将这方面的想法记录下来。想想你可能想编写的游戏、想研究的数据集以及想创建的Web应用程序。"
   ]
  },
  {
   "cell_type": "code",
   "execution_count": null,
   "metadata": {},
   "outputs": [],
   "source": []
  }
 ],
 "metadata": {
  "kernelspec": {
   "display_name": "Python 3",
   "language": "python",
   "name": "python3"
  },
  "language_info": {
   "codemirror_mode": {
    "name": "ipython",
    "version": 3
   },
   "file_extension": ".py",
   "mimetype": "text/x-python",
   "name": "python",
   "nbconvert_exporter": "python",
   "pygments_lexer": "ipython3",
   "version": "3.6.9"
  }
 },
 "nbformat": 4,
 "nbformat_minor": 2
}
