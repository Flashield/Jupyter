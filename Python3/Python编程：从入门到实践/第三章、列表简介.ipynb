{
 "cells": [
  {
   "cell_type": "markdown",
   "metadata": {},
   "source": [
    "## 3.1　列表是什么\n",
    "`列表`由一系列按特定顺序排列的元素组成。\n",
    "\n",
    "可以创建包含字母表中所有字母、数字0~9或所有家庭成员姓名的列表；也可以将任何东西加入列表中，其中的元素之间可以没有任何关系。\n",
    "\n",
    "鉴于列表通常包含多个元素，可以给列表指定一个表示复数的名称（如letters 、digits 或names ）。\n",
    "\n",
    "在Python中，用方括号（[]）来表示列表，并用逗号来分隔其中的元素。"
   ]
  },
  {
   "cell_type": "code",
   "execution_count": 1,
   "metadata": {},
   "outputs": [
    {
     "name": "stdout",
     "output_type": "stream",
     "text": [
      "['trek', 'cannondale', 'redline', 'specialized']\n"
     ]
    }
   ],
   "source": [
    "bicycles = ['trek', 'cannondale', 'redline', 'specialized']\n",
    "print(bicycles)"
   ]
  },
  {
   "cell_type": "markdown",
   "metadata": {},
   "source": [
    "### 3.1.1　访问列表元素\n",
    "列表是**有序集合**，因此要访问列表的任何元素，只需将该元素的位置或索引告诉Python即可。要访问列表元素，可指出列表的名称，再指出元素的索引，并将其放在方括号内。\n",
    "> 注意：这里的索引从<font color = red>0</font>开始\n",
    "\n",
    "还可以对任何列表元素调用之前介绍的字符串方法。"
   ]
  },
  {
   "cell_type": "code",
   "execution_count": 2,
   "metadata": {},
   "outputs": [
    {
     "name": "stdout",
     "output_type": "stream",
     "text": [
      "trek\n"
     ]
    }
   ],
   "source": [
    "print(bicycles[0])"
   ]
  },
  {
   "cell_type": "code",
   "execution_count": 3,
   "metadata": {},
   "outputs": [
    {
     "name": "stdout",
     "output_type": "stream",
     "text": [
      "Cannondale\n"
     ]
    }
   ],
   "source": [
    "print(bicycles[1].title())"
   ]
  },
  {
   "cell_type": "markdown",
   "metadata": {},
   "source": [
    "### 3.1.2　索引从0而不是1开始\n",
    "Python为访问最后一个列表元素提供了一种特殊语法。通过将索引指定为-1。可以在不知道列表长度的情况下访问最后的元素。"
   ]
  },
  {
   "cell_type": "code",
   "execution_count": 4,
   "metadata": {},
   "outputs": [
    {
     "name": "stdout",
     "output_type": "stream",
     "text": [
      "specialized\n"
     ]
    }
   ],
   "source": [
    "print(bicycles[-1])"
   ]
  },
  {
   "cell_type": "markdown",
   "metadata": {},
   "source": [
    "### 3.1.3　使用列表中的各个值\n",
    "可像使用其他变量一样使用列表中的各个值。"
   ]
  },
  {
   "cell_type": "markdown",
   "metadata": {},
   "source": [
    "**练习：**\n",
    "\n",
    "3-1 姓名： 将一些朋友的姓名存储在一个列表中，并将其命名为names 。依次访问该列表中的每个元素，从而将每个朋友的姓名都打印出来。\n",
    "\n",
    "3-2 问候语： 继续使用练习3-1中的列表，但不打印每个朋友的姓名，而为每人打印一条消息。每条消息都包含相同的问候语，但抬头为相应朋友的姓名。\n",
    "\n",
    "3-3 自己的列表： 想想你喜欢的通勤方式，如骑摩托车或开汽车，并创建一个包含多种通勤方式的列表。根据该列表打印一系列有关这些通勤方式的宣言，如“I would like to own a Honda motorcycle”。"
   ]
  },
  {
   "cell_type": "code",
   "execution_count": 5,
   "metadata": {},
   "outputs": [
    {
     "name": "stdout",
     "output_type": "stream",
     "text": [
      "Su Hai\n",
      "Yang Ling\n",
      "Mike\n",
      "Helen\n",
      "Su Hai, Nice to meet you.\n",
      "Yang Ling, Nice to meet you.\n",
      "Mike, Nice to meet you.\n",
      "Helen, Nice to meet you.\n",
      "I would like to get to your home by ship.\n",
      "I would like to get to your home by train.\n",
      "I would like to get to your home by bicycle.\n",
      "I would like to get to your home by aeroplane.\n"
     ]
    }
   ],
   "source": [
    "# 3-1 这里用到了循环，后面再讲\n",
    "names = ['Su Hai', 'Yang Ling', 'Mike', 'Helen']\n",
    "for i in range(len(names)):\n",
    "    print(names[i])\n",
    "# 3-2\n",
    "for i in range(len(names)):\n",
    "    print('{}, Nice to meet you.'.format(names[i]))\n",
    "# 3-3\n",
    "traffic_type = ['ship', 'train', 'bicycle', 'aeroplane']\n",
    "for i in range(len(traffic_type)):\n",
    "    print('I would like to get to your home by {}.'.format(traffic_type[i]))"
   ]
  },
  {
   "cell_type": "markdown",
   "metadata": {},
   "source": [
    "## 3.2　修改、添加和删除元素\n",
    "### 3.2.1　修改列表元素\n",
    "修改列表元素的语法与访问列表元素的语法类似。要修改列表元素，可指定列表名和要修改的元素的索引，再指定该元素的新值。"
   ]
  },
  {
   "cell_type": "code",
   "execution_count": 6,
   "metadata": {},
   "outputs": [
    {
     "name": "stdout",
     "output_type": "stream",
     "text": [
      "['honda', 'yamaha', 'suzuki']\n",
      "['ducati', 'yamaha', 'suzuki']\n",
      "['ducati', 'dayang', 'suzuki']\n"
     ]
    }
   ],
   "source": [
    "motorcycles = ['honda', 'yamaha', 'suzuki']\n",
    "print(motorcycles)\n",
    "\n",
    "motorcycles[0] = 'ducati'\n",
    "print(motorcycles)\n",
    "\n",
    "motorcycles[1] = 'dayang'\n",
    "print(motorcycles)"
   ]
  },
  {
   "cell_type": "markdown",
   "metadata": {},
   "source": [
    "### 3.2.2　在列表中添加元素\n",
    "\n",
    "1. 在列表末尾添加元素\n",
    "\n",
    "append()方法将元素'ducati'添加到了列表末尾，而不影响列表中的其他所有元素。"
   ]
  },
  {
   "cell_type": "code",
   "execution_count": 7,
   "metadata": {},
   "outputs": [
    {
     "name": "stdout",
     "output_type": "stream",
     "text": [
      "['ducati', 'dayang', 'suzuki', 'universe']\n"
     ]
    }
   ],
   "source": [
    "motorcycles.append('universe')\n",
    "print(motorcycles)"
   ]
  },
  {
   "cell_type": "markdown",
   "metadata": {},
   "source": [
    "可以先创建一个空列表，再使用一系列的append() 语句添加元素。"
   ]
  },
  {
   "cell_type": "code",
   "execution_count": 8,
   "metadata": {},
   "outputs": [
    {
     "name": "stdout",
     "output_type": "stream",
     "text": [
      "['honda', 'yamaha', 'suzuki']\n"
     ]
    }
   ],
   "source": [
    "motorcycles = []\n",
    "\n",
    "motorcycles.append('honda')\n",
    "motorcycles.append('yamaha')\n",
    "motorcycles.append('suzuki')\n",
    "\n",
    "print(motorcycles)"
   ]
  },
  {
   "cell_type": "markdown",
   "metadata": {},
   "source": [
    "2. 在列表中插入元素\n",
    "\n",
    "使用方法insert()可在列表的任何位置添加新元素。为此，需要指定新元素的索引和值。\n",
    "这种操作将列表中既有的每个元素都右移一个位置。"
   ]
  },
  {
   "cell_type": "code",
   "execution_count": 9,
   "metadata": {},
   "outputs": [
    {
     "name": "stdout",
     "output_type": "stream",
     "text": [
      "['honda', 'yamaha', 'ducati', 'suzuki']\n"
     ]
    }
   ],
   "source": [
    "motorcycles = ['honda', 'yamaha', 'suzuki']\n",
    "\n",
    "motorcycles.insert(2, 'ducati')\n",
    "print(motorcycles)"
   ]
  },
  {
   "cell_type": "markdown",
   "metadata": {},
   "source": [
    "### 3.2.3　从列表中删除元素\n",
    "\n",
    "1. 使用del 语句删除元素\n",
    "\n",
    "如果知道要删除的元素在列表中的位置，可使用del 语句。使用del可删除任何位置处的列表元素，条件是知道其索引。"
   ]
  },
  {
   "cell_type": "code",
   "execution_count": 10,
   "metadata": {},
   "outputs": [
    {
     "name": "stdout",
     "output_type": "stream",
     "text": [
      "['honda', 'yamaha', 'suzuki']\n",
      "['yamaha', 'suzuki']\n"
     ]
    }
   ],
   "source": [
    "motorcycles = ['honda', 'yamaha', 'suzuki']\n",
    "print(motorcycles)\n",
    "del motorcycles[0]\n",
    "print(motorcycles)"
   ]
  },
  {
   "cell_type": "markdown",
   "metadata": {},
   "source": [
    "2. 使用方法pop() 删除元素\n",
    "\n",
    "方法pop()可删除列表末尾的元素，并让你能够接着使用它。列表就像一个栈，而删除列表末尾的元素相当于弹出栈顶元素。"
   ]
  },
  {
   "cell_type": "code",
   "execution_count": 11,
   "metadata": {},
   "outputs": [
    {
     "name": "stdout",
     "output_type": "stream",
     "text": [
      "['honda', 'yamaha', 'suzuki']\n",
      "['honda', 'yamaha']\n",
      "suzuki\n"
     ]
    }
   ],
   "source": [
    "motorcycles = ['honda', 'yamaha', 'suzuki']\n",
    "print(motorcycles)\n",
    "\n",
    "popped_motorcycle = motorcycles.pop()\n",
    "print(motorcycles)\n",
    "print(popped_motorcycle)"
   ]
  },
  {
   "cell_type": "markdown",
   "metadata": {},
   "source": [
    "3. 弹出列表中任何位置处的元素\n",
    "\n",
    "可以使用pop()来删除列表中任何位置的元素，只需在括号中指定要删除的元素的索引即可。\n",
    "\n",
    "> 如果不确定该使用del语句还是pop()方法，下面是一个简单的判断标准：如果你要从列表中删除一个元素，且不再以任何方式使用它，就使用del语句；如果你要在删除元素后还能继续使用它，就使用方法pop()。"
   ]
  },
  {
   "cell_type": "code",
   "execution_count": 12,
   "metadata": {},
   "outputs": [
    {
     "name": "stdout",
     "output_type": "stream",
     "text": [
      "['yamaha', 'suzuki']\n",
      "honda\n"
     ]
    }
   ],
   "source": [
    "motorcycles = ['honda', 'yamaha', 'suzuki']\n",
    "\n",
    "first_owned = motorcycles.pop(0)\n",
    "print(motorcycles)\n",
    "print(first_owned)"
   ]
  },
  {
   "cell_type": "markdown",
   "metadata": {},
   "source": [
    "4. 根据值删除元素\n",
    "\n",
    "当不知道要从列表中删除的值所处的位置。如果你只知道要删除的元素的值，可使用方法remove() 。\n",
    "\n",
    "> 方法remove()只删除第一个指定的值。如果要删除的值可能在列表中出现多次，就需要使用循环来判断是否删除了所有这样的值。"
   ]
  },
  {
   "cell_type": "code",
   "execution_count": 13,
   "metadata": {},
   "outputs": [
    {
     "name": "stdout",
     "output_type": "stream",
     "text": [
      "['honda', 'yamaha', 'suzuki', 'ducati']\n",
      "['honda', 'yamaha', 'ducati']\n"
     ]
    }
   ],
   "source": [
    "motorcycles = ['honda', 'yamaha', 'suzuki', 'ducati']\n",
    "print(motorcycles)\n",
    "\n",
    "motorcycles.remove('suzuki')\n",
    "print(motorcycles)"
   ]
  },
  {
   "cell_type": "markdown",
   "metadata": {},
   "source": [
    "**练习：**\n",
    "\n",
    "3-4 嘉宾名单 ：如果你可以邀请任何人一起共进晚餐（无论是在世的还是故去的），你会邀请哪些人？请创建一个列表，其中包含至少3个你想邀请的人；然后，使用这个列表打印消息，邀请这些人来与你共进晚餐。\n",
    "\n",
    "3-5 修改嘉宾名单 ：你刚得知有位嘉宾无法赴约，因此需要另外邀请一位嘉宾。\n",
    "\n",
    "以完成练习3-4时编写的程序为基础，在程序末尾添加一条print 语句，指出哪位嘉宾无法赴约。\n",
    "\n",
    "修改嘉宾名单，将无法赴约的嘉宾的姓名替换为新邀请的嘉宾的姓名。\n",
    "\n",
    "再次打印一系列消息，向名单中的每位嘉宾发出邀请。\n",
    "\n",
    "3-6 添加嘉宾 ：你刚找到了一个更大的餐桌，可容纳更多的嘉宾。请想想你还想邀请哪三位嘉宾。\n",
    "\n",
    "以完成练习3-4或练习3-5时编写的程序为基础，在程序末尾添加一条print 语句，指出你找到了一个更大的餐桌。\n",
    "\n",
    "使用insert() 将一位新嘉宾添加到名单开头。\n",
    "\n",
    "使用insert() 将另一位新嘉宾添加到名单中间。\n",
    "\n",
    "使用append() 将最后一位新嘉宾添加到名单末尾。\n",
    "\n",
    "打印一系列消息，向名单中的每位嘉宾发出邀请。\n",
    "\n",
    "3-7 缩减名单 ：你刚得知新购买的餐桌无法及时送达，因此只能邀请两位嘉宾。\n",
    "\n",
    "以完成练习3-6时编写的程序为基础，在程序末尾添加一行代码，打印一条你只能邀请两位嘉宾共进晚餐的消息。\n",
    "\n",
    "使用pop() 不断地删除名单中的嘉宾，直到只有两位嘉宾为止。每次从名单中弹出一位嘉宾时，都打印一条消息，让该嘉宾知悉你很抱歉，无法邀请他来共进晚餐。\n",
    "\n",
    "对于余下的两位嘉宾中的每一位，都打印一条消息，指出他依然在受邀人之列。\n",
    "\n",
    "使用del 将最后两位嘉宾从名单中删除，让名单变成空的。打印该名单，核实程序结束时名单确实是空的。"
   ]
  },
  {
   "cell_type": "code",
   "execution_count": 14,
   "metadata": {},
   "outputs": [
    {
     "name": "stdout",
     "output_type": "stream",
     "text": [
      "-------------------\n",
      "Invation to Guest1\n",
      "Invation to Guest2\n",
      "Invation to Guest3\n",
      "Invation to Guest4\n",
      "-------------------\n",
      "Guest3\n",
      "Invation to Guest1\n",
      "Invation to Guest2\n",
      "Invation to Guest4\n",
      "Invation to Guest5\n",
      "-------------------\n",
      "Invation to Guest6\n",
      "Invation to Guest1\n",
      "Invation to Guest7\n",
      "Invation to Guest2\n",
      "Invation to Guest4\n",
      "Invation to Guest5\n",
      "Invation to Guest8\n",
      "-------------------\n",
      "Sorry to Guest8\n",
      "Sorry to Guest5\n",
      "Sorry to Guest4\n",
      "Sorry to Guest2\n",
      "Sorry to Guest7\n",
      "Invation to Guest6\n",
      "Invation to Guest1\n",
      "0\n"
     ]
    }
   ],
   "source": [
    "# 3-4\n",
    "print('-------------------')\n",
    "guests = ['Guest1','Guest2','Guest3','Guest4']\n",
    "for i in range(len(guests)):\n",
    "    print('Invation to {}'.format(guests[i]))\n",
    "# 3-5\n",
    "print('-------------------')\n",
    "unattended_guest = guests.pop(2)\n",
    "print(unattended_guest)\n",
    "guests.append('Guest5')\n",
    "for i in range(len(guests)):\n",
    "    print('Invation to {}'.format(guests[i]))\n",
    "# 3-6\n",
    "print('-------------------')\n",
    "guests.insert(0,'Guest6')\n",
    "guests.insert(int(len(guests)/2),'Guest7')\n",
    "guests.append('Guest8')\n",
    "for i in range(len(guests)):\n",
    "    print('Invation to {}'.format(guests[i]))\n",
    "# 3-8\n",
    "print('-------------------')\n",
    "for i in range(len(guests)-2):\n",
    "    print('Sorry to {}'.format(guests.pop()))\n",
    "    \n",
    "for i in range(len(guests)):\n",
    "    print('Invation to {}'.format(guests[0]))\n",
    "    del guests[0]\n",
    "\n",
    "print(len(guests))"
   ]
  },
  {
   "cell_type": "markdown",
   "metadata": {},
   "source": [
    "## 3.3　组织列表\n",
    "### 3.3.1　使用方法sort() 对列表进行永久性排序\n",
    "方法sort() **永久性**修改了列表元素的排列顺序，再也无法恢复到原来的排列顺序。还可以按与字母顺序相反的顺序排列列表元素，为此，只需向sort() 方法传递参数reverse=True 。"
   ]
  },
  {
   "cell_type": "code",
   "execution_count": 15,
   "metadata": {},
   "outputs": [
    {
     "name": "stdout",
     "output_type": "stream",
     "text": [
      "['audi', 'bmw', 'subaru', 'toyota']\n"
     ]
    }
   ],
   "source": [
    "cars = ['bmw', 'audi', 'toyota', 'subaru']\n",
    "cars.sort()\n",
    "print(cars)"
   ]
  },
  {
   "cell_type": "code",
   "execution_count": 16,
   "metadata": {},
   "outputs": [
    {
     "name": "stdout",
     "output_type": "stream",
     "text": [
      "['toyota', 'subaru', 'bmw', 'audi']\n"
     ]
    }
   ],
   "source": [
    "cars.sort(reverse=True)\n",
    "print(cars)"
   ]
  },
  {
   "cell_type": "markdown",
   "metadata": {},
   "source": [
    "### 3.3.2　使用函数sorted() 对列表进行临时排序\n",
    "要保留列表元素原来的排列顺序，同时以特定的顺序呈现它们，可使用函数sorted()。函数sorted()让你能够按特定顺序显示列表元素，同时不影响它们在列表中的原始排列顺序。\n",
    "\n",
    "> 在并非所有的值都是小写时，按字母顺序排列列表要复杂些。决定排列顺序时，有多种解读大写字母的方式，要指定准确的排列顺序，可能要复杂一些。"
   ]
  },
  {
   "cell_type": "code",
   "execution_count": 17,
   "metadata": {},
   "outputs": [
    {
     "name": "stdout",
     "output_type": "stream",
     "text": [
      "Here is the original list:\n",
      "['bmw', 'audi', 'toyota', 'subaru']\n",
      "\n",
      "Here is the sorted list:\n",
      "['audi', 'bmw', 'subaru', 'toyota']\n",
      "\n",
      "Here is the reverse sorted list:\n",
      "['toyota', 'subaru', 'bmw', 'audi']\n",
      "\n",
      "Here is the original list again:\n",
      "['bmw', 'audi', 'toyota', 'subaru']\n"
     ]
    }
   ],
   "source": [
    "cars = ['bmw', 'audi', 'toyota', 'subaru']\n",
    "\n",
    "print(\"Here is the original list:\")\n",
    "print(cars)\n",
    "\n",
    "print(\"\\nHere is the sorted list:\")\n",
    "print(sorted(cars))\n",
    "\n",
    "print(\"\\nHere is the reverse sorted list:\")\n",
    "print(sorted(cars,reverse=True))\n",
    "\n",
    "print(\"\\nHere is the original list again:\")\n",
    "print(cars)"
   ]
  },
  {
   "cell_type": "markdown",
   "metadata": {},
   "source": [
    "### 3.3.3　倒着打印列表\n",
    "要反转列表元素的排列顺序，可使用方法reverse()。\n",
    "方法reverse() 永久性地修改列表元素的排列顺序，但可随时恢复到原来的排列顺序，为此只需对列表再次调用reverse() 即可。"
   ]
  },
  {
   "cell_type": "code",
   "execution_count": 18,
   "metadata": {},
   "outputs": [
    {
     "name": "stdout",
     "output_type": "stream",
     "text": [
      "['subaru', 'toyota', 'audi', 'bmw']\n"
     ]
    }
   ],
   "source": [
    "cars = ['bmw', 'audi', 'toyota', 'subaru']\n",
    "\n",
    "cars.reverse()\n",
    "print(cars)"
   ]
  },
  {
   "cell_type": "markdown",
   "metadata": {},
   "source": [
    "### 3.3.4　确定列表的长度\n",
    "使用函数len() 可快速获悉列表的长度。"
   ]
  },
  {
   "cell_type": "code",
   "execution_count": 19,
   "metadata": {},
   "outputs": [
    {
     "name": "stdout",
     "output_type": "stream",
     "text": [
      "4\n"
     ]
    }
   ],
   "source": [
    "print(len(cars))"
   ]
  },
  {
   "cell_type": "markdown",
   "metadata": {},
   "source": [
    "**练习：**\n",
    "3-8 放眼世界 ：想出至少5个你渴望去旅游的地方。\n",
    "\n",
    "将这些地方存储在一个列表中，并确保其中的元素不是按字母顺序排列的。\n",
    "\n",
    "按原始排列顺序打印该列表。不要考虑输出是否整洁的问题，只管打印原始Python列表。\n",
    "\n",
    "使用sorted() 按字母顺序打印这个列表，同时不要修改它。\n",
    "\n",
    "再次打印该列表，核实排列顺序未变。\n",
    "\n",
    "使用sorted() 按与字母顺序相反的顺序打印这个列表，同时不要修改它。\n",
    "\n",
    "再次打印该列表，核实排列顺序未变。\n",
    "\n",
    "使用reverse() 修改列表元素的排列顺序。打印该列表，核实排列顺序确实变了。\n",
    "\n",
    "使用reverse() 再次修改列表元素的排列顺序。打印该列表，核实已恢复到原来的排列顺序。\n",
    "\n",
    "使用sort() 修改该列表，使其元素按字母顺序排列。打印该列表，核实排列顺序确实变了。\n",
    "\n",
    "使用sort() 修改该列表，使其元素按与字母顺序相反的顺序排列。打印该列表，核实排列顺序确实变了。\n",
    "\n",
    "3-9 晚餐嘉宾 ：在完成练习3-4~练习3-7时编写的程序之一中，使用len() 打印一条消息，指出你邀请了多少位嘉宾来与你共进晚餐。\n",
    "\n",
    "3-10 尝试使用各个函数 ：想想可存储到列表中的东西，如山岳、河流、国家、城市、语言或你喜欢的任何东西。编写一个程序，在其中创建一个包含这些元素的列表，然后，对于本章介绍的每个函数，都至少使用一次来处理这个列表。"
   ]
  },
  {
   "cell_type": "code",
   "execution_count": 20,
   "metadata": {},
   "outputs": [
    {
     "name": "stdout",
     "output_type": "stream",
     "text": [
      "['nantong', 'beijing', 'shanghai', 'nanjing', 'hangzhou']\n",
      "['beijing', 'hangzhou', 'nanjing', 'nantong', 'shanghai']\n",
      "['nantong', 'beijing', 'shanghai', 'nanjing', 'hangzhou']\n",
      "['shanghai', 'nantong', 'nanjing', 'hangzhou', 'beijing']\n",
      "['nantong', 'beijing', 'shanghai', 'nanjing', 'hangzhou']\n",
      "['hangzhou', 'nanjing', 'shanghai', 'beijing', 'nantong']\n",
      "['nantong', 'beijing', 'shanghai', 'nanjing', 'hangzhou']\n",
      "['beijing', 'hangzhou', 'nanjing', 'nantong', 'shanghai']\n",
      "['shanghai', 'nantong', 'nanjing', 'hangzhou', 'beijing']\n",
      "5\n"
     ]
    }
   ],
   "source": [
    "# 3-8\n",
    "places = ['nantong','beijing','shanghai','nanjing','hangzhou']\n",
    "print(places)\n",
    "print(sorted(places))\n",
    "print(places)\n",
    "print(sorted(places,reverse=True))\n",
    "print(places)\n",
    "places.reverse()\n",
    "print(places)\n",
    "places.reverse()\n",
    "print(places)\n",
    "places.sort()\n",
    "print(places)\n",
    "places.sort(reverse=True)\n",
    "print(places)\n",
    "# 3-9\n",
    "print(len(places))"
   ]
  },
  {
   "cell_type": "markdown",
   "metadata": {},
   "source": [
    "## 3.4　使用列表时避免索引错误\n",
    "\n",
    "仅当列表为空时，这种访问最后一个元素的方式才会导致错误。\n",
    "\n",
    "> 发生索引错误却找不到解决办法时，可尝试将列表或其长度打印出来。列表可能与你以为的截然不同，在程序对其进行了动态处理时尤其如此。通过查看列表或其包含的元素数，可帮助你找出这种逻辑错误。"
   ]
  },
  {
   "cell_type": "code",
   "execution_count": 22,
   "metadata": {},
   "outputs": [
    {
     "name": "stdout",
     "output_type": "stream",
     "text": [
      "> \u001b[0;32m<ipython-input-21-8306d8c0082f>\u001b[0m(4)\u001b[0;36m<module>\u001b[0;34m()\u001b[0m\n",
      "\u001b[0;32m      1 \u001b[0;31m\u001b[0mget_ipython\u001b[0m\u001b[0;34m(\u001b[0m\u001b[0;34m)\u001b[0m\u001b[0;34m.\u001b[0m\u001b[0mmagic\u001b[0m\u001b[0;34m(\u001b[0m\u001b[0;34m'debug'\u001b[0m\u001b[0;34m)\u001b[0m\u001b[0;34m\u001b[0m\u001b[0;34m\u001b[0m\u001b[0m\n",
      "\u001b[0m\u001b[0;32m      2 \u001b[0;31m\u001b[0mmotorcycles\u001b[0m \u001b[0;34m=\u001b[0m \u001b[0;34m[\u001b[0m\u001b[0;34m'honda'\u001b[0m\u001b[0;34m,\u001b[0m \u001b[0;34m'yamaha'\u001b[0m\u001b[0;34m,\u001b[0m \u001b[0;34m'suzuki'\u001b[0m\u001b[0;34m]\u001b[0m\u001b[0;34m\u001b[0m\u001b[0;34m\u001b[0m\u001b[0m\n",
      "\u001b[0m\u001b[0;32m      3 \u001b[0;31m\u001b[0mprint\u001b[0m\u001b[0;34m(\u001b[0m\u001b[0mmotorcycles\u001b[0m\u001b[0;34m[\u001b[0m\u001b[0;34m-\u001b[0m\u001b[0;36m1\u001b[0m\u001b[0;34m]\u001b[0m\u001b[0;34m)\u001b[0m\u001b[0;34m\u001b[0m\u001b[0;34m\u001b[0m\u001b[0m\n",
      "\u001b[0m\u001b[0;32m----> 4 \u001b[0;31m\u001b[0mprint\u001b[0m\u001b[0;34m(\u001b[0m\u001b[0mmotorcycles\u001b[0m\u001b[0;34m[\u001b[0m\u001b[0;36m3\u001b[0m\u001b[0;34m]\u001b[0m\u001b[0;34m)\u001b[0m\u001b[0;34m\u001b[0m\u001b[0;34m\u001b[0m\u001b[0m\n",
      "\u001b[0m\n",
      "ipdb> len(motorcycles)\n",
      "3\n",
      "ipdb> quit\n",
      "suzuki\n"
     ]
    },
    {
     "ename": "IndexError",
     "evalue": "list index out of range",
     "output_type": "error",
     "traceback": [
      "\u001b[0;31m---------------------------------------------------------------------------\u001b[0m",
      "\u001b[0;31mIndexError\u001b[0m                                Traceback (most recent call last)",
      "\u001b[0;32m<ipython-input-22-8306d8c0082f>\u001b[0m in \u001b[0;36m<module>\u001b[0;34m()\u001b[0m\n\u001b[1;32m      2\u001b[0m \u001b[0mmotorcycles\u001b[0m \u001b[0;34m=\u001b[0m \u001b[0;34m[\u001b[0m\u001b[0;34m'honda'\u001b[0m\u001b[0;34m,\u001b[0m \u001b[0;34m'yamaha'\u001b[0m\u001b[0;34m,\u001b[0m \u001b[0;34m'suzuki'\u001b[0m\u001b[0;34m]\u001b[0m\u001b[0;34m\u001b[0m\u001b[0;34m\u001b[0m\u001b[0m\n\u001b[1;32m      3\u001b[0m \u001b[0mprint\u001b[0m\u001b[0;34m(\u001b[0m\u001b[0mmotorcycles\u001b[0m\u001b[0;34m[\u001b[0m\u001b[0;34m-\u001b[0m\u001b[0;36m1\u001b[0m\u001b[0;34m]\u001b[0m\u001b[0;34m)\u001b[0m\u001b[0;34m\u001b[0m\u001b[0;34m\u001b[0m\u001b[0m\n\u001b[0;32m----> 4\u001b[0;31m \u001b[0mprint\u001b[0m\u001b[0;34m(\u001b[0m\u001b[0mmotorcycles\u001b[0m\u001b[0;34m[\u001b[0m\u001b[0;36m3\u001b[0m\u001b[0;34m]\u001b[0m\u001b[0;34m)\u001b[0m\u001b[0;34m\u001b[0m\u001b[0;34m\u001b[0m\u001b[0m\n\u001b[0m",
      "\u001b[0;31mIndexError\u001b[0m: list index out of range"
     ]
    }
   ],
   "source": [
    "%debug\n",
    "motorcycles = ['honda', 'yamaha', 'suzuki']\n",
    "print(motorcycles[-1])\n",
    "print(motorcycles[3])"
   ]
  },
  {
   "cell_type": "code",
   "execution_count": 23,
   "metadata": {},
   "outputs": [
    {
     "ename": "IndexError",
     "evalue": "list index out of range",
     "output_type": "error",
     "traceback": [
      "\u001b[0;31m---------------------------------------------------------------------------\u001b[0m",
      "\u001b[0;31mIndexError\u001b[0m                                Traceback (most recent call last)",
      "\u001b[0;32m<ipython-input-23-08e14d7d6f1a>\u001b[0m in \u001b[0;36m<module>\u001b[0;34m()\u001b[0m\n\u001b[1;32m      1\u001b[0m \u001b[0mmotorcycles\u001b[0m \u001b[0;34m=\u001b[0m \u001b[0;34m[\u001b[0m\u001b[0;34m]\u001b[0m\u001b[0;34m\u001b[0m\u001b[0;34m\u001b[0m\u001b[0m\n\u001b[0;32m----> 2\u001b[0;31m \u001b[0mprint\u001b[0m\u001b[0;34m(\u001b[0m\u001b[0mmotorcycles\u001b[0m\u001b[0;34m[\u001b[0m\u001b[0;34m-\u001b[0m\u001b[0;36m1\u001b[0m\u001b[0;34m]\u001b[0m\u001b[0;34m)\u001b[0m\u001b[0;34m\u001b[0m\u001b[0;34m\u001b[0m\u001b[0m\n\u001b[0m",
      "\u001b[0;31mIndexError\u001b[0m: list index out of range"
     ]
    }
   ],
   "source": [
    "motorcycles = []\n",
    "print(motorcycles[-1])"
   ]
  }
 ],
 "metadata": {
  "kernelspec": {
   "display_name": "Python 3",
   "language": "python",
   "name": "python3"
  },
  "language_info": {
   "codemirror_mode": {
    "name": "ipython",
    "version": 3
   },
   "file_extension": ".py",
   "mimetype": "text/x-python",
   "name": "python",
   "nbconvert_exporter": "python",
   "pygments_lexer": "ipython3",
   "version": "3.6.9"
  }
 },
 "nbformat": 4,
 "nbformat_minor": 2
}
