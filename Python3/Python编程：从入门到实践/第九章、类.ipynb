{
 "cells": [
  {
   "cell_type": "markdown",
   "metadata": {},
   "source": [
    "`面向对象编程`是最有效的软件编写方法之一。在面向对象编程中，编写表示现实世界中的事物和情景的类，并基于这些类来创建对象。编写类时，定义一大类对象都有的通用行为。基于类创建对象 时，每个对象都自动具备这种通用行为，然后可根据需要赋予每个对象独特的个性。\n",
    "\n",
    "根据类来创建对象被称为`实例化`，能够使用类的实例。了解类背后的概念可培养逻辑思维，能够通过编写程序来解决遇到的几乎任何问题。"
   ]
  },
  {
   "cell_type": "markdown",
   "metadata": {},
   "source": [
    "## 9.1　创建和使用类\n",
    "使用类几乎可以模拟任何东西。下面来编写一个表示小狗的简单类Dog。"
   ]
  },
  {
   "cell_type": "markdown",
   "metadata": {},
   "source": [
    "### 9.1.1　创建Dog 类\n",
    "\n",
    "根据约定，在Python中，<font color = red>首字母大写的名称</font>指的是`类`。这个类定义中的括号是空的，因为我们要从空白创建这个类。接着编写了一个文档字符串，对这个类的功能作了描述。"
   ]
  },
  {
   "cell_type": "code",
   "execution_count": 1,
   "metadata": {},
   "outputs": [],
   "source": [
    "class Dog():\n",
    "    \"\"\"一次模拟小狗的简单尝试\"\"\"\n",
    "\n",
    "    def __init__(self, name, age):\n",
    "        \"\"\"初始化属性name和age\"\"\"\n",
    "        self.name = name\n",
    "        self.age = age\n",
    "\n",
    "    def sit(self):\n",
    "        \"\"\"模拟小狗被命令时蹲下\"\"\"\n",
    "        print(self.name.title() + \" is now sitting.\")\n",
    "\n",
    "    def roll_over(self):\n",
    "        \"\"\"模拟小狗被命令时打滚\"\"\"\n",
    "        print(self.name.title() + \" rolled over!\")"
   ]
  },
  {
   "cell_type": "markdown",
   "metadata": {},
   "source": [
    "1. 方法__init__()\n",
    "\n",
    "类中的函数称为`方法`；前面学到的有关函数的一切都适用于方法，就目前而言，唯一重要的差别是调用方法的方式。__init__() 是一个特殊的方法，每当你根据Dog类创建新实例时，Python都会**自动**运行它。在这个方法的名称中，开头和末尾各有两个下划线，这是一种约定，旨在避免Python默认方法与普通方法发生名称冲突。\n",
    "\n",
    "我们将方法__init__() 定义成了包含三个形参：self、name和age。在这个方法的定义中，形参`self`** 必不可少，还必须位于其他形参的前面**。\n",
    "\n",
    "> 为何必须在方法定义中包含形参self 呢？因为Python调用这个__init__() 方法来创建Dog实例时，将自动传入实参self 。\n",
    "\n",
    "> 每个与类相关联的方法调用都自动传递实参self，是一个指向实例本身的引用，让实例能够访问类中的属性和方法。\n",
    "\n",
    "`self.name = name`处定义的两个变量都有前缀self 。以self为前缀的变量都可供类中的所有方法使用，还可以通过类的任何实例来访问这些变量。self.name = name 获取存储在形参name 中的值，并将其存储到变量name 中，然后该变量被关联到当前创建的实例。self.age = age 的作用与此类似。像这样可通过实例访问的变量称为属性 。\n",
    "\n",
    "Dog 类还定义了另外两个方法：sit() 和roll_over() 。由于这些方法不需要额外的信息，如名字或年龄，因此它们只有一个形参self 。我们后面将创建的实例能够访问这些方法，换句话说，它们都会蹲下和打滚。当前，sit() 和roll_over() 所做的有限，它们只是打印一条消息，指出小狗正蹲下或打滚。"
   ]
  },
  {
   "cell_type": "markdown",
   "metadata": {},
   "source": [
    "2. 在Python 2.7中创建类\n",
    "在Python 2.7中创建类时，需要做细微的修改——在括号内包含单词object：`class ClassName(object):`"
   ]
  },
  {
   "cell_type": "markdown",
   "metadata": {},
   "source": [
    "### 9.1.2　根据类创建实例\n",
    "可将类视为有关如何创建实例的说明。"
   ]
  },
  {
   "cell_type": "code",
   "execution_count": 2,
   "metadata": {},
   "outputs": [
    {
     "name": "stdout",
     "output_type": "stream",
     "text": [
      "My dog's name is Willie.\n",
      "My dog is 6 years old.\n"
     ]
    }
   ],
   "source": [
    "my_dog = Dog('willie', 6)\n",
    "\n",
    "print(\"My dog's name is \" + my_dog.name.title() + \".\")\n",
    "print(\"My dog is \" + str(my_dog.age) + \" years old.\")"
   ]
  },
  {
   "cell_type": "markdown",
   "metadata": {},
   "source": [
    "1. 访问属性\n",
    "\n",
    "要访问实例的属性，可使用句点表示法。句点表示法在Python中很常用，这种语法演示了Python如何获悉属性的值。"
   ]
  },
  {
   "cell_type": "code",
   "execution_count": 3,
   "metadata": {},
   "outputs": [
    {
     "name": "stdout",
     "output_type": "stream",
     "text": [
      "willie\n"
     ]
    }
   ],
   "source": [
    "print(my_dog.name)"
   ]
  },
  {
   "cell_type": "markdown",
   "metadata": {},
   "source": [
    "2. 调用方法\n",
    "\n",
    "根据Dog 类创建实例后，就可以使用句点表示法来调用Dog 类中定义的任何方法。要调用方法，可指定实例的名称和要调用的方法，并用句点分隔它们。"
   ]
  },
  {
   "cell_type": "code",
   "execution_count": 4,
   "metadata": {},
   "outputs": [
    {
     "name": "stdout",
     "output_type": "stream",
     "text": [
      "Willie is now sitting.\n",
      "Willie rolled over!\n"
     ]
    }
   ],
   "source": [
    "my_dog = Dog('willie', 6)\n",
    "my_dog.sit()\n",
    "my_dog.roll_over()"
   ]
  },
  {
   "cell_type": "markdown",
   "metadata": {},
   "source": [
    "3. 创建多个实例\n",
    "\n",
    "可按需求根据类创建任意数量的实例。可按需求根据一个类创建任意数量的实例，条件是将每个实例都存储在不同的变量中，或占用列表或字典的不同位置。"
   ]
  },
  {
   "cell_type": "code",
   "execution_count": 5,
   "metadata": {},
   "outputs": [
    {
     "name": "stdout",
     "output_type": "stream",
     "text": [
      "My dog's name is Willie.\n",
      "My dog is 6 years old.\n",
      "Willie is now sitting.\n",
      "\n",
      "Your dog's name is Lucy.\n",
      "Your dog is 3 years old.\n",
      "Lucy rolled over!\n"
     ]
    }
   ],
   "source": [
    "my_dog = Dog('willie', 6)\n",
    "your_dog = Dog('lucy', 3)\n",
    "\n",
    "print(\"My dog's name is \" + my_dog.name.title() + \".\")\n",
    "print(\"My dog is \" + str(my_dog.age) + \" years old.\")\n",
    "my_dog.sit()\n",
    "\n",
    "print(\"\\nYour dog's name is \" + your_dog.name.title() + \".\")\n",
    "print(\"Your dog is \" + str(your_dog.age) + \" years old.\")\n",
    "your_dog.roll_over()"
   ]
  },
  {
   "cell_type": "markdown",
   "metadata": {},
   "source": [
    "**练习：**\n",
    "9-1 餐馆 ：创建一个名为Restaurant的类，其方法__init__() 设置两个属性：restaurant_name 和cuisine_type 。创建一个名为describe_restaurant() 的方法和一个名为open_restaurant() 的方法，其中前者打印前述两项信息，而后者打印一条消息，指出餐馆正在营业。\n",
    "\n",
    "根据这个类创建一个名为restaurant 的实例，分别打印其两个属性，再调用前述两个方法。\n",
    "\n",
    "9-2 三家餐馆 ：根据你为完成练习9-1而编写的类创建三个实例，并对每个实例调用方法describe_restaurant() 。\n",
    "\n",
    "9-3 用户 ：创建一个名为User 的类，其中包含属性first_name 和last_name ，还有用户简介通常会存储的其他几个属性。在类User 中定义一个名为describe_user() 的方法，它打印用户信息摘要；再定义一个名为greet_user() 的方法，它向用户发出个性化的问候。\n",
    "\n",
    "创建多个表示不同用户的实例，并对每个实例都调用上述两个方法。"
   ]
  },
  {
   "cell_type": "code",
   "execution_count": 6,
   "metadata": {},
   "outputs": [
    {
     "name": "stdout",
     "output_type": "stream",
     "text": [
      "-----9-1-----\n",
      "KFC\n",
      "Fast Food\n",
      "Restaurant name is KFC and the cuisine type is Fast Food.\n",
      "Restaurant is opened.\n"
     ]
    }
   ],
   "source": [
    "# 9-1\n",
    "print(\"-----9-1-----\")\n",
    "class Restaurant():\n",
    "    \"\"\"a simple class for restaurants\"\"\"\n",
    "    def __init__(self, restaurant_name, cuisine_type):\n",
    "        \"\"\"init the class restaurant\"\"\"\n",
    "        self.restaurant_name = restaurant_name\n",
    "        self.cuisine_type = cuisine_type\n",
    "    \n",
    "    def describe_restaurant(self):\n",
    "        \"\"\"describe the name of restaurant\"\"\"\n",
    "        print(\"Restaurant name is {} and the cuisine type is {}.\".format(self.restaurant_name,self.cuisine_type))\n",
    "    \n",
    "    def open_restaurant(self):\n",
    "        print(\"Restaurant is opened.\")\n",
    "        \n",
    "my_restaurant = Restaurant(\"KFC\",\"Fast Food\")\n",
    "print(my_restaurant.restaurant_name)\n",
    "print(my_restaurant.cuisine_type)\n",
    "my_restaurant.describe_restaurant()\n",
    "my_restaurant.open_restaurant()"
   ]
  },
  {
   "cell_type": "code",
   "execution_count": 7,
   "metadata": {},
   "outputs": [
    {
     "name": "stdout",
     "output_type": "stream",
     "text": [
      "-----9-2-----\n",
      "Restaurant name is McDonald and the cuisine type is Fast Food.\n",
      "Restaurant is opened.\n",
      "Chinese Food\n"
     ]
    }
   ],
   "source": [
    "# 9-2\n",
    "print(\"-----9-2-----\")\n",
    "restaurant_1 = Restaurant(\"McDonald\", \"Fast Food\")\n",
    "restaurant_2 = Restaurant(\"Lanzhou Noodles\", \"Chinese Noodles\")\n",
    "restaurant_3 = Restaurant(\"The FlowerDrum\", \"Chinese Food\")\n",
    "restaurant_1.describe_restaurant()\n",
    "restaurant_2.open_restaurant()\n",
    "print(restaurant_3.cuisine_type)"
   ]
  },
  {
   "cell_type": "code",
   "execution_count": 8,
   "metadata": {},
   "outputs": [
    {
     "name": "stdout",
     "output_type": "stream",
     "text": [
      "-----9-3-----\n",
      "User Name: Zhuang Bin\n",
      "Gender: M\n",
      "Age: 38\n",
      "Hello, Zhuang Bin\n"
     ]
    }
   ],
   "source": [
    "# 9-3\n",
    "print(\"-----9-3-----\")\n",
    "class User():\n",
    "    \"\"\"a class for user\"\"\"\n",
    "    def __init__(self, first_name, last_name, gender, age):\n",
    "        \"\"\"init the user instance\"\"\"\n",
    "        self.first_name = first_name\n",
    "        self.last_name = last_name\n",
    "        self.gender = gender\n",
    "        self.age = age\n",
    "    \n",
    "    def describe_user(self):\n",
    "        \"\"\"describe the user infomation\"\"\"\n",
    "        print(\"User Name: {} {}\".format(self.last_name, self.first_name))\n",
    "        print(\"Gender: {}\".format(self.gender))\n",
    "        print(\"Age: {}\".format(self.age))\n",
    "        \n",
    "    def greet_user(self):\n",
    "        \"\"\"say Hello to user\"\"\"\n",
    "        print(\"Hello, {} {}\".format(self.last_name.title(), self.first_name.title()))\n",
    "\n",
    "user_me = User(\"Bin\", \"Zhuang\", \"M\", 38)\n",
    "user_me.describe_user()\n",
    "user_me.greet_user()"
   ]
  },
  {
   "cell_type": "markdown",
   "metadata": {},
   "source": [
    "## 9.2　使用类和实例\n",
    "可以使用类来模拟现实世界中的很多情景。类编写好后的大部分时间都将花在使用根据类创建的实例上。\n",
    "\n",
    "这时需要执行的一个重要任务是修改实例的属性。可以直接修改实例的属性，也可以编写方法以特定的方式进行修改。"
   ]
  },
  {
   "cell_type": "markdown",
   "metadata": {},
   "source": [
    "### 9.2.1　Car 类"
   ]
  },
  {
   "cell_type": "code",
   "execution_count": 9,
   "metadata": {},
   "outputs": [
    {
     "name": "stdout",
     "output_type": "stream",
     "text": [
      "2016 Audi A4\n"
     ]
    }
   ],
   "source": [
    "class Car():\n",
    "    \"\"\"一次模拟汽车的简单尝试\"\"\"\n",
    "\n",
    "    def __init__(self, make, model, year):\n",
    "        \"\"\"初始化描述汽车的属性\"\"\"\n",
    "        self.make = make\n",
    "        self.model = model\n",
    "        self.year = year\n",
    "\n",
    "    def get_descriptive_name(self):\n",
    "        \"\"\"返回整洁的描述性信息\"\"\"\n",
    "        long_name = str(self.year) + ' ' + self.make + ' ' + self.model\n",
    "        return long_name.title()\n",
    "\n",
    "my_new_car = Car('audi', 'a4', 2016)\n",
    "print(my_new_car.get_descriptive_name())"
   ]
  },
  {
   "cell_type": "markdown",
   "metadata": {},
   "source": [
    "### 9.2.2　给属性指定默认值\n",
    "类中的每个属性都必须有初始值，哪怕这个值是0或空字符串。在有些情况下，如设置默认值时，在方法__init__() 内指定这种初始值是可行的；如果你对某个属性这样做了，就无需包含为它提供初始值的形参。"
   ]
  },
  {
   "cell_type": "code",
   "execution_count": 10,
   "metadata": {},
   "outputs": [
    {
     "name": "stdout",
     "output_type": "stream",
     "text": [
      "2016 Audi A4\n",
      "This car has 0 miles on it.\n"
     ]
    }
   ],
   "source": [
    "class Car():\n",
    "    \"\"\"一次模拟汽车的简单尝试\"\"\"\n",
    "\n",
    "    def __init__(self, make, model, year):\n",
    "        \"\"\"初始化描述汽车的属性\"\"\"\n",
    "        self.make = make\n",
    "        self.model = model\n",
    "        self.year = year\n",
    "        self.odometer_reading = 0\n",
    "\n",
    "    def get_descriptive_name(self):\n",
    "        \"\"\"返回整洁的描述性信息\"\"\"\n",
    "        long_name = str(self.year) + ' ' + self.make + ' ' + self.model\n",
    "        return long_name.title()\n",
    "    \n",
    "    def read_odometer(self):\n",
    "        \"\"\"打印一条指出汽车里程的消息\"\"\"\n",
    "        print(\"This car has \" + str(self.odometer_reading) + \" miles on it.\")\n",
    "\n",
    "my_new_car = Car('audi', 'a4', 2016)\n",
    "print(my_new_car.get_descriptive_name())\n",
    "my_new_car.read_odometer()"
   ]
  },
  {
   "cell_type": "markdown",
   "metadata": {},
   "source": [
    "### 9.2.3　修改属性的值\n",
    "可以以三种不同的方式修改属性的值：\n",
    "* 直接通过实例进行修改；\n",
    "* 通过方法进行设置；\n",
    "* 通过方法进行递增（增加特定的值）。"
   ]
  },
  {
   "cell_type": "markdown",
   "metadata": {},
   "source": [
    "1. 直接修改属性的值\n",
    "\n",
    "要修改属性的值，最简单的方式是通过实例直接访问它。"
   ]
  },
  {
   "cell_type": "code",
   "execution_count": 11,
   "metadata": {},
   "outputs": [
    {
     "name": "stdout",
     "output_type": "stream",
     "text": [
      "This car has 23 miles on it.\n"
     ]
    }
   ],
   "source": [
    "my_new_car.odometer_reading = 23\n",
    "my_new_car.read_odometer()"
   ]
  },
  {
   "cell_type": "markdown",
   "metadata": {},
   "source": [
    "2. 通过方法修改属性的值\n",
    "\n",
    "如果有更新属性的方法，将大有裨益。这样，就无需直接访问属性，而可将值传递给一个方法，由它在内部进行更新。"
   ]
  },
  {
   "cell_type": "code",
   "execution_count": 12,
   "metadata": {},
   "outputs": [
    {
     "name": "stdout",
     "output_type": "stream",
     "text": [
      "2016 Audi A4\n",
      "This car has 0 miles on it.\n",
      "This car has 25 miles on it.\n"
     ]
    }
   ],
   "source": [
    "class Car():\n",
    "    \"\"\"一次模拟汽车的简单尝试\"\"\"\n",
    "\n",
    "    def __init__(self, make, model, year):\n",
    "        \"\"\"初始化描述汽车的属性\"\"\"\n",
    "        self.make = make\n",
    "        self.model = model\n",
    "        self.year = year\n",
    "        self.odometer_reading = 0\n",
    "\n",
    "    def get_descriptive_name(self):\n",
    "        \"\"\"返回整洁的描述性信息\"\"\"\n",
    "        long_name = str(self.year) + ' ' + self.make + ' ' + self.model\n",
    "        return long_name.title()\n",
    "    \n",
    "    def read_odometer(self):\n",
    "        \"\"\"打印一条指出汽车里程的消息\"\"\"\n",
    "        print(\"This car has \" + str(self.odometer_reading) + \" miles on it.\")\n",
    "    \n",
    "    def update_odometer(self, mileage):\n",
    "        \"\"\"将里程表读数设置为指定的值\"\"\"\n",
    "        self.odometer_reading = mileage\n",
    "\n",
    "my_new_car = Car('audi', 'a4', 2016)\n",
    "print(my_new_car.get_descriptive_name())\n",
    "my_new_car.read_odometer()\n",
    "my_new_car.update_odometer(25)\n",
    "my_new_car.read_odometer()"
   ]
  },
  {
   "cell_type": "code",
   "execution_count": 13,
   "metadata": {},
   "outputs": [
    {
     "name": "stdout",
     "output_type": "stream",
     "text": [
      "2016 Audi A4\n",
      "This car has 0 miles on it.\n",
      "This car has 25 miles on it.\n",
      "You can't roll back an odometer!\n",
      "This car has 25 miles on it.\n"
     ]
    }
   ],
   "source": [
    "class Car():\n",
    "    \"\"\"一次模拟汽车的简单尝试\"\"\"\n",
    "\n",
    "    def __init__(self, make, model, year):\n",
    "        \"\"\"初始化描述汽车的属性\"\"\"\n",
    "        self.make = make\n",
    "        self.model = model\n",
    "        self.year = year\n",
    "        self.odometer_reading = 0\n",
    "\n",
    "    def get_descriptive_name(self):\n",
    "        \"\"\"返回整洁的描述性信息\"\"\"\n",
    "        long_name = str(self.year) + ' ' + self.make + ' ' + self.model\n",
    "        return long_name.title()\n",
    "    \n",
    "    def read_odometer(self):\n",
    "        \"\"\"打印一条指出汽车里程的消息\"\"\"\n",
    "        print(\"This car has \" + str(self.odometer_reading) + \" miles on it.\")\n",
    "    \n",
    "    def update_odometer(self, mileage):\n",
    "        \"\"\"\n",
    "        将里程表读数设置为指定的值\n",
    "        禁止将里程表读数往回调\n",
    "        \"\"\"\n",
    "        if mileage >= self.odometer_reading:\n",
    "            self.odometer_reading = mileage\n",
    "        else:\n",
    "            print(\"You can't roll back an odometer!\")\n",
    "            \n",
    "my_new_car = Car('audi', 'a4', 2016)\n",
    "print(my_new_car.get_descriptive_name())\n",
    "my_new_car.read_odometer()\n",
    "my_new_car.update_odometer(25)\n",
    "my_new_car.read_odometer()\n",
    "my_new_car.update_odometer(15)\n",
    "my_new_car.read_odometer()"
   ]
  },
  {
   "cell_type": "markdown",
   "metadata": {},
   "source": [
    "3. 通过方法对属性的值进行递增\n",
    "\n",
    "有时候需要将属性值递增特定的量，而不是将其设置为全新的值。"
   ]
  },
  {
   "cell_type": "code",
   "execution_count": 14,
   "metadata": {},
   "outputs": [
    {
     "name": "stdout",
     "output_type": "stream",
     "text": [
      "2013 Subaru Outback\n",
      "This car has 23500 miles on it.\n",
      "This car has 23600 miles on it.\n"
     ]
    }
   ],
   "source": [
    "class Car():\n",
    "    \"\"\"一次模拟汽车的简单尝试\"\"\"\n",
    "\n",
    "    def __init__(self, make, model, year):\n",
    "        \"\"\"初始化描述汽车的属性\"\"\"\n",
    "        self.make = make\n",
    "        self.model = model\n",
    "        self.year = year\n",
    "        self.odometer_reading = 0\n",
    "\n",
    "    def get_descriptive_name(self):\n",
    "        \"\"\"返回整洁的描述性信息\"\"\"\n",
    "        long_name = str(self.year) + ' ' + self.make + ' ' + self.model\n",
    "        return long_name.title()\n",
    "    \n",
    "    def read_odometer(self):\n",
    "        \"\"\"打印一条指出汽车里程的消息\"\"\"\n",
    "        print(\"This car has \" + str(self.odometer_reading) + \" miles on it.\")\n",
    "    \n",
    "    def update_odometer(self, mileage):\n",
    "        \"\"\"\n",
    "        将里程表读数设置为指定的值\n",
    "        禁止将里程表读数往回调\n",
    "        \"\"\"\n",
    "        if mileage >= self.odometer_reading:\n",
    "            self.odometer_reading = mileage\n",
    "        else:\n",
    "            print(\"You can't roll back an odometer!\")\n",
    "    \n",
    "    def increment_odometer(self, miles):\n",
    "        \"\"\"将里程表读数增加指定的量\"\"\"\n",
    "        self.odometer_reading += miles\n",
    "        \n",
    "my_used_car = Car('subaru', 'outback', 2013)\n",
    "print(my_used_car.get_descriptive_name())\n",
    "\n",
    "my_used_car.update_odometer(23500)\n",
    "my_used_car.read_odometer()\n",
    "\n",
    "my_used_car.increment_odometer(100)\n",
    "my_used_car.read_odometer()"
   ]
  },
  {
   "cell_type": "markdown",
   "metadata": {},
   "source": [
    "> 可以使用类似于上面的方法来控制用户修改属性值（如里程表读数）的方式，但能够访问程序的人都可以通过直接访问属性来将里程表修改为任何值。要确保安全，除了进行类似于前面的基本检查外，还需特别注意细节。"
   ]
  },
  {
   "cell_type": "markdown",
   "metadata": {},
   "source": [
    "**练习：**\n",
    "9-4 就餐人数 ：在为完成练习9-1而编写的程序中，添加一个名为number_served 的属性，并将其默认值设置为0。根据这个类创建一个名为restaurant 的实例；打印有多少人在这家餐馆就餐过，然后修改这个值并再次打印它。\n",
    "\n",
    "添加一个名为set_number_served() 的方法，它让你能够设置就餐人数。调用这个方法并向它传递一个值，然后再次打印这个值。\n",
    "\n",
    "添加一个名为increment_number_served() 的方法，它让你能够将就餐人数递增。调用这个方法并向它传递一个这样的值：你认为这家餐馆每天可能接待的就餐人数。\n",
    "\n",
    "9-5 尝试登录次数 ：在为完成练习9-3而编写的User 类中，添加一个名为login_attempts 的属性。编写一个名为increment_login_attempts() 的方法，它将属性login_attempts 的值加1。再编写一个名为reset_login_attempts() 的方法，它将属性login_attempts 的值重置为0。\n",
    "\n",
    "根据User 类创建一个实例，再调用方法increment_login_attempts() 多次。打印属性login_attempts 的值，确认它被正确地递增；然后，调用方法reset_login_attempts() ，并再次打印属性login_attempts 的值，确认它被重置为0。"
   ]
  },
  {
   "cell_type": "code",
   "execution_count": 15,
   "metadata": {},
   "outputs": [
    {
     "name": "stdout",
     "output_type": "stream",
     "text": [
      "-----9-4-----\n",
      "KFC\n",
      "Fast Food\n",
      "Restaurant name is KFC and the cuisine type is Fast Food.\n",
      "Restaurant is opened.\n",
      "0\n",
      "5\n",
      "10\n",
      "20\n"
     ]
    }
   ],
   "source": [
    "# 9-4\n",
    "print(\"-----9-4-----\")\n",
    "class Restaurant():\n",
    "    \"\"\"a simple class for restaurants\"\"\"\n",
    "    def __init__(self, restaurant_name, cuisine_type):\n",
    "        \"\"\"init the class restaurant\"\"\"\n",
    "        self.restaurant_name = restaurant_name\n",
    "        self.cuisine_type = cuisine_type\n",
    "        self.number_served = 0\n",
    "    \n",
    "    def describe_restaurant(self):\n",
    "        \"\"\"describe the name of restaurant\"\"\"\n",
    "        print(\"Restaurant name is {} and the cuisine type is {}.\".format(self.restaurant_name,self.cuisine_type))\n",
    "    \n",
    "    def open_restaurant(self):\n",
    "        \"\"\"change the restaurant status\"\"\"\n",
    "        print(\"Restaurant is opened.\")\n",
    "        \n",
    "    def set_number_served(self, served_number):\n",
    "        \"\"\"set the number of people being served\"\"\"\n",
    "        self.number_served = served_number\n",
    "    \n",
    "    def increment_number_served(self, increment_number):\n",
    "        \"\"\"increase the number served by increment number\"\"\"\n",
    "        self.number_served += increment_number\n",
    "        \n",
    "my_restaurant = Restaurant(\"KFC\",\"Fast Food\")\n",
    "print(my_restaurant.restaurant_name)\n",
    "print(my_restaurant.cuisine_type)\n",
    "my_restaurant.describe_restaurant()\n",
    "my_restaurant.open_restaurant()\n",
    "\n",
    "print(my_restaurant.number_served)\n",
    "my_restaurant.number_served = 5\n",
    "print(my_restaurant.number_served)\n",
    "my_restaurant.set_number_served(10)\n",
    "print(my_restaurant.number_served)\n",
    "my_restaurant.increment_number_served(10)\n",
    "print(my_restaurant.number_served)"
   ]
  },
  {
   "cell_type": "code",
   "execution_count": 16,
   "metadata": {},
   "outputs": [
    {
     "name": "stdout",
     "output_type": "stream",
     "text": [
      "-----9-5-----\n",
      "User Name: Zhuang Bin\n",
      "Gender: M\n",
      "Age: 38\n",
      "Hello, Zhuang Bin\n",
      "1\t2\t3\t4\t5\t6\t7\t8\t9\t10\t\n",
      "0\n"
     ]
    }
   ],
   "source": [
    "# 9-5\n",
    "print(\"-----9-5-----\")\n",
    "class User():\n",
    "    \"\"\"a class for user\"\"\"\n",
    "    def __init__(self, first_name, last_name, gender, age):\n",
    "        \"\"\"init the user instance\"\"\"\n",
    "        self.first_name = first_name\n",
    "        self.last_name = last_name\n",
    "        self.gender = gender\n",
    "        self.age = age\n",
    "        self.login_attempts = 0\n",
    "    \n",
    "    def describe_user(self):\n",
    "        \"\"\"describe the user infomation\"\"\"\n",
    "        print(\"User Name: {} {}\".format(self.last_name, self.first_name))\n",
    "        print(\"Gender: {}\".format(self.gender))\n",
    "        print(\"Age: {}\".format(self.age))\n",
    "        \n",
    "    def greet_user(self):\n",
    "        \"\"\"say Hello to user\"\"\"\n",
    "        print(\"Hello, {} {}\".format(self.last_name.title(), self.first_name.title()))\n",
    "        \n",
    "    def increment_login_attempts(self):\n",
    "        \"\"\"increase login attempts by 1\"\"\"\n",
    "        self.login_attempts += 1\n",
    "    \n",
    "    def reset_login_attempts(self):\n",
    "        \"\"\"reset login attempts to 0\"\"\"\n",
    "        self.login_attempts = 0\n",
    "    \n",
    "\n",
    "user_me = User(\"Bin\", \"Zhuang\", \"M\", 38)\n",
    "user_me.describe_user()\n",
    "user_me.greet_user()\n",
    "for login_times in range(10):\n",
    "    user_me.increment_login_attempts()\n",
    "    print(user_me.login_attempts,end='\\t')\n",
    "\n",
    "print()\n",
    "user_me.reset_login_attempts()\n",
    "print(user_me.login_attempts)"
   ]
  },
  {
   "cell_type": "markdown",
   "metadata": {},
   "source": [
    "## 9.3　继承\n",
    "编写类时，并非总是要从空白开始。如果你要编写的类是另一个现成类的特殊版本，可使用`继承`。一个类继承另一个类时，它将自动获得另一个类的所有属性和方法；原有的类称为父类，而新类称为子类 。子类继承了其父类的所有属性和方法，同时还可以定义自己的属性和方法。"
   ]
  },
  {
   "cell_type": "markdown",
   "metadata": {},
   "source": [
    "### 9.3.1　子类的方法`__init__()`\n",
    "创建子类的实例时，Python首先需要完成的任务是给父类的所有属性赋值。为此，子类的方法`__init__()` 需要父类施以援手。\n",
    "\n",
    "- 创建子类时，父类必须包含在当前文件中，且位于子类前面。\n",
    "- 定义子类时，必须在括号内指定父类的名称。\n",
    "- super() 是一个特殊函数，帮助Python将父类和子类关联起来。\n",
    "- 父类也称为超类 （superclass），名称super因此而得名。"
   ]
  },
  {
   "cell_type": "code",
   "execution_count": 17,
   "metadata": {},
   "outputs": [
    {
     "name": "stdout",
     "output_type": "stream",
     "text": [
      "2016 Tesla Model S\n"
     ]
    }
   ],
   "source": [
    "class Car():\n",
    "    \"\"\"一次模拟汽车的简单尝试\"\"\"\n",
    "\n",
    "    def __init__(self, make, model, year):\n",
    "        self.make = make\n",
    "        self.model = model\n",
    "        self.year = year\n",
    "        self.odometer_reading = 0\n",
    "\n",
    "    def get_descriptive_name(self):\n",
    "        long_name = str(self.year) + ' ' + self.make + ' ' + self.model\n",
    "        return long_name.title()\n",
    "\n",
    "    def read_odometer(self):\n",
    "        print(\"This car has \" + str(self.odometer_reading) + \" miles on it.\")\n",
    "\n",
    "    def update_odometer(self, mileage):\n",
    "        if mileage >= self.odometer_reading:\n",
    "            self.odometer_reading = mileage\n",
    "        else:\n",
    "            print(\"You can't roll back an odometer!\")\n",
    "\n",
    "    def increment_odometer(self, miles):\n",
    "        self.odometer_reading += miles\n",
    "\n",
    "class ElectricCar(Car):\n",
    "    \"\"\"电动汽车的独特之处\"\"\"\n",
    "\n",
    "    def __init__(self, make, model, year):\n",
    "        \"\"\"初始化父类的属性\"\"\"\n",
    "        #下面的代码让Python调用ElectricCar 的父类的方法__init__() \n",
    "        #让ElectricCar实例包含父类的所有属性。\n",
    "        super().__init__(make, model, year)\n",
    "\n",
    "\n",
    "my_tesla = ElectricCar('tesla', 'model s', 2016)\n",
    "print(my_tesla.get_descriptive_name())"
   ]
  },
  {
   "cell_type": "markdown",
   "metadata": {},
   "source": [
    "### 9.3.2　Python 2.7中的继承\n",
    "在Python 2.7中，继承语法稍有不同。函数super() 需要两个实参：子类名和对象self 。为帮助Python将父类和子类关联起来，这些实参必不可少。另外，在Python 2.7中使用继承时，务必在定义父类时在括号内指定object 。"
   ]
  },
  {
   "cell_type": "markdown",
   "metadata": {},
   "source": [
    "```python\n",
    "class Car(object):\n",
    "    def __init__(self, make, model, year):\n",
    "        pass\n",
    "\n",
    "class ElectricCar(Car):\n",
    "    def __init__(self, make, model, year):\n",
    "        super(ElectricCar, self).__init__(make, model, year)\n",
    "        pass\n",
    "```"
   ]
  },
  {
   "cell_type": "markdown",
   "metadata": {},
   "source": [
    "### 9.3.3　给子类定义属性和方法\n",
    "让一个类继承另一个类后，可添加区分子类和父类所需的新属性和方法。\n",
    "> 继承的属性只能多，不能少。"
   ]
  },
  {
   "cell_type": "code",
   "execution_count": 18,
   "metadata": {},
   "outputs": [
    {
     "name": "stdout",
     "output_type": "stream",
     "text": [
      "2016 Tesla Model S\n",
      "This car has a 70-kWh battery.\n"
     ]
    }
   ],
   "source": [
    "class ElectricCar(Car):\n",
    "    \"\"\"定义Car的子类，电动汽车\"\"\"\n",
    "\n",
    "    def __init__(self, make, model, year):\n",
    "        \"\"\"\n",
    "        电动汽车的独特之处\n",
    "        初始化父类的属性，再初始化电动汽车特有的属性\n",
    "        \"\"\"      \n",
    "        super().__init__(make, model, year)\n",
    "        self.battery_size = 70\n",
    "\n",
    "    def describe_battery(self):\n",
    "        \"\"\"打印一条描述电池容量的消息\"\"\"\n",
    "        print(\"This car has a \" + str(self.battery_size) + \"-kWh battery.\")\n",
    "\n",
    "my_tesla = ElectricCar('tesla', 'model s', 2016)\n",
    "print(my_tesla.get_descriptive_name())\n",
    "my_tesla.describe_battery()"
   ]
  },
  {
   "cell_type": "markdown",
   "metadata": {},
   "source": [
    "### 9.3.4　重写父类的方法\n",
    "\n",
    "对于父类的方法，只要它不符合子类模拟的实物的行为，都可对其进行重写。为此，可在子类中定义一个这样的方法，即它与要重写的父类方法<font color = red>同名</font>。这样，Python将不会考虑这个父类方法，而只关注你在子类中定义的相应方法。"
   ]
  },
  {
   "cell_type": "code",
   "execution_count": 19,
   "metadata": {},
   "outputs": [
    {
     "name": "stdout",
     "output_type": "stream",
     "text": [
      "2016 Tesla Model S\n",
      "This car doesn't need a gas tank!\n"
     ]
    }
   ],
   "source": [
    "class ElectricCar(Car):\n",
    "    \"\"\"定义Car的子类，电动汽车\"\"\"\n",
    "\n",
    "    def __init__(self, make, model, year):\n",
    "        \"\"\"\n",
    "        电动汽车的独特之处\n",
    "        初始化父类的属性，再初始化电动汽车特有的属性\n",
    "        \"\"\"      \n",
    "        super().__init__(make, model, year)\n",
    "        self.battery_size = 70\n",
    "\n",
    "    def describe_battery(self):\n",
    "        \"\"\"打印一条描述电池容量的消息\"\"\"\n",
    "        print(\"This car has a \" + str(self.battery_size) + \"-kWh battery.\")\n",
    "        \n",
    "    def fill_gas_tank(self):\n",
    "        \"\"\"电动汽车没有油箱\"\"\"\n",
    "        print(\"This car doesn't need a gas tank!\")\n",
    "\n",
    "my_tesla = ElectricCar('tesla', 'model s', 2016)\n",
    "print(my_tesla.get_descriptive_name())\n",
    "my_tesla.fill_gas_tank()"
   ]
  },
  {
   "cell_type": "markdown",
   "metadata": {},
   "source": [
    "### 9.3.5　将实例用作属性\n",
    "使用代码模拟实物时，可能会发现给类添加的细节越来越多：属性和方法清单以及文件都越来越长。在这种情况下，可能需要将类的一部分作为一个独立的类提取出来。\n",
    "\n",
    "可以将大型类拆分成多个协同工作的小类。"
   ]
  },
  {
   "cell_type": "code",
   "execution_count": 20,
   "metadata": {},
   "outputs": [
    {
     "name": "stdout",
     "output_type": "stream",
     "text": [
      "2016 Tesla Model S\n",
      "This car has a 70-kWh battery.\n"
     ]
    }
   ],
   "source": [
    "class Battery():\n",
    "    \"\"\"一次模拟电动汽车电瓶的简单尝试\"\"\"\n",
    "    \n",
    "    def __init__(self, battery_size=70):\n",
    "        \"\"\"初始化电瓶的属性\"\"\"\n",
    "        self.battery_size = battery_size\n",
    "\n",
    "    def describe_battery(self):\n",
    "        \"\"\"打印一条描述电瓶容量的消息\"\"\"\n",
    "        print(\"This car has a \" + str(self.battery_size) + \"-kWh battery.\")\n",
    "    \n",
    "class ElectricCar(Car):\n",
    "    \"\"\"电动汽车的独特之处\"\"\"\n",
    "\n",
    "    def __init__(self, make, model, year):\n",
    "        \"\"\"初始化父类的属性，再初始化电动汽车特有的属性\"\"\"\n",
    "        super().__init__(make, model, year)\n",
    "        self.battery = Battery()\n",
    "\n",
    "my_tesla = ElectricCar('tesla', 'model s', 2016)\n",
    "\n",
    "print(my_tesla.get_descriptive_name())\n",
    "my_tesla.battery.describe_battery()"
   ]
  },
  {
   "cell_type": "code",
   "execution_count": 21,
   "metadata": {},
   "outputs": [
    {
     "name": "stdout",
     "output_type": "stream",
     "text": [
      "2016 Tesla Model S\n",
      "This car has a 70-kWh battery.\n",
      "This car can go approximately 240 miles on a full charge.\n",
      "This car can go approximately 270 miles on a full charge.\n"
     ]
    }
   ],
   "source": [
    "class Battery():\n",
    "    \"\"\"一次模拟电动汽车电瓶的简单尝试\"\"\"\n",
    "    \n",
    "    def __init__(self, battery_size=70):\n",
    "        \"\"\"初始化电瓶的属性\"\"\"\n",
    "        self.battery_size = battery_size\n",
    "\n",
    "    def describe_battery(self):\n",
    "        \"\"\"打印一条描述电瓶容量的消息\"\"\"\n",
    "        print(\"This car has a \" + str(self.battery_size) + \"-kWh battery.\")\n",
    "    \n",
    "    def get_range(self):\n",
    "        \"\"\"打印一条消息，指出电瓶的续航里程\"\"\"\n",
    "        if self.battery_size == 70:\n",
    "            range = 240\n",
    "        elif self.battery_size == 85:\n",
    "            range = 270\n",
    "\n",
    "        message = \"This car can go approximately \" + str(range)\n",
    "        message += \" miles on a full charge.\"\n",
    "        print(message)\n",
    "\n",
    "class ElectricCar(Car):\n",
    "    \"\"\"电动汽车的独特之处\"\"\"\n",
    "\n",
    "    def __init__(self, make, model, year):\n",
    "        \"\"\"初始化父类的属性，再初始化电动汽车特有的属性\"\"\"\n",
    "        super().__init__(make, model, year)\n",
    "        self.battery = Battery()\n",
    "\n",
    "my_tesla = ElectricCar('tesla', 'model s', 2016)\n",
    "\n",
    "print(my_tesla.get_descriptive_name())\n",
    "my_tesla.battery.describe_battery()\n",
    "my_tesla.battery.get_range()\n",
    "my_tesla.battery.battery_size = 85\n",
    "my_tesla.battery.get_range()"
   ]
  },
  {
   "cell_type": "markdown",
   "metadata": {},
   "source": [
    "### 9.3.6　模拟实物\n",
    "模拟较复杂的物件（如电动汽车）时，需要解决一些有趣的问题。续航里程是电瓶的属性还是汽车的属性呢？如果我们只需描述一辆汽车，那么将方法get_range() 放在Battery 类中也许是合适的；但如果要描述一家汽车制造商的整个产品线，也许应该将方法get_range() 移到ElectricCar 类中。在这种情况下，get_range() 依然根据电瓶容量来确定续航里程，但报告的是一款汽车的续航里程。\n",
    "\n",
    "还可以这样做：将方法get_range() 还留在Battery 类中，但向它传递一个参数，如car_model；在这种情况下，方法get_range() 将根据电瓶容量和汽车型号报告续航里程。\n",
    "\n",
    "这会进入了程序员的另一个境界：解决上述问题时，从较高的逻辑层面（而不是语法层面）考虑；考虑的不是Python，而是如何使用代码来表示实物。到达这种境界后，经常会发现，现实世界的建模方法并没有对错之分。有些方法的效率更高，但要找出效率最高的表示法，需要经过一定的实践。只要代码能像希望的那样运行，就说明你做得很好！即便发现不得不多次尝试使用不同的方法来重写类，也不必气馁；要编写出高效、准确的代码，都得经过这样的过程。"
   ]
  },
  {
   "cell_type": "markdown",
   "metadata": {},
   "source": [
    "**练习：**\n",
    "9-6 冰淇淋小店 ：冰淇淋小店是一种特殊的餐馆。编写一个名为IceCreamStand 的类，让它继承你为完成练习9-1或练习9-4而编写的Restaurant 类。这两个版本的Restaurant 类都可以，挑选你更喜欢的那个即可。添加一个名为flavors 的属性，用于存储一个由各种口味的冰淇淋组成的列表。编写一个显示这些冰淇淋的方法。创建一个IceCreamStand 实例，并调用这个方法。\n",
    "\n",
    "9-7 管理员 ：管理员是一种特殊的用户。编写一个名为Admin 的类，让它继承你为完成练习9-3或练习9-5而编写的User 类。添加一个名为privileges 的属性，用于存储一个由字符串（如\"can add post\" 、\"can delete post\" 、\"can ban user\" 等）组成的列表。编写一个名为show_privileges() 的方法，它显示管理员的权限。创建一个Admin 实例，并调用这个方法。\n",
    "\n",
    "9-8 权限 ：编写一个名为Privileges 的类，它只有一个属性——privileges ，其中存储了练习9-7 所说的字符串列表。将方法show_privileges() 移到这个类中。在Admin 类中，将一个Privileges 实例用作其属性。创建一个Admin 实例，并使用方法show_privileges() 来显示其权限。\n",
    "\n",
    "9-9 电瓶升级 ：在本节最后一个electric_car.py版本中，给Battery 类添加一个名为upgrade_battery() 的方法。这个方法检查电瓶容量，如果它不是85，就将它设置为85。创建一辆电瓶容量为默认值的电动汽车，调用方法get_range() ，然后对电瓶进行升级，并再次调用get_range() 。你会看到这辆汽车的续航里程增加了。"
   ]
  },
  {
   "cell_type": "code",
   "execution_count": 22,
   "metadata": {},
   "outputs": [
    {
     "name": "stdout",
     "output_type": "stream",
     "text": [
      "-----9-6-----\n",
      "salty apple stawberry\n"
     ]
    }
   ],
   "source": [
    "# 9-6\n",
    "print(\"-----9-6-----\")\n",
    "class Restaurant():\n",
    "    \"\"\"a simple class for restaurants\"\"\"\n",
    "    def __init__(self, restaurant_name, cuisine_type):\n",
    "        \"\"\"init the class restaurant\"\"\"\n",
    "        self.restaurant_name = restaurant_name\n",
    "        self.cuisine_type = cuisine_type\n",
    "        self.number_served = 0\n",
    "    \n",
    "    def describe_restaurant(self):\n",
    "        \"\"\"describe the name of restaurant\"\"\"\n",
    "        print(\"Restaurant name is {} and the cuisine type is {}.\".format(self.restaurant_name,self.cuisine_type))\n",
    "    \n",
    "    def open_restaurant(self):\n",
    "        \"\"\"change the restaurant status\"\"\"\n",
    "        print(\"Restaurant is opened.\")\n",
    "        \n",
    "    def set_number_served(self, served_number):\n",
    "        \"\"\"set the number of people being served\"\"\"\n",
    "        self.number_served = served_number\n",
    "    \n",
    "    def increment_number_served(self, increment_number):\n",
    "        \"\"\"increase the number served by increment number\"\"\"\n",
    "        self.number_served += increment_number\n",
    "\n",
    "class IceCreamStand(Restaurant):\n",
    "    \"\"\"a child class of restaurant\"\"\"\n",
    "    def __init__(self,restaurant_name, cuisine_type):\n",
    "        \"\"\"a class for ice cream stand\"\"\"\n",
    "        super().__init__(restaurant_name, cuisine_type)\n",
    "        self.flavors = ['salty', 'apple', 'stawberry']\n",
    "    \n",
    "    def display_flavors(self):\n",
    "        \"\"\"display flavors\"\"\"\n",
    "        print(\" \".join(self.flavors))\n",
    "        \n",
    "my_icecream_stand = IceCreamStand(\"MyIceStand\",\"IceCream\")\n",
    "my_icecream_stand.display_flavors()"
   ]
  },
  {
   "cell_type": "code",
   "execution_count": 23,
   "metadata": {},
   "outputs": [
    {
     "name": "stdout",
     "output_type": "stream",
     "text": [
      "-----9-7-----\n",
      "can add post,can delete post,can ban user\n"
     ]
    }
   ],
   "source": [
    "# 9-7\n",
    "print(\"-----9-7-----\")\n",
    "class User():\n",
    "    \"\"\"a class for user\"\"\"\n",
    "    def __init__(self, first_name, last_name, gender, age):\n",
    "        \"\"\"init the user instance\"\"\"\n",
    "        self.first_name = first_name\n",
    "        self.last_name = last_name\n",
    "        self.gender = gender\n",
    "        self.age = age\n",
    "        self.login_attempts = 0\n",
    "    \n",
    "    def describe_user(self):\n",
    "        \"\"\"describe the user infomation\"\"\"\n",
    "        print(\"User Name: {} {}\".format(self.last_name, self.first_name))\n",
    "        print(\"Gender: {}\".format(self.gender))\n",
    "        print(\"Age: {}\".format(self.age))\n",
    "        \n",
    "    def greet_user(self):\n",
    "        \"\"\"say Hello to user\"\"\"\n",
    "        print(\"Hello, {} {}\".format(self.last_name.title(), self.first_name.title()))\n",
    "        \n",
    "    def increment_login_attempts(self):\n",
    "        \"\"\"increase login attempts by 1\"\"\"\n",
    "        self.login_attempts += 1\n",
    "    \n",
    "    def reset_login_attempts(self):\n",
    "        \"\"\"reset login attempts to 0\"\"\"\n",
    "        self.login_attempts = 0\n",
    "\n",
    "class Admin(User):\n",
    "    \"\"\"a child class of user\"\"\"\n",
    "    def __init__(self, first_name, last_name, gender, age):\n",
    "        \"\"\"init class of Admin\"\"\"\n",
    "        super().__init__(first_name, last_name, gender, age)\n",
    "        self.privileges = [\"can add post\", \"can delete post\", \"can ban user\"]\n",
    "    \n",
    "    def show_privileges(self):\n",
    "        \"\"\"show Admin privileges\"\"\"\n",
    "        print(\",\".join(self.privileges))\n",
    "\n",
    "admin_daughter = Admin(\"Judy\", \"Zhuang\", \"F\", 10)\n",
    "admin_daughter.show_privileges()"
   ]
  },
  {
   "cell_type": "code",
   "execution_count": 24,
   "metadata": {},
   "outputs": [
    {
     "name": "stdout",
     "output_type": "stream",
     "text": [
      "-----9-8-----\n",
      "User Name: Zhuang Judy\n",
      "Gender: F\n",
      "Age: 10\n",
      "can add post,can delete post,can ban user\n"
     ]
    }
   ],
   "source": [
    "# 9-8\n",
    "print(\"-----9-8-----\")\n",
    "class User():\n",
    "    \"\"\"a class for user\"\"\"\n",
    "    def __init__(self, first_name, last_name, gender, age):\n",
    "        \"\"\"init the user instance\"\"\"\n",
    "        self.first_name = first_name\n",
    "        self.last_name = last_name\n",
    "        self.gender = gender\n",
    "        self.age = age\n",
    "        self.login_attempts = 0\n",
    "    \n",
    "    def describe_user(self):\n",
    "        \"\"\"describe the user infomation\"\"\"\n",
    "        print(\"User Name: {} {}\".format(self.last_name, self.first_name))\n",
    "        print(\"Gender: {}\".format(self.gender))\n",
    "        print(\"Age: {}\".format(self.age))\n",
    "        \n",
    "    def greet_user(self):\n",
    "        \"\"\"say Hello to user\"\"\"\n",
    "        print(\"Hello, {} {}\".format(self.last_name.title(), self.first_name.title()))\n",
    "        \n",
    "    def increment_login_attempts(self):\n",
    "        \"\"\"increase login attempts by 1\"\"\"\n",
    "        self.login_attempts += 1\n",
    "    \n",
    "    def reset_login_attempts(self):\n",
    "        \"\"\"reset login attempts to 0\"\"\"\n",
    "        self.login_attempts = 0\n",
    "        \n",
    "class Admin(User):\n",
    "    \"\"\"a child class of user\"\"\"\n",
    "    def __init__(self, first_name, last_name, gender, age):\n",
    "        \"\"\"init class of Admin\"\"\"\n",
    "        super().__init__(first_name, last_name, gender, age)\n",
    "        self.privileges = Privileges()\n",
    "\n",
    "class Privileges():\n",
    "    \"\"\"a class of Privileges\"\"\"\n",
    "    def __init__(self):\n",
    "        \"\"\"init the class privileges\"\"\"\n",
    "        self.privileges = [\"can add post\", \"can delete post\", \"can ban user\"]\n",
    "    \n",
    "    def show_privileges(self):\n",
    "        \"\"\"show Admin privileges\"\"\"\n",
    "        print(\",\".join(self.privileges))    \n",
    "    \n",
    "admin_daughter = Admin(\"Judy\", \"Zhuang\", \"F\", 10)\n",
    "admin_daughter.describe_user()\n",
    "admin_daughter.privileges.show_privileges()"
   ]
  },
  {
   "cell_type": "code",
   "execution_count": 25,
   "metadata": {},
   "outputs": [
    {
     "name": "stdout",
     "output_type": "stream",
     "text": [
      "2016 Tesla Model S\n",
      "This car has a 70-kWh battery.\n",
      "This car can go approximately 240 miles on a full charge.\n",
      "This car can go approximately 270 miles on a full charge.\n"
     ]
    }
   ],
   "source": [
    "class Battery():\n",
    "    \"\"\"一次模拟电动汽车电瓶的简单尝试\"\"\"\n",
    "    \n",
    "    def __init__(self, battery_size=70):\n",
    "        \"\"\"初始化电瓶的属性\"\"\"\n",
    "        self.battery_size = battery_size\n",
    "\n",
    "    def describe_battery(self):\n",
    "        \"\"\"打印一条描述电瓶容量的消息\"\"\"\n",
    "        print(\"This car has a \" + str(self.battery_size) + \"-kWh battery.\")\n",
    "    \n",
    "    def get_range(self):\n",
    "        \"\"\"打印一条消息，指出电瓶的续航里程\"\"\"\n",
    "        if self.battery_size == 70:\n",
    "            range = 240\n",
    "        elif self.battery_size == 85:\n",
    "            range = 270\n",
    "\n",
    "        message = \"This car can go approximately \" + str(range)\n",
    "        message += \" miles on a full charge.\"\n",
    "        print(message)\n",
    "\n",
    "    def upgrade_battery(self):\n",
    "        if self.battery_size == 70:\n",
    "            self.battery_size = 85\n",
    "\n",
    "my_tesla = ElectricCar('tesla', 'model s', 2016)\n",
    "\n",
    "print(my_tesla.get_descriptive_name())\n",
    "my_tesla.battery.describe_battery()\n",
    "my_tesla.battery.get_range()\n",
    "my_tesla.battery.upgrade_battery()\n",
    "my_tesla.battery.get_range()"
   ]
  },
  {
   "cell_type": "markdown",
   "metadata": {},
   "source": [
    "## 9.4　导入类\n",
    "随着不断地给类添加功能，文件可能变得很长，即便妥善地使用了继承亦如此。\n",
    "\n",
    "为遵循Python的总体理念，应让文件尽可能整洁。Python允许将类存储在模块中，然后在主程序中导入所需的模块。"
   ]
  },
  {
   "cell_type": "markdown",
   "metadata": {},
   "source": [
    "### 9.4.1　导入单个类\n",
    "导入类是一种有效的编程方式。通过将这个类移到一个模块中，并导入该模块，可以使用其所有功能，但主程序文件变得整洁而易于阅读了。\n",
    "\n",
    "这还能使大部分逻辑存储在独立的文件中；确定类正常工作后，就可以不管这些文件，而专注于主程序的高级逻辑了。"
   ]
  },
  {
   "cell_type": "code",
   "execution_count": 26,
   "metadata": {},
   "outputs": [
    {
     "name": "stdout",
     "output_type": "stream",
     "text": [
      "2012 Sokoda Octavia\n",
      "This car has 23 miles on it.\n"
     ]
    }
   ],
   "source": [
    "from C_9_4_1 import Car\n",
    "my_new_car = Car('sokoda', 'octavia', 2012)\n",
    "print(my_new_car.get_descriptive_name())\n",
    "\n",
    "my_new_car.odometer_reading = 23\n",
    "my_new_car.read_odometer()"
   ]
  },
  {
   "cell_type": "markdown",
   "metadata": {},
   "source": [
    "`import`语句让Python打开模块car，并导入其中的Car类。"
   ]
  },
  {
   "cell_type": "markdown",
   "metadata": {},
   "source": [
    "### 9.4.2　在一个模块中存储多个类\n",
    "虽然同一个模块中的类之间应存在某种相关性，但可根据需要在一个模块中存储任意数量的类。"
   ]
  },
  {
   "cell_type": "code",
   "execution_count": 27,
   "metadata": {},
   "outputs": [
    {
     "name": "stdout",
     "output_type": "stream",
     "text": [
      "2012 Sokoda Octavia\n",
      "This car has a 60-kWh battery.\n",
      "This car can go approximately 200 miles on a full charge.\n"
     ]
    }
   ],
   "source": [
    "from C_9_4_2 import ElectricCar\n",
    "\n",
    "my_new_car = ElectricCar('sokoda', 'octavia', 2012)\n",
    "\n",
    "print(my_new_car.get_descriptive_name())\n",
    "my_new_car.battery.describe_battery()\n",
    "my_new_car.battery.get_range()"
   ]
  },
  {
   "cell_type": "markdown",
   "metadata": {},
   "source": [
    "### 9.4.3　从一个模块中导入多个类\n",
    "可根据需要在程序文件中导入任意数量的类。"
   ]
  },
  {
   "cell_type": "code",
   "execution_count": 28,
   "metadata": {},
   "outputs": [
    {
     "name": "stdout",
     "output_type": "stream",
     "text": [
      "2016 Volkswagen Beetle\n",
      "2016 Tesla Roadster\n"
     ]
    }
   ],
   "source": [
    "from C_9_4_2 import ElectricCar, Car\n",
    "\n",
    "my_beetle = Car('volkswagen', 'beetle', 2016)\n",
    "print(my_beetle.get_descriptive_name())\n",
    "\n",
    "my_tesla = ElectricCar('tesla', 'roadster', 2016)\n",
    "print(my_tesla.get_descriptive_name())"
   ]
  },
  {
   "cell_type": "markdown",
   "metadata": {},
   "source": [
    "### 9.4.4　导入整个模块\n",
    "还可以导入整个模块，再使用句点表示法访问需要的类。这种导入方法很简单，代码也易于阅读。由于创建类实例的代码都包含模块名，因此不会与当前文件使用的任何名称发生冲突。\n",
    "\n",
    "导入后用语法`module_name.class_name`访问需要的类。"
   ]
  },
  {
   "cell_type": "code",
   "execution_count": 29,
   "metadata": {},
   "outputs": [
    {
     "name": "stdout",
     "output_type": "stream",
     "text": [
      "2016 Volkswagen Beetle\n",
      "2016 Tesla Roadster\n"
     ]
    }
   ],
   "source": [
    "import C_9_4_2 as car\n",
    "\n",
    "my_beetle = car.Car('volkswagen', 'beetle', 2016)\n",
    "print(my_beetle.get_descriptive_name())\n",
    "\n",
    "my_tesla = car.ElectricCar('tesla', 'roadster', 2016)\n",
    "print(my_tesla.get_descriptive_name())"
   ]
  },
  {
   "cell_type": "markdown",
   "metadata": {},
   "source": [
    "### 9.4.5　导入模块中的所有类\n",
    "要导入模块中的每个类，可使用`from module_name import *`。\n",
    "\n",
    "不推荐使用这种导入方式：\n",
    "\n",
    "1. 首先，如果只要看一下文件开头的import语句，就能清楚地知道程序使用了哪些类，将大有裨益；但这种导入方式没有明确地指出使用了模块中的哪些类。\n",
    "2. 这种导入方式还可能引发名称方面的困惑。如果你不小心导入了一个与程序文件中其他东西同名的类，将引发难以诊断的错误。\n",
    "\n",
    "需要从一个模块中导入很多类时，最好导入整个模块，并使用`module_name.class_name`语法来访问类。这样做时，虽然文件开头并没有列出用到的所有类，可以清楚地知道在程序的哪些地方使用了导入的模块；还避免了导入模块中的每个类可能引发的名称冲突。"
   ]
  },
  {
   "cell_type": "markdown",
   "metadata": {},
   "source": [
    "### 9.4.6　在一个模块中导入另一个模块\n",
    "有时候，需要将类分散到多个模块中，以免模块太大，或在同一个模块中存储不相关的类。将类存储在多个模块中时，可能会发现一个模块中的类依赖于另一个模块中的类。在这种情况下，可**在前一个模块中导入必要的类**。"
   ]
  },
  {
   "cell_type": "code",
   "execution_count": 30,
   "metadata": {},
   "outputs": [
    {
     "name": "stdout",
     "output_type": "stream",
     "text": [
      "2016 Tesla Roadster\n"
     ]
    }
   ],
   "source": [
    "from C_9_4_6 import ElectricCar\n",
    "my_tesla = ElectricCar('tesla', 'roadster', 2016)\n",
    "print(my_tesla.get_descriptive_name())"
   ]
  },
  {
   "cell_type": "code",
   "execution_count": 31,
   "metadata": {},
   "outputs": [
    {
     "name": "stdout",
     "output_type": "stream",
     "text": [
      "2016 Volkswagen Beetle\n"
     ]
    }
   ],
   "source": [
    "from C_9_4_1 import Car\n",
    "my_beetle = Car('volkswagen', 'beetle', 2016)\n",
    "print(my_beetle.get_descriptive_name())"
   ]
  },
  {
   "cell_type": "markdown",
   "metadata": {},
   "source": [
    "### 9.4.7　自定义工作流程\n",
    "在组织大型项目的代码方面，Python提供了很多选项。熟悉所有这些选项很重要，这样才能确定哪种项目组织方式是最佳的，并能理解别人开发的项目。\n",
    "\n",
    "一开始应让代码结构尽可能简单。先尽可能在一个文件中完成所有的工作，确定一切都能正确运行后，再将类移到独立的模块中。如果喜欢模块和文件的交互方式，可在项目开始时就尝试将类存储到模块中。先找出能够编写出可行代码的方式，再尝试让代码更为组织有序。"
   ]
  },
  {
   "cell_type": "markdown",
   "metadata": {},
   "source": [
    "**练习：**\n",
    "9-10 导入Restaurant 类 ：将最新的Restaurant 类存储在一个模块中。在另一个文件中，导入Restaurant 类，创建一个Restaurant 实例，并调用Restaurant 的一个方法，以确认import 语句正确无误。\n",
    "\n",
    "9-11 导入Admin 类 ：以为完成练习9-8而做的工作为基础，将User 、Privileges 和Admin 类存储在一个模块中，再创建一个文件，在其中创建一个Admin 实例并对其调用方法show_privileges() ，以确认一切都能正确地运行。\n",
    "\n",
    "9-12 多个模块 ：将User 类存储在一个模块中，并将Privileges 和Admin 类存储在另一个模块中。再创建一个文件，在其中创建一个Admin 实例，并对其调用方法show_privileges() ，以确认一切都依然能够正确地运行。"
   ]
  },
  {
   "cell_type": "code",
   "execution_count": 32,
   "metadata": {},
   "outputs": [
    {
     "name": "stdout",
     "output_type": "stream",
     "text": [
      "-----9-10-----\n",
      "KFC\n",
      "Fast Food\n",
      "Restaurant name is KFC and the cuisine type is Fast Food.\n",
      "Restaurant is opened.\n"
     ]
    }
   ],
   "source": [
    "# 9-10\n",
    "print(\"-----9-10-----\")\n",
    "from E_9_10 import Restaurant\n",
    "my_restaurant = Restaurant(\"KFC\",\"Fast Food\")\n",
    "print(my_restaurant.restaurant_name)\n",
    "print(my_restaurant.cuisine_type)\n",
    "my_restaurant.describe_restaurant()\n",
    "my_restaurant.open_restaurant()"
   ]
  },
  {
   "cell_type": "code",
   "execution_count": 33,
   "metadata": {},
   "outputs": [
    {
     "name": "stdout",
     "output_type": "stream",
     "text": [
      "-----9-11-----\n",
      "User Name: Zhuang Judy\n",
      "Gender: F\n",
      "Age: 10\n",
      "can add post,can delete post,can ban user\n"
     ]
    }
   ],
   "source": [
    "# 9-11\n",
    "print(\"-----9-11-----\")\n",
    "from E_9_11 import Admin\n",
    "admin_daughter = Admin(\"Judy\", \"Zhuang\", \"F\", 10)\n",
    "admin_daughter.describe_user()\n",
    "admin_daughter.show_privileges()"
   ]
  },
  {
   "cell_type": "code",
   "execution_count": 34,
   "metadata": {},
   "outputs": [
    {
     "name": "stdout",
     "output_type": "stream",
     "text": [
      "-----9-12-----\n",
      "User Name: Zhuang Judy\n",
      "Gender: F\n",
      "Age: 10\n",
      "can add post,can delete post,can ban user\n"
     ]
    }
   ],
   "source": [
    "# 9-12\n",
    "print(\"-----9-12-----\")\n",
    "from E_9_12_2 import Admin\n",
    "admin_daughter = Admin(\"Judy\", \"Zhuang\", \"F\", 10)\n",
    "admin_daughter.describe_user()\n",
    "admin_daughter.show_privileges()"
   ]
  },
  {
   "cell_type": "markdown",
   "metadata": {},
   "source": [
    "## 9.5　Python标准库\n",
    "`Python标准库`是一组模块，安装的Python都包含它。你在对类的工作原理已有大致的了解，可以开始使用其他程序员编写好的模块了。可使用标准库中的任何函数和类，为此只需在程序开头包含一条简单的import语句。下面来看模块collections 中的一个类——OrderedDict 。\n",
    "\n",
    "字典让你能够将信息关联起来，但它们不记录你添加键—值对的顺序。要创建字典并记录其中的键—值对的添加顺序，可使用模块collections中的OrderedDict类。OrderedDict 实例的行为几乎与字典相同，区别只在于记录了键—值对的添加顺序。\n",
    "\n",
    "这是一个很不错的类，它兼具列表和字典的主要优点（在将信息关联起来的同时保留原来的顺序）。等你开始对关心的现实情形建模时，可能会发现有序字典正好能够满足需求。"
   ]
  },
  {
   "cell_type": "code",
   "execution_count": 35,
   "metadata": {},
   "outputs": [
    {
     "name": "stdout",
     "output_type": "stream",
     "text": [
      "<class 'collections.OrderedDict'>\n",
      "Jen's favorite language is Python.\n",
      "Sarah's favorite language is C.\n",
      "Edward's favorite language is Ruby.\n",
      "Phil's favorite language is Python.\n"
     ]
    }
   ],
   "source": [
    "from collections import OrderedDict\n",
    "\n",
    "favorite_languages = OrderedDict()\n",
    "\n",
    "favorite_languages['jen'] = 'python'\n",
    "favorite_languages['sarah'] = 'c'\n",
    "favorite_languages['edward'] = 'ruby'\n",
    "favorite_languages['phil'] = 'python'\n",
    "\n",
    "print(type(favorite_languages))\n",
    "\n",
    "for name, language in favorite_languages.items():\n",
    "    print(name.title() + \"'s favorite language is \" +\n",
    "          language.title() + \".\")"
   ]
  },
  {
   "cell_type": "code",
   "execution_count": 36,
   "metadata": {},
   "outputs": [
    {
     "name": "stdout",
     "output_type": "stream",
     "text": [
      "<class 'dict'>\n",
      "Jen's favorite language is Python.\n",
      "Sarah's favorite language is C.\n",
      "Edward's favorite language is Ruby.\n",
      "Phil's favorite language is Python.\n"
     ]
    }
   ],
   "source": [
    "favorite_languages = {}\n",
    "favorite_languages['jen'] = 'python'\n",
    "favorite_languages['sarah'] = 'c'\n",
    "favorite_languages['edward'] = 'ruby'\n",
    "favorite_languages['phil'] = 'python'\n",
    "\n",
    "print(type(favorite_languages))\n",
    "\n",
    "for name, language in favorite_languages.items():\n",
    "    print(name.title() + \"'s favorite language is \" +\n",
    "          language.title() + \".\")"
   ]
  },
  {
   "cell_type": "markdown",
   "metadata": {},
   "source": [
    "**练习：**\n",
    "9-13 使用OrderedDict ：在练习6-4中，你使用了一个标准字典来表示词汇表。请使用OrderedDict 类来重写这个程序，并确认输出的顺序与你在字典中添加键—值对的顺序一致。\n",
    "\n",
    "9-14 骰子 ：模块random 包含以各种方式生成随机数的函数，其中的randint() 返回一个位于指定范围内的整数，例如，下面的代码返回一个1~6内的整数：\n",
    "`\n",
    "from random import randint\n",
    "x = randint(1, 6)\n",
    "`\n",
    "请创建一个Die 类，它包含一个名为sides 的属性，该属性的默认值为6。编写一个名为roll_die() 的方法，它打印位于1和骰子面数之间的随机数。创建一个6面的骰子，再掷10次。 创建一个10面的骰子和一个20面的骰子，并将它们都掷10次。\n",
    "\n",
    "9-15 Python Module of the Week ：要了解Python标准库，一个很不错的资源是网站Python Module of the Week。请访问http://pymotw.com/ 并查看其中的目录，在其中找一个你感兴趣的模块进行探索，或阅读模块collections 和random 的文档。"
   ]
  },
  {
   "cell_type": "code",
   "execution_count": 37,
   "metadata": {},
   "outputs": [
    {
     "name": "stdout",
     "output_type": "stream",
     "text": [
      "-----9-13-----\n",
      "python: a high-level general-purpose programming language.\n",
      "print: produce (books, newspapers, magazines, etc.), especially in large quantities, by a mechanical process involving the transfer of text, images, or designs to paper.\n",
      "list: an instance of a ship leaning to one side.\n",
      "for: in support of or in favor of (a person or policy).\n",
      "if: introducing a conditional clause.\n"
     ]
    }
   ],
   "source": [
    "# 9-13\n",
    "print(\"-----9-13-----\")\n",
    "from collections import OrderedDict\n",
    "dictionary = OrderedDict()\n",
    "dictionary[\"python\"] = \"a high-level general-purpose programming language.\"\n",
    "dictionary[\"print\"] = \"produce (books, newspapers, magazines, etc.), especially in large quantities,\"+\\\n",
    "\" by a mechanical process involving the transfer of text, images, or designs to paper.\"\n",
    "dictionary[\"list\"] = \"an instance of a ship leaning to one side.\"\n",
    "dictionary[\"for\"] = \"in support of or in favor of (a person or policy).\"\n",
    "dictionary[\"if\"] = \"introducing a conditional clause.\"\n",
    "\n",
    "for word, meaning in dictionary.items():\n",
    "    print(\"{}: {}\".format(word, meaning))"
   ]
  },
  {
   "cell_type": "code",
   "execution_count": 38,
   "metadata": {},
   "outputs": [
    {
     "name": "stdout",
     "output_type": "stream",
     "text": [
      "-----9-14-----\n",
      "Dice Default Sides\n",
      "Roll Dice: 4.\n",
      "Roll Dice: 3.\n",
      "Roll Dice: 2.\n",
      "Roll Dice: 1.\n",
      "Roll Dice: 4.\n",
      "Dice 10 Sides\n",
      "Roll Dice: 2.\n",
      "Roll Dice: 1.\n",
      "Roll Dice: 1.\n",
      "Roll Dice: 2.\n",
      "Roll Dice: 5.\n",
      "Roll Dice: 2.\n",
      "Roll Dice: 2.\n",
      "Roll Dice: 4.\n",
      "Roll Dice: 1.\n",
      "Roll Dice: 4.\n",
      "Dice 20 Sides\n",
      "Roll Dice: 5.\n",
      "Roll Dice: 2.\n",
      "Roll Dice: 3.\n",
      "Roll Dice: 2.\n",
      "Roll Dice: 2.\n",
      "Roll Dice: 2.\n",
      "Roll Dice: 4.\n",
      "Roll Dice: 2.\n",
      "Roll Dice: 3.\n",
      "Roll Dice: 4.\n"
     ]
    }
   ],
   "source": [
    "# 9-14\n",
    "print(\"-----9-14-----\")\n",
    "from random import randint\n",
    "class Dice():\n",
    "    \"\"\"a class of Dice\"\"\"\n",
    "    def __init__(self, sides=6):\n",
    "        \"\"\"init sides of dice\"\"\"\n",
    "        self.sides = sides\n",
    "    \n",
    "    def roll_dice(self):\n",
    "        \"\"\"roll the dice\"\"\"\n",
    "        print(\"Roll Dice: {}.\".format(randint(1,self.sides)))\n",
    "\n",
    "print(\"Dice Default Sides\")\n",
    "dice_default = Dice()\n",
    "for roll_times in range(5):\n",
    "    dice_default.roll_dice()\n",
    "\n",
    "print(\"Dice 10 Sides\")\n",
    "dice_10 = Dice(5)\n",
    "for roll_times in range(10):\n",
    "    dice_10.roll_dice()\n",
    "\n",
    "print(\"Dice 20 Sides\")\n",
    "dice_20 = Dice(5)\n",
    "for roll_times in range(10):\n",
    "    dice_20.roll_dice()"
   ]
  },
  {
   "cell_type": "markdown",
   "metadata": {},
   "source": [
    "## 9.6　类编码风格\n",
    "必须熟悉有些与类相关的编码风格，在编写的程序较复杂时尤其如此。\n",
    "\n",
    "类名应采用`驼峰命名法`，即将类名中的每个单词的**首字母**都大写，而不使用下划线。实例名和模块名都采用小写格式，并在单词之间加上下划线。\n",
    "\n",
    "对于每个类，都应紧跟在类定义后面包含一个文档字符串。这种文档字符串简要地描述类的功能，并遵循编写函数的文档字符串时采用的格式约定。每个模块也都应包含一个文档字符串，对其中的类可用于做什么进行描述。\n",
    "\n",
    "可使用空行来组织代码，但不要滥用。在类中，可使用**一个空行**来分隔方法；而在模块中，可使用**两个空行**来分隔类。\n",
    "\n",
    "需要同时导入标准库中的模块和自己编写的模块时，先编写导入标准库模块的import语句，再添加一个空行，然后编写导入你自己编写的模块的import语句。在包含多条import语句的程序中，这种做法让人更容易明白程序使用的各个模块都来自何方。"
   ]
  },
  {
   "cell_type": "code",
   "execution_count": null,
   "metadata": {},
   "outputs": [],
   "source": []
  }
 ],
 "metadata": {
  "kernelspec": {
   "display_name": "Python 3",
   "language": "python",
   "name": "python3"
  },
  "language_info": {
   "codemirror_mode": {
    "name": "ipython",
    "version": 3
   },
   "file_extension": ".py",
   "mimetype": "text/x-python",
   "name": "python",
   "nbconvert_exporter": "python",
   "pygments_lexer": "ipython3",
   "version": "3.6.9"
  }
 },
 "nbformat": 4,
 "nbformat_minor": 2
}
