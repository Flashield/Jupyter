{
 "cells": [
  {
   "cell_type": "markdown",
   "metadata": {},
   "source": [
    "在本章中，将学习如何接受用户输入，让程序能够对其进行处理。为此，你需要使用函数input()。\n",
    "\n",
    "还将学习如何让程序不断地运行，让用户能够根据需要输入信息，并在程序中使用这些信息。为此，需要使用while循环让程序不断地运行，直到指定的条件不满足为止。\n",
    "\n",
    "通过获取用户输入并学会控制程序的运行时间，可编写出交互式程序。"
   ]
  },
  {
   "cell_type": "markdown",
   "metadata": {},
   "source": [
    "## 7.1　函数input() 的工作原理\n",
    "函数input()让程序暂停运行，等待用户输入一些文本。获取用户输入后，Python将其存储在一个变量中，以方便后续使用。\n",
    "\n",
    "函数input() 接受一个参数：即要向用户显示的提示 或说明，让用户知道该如何做。\n",
    "\n",
    "> 注意：如果使用Sublime Text，是不能运行提示用户输入的程序。你可以使用Sublime Text来编写提示用户输入的程序，但必须从终端运行它们。"
   ]
  },
  {
   "cell_type": "code",
   "execution_count": 1,
   "metadata": {},
   "outputs": [
    {
     "name": "stdout",
     "output_type": "stream",
     "text": [
      "Tell me something, and I will repeat it back to you: Hello\n",
      "Hello\n"
     ]
    }
   ],
   "source": [
    "message = input(\"Tell me something, and I will repeat it back to you: \")\n",
    "print(message)"
   ]
  },
  {
   "cell_type": "markdown",
   "metadata": {},
   "source": [
    "### 7.1.1　编写清晰的程序\n",
    "每当使用函数input()时，都应指定清晰而易于明白的提示，准确地指出希望用户提供什么样的信息。\n",
    "\n",
    "通过在提示末尾（这里是冒号后面）包含一个空格，可将提示与用户输入分开，让用户清楚地知道其输入始于何处"
   ]
  },
  {
   "cell_type": "code",
   "execution_count": 2,
   "metadata": {},
   "outputs": [
    {
     "name": "stdout",
     "output_type": "stream",
     "text": [
      "Please enter your name: Bin\n",
      "Hello, Bin!\n"
     ]
    }
   ],
   "source": [
    "name = input(\"Please enter your name: \")\n",
    "print(\"Hello, \" + name.title() + \"!\")"
   ]
  },
  {
   "cell_type": "markdown",
   "metadata": {},
   "source": [
    "有时候，提示可能超过一行，例如，你可能需要指出获取特定输入的原因。在这种情况下，可将提示存储在一个变量中，再将该变量传递给函数input()。这样，即便提示超过一行，input()语句也非常清晰。"
   ]
  },
  {
   "cell_type": "code",
   "execution_count": 3,
   "metadata": {},
   "outputs": [
    {
     "name": "stdout",
     "output_type": "stream",
     "text": [
      "If you tell us who you are, we can personalize the messages you see.\n",
      "What is your first name? Bin\n",
      "\n",
      "Hello, Bin!\n"
     ]
    }
   ],
   "source": [
    "prompt = \"If you tell us who you are, we can personalize the messages you see.\"\n",
    "prompt += \"\\nWhat is your first name? \"\n",
    "\n",
    "name = input(prompt)\n",
    "print(\"\\nHello, \" + name.title() + \"!\")"
   ]
  },
  {
   "cell_type": "markdown",
   "metadata": {},
   "source": [
    "### 7.1.2　使用int()来获取数值输入\n",
    "使用函数input() 时，Python将用户输入解读为字符串。"
   ]
  },
  {
   "cell_type": "code",
   "execution_count": 4,
   "metadata": {},
   "outputs": [
    {
     "name": "stdout",
     "output_type": "stream",
     "text": [
      "How old are you? 38\n",
      "<class 'str'>\n",
      "'>=' not supported between instances of 'str' and 'int'\n"
     ]
    }
   ],
   "source": [
    "age = input(\"How old are you? \")\n",
    "print(type(age))\n",
    "try:\n",
    "    print(age >= 18)\n",
    "except Exception as e:\n",
    "    print(e)"
   ]
  },
  {
   "cell_type": "markdown",
   "metadata": {},
   "source": [
    "为解决这个问题，可使用函数int() ，它让Python将输入视为数值。函数int() 将数字的字符串表示转换为数值表示。"
   ]
  },
  {
   "cell_type": "code",
   "execution_count": 5,
   "metadata": {},
   "outputs": [
    {
     "name": "stdout",
     "output_type": "stream",
     "text": [
      "How old are you? 38\n",
      "True\n"
     ]
    }
   ],
   "source": [
    "# int()用于整数\n",
    "age = input(\"How old are you? \")\n",
    "age = int(age)\n",
    "print(age >= 18)"
   ]
  },
  {
   "cell_type": "code",
   "execution_count": 6,
   "metadata": {},
   "outputs": [
    {
     "name": "stdout",
     "output_type": "stream",
     "text": [
      "How tall are you, in inches? 35\n",
      "\n",
      "You'll be able to ride when you're a little older.\n"
     ]
    }
   ],
   "source": [
    "height = input(\"How tall are you, in inches? \")\n",
    "height = float(height)\n",
    "\n",
    "if height >= 36:\n",
    "    print(\"\\nYou're tall enough to ride!\")\n",
    "else:\n",
    "    print(\"\\nYou'll be able to ride when you're a little older.\")"
   ]
  },
  {
   "cell_type": "markdown",
   "metadata": {},
   "source": [
    "将数值输入用于计算和比较前，务必将其转换为数值表示。"
   ]
  },
  {
   "cell_type": "markdown",
   "metadata": {},
   "source": [
    "### 7.1.3　求模运算符\n",
    "处理数值信息时，`求模运算符`（%）是一个很有用的工具，它将两个数相除并返回余数。\n",
    "\n",
    "求模运算符不会指出一个数是另一个数的多少倍，而只指出余数是多少。\n",
    "\n",
    "如果一个数可被另一个数整除，余数就为0，因此求模运算符将返回0。"
   ]
  },
  {
   "cell_type": "code",
   "execution_count": 7,
   "metadata": {},
   "outputs": [
    {
     "name": "stdout",
     "output_type": "stream",
     "text": [
      "1\n",
      "2\n",
      "0\n",
      "1\n"
     ]
    }
   ],
   "source": [
    "print(4 % 3)\n",
    "print(5 % 3)\n",
    "print(6 % 3)\n",
    "print(7 % 3)"
   ]
  },
  {
   "cell_type": "code",
   "execution_count": 8,
   "metadata": {},
   "outputs": [
    {
     "name": "stdout",
     "output_type": "stream",
     "text": [
      "Enter a number, and I'll tell you if it's even or odd: 38\n",
      "The number 38 is even.\n"
     ]
    }
   ],
   "source": [
    "number = input(\"Enter a number, and I'll tell you if it's even or odd: \")\n",
    "number = int(number)\n",
    "\n",
    "if number % 2 == 0:\n",
    "    print(\"The number {} is even.\".format(number))\n",
    "else:\n",
    "    print(\"The number {} is odd.\".format(number))"
   ]
  },
  {
   "cell_type": "markdown",
   "metadata": {},
   "source": [
    "### 7.1.4　在Python 2.7中获取输入\n",
    "如果你使用的是Python 2.7，应使用函数raw_input()来提示用户输入。这个函数与Python 3中的input()一样，也将输入解读为字符串。\n",
    "\n",
    "> Python 2.7也包含函数input() ，但它将用户输入解读为Python代码，并尝试运行它们。因此，最好的结果是出现错误，指出Python不明白输入的代码；而最糟的结果是，将运行你原本无意运行的代码。如果你使用的是Python 2.7，请使用raw_input()而不是input()来获取输入。"
   ]
  },
  {
   "cell_type": "markdown",
   "metadata": {},
   "source": [
    "### **练习：**\n",
    "7-1 汽车租赁 ：编写一个程序，询问用户要租赁什么样的汽车，并打印一条消息，如“Let me see if I can find you a Subaru”。\n",
    "\n",
    "7-2 餐馆订位 ：编写一个程序，询问用户有多少人用餐。如果超过8人，就打印一条消息，指出没有空桌；否则指出有空桌。\n",
    "\n",
    "7-3 10的整数倍 ：让用户输入一个数字，并指出这个数字是否是10的整数倍。"
   ]
  },
  {
   "cell_type": "code",
   "execution_count": 9,
   "metadata": {},
   "outputs": [
    {
     "name": "stdout",
     "output_type": "stream",
     "text": [
      "-----7-1-----\n",
      "Which brand of car do you want? audi\n",
      "Let me see if I can find you a Audi\n",
      "-----7-2-----\n",
      "How many people?12\n",
      "No more desk.\n",
      "-----7-3-----\n",
      "Please Input a Number:340\n",
      "340 can be divided by 10.\n"
     ]
    }
   ],
   "source": [
    "# 7-1\n",
    "print(\"-----7-1-----\")\n",
    "car = input(\"Which brand of car do you want? \")\n",
    "print(\"Let me see if I can find you a {}\".format(car.title()))\n",
    "# 7-2\n",
    "print(\"-----7-2-----\")\n",
    "people_number = int(input(\"How many people?\"))\n",
    "if people_number > 8:\n",
    "    print(\"No more desk.\")\n",
    "else:\n",
    "    print(\"Have a desk.\")\n",
    "# 7-3\n",
    "print(\"-----7-3-----\")\n",
    "number = int(input(\"Please Input a Number:\"))\n",
    "if number % 10 == 0:\n",
    "    print(\"{} can be divided by 10.\".format(number))\n",
    "else:\n",
    "    print(\"{} can't be divided by 10.\".format(number))"
   ]
  },
  {
   "cell_type": "markdown",
   "metadata": {},
   "source": [
    "## 7.2　while 循环简介\n",
    "for循环用于针对集合中的每个元素都一个代码块，而while循环不断地运行，直到指定的条件不满足为止。"
   ]
  },
  {
   "cell_type": "markdown",
   "metadata": {},
   "source": [
    "### 7.2.1　使用while 循环\n",
    "你可以使用while 循环来数数。"
   ]
  },
  {
   "cell_type": "code",
   "execution_count": 10,
   "metadata": {},
   "outputs": [
    {
     "name": "stdout",
     "output_type": "stream",
     "text": [
      "1\n",
      "2\n",
      "3\n",
      "4\n",
      "5\n"
     ]
    }
   ],
   "source": [
    "current_number = 1\n",
    "while current_number <= 5:\n",
    "    print(current_number)\n",
    "    current_number += 1"
   ]
  },
  {
   "cell_type": "markdown",
   "metadata": {},
   "source": [
    "### 7.2.2　让用户选择何时退出\n",
    "可使用while 循环让程序在用户愿意时不断地运行。"
   ]
  },
  {
   "cell_type": "code",
   "execution_count": 11,
   "metadata": {},
   "outputs": [
    {
     "name": "stdout",
     "output_type": "stream",
     "text": [
      "\n",
      "Tell me something, and I will repeat it back to you:\n",
      "Enter 'quit' to end the program. Hi\n",
      "\n",
      "Tell me something, and I will repeat it back to you:\n",
      "Enter 'quit' to end the program. Hello\n",
      "Hello\n",
      "\n",
      "Tell me something, and I will repeat it back to you:\n",
      "Enter 'quit' to end the program. quit\n",
      "quit\n"
     ]
    }
   ],
   "source": [
    "prompt = \"\\nTell me something, and I will repeat it back to you:\"\n",
    "prompt += \"\\nEnter 'quit' to end the program. \"\n",
    "message = input(prompt)\n",
    "while message != 'quit':\n",
    "    message = input(prompt)\n",
    "    print(message)"
   ]
  },
  {
   "cell_type": "code",
   "execution_count": 12,
   "metadata": {},
   "outputs": [
    {
     "name": "stdout",
     "output_type": "stream",
     "text": [
      "\n",
      "Tell me something, and I will repeat it back to you:\n",
      "Enter 'quit' to end the program. Hello\n",
      "Hello\n",
      "\n",
      "Tell me something, and I will repeat it back to you:\n",
      "Enter 'quit' to end the program. quit\n"
     ]
    }
   ],
   "source": [
    "prompt = \"\\nTell me something, and I will repeat it back to you:\"\n",
    "prompt += \"\\nEnter 'quit' to end the program. \"\n",
    "message = \"\"\n",
    "while message != 'quit':\n",
    "    message = input(prompt)\n",
    "    #这里类似于do-while结构\n",
    "    if message != 'quit':\n",
    "        print(message)"
   ]
  },
  {
   "cell_type": "markdown",
   "metadata": {},
   "source": [
    "### 7.2.3　使用标志\n",
    "在要求很多条件都满足才继续运行的程序中，可定义一个变量，用于判断整个程序是否处于活动状态。这个变量被称为`标志`，充当了程序的交通信号灯。\n",
    "\n",
    "可让程序在标志为True时继续运行，并在任何事件导致标志的值为False时让程序停止运行。这样，在while语句中就只需检查一个条件——标志的当前值是否为True ，并将所有测试（是否发生了应将标志设置为False的事件）都放在其他地方，从而让程序变得更为整洁。"
   ]
  },
  {
   "cell_type": "code",
   "execution_count": 13,
   "metadata": {},
   "outputs": [
    {
     "name": "stdout",
     "output_type": "stream",
     "text": [
      "\n",
      "Tell me something, and I will repeat it back to you:\n",
      "Enter 'quit' to end the program. Hello\n",
      "Hello\n",
      "\n",
      "Tell me something, and I will repeat it back to you:\n",
      "Enter 'quit' to end the program. quit\n"
     ]
    }
   ],
   "source": [
    "prompt = \"\\nTell me something, and I will repeat it back to you:\"\n",
    "prompt += \"\\nEnter 'quit' to end the program. \"\n",
    "\n",
    "active = True\n",
    "while active:\n",
    "    message = input(prompt)\n",
    "    if message == 'quit':\n",
    "        active = False\n",
    "    else:\n",
    "        print(message)"
   ]
  },
  {
   "cell_type": "markdown",
   "metadata": {},
   "source": [
    "### 7.2.4　使用break 退出循环\n",
    "要立即退出while 循环，不再运行循环中余下的代码，也不管条件测试的结果如何，可使用break 语句。break 语句用于控制程序流程，可使用它来控制哪些代码行将执行，哪些代码行不执行，从而让程序按你的要求执行你要执行的代码。\n",
    "\n",
    "> 在任何Python循环中都可使用break 语句。例如，可使用break 语句来退出遍历列表或字典的for 循环。"
   ]
  },
  {
   "cell_type": "code",
   "execution_count": 14,
   "metadata": {},
   "outputs": [
    {
     "name": "stdout",
     "output_type": "stream",
     "text": [
      "\n",
      "Please enter the name of a city you have visited:\n",
      "(Enter 'quit' when you are finished.) Nantong\n",
      "I'd love to go to Nantong!\n",
      "\n",
      "Please enter the name of a city you have visited:\n",
      "(Enter 'quit' when you are finished.) quit\n"
     ]
    }
   ],
   "source": [
    "prompt = \"\\nPlease enter the name of a city you have visited:\"\n",
    "prompt += \"\\n(Enter 'quit' when you are finished.) \"\n",
    "\n",
    "while True:\n",
    "    city = input(prompt)\n",
    "\n",
    "    if city == 'quit':\n",
    "        break\n",
    "    else:\n",
    "        print(\"I'd love to go to \" + city.title() + \"!\")"
   ]
  },
  {
   "cell_type": "markdown",
   "metadata": {},
   "source": [
    "### 7.2.5　在循环中使用continue\n",
    "要返回到循环开头，并根据条件测试结果决定是否继续执行循环，可使用continue语句，它不像break语句那样不再执行余下的代码并退出整个循环。"
   ]
  },
  {
   "cell_type": "code",
   "execution_count": 15,
   "metadata": {},
   "outputs": [
    {
     "name": "stdout",
     "output_type": "stream",
     "text": [
      "1\n",
      "3\n",
      "5\n",
      "7\n",
      "9\n"
     ]
    }
   ],
   "source": [
    "current_number = 0\n",
    "while current_number < 10:\n",
    "    current_number += 1\n",
    "    if current_number % 2 == 0:\n",
    "        continue\n",
    "    print(current_number)"
   ]
  },
  {
   "cell_type": "markdown",
   "metadata": {},
   "source": [
    "### 7.2.6　避免无限循环\n",
    "每个while 循环都必须有停止运行的途径，这样才不会没完没了地执行下去。\n",
    "\n",
    "每个人都会偶尔因不小心而编写出无限循环，在循环的退出条件比较微妙时尤其如此。如果程序陷入无限循环，可按`Ctrl + C`，也可关闭显示程序输出的终端窗口。\n",
    "\n",
    "要避免编写无限循环，务必对每个while 循环进行测试，确保它按预期那样结束。如果你希望程序在用户输入特定值时结束，可运行程序并输入这样的值；如果在这种情况下程序没有结束，请检查程序处理这个值的方式，确认程序至少有一个这样的地方能让循环条件为False或让break语句得以执行。"
   ]
  },
  {
   "cell_type": "code",
   "execution_count": 16,
   "metadata": {},
   "outputs": [
    {
     "name": "stdout",
     "output_type": "stream",
     "text": [
      "1\n",
      "2\n",
      "3\n",
      "4\n",
      "5\n"
     ]
    }
   ],
   "source": [
    "x = 1\n",
    "while x <= 5:\n",
    "    print(x)\n",
    "    x += 1"
   ]
  },
  {
   "cell_type": "code",
   "execution_count": 18,
   "metadata": {},
   "outputs": [
    {
     "name": "stdout",
     "output_type": "stream",
     "text": [
      "0\n",
      "-100000\n",
      "-200000\n",
      "-300000\n",
      "-400000\n",
      "-500000\n",
      "-600000\n",
      "-700000\n",
      "-800000\n",
      "-900000\n",
      "-1000000\n",
      "-1100000\n",
      "-1200000\n",
      "-1300000\n",
      "-1400000\n",
      "-1500000\n"
     ]
    },
    {
     "ename": "KeyboardInterrupt",
     "evalue": "",
     "output_type": "error",
     "traceback": [
      "\u001b[0;31m---------------------------------------------------------------------------\u001b[0m",
      "\u001b[0;31mKeyboardInterrupt\u001b[0m                         Traceback (most recent call last)",
      "\u001b[0;32m<ipython-input-18-9158b7c31928>\u001b[0m in \u001b[0;36m<module>\u001b[0;34m()\u001b[0m\n\u001b[1;32m      3\u001b[0m \u001b[0;32mwhile\u001b[0m \u001b[0mx\u001b[0m \u001b[0;34m<=\u001b[0m \u001b[0;36m5\u001b[0m\u001b[0;34m:\u001b[0m\u001b[0;34m\u001b[0m\u001b[0;34m\u001b[0m\u001b[0m\n\u001b[1;32m      4\u001b[0m     \u001b[0;31m#为了手速能跟上\u001b[0m\u001b[0;34m\u001b[0m\u001b[0;34m\u001b[0m\u001b[0;34m\u001b[0m\u001b[0m\n\u001b[0;32m----> 5\u001b[0;31m     \u001b[0;32mif\u001b[0m \u001b[0mx\u001b[0m \u001b[0;34m%\u001b[0m \u001b[0;36m100000\u001b[0m \u001b[0;34m==\u001b[0m \u001b[0;36m0\u001b[0m\u001b[0;34m:\u001b[0m\u001b[0;34m\u001b[0m\u001b[0;34m\u001b[0m\u001b[0m\n\u001b[0m\u001b[1;32m      6\u001b[0m         \u001b[0mprint\u001b[0m\u001b[0;34m(\u001b[0m\u001b[0mx\u001b[0m\u001b[0;34m)\u001b[0m\u001b[0;34m\u001b[0m\u001b[0;34m\u001b[0m\u001b[0m\n\u001b[1;32m      7\u001b[0m     \u001b[0mx\u001b[0m \u001b[0;34m-=\u001b[0m \u001b[0;36m1\u001b[0m\u001b[0;34m\u001b[0m\u001b[0;34m\u001b[0m\u001b[0m\n",
      "\u001b[0;31mKeyboardInterrupt\u001b[0m: "
     ]
    }
   ],
   "source": [
    "# 这个循环将没完没了地运行！\n",
    "x = 1\n",
    "while x <= 5:\n",
    "    #为了手速能跟上\n",
    "    if x % 100000 == 0:\n",
    "        print(x)\n",
    "    x -= 1"
   ]
  },
  {
   "cell_type": "markdown",
   "metadata": {},
   "source": [
    "### **练习：**\n",
    "7-4 比萨配料 ：编写一个循环，提示用户输入一系列的比萨配料，并在用户输入'quit' 时结束循环。每当用户输入一种配料后，都打印一条消息，说我们会在比萨中添加这种配料。\n",
    "\n",
    "7-5 电影票 ：有家电影院根据观众的年龄收取不同的票价：不到3岁的观众免费；3~12岁的观众为10美元；超过12岁的观众为15美元。请编写一个循环，在其中询问用户的年龄，并指出其票价。\n",
    "\n",
    "7-6 三个出口 ：以另一种方式完成练习7-4或练习7-5，在程序中采取如下所有做法。\n",
    "\n",
    "在while 循环中使用条件测试来结束循环。\n",
    "\n",
    "使用变量active 来控制循环结束的时机。\n",
    "\n",
    "使用break 语句在用户输入'quit' 时退出循环。\n",
    "\n",
    "7-7 无限循环 ：编写一个没完没了的循环，并运行它（要结束该循环，可按Ctrl +C，也可关闭显示输出的窗口）。"
   ]
  },
  {
   "cell_type": "code",
   "execution_count": 19,
   "metadata": {},
   "outputs": [
    {
     "name": "stdout",
     "output_type": "stream",
     "text": [
      "-----7-4-----\n",
      "Please Input the toppings:\n",
      " Enter quit to exit.mushroom\n",
      "We will add mushroom on the pizza.\n",
      "Please Input the toppings:\n",
      " Enter quit to exit.quit\n",
      "-----7-5-----\n",
      "\n",
      "How old are you?\n",
      " Press Enter to quit.4\n",
      "The Ticket Price is $12.\n",
      "\n",
      "How old are you?\n",
      " Press Enter to quit.-12\n",
      "Not Born? Please do not kid me!\n",
      "The Ticket Price is $NULL.\n",
      "\n",
      "How old are you?\n",
      " Press Enter to quit.Hello\n",
      "Error:invalid literal for int() with base 10: 'Hello'\n",
      "Please Enter Correct AGE!\n",
      "\n",
      "How old are you?\n",
      " Press Enter to quit.4\n",
      "The Ticket Price is $12.\n",
      "\n",
      "How old are you?\n",
      " Press Enter to quit.\n",
      "-----7-6-----\n",
      "\n",
      "How old are you?\n",
      " Press Enter to quit.Hello\n",
      "Error:invalid literal for int() with base 10: 'Hello'\n",
      "Please Enter Correct AGE!\n",
      "-----7-7-----\n"
     ]
    }
   ],
   "source": [
    "# 7-4\n",
    "#调整一下print和input的顺序就可以很好的处理重复打印quit的问题\n",
    "print(\"-----7-4-----\")\n",
    "prompt = \"Please Input the toppings:\\n Enter quit to exit.\"\n",
    "topping=input(prompt)\n",
    "while topping != \"quit\":\n",
    "    print(\"We will add {} on the pizza.\".format(topping))\n",
    "    topping = input(prompt)\n",
    "# 7-5\n",
    "print(\"-----7-5-----\")\n",
    "prompt = \"\\nHow old are you?\\n Press Enter to quit.\"\n",
    "age = input(prompt)\n",
    "price = 0\n",
    "while age != \"\":\n",
    "    try:\n",
    "        age = int(age)\n",
    "        if age <= 0:\n",
    "            print(\"Not Born? Please do not kid me!\")\n",
    "            price = \"NULL\"\n",
    "        elif age <= 3:\n",
    "            price = 0\n",
    "        elif age <= 12:\n",
    "            price = 12\n",
    "        else:\n",
    "            price = 15\n",
    "        print(\"The Ticket Price is ${}.\".format(price))\n",
    "        age = input(prompt)\n",
    "    except Exception as e:\n",
    "        print(\"Error:{}\".format(e))\n",
    "        print(\"Please Enter Correct AGE!\")\n",
    "        age = input(prompt)\n",
    "\n",
    "# 7-6\n",
    "print(\"-----7-6-----\")\n",
    "prompt = \"\\nHow old are you?\\n Press Enter to quit.\"\n",
    "age = input(prompt)\n",
    "active = True\n",
    "price = 0\n",
    "while active:\n",
    "    try:\n",
    "        age = int(age)\n",
    "        if age <= 0:\n",
    "            print(\"Not Born? Please do not kid me!\")\n",
    "            price = \"NULL\"\n",
    "        elif age <= 3:\n",
    "            price = 0\n",
    "        elif age <= 12:\n",
    "            price = 12\n",
    "        else:\n",
    "            price = 15\n",
    "        print(\"The Ticket Price is ${}.\".format(price))\n",
    "        age = input(prompt)\n",
    "    except Exception as e:\n",
    "        print(\"Error:{}\".format(e))\n",
    "        print(\"Please Enter Correct AGE!\")\n",
    "        active = False\n",
    "# 7-7\n",
    "print(\"-----7-7-----\")"
   ]
  },
  {
   "cell_type": "markdown",
   "metadata": {},
   "source": [
    "## 7.3　使用while 循环来处理列表和字典\n",
    "到目前为止，我们每次都只处理了一项用户信息：获取用户的输入，再将输入打印出来或作出应答；循环再次运行时，我们获悉另一个输入值并作出响应。然而，要记录大量的用户和信息，需要在while循环中使用列表和字典。\n",
    "\n",
    "for循环是一种遍历列表的有效方式，但在for循环中不应修改列表，否则将导致Python难以跟踪其中的元素。\n",
    "\n",
    "要在遍历列表的同时对其进行修改，可使用while循环。通过将while循环同列表和字典结合起来使用，可收集、存储并组织大量输入，供以后查看和显示。"
   ]
  },
  {
   "cell_type": "markdown",
   "metadata": {},
   "source": [
    "### 7.3.1　在列表之间移动元素"
   ]
  },
  {
   "cell_type": "code",
   "execution_count": 20,
   "metadata": {},
   "outputs": [
    {
     "name": "stdout",
     "output_type": "stream",
     "text": [
      "Verifying user: Candace\n",
      "Verifying user: Brian\n",
      "Verifying user: Alice\n",
      "\n",
      "The following users have been confirmed:\n",
      "Candace\n",
      "Brian\n",
      "Alice\n"
     ]
    }
   ],
   "source": [
    "# 首先，创建一个待验证用户列表\n",
    "# 和一个用于存储已验证用户的空列表\n",
    "unconfirmed_users = ['alice', 'brian', 'candace']\n",
    "confirmed_users = []\n",
    "\n",
    "# 验证每个用户，直到没有未验证用户为止\n",
    "# 将每个经过验证的列表都移到已验证用户列表中\n",
    "while unconfirmed_users:\n",
    "    current_user = unconfirmed_users.pop()\n",
    "\n",
    "    print(\"Verifying user: \" + current_user.title())\n",
    "    confirmed_users.append(current_user)\n",
    "\n",
    "# 显示所有已验证的用户\n",
    "print(\"\\nThe following users have been confirmed:\")\n",
    "for confirmed_user in confirmed_users:\n",
    "    print(confirmed_user.title())"
   ]
  },
  {
   "cell_type": "markdown",
   "metadata": {},
   "source": [
    "### 7.3.2　删除包含特定值的所有列表元素\n",
    "我们使用函数remove()来删除列表中的特定值，这之所以可行，是因为要删除的值在列表中只出现了一次。如果要删除列表中**所有**包含特定值的元素，可使用循环。"
   ]
  },
  {
   "cell_type": "code",
   "execution_count": 21,
   "metadata": {},
   "outputs": [
    {
     "name": "stdout",
     "output_type": "stream",
     "text": [
      "['dog', 'dog', 'goldfish', 'rabbit']\n"
     ]
    }
   ],
   "source": [
    "pets = ['dog', 'cat', 'dog', 'goldfish', 'cat', 'rabbit', 'cat']\n",
    "#print(pets)\n",
    "\n",
    "while 'cat' in pets:\n",
    "    pets.remove('cat')\n",
    "\n",
    "print(pets)"
   ]
  },
  {
   "cell_type": "code",
   "execution_count": 22,
   "metadata": {},
   "outputs": [
    {
     "name": "stdout",
     "output_type": "stream",
     "text": [
      "['dog', 'dog', 'goldfish', 'rabbit']\n"
     ]
    }
   ],
   "source": [
    "pets = ['dog', 'cat', 'dog', 'goldfish', 'cat', 'rabbit', 'cat']\n",
    "#这个效率为什么没有上面的高呢？\n",
    "for count in range(pets.count('cat')):\n",
    "    pets.remove('cat')\n",
    "print(pets)"
   ]
  },
  {
   "cell_type": "markdown",
   "metadata": {},
   "source": [
    "### 7.3.3　使用用户输入来填充字典\n",
    "可使用while循环提示用户输入任意数量的信息。"
   ]
  },
  {
   "cell_type": "code",
   "execution_count": 23,
   "metadata": {},
   "outputs": [
    {
     "name": "stdout",
     "output_type": "stream",
     "text": [
      "\n",
      "What is your name? Bin\n",
      "Which mountain would you like to climb someday? Himalaya\n",
      "Would you like to let another person respond? (yes/ no) yes\n",
      "\n",
      "What is your name? Judy\n",
      "Which mountain would you like to climb someday? LangShan\n",
      "Would you like to let another person respond? (yes/ no) no\n",
      "\n",
      "--- Poll Results ---\n",
      "Bin would like to climb Himalaya.\n",
      "Judy would like to climb LangShan.\n"
     ]
    }
   ],
   "source": [
    "responses = {}\n",
    "\n",
    "# 设置一个标志，指出调查是否继续\n",
    "polling_active = True\n",
    "\n",
    "while polling_active:\n",
    "    # 提示输入被调查者的名字和回答\n",
    "    name = input(\"\\nWhat is your name? \")\n",
    "    response = input(\"Which mountain would you like to climb someday? \")\n",
    "    \n",
    "    # 将答卷存储在字典中\n",
    "    responses[name] = response\n",
    "    \n",
    "    # 看看是否还有人要参与调查\n",
    "    repeat = input(\"Would you like to let another person respond? (yes/ no) \")\n",
    "    \n",
    "    if repeat == 'no':\n",
    "        polling_active = False\n",
    "\n",
    "# 调查结束，显示结果\n",
    "print(\"\\n--- Poll Results ---\")\n",
    "for name, response in responses.items():\n",
    "    print(name + \" would like to climb \" + response + \".\")"
   ]
  },
  {
   "cell_type": "markdown",
   "metadata": {},
   "source": [
    "### **练习：**\n",
    "7-8 熟食店 ：创建一个名为sandwich_orders 的列表，在其中包含各种三明治的名字；再创建一个名为finished_sandwiches 的空列表。遍历列表sandwich_orders ，对于其中的每种三明治，都打印一条消息，如I made your tuna sandwich ，并将其移到列表finished_sandwiches 。所有三明治都制作好后，打印一条消息，将这些三明治列出来。\n",
    "\n",
    "7-9 五香烟熏牛肉（pastrami）卖完了 ：使用为完成练习7-8而创建的列表sandwich_orders ，并确保'pastrami' 在其中至少出现了三次。在程序开头附近添加这样的代码：打印一条消息，指出熟食店的五香烟熏牛肉卖完了；再使用一个while 循环将列表sandwich_orders 中的'pastrami' 都删除。确认最终的列表finished_sandwiches 中不包含'pastrami' 。\n",
    "\n",
    "7-10 梦想的度假胜地 ：编写一个程序，调查用户梦想的度假胜地。使用类似于“If you could visit one place in the world, where would you go?”的提示，并编写一个打印调查结果的代码块。"
   ]
  },
  {
   "cell_type": "code",
   "execution_count": 26,
   "metadata": {
    "code_folding": [],
    "scrolled": true
   },
   "outputs": [
    {
     "name": "stdout",
     "output_type": "stream",
     "text": [
      "-----7-8-----\n",
      "I made your pastrami sandwich.\n",
      "I made your tuna sandwich.\n",
      "I made your tomato sandwich.\n",
      "I made your pastrami sandwich.\n",
      "I made your egg sandwich.\n",
      "I made your pastrami sandwich.\n",
      "I made your tuna sandwich.\n",
      "Finished Sandwiches: pastrami,tuna,tomato,pastrami,egg,pastrami,tuna.\n",
      "-----7-9-----\n",
      "Pastrami pizzas are sold out.\n",
      "Ordered Sandwiches: tuna,egg,tomato,tuna.\n",
      "-----7-10-----\n",
      "Please Input your name:Bin\n",
      "Please Input your favorate place:Home\n",
      "Investage another person?(yes/no)yes\n",
      "Please Input your name:Judy\n",
      "Please Input your favorate place:School\n",
      "Investage another person?(yes/no)yes\n",
      "Please Input your name:Crystal\n",
      "Please Input your favorate place:Kindergarten\n",
      "Investage another person?(yes/no)no\n",
      "\n",
      "Bin's favorate place is Home.\n",
      "Judy's favorate place is School.\n",
      "Crystal's favorate place is Kindergarten.\n",
      "{'Bin': 'Home', 'Judy': 'School', 'Crystal': 'Kindergarten'}\n"
     ]
    }
   ],
   "source": [
    "# 7-8\n",
    "print(\"-----7-8-----\")\n",
    "sandwich_orders = ['tuna','pastrami','egg','pastrami','tomato','tuna','pastrami']\n",
    "finished_sandwiches = []\n",
    "while sandwich_orders:\n",
    "    finished_sandwich = sandwich_orders.pop()\n",
    "    print(\"I made your {} sandwich.\".format(finished_sandwich))\n",
    "    finished_sandwiches.append(finished_sandwich)\n",
    "print(\"Finished Sandwiches: {}.\".format(\",\".join(finished_sandwiches)))\n",
    "# 7-9\n",
    "print(\"-----7-9-----\")\n",
    "sandwich_orders = ['tuna','pastrami','egg','pastrami','tomato','tuna','pastrami']\n",
    "print(\"Pastrami pizzas are sold out.\")\n",
    "soldout_pizza = \"pastrami\"\n",
    "while soldout_pizza in sandwich_orders:\n",
    "    sandwich_orders.remove(soldout_pizza)\n",
    "print(\"Ordered Sandwiches: {}.\".format(\",\".join(sandwich_orders)))\n",
    "# 7-10\n",
    "print(\"-----7-10-----\")\n",
    "favorate_places = {}\n",
    "active = \"yes\"\n",
    "while active == \"yes\":\n",
    "    name = input(\"Please Input your name:\")\n",
    "    place = input(\"Please Input your favorate place:\")\n",
    "    favorate_places[name] = place\n",
    "    active = input(\"Investage another person?(yes/no)\")\n",
    "print()\n",
    "for name, favorate_place in favorate_places.items():\n",
    "    print(\"{}'s favorate place is {}.\".format(name,favorate_place))\n",
    "print(favorate_places)"
   ]
  },
  {
   "cell_type": "code",
   "execution_count": null,
   "metadata": {},
   "outputs": [],
   "source": []
  }
 ],
 "metadata": {
  "kernelspec": {
   "display_name": "Python 3",
   "language": "python",
   "name": "python3"
  },
  "language_info": {
   "codemirror_mode": {
    "name": "ipython",
    "version": 3
   },
   "file_extension": ".py",
   "mimetype": "text/x-python",
   "name": "python",
   "nbconvert_exporter": "python",
   "pygments_lexer": "ipython3",
   "version": "3.6.9"
  },
  "toc": {
   "base_numbering": 1,
   "nav_menu": {},
   "number_sections": true,
   "sideBar": true,
   "skip_h1_title": false,
   "title_cell": "Table of Contents",
   "title_sidebar": "Contents",
   "toc_cell": false,
   "toc_position": {},
   "toc_section_display": true,
   "toc_window_display": true
  }
 },
 "nbformat": 4,
 "nbformat_minor": 2
}
