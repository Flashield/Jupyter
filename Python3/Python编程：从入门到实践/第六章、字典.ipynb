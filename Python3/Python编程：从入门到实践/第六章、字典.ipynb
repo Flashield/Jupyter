{
 "cells": [
  {
   "cell_type": "markdown",
   "metadata": {},
   "source": [
    "学习如何访问和修改字典中的信息。鉴于字典可存储的信息量几乎不受限制，因此会演示如何遍历字典中的数据。另外，还将学习存储字典的列表、存储列表的字典和存储字典的字典。"
   ]
  },
  {
   "cell_type": "markdown",
   "metadata": {},
   "source": [
    "### 6.1　一个简单的字典"
   ]
  },
  {
   "cell_type": "code",
   "execution_count": 1,
   "metadata": {},
   "outputs": [
    {
     "name": "stdout",
     "output_type": "stream",
     "text": [
      "green\n",
      "5\n"
     ]
    }
   ],
   "source": [
    "alien_0 = {'color': 'green', 'points': 5}\n",
    "\n",
    "print(alien_0['color'])\n",
    "print(alien_0['points'])"
   ]
  },
  {
   "cell_type": "markdown",
   "metadata": {},
   "source": [
    "### 6.2　使用字典\n",
    "在Python中，字典是一系列键—值对 。每个键都与一个值相关联，你可以使用键来访问与之相关联的值。与键相关联的值可以是数字、字符串、列表乃至字典。事实上，可将任何Python对象用作字典中的值。\n",
    "\n",
    "在Python中，字典用放在花括号`{}`中的一系列键—值对表示。\n",
    "\n",
    "`键—值`对是两个相关联的值。指定键时，Python将返回与之相关联的值。键和值之间用冒号分隔，而`键—值`对之间用逗号分隔。最简单的字典只有一个`键—值`对。"
   ]
  },
  {
   "cell_type": "code",
   "execution_count": 2,
   "metadata": {},
   "outputs": [],
   "source": [
    "alien_0 = {'color': 'green'}"
   ]
  },
  {
   "cell_type": "markdown",
   "metadata": {},
   "source": [
    "### 6.2.1　访问字典中的值\n",
    "\n",
    "要获取与键相关联的值，可依次指定字典名和放在方括号内的键。字典中可包含任意数量的`键—值`对。"
   ]
  },
  {
   "cell_type": "code",
   "execution_count": 3,
   "metadata": {},
   "outputs": [
    {
     "name": "stdout",
     "output_type": "stream",
     "text": [
      "green\n",
      "You just earned 5 points!\n"
     ]
    }
   ],
   "source": [
    "alien_0 = {'color': 'green'}\n",
    "print(alien_0['color'])\n",
    "alien_0 = {'color': 'green', 'points': 5}\n",
    "new_points = alien_0['points']\n",
    "print(\"You just earned {} points!\".format(new_points))"
   ]
  },
  {
   "cell_type": "markdown",
   "metadata": {},
   "source": [
    "### 6.2.2　添加键—值对\n",
    "字典是一种动态结构，可随时在其中添加键—值对。要添加键—值对，可依次指定字典名、用方括号括起的键和相关联的值。"
   ]
  },
  {
   "cell_type": "code",
   "execution_count": 4,
   "metadata": {},
   "outputs": [
    {
     "name": "stdout",
     "output_type": "stream",
     "text": [
      "{'color': 'green', 'points': 5}\n",
      "{'color': 'green', 'points': 5, 'x_position': 0, 'y_position': 25}\n"
     ]
    }
   ],
   "source": [
    "alien_0 = {'color': 'green', 'points': 5}\n",
    "print(alien_0)\n",
    "\n",
    "alien_0['x_position'] = 0\n",
    "alien_0['y_position'] = 25\n",
    "print(alien_0)"
   ]
  },
  {
   "cell_type": "markdown",
   "metadata": {},
   "source": [
    "> 注意，键—值对的排列顺序与添加顺序不同。Python不关心键—值对的添加顺序，而只关心键和值之间的关联关系。"
   ]
  },
  {
   "cell_type": "markdown",
   "metadata": {},
   "source": [
    "### 6.2.3　先创建一个空字典\n",
    "有时候，在空字典中添加键—值对是为了方便，而有时候必须这样做。为此，可先使用一对空的花括号定义一个字典，再分行添加各个键—值对。\n",
    "\n",
    "使用字典来存储用户提供的数据或在编写能自动生成大量键—值对的代码时，通常都需要先定义一个空字典。"
   ]
  },
  {
   "cell_type": "code",
   "execution_count": 5,
   "metadata": {},
   "outputs": [
    {
     "name": "stdout",
     "output_type": "stream",
     "text": [
      "{'color': 'green', 'points': 5}\n"
     ]
    }
   ],
   "source": [
    "alien_0 = {}\n",
    "\n",
    "alien_0['color'] = 'green'\n",
    "alien_0['points'] = 5\n",
    "\n",
    "print(alien_0)"
   ]
  },
  {
   "cell_type": "markdown",
   "metadata": {},
   "source": [
    "### 6.2.4　修改字典中的值\n",
    "要修改字典中的值，可依次指定字典名、用方括号括起的键以及与该键相关联的新值。"
   ]
  },
  {
   "cell_type": "code",
   "execution_count": 6,
   "metadata": {},
   "outputs": [
    {
     "name": "stdout",
     "output_type": "stream",
     "text": [
      "The alien is green.\n",
      "The alien is now yellow.\n"
     ]
    }
   ],
   "source": [
    "alien_0 = {'color': 'green'}\n",
    "print(\"The alien is {}.\".format(alien_0['color']))\n",
    "\n",
    "alien_0['color'] = 'yellow'\n",
    "print(\"The alien is now {}.\".format(alien_0['color']))"
   ]
  },
  {
   "cell_type": "code",
   "execution_count": 7,
   "metadata": {},
   "outputs": [
    {
     "name": "stdout",
     "output_type": "stream",
     "text": [
      "{'x_position': 0, 'y_position': 25, 'speed': 'medium'}\n",
      "Original x-position: 0\n",
      "New x-position: 2\n",
      "{'x_position': 2, 'y_position': 25, 'speed': 'medium'}\n"
     ]
    }
   ],
   "source": [
    "alien_0 = {'x_position': 0, 'y_position': 25, 'speed': 'medium'}\n",
    "print(alien_0)\n",
    "print(\"Original x-position: \" + str(alien_0['x_position']))\n",
    "\n",
    "# 向右移动外星人\n",
    "# 据外星人当前速度决定将其移动多远\n",
    "if alien_0['speed'] == 'slow':\n",
    "    x_increment = 1\n",
    "elif alien_0['speed'] == 'medium':\n",
    "    x_increment = 2\n",
    "else:\n",
    "    # 这个外星人的速度一定很快\n",
    "    x_increment = 3\n",
    "\n",
    "# 新位置等于老位置加上增量\n",
    "alien_0['x_position'] = alien_0['x_position'] + x_increment\n",
    "\n",
    "print(\"New x-position: \" + str(alien_0['x_position']))\n",
    "print(alien_0)"
   ]
  },
  {
   "cell_type": "markdown",
   "metadata": {},
   "source": [
    "### 6.2.5　删除键—值对\n",
    "对于字典中不再需要的信息，可使用del 语句将相应的键—值对彻底删除。使用del语句时，必须指定字典名和要删除的键。\n",
    "> 注意：删除的键—值对永远消失了。"
   ]
  },
  {
   "cell_type": "code",
   "execution_count": 8,
   "metadata": {},
   "outputs": [
    {
     "name": "stdout",
     "output_type": "stream",
     "text": [
      "{'color': 'green', 'points': 5}\n",
      "{'color': 'green'}\n"
     ]
    }
   ],
   "source": [
    "alien_0 = {'color': 'green', 'points': 5}\n",
    "print(alien_0)\n",
    "\n",
    "del alien_0['points']\n",
    "print(alien_0)"
   ]
  },
  {
   "cell_type": "markdown",
   "metadata": {},
   "source": [
    "### 6.2.6　由类似对象组成的字典\n",
    "在前面的示例中，字典存储的是一个对象（游戏中的一个外星人）的多种信息，但你也可以使用字典来存储众多对象的同一种信息。\n",
    "\n",
    "将一个较大的字典放在了多行中。其中每个键都是一个被调查者的名字，而每个值都是被调查者喜欢的语言。确定需要使用多行来定义字典时，在输入左花括号后按回车键，再在下一行缩进四个空格，指定第一个键—值对，并在它后面加上一个逗号。此后你再次按回车键时，文本编辑器将自动缩进后续键—值对，且缩进量与第一个键—值对相同。\n",
    "\n",
    "定义好字典后，在最后一个键—值对的下一行添加一个右花括号，并缩进四个空格，使其与字典中的键对齐。另外一种不错的做法是在最后一个键—值对后面也加上逗号，为以后在下一行添加键—值对做好准备。"
   ]
  },
  {
   "cell_type": "code",
   "execution_count": 9,
   "metadata": {},
   "outputs": [],
   "source": [
    "favorite_languages = {\n",
    "    'jen': 'python',\n",
    "    'sarah': 'c',\n",
    "    'edward': 'ruby',\n",
    "    'phil': 'python',\n",
    "    }"
   ]
  },
  {
   "cell_type": "markdown",
   "metadata": {},
   "source": [
    "> 对于较长的列表和字典，大多数编辑器都有以类似方式设置其格式的功能。对于较长的字典，还有其他一些可行的格式设置方式，因此在你的编辑器或其他源代码中，你可能会看到稍微不同的格式设置方式。"
   ]
  },
  {
   "cell_type": "code",
   "execution_count": 10,
   "metadata": {},
   "outputs": [
    {
     "name": "stdout",
     "output_type": "stream",
     "text": [
      "Sarah's favorite language is C.\n",
      "Edward's favorite language is Ruby.\n"
     ]
    }
   ],
   "source": [
    "favorite_languages = {\n",
    "    'jen': 'python',\n",
    "    'sarah': 'c',\n",
    "    'edward': 'ruby',\n",
    "    'phil': 'python',\n",
    "    }\n",
    "\n",
    "print(\"Sarah's favorite language is {}.\".format(favorite_languages['sarah'].title()))\n",
    "print(\"Edward's favorite language is \" +\n",
    "    favorite_languages['edward'].title() +\n",
    "    \".\")"
   ]
  },
  {
   "cell_type": "markdown",
   "metadata": {},
   "source": [
    "> 单词print比大多数字典名都短，因此让输出的第一部分紧跟在左括号后面是合理的。选择在合适的地方拆分要打印的内容，并在第一行末尾加上一个拼接运算符（`+`）。按回车键进入print语句的后续各行，并使用Tab键将它们对齐并缩进一级。指定要打印的所有内容后，在print语句的最后一行末尾加上右括号。"
   ]
  },
  {
   "cell_type": "markdown",
   "metadata": {},
   "source": [
    "**练习：**\n",
    "6-1 人 ：使用一个字典来存储一个熟人的信息，包括名、姓、年龄和居住的城市。该字典应包含键first_name 、last_name 、age 和city 。将存储在该字典中的每项信息都打印出来。\n",
    "\n",
    "6-2 喜欢的数字 ：使用一个字典来存储一些人喜欢的数字。请想出5个人的名字，并将这些名字用作字典中的键；想出每个人喜欢的一个数字，并将这些数字作为值存储在字典中。打印每个人的名字和喜欢的数字。为让这个程序更有趣，通过询问朋友确保数据是真实的。\n",
    "\n",
    "6-3 词汇表 ：Python字典可用于模拟现实生活中的字典，但为避免混淆，我们将后者称为词汇表。\n",
    "\n",
    "想出你在前面学过的5个编程词汇，将它们用作词汇表中的键，并将它们的含义作为值存储在词汇表中。\n",
    "\n",
    "以整洁的方式打印每个词汇及其含义。为此，你可以先打印词汇，在它后面加上一个冒号，再打印词汇的含义；也可在一行打印词汇，再使用换行符（\\n ）插入一个空行，然后在下一行以缩进的方式打印词汇的含义。"
   ]
  },
  {
   "cell_type": "code",
   "execution_count": 11,
   "metadata": {},
   "outputs": [
    {
     "name": "stdout",
     "output_type": "stream",
     "text": [
      "-----6-1-----\n",
      "{'first_name': 'Judy', 'last_name': 'Zhuang', 'age': 10, 'city': 'Nantong'}\n",
      "-----6-2-----\n",
      "Judy's favorate number is 7\n",
      "Crystal's favorate number is 2\n",
      "Bin's favorate number is 5\n",
      "Alice's favorate number is 6\n",
      "-----6-3-----\n",
      "python : a high-level general-purpose programming language.\n",
      "print : produce (books, newspapers, magazines, etc.), especially in large quantities, by a mechanical process involving the transfer of text, images, or designs to paper.\n",
      "list : an instance of a ship leaning to one side.\n",
      "for : in support of or in favor of (a person or policy).\n",
      "if : introducing a conditional clause.\n"
     ]
    }
   ],
   "source": [
    "# 6-1\n",
    "print(\"-----6-1-----\")\n",
    "Daughter_1 = {\"first_name\":\"Judy\", \"last_name\":\"Zhuang\", \"age\":10, \"city\":\"Nantong\"}\n",
    "print(Daughter_1)\n",
    "# 6-2\n",
    "print(\"-----6-2-----\")\n",
    "favorate_numbers = {\"Judy\":7, \"Crystal\":2, \"Bin\":5, \"Alice\":6}\n",
    "for person in favorate_numbers.keys():\n",
    "    print(\"{}'s favorate number is {}\".format(person,favorate_numbers[person]))\n",
    "# 6-3\n",
    "print(\"-----6-3-----\")\n",
    "dictionary = {\"python\":\"a high-level general-purpose programming language.\",\n",
    "             \"print\":\"produce (books, newspapers, magazines, etc.), especially in large quantities,\"+\n",
    "              \" by a mechanical process involving the transfer of text, images, or designs to paper.\",\n",
    "             \"list\":\"an instance of a ship leaning to one side.\",\n",
    "             \"for\":\"in support of or in favor of (a person or policy).\",\n",
    "             \"if\":\"introducing a conditional clause.\",}\n",
    "for word in dictionary.keys():\n",
    "    print(\"{} : {}\".format(word,dictionary[word]))"
   ]
  },
  {
   "cell_type": "markdown",
   "metadata": {},
   "source": [
    "## 6.3　遍历字典\n",
    "一个Python字典可能只包含几个`键—值`对，也可能包含数百万个键—值对。鉴于字典可能包含大量的数据，Python支持对字典遍历。字典可用于以各种方式存储信息，因此有多种遍历字典的方式：可遍历字典的所有键—值对、键或值。"
   ]
  },
  {
   "cell_type": "markdown",
   "metadata": {},
   "source": [
    "### 6.3.1　遍历所有的键—值对\n",
    "要编写用于遍历字典的for循环，可声明两个变量，用于存储键—值对中的键和值。对于这两个变量，可使用任何名称。\n",
    "\n",
    "for语句的第二部分包含字典名和方法items()，它返回一个键—值对列表。接下来，for循环依次将每个键—值对存储到指定的两个变量中。我们使用这两个变量来打印每个键及其相关联的值。\n",
    "\n",
    "> 注意，即便遍历字典时，`键—值`对的返回顺序也与存储顺序不同。Python不关心键—值对的存储顺序，而只跟踪键和值之间的关联关系。"
   ]
  },
  {
   "cell_type": "code",
   "execution_count": 12,
   "metadata": {},
   "outputs": [
    {
     "name": "stdout",
     "output_type": "stream",
     "text": [
      "\n",
      "Key: username\n",
      "Value: efermi\n",
      "\n",
      "Key: first\n",
      "Value: enrico\n",
      "\n",
      "Key: last\n",
      "Value: fermi\n"
     ]
    }
   ],
   "source": [
    "user_0 = {\n",
    "    'username': 'efermi',\n",
    "    'first': 'enrico',\n",
    "    'last': 'fermi',\n",
    "    }\n",
    "for key, value in user_0.items():\n",
    "    print(\"\\nKey: \" + key)\n",
    "    print(\"Value: \" + value)"
   ]
  },
  {
   "cell_type": "code",
   "execution_count": 13,
   "metadata": {},
   "outputs": [
    {
     "name": "stdout",
     "output_type": "stream",
     "text": [
      "Jen's favorite language is Python.\n",
      "Sarah's favorite language is C.\n",
      "Edward's favorite language is Ruby.\n",
      "Phil's favorite language is Python.\n"
     ]
    }
   ],
   "source": [
    "favorite_languages = {\n",
    "      'jen': 'python',\n",
    "      'sarah': 'c',\n",
    "      'edward': 'ruby',\n",
    "      'phil': 'python',\n",
    "      }\n",
    "\n",
    "for name, language in favorite_languages.items():\n",
    "    print(name.title() + \"'s favorite language is \" +\n",
    "          language.title() + \".\")"
   ]
  },
  {
   "cell_type": "markdown",
   "metadata": {},
   "source": [
    "### 6.3.2　遍历字典中的所有键\n",
    "在不需要使用字典中的值时，方法keys()很有用。"
   ]
  },
  {
   "cell_type": "code",
   "execution_count": 14,
   "metadata": {},
   "outputs": [
    {
     "name": "stdout",
     "output_type": "stream",
     "text": [
      "Jen\n",
      "Sarah\n",
      "Edward\n",
      "Phil\n"
     ]
    }
   ],
   "source": [
    "favorite_languages = {\n",
    "      'jen': 'python',\n",
    "      'sarah': 'c',\n",
    "      'edward': 'ruby',\n",
    "      'phil': 'python',\n",
    "      }\n",
    "\n",
    "for name in favorite_languages.keys():\n",
    "    print(name.title())"
   ]
  },
  {
   "cell_type": "markdown",
   "metadata": {},
   "source": [
    "遍历字典时，会默认遍历所有的键，因此，如果将上述代码中的`for name in favorite_languages.keys():`替换为`for name in favorite_languages:`，输出将不变。"
   ]
  },
  {
   "cell_type": "code",
   "execution_count": 15,
   "metadata": {},
   "outputs": [
    {
     "name": "stdout",
     "output_type": "stream",
     "text": [
      "Jen\n",
      "Sarah\n",
      "Edward\n",
      "Phil\n"
     ]
    }
   ],
   "source": [
    "favorite_languages = {\n",
    "      'jen': 'python',\n",
    "      'sarah': 'c',\n",
    "      'edward': 'ruby',\n",
    "      'phil': 'python',\n",
    "      }\n",
    "\n",
    "for name in favorite_languages:\n",
    "    print(name.title())"
   ]
  },
  {
   "cell_type": "code",
   "execution_count": 16,
   "metadata": {},
   "outputs": [
    {
     "name": "stdout",
     "output_type": "stream",
     "text": [
      "Jen\n",
      "Sarah\n",
      "  Hi Sarah, I see your favorite language is C!\n",
      "Edward\n",
      "Phil\n",
      "  Hi Phil, I see your favorite language is Python!\n"
     ]
    }
   ],
   "source": [
    "favorite_languages = {\n",
    "      'jen': 'python',\n",
    "      'sarah': 'c',\n",
    "      'edward': 'ruby',\n",
    "      'phil': 'python',\n",
    "      }\n",
    "\n",
    "friends = ['phil', 'sarah']\n",
    "for name in favorite_languages.keys():\n",
    "    print(name.title())\n",
    "    if name in friends:\n",
    "        print(\"  Hi \" + name.title() +\n",
    "              \", I see your favorite language is \" +\n",
    "              favorite_languages[name].title() + \"!\")"
   ]
  },
  {
   "cell_type": "markdown",
   "metadata": {},
   "source": [
    "方法keys()并非只能用于遍历；实际上，它返回一个列表，其中包含字典中的所有键。"
   ]
  },
  {
   "cell_type": "code",
   "execution_count": 17,
   "metadata": {},
   "outputs": [
    {
     "name": "stdout",
     "output_type": "stream",
     "text": [
      "erin, please take our poll!\n"
     ]
    }
   ],
   "source": [
    "favorite_languages = {\n",
    "    'jen': 'python',\n",
    "    'sarah': 'c',\n",
    "    'edward': 'ruby',\n",
    "    'phil': 'python',\n",
    "}\n",
    "\n",
    "name = 'erin'\n",
    "if name not in favorite_languages.keys():\n",
    "    print(\"{}, please take our poll!\".format(name))"
   ]
  },
  {
   "cell_type": "markdown",
   "metadata": {},
   "source": [
    "### 6.3.3　按顺序遍历字典中的所有键\n",
    "字典总是明确地记录键和值之间的关联关系，但获取字典的元素时，获取顺序是不可预测的。这不是问题，因为通常你想要的只是获取与键相关联的正确的值。\n",
    "\n",
    "要以特定的顺序返回元素，一种办法是在for循环中对返回的键进行排序。为此，可使用函数sorted()来获得按特定顺序排列的键列表的副本。"
   ]
  },
  {
   "cell_type": "code",
   "execution_count": 18,
   "metadata": {},
   "outputs": [
    {
     "name": "stdout",
     "output_type": "stream",
     "text": [
      "Edward, thank you for taking the poll.\n",
      "Jen, thank you for taking the poll.\n",
      "Phil, thank you for taking the poll.\n",
      "Sarah, thank you for taking the poll.\n"
     ]
    }
   ],
   "source": [
    "favorite_languages = {\n",
    "    'jen': 'python',\n",
    "    'sarah': 'c',\n",
    "    'edward': 'ruby',\n",
    "    'phil': 'python',\n",
    "    }\n",
    "\n",
    "#for name in sorted(favorite_languages):\n",
    "for name in sorted(favorite_languages.keys()):\n",
    "    print(name.title() + \", thank you for taking the poll.\")"
   ]
  },
  {
   "cell_type": "markdown",
   "metadata": {},
   "source": [
    "### 6.3.4　遍历字典中的所有值\n",
    "如果感兴趣的是字典包含的值，可使用方法values()，它返回一个值列表，而不包含任何键。"
   ]
  },
  {
   "cell_type": "code",
   "execution_count": 19,
   "metadata": {},
   "outputs": [
    {
     "name": "stdout",
     "output_type": "stream",
     "text": [
      "The following languages have been mentioned:\n",
      "Python\n",
      "C\n",
      "Ruby\n",
      "Python\n"
     ]
    }
   ],
   "source": [
    "favorite_languages = {\n",
    "    'jen': 'python',\n",
    "    'sarah': 'c',\n",
    "    'edward': 'ruby',\n",
    "    'phil': 'python',\n",
    "    }\n",
    "\n",
    "print(\"The following languages have been mentioned:\")\n",
    "for language in favorite_languages.values():\n",
    "    print(language.title())"
   ]
  },
  {
   "cell_type": "markdown",
   "metadata": {},
   "source": [
    "这种做法提取字典中所有的值，而没有考虑是否重复。涉及的值很少时，这也许不是问题，但如果被调查者很多，最终的列表可能包含大量的重复项。为剔除重复项，可使用`集合`（`set`）。`集合`类似于列表，但每个元素都必须是独一无二的。\n",
    "\n",
    "> 通过对包含重复元素的列表调用set()，可让Python找出列表中独一无二的元素，并使用这些元素来创建一个集合。"
   ]
  },
  {
   "cell_type": "code",
   "execution_count": 20,
   "metadata": {},
   "outputs": [
    {
     "name": "stdout",
     "output_type": "stream",
     "text": [
      "The following languages have been mentioned:\n",
      "Python\n",
      "Ruby\n",
      "C\n"
     ]
    }
   ],
   "source": [
    "favorite_languages = {\n",
    "  'jen': 'python',\n",
    "  'sarah': 'c',\n",
    "  'edward': 'ruby',\n",
    "  'phil': 'python',\n",
    "  }\n",
    "\n",
    "print(\"The following languages have been mentioned:\")\n",
    "for language in set(favorite_languages.values()):\n",
    "    print(language.title())"
   ]
  },
  {
   "cell_type": "markdown",
   "metadata": {},
   "source": [
    "**练习：**\n",
    "6-4 词汇表2 ：既然你知道了如何遍历字典，现在请整理你为完成练习6-3而编写的代码，将其中的一系列print 语句替换为一个遍历字典中的键和值的循环。确定该循环正确无误后，再在词汇表中添加5个Python术语。当你再次运行这个程序时，这些新术语及其含义将自动包含在输出中。\n",
    "\n",
    "6-5 河流 ：创建一个字典，在其中存储三条大河流及其流经的国家。其中一个键—值对可能是'nile': 'egypt' 。\n",
    "\n",
    "使用循环为每条河流打印一条消息，如“The Nile runs through Egypt.”。\n",
    "\n",
    "使用循环将该字典中每条河流的名字都打印出来。\n",
    "\n",
    "使用循环将该字典包含的每个国家的名字都打印出来。\n",
    "\n",
    "6-6 调查 ：在6.3.1节编写的程序favorite_languages.py中执行以下操作。\n",
    "\n",
    "创建一个应该会接受调查的人员名单，其中有些人已包含在字典中，而其他人未包含在字典中。\n",
    "\n",
    "遍历这个人员名单，对于已参与调查的人，打印一条消息表示感谢。对于还未参与调查的人，打印一条消息邀请他参与调查。"
   ]
  },
  {
   "cell_type": "code",
   "execution_count": 21,
   "metadata": {},
   "outputs": [
    {
     "name": "stdout",
     "output_type": "stream",
     "text": [
      "-----6-4-----\n",
      "python: a high-level general-purpose programming language.\n",
      "print: produce (books, newspapers, magazines, etc.), especially in large quantities, by a mechanical process involving the transfer of text, images, or designs to paper.\n",
      "list: an instance of a ship leaning to one side.\n",
      "for: in support of or in favor of (a person or policy).\n",
      "if: introducing a conditional clause.\n",
      "-----6-5-----\n",
      "The Nile runs through Egypt.\n",
      "The Yangtse runs through China.\n",
      "The Amazon runs through Brazil.\n",
      "Nile\n",
      "Yangtse\n",
      "Amazon\n",
      "Egypt\n",
      "China\n",
      "Brazil\n",
      "-----6-6-----\n",
      "Jen, Thanks for taking in the investigation.\n",
      "Judy, Please take in the investigation.\n",
      "Edward, Thanks for taking in the investigation.\n",
      "Crystal, Please take in the investigation.\n",
      "Phil, Thanks for taking in the investigation.\n"
     ]
    }
   ],
   "source": [
    "# 6-4\n",
    "print(\"-----6-4-----\")\n",
    "for word, meaning in dictionary.items():\n",
    "    print(\"{}: {}\".format(word, meaning))\n",
    "# 6-5\n",
    "print(\"-----6-5-----\")\n",
    "rivers = {\"nile\":\"egypt\", \"Yangtse\":\"China\", \"Amazon\":\"Brazil\"}\n",
    "for river, county in rivers.items():\n",
    "    print(\"The {} runs through {}.\".format(river.title(), county.title()))\n",
    "for river in rivers.keys():\n",
    "    print(river.title())\n",
    "for county in rivers.values():\n",
    "    print(county.title())\n",
    "# 6-6\n",
    "print(\"-----6-6-----\")\n",
    "favorite_languages = {\n",
    "      'jen': 'python',\n",
    "      'Sarah': 'c',\n",
    "      'Edward': 'ruby',\n",
    "      'phil': 'python',\n",
    "      }\n",
    "investigate_people = ['jen','Judy','edward','Crystal','Phil']\n",
    "for person in investigate_people:\n",
    "    if person.lower() in [invest_person.lower() for invest_person in favorite_languages.keys()]:\n",
    "        print(\"{}, Thanks for taking in the investigation.\".format(person.title()))\n",
    "    else:\n",
    "        print(\"{}, Please take in the investigation.\".format(person.title()))"
   ]
  },
  {
   "cell_type": "markdown",
   "metadata": {},
   "source": [
    "## 6.4　嵌套\n",
    "有时候，需要将一系列字典存储在列表中，或将列表作为值存储在字典中，这称为`嵌套`。可以在列表中嵌套字典、在字典中嵌套列表甚至在字典中嵌套字典。"
   ]
  },
  {
   "cell_type": "markdown",
   "metadata": {},
   "source": [
    "### 6.4.1　字典列表"
   ]
  },
  {
   "cell_type": "code",
   "execution_count": 22,
   "metadata": {},
   "outputs": [
    {
     "name": "stdout",
     "output_type": "stream",
     "text": [
      "[{'color': 'green', 'points': 5}, {'color': 'yellow', 'points': 10}, {'color': 'red', 'points': 15}]\n",
      "{'color': 'green', 'points': 5}\n",
      "{'color': 'yellow', 'points': 10}\n",
      "{'color': 'red', 'points': 15}\n"
     ]
    }
   ],
   "source": [
    "alien_0 = {'color': 'green', 'points': 5}\n",
    "alien_1 = {'color': 'yellow', 'points': 10}\n",
    "alien_2 = {'color': 'red', 'points': 15}\n",
    "\n",
    "aliens = [alien_0, alien_1, alien_2]\n",
    "\n",
    "print(aliens)\n",
    "\n",
    "for alien in aliens:\n",
    "    print(alien)"
   ]
  },
  {
   "cell_type": "code",
   "execution_count": 23,
   "metadata": {},
   "outputs": [
    {
     "name": "stdout",
     "output_type": "stream",
     "text": [
      "{'color': 'green', 'points': 5, 'speed': 'slow'}\n",
      "{'color': 'green', 'points': 5, 'speed': 'slow'}\n",
      "{'color': 'green', 'points': 5, 'speed': 'slow'}\n",
      "{'color': 'green', 'points': 5, 'speed': 'slow'}\n",
      "{'color': 'green', 'points': 5, 'speed': 'slow'}\n",
      "...\n",
      "Total number of aliens: 30\n"
     ]
    }
   ],
   "source": [
    "# 创建一个用于存储外星人的空列表\n",
    "aliens = []\n",
    "\n",
    "# 创建30个绿色的外星人\n",
    "for alien_number in range(30):\n",
    "    new_alien = {'color': 'green', 'points': 5, 'speed': 'slow'}\n",
    "    aliens.append(new_alien)\n",
    "\n",
    "# 显示前五个外星人\n",
    "for alien in aliens[:5]:\n",
    "    print(alien)\n",
    "print(\"...\")\n",
    "\n",
    "# 显示创建了多少个外星人\n",
    "print(\"Total number of aliens: \" + str(len(aliens)))"
   ]
  },
  {
   "cell_type": "code",
   "execution_count": 24,
   "metadata": {},
   "outputs": [
    {
     "name": "stdout",
     "output_type": "stream",
     "text": [
      "{'color': 'yellow', 'points': 10, 'speed': 'medium'}\n",
      "{'color': 'yellow', 'points': 10, 'speed': 'medium'}\n",
      "{'color': 'yellow', 'points': 10, 'speed': 'medium'}\n",
      "{'color': 'green', 'points': 5, 'speed': 'slow'}\n",
      "{'color': 'green', 'points': 5, 'speed': 'slow'}\n",
      "...\n"
     ]
    }
   ],
   "source": [
    "# 创建一个用于存储外星人的空列表\n",
    "aliens = []\n",
    "\n",
    "# 创建30个绿色的外星人\n",
    "for alien_number in range (0,30):\n",
    "    new_alien = {'color': 'green', 'points': 5, 'speed': 'slow'}\n",
    "    aliens.append(new_alien)\n",
    "\n",
    "# 修改前三个外星人\n",
    "for alien in aliens[0:3]:\n",
    "    if alien['color'] == 'green':\n",
    "        alien['color'] = 'yellow'\n",
    "        alien['speed'] = 'medium'\n",
    "        alien['points'] = 10\n",
    "    elif alien['color'] == 'yellow':\n",
    "        alien['color'] = 'red'\n",
    "        alien['speed'] = 'fast'\n",
    "        alien['points'] = 15\n",
    "\n",
    "# 显示前五个外星人\n",
    "for alien in aliens[0:5]:\n",
    "    print(alien)\n",
    "print(\"...\")"
   ]
  },
  {
   "cell_type": "code",
   "execution_count": 25,
   "metadata": {},
   "outputs": [
    {
     "name": "stdout",
     "output_type": "stream",
     "text": [
      "{'color': 'red', 'points': 15, 'speed': 'fast'}\n",
      "{'color': 'red', 'points': 15, 'speed': 'fast'}\n",
      "{'color': 'yellow', 'points': 10, 'speed': 'medium'}\n",
      "{'color': 'green', 'points': 5, 'speed': 'slow'}\n",
      "{'color': 'green', 'points': 5, 'speed': 'slow'}\n",
      "...\n"
     ]
    }
   ],
   "source": [
    "# 进一步修改前两个外星人\n",
    "for alien in aliens[0:2]:\n",
    "    if alien['color'] == 'green':\n",
    "        alien['color'] = 'yellow'\n",
    "        alien['speed'] = 'medium'\n",
    "        alien['points'] = 10\n",
    "    elif alien['color'] == 'yellow':\n",
    "        alien['color'] = 'red'\n",
    "        alien['speed'] = 'fast'\n",
    "        alien['points'] = 15\n",
    "\n",
    "# 显示前五个外星人\n",
    "for alien in aliens[0:5]:\n",
    "    print(alien)\n",
    "print(\"...\")"
   ]
  },
  {
   "cell_type": "markdown",
   "metadata": {},
   "source": [
    "### 6.4.2　在字典中存储列表\n",
    "有时候，需要将列表存储在字典中，而不是将字典存储在列表中。\n",
    "\n",
    "每当需要在字典中将一个键关联到多个值时，都可以在字典中嵌套一个列表。"
   ]
  },
  {
   "cell_type": "code",
   "execution_count": 26,
   "metadata": {},
   "outputs": [
    {
     "name": "stdout",
     "output_type": "stream",
     "text": [
      "You ordered a thick-crust pizza with the following toppings:\n",
      "\tmushrooms\n",
      "\textra cheese\n"
     ]
    }
   ],
   "source": [
    "# 存储所点比萨的信息\n",
    "pizza = {'crust': 'thick',\n",
    "         'toppings': ['mushrooms', 'extra cheese'],\n",
    "        }\n",
    "\n",
    "# 概述所点的比萨\n",
    "print(\"You ordered a \" + pizza['crust'] + \"-crust pizza \" +\n",
    "      \"with the following toppings:\")\n",
    "\n",
    "for topping in pizza['toppings']:\n",
    "    print(\"\\t\" + topping)"
   ]
  },
  {
   "cell_type": "code",
   "execution_count": 27,
   "metadata": {},
   "outputs": [
    {
     "name": "stdout",
     "output_type": "stream",
     "text": [
      "Jen's favorite languages are:Python,Ruby,\n",
      "Sarah's favorite languages is C.\n",
      "Edward's favorite languages are:Ruby,Go,\n",
      "Phil's favorite languages are:Python,Haskell,\n"
     ]
    }
   ],
   "source": [
    "favorite_languages = {\n",
    "    'jen': ['python', 'ruby'],\n",
    "    'sarah': ['c'],\n",
    "    'edward': ['ruby', 'go'],\n",
    "    'phil': ['python', 'haskell'],\n",
    "}\n",
    "\n",
    "for name, languages in favorite_languages.items():\n",
    "    if len(languages) == 1:\n",
    "        print(\"{}'s favorite languages is {}.\".format(name.title(), languages[0].title()))\n",
    "    else:\n",
    "        print(\"\" + name.title() + \"'s favorite languages are:\",end=\"\")\n",
    "        for language in languages:\n",
    "            print(language.title(),end=\",\")\n",
    "        print()"
   ]
  },
  {
   "cell_type": "markdown",
   "metadata": {},
   "source": [
    "> 列表和字典的嵌套层级不应太多。如果嵌套层级比前面的示例多得多，很可能有更简单的解决问题的方案。"
   ]
  },
  {
   "cell_type": "markdown",
   "metadata": {},
   "source": [
    "### 6.4.3　在字典中存储字典\n",
    "可在字典中嵌套字典，但这样做时，代码可能很快复杂起来。"
   ]
  },
  {
   "cell_type": "code",
   "execution_count": 28,
   "metadata": {},
   "outputs": [
    {
     "name": "stdout",
     "output_type": "stream",
     "text": [
      "\n",
      "Username: aeinstein\n",
      "\tFull name: Albert Einstein\n",
      "\tLocation: Princeton\n",
      "\n",
      "Username: mcurie\n",
      "\tFull name: Marie Curie\n",
      "\tLocation: Paris\n"
     ]
    }
   ],
   "source": [
    "users = {\n",
    "    'aeinstein': {\n",
    "        'first': 'albert',\n",
    "        'last': 'einstein',\n",
    "        'location': 'princeton',\n",
    "    },\n",
    "\n",
    "    'mcurie': {\n",
    "        'first': 'marie',\n",
    "        'last': 'curie',\n",
    "        'location': 'paris',\n",
    "    },\n",
    "\n",
    "}\n",
    "\n",
    "for username, user_info in users.items():\n",
    "    print(\"\\nUsername: \" + username)\n",
    "    full_name = user_info['first'] + \" \" + user_info['last']\n",
    "    location = user_info['location']\n",
    "\n",
    "    print(\"\\tFull name: \" + full_name.title())\n",
    "    print(\"\\tLocation: \" + location.title())"
   ]
  },
  {
   "cell_type": "markdown",
   "metadata": {},
   "source": [
    "> 表示每位用户的字典的结构都相同，虽然Python并没有这样的要求，但这使得嵌套的字典处理起来更容易。倘若表示每位用户的字典都包含不同的键，for 循环内部的代码将更复杂。"
   ]
  },
  {
   "cell_type": "markdown",
   "metadata": {},
   "source": [
    "**练习：**\n",
    "6-7 人 ：在为完成练习6-1而编写的程序中，再创建两个表示人的字典，然后将这三个字典都存储在一个名为people的列表中。遍历这个列表，将其中每个人的所有信息都打印出来。\n",
    "\n",
    "6-8 宠物 ：创建多个字典，对于每个字典，都使用一个宠物的名称来给它命名；在每个字典中，包含宠物的类型及其主人的名字。将这些字典存储在一个名为pets的列表中，再遍历该列表，并将宠物的所有信息都打印出来。\n",
    "\n",
    "6-9 喜欢的地方 ：创建一个名为favorite_places的字典。在这个字典中，将三个人的名字用作键；对于其中的每个人，都存储他喜欢的1~3个地方。为让这个练习更有趣些，可让一些朋友指出他们喜欢的几个地方。遍历这个字典，并将其中每个人的名字及其喜欢的地方打印出来。\n",
    "\n",
    "6-10 喜欢的数字 ：修改为完成练习6-2而编写的程序，让每个人都可以有多个喜欢的数字，然后将每个人的名字及其喜欢的数字打印出来。\n",
    "\n",
    "6-11 城市 ：创建一个名为cities 的字典，其中将三个城市名用作键；对于每座城市，都创建一个字典，并在其中包含该城市所属的国家、人口约数以及一个有关该城市的事实。在表示每座城市的字典中，应包含country 、population 和fact 等键。将每座城市的名字以及有关它们的信息都打印出来。\n",
    "\n",
    "6-12 扩展 ：本章的示例足够复杂，可以以很多方式进行扩展了。请对本章的一个示例进行扩展：添加键和值、调整程序要解决的问题或改进输出的格式。"
   ]
  },
  {
   "cell_type": "code",
   "execution_count": 29,
   "metadata": {},
   "outputs": [
    {
     "name": "stdout",
     "output_type": "stream",
     "text": [
      "-----6-7-----\n",
      "{'first_name': 'Judy', 'last_name': 'Zhuang', 'age': 10, 'city': 'Nantong'}\n",
      "{'first_name': 'Crystal', 'last_name': 'Zhuang', 'age': 5, 'city': 'Nantong'}\n",
      "-----6-8-----\n",
      "{'type': 'cat', 'owner': 'Bin'}\n",
      "{'type': 'tiger', 'owner': 'Judy'}\n",
      "{'type': 'horse', 'owner': 'Crystal'}\n",
      "-----6-9-----\n",
      "Bin's favorate place is Nantong,Hangzhou.\n",
      "Judy's favorate place is Nantong,Yangzhou.\n",
      "Crystal's favorate place is Nantong.\n",
      "Alice's favorate place is Shanghai,Shenzhen.\n",
      "-----6-10-----\n",
      "Judy's favorate place is 7,4.\n",
      "Crystal's favorate place is 2.\n",
      "Bin's favorate place is 5,10,15.\n",
      "Alice's favorate place is 6,8,10.\n",
      "-----6-11-----\n",
      "The properties of Nantong is: \n",
      "county : China\n",
      "population : 731\n",
      "fact : in China\n",
      "\n",
      "The properties of Tokyo is: \n",
      "county : Japan\n",
      "population : 3700\n",
      "fact : in Japan\n",
      "\n",
      "The properties of New York is: \n",
      "county : USA\n",
      "population : 851\n",
      "fact : in USA\n",
      "\n",
      "-----6-12-----\n"
     ]
    }
   ],
   "source": [
    "# 6-7\n",
    "print(\"-----6-7-----\")\n",
    "Daughter_2 = {\"first_name\":\"Crystal\", \"last_name\":\"Zhuang\", \"age\":5, \"city\":\"Nantong\"}\n",
    "Daughters = [Daughter_1, Daughter_2]\n",
    "for daughter in Daughters:\n",
    "    print(daughter)\n",
    "# 6-8\n",
    "print(\"-----6-8-----\")\n",
    "cat = {\"type\":\"cat\", \"owner\":\"Bin\"}\n",
    "tiger = {\"type\":\"tiger\", \"owner\":\"Judy\"}\n",
    "horse = {\"type\":\"horse\", \"owner\":\"Crystal\"}\n",
    "pets = [cat, tiger, horse]\n",
    "for pet in pets:\n",
    "    print(pet)\n",
    "# 6-9\n",
    "print(\"-----6-9-----\")\n",
    "favorite_places = {\n",
    "    \"Bin\":[\"Nantong\", \"Hangzhou\"],\n",
    "    \"Judy\":[\"Nantong\", \"Yangzhou\"],\n",
    "    \"Crystal\":[\"Nantong\"],\n",
    "    \"Alice\":[\"Shanghai\",\"Shenzhen\"],\n",
    "}\n",
    "for name, places in favorite_places.items():\n",
    "    print(\"{}'s favorate place is {}.\".format(name.title(),\",\".join(places)))\n",
    "# 6-10\n",
    "print(\"-----6-10-----\")\n",
    "favorate_numbers = {\"Judy\":[7,4], \"Crystal\":[2], \"Bin\":[5,10,15], \"Alice\":[6,8,10]}\n",
    "for name, numbers in favorate_numbers.items():\n",
    "    print(\"{}'s favorate place is {}.\".format(name.title(),\",\".join([str(number) for number in numbers])))\n",
    "# 6-11\n",
    "print(\"-----6-11-----\")\n",
    "cities = {\"Nantong\":{\"county\":\"China\",\n",
    "                    \"population\":\"731\",\n",
    "                    \"fact\":\"in China\",},\n",
    "         \"Tokyo\":{\"county\":\"Japan\",\n",
    "                  \"population\":\"3700\",\n",
    "                  \"fact\":\"in Japan\",},\n",
    "          \"New York\":{\"county\":\"USA\",\n",
    "                    \"population\":\"851\",\n",
    "                    \"fact\":\"in USA\"},\n",
    "         }\n",
    "for city, properties in cities.items():\n",
    "    print(\"The properties of {} is: \".format(city))\n",
    "    for key, value in properties.items():\n",
    "        print(\"{} : {}\".format(key, value))\n",
    "    print()\n",
    "# 6-12\n",
    "print(\"-----6-12-----\")"
   ]
  },
  {
   "cell_type": "code",
   "execution_count": null,
   "metadata": {},
   "outputs": [],
   "source": []
  }
 ],
 "metadata": {
  "kernelspec": {
   "display_name": "Python 3",
   "language": "python",
   "name": "python3"
  },
  "language_info": {
   "codemirror_mode": {
    "name": "ipython",
    "version": 3
   },
   "file_extension": ".py",
   "mimetype": "text/x-python",
   "name": "python",
   "nbconvert_exporter": "python",
   "pygments_lexer": "ipython3",
   "version": "3.6.9"
  }
 },
 "nbformat": 4,
 "nbformat_minor": 2
}
