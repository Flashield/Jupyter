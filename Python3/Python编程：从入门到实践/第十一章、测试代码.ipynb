{
 "cells": [
  {
   "cell_type": "markdown",
   "metadata": {},
   "source": [
    "编写函数或类时，还可为其编写测试。通过测试，可确定代码面对各种输入都能够按要求的那样工作。在本章学习如何使用Python模块unittest中的工具来测试代码。"
   ]
  },
  {
   "cell_type": "markdown",
   "metadata": {},
   "source": [
    "## 11.1　测试函数\n",
    "要学习测试，得有要测试的代码。"
   ]
  },
  {
   "cell_type": "code",
   "execution_count": 1,
   "metadata": {},
   "outputs": [],
   "source": [
    "def get_formatted_name(first, last):\n",
    "    \"\"\"Generate a neatly formatted full name.\"\"\"\n",
    "    full_name = first + ' ' + last\n",
    "    return full_name.title()"
   ]
  },
  {
   "cell_type": "code",
   "execution_count": 2,
   "metadata": {},
   "outputs": [
    {
     "name": "stdout",
     "output_type": "stream",
     "text": [
      "Enter 'q' at any time to quit.\n",
      "\n",
      "Please give me a first name: Judy\n",
      "Please give me a last name: Zhuang\n",
      "\tNeatly formatted name: Judy Zhuang.\n",
      "\n",
      "Please give me a first name: Crystal\n",
      "Please give me a last name: Zhuang\n",
      "\tNeatly formatted name: Crystal Zhuang.\n",
      "\n",
      "Please give me a first name: \n",
      "Please give me a last name: q\n"
     ]
    }
   ],
   "source": [
    "#from name_function import get_formatted_name\n",
    "\n",
    "print(\"Enter 'q' at any time to quit.\")\n",
    "while True:\n",
    "    first = input(\"\\nPlease give me a first name: \")\n",
    "    if first == 'q':\n",
    "        break\n",
    "    last = input(\"Please give me a last name: \")\n",
    "    if last == 'q':\n",
    "        break\n",
    "\n",
    "    formatted_name = get_formatted_name(first, last)\n",
    "    print(\"\\tNeatly formatted name: \" + formatted_name + '.')"
   ]
  },
  {
   "cell_type": "markdown",
   "metadata": {},
   "source": [
    "### 11.1.1　单元测试和测试用例\n",
    "Python标准库中的模块unittest提供了代码测试工具。`单元测试`用于核实函数的某个方面没有问题；`测试用例`是一组单元测试，这些单元测试一起核实函数在各种情形下的行为都符合要求。\n",
    "\n",
    "良好的测试用例考虑到了函数可能收到的各种输入，包含针对所有这些情形的测试。`全覆盖式测试`用例包含一整套单元测试，涵盖了各种可能的函数使用方式。对于大型项目，要实现全覆盖可能很难。通常，最初只要针对代码的重要行为编写测试即可，等项目被广泛使用时再考虑全覆盖。"
   ]
  },
  {
   "cell_type": "markdown",
   "metadata": {},
   "source": [
    "### 11.1.2　可通过的测试\n",
    "创建测试用例的语法需要一段时间才能习惯，但测试用例创建后，再添加针对函数的单元测试就很简单了。要为函数编写测试用例，可先导入模块unittest 以及要测试的函数，再创建一个继承unittest.TestCase 的类，并编写一系列方法对函数行为的不同方面进行测试。"
   ]
  },
  {
   "cell_type": "code",
   "execution_count": 3,
   "metadata": {},
   "outputs": [
    {
     "name": "stderr",
     "output_type": "stream",
     "text": [
      "test_first_last_name (__main__.NamesTestCase)\n",
      "能够正确地处理像Janis Joplin这样的姓名吗？ ... ok\n",
      "\n",
      "----------------------------------------------------------------------\n",
      "Ran 1 test in 0.002s\n",
      "\n",
      "OK\n"
     ]
    },
    {
     "data": {
      "text/plain": [
       "<unittest.main.TestProgram at 0x7f0569715160>"
      ]
     },
     "execution_count": 3,
     "metadata": {},
     "output_type": "execute_result"
    }
   ],
   "source": [
    "import unittest\n",
    "#from name_function import get_formatted_name\n",
    "class NamesTestCase(unittest.TestCase):\n",
    "    \"\"\"测试name_function.py\"\"\"\n",
    "    def test_first_last_name(self):\n",
    "        \"\"\"能够正确地处理像Janis Joplin这样的姓名吗？\"\"\"\n",
    "        formatted_name = get_formatted_name('janis', 'joplin')\n",
    "        #断言方法\n",
    "        self.assertEqual(formatted_name, 'Janis Joplin')\n",
    "\n",
    "#unittest.main()\n",
    "#Jupyter中需要使用以下参数防止关闭kernel\n",
    "unittest.main(argv=['ignored', '-v'], exit=False)"
   ]
  },
  {
   "cell_type": "markdown",
   "metadata": {},
   "source": [
    "断言方法用来核实得到的结果是否与期望的结果一致。\n",
    "> 运行testname_function.py时，所有以`test`打头的方法都将自动运行。"
   ]
  },
  {
   "cell_type": "markdown",
   "metadata": {},
   "source": [
    "### 11.1.3　不能通过的测试"
   ]
  },
  {
   "cell_type": "code",
   "execution_count": 4,
   "metadata": {},
   "outputs": [],
   "source": [
    "def get_formatted_name(first, middle, last):\n",
    "    \"\"\"生成整洁的姓名\"\"\"\n",
    "    full_name = first + ' ' + middle + ' ' + last\n",
    "    return full_name.title()"
   ]
  },
  {
   "cell_type": "code",
   "execution_count": 5,
   "metadata": {},
   "outputs": [
    {
     "name": "stderr",
     "output_type": "stream",
     "text": [
      "test_first_last_name (__main__.NamesTestCase)\n",
      "能够正确地处理像Janis Joplin这样的姓名吗？ ... ERROR\n",
      "\n",
      "======================================================================\n",
      "ERROR: test_first_last_name (__main__.NamesTestCase)\n",
      "能够正确地处理像Janis Joplin这样的姓名吗？\n",
      "----------------------------------------------------------------------\n",
      "Traceback (most recent call last):\n",
      "  File \"<ipython-input-5-a0f071e32dd1>\", line 7, in test_first_last_name\n",
      "    formatted_name = get_formatted_name('janis', 'joplin')\n",
      "TypeError: get_formatted_name() missing 1 required positional argument: 'last'\n",
      "\n",
      "----------------------------------------------------------------------\n",
      "Ran 1 test in 0.003s\n",
      "\n",
      "FAILED (errors=1)\n"
     ]
    },
    {
     "data": {
      "text/plain": [
       "<unittest.main.TestProgram at 0x7f0569684320>"
      ]
     },
     "execution_count": 5,
     "metadata": {},
     "output_type": "execute_result"
    }
   ],
   "source": [
    "import unittest\n",
    "#from name_function import get_formatted_name\n",
    "class NamesTestCase(unittest.TestCase):\n",
    "    \"\"\"测试name_function.py\"\"\"\n",
    "    def test_first_last_name(self):\n",
    "        \"\"\"能够正确地处理像Janis Joplin这样的姓名吗？\"\"\"\n",
    "        formatted_name = get_formatted_name('janis', 'joplin')\n",
    "        #断言方法\n",
    "        self.assertEqual(formatted_name, 'Janis Joplin')\n",
    "\n",
    "#unittest.main()\n",
    "#Jupyter中需要使用以下参数防止关闭kernel\n",
    "unittest.main(argv=['ignored', '-v'], exit=False)"
   ]
  },
  {
   "cell_type": "markdown",
   "metadata": {},
   "source": [
    "### 11.1.4　测试未通过时怎么办\n",
    "测试未通过时，不要修改测试，而应修复导致测试不能通过的代码：检查刚对函数所做的修改，找出导致函数行为不符合预期的修改。"
   ]
  },
  {
   "cell_type": "code",
   "execution_count": 6,
   "metadata": {},
   "outputs": [],
   "source": [
    "def get_formatted_name(first, last, middle=''):\n",
    "    \"\"\"生成整洁的姓名\"\"\"\n",
    "    if middle:\n",
    "        full_name = first + ' ' + middle + ' ' + last\n",
    "    else:\n",
    "        full_name = first + ' ' + last\n",
    "    return full_name.title()"
   ]
  },
  {
   "cell_type": "code",
   "execution_count": 7,
   "metadata": {},
   "outputs": [
    {
     "name": "stderr",
     "output_type": "stream",
     "text": [
      "test_first_last_name (__main__.NamesTestCase)\n",
      "能够正确地处理像Janis Joplin这样的姓名吗？ ... ok\n",
      "\n",
      "----------------------------------------------------------------------\n",
      "Ran 1 test in 0.003s\n",
      "\n",
      "OK\n"
     ]
    },
    {
     "data": {
      "text/plain": [
       "<unittest.main.TestProgram at 0x7f0569684438>"
      ]
     },
     "execution_count": 7,
     "metadata": {},
     "output_type": "execute_result"
    }
   ],
   "source": [
    "import unittest\n",
    "#from name_function import get_formatted_name\n",
    "class NamesTestCase(unittest.TestCase):\n",
    "    \"\"\"测试name_function.py\"\"\"\n",
    "    def test_first_last_name(self):\n",
    "        \"\"\"能够正确地处理像Janis Joplin这样的姓名吗？\"\"\"\n",
    "        formatted_name = get_formatted_name('janis', 'joplin')\n",
    "        #断言方法\n",
    "        self.assertEqual(formatted_name, 'Janis Joplin')\n",
    "\n",
    "#unittest.main()\n",
    "#Jupyter中需要使用以下参数防止关闭kernel\n",
    "unittest.main(argv=['ignored', '-v'], exit=False)"
   ]
  },
  {
   "cell_type": "markdown",
   "metadata": {},
   "source": [
    "### 11.1.5　添加新测试"
   ]
  },
  {
   "cell_type": "code",
   "execution_count": 8,
   "metadata": {},
   "outputs": [
    {
     "name": "stderr",
     "output_type": "stream",
     "text": [
      "test_first_last_middle_name (__main__.NamesTestCase)\n",
      "能够正确地处理像Wolfgang Amadeus Mozart这样的姓名吗？ ... ok\n",
      "test_first_last_name (__main__.NamesTestCase)\n",
      "能够正确地处理像Janis Joplin这样的姓名吗？ ... ok\n",
      "\n",
      "----------------------------------------------------------------------\n",
      "Ran 2 tests in 0.005s\n",
      "\n",
      "OK\n"
     ]
    },
    {
     "data": {
      "text/plain": [
       "<unittest.main.TestProgram at 0x7f056969b940>"
      ]
     },
     "execution_count": 8,
     "metadata": {},
     "output_type": "execute_result"
    }
   ],
   "source": [
    "import unittest\n",
    "#from name_function import get_formatted_name\n",
    "\n",
    "class NamesTestCase(unittest.TestCase):\n",
    "    \"\"\"测试name_function.py \"\"\"\n",
    "    \n",
    "    def test_first_last_name(self):\n",
    "        \"\"\"能够正确地处理像Janis Joplin这样的姓名吗？\"\"\"\n",
    "        formatted_name = get_formatted_name('janis', 'joplin')\n",
    "        self.assertEqual(formatted_name, 'Janis Joplin')\n",
    "        \n",
    "    #方法名必须以test打头\n",
    "    def test_first_last_middle_name(self):\n",
    "        \"\"\"能够正确地处理像Wolfgang Amadeus Mozart这样的姓名吗？\"\"\"\n",
    "        formatted_name = get_formatted_name(\n",
    "            'wolfgang', 'mozart', 'amadeus')\n",
    "        self.assertEqual(formatted_name, 'Wolfgang Amadeus Mozart')\n",
    "\n",
    "unittest.main(argv=['ignored', '-v'], exit=False)"
   ]
  },
  {
   "cell_type": "markdown",
   "metadata": {},
   "source": [
    "在TestCase类中使用很长的方法名是可以的；这些方法的名称必须是`描述性`的，这才能明白测试未通过时的输出；这些方法由Python自动调用，根本不用编写调用它们的代码。"
   ]
  },
  {
   "cell_type": "markdown",
   "metadata": {},
   "source": [
    "**练习：**\n",
    "11-1 城市和国家 ：编写一个函数，它接受两个形参：一个城市名和一个国家名。这个函数返回一个格式为City, Country 的字符串，如Santiago, Chile 。将这个函数存储在一个名为city_functions.py的模块中。\n",
    "\n",
    "创建一个名为test_cities.py的程序，对刚编写的函数进行测试（别忘了，你需要导入模块unittest 以及要测试的函数）。编写一个名为test_city_country() 的方法，核实使用类似于'santiago' 和'chile' 这样的值来调用前述函数时，得到的字符串是正确的。运行test_cities.py ，确认测试test_city_country() 通过了。\n",
    "\n",
    "11-2 人口数量 ：修改前面的函数，使其包含第三个必不可少的形参population ，并返回一个格式为City, Country - population xxx 的字符串，如Santiago, Chile - population 5000000 。运行test_cities.py，确认测试test_city_country() 未通过。\n",
    "\n",
    "修改上述函数，将形参population 设置为可选的。再次运行test_cities.py，确认测试test_city_country() 又通过了。\n",
    "\n",
    "再编写一个名为test_city_country_population() 的测试，核实可以使用类似于'santiago' 、'chile' 和'population=5000000' 这样的值来调用这个函数。再次运行test_cities.py，确认测试test_city_country_population() 通过了。"
   ]
  },
  {
   "cell_type": "code",
   "execution_count": 1,
   "metadata": {},
   "outputs": [
    {
     "name": "stdout",
     "output_type": "stream",
     "text": [
      "-----11-1-----\n"
     ]
    }
   ],
   "source": [
    "# 11-1\n",
    "print(\"-----11-1-----\")\n",
    "def describe_city(city, country):\n",
    "    return \"{} in {}\".format(city.title(), country.title())"
   ]
  },
  {
   "cell_type": "code",
   "execution_count": 2,
   "metadata": {},
   "outputs": [
    {
     "name": "stderr",
     "output_type": "stream",
     "text": [
      "test_city_county (__main__.CityTestCase)\n",
      "Test only 2 arguments: ... ok\n",
      "\n",
      "----------------------------------------------------------------------\n",
      "Ran 1 test in 0.002s\n",
      "\n",
      "OK\n"
     ]
    },
    {
     "data": {
      "text/plain": [
       "<unittest.main.TestProgram at 0x7f52e8450668>"
      ]
     },
     "execution_count": 2,
     "metadata": {},
     "output_type": "execute_result"
    }
   ],
   "source": [
    "import unittest\n",
    "class CityTestCase(unittest.TestCase):\n",
    "    \"\"\"Test Function describe_city\"\"\"\n",
    "    \n",
    "    def test_city_county(self):\n",
    "        \"\"\"Test only 2 arguments:\"\"\"\n",
    "        city_country = describe_city(\"santiago\", \"chile\")\n",
    "        self.assertEqual(city_country, \"Santiago in Chile\")\n",
    "\n",
    "unittest.main(argv=[\"ignored\", \"-v\"], exit=False)"
   ]
  },
  {
   "cell_type": "code",
   "execution_count": 3,
   "metadata": {},
   "outputs": [
    {
     "name": "stdout",
     "output_type": "stream",
     "text": [
      "-----11-2-----\n"
     ]
    }
   ],
   "source": [
    "# 11-2\n",
    "print(\"-----11-2-----\")\n",
    "def describe_city(city, country, population):\n",
    "    return \"{} in {} - population {}\"\\\n",
    "            .format(city.title(), country.title(), population)"
   ]
  },
  {
   "cell_type": "code",
   "execution_count": 4,
   "metadata": {},
   "outputs": [
    {
     "name": "stderr",
     "output_type": "stream",
     "text": [
      "test_city_county (__main__.CityTestCase)\n",
      "Test only 2 arguments: ... ERROR\n",
      "\n",
      "======================================================================\n",
      "ERROR: test_city_county (__main__.CityTestCase)\n",
      "Test only 2 arguments:\n",
      "----------------------------------------------------------------------\n",
      "Traceback (most recent call last):\n",
      "  File \"<ipython-input-4-a7c8b4dca366>\", line 7, in test_city_county\n",
      "    city_country = describe_city(\"santiago\", \"chile\")\n",
      "TypeError: describe_city() missing 1 required positional argument: 'population'\n",
      "\n",
      "----------------------------------------------------------------------\n",
      "Ran 1 test in 0.005s\n",
      "\n",
      "FAILED (errors=1)\n"
     ]
    },
    {
     "data": {
      "text/plain": [
       "<unittest.main.TestProgram at 0x7f52e844deb8>"
      ]
     },
     "execution_count": 4,
     "metadata": {},
     "output_type": "execute_result"
    }
   ],
   "source": [
    "import unittest\n",
    "class CityTestCase(unittest.TestCase):\n",
    "    \"\"\"Test Function describe_city\"\"\"\n",
    "    \n",
    "    def test_city_county(self):\n",
    "        \"\"\"Test only 2 arguments:\"\"\"\n",
    "        city_country = describe_city(\"santiago\", \"chile\")\n",
    "        self.assertEqual(city_country, \"Santiago in Chile\")\n",
    "\n",
    "unittest.main(argv=[\"ignored\", \"-v\"], exit=False)"
   ]
  },
  {
   "cell_type": "code",
   "execution_count": 5,
   "metadata": {},
   "outputs": [
    {
     "name": "stdout",
     "output_type": "stream",
     "text": [
      "-----11-2-1-----\n"
     ]
    }
   ],
   "source": [
    "# 11-2-1\n",
    "print(\"-----11-2-1-----\")\n",
    "def describe_city(city, country, population=\"\"):\n",
    "    \"\"\"Describe City in County or Population\"\"\"\n",
    "    if population:\n",
    "        city_desc = \"{} in {} - population {}\"\\\n",
    "                    .format(city.title(), country.title(), population)\n",
    "    else:\n",
    "        city_desc = \"{} in {}\"\\\n",
    "                    .format(city.title(), country.title())\n",
    "    return city_desc"
   ]
  },
  {
   "cell_type": "code",
   "execution_count": 6,
   "metadata": {},
   "outputs": [
    {
     "name": "stderr",
     "output_type": "stream",
     "text": [
      "test_city_county (__main__.CityTestCase)\n",
      "Test only 2 arguments: ... ok\n",
      "\n",
      "----------------------------------------------------------------------\n",
      "Ran 1 test in 0.003s\n",
      "\n",
      "OK\n"
     ]
    },
    {
     "data": {
      "text/plain": [
       "<unittest.main.TestProgram at 0x7f52e844db70>"
      ]
     },
     "execution_count": 6,
     "metadata": {},
     "output_type": "execute_result"
    }
   ],
   "source": [
    "import unittest\n",
    "class CityTestCase(unittest.TestCase):\n",
    "    \"\"\"Test Function describe_city\"\"\"\n",
    "    \n",
    "    def test_city_county(self):\n",
    "        \"\"\"Test only 2 arguments:\"\"\"\n",
    "        city_country = describe_city(\"santiago\", \"chile\")\n",
    "        self.assertEqual(city_country, \"Santiago in Chile\")\n",
    "\n",
    "unittest.main(argv=[\"ignored\", \"-v\"], exit=False)"
   ]
  },
  {
   "cell_type": "code",
   "execution_count": 7,
   "metadata": {},
   "outputs": [
    {
     "name": "stderr",
     "output_type": "stream",
     "text": [
      "test_city_county (__main__.CityTestCase)\n",
      "Test only 2 arguments: ... ok\n",
      "test_city_county_population (__main__.CityTestCase)\n",
      "Test 3 arguments: ... ok\n",
      "\n",
      "----------------------------------------------------------------------\n",
      "Ran 2 tests in 0.005s\n",
      "\n",
      "OK\n"
     ]
    },
    {
     "data": {
      "text/plain": [
       "<unittest.main.TestProgram at 0x7f52e842aef0>"
      ]
     },
     "execution_count": 7,
     "metadata": {},
     "output_type": "execute_result"
    }
   ],
   "source": [
    "import unittest\n",
    "class CityTestCase(unittest.TestCase):\n",
    "    \"\"\"Test Function describe_city\"\"\"\n",
    "    \n",
    "    def test_city_county(self):\n",
    "        \"\"\"Test only 2 arguments:\"\"\"\n",
    "        city_country = describe_city(\"santiago\", \"chile\")\n",
    "        self.assertEqual(city_country, \"Santiago in Chile\")\n",
    "        \n",
    "    def test_city_county_population(self):\n",
    "        \"\"\"Test 3 arguments:\"\"\"\n",
    "        city_country = describe_city(\"santiago\", \"chile\", 5000000)\n",
    "        self.assertEqual(city_country, \"Santiago in Chile - population 5000000\")\n",
    "\n",
    "unittest.main(argv=[\"ignored\", \"-v\"], exit=False)"
   ]
  },
  {
   "cell_type": "markdown",
   "metadata": {},
   "source": [
    "## 11.2　测试类\n",
    "下面来编写针对类的测试。很多程序中都会用到类，因此能够证明类能够正确地工作会大有裨益。如果针对类的测试通过了，就能确信对类所做的改进没有意外地破坏其原有的行为。"
   ]
  },
  {
   "cell_type": "markdown",
   "metadata": {},
   "source": [
    "### 11.2.1　各种断言方法\n",
    "Python在unittest.TestCase类中提供了很多断言方法。断言方法检查认为应该满足的条件是否确实满足。如果该条件确实满足，对程序行为的假设就得到了确认。如果应该满足的条件实际上并不满足，Python将引发异常。\n",
    "\n",
    "下表描述了6个常用的断言方法。使用这些方法可核实返回的值等于或不等于预期的值、返回的值为True或False、返回的值在列表中或不在列表中。只能在继承unittest.TestCase的类中使用这些方法。"
   ]
  },
  {
   "cell_type": "markdown",
   "metadata": {},
   "source": [
    "|              方法               |             用途              |\n",
    "| ------------------------------- | ----------------------------- |\n",
    "| `assertEqual(a, b)`             | 核实`a == b`                  |\n",
    "| `assertNotEqual(a, b)`          | 核实`a != b`                  |\n",
    "| `assertTrue(x)`                 | 核实`x` 为`True`               |\n",
    "| `assertFalse(x)`                | 核实`x` 为`False`              |\n",
    "| `assertIn(*item* , *list* )`    | 核实 *`item`* 在 *`list`* 中   |\n",
    "| `assertNotIn(*item* , *list* )` | 核实 *`item`* 不在 *`list`* 中 |"
   ]
  },
  {
   "cell_type": "markdown",
   "metadata": {},
   "source": [
    "### 11.2.2　一个要测试的类"
   ]
  },
  {
   "cell_type": "code",
   "execution_count": 1,
   "metadata": {},
   "outputs": [],
   "source": [
    "class AnonymousSurvey():\n",
    "    \"\"\"收集匿名调查问卷的答案\"\"\"\n",
    "    def __init__(self, question):\n",
    "        \"\"\"存储一个问题，并为存储答案做准备\"\"\"\n",
    "        self.question = question\n",
    "        self.responses = []\n",
    "        \n",
    "    def show_question(self):\n",
    "        \"\"\"显示调查问卷\"\"\"\n",
    "        print(question)\n",
    "        \n",
    "    def store_response(self, new_response):\n",
    "        \"\"\"存储单份调查答卷\"\"\"\n",
    "        self.responses.append(new_response)\n",
    "        \n",
    "    def show_results(self):\n",
    "        \"\"\"显示收集到的所有答卷\"\"\"\n",
    "        print(\"Survey results:\")\n",
    "        for response in self.responses:\n",
    "            print('- ' + response)"
   ]
  },
  {
   "cell_type": "code",
   "execution_count": 5,
   "metadata": {},
   "outputs": [
    {
     "name": "stdout",
     "output_type": "stream",
     "text": [
      "What language did you first learn to speak?\n",
      "Enter 'q' at any time to quit.\n",
      "\n",
      "Language: English\n",
      "Language: Chinese\n",
      "Language: \n",
      "Language: q\n",
      "\n",
      "Thank you to everyone who participated in the survey!\n",
      "Survey results:\n",
      "- English\n",
      "- Chinese\n",
      "- \n"
     ]
    }
   ],
   "source": [
    "#from survey import AnonymousSurvey\n",
    "\n",
    "#定义一个问题，并创建一个表示调查的AnonymousSurvey对象\n",
    "question = \"What language did you first learn to speak?\"\n",
    "my_survey = AnonymousSurvey(question)\n",
    "\n",
    "#显示问题并存储答案\n",
    "my_survey.show_question()\n",
    "print(\"Enter 'q' at any time to quit.\\n\")\n",
    "while True:\n",
    "    response = input(\"Language: \")\n",
    "    if response == 'q':\n",
    "        break\n",
    "    my_survey.store_response(response)\n",
    "\n",
    "# 显示调查结果\n",
    "print(\"\\nThank you to everyone who participated in the survey!\")\n",
    "my_survey.show_results()"
   ]
  },
  {
   "cell_type": "markdown",
   "metadata": {},
   "source": [
    "### 11.2.3　测试类"
   ]
  },
  {
   "cell_type": "code",
   "execution_count": 2,
   "metadata": {},
   "outputs": [
    {
     "name": "stderr",
     "output_type": "stream",
     "text": [
      "test_store_single_response (__main__.TestAnonmyousSurvey)\n",
      "测试单个答案会被妥善地存储 ... ok\n",
      "\n",
      "----------------------------------------------------------------------\n",
      "Ran 1 test in 0.003s\n",
      "\n",
      "OK\n"
     ]
    },
    {
     "data": {
      "text/plain": [
       "<unittest.main.TestProgram at 0x7faad379e198>"
      ]
     },
     "execution_count": 2,
     "metadata": {},
     "output_type": "execute_result"
    }
   ],
   "source": [
    "import unittest\n",
    "#from survey import AnonymousSurvey\n",
    "\n",
    "class TestAnonmyousSurvey(unittest.TestCase):\n",
    "    \"\"\"针对AnonymousSurvey类的测试\"\"\"\n",
    "\n",
    "    def test_store_single_response(self):\n",
    "        \"\"\"测试单个答案会被妥善地存储\"\"\"\n",
    "        question = \"What language did you first learn to speak?\"\n",
    "        my_survey = AnonymousSurvey(question)\n",
    "        my_survey.store_response('English')\n",
    "        self.assertIn('English', my_survey.responses)\n",
    "\n",
    "unittest.main(argv=[\"ignored\", \"-v\"], exit=False)"
   ]
  },
  {
   "cell_type": "code",
   "execution_count": 2,
   "metadata": {},
   "outputs": [
    {
     "name": "stderr",
     "output_type": "stream",
     "text": [
      "test_store_single_response (__main__.TestAnonmyousSurvey)\n",
      "测试单个答案会被妥善地存储 ... ok\n",
      "test_store_three_responses (__main__.TestAnonmyousSurvey)\n",
      "测试三个答案会被妥善地存储 ... ok\n",
      "\n",
      "----------------------------------------------------------------------\n",
      "Ran 2 tests in 0.005s\n",
      "\n",
      "OK\n"
     ]
    },
    {
     "data": {
      "text/plain": [
       "<unittest.main.TestProgram at 0x7f807d19ed30>"
      ]
     },
     "execution_count": 2,
     "metadata": {},
     "output_type": "execute_result"
    }
   ],
   "source": [
    "import unittest\n",
    "#from survey import AnonymousSurvey\n",
    "\n",
    "class TestAnonmyousSurvey(unittest.TestCase):\n",
    "    \"\"\"针对AnonymousSurvey类的测试\"\"\"\n",
    "\n",
    "    def test_store_single_response(self):\n",
    "        \"\"\"测试单个答案会被妥善地存储\"\"\"\n",
    "        question = \"What language did you first learn to speak?\"\n",
    "        my_survey = AnonymousSurvey(question)\n",
    "        my_survey.store_response('English')\n",
    "        self.assertIn('English', my_survey.responses)\n",
    "    \n",
    "    def test_store_three_responses(self):\n",
    "        \"\"\"测试三个答案会被妥善地存储\"\"\"\n",
    "        question = \"What language did you first learn to speak?\"\n",
    "        my_survey = AnonymousSurvey(question)\n",
    "        responses = ['English', 'Spanish', 'Mandarin']\n",
    "        for response in responses:\n",
    "            my_survey.store_response(response)\n",
    "            \n",
    "        for response in responses:\n",
    "            self.assertIn(response, my_survey.responses)\n",
    "\n",
    "unittest.main(argv=[\"ignored\", \"-v\"], exit=False)"
   ]
  },
  {
   "cell_type": "markdown",
   "metadata": {},
   "source": [
    "前述做法的效果很好，但有些重复的地方。下面使用unittest的另一项功能来提高它们的效率。"
   ]
  },
  {
   "cell_type": "markdown",
   "metadata": {},
   "source": [
    "### 11.2.4　方法setUp()\n",
    "在前面的每个测试方法中都创建了一个AnonymousSurvey实例，并在每个方法中都创建了答案。unittest.TestCase类包含方法setUp() ，只需创建这些对象一次，并在每个测试方法中使用它们。如果在TestCase类中包含了方法setUp()，Python将先运行它，再运行各个以`test_`打头的方法。这样，在编写的每个测试方法中都可使用在方法setUp() 中创建的对象了。"
   ]
  },
  {
   "cell_type": "code",
   "execution_count": 2,
   "metadata": {},
   "outputs": [
    {
     "name": "stderr",
     "output_type": "stream",
     "text": [
      "test_store_single_response (__main__.TestAnonymousSurvey)\n",
      "测试单个答案会被妥善地存储 ... ok\n",
      "test_store_three_responses (__main__.TestAnonymousSurvey)\n",
      "测试三个答案会被妥善地存储 ... ok\n",
      "\n",
      "----------------------------------------------------------------------\n",
      "Ran 2 tests in 0.004s\n",
      "\n",
      "OK\n"
     ]
    },
    {
     "data": {
      "text/plain": [
       "<unittest.main.TestProgram at 0x7f49f4f09f28>"
      ]
     },
     "execution_count": 2,
     "metadata": {},
     "output_type": "execute_result"
    }
   ],
   "source": [
    "import unittest\n",
    "#from survey import AnonymousSurvey\n",
    "\n",
    "class TestAnonymousSurvey(unittest.TestCase):\n",
    "    \"\"\"针对AnonymousSurvey类的测试\"\"\"\n",
    "\n",
    "    def setUp(self):\n",
    "        \"\"\"\n",
    "        创建一个调查对象和一组答案，供使用的测试方法使用\n",
    "        \"\"\"\n",
    "        question = \"What language did you first learn to speak?\"\n",
    "        #将原来的对象放入self中\n",
    "        self.my_survey = AnonymousSurvey(question)\n",
    "        self.responses = ['English', 'Spanish', 'Mandarin']\n",
    "\n",
    "    def test_store_single_response(self):\n",
    "        \"\"\"测试单个答案会被妥善地存储\"\"\"\n",
    "        self.my_survey.store_response(self.responses[0])\n",
    "        self.assertIn(self.responses[0], self.my_survey.responses)\n",
    "\n",
    "    def test_store_three_responses(self):\n",
    "        \"\"\"测试三个答案会被妥善地存储\"\"\"\n",
    "        for response in self.responses:\n",
    "            self.my_survey.store_response(response)\n",
    "        for response in self.responses:\n",
    "            self.assertIn(response, self.my_survey.responses)\n",
    "\n",
    "unittest.main(argv=[\"ignored\", \"-v\"], exit=False)"
   ]
  },
  {
   "cell_type": "markdown",
   "metadata": {},
   "source": [
    "方法setUp()做了两件事情：创建一个调查对象；创建一个答案列表。存储这两样东西的变量名包含前缀self（即存储在属性中），因此可在这个类的任何地方使用。\n",
    "\n",
    "测试自己编写的类时，方法setUp()让测试方法编写起来更容易：可在setUp()方法中创建一系列实例并设置它们的属性，再在测试方法中直接使用这些实例。相比于在每个测试方法中都创建实例并设置其属性，这要容易得多。"
   ]
  },
  {
   "cell_type": "markdown",
   "metadata": {},
   "source": [
    "> 运行测试用例时，每完成一个单元测试，Python都打印一个字符：测试通过时打印一个句点；测试引发错误时打印一个`E`；测试导致断言失败时打印一个`F`。这就是运行测试用例时，在输出的第一行中看到的句点和字符数量各不相同的原因。如果测试用例包含很多单元测试，需要运行很长时间，就可通过观察这些结果来获悉有多少个测试通过了。"
   ]
  },
  {
   "cell_type": "markdown",
   "metadata": {},
   "source": [
    "**练习：**\n",
    "11-3 雇员 ：编写一个名为Employee的类，其方法__init__() 接受名、姓和年薪，并将它们都存储在属性中。编写一个名为give_raise() 的方法，它默认将年薪增加5000美元，但也能够接受其他的年薪增加量。\n",
    "\n",
    "为Employee 编写一个测试用例，其中包含两个测试方法：test_give_default_raise() 和test_give_custom_raise() 。使用方法setUp() ，以免在每个测试方法中都创建新的雇员实例。运行这个测试用例，确认两个测试都通过了。"
   ]
  },
  {
   "cell_type": "code",
   "execution_count": 1,
   "metadata": {},
   "outputs": [
    {
     "name": "stdout",
     "output_type": "stream",
     "text": [
      "-----11-3-----\n"
     ]
    }
   ],
   "source": [
    "# 11-3\n",
    "print(\"-----11-3-----\")\n",
    "\n",
    "class Employee():\n",
    "    \"\"\"a class for employee\"\"\"\n",
    "    def __init__(self, first_name, last_name, salary):\n",
    "        \"\"\"init the Employee instance\"\"\"\n",
    "        self.first_name = first_name\n",
    "        self.last_name = last_name\n",
    "        self.salary = salary\n",
    "    \n",
    "    def give_raise(self, raise_up=5000):\n",
    "        \"\"\"raise salary by default 5K\"\"\"\n",
    "        self.salary += raise_up"
   ]
  },
  {
   "cell_type": "code",
   "execution_count": 2,
   "metadata": {},
   "outputs": [
    {
     "name": "stderr",
     "output_type": "stream",
     "text": [
      "test_give_custom_raise (__main__.EmployRaiseTest)\n",
      "Test for Custom Salary Raise ... ok\n",
      "test_give_default_raise (__main__.EmployRaiseTest)\n",
      "Test for Default Salary Raise ... ok\n",
      "\n",
      "----------------------------------------------------------------------\n",
      "Ran 2 tests in 0.004s\n",
      "\n",
      "OK\n"
     ]
    },
    {
     "data": {
      "text/plain": [
       "<unittest.main.TestProgram at 0x7fdcfc148cc0>"
      ]
     },
     "execution_count": 2,
     "metadata": {},
     "output_type": "execute_result"
    }
   ],
   "source": [
    "import unittest\n",
    "\n",
    "class EmployRaiseTest(unittest.TestCase):\n",
    "    \"\"\"a Test Unit for Class Employee\"\"\"\n",
    "    def setUp(self):\n",
    "        \"\"\"Setup a Employee Class\"\"\"\n",
    "        self.test_employee = Employee(\"Judy\", \"Zhuang\", 180000)\n",
    "    \n",
    "    def test_give_default_raise(self):\n",
    "        \"\"\"Test for Default Salary Raise\"\"\"\n",
    "        self.test_employee.give_raise()\n",
    "        self.assertEqual(self.test_employee.salary, 185000)\n",
    "        \n",
    "    def test_give_custom_raise(self):\n",
    "        \"\"\"Test for Custom Salary Raise\"\"\"\n",
    "        self.test_employee.give_raise(8000)\n",
    "        self.assertEqual(self.test_employee.salary, 188000)\n",
    "\n",
    "unittest.main(argv=[\"ignored\", \"-v\"], exit=False)"
   ]
  }
 ],
 "metadata": {
  "kernelspec": {
   "display_name": "Python 3",
   "language": "python",
   "name": "python3"
  },
  "language_info": {
   "codemirror_mode": {
    "name": "ipython",
    "version": 3
   },
   "file_extension": ".py",
   "mimetype": "text/x-python",
   "name": "python",
   "nbconvert_exporter": "python",
   "pygments_lexer": "ipython3",
   "version": "3.6.9"
  }
 },
 "nbformat": 4,
 "nbformat_minor": 2
}
