{
 "cells": [
  {
   "cell_type": "markdown",
   "metadata": {},
   "source": [
    "将学习处理文件，让程序能够快速地分析大量的数据；将学习错误处理，避免程序在面对意外情形时崩溃；将学习异常，它们是Python创建的特殊对象，用于管理程序运行时出现的错误；还将学习模块json，能够保存用户数据，以免在程序停止运行后丢失。\n",
    "\n",
    "学习处理文件和保存数据可让程序使用起来更容易：用户将能够选择输入什么样的数据，以及在什么时候输入；用户使用程序做一些工作后，可将程序关闭，以后再接着往下做。\n",
    "\n",
    "学习处理异常可应对文件不存在的情形，以及处理其他可能导致程序崩溃的问题。这让程序在面对错误的数据时更健壮——不管这些错误数据源自无意的错误，还是源自破坏程序的恶意企图。可提高程序的适用性、可用性和稳定性。"
   ]
  },
  {
   "cell_type": "markdown",
   "metadata": {},
   "source": [
    "## 10.1　从文件中读取数据\n",
    "文本文件可存储的数据量多得难以置信：天气数据、交通数据、社会经济数据、文学作品等。每当需要分析或修改存储在文件中的信息时，读取文件都很有用，对数据分析应用程序来说尤其如此。\n",
    "\n",
    "要使用文本文件中的信息，首先需要将信息读取到内存中。为此，可以一次性读取文件的全部内容，也可以以每次一行的方式逐步读取。"
   ]
  },
  {
   "cell_type": "markdown",
   "metadata": {},
   "source": [
    "### 10.1.1　读取整个文件\n",
    "要读取文件，需要一个包含几行文本的文件。\n",
    "\n",
    "`C_10_1_1.txt\n",
    "3.1415926535\n",
    "8979323846\n",
    "2643383279`\n",
    "\n",
    "在这个程序中，第1行代码做了大量的工作。\n",
    "\n",
    "* 函数open() \n",
    "    要以任何方式使用文件——哪怕仅仅是打印其内容，都得先打开文件，这样才能访问它。函数open()接受一个参数：`要打开的文件的名称`。Python在当前执行的文件所在的目录中查找指定的文件。\n",
    "    函数open() 返回一个表示文件的对象。在这里，open('C_10_1_1.txt') 返回一个表示文件C_10_1_1.txt 的对象；Python将这个对象存储在后面使用的变量`file_object`中。\n",
    "\n",
    "* 关键字with \n",
    "    在不再需要访问文件后将其关闭。在这个程序中，注意到调用了open() ，但没有调用close()；也可以调用open() 和close() 来打开和关闭文件，但这样做时，如果程序存在bug，导致close() 语句未执行，文件将不会关闭。这看似微不足道，但未妥善地关闭文件可能会导致数据丢失或受损。如果在程序中过早地调用close() ，你会发现需要使用文件时它已关闭 （无法访问），这会导致更多的错误。并非在任何情况下都能轻松确定关闭文件的恰当时机，但通过使用前面所示的结构，可让Python去确定：你只管打开文件，并在需要时使用它，Python自会在合适的时候自动将其关闭。\n",
    "\n",
    "有了文件对象后，使用方法read()读取这个文件的全部内容，并将其作为一个长长的字符串存储在变量contents中。这样，通过打印contents的值，就可将这个文本文件的全部内容显示出来"
   ]
  },
  {
   "cell_type": "code",
   "execution_count": 1,
   "metadata": {},
   "outputs": [
    {
     "name": "stdout",
     "output_type": "stream",
     "text": [
      "3.1415926535\n",
      "  8979323846\n",
      "  2643383279\n"
     ]
    }
   ],
   "source": [
    "with open('C_10_1_1.txt') as file_object:\n",
    "    contents = file_object.read()\n",
    "    print(contents)"
   ]
  },
  {
   "cell_type": "code",
   "execution_count": 2,
   "metadata": {},
   "outputs": [
    {
     "name": "stdout",
     "output_type": "stream",
     "text": [
      "from C_9_4_1 import Car\n",
      "\n",
      "class Battery():\n",
      "    \"\"\"一次模拟电动汽车电瓶的简单尝试\"\"\"\n",
      "\n",
      "    def __init__(self, battery_size=60):\n",
      "        \"\"\"初始化电瓶的属性\"\"\"\n",
      "        self.battery_size = battery_size\n",
      "\n",
      "    def describe_battery(self):\n",
      "        \"\"\"打印一条描述电瓶容量的消息\"\"\"\n",
      "        print(\"This car has a \" + str(self.battery_size) + \"-kWh battery.\")\n",
      "\n",
      "    def get_range(self):\n",
      "        \"\"\"打印一条描述电瓶续航里程的消息\"\"\"\n",
      "        range = 200\n",
      "        if self.battery_size == 70:\n",
      "            range = 240\n",
      "        elif self.battery_size == 85:\n",
      "            range = 270\n",
      "\n",
      "        message = \"This car can go approximately \" + str(range)\n",
      "        message += \" miles on a full charge.\"\n",
      "        print(message)\n",
      "\n",
      "class ElectricCar(Car):\n",
      "    \"\"\"模拟电动汽车的独特之处\"\"\"\n",
      "\n",
      "    def __init__(self, make, model, year):\n",
      "        \"\"\"\n",
      "        初始化父类的属性，再初始化电动汽车特有的属性\n",
      "        \"\"\"\n",
      "        super().__init__(make, model, year)\n",
      "        self.battery = Battery()\n"
     ]
    }
   ],
   "source": [
    "#不是with的方法\n",
    "file_object = open('C_9_4_6.py')\n",
    "contents = file_object.read()\n",
    "print(contents)\n",
    "file_object.close()"
   ]
  },
  {
   "cell_type": "markdown",
   "metadata": {},
   "source": [
    "相比于原始文件，该输出唯一不同的地方是末尾多了一个空行。因为read()到达文件末尾时返回一个空字符串，而将这个空字符串显示出来时就是一个空行。要删除多出来的空行，可在print 语句中使用rstrip() "
   ]
  },
  {
   "cell_type": "code",
   "execution_count": 3,
   "metadata": {},
   "outputs": [
    {
     "name": "stdout",
     "output_type": "stream",
     "text": [
      "3.1415926535\n",
      "  8979323846\n",
      "  2643383279\n"
     ]
    }
   ],
   "source": [
    "with open('C_10_1_1.txt') as file_object:\n",
    "    contents = file_object.read()\n",
    "    print(contents.rstrip())"
   ]
  },
  {
   "cell_type": "markdown",
   "metadata": {},
   "source": [
    "### 10.1.2　文件路径\n",
    "当类似C_10_1_1.txt这样的简单文件名传递给函数open()时，Python将在当前执行的文件（即.py程序文件）`所在的目录`中查找文件。\n",
    "\n",
    "根据组织文件的方式，有时可能要打开不在程序文件所属目录中的文件。要让Python打开不与程序文件位于同一个目录中的文件，需要提供文件路径 ，它让Python到系统的特定位置去查找。\n",
    "\n",
    "可使用`相对文件路径`来打开该文件夹中的文件。相对文件路径让Python到指定的位置去查找，而该位置是相对于当前运行的程序所在目录的。在Linux和OS X中，可以这样编写代码：`with open('filepath/filename.txt') as file_object:`。在Windows系统中，在文件路径中使用反斜杠（\\ ）而不是斜杠（/ ）：`with open('filepath\\filename.txt') as file_object:`。\n",
    "\n",
    "还可以将文件在计算机中的准确位置告诉Python，这称为`绝对文件路径` 。绝对路径通常比相对路径更长，因此将其存储在一个变量中，再将该变量传递给open()会有所帮助。在Linux和OS X中，绝对路径类似于下面这样：\n",
    "`file_path = '/home/ehmatthes/other_files/text_files/filename.txt'\n",
    "with open(file_path) as file_object:`\n",
    "而在Windows系统中，类似于下面这样：`file_path = 'C:\\Users\\ehmatthes\\other_files\\text_files\\filename.txt'\n",
    "with open(file_path) as file_object:`\n",
    "\n",
    "> Windows系统有时能够正确地解读文件路径中的斜杠。如果使用的是Windows系统，且结果不符合预期，请确保在文件路径中使用的是反斜杠。"
   ]
  },
  {
   "cell_type": "code",
   "execution_count": 4,
   "metadata": {},
   "outputs": [
    {
     "name": "stdout",
     "output_type": "stream",
     "text": [
      "3.1415926535\n",
      "8979323846\n",
      "2643383279\n",
      "C_10_1_2.txt\n"
     ]
    }
   ],
   "source": [
    "with open('C_10/C_10_1_2.txt') as file_object:\n",
    "    contents = file_object.read()\n",
    "    print(contents.rstrip())"
   ]
  },
  {
   "cell_type": "markdown",
   "metadata": {},
   "source": [
    "### 10.1.3　逐行读取\n",
    "读取文件时，常常需要检查其中的每一行：可能要在文件中查找特定的信息，或者要以某种方式修改文件中的文本。要以每次一行的方式检查文件，可对文件对象使用for 循环。"
   ]
  },
  {
   "cell_type": "code",
   "execution_count": 5,
   "metadata": {},
   "outputs": [
    {
     "name": "stdout",
     "output_type": "stream",
     "text": [
      "3.1415926535\n",
      "\n",
      "8979323846\n",
      "\n",
      "2643383279\n",
      "\n",
      "C_10_1_2.txt\n"
     ]
    }
   ],
   "source": [
    "filename = 'C_10/C_10_1_2.txt'\n",
    "\n",
    "with open(filename) as file_object:\n",
    "    for line in file_object:\n",
    "        print(line)"
   ]
  },
  {
   "cell_type": "code",
   "execution_count": 6,
   "metadata": {},
   "outputs": [
    {
     "name": "stdout",
     "output_type": "stream",
     "text": [
      "3.1415926535\n",
      "8979323846\n",
      "2643383279\n",
      "C_10_1_2.txt\n"
     ]
    }
   ],
   "source": [
    "with open(filename) as file_object:\n",
    "    for line in file_object:\n",
    "        print(line.rstrip())"
   ]
  },
  {
   "cell_type": "markdown",
   "metadata": {},
   "source": [
    "### 10.1.4　创建一个包含文件各行内容的列表\n",
    "使用关键字with 时，open()返回的文件对象只在with代码块内可用。如果要在with代码块外访问文件的内容，可在with 代码块内将文件的各行存储在一个列表中，并在with 代码块外使用该列表：可以立即处理，也可推迟处理。"
   ]
  },
  {
   "cell_type": "code",
   "execution_count": 7,
   "metadata": {},
   "outputs": [
    {
     "name": "stdout",
     "output_type": "stream",
     "text": [
      "3.1415926535\n",
      "8979323846\n",
      "2643383279\n",
      "C_10_1_2.txt"
     ]
    }
   ],
   "source": [
    "filename = 'C_10/C_10_1_2.txt'\n",
    "\n",
    "with open(filename) as file_object:\n",
    "    lines = file_object.readlines()\n",
    "\n",
    "for line in lines:\n",
    "    #这种方法也可以去除print最后的\\n\n",
    "    print(line, end=\"\")"
   ]
  },
  {
   "cell_type": "markdown",
   "metadata": {},
   "source": [
    "### 10.1.5　使用文件的内容\n",
    "将文件读取到内存中后，就可以以任何方式使用这些数据了。"
   ]
  },
  {
   "cell_type": "code",
   "execution_count": 8,
   "metadata": {},
   "outputs": [
    {
     "name": "stdout",
     "output_type": "stream",
     "text": [
      "3.1415926535  8979323846  2643383279\n",
      "36\n"
     ]
    }
   ],
   "source": [
    "filename = 'C_10_1_1.txt'\n",
    "\n",
    "with open(filename) as file_object:\n",
    "    lines = file_object.readlines()\n",
    "\n",
    "pi_string = ''\n",
    "for line in lines:\n",
    "    pi_string += line.rstrip()\n",
    "\n",
    "print(pi_string)\n",
    "print(len(pi_string))"
   ]
  },
  {
   "cell_type": "code",
   "execution_count": 9,
   "metadata": {},
   "outputs": [
    {
     "name": "stdout",
     "output_type": "stream",
     "text": [
      "3.141592653589793238462643383279 3.141592653589793\n",
      "32\n"
     ]
    }
   ],
   "source": [
    "filename = 'C_10_1_1.txt'\n",
    "\n",
    "with open(filename) as file_object:\n",
    "    lines = file_object.readlines()\n",
    "\n",
    "pi_string = ''\n",
    "for line in lines:\n",
    "    pi_string += line.strip()\n",
    "\n",
    "print(pi_string, float(pi_string))\n",
    "print(len(pi_string))"
   ]
  },
  {
   "cell_type": "markdown",
   "metadata": {},
   "source": [
    "> 读取文本文件时，Python将其中的所有文本都解读为字符串。如果你读取的是数字，并要将其作为数值使用，就必须使用函数int() 将其转换为整数，或使用函数float() 将其转换为浮点数。"
   ]
  },
  {
   "cell_type": "markdown",
   "metadata": {},
   "source": [
    "### 10.1.6　包含一百万位的大型文件\n",
    "这些代码示例也可处理大得多的文件。如果我们有一个文本文件，其中包含精确到小数点后1 000 000位而不是30位的圆周率值，也可创建一个包含所有这些数字的字符串。为此，无需对前面的程序做任何修改，只需将这个文件传递给它即可。\n",
    "\n",
    "对于可处理的数据量，Python没有任何限制；只要系统的内存足够多。"
   ]
  },
  {
   "cell_type": "code",
   "execution_count": 10,
   "metadata": {},
   "outputs": [
    {
     "name": "stdout",
     "output_type": "stream",
     "text": [
      "3.14159265358979323846264338327950288419716939937510...\n",
      "1000002\n"
     ]
    }
   ],
   "source": [
    "filename = 'pi_million_digits.txt'\n",
    "\n",
    "with open(filename) as file_object:\n",
    "    lines = file_object.readlines()\n",
    "\n",
    "pi_string = ''\n",
    "for line in lines:\n",
    "    pi_string += line.strip()\n",
    "\n",
    "print(pi_string[:52] + \"...\")\n",
    "print(len(pi_string))"
   ]
  },
  {
   "cell_type": "markdown",
   "metadata": {},
   "source": [
    "### 10.1.7　圆周率值中包含你的生日吗"
   ]
  },
  {
   "cell_type": "code",
   "execution_count": 11,
   "metadata": {},
   "outputs": [
    {
     "name": "stdout",
     "output_type": "stream",
     "text": [
      "Enter your birthday, in the form mmddyy: 810523\n",
      "Your birthday appears in the first million digits of pi!\n"
     ]
    }
   ],
   "source": [
    "filename = 'pi_million_digits.txt'\n",
    "\n",
    "with open(filename) as file_object:\n",
    "    lines = file_object.readlines()\n",
    "\n",
    "pi_string = ''\n",
    "for line in lines:\n",
    "    pi_string += line.rstrip()\n",
    "\n",
    "birthday = input(\"Enter your birthday, in the form mmddyy: \")\n",
    "if birthday in pi_string:\n",
    "    print(\"Your birthday appears in the first million digits of pi!\")\n",
    "else:\n",
    "    print(\"Your birthday does not appear in the first million digits of pi.\")"
   ]
  },
  {
   "cell_type": "markdown",
   "metadata": {},
   "source": [
    "**练习：**\n",
    "10-1 Python学习笔记 ：在文本编辑器中新建一个文件，写几句话来总结一下你至此学到的Python知识，其中每一行都以“In Python you can”打头。将这个文件命名为learning_python.txt，并将其存储到为完成本章练习而编写的程序所在的目录中。编写一个程序，它读取这个文件，并将你所写的内容打印三次：第一次打印时读取整个文件；第二次打印时遍历文件对象；第三次打印时将各行存储在一个列表中，再在with 代码块外打印它们。\n",
    "\n",
    "10-2 C语言学习笔记 ：可使用方法replace() 将字符串中的特定单词都替换为另一个单词。下面是一个简单的示例，演示了如何将句子中的'dog' 替换为'cat' ：\n",
    "```\n",
    "message = \"I really like dogs.\"\n",
    "message.replace('dog', 'cat')\n",
    "'I really like cats.'\n",
    "```\n",
    "读取你刚创建的文件learning_python.txt中的每一行，将其中的Python都替换为另一门语言的名称，如C。将修改后的各行都打印到屏幕上。"
   ]
  },
  {
   "cell_type": "code",
   "execution_count": 12,
   "metadata": {},
   "outputs": [
    {
     "name": "stdout",
     "output_type": "stream",
     "text": [
      "-----10-1-----\n",
      "In Python you can: caculate the value of PI.\n",
      "In Python you can: crwal the web.\n",
      "In Python you can: build the web server of wechat.\n",
      "----------\n",
      "In Python you can: caculate the value of PI.\n",
      "In Python you can: crwal the web.\n",
      "In Python you can: build the web server of wechat.\n",
      "----------\n",
      "In Python you can: caculate the value of PI.\n",
      "In Python you can: crwal the web.\n",
      "In Python you can: build the web server of wechat."
     ]
    }
   ],
   "source": [
    "# 10-1\n",
    "print(\"-----10-1-----\")\n",
    "with open(\"E_10_1.txt\") as E_10_1:\n",
    "    content = E_10_1.read()\n",
    "    print(content)\n",
    "print(\"----------\")\n",
    "with open(\"E_10_1.txt\") as E_10_1:\n",
    "    for line in E_10_1:\n",
    "        print(line, end=\"\")\n",
    "print()\n",
    "print(\"----------\")\n",
    "with open(\"E_10_1.txt\") as E_10_1:\n",
    "    content = E_10_1.readlines()\n",
    "for line in content:\n",
    "    print(line, end=\"\")"
   ]
  },
  {
   "cell_type": "code",
   "execution_count": 13,
   "metadata": {},
   "outputs": [
    {
     "name": "stdout",
     "output_type": "stream",
     "text": [
      "-----10-2-----\n",
      "In C you can: caculate the value of PI.\n",
      "In C you can: crwal the web.\n",
      "In C you can: build the web server of wechat."
     ]
    }
   ],
   "source": [
    "# 10-2\n",
    "print(\"-----10-2-----\")\n",
    "with open(\"E_10_1.txt\") as E_10_1:\n",
    "    content = E_10_1.readlines()\n",
    "for line in content:\n",
    "    print(line.replace(\"Python\", \"C\"), end=\"\")"
   ]
  },
  {
   "cell_type": "markdown",
   "metadata": {},
   "source": [
    "## 10.2　写入文件\n",
    "保存数据的最简单的方式之一是将其写入到文件中。通过将输出写入文件，即便关闭包含程序输出的终端窗口，这些输出也依然存在：可以在程序结束运行后查看这些输出，可与别人分享输出文件，还可编写程序来将这些输出读取到内存中并进行处理。"
   ]
  },
  {
   "cell_type": "markdown",
   "metadata": {},
   "source": [
    "### 10.2.1　写入空文件\n",
    "要将文本写入文件，在调用open() 时需要提供另一个实参，告诉Python要写入打开的文件。"
   ]
  },
  {
   "cell_type": "code",
   "execution_count": 14,
   "metadata": {},
   "outputs": [],
   "source": [
    "filename = 'C_10_2_1.txt'\n",
    "\n",
    "with open(filename, 'w') as file_object:\n",
    "    file_object.write(\"I love programming.\")"
   ]
  },
  {
   "cell_type": "markdown",
   "metadata": {},
   "source": [
    "调用open() 时提供了两个实参。第一个实参也是要打开的文件的名称；第二个实参（'w'）告诉Python，要以写入模式打开这个文件。打开文件时，可指定`读取模式` （'r'）、`写入模式`（'w'）、`附加模式`（'a'）或能够`读取和写入`文件的模式（'r+'）。如果省略了模式实参，Python将以默认的只读模式打开文件。\n",
    "\n",
    "如果你要写入的文件不存在，函数open() 将自动创建它。\n",
    "\n",
    "> * 以写入（'w'）模式打开文件时千万要小心，因为如果指定的文件已经存在，Python将在返回文件对象前清空该文件。\n",
    "\n",
    "> * Python只能将字符串写入文本文件。要将数值数据存储到文本文件中，必须先使用函数str()将其转换为字符串格式。"
   ]
  },
  {
   "cell_type": "markdown",
   "metadata": {},
   "source": [
    "### 10.2.2　写入多行\n",
    "函数write()不会在写入的文本末尾添加换行符。像显示到终端的输出一样，还可以使用空格、制表符和空行来设置这些输出的格式。"
   ]
  },
  {
   "cell_type": "code",
   "execution_count": 15,
   "metadata": {},
   "outputs": [],
   "source": [
    "filename = 'C_10_2_2.txt'\n",
    "\n",
    "with open(filename, 'w') as file_object:\n",
    "    file_object.write(\"I love programming.\")\n",
    "    file_object.write(\"I love creating new games.\")"
   ]
  },
  {
   "cell_type": "code",
   "execution_count": 16,
   "metadata": {},
   "outputs": [],
   "source": [
    "filename = 'C_10_2_2_2.txt'\n",
    "\n",
    "with open(filename, 'w') as file_object:\n",
    "    file_object.write(\"I love programming.\\n\")\n",
    "    file_object.write(\"I love creating new games.\\n\")"
   ]
  },
  {
   "cell_type": "markdown",
   "metadata": {},
   "source": [
    "### 10.2.3　附加到文件\n",
    "如果要给文件添加内容，而不是覆盖原有的内容，可以`附加模式`打开文件。以附加模式打开文件时，Python不会在返回文件对象前清空文件，写入到文件的行都将添加到文件末尾。如果指定的文件不存在，Python将为你创建一个空文件。"
   ]
  },
  {
   "cell_type": "code",
   "execution_count": 17,
   "metadata": {},
   "outputs": [],
   "source": [
    "filename = 'C_10_2_3.txt'\n",
    "\n",
    "with open(filename, 'a') as file_object:\n",
    "    file_object.write(\"I also love finding meaning in large datasets. Again!\\n\")\n",
    "    file_object.write(\"I love creating apps that can run in a browser. Again!\\n\")"
   ]
  },
  {
   "cell_type": "markdown",
   "metadata": {},
   "source": [
    "**练习：**\n",
    "10-3 访客 ：编写一个程序，提示用户输入其名字；用户作出响应后，将其名字写入到文件guest.txt中。\n",
    "\n",
    "10-4 访客名单 ：编写一个while 循环，提示用户输入其名字。用户输入其名字后，在屏幕上打印一句问候语，并将一条访问记录添加到文件guest_book.txt中。确保这个文件中的每条记录都独占一行。\n",
    "\n",
    "10-5 关于编程的调查 ：编写一个while 循环，询问用户为何喜欢编程。每当用户输入一个原因后，都将其添加到一个存储所有原因的文件中。"
   ]
  },
  {
   "cell_type": "code",
   "execution_count": 18,
   "metadata": {},
   "outputs": [
    {
     "name": "stdout",
     "output_type": "stream",
     "text": [
      "-----10-3-----\n",
      "Please Input Your Name: Judy\n"
     ]
    }
   ],
   "source": [
    "# 10-3\n",
    "print(\"-----10-3-----\")\n",
    "guest_name = input(\"Please Input Your Name: \")\n",
    "with open(\"E_10_3.txt\",\"w\") as guest:\n",
    "    guest.write(\"Your Name is {}.\".format(guest_name))"
   ]
  },
  {
   "cell_type": "code",
   "execution_count": 19,
   "metadata": {},
   "outputs": [
    {
     "name": "stdout",
     "output_type": "stream",
     "text": [
      "-----10-4-----\n",
      "Please Input Your Name: Crystal\n",
      "Greetings, Crystal.\n",
      "Please Input Your Name: \n"
     ]
    }
   ],
   "source": [
    "# 10-4\n",
    "print(\"-----10-4-----\")\n",
    "guest_name = input(\"Please Input Your Name: \")\n",
    "with open(\"E_10_4.txt\",\"w\") as guest:\n",
    "    while guest_name:\n",
    "        print(\"Greetings, {}.\".format(guest_name))\n",
    "        guest.write(\"Access from {}.\\n\".format(guest_name))\n",
    "        guest_name = input(\"Please Input Your Name: \")"
   ]
  },
  {
   "cell_type": "code",
   "execution_count": 20,
   "metadata": {},
   "outputs": [
    {
     "name": "stdout",
     "output_type": "stream",
     "text": [
      "-----10-5-----\n",
      "Please Input Your Name: Judy\n",
      "Greetings, Judy.\n",
      "Why you love programming?Job\n",
      "Please Input Your Name: Bin\n",
      "Greetings, Bin.\n",
      "Why you love programming?Job & interesting\n",
      "Please Input Your Name: \n"
     ]
    }
   ],
   "source": [
    "# 10-5\n",
    "print(\"-----10-5-----\")\n",
    "guest_name = input(\"Please Input Your Name: \")\n",
    "with open(\"E_10_5.txt\",\"a\") as guest:\n",
    "    while guest_name:\n",
    "        print(\"Greetings, {}.\".format(guest_name))\n",
    "        reason = input(\"Why you love programming?\")\n",
    "        guest.write(\"Access from {}.\\nThe reason is {}.\\n\\n\"\\\n",
    "                    .format(guest_name, reason))\n",
    "        guest_name = input(\"Please Input Your Name: \")"
   ]
  },
  {
   "cell_type": "markdown",
   "metadata": {},
   "source": [
    "## 10.3　异常\n",
    "Python使用被称为`异常`的特殊对象来管理程序执行期间发生的错误。每当发生让Python不知所措的错误时，都会创建一个异常对象。如果编写了处理该异常的代码，程序将继续运行；如果你未对异常进行处理，程序将停止，并显示一个traceback，其中包含有关异常的报告。\n",
    "\n",
    "异常是使用`try-except`代码块处理的。`try-except`代码块让Python执行指定的操作，同时告诉Python发生异常时怎么办。使用了`try-except`代码块时，即便出现异常，程序也将继续运行：显示编写的友好的错误消息，而不是令用户迷惑的traceback。"
   ]
  },
  {
   "cell_type": "markdown",
   "metadata": {},
   "source": [
    "### 10.3.1　处理ZeroDivisionError 异常\n",
    "下面来看一种导致Python引发异常的简单错误。"
   ]
  },
  {
   "cell_type": "code",
   "execution_count": 21,
   "metadata": {},
   "outputs": [
    {
     "ename": "ZeroDivisionError",
     "evalue": "division by zero",
     "output_type": "error",
     "traceback": [
      "\u001b[0;31m---------------------------------------------------------------------------\u001b[0m",
      "\u001b[0;31mZeroDivisionError\u001b[0m                         Traceback (most recent call last)",
      "\u001b[0;32m<ipython-input-21-fe01563e1bc6>\u001b[0m in \u001b[0;36m<module>\u001b[0;34m()\u001b[0m\n\u001b[0;32m----> 1\u001b[0;31m \u001b[0mprint\u001b[0m\u001b[0;34m(\u001b[0m\u001b[0;36m10\u001b[0m\u001b[0;34m/\u001b[0m\u001b[0;36m0\u001b[0m\u001b[0;34m)\u001b[0m\u001b[0;34m\u001b[0m\u001b[0;34m\u001b[0m\u001b[0m\n\u001b[0m",
      "\u001b[0;31mZeroDivisionError\u001b[0m: division by zero"
     ]
    }
   ],
   "source": [
    "print(10/0)"
   ]
  },
  {
   "cell_type": "markdown",
   "metadata": {},
   "source": [
    "Traceback指出的错误ZeroDivisionError是一个异常对象。Python无法按要求做时，就会创建这种对象。在这种情况下，Python将停止运行程序，并指出引发了哪种异常，而我们可根据这些信息对程序进行修改。"
   ]
  },
  {
   "cell_type": "markdown",
   "metadata": {},
   "source": [
    "### 10.3.2　使用try-except 代码块\n",
    "当可能发生了错误时，可编写一个`try-except`代码块来处理可能引发的异常。让Python尝试运行一些代码，并告诉它如果这些代码引发了指定的异常，该怎么办。"
   ]
  },
  {
   "cell_type": "code",
   "execution_count": 22,
   "metadata": {},
   "outputs": [
    {
     "name": "stdout",
     "output_type": "stream",
     "text": [
      "5.0\n",
      "You can't divide by zero!\n"
     ]
    }
   ],
   "source": [
    "try:\n",
    "    print(10/2)\n",
    "    print(10/0)\n",
    "except ZeroDivisionError:\n",
    "    print(\"You can't divide by zero!\")"
   ]
  },
  {
   "cell_type": "markdown",
   "metadata": {},
   "source": [
    "将导致错误的代码行放在了一个try代码块中。如果try代码块中的代码运行起来没有问题，Python将跳过except代码块；如果try代码块中的代码导致了错误，Python将查找这样的except代码块，并运行其中的代码，即其中指定的错误与引发的错误相同。\n",
    "\n",
    "如果`try-except`代码块后面还有其他代码，程序将接着运行，因为已经告诉了Python如何处理这种错误。"
   ]
  },
  {
   "cell_type": "markdown",
   "metadata": {},
   "source": [
    "### 10.3.3　使用异常避免崩溃\n",
    "发生错误时，如果程序还有工作没有完成，妥善地处理错误就尤其重要。这种情况经常会出现在要求用户提供输入的程序中；如果程序能够妥善地处理无效输入，就能再提示用户提供有效输入，而不至于崩溃。"
   ]
  },
  {
   "cell_type": "code",
   "execution_count": 23,
   "metadata": {},
   "outputs": [
    {
     "name": "stdout",
     "output_type": "stream",
     "text": [
      "Give me two numbers, and I'll divide them.\n",
      "Enter 'q' to quit.\n",
      "\n",
      "First number: 4\n",
      "Second number: 0\n"
     ]
    },
    {
     "ename": "ZeroDivisionError",
     "evalue": "division by zero",
     "output_type": "error",
     "traceback": [
      "\u001b[0;31m---------------------------------------------------------------------------\u001b[0m",
      "\u001b[0;31mZeroDivisionError\u001b[0m                         Traceback (most recent call last)",
      "\u001b[0;32m<ipython-input-23-8033205546f8>\u001b[0m in \u001b[0;36m<module>\u001b[0;34m()\u001b[0m\n\u001b[1;32m     10\u001b[0m         \u001b[0;32mbreak\u001b[0m\u001b[0;34m\u001b[0m\u001b[0;34m\u001b[0m\u001b[0m\n\u001b[1;32m     11\u001b[0m \u001b[0;34m\u001b[0m\u001b[0m\n\u001b[0;32m---> 12\u001b[0;31m     \u001b[0manswer\u001b[0m \u001b[0;34m=\u001b[0m \u001b[0mint\u001b[0m\u001b[0;34m(\u001b[0m\u001b[0mfirst_number\u001b[0m\u001b[0;34m)\u001b[0m \u001b[0;34m/\u001b[0m \u001b[0mint\u001b[0m\u001b[0;34m(\u001b[0m\u001b[0msecond_number\u001b[0m\u001b[0;34m)\u001b[0m\u001b[0;34m\u001b[0m\u001b[0;34m\u001b[0m\u001b[0m\n\u001b[0m\u001b[1;32m     13\u001b[0m     \u001b[0mprint\u001b[0m\u001b[0;34m(\u001b[0m\u001b[0manswer\u001b[0m\u001b[0;34m)\u001b[0m\u001b[0;34m\u001b[0m\u001b[0;34m\u001b[0m\u001b[0m\n",
      "\u001b[0;31mZeroDivisionError\u001b[0m: division by zero"
     ]
    }
   ],
   "source": [
    "print(\"Give me two numbers, and I'll divide them.\")\n",
    "print(\"Enter 'q' to quit.\")\n",
    "\n",
    "while True:\n",
    "    first_number = input(\"\\nFirst number: \")\n",
    "    if first_number == 'q':\n",
    "        break\n",
    "    second_number = input(\"Second number: \")\n",
    "    if second_number == 'q':\n",
    "        break\n",
    "    \n",
    "    answer = int(first_number) / int(second_number)\n",
    "    print(answer)"
   ]
  },
  {
   "cell_type": "markdown",
   "metadata": {},
   "source": [
    "程序崩溃会让用户看到traceback。不懂技术的用户会被它们搞糊涂，如果用户怀有恶意，可以通过traceback获悉其他信息。例如，程序文件的名称，还将看到部分不能正确运行的代码。有时候，训练有素的攻击者可根据这些信息判断出可对你的代码发起什么样的攻击。"
   ]
  },
  {
   "cell_type": "markdown",
   "metadata": {},
   "source": [
    "### 10.3.4　else 代码块\n",
    "通过将可能引发错误的代码放在`try-except`代码块中，可提高这个程序抵御错误的能力。错误是执行除法运算的代码行导致的，因此需要将它放到`try-except`代码块中。这个示例还包含一个`else`代码块；**依赖于try代码块成功执行的代码都应放到else代码块中**。"
   ]
  },
  {
   "cell_type": "code",
   "execution_count": 24,
   "metadata": {},
   "outputs": [
    {
     "name": "stdout",
     "output_type": "stream",
     "text": [
      "Give me two numbers, and I'll divide them.\n",
      "Enter 'q' to quit.\n",
      "\n",
      "First number: 4\n",
      "Second number: 0\n",
      "You can't divide by 0!\n",
      "\n",
      "First number: 12\n",
      "Second number: q\n"
     ]
    }
   ],
   "source": [
    "print(\"Give me two numbers, and I'll divide them.\")\n",
    "print(\"Enter 'q' to quit.\")\n",
    "\n",
    "while True:\n",
    "    first_number = input(\"\\nFirst number: \")\n",
    "    if first_number == 'q':\n",
    "        break\n",
    "    second_number = input(\"Second number: \")\n",
    "    if second_number == 'q':\n",
    "        break\n",
    "    try:\n",
    "        answer = int(first_number) / int(second_number)\n",
    "    except ZeroDivisionError:\n",
    "        print(\"You can't divide by 0!\")\n",
    "    except ValueError:\n",
    "        print(\"You should input correct numbers.\")\n",
    "    else:\n",
    "        print(answer)"
   ]
  },
  {
   "cell_type": "markdown",
   "metadata": {},
   "source": [
    "`try-except-else`代码块的工作原理大致如下：Python尝试执行try代码块中的代码；只有可能引发异常的代码才需要放在try语句中。有时候，有一些仅在try代码块成功执行时才需要运行的代码；这些代码应放在else代码块中。except代码块告诉Python，如果尝试运行try代码块中的代码时引发了指定的异常，该怎么办。\n",
    "\n",
    "通过预测可能发生错误的代码，可编写健壮的程序，即便面临无效数据或缺少资源，也能继续运行，从而能够抵御无意的用户错误和恶意的攻击。"
   ]
  },
  {
   "cell_type": "markdown",
   "metadata": {},
   "source": [
    "### 10.3.5　处理FileNotFoundError异常\n",
    "使用文件时，一种常见的问题是找不到文件：要查找的文件可能在其他地方、文件名可能不正确或者这个文件根本就不存在。对于所有这些情形，都可使用`try-except`代码块以直观的方式进行处理。"
   ]
  },
  {
   "cell_type": "code",
   "execution_count": 25,
   "metadata": {},
   "outputs": [],
   "source": [
    "filename = 'alice.txt'\n",
    "\n",
    "with open(filename) as f_obj:\n",
    "    contents = f_obj.read()"
   ]
  },
  {
   "cell_type": "code",
   "execution_count": 26,
   "metadata": {},
   "outputs": [],
   "source": [
    "filename = 'alice.txt'\n",
    "\n",
    "try:\n",
    "    with open(filename) as f_obj:\n",
    "        contents = f_obj.read()\n",
    "except FileNotFoundError:\n",
    "    msg = \"Sorry, the file \\\"{}\\\" does not exist.\".format(filename)\n",
    "    print(msg)"
   ]
  },
  {
   "cell_type": "markdown",
   "metadata": {},
   "source": [
    "### 10.3.6　分析文本\n",
    "可以分析包含整本书的文本文件。很多经典文学作品都是以简单文本文件的方式提供的，因为它们不受版权限制。本节使用的文本来自项目Gutenberg（http://gutenberg.org/ ），这个项目提供了一系列不受版权限制的文学作品，如果要在编程项目中使用文学文本，这是一个很不错的资源。"
   ]
  },
  {
   "cell_type": "code",
   "execution_count": 27,
   "metadata": {},
   "outputs": [
    {
     "name": "stdout",
     "output_type": "stream",
     "text": [
      "['Alice', 'in', 'Wonderland']\n",
      "3\n"
     ]
    }
   ],
   "source": [
    "title = \"Alice in Wonderland\"\n",
    "print(title.split())\n",
    "print(len(title.split()))"
   ]
  },
  {
   "cell_type": "code",
   "execution_count": 28,
   "metadata": {},
   "outputs": [
    {
     "name": "stdout",
     "output_type": "stream",
     "text": [
      "The file alice.txt has about 27974 words.\n"
     ]
    }
   ],
   "source": [
    "filename = 'alice.txt'\n",
    "#filename = 'Alice.txt'\n",
    "\n",
    "try:\n",
    "    with open(filename) as f_obj:\n",
    "        contents = f_obj.read()\n",
    "except FileNotFoundError:\n",
    "    msg = \"Sorry, the file \" + filename + \" does not exist.\"\n",
    "    print(msg)\n",
    "else:\n",
    "    # 计算文件大致包含多少个单词\n",
    "    words = contents.split(\" \")\n",
    "    num_words = len(words)\n",
    "    print(\"The file \" + filename + \" has about \" + str(num_words) + \" words.\")"
   ]
  },
  {
   "cell_type": "markdown",
   "metadata": {},
   "source": [
    "### 10.3.7　使用多个文件"
   ]
  },
  {
   "cell_type": "code",
   "execution_count": 29,
   "metadata": {},
   "outputs": [
    {
     "name": "stdout",
     "output_type": "stream",
     "text": [
      "The file alice.txt has about 29465 words.\n"
     ]
    }
   ],
   "source": [
    "def count_words(filename):\n",
    "    \"\"\"计算一个文件大致包含多少个单词\"\"\"\n",
    "    try:\n",
    "        with open(filename) as f_obj:\n",
    "            contents = f_obj.read()\n",
    "    except FileNotFoundError:\n",
    "        msg = \"Sorry, the file \" + filename + \" does not exist.\"\n",
    "        print(msg)\n",
    "    else:\n",
    "        # 计算文件大致包含多少个单词\n",
    "        words = contents.split()\n",
    "        num_words = len(words)\n",
    "        print(\"The file \" + filename + \" has about \" + str(num_words) +\n",
    "          \" words.\")\n",
    "\n",
    "filename = 'alice.txt'\n",
    "count_words(filename)"
   ]
  },
  {
   "cell_type": "code",
   "execution_count": 30,
   "metadata": {},
   "outputs": [
    {
     "name": "stdout",
     "output_type": "stream",
     "text": [
      "The file alice.txt has about 29465 words.\n",
      "Sorry, the file siddhartha.txt does not exist.\n",
      "Sorry, the file moby_dick.txt does not exist.\n",
      "The file little_women.txt has about 189079 words.\n"
     ]
    }
   ],
   "source": [
    "filenames = ['alice.txt', 'siddhartha.txt', 'moby_dick.txt', 'little_women.txt']\n",
    "for filename in filenames:\n",
    "    count_words(filename)"
   ]
  },
  {
   "cell_type": "markdown",
   "metadata": {},
   "source": [
    "使用`try-except`代码块提供了两个重要的优点：避免让用户看到traceback；让程序能够继续分析能够找到的其他文件。"
   ]
  },
  {
   "cell_type": "markdown",
   "metadata": {},
   "source": [
    "### 10.3.8　失败时一声不吭\n",
    "\n",
    "并非每次捕获到异常时都需要告诉用户，有时候希望程序在发生异常时就像什么都没有发生一样继续运行。要让程序在失败时一声不吭，可像通常那样编写try代码块，但在except代码块中明确地告诉Python什么都不要做。Python有一个`pass`语句，可在代码块中使用它来让Python什么都不要做。"
   ]
  },
  {
   "cell_type": "code",
   "execution_count": 31,
   "metadata": {},
   "outputs": [
    {
     "name": "stdout",
     "output_type": "stream",
     "text": [
      "The file alice.txt has about 29465 words.\n",
      "The file little_women.txt has about 189079 words.\n"
     ]
    }
   ],
   "source": [
    "def count_words_silent(filename):\n",
    "    \"\"\"计算一个文件大致包含多少个单词\"\"\"\n",
    "    try:\n",
    "        with open(filename) as f_obj:\n",
    "            contents = f_obj.read()\n",
    "    except FileNotFoundError:\n",
    "        pass\n",
    "    else:\n",
    "        # 计算文件大致包含多少个单词\n",
    "        words = contents.split()\n",
    "        num_words = len(words)\n",
    "        print(\"The file \" + filename + \" has about \" + str(num_words) +\n",
    "          \" words.\")\n",
    "\n",
    "filenames = ['alice.txt', 'siddhartha.txt', 'moby_dick.txt', 'little_women.txt']\n",
    "for filename in filenames:\n",
    "    count_words_silent(filename)"
   ]
  },
  {
   "cell_type": "markdown",
   "metadata": {},
   "source": [
    "pass语句还充当了占位符，提醒在程序的某个地方什么都没有做，并且以后也许要在这里做些什么。"
   ]
  },
  {
   "cell_type": "markdown",
   "metadata": {},
   "source": [
    "### 10.3.9　决定报告哪些错误\n",
    "如果用户知道要分析哪些文件，他们可能希望在有文件没有分析时出现一条消息，将其中的原因告诉他们。如果用户只想看到结果，而并不知道要分析哪些文件，可能就无需在有些文件不存在时告知他们。向用户显示他不想看到的信息可能会降低程序的可用性。Python的错误处理结构让你能够细致地控制与用户分享错误信息的程度。\n",
    "\n",
    "编写得很好且经过详尽测试的代码不容易出现内部错误，如语法或逻辑错误，但只要程序依赖于外部因素，如用户输入、存在指定的文件、有网络链接，就有可能出现异常。凭借经验可判断该在程序的什么地方包含异常处理块，以及出现错误时该向用户提供多少相关的信息。"
   ]
  },
  {
   "cell_type": "markdown",
   "metadata": {},
   "source": [
    "**练习：**\n",
    "10-6 加法运算 ：提示用户提供数值输入时，常出现的一个问题是，用户提供的是文本而不是数字。在这种情况下，当你尝试将输入转换为整数时，将引发TypeError 异常。编写一个程序，提示用户输入两个数字，再将它们相加并打印结果。在用户输入的任何一个值不是数字时都捕获TypeError 异常，并打印一条友好的错误消息。对你编写的程序进行测试：先输入两个数字，再输入一些文本而不是数字。\n",
    "\n",
    "10-7 加法计算器 ：将你为完成练习10-6而编写的代码放在一个while 循环中，让用户犯错（输入的是文本而不是数字）后能够继续输入数字。\n",
    "\n",
    "10-8 猫和狗 ：创建两个文件cats.txt和dogs.txt，在第一个文件中至少存储三只猫的名字，在第二个文件中至少存储三条狗的名字。编写一个程序，尝试读取这些文件，并将其内容打印到屏幕上。将这些代码放在一个try-except 代码块中，以便在文件不存在时捕获FileNotFound 错误，并打印一条友好的消息。将其中一个文件移到另一个地方，并确认except 代码块中的代码将正确地执行。\n",
    "\n",
    "10-9 沉默的猫和狗 ：修改你在练习10-8中编写的except 代码块，让程序在文件不存在时一言不发。\n",
    "\n",
    "10-10 常见单词 ：访问项目Gutenberg（http://gutenberg.org/ ），并找一些你想分析的图书。下载这些作品的文本文件或将浏览器中的原始文本复制到文本文件中。\n",
    "\n",
    "你可以使用方法count() 来确定特定的单词或短语在字符串中出现了多少次。例如，下面的代码计算'row' 在一个字符串中出现了多少次：\n",
    "```\n",
    ">>> line = \"Row, row, row your boat\"\n",
    ">>> line.count('row')\n",
    "2\n",
    ">>> line.lower().count('row')\n",
    "3\n",
    "```\n",
    "请注意，通过使用lower() 将字符串转换为小写，可捕捉要查找的单词出现的所有次数，而不管其大小写格式如何。\n",
    "\n",
    "编写一个程序，它读取你在项目Gutenberg中获取的文件，并计算单词'the' 在每个文件中分别出现了多少次。"
   ]
  },
  {
   "cell_type": "code",
   "execution_count": 32,
   "metadata": {},
   "outputs": [
    {
     "name": "stdout",
     "output_type": "stream",
     "text": [
      "-----10-6-----\n",
      "Please input the num 1: r\n",
      "Please input the num 2: 2\n",
      "Please input correct number!\n"
     ]
    }
   ],
   "source": [
    "# 10-6\n",
    "print(\"-----10-6-----\")\n",
    "num_1 = input(\"Please input the num 1: \")\n",
    "num_2 = input(\"Please input the num 2: \")\n",
    "try:\n",
    "    num_sum = float(num_1)+float(num_2)\n",
    "except ValueError:\n",
    "    print(\"Please input correct number!\")\n",
    "else:\n",
    "    print(\"{} + {} = {}\".format(num_1, num_2, num_sum))"
   ]
  },
  {
   "cell_type": "code",
   "execution_count": 33,
   "metadata": {},
   "outputs": [
    {
     "name": "stdout",
     "output_type": "stream",
     "text": [
      "-----10-7-----\n",
      "Please input the num 1: q\n",
      "Please input the num 2: 12\n",
      "Please input correct number!\n",
      "Please input the num 1: 3\n",
      "Please input the num 2: 5\n",
      "3 + 5 = 8.0\n",
      "Please input the num 1: \n",
      "Please input the num 2: \n"
     ]
    }
   ],
   "source": [
    "# 10-7\n",
    "print(\"-----10-7-----\")\n",
    "num_1 = input(\"Please input the num 1: \")\n",
    "num_2 = input(\"Please input the num 2: \")\n",
    "while num_1 and num_2:\n",
    "    try:\n",
    "        num_sum = float(num_1)+float(num_2)\n",
    "    except ValueError:\n",
    "        print(\"Please input correct number!\")\n",
    "    else:\n",
    "        print(\"{} + {} = {}\".format(num_1, num_2, num_sum))\n",
    "    num_1 = input(\"Please input the num 1: \")\n",
    "    num_2 = input(\"Please input the num 2: \")"
   ]
  },
  {
   "cell_type": "code",
   "execution_count": 34,
   "metadata": {},
   "outputs": [
    {
     "name": "stdout",
     "output_type": "stream",
     "text": [
      "-----10-8-----\n",
      "-----E_10_8_cats.txt-----\n",
      "John\n",
      "Mike\n",
      "Kitty\n",
      "-----E_10_8_Dogs.txt-----\n",
      "File Not Found!\n"
     ]
    }
   ],
   "source": [
    "# 10-8\n",
    "print(\"-----10-8-----\")\n",
    "file_list = ['E_10_8_cats.txt', 'E_10_8_Dogs.txt']\n",
    "for file_name in file_list:\n",
    "    print(\"-----{}-----\".format(file_name))\n",
    "    try:        \n",
    "        with open(file_name) as file_obj:            \n",
    "            print(file_obj.read())\n",
    "    except FileNotFoundError:\n",
    "        print(\"File Not Found!\")"
   ]
  },
  {
   "cell_type": "code",
   "execution_count": 35,
   "metadata": {},
   "outputs": [
    {
     "name": "stdout",
     "output_type": "stream",
     "text": [
      "-----10-9-----\n",
      "-----E_10_8_cats.txt-----\n",
      "John\n",
      "Mike\n",
      "Kitty\n",
      "-----E_10_8_Dogs.txt-----\n"
     ]
    }
   ],
   "source": [
    "# 10-9\n",
    "print(\"-----10-9-----\")\n",
    "file_list = ['E_10_8_cats.txt', 'E_10_8_Dogs.txt']\n",
    "for file_name in file_list:\n",
    "    print(\"-----{}-----\".format(file_name))\n",
    "    try:        \n",
    "        with open(file_name) as file_obj:            \n",
    "            print(file_obj.read())\n",
    "    except FileNotFoundError:\n",
    "        pass\n",
    "        #print(\"File Not Found!\")"
   ]
  },
  {
   "cell_type": "code",
   "execution_count": 36,
   "metadata": {},
   "outputs": [
    {
     "name": "stdout",
     "output_type": "stream",
     "text": [
      "-----10-10-----\n",
      "11843 \"the\" in file little_women.txt.\n",
      "File Not Found!Please check the filename.\n"
     ]
    }
   ],
   "source": [
    "# 10-10\n",
    "print(\"-----10-10-----\")\n",
    "\n",
    "def word_count(word, filename):\n",
    "    try:\n",
    "        with open(file_name) as file_obj:\n",
    "            content = file_obj.read()\n",
    "    except FileNotFoundError:\n",
    "        print(\"File Not Found!Please check the filename.\")\n",
    "    else:\n",
    "        print(\"{} \\\"{}\\\" in file {}.\".\\\n",
    "              format(content.lower().count(word), word, filename))\n",
    "\n",
    "file_list = [\"little_women.txt\", \"Alice.txt\"]\n",
    "for file_name in file_list:\n",
    "    word_count(\"the\",file_name)\n",
    "\n"
   ]
  },
  {
   "cell_type": "markdown",
   "metadata": {},
   "source": [
    "## 10.4　存储数据\n",
    "很多程序都要求用户输入某种信息，程序把用户提供的信息存储在列表和字典等数据结构中。用户关闭程序时，几乎总是要保存他们提供的信息；一种简单的方式是使用模块json来存储数据。\n",
    "\n",
    "模块json能够将简单的Python数据结构转储到文件中，并在程序再次运行时加载该文件中的数据。还可以使用json在Python程序之间分享数据。更重要的是，json数据格式并非Python专用的，这能够将以json格式存储的数据与使用其他编程语言的人分享。这是一种轻便格式，很有用，也易于学习。\n",
    "\n",
    "> JSON（JavaScript Object Notation）格式最初是为JavaScript开发的，但随后成了一种常见格式，被包括Python在内的众多语言采用。"
   ]
  },
  {
   "cell_type": "markdown",
   "metadata": {},
   "source": [
    "### 10.4.1　使用json.dump() 和json.load()\n",
    "编写一个存储一组数字的简短程序，再编写一个将这些数字读取到内存中的程序。第一个程序将使用`json.dump()`来存储这组数字，而第二个程序将使用`json.load()`。\n",
    "\n",
    "函数`json.dump()`接受两个实参：要存储的数据以及可用于存储数据的文件对象。"
   ]
  },
  {
   "cell_type": "code",
   "execution_count": 37,
   "metadata": {},
   "outputs": [],
   "source": [
    "import json\n",
    "\n",
    "numbers = [2, 3, 5, 7, 11, 13]\n",
    "\n",
    "filename = 'C_10_4_1.json'\n",
    "with open(filename, 'w') as f_obj:\n",
    "    json.dump(numbers, f_obj)"
   ]
  },
  {
   "cell_type": "code",
   "execution_count": 38,
   "metadata": {},
   "outputs": [
    {
     "name": "stdout",
     "output_type": "stream",
     "text": [
      "[2, 3, 5, 7, 11, 13]\n"
     ]
    }
   ],
   "source": [
    "import json\n",
    "\n",
    "filename = 'C_10_4_1.json'\n",
    "with open(filename) as f_obj:\n",
    "    numbers = json.load(f_obj)\n",
    "\n",
    "print(numbers)"
   ]
  },
  {
   "cell_type": "markdown",
   "metadata": {},
   "source": [
    "### 10.4.2　保存和读取用户生成的数据\n",
    "对于用户生成的数据，使用json保存它们大有裨益，因为如果不以某种方式进行存储，等程序停止运行时用户的信息将丢失。"
   ]
  },
  {
   "cell_type": "code",
   "execution_count": 39,
   "metadata": {},
   "outputs": [
    {
     "name": "stdout",
     "output_type": "stream",
     "text": [
      "What is your name? Bin\n",
      "We'll remember you when you come back, Bin!\n"
     ]
    }
   ],
   "source": [
    "import json\n",
    "\n",
    "username = input(\"What is your name? \")\n",
    "\n",
    "filename = 'C_10_4_2.json'\n",
    "with open(filename, 'w') as f_obj:\n",
    "    json.dump(username, f_obj)\n",
    "    print(\"We'll remember you when you come back, \" + username + \"!\")"
   ]
  },
  {
   "cell_type": "code",
   "execution_count": 40,
   "metadata": {},
   "outputs": [
    {
     "name": "stdout",
     "output_type": "stream",
     "text": [
      "Welcome back, Bin!\n"
     ]
    }
   ],
   "source": [
    "import json\n",
    "\n",
    "filename = 'C_10_4_2.json'\n",
    "\n",
    "with open(filename) as f_obj:\n",
    "    username = json.load(f_obj)\n",
    "    print(\"Welcome back, \" + username + \"!\")"
   ]
  },
  {
   "cell_type": "code",
   "execution_count": 41,
   "metadata": {},
   "outputs": [
    {
     "name": "stdout",
     "output_type": "stream",
     "text": [
      "Welcome back, Crystal!\n"
     ]
    }
   ],
   "source": [
    "import json\n",
    "\n",
    "# 如果以前存储了用户名，就加载它\n",
    "# 否则，就提示用户输入用户名并存储它\n",
    "filename = 'C_10_4_2_2.json'\n",
    "try:\n",
    "    with open(filename) as f_obj:\n",
    "        username = json.load(f_obj)\n",
    "except FileNotFoundError:\n",
    "    #通过异常进行条件判断\n",
    "    username = input(\"What is your name? \")    \n",
    "    with open(filename, 'w') as f_obj:\n",
    "        json.dump(username, f_obj)\n",
    "        print(\"We'll remember you when you come back, \" + username + \"!\")\n",
    "else:\n",
    "    print(\"Welcome back, \" + username + \"!\")"
   ]
  },
  {
   "cell_type": "markdown",
   "metadata": {},
   "source": [
    "### 10.4.3　重构\n",
    "经常会遇到这样的情况：代码能够正确地运行，但可做进一步的改进——将代码划分为一系列完成具体工作的函数。这样的过程被称为`重构`。重构让代码更清晰、更易于理解、更容易扩展。\n",
    "\n",
    "要编写出清晰而易于维护和扩展的代码，这种划分工作必不可少。"
   ]
  },
  {
   "cell_type": "code",
   "execution_count": 42,
   "metadata": {},
   "outputs": [
    {
     "name": "stdout",
     "output_type": "stream",
     "text": [
      "Welcome back, Judy!\n"
     ]
    }
   ],
   "source": [
    "import json\n",
    "\n",
    "def greet_user():\n",
    "    \"\"\"问候用户，并指出其名字\"\"\"\n",
    "    filename = 'C_10_4_3.json'\n",
    "    try:\n",
    "        with open(filename) as f_obj:\n",
    "            username = json.load(f_obj)\n",
    "    except FileNotFoundError:\n",
    "        username = input(\"What is your name? \")\n",
    "        with open(filename, 'w') as f_obj:\n",
    "            json.dump(username, f_obj)\n",
    "            print(\"We'll remember you when you come back, \" + username + \"!\")\n",
    "    else:\n",
    "        print(\"Welcome back, \" + username + \"!\")\n",
    "\n",
    "greet_user()"
   ]
  },
  {
   "cell_type": "code",
   "execution_count": 43,
   "metadata": {},
   "outputs": [
    {
     "name": "stdout",
     "output_type": "stream",
     "text": [
      "Welcome back, Judy!\n"
     ]
    }
   ],
   "source": [
    "import json\n",
    "\n",
    "def get_stored_username():\n",
    "    \"\"\"如果存储了用户名，就获取它\"\"\"\n",
    "    filename = 'C_10_4_3.json'\n",
    "    try:\n",
    "        with open(filename) as f_obj:\n",
    "            username = json.load(f_obj)\n",
    "    except FileNotFoundError:\n",
    "         return None\n",
    "    else:\n",
    "        return username\n",
    "    \n",
    "def greet_user():\n",
    "    \"\"\"问候用户，并指出其名字\"\"\"\n",
    "    username = get_stored_username()\n",
    "    if username:\n",
    "        print(\"Welcome back, \" + username + \"!\")\n",
    "    else:\n",
    "        username = input(\"What is your name? \")\n",
    "        filename = 'C_10_4_3.json'\n",
    "        with open(filename, 'w') as f_obj:\n",
    "            json.dump(username, f_obj)\n",
    "            print(\"We'll remember you when you come back, \" + username + \"!\")\n",
    "\n",
    "greet_user()"
   ]
  },
  {
   "cell_type": "markdown",
   "metadata": {},
   "source": [
    "**练习：**\n",
    "10-11 喜欢的数字 ：编写一个程序，提示用户输入他喜欢的数字，并使用json.dump() 将这个数字存储到文件中。再编写一个程序，从文件中读取这个值，并打印消息“I know your favorite number! It's _____.”。\n",
    "\n",
    "10-12 记住喜欢的数字 ：将练习10-11中的两个程序合而为一。如果存储了用户喜欢的数字，就向用户显示它，否则提示用户输入他喜欢的数字并将其存储到文件中。运行这个程序两次，看看它是否像预期的那样工作。\n",
    "\n",
    "10-13 验证用户 ：最后一个remember_me.py版本假设用户要么已输入其用户名，要么是首次运行该程序。我们应修改这个程序，以应对这样的情形：当前和最后一次运行该程序的用户并非同一个人。\n",
    "\n",
    "为此，在greet_user() 中打印欢迎用户回来的消息前，先询问他用户名是否是对的。如果不对，就调用get_new_username() 让用户输入正确的用户名。"
   ]
  },
  {
   "cell_type": "code",
   "execution_count": 44,
   "metadata": {},
   "outputs": [
    {
     "name": "stdout",
     "output_type": "stream",
     "text": [
      "-----10-11-----\n",
      "Please input your favorite number: 4\n",
      "Please input your favorite number: 5\n",
      "Please input your favorite number: 6\n",
      "Please input your favorite number: \n",
      "I know your favorite number! It's 4,5,6.\n"
     ]
    }
   ],
   "source": [
    "# 10-11\n",
    "print(\"-----10-11-----\")\n",
    "import json\n",
    "favorite_numbers = []\n",
    "favorite_number = input(\"Please input your favorite number: \") \n",
    "while favorite_number:\n",
    "    try:\n",
    "        favorite_numbers.append(int(favorite_number))\n",
    "    except ValueError:\n",
    "        print(\"Please Input the Correct Number!\")\n",
    "    favorite_number = input(\"Please input your favorite number: \")\n",
    "with open(\"E_10_11.txt\",\"w\") as file_obj:\n",
    "    json.dump(favorite_numbers,file_obj)\n",
    "\n",
    "with open (\"E_10_11.txt\") as file_read_obj:\n",
    "    favorite_num_list = json.load(file_read_obj)\n",
    "    \n",
    "print(\"I know your favorite number! It's {}.\".format(\",\".join([str(fav_num) for fav_num in favorite_num_list])))"
   ]
  },
  {
   "cell_type": "code",
   "execution_count": 45,
   "metadata": {},
   "outputs": [
    {
     "name": "stdout",
     "output_type": "stream",
     "text": [
      "-----10-12-----\n",
      "Please input your favorite number: 2\n",
      "Please input your favorite number: 5\n",
      "Please input your favorite number: 8\n",
      "Please input your favorite number: \n"
     ]
    }
   ],
   "source": [
    "# 10-12\n",
    "print(\"-----10-12-----\")\n",
    "import json\n",
    "file_name = \"E_10_12.txt\"\n",
    "\n",
    "def input_fav_number():\n",
    "    \"\"\"Input Favorite numbers.\"\"\"\n",
    "    favorite_numbers = []\n",
    "    favorite_number = input(\"Please input your favorite number: \") \n",
    "    while favorite_number:\n",
    "        try:\n",
    "            favorite_numbers.append(int(favorite_number))\n",
    "        except ValueError:\n",
    "            print(\"Please Input the Correct Number!\")\n",
    "        favorite_number = input(\"Please input your favorite number: \")\n",
    "    return favorite_numbers\n",
    "\n",
    "def get_fav_number(file_name):\n",
    "    \"\"\"get favorite numbers in text file.\"\"\"\n",
    "    try:\n",
    "        with open(file_name) as file_obj:\n",
    "            #文件存在，则打印\n",
    "            print(\"I know your favorite number! It's {}.\".format(\",\".join([str(fav_num) for fav_num in json.load(file_obj)])))\n",
    "    except FileNotFoundError:\n",
    "        with open(file_name, \"w\") as file_obj:\n",
    "            json.dump(input_fav_number(),file_obj)\n",
    "\n",
    "get_fav_number(file_name)"
   ]
  },
  {
   "cell_type": "code",
   "execution_count": 46,
   "metadata": {},
   "outputs": [
    {
     "name": "stdout",
     "output_type": "stream",
     "text": [
      "I know your favorite number! It's 2,5,8.\n"
     ]
    }
   ],
   "source": [
    "get_fav_number(file_name)"
   ]
  },
  {
   "cell_type": "code",
   "execution_count": 47,
   "metadata": {},
   "outputs": [
    {
     "name": "stdout",
     "output_type": "stream",
     "text": [
      "-----10-13-----\n",
      "What is your name? Judy\n",
      "We'll remember you when you come back, Judy!\n"
     ]
    }
   ],
   "source": [
    "# 10-13\n",
    "print(\"-----10-13-----\")\n",
    "\n",
    "import json\n",
    "\n",
    "def get_stored_username():\n",
    "    \"\"\"如果存储了用户名，就获取它\"\"\"\n",
    "    filename = 'E_10_13.json'\n",
    "    try:\n",
    "        with open(filename) as f_obj:\n",
    "            username = json.load(f_obj)\n",
    "    except FileNotFoundError:\n",
    "         return None\n",
    "    else:\n",
    "        return username\n",
    "\n",
    "def check_user(username):\n",
    "    \"\"\"Check the right person.\"\"\"\n",
    "    answer = input(\"Are you {}?\".format(username))\n",
    "    if answer.lower() in ['y','yes']:\n",
    "        return True\n",
    "    else:\n",
    "        return False\n",
    "\n",
    "def get_new_username():\n",
    "    \"\"\"get the new username.\"\"\"\n",
    "    username = input(\"What is your name? \")\n",
    "    filename = 'E_10_13.json'\n",
    "    with open(filename, 'w') as f_obj:\n",
    "        json.dump(username, f_obj)\n",
    "        print(\"We'll remember you when you come back, \" + username + \"!\")\n",
    "    \n",
    "def greet_user():\n",
    "    \"\"\"问候用户，并指出其名字\"\"\"\n",
    "    username = get_stored_username()\n",
    "    if username:\n",
    "        if check_user(username):\n",
    "            print(\"Welcome back, \" + username + \"!\")\n",
    "        else:\n",
    "            get_new_username()\n",
    "    else:\n",
    "        username = input(\"What is your name? \")\n",
    "        filename = 'E_10_13.json'\n",
    "        with open(filename, 'w') as f_obj:\n",
    "            json.dump(username, f_obj)\n",
    "            print(\"We'll remember you when you come back, \" + username + \"!\")\n",
    "\n",
    "greet_user()"
   ]
  },
  {
   "cell_type": "code",
   "execution_count": 48,
   "metadata": {},
   "outputs": [
    {
     "name": "stdout",
     "output_type": "stream",
     "text": [
      "Are you Judy?n\n",
      "What is your name? Crystal\n",
      "We'll remember you when you come back, Crystal!\n"
     ]
    }
   ],
   "source": [
    "greet_user()"
   ]
  }
 ],
 "metadata": {
  "kernelspec": {
   "display_name": "Python 3",
   "language": "python",
   "name": "python3"
  },
  "language_info": {
   "codemirror_mode": {
    "name": "ipython",
    "version": 3
   },
   "file_extension": ".py",
   "mimetype": "text/x-python",
   "name": "python",
   "nbconvert_exporter": "python",
   "pygments_lexer": "ipython3",
   "version": "3.6.9"
  }
 },
 "nbformat": 4,
 "nbformat_minor": 2
}
