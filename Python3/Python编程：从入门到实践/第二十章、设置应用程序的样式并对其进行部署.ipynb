{
 "cells": [
  {
   "cell_type": "markdown",
   "metadata": {},
   "source": [
    "当前，项目“学习笔记”功能已齐备，但未设置样式，也只是在本地计算机上运行。在本章中，将以简单而专业的方式设置这个项目的样式，再将其部署到一台服务器上。\n",
    "\n",
    "为设置样式，将使用Bootstrap库，这是一组工具，用于为Web应用程序设置样式，使其在任何现代设备上都看起来很专业，无论是大型的平板显示器还是智能手机。为此，将使用应用程序django-bootstrap3，这也能够练习使用其他Django开发人员开发的应用程序。\n",
    "\n",
    "将把项目“学习笔记”部署到Heroku，这个网站能够将项目推送到其服务器，让任何有网络连接的人都可使用它。还将使用版本控制系统Git来跟踪对这个项目所做的修改。\n",
    "\n",
    "完成项目“学习笔记”后，将能够开发简单的Web应用程序，看起来很漂亮，再将它们部署到服务器。还能够利用更高级的学习资源来提高技能。"
   ]
  },
  {
   "cell_type": "markdown",
   "metadata": {},
   "source": [
    "## 20.1　设置项目“学习笔记”的样式\n",
    "之前一直专注于项目“学习笔记”的功能，而没有考虑样式设置的问题。这是一种不错的开发方法，因为能正确运行的应用程序才是有用的。当然，应用程序能够正确运行后，外观就显得很重要了，因为漂亮的应用程序才能吸引用户。\n",
    "\n",
    "本节中，将简要地介绍应用程序django-bootstrap3，并演示如何将其继承到项目中，为部署项目做好准备。"
   ]
  },
  {
   "cell_type": "markdown",
   "metadata": {},
   "source": [
    "### 20.1.1　应用程序django-bootstrap3\n",
    "将使用django-bootstrap3来将Bootstrap继承到项目中。这个应用程序下载必要的Bootstrap文件，将它们放到项目的合适位置，能够在项目的模板中使用样式设置指令。\n",
    "\n",
    "为安装django-bootstrap3，在活动的虚拟环境中执行如下命令：`pip3 install django-bootstrap3`。\n",
    "\n",
    "接下来，需要在settings.py的INSTALLED_APPS 中添加如下代码，在项目中包含应用程序django-boostrap3："
   ]
  },
  {
   "cell_type": "markdown",
   "metadata": {},
   "source": [
    "```settings.py\n",
    "INSTALLED_APPS = [\n",
    "    'django.contrib.admin',\n",
    "    'django.contrib.auth',\n",
    "    'django.contrib.contenttypes',\n",
    "    'django.contrib.sessions',\n",
    "    'django.contrib.messages',\n",
    "    'django.contrib.staticfiles',\n",
    "    # My APP\n",
    "    'learning_logs',\n",
    "    'users',\n",
    "    # third party APP\n",
    "    'bootstrap3',\n",
    "]\n",
    "```"
   ]
  },
  {
   "cell_type": "markdown",
   "metadata": {},
   "source": [
    "新建一个用于指定其他开发人员开发的应用程序的片段，将其命名为“第三方应用程序”，并在其中添加'bootstrap3' 。大多数应用程序都需要包含在INSTALLED_APPS 中，为确定这一点，请阅读要使用的应用程序的设置说明。\n",
    "\n",
    "让django-bootstrap3包含jQuery，这是一个JavaScript库，能够使用Bootstrap模板提供的一些交互式元素。请在settings.py的末尾添加如下代码："
   ]
  },
  {
   "cell_type": "markdown",
   "metadata": {},
   "source": [
    "```settings.py\n",
    "# django-bootstrap3 settings\n",
    "BOOTSTRAP3 = {\n",
    "    'include_jquery': True,\n",
    "    }\n",
    "```"
   ]
  },
  {
   "cell_type": "markdown",
   "metadata": {},
   "source": [
    "这些代码让你无需手工下载jQuery并将其放到正确的地方。"
   ]
  },
  {
   "cell_type": "markdown",
   "metadata": {},
   "source": [
    "### 20.1.2　使用Bootstrap来设置项目“学习笔记”的样式\n",
    "\n",
    "Bootstrap基本上就是一个大型的样式设置工具集，它还提供了大量的模板，你可将它们应用于项目以创建独特的总体风格。对Bootstrap初学者来说，这些模板比各个样式设置工具使用起来要容易得多。要查看Bootstrap提供的模板，可访问http://getbootstrap.com/ ，单击Getting Started，再向下滚动到Examples部分，并找到Navbars in action。我们将使用模板Static top navbar，它提供了简单的顶部导航条、页面标题和用于放置页面内容的容器。"
   ]
  },
  {
   "cell_type": "markdown",
   "metadata": {},
   "source": [
    "### 20.1.3　修改base.html\n",
    "需要修改模板base.html，以使用前述Bootstrap模板。新的base.html分成几个部分进行介绍。"
   ]
  },
  {
   "cell_type": "markdown",
   "metadata": {},
   "source": [
    "#### 20.1.3.1 定义HTML头部\n",
    "\n",
    "对base.html所做的第一项修改是，在这个文件中定义HTML头部，使得显示“学习笔记”的每个页面时，浏览器标题栏都显示这个网站的名称。还将添加一些在模板中使用Bootstrap所需的信息。删除base.html的全部代码，并输入下面的代码："
   ]
  },
  {
   "cell_type": "markdown",
   "metadata": {},
   "source": [
    "```base.html\n",
    "{% load bootstrap3 %}\n",
    "\n",
    "<!DOCTYPE html>\n",
    "<html lang=\"en\">\n",
    "    <head>\n",
    "        <meta charset=\"utf-8\">\n",
    "        <meta http-equiv=\"X-UA-Compatible\" content=\"IE=edge\">\n",
    "        <meta name=\"viewport\" content=\"width=device-width, initial-scale=1\">\n",
    "        \n",
    "        <title>Learning Log</title>\n",
    "        {% bootstrap_css %}\n",
    "        {% bootstrap_javascript %}\n",
    "    </head>\n",
    "```"
   ]
  },
  {
   "cell_type": "markdown",
   "metadata": {},
   "source": [
    "首先加载django-bootstrap3中的模板标签集。接下来，将这个文件声明为使用英语编写的HTML文档。HTML文件分为两个主要部分：头部 （head）和主体 （body）；在这个文件中，头部始于`<head>`处。HTML文件的头部不包含任何内容：它只是将正确显示页面所需的信息告诉浏览器。接着包含了一个title元素，在浏览器中打开网站“学习笔记”的页面时，浏览器的标题栏将显示该元素的内容。\n",
    "\n",
    "接着使用了django-bootstrap3的一个自定义模板标签，让Django包含所有的Bootstrap样式文件。接下来的标签启用可能在页面中使用的所有交互式行为，如可折叠的导航栏。结束标签`</head>`。"
   ]
  },
  {
   "cell_type": "markdown",
   "metadata": {},
   "source": [
    "#### 20.1.3.2 定义导航栏"
   ]
  },
  {
   "cell_type": "markdown",
   "metadata": {},
   "source": [
    "```base.html\n",
    "    <body>\n",
    "\n",
    "        <!-- Static navbar -->\n",
    "        <nav class=\"navbar navbar-default navbar-static-top\">\n",
    "            <div class=\"container\">\n",
    "                <div class=\"navbar-header\">\n",
    "                    <button type=\"button\" class=\"navbar-toggle collapsed\"\n",
    "                        data-toggle=\"collapse\" data-target=\"#navbar\"\n",
    "                        aria-expanded=\"false\" aria-controls=\"navbar\">\n",
    "                    </button>\n",
    "                    <a class=\"navbar-brand\" href=\"{% url 'learning_logs:index' %}\">\n",
    "                        Learning Log</a>\n",
    "                </div>\n",
    "                <div id=\"navbar\" class=\"navbar-collapse collapse\">\n",
    "                    <ul class=\"nav navbar-nav\">\n",
    "                        <li><a href=\"{% url 'learning_logs:topics' %}\">Topics</a></li>\n",
    "                    </ul>\n",
    "                    \n",
    "                    <ul class=\"nav navbar-nav navbar-right\">\n",
    "                        {% if user.is_authenticated %}\n",
    "                            <li><a>Hello, {{ user.username }}.</a></li>\n",
    "                            <li><a href=\"{% url 'users:logout' %}\">log out</a></li>\n",
    "                        {% else %}\n",
    "                            <li><a href=\"{% url 'users:register' %}\">register</a></li>\n",
    "                            <li><a href=\"{% url 'users:login' %}\">log in</a></li>\n",
    "                        {% endif %}\n",
    "                    </ul>\n",
    "                </div><!--/.nav-collapse -->\n",
    "            </div>\n",
    "        </nav>\n",
    "```"
   ]
  },
  {
   "cell_type": "markdown",
   "metadata": {},
   "source": [
    "第一个元素为起始标签`<body>`。HTML文件的主体包含用户将在页面上看到的内容。首先是一个`<nav>`元素，表示页面的导航链接部分。对于这个元素内的所有内容，都将根据`选择器`（selector）navbar、navbar-default和navbar-static-top定义的Bootstrap样式规则来设置样式。选择器决定了特定样式规则将应用于页面上的哪些元素。\n",
    "\n",
    "接着，模板定义了一个按钮，将在浏览器窗口太窄、无法水平显示整个导航栏时显示出来。如果用户单击这个按钮，将出现一个下拉列表，其中包含所有的导航元素。在用户缩小浏览器窗口或在屏幕较小的移动设备上显示网站时，collapse会使导航栏折叠起来。\n",
    "\n",
    "`<a class=\"navbar-brand\" href=\"{% url 'learning_logs:index' %}\">Learning Log</a>`在导航栏的最左边显示项目名，并将其设置为到主页的链接，将出现在这个项目的每个页面中。\n",
    "\n",
    "然后定义了一组让用户能够在网站中导航的链接。导航栏其实就是一个以`<ul>`打头的列表，其中每个链接都是一个列表项（`<li>`）。要添加更多的链接，可插入更多使用下述结构的行。\n",
    "\n",
    "`<li><a href=\"{% url 'learning_logs:topics' %}\">Topics</a></li>`这行表示导航栏中的一个链接。这个链接是直接从base.html的前一个版本中复制而来的。\n",
    "\n",
    "然后添加了第二个导航链接列表，这里使用的选择器为navbar-right 。选择器navbar-right设置一组链接的样式，使其出现在导航栏右边——登录链接和注册链接通常出现在这里。要么显示问候语和注销链接，要么显示注册链接和登录链接。这部分余下的代码结束包含导航栏的元素。"
   ]
  },
  {
   "cell_type": "markdown",
   "metadata": {},
   "source": [
    "#### 20.1.3.3 定义页面的主要部分"
   ]
  },
  {
   "cell_type": "markdown",
   "metadata": {},
   "source": [
    "```base.html\n",
    "        <div class=\"container\">\n",
    "\n",
    "            <div class=\"page-header\">\n",
    "                {% block header %}{% endblock header %}\n",
    "            </div>\n",
    "            <div>\n",
    "                {% block content %}{% endblock content %}\n",
    "            </div>\n",
    "\n",
    "        </div> <!-- /container -->\n",
    "\n",
    "    </body>\n",
    "</html>\n",
    "```"
   ]
  },
  {
   "cell_type": "markdown",
   "metadata": {},
   "source": [
    "开始是一个`<div>`起始标签，其class属性为container 。div是网页的一部分，可用于任何目的，并可通过边框、元素周围的空间（外边距）、内容和边框之间的间距（内边距）、背景色和其他样式规则来设置其样式。这个div是一个容器，其中包含两个元素：一个新增的名为header的块以及之前使用的content块。header块的内容告诉用户页面包含哪些信息以及用户可在页面上执行哪些操作；其class属性值page-header将一系列样式应用于这个块。content块是一个独立的div，未使用class属性指定样式。\n",
    "\n",
    "> 这个简化的Bootstrap模板适用于最新的浏览器，而较早的浏览器可能不能正确地渲染某些样式。完整的模板可在http://getbootstrap.com/getting-started/#examples/ 找到，它几乎在所有浏览器中都管用。"
   ]
  },
  {
   "cell_type": "markdown",
   "metadata": {},
   "source": [
    "### 20.1.4　使用jumbotron设置主页的样式\n",
    "下面来使用新定义的header块及另一个名为jumbotron的Bootstrap元素修改主页。jumbotron元素是一个大框，相比于页面的其他部分显得鹤立鸡群，想在其中包含什么东西都可以；它通常用于在主页中呈现项目的简要描述。还可以修改主页显示的消息。index.html的代码如下："
   ]
  },
  {
   "cell_type": "markdown",
   "metadata": {},
   "source": [
    "```index.html\n",
    "{% extends \"learning_logs/base.html\" %}\n",
    "\n",
    "{% block header %}\n",
    "    <div class='jumbotron'>\n",
    "        <h1>Track your learning.</h1>\n",
    "    </div>\n",
    "{% endblock header %}\n",
    "{% block content %}\n",
    "    <h2>\n",
    "        <a href=\"{% url 'users:register' %}\">Register an account</a> to make\n",
    "        your own Learning Log, and list the topics you're learning about.\n",
    "    </h2>\n",
    "    <h2>\n",
    "        Whenever you learn something new about a topic, make an entry\n",
    "        summarizing what you've learned.\n",
    "    </h2>\n",
    "{% endblock content %}\n",
    "```"
   ]
  },
  {
   "cell_type": "markdown",
   "metadata": {},
   "source": [
    "首先告诉Django，要定义header块包含的内容。在一个jumbotron元素中，我们放置了一条简短的标语——Track your Learning，让首次访问者大致知道“学习笔记”是做什么用的。\n",
    "\n",
    "通过添加一些文本，做了更详细的说明。邀请用户建立账户，并描述了用户可执行的两种主要操作：添加新主题以及在主题中创建条目。"
   ]
  },
  {
   "cell_type": "markdown",
   "metadata": {},
   "source": [
    "### 20.1.5　设置登录页面的样式"
   ]
  },
  {
   "cell_type": "markdown",
   "metadata": {},
   "source": [
    "```login.html\n",
    "{% extends \"learning_logs/base.html\" %}\n",
    "\n",
    "{% load bootstrap3 %}\n",
    "\n",
    "{% block header %}\n",
    "    <h2>Log in to your account.</h2>\n",
    "{% endblock header %}\n",
    "\n",
    "{% block content %}\n",
    "    {% if form.errors %}\n",
    "        <p>Your username and password didn't match. Please try again.</p>\n",
    "    {% endif %}\n",
    "    \n",
    "    <form method=\"post\" action=\"{% url 'users:login' %}\" class=\"form\">\n",
    "        {% csrf_token %}\n",
    "        {% bootstrap_form form %}\n",
    "\n",
    "        {% buttons %}\n",
    "        <button name=\"submit\" class=\"btn btn-primary\">log in</button>\n",
    "        {% endbuttons %}\n",
    "    <input type=\"hidden\" name=\"next\" value=\"{% url 'learning_logs:index' %}\" />\n",
    "    </form>\n",
    "\n",
    "{% endblock content %}\n",
    "```"
   ]
  },
  {
   "cell_type": "markdown",
   "metadata": {},
   "source": [
    "修改login.html：\n",
    "\n",
    "首先，在这个模板中加载了bootstrap3模板标签。定义了header块，描述了这个页面是做什么用的。\n",
    "> 这个模板中删除了{% if form.errors %}代码块，因为django-bootstrap3会自动管理表单错误。\n",
    "\n",
    "接着，添加了属性class=\"form\" ；然后使用模板标签{% bootstrap_form %} 来显示表单；这个标签替换了之前使用的标签{{ form.as_p }} 。模板标签{% booststrap_form %}将Bootstrap样式规则应用于各个表单元素。bootstrap3起始模板标签{% buttons %} ，将Bootstrap样式应用于按钮。"
   ]
  },
  {
   "cell_type": "markdown",
   "metadata": {},
   "source": [
    "### 20.1.6　设置new_topic 页面的样式"
   ]
  },
  {
   "cell_type": "markdown",
   "metadata": {},
   "source": [
    "```new_topic.html\n",
    "{% extends \"learning_logs/base.html\" %}\n",
    "\n",
    "{% load bootstrap3 %}\n",
    "\n",
    "{% block header %}\n",
    "    <h2>Add a New Topic:</h2>\n",
    "{% endblock header %}\n",
    "\n",
    "{% block content %}\n",
    "    \n",
    "    <form action=\"{% url 'learning_logs:new_topic' %}\" method='post' class=\"form\">\n",
    "        \n",
    "        {% csrf_token %}\n",
    "        {% bootstrap_form form %}\n",
    "\n",
    "        {% buttons %}\n",
    "        <button name=\"submit\" class=\"btn btn-primary\">add topic</button>\n",
    "        {% endbuttons %}\n",
    "    </form>\n",
    "\n",
    "{% endblock content %}\n",
    "```"
   ]
  },
  {
   "cell_type": "markdown",
   "metadata": {},
   "source": [
    "大多数修改都类似于对login.html所做的修改：加载bootstrap3，添加header 块并在其中包含合适的消息；接下来，在标签`<form>`中添加属性class=\"form\"，使用模板标签{% bootstrap_form %} 代替{{ form.as_p }}，并使用bootstrap3结构来定义提交按钮。"
   ]
  },
  {
   "cell_type": "markdown",
   "metadata": {},
   "source": [
    "### 20.1.7　设置topics页面的样式"
   ]
  },
  {
   "cell_type": "markdown",
   "metadata": {},
   "source": [
    "```topics.html\n",
    "{% extends \"learning_logs/base.html\" %}\n",
    "\n",
    "{% block header %}\n",
    "    <h2>Topics</h2>\n",
    "{% endblock header %}\n",
    "\n",
    "{% block content %}\n",
    "    \n",
    "    <ul>\n",
    "        {% for topic in topics %}\n",
    "        <li>\n",
    "            <h3>\n",
    "                <a href=\"{% url 'learning_logs:topic' topic.id %}\">{{ topic }}</a>\n",
    "            </h3>\n",
    "        </li>\n",
    "        {% empty %}\n",
    "        <li>No topics have been added yet.</li>\n",
    "        {% endfor %}\n",
    "    </ul>\n",
    "\n",
    "    <h3>\n",
    "        <a href=\"{% url 'learning_logs:new_topic' %}\">Add a new topic:</a>\n",
    "    </h3>\n",
    "\n",
    "{% endblock content %}\n",
    "```"
   ]
  },
  {
   "cell_type": "markdown",
   "metadata": {},
   "source": [
    "这里不需要标签{% load bootstrap3 %} ，在这个文件中没有使用任何bootstrap3自定义标签。在header块中添加了标题Topics。为设置每个主题的样式，将它们都设置为`<h3>`元素，在页面上显得大些；对于添加新主题的链接，也做了同样的处理。"
   ]
  },
  {
   "cell_type": "markdown",
   "metadata": {},
   "source": [
    "### 20.1.8　设置topic页面中条目的样式\n",
    "topic页面包含的内容比其他大部分页面都多，因此需要做的样式设置工作要多些。将使用Bootstrap面板（panel）来突出每个条目。面板是一个带预定义样式的div，非常适合用于显示主题的条目："
   ]
  },
  {
   "cell_type": "markdown",
   "metadata": {},
   "source": [
    "```topic.html\n",
    "{% extends 'learning_logs/base.html' %}\n",
    "\n",
    "{% load bootstrap3 %}\n",
    "\n",
    "{% block header %}\n",
    "    <h2>Topics</h2>\n",
    "{% endblock header %}\n",
    "\n",
    "{% block content %}\n",
    "    \n",
    "    <p>Entries:</p>\n",
    "    <p>\n",
    "        <a href=\"{% url 'learning_logs:new_entry' topic.id %}\">add new entry</a>\n",
    "    </p>\n",
    "\n",
    "    {% for entry in entries %}\n",
    "        <div class=\"panel panel-default\">\n",
    "            <div class=\"panel-heading\">\n",
    "                <h3>\n",
    "                    {{ entry.date_added|date:'M d, Y H:i' }}\n",
    "                    <small>\n",
    "                        <a href=\"{% url 'learning_logs:edit_entry' entry.id %}\">edit entry</a>\n",
    "                    </small>\n",
    "                </h3>\n",
    "            </div>\n",
    "            <div class=\"panel-body\">\n",
    "                {{ entry.text|linebreaks }}\n",
    "            </div>\n",
    "        </div><!-- panel -->\n",
    "\n",
    "    {% empty %}\n",
    "        <li>\n",
    "            There are no entries for this topic yet.\n",
    "        </li>\n",
    "    {% endfor %}\n",
    "\n",
    "\n",
    "{% endblock content %}\n",
    "```"
   ]
  },
  {
   "cell_type": "markdown",
   "metadata": {},
   "source": [
    "首先将主题放在了header块中。然后，删除这个模板中以前使用的无序列表结构。创建一个面板式div元素（而不是将每个条目作为一个列表项），其中包含两个嵌套的div：一个面板标题（panel-heading）div和一个面板主体（panel-body）div。其中面板标题div包含条目的创建日期以及用于编辑条目的链接，都被设置为`<h3>`元素，而对于编辑条目的链接，还使用了标签`<small>`，使其比时间戳小些。\n",
    "\n",
    "接着是面板主体div，其中包含条目的实际文本。\n",
    "> 只修改了影响页面外观的元素，对在页面中包含信息的Django代码未做任何修改。\n",
    "\n",
    "> 要使用其他Bootstrap模板，可采用与本章类似的流程：将这个模板复制到base.html中，并修改包含实际内容的元素，以使用该模板来显示项目的信息；然后，使用Bootstrap的样式设置工具来设置各个页面中内容的样式。"
   ]
  },
  {
   "cell_type": "markdown",
   "metadata": {},
   "source": [
    "### **练习：**\n",
    "20-1 其他表单 ：我们对登录页面和add_topic 页面应用了Bootstrap样式。请对其他基于表单的页面做类似的修改：new_entry页面、edit_entry页面和register页面。\n",
    "\n",
    "20-2 设置博客的样式 ：对于你在第19章创建的项目Blog，使用Bootstrap来设置其样式。"
   ]
  },
  {
   "cell_type": "markdown",
   "metadata": {},
   "source": [
    "-----20-1-----\n",
    "\n",
    "**register.html**\n",
    "```register.html\n",
    "{% extends \"learning_logs/base.html\" %}\n",
    "\n",
    "{% load bootstrap3 %}\n",
    "\n",
    "{% block header %}\n",
    "    <h2>Register Your Account:</h2>\n",
    "{% endblock header %}\n",
    "\n",
    "{% block content %}\n",
    "\n",
    "  <form method=\"post\" action=\"{% url 'users:register' %}\" class=\"form\">\n",
    "    {% csrf_token %}\n",
    "    {% bootstrap_form form %}\n",
    "\n",
    "    {% buttons %}\n",
    "    <button name=\"submit\" class=\"btn btn-primary\">register</button>\n",
    "    {% endbuttons %}\n",
    "    <input type=\"hidden\" name=\"next\" value=\"{% url 'learning_logs:index' %}\" />\n",
    "  </form>\n",
    "\n",
    "{% endblock content %}\n",
    "```\n",
    "**new_entry.html**\n",
    "```new_entry.html\n",
    "{% extends \"learning_logs/base.html\" %}\n",
    "\n",
    "{% load bootstrap3 %}\n",
    "\n",
    "{% block header %}\n",
    "    \n",
    "    <h2><p><a href=\"{% url 'learning_logs:topic' topic.id %}\">{{ topic }}</a></p></h2>\n",
    "{% endblock header %}\n",
    "\n",
    "\n",
    "{% block content %}\n",
    "\n",
    "<h2>New Entry:</h2>\n",
    "\n",
    "    <p>Add a new entry:</p>\n",
    "    <form action=\"{% url 'learning_logs:new_entry' topic.id %}\" method='post' class=\"form\">\n",
    "        {% csrf_token %}\n",
    "        {% bootstrap_form form %}\n",
    "        \n",
    "        {% buttons %}\n",
    "        <button name=\"submit\" class=\"btn btn-primary\">add entry</button>\n",
    "        {% endbuttons %}\n",
    "    </form>\n",
    "\n",
    "{% endblock content %}\n",
    "```\n",
    "\n",
    "**edit_entry.html**\n",
    "```edit_entry.html\n",
    "{% extends \"learning_logs/base.html\" %}\n",
    "\n",
    "{% load bootstrap3 %}\n",
    "\n",
    "{% block header %}\n",
    "    \n",
    "    <h2>\n",
    "        <p>\n",
    "            <a href=\"{% url 'learning_logs:topic' topic.id %}\">{{ topic }}</a>\n",
    "        </p>\n",
    "    </h2>\n",
    "{% endblock header %}\n",
    "\n",
    "{% block content %}\n",
    "\n",
    "    <h2>\n",
    "        <p>Edit entry:</p>\n",
    "    </h2>\n",
    "    \n",
    "    <form action=\"{% url 'learning_logs:edit_entry' entry.id %}\" method='post' class=\"form\">\n",
    "        {% csrf_token %}\n",
    "        {% bootstrap_form form %}\n",
    "        \n",
    "        {% buttons %}\n",
    "        <button name=\"submit\" class=\"btn btn-primary\">Save Entry</button>\n",
    "        {% endbuttons %}\n",
    "    </form>\n",
    "\n",
    "{% endblock content %}\n",
    "```"
   ]
  },
  {
   "cell_type": "markdown",
   "metadata": {},
   "source": [
    "## 20.2　部署“学习笔记”\n",
    "至此，项目“学习笔记”的外观显得比较美观，下面来将其部署到一台服务器，让任何有网络连接的人都能够使用它。为此，将使用Heroku，这是一个基于Web的平台，能够管理Web应用程序的部署，让“学习笔记”在Heroku上运行。\n",
    "\n",
    "在Windows系统上的部署过程与在Linux和OS X系统上稍有不同。如果使用的是Windows，请阅读各节的“注意”。"
   ]
  },
  {
   "cell_type": "markdown",
   "metadata": {},
   "source": [
    "### 20.2.1　建立Heroku账户\n",
    "要建立账户，请访问https://heroku.com/ ，并单击其中的一个注册链接。注册账户是免费的，Heroku提供了免费试用服务，能够将项目部署到服务器并对其进行测试。\n",
    "\n",
    "> Heroku提供的免费试用服务存在一些限制，如可部署的应用程序数量以及用户访问应用程序的频率。但这些限制都很宽松，完全能够在不支付任何费用的情况下练习部署应用程序。"
   ]
  },
  {
   "cell_type": "markdown",
   "metadata": {},
   "source": [
    "### 20.2.2　安装Heroku Toolbelt\n",
    "要将项目部署到Heroku的服务器并对其进行管理，需要使用Heroku Toolbelt提供的工具。要安装最新的Heroku Toolbelt版本，请访问https://toolbelt.heroku.com/ ，并根据你使用的操作系统按相关的说明做：使用只包含一行的终端命令，或下载并运行安装程序。\n",
    "使用如下命令安装：\n",
    "\n",
    "`curl https://cli-assets.heroku.com/install.sh | sh`"
   ]
  },
  {
   "cell_type": "markdown",
   "metadata": {},
   "source": [
    "### 20.2.3　安装必要的包\n",
    "还需安装很多包，以帮助在服务器上支持Django项目提供的服务。为此，在活动的虚拟环境中执行如下命令："
   ]
  },
  {
   "cell_type": "markdown",
   "metadata": {},
   "source": [
    "```sh\n",
    "pip3 install dj-database-url                              \n",
    "pip3 install dj-static      \n",
    "pip3 install static3  \n",
    "pip3 install gunicorn \n",
    "```"
   ]
  },
  {
   "cell_type": "markdown",
   "metadata": {},
   "source": [
    "逐个地执行这些命令，这样就能知道哪些包未能正确地安装。dj-database-url包帮助Django与Heroku使用的数据库进行通信，dj-static和static3包帮助Django正确地管理静态文件，而gunicorn是一个服务器软件，能够在在线环境中支持应用程序提供的服务。（静态文件包括样式规则和JavaScript文件。）\n",
    "\n",
    "> 在Windows系统中，有些必不可少的包可能无法安装，因此如果尝试安装有些这样的包时出现错误消息，也不用担心。重要的是让Heroku在部署中安装这些包。"
   ]
  },
  {
   "cell_type": "markdown",
   "metadata": {},
   "source": [
    "### 20.2.4　创建包含包列表的文件requirements.txt\n",
    "Heroku需要知道项目依赖于哪些包，因此使用pip来生成一个文件，其中列出了这些包。同样，进入活动虚拟环境，并执行如下命令：\n",
    "`pip3 freeze > requirements.txt`\n",
    "\n",
    "命令freeze让pip将项目中当前安装的所有包的名称都写入到文件requirements.txt中。打开文件requirements.txt，查看项目中安装的包及其版本。"
   ]
  },
  {
   "cell_type": "markdown",
   "metadata": {},
   "source": [
    "```requirements.txt\n",
    "asgiref==3.2.7\n",
    "dj-database-url==0.5.0\n",
    "dj-static==0.0.6\n",
    "Django==3.0.4\n",
    "django-bootstrap3==12.0.3\n",
    "gunicorn==20.0.4\n",
    "pytz==2019.3\n",
    "sqlparse==0.3.1\n",
    "static3==0.7.0\n",
    "```"
   ]
  },
  {
   "cell_type": "markdown",
   "metadata": {},
   "source": [
    "“学习笔记”依赖于以上特定版本的包，因此需要在相应的环境中才能正确地运行。部署“学习笔记”时，Heroku将安装requirements.txt列出的所有包，从而创建一个环境，其中包含在本地使用的所有包。\n",
    "\n",
    "接下来，需要在包列表中添加psycopg2 ，它帮助Heroku管理活动数据库。为此，打开文件requirements.txt，并添加代码行psycopg2>=2.8.5 。这将安装2.8.5版的psycopg2——如果有更高的版本，则安装更高的版本。\n",
    "\n",
    "如果有必不可少的包在系统中没有安装，请将其添加到文件requirements.txt中。最终的文件requirements.txt应包含上面列出的每个包。如果系统中requirements.txt列出的包的版本与上面列出的不同，请保留原来的版本号。\n",
    "\n",
    "> 如果你使用的是Windows系统，请确保文件requirements.txt的内容与前面列出的一致，而不要管你在系统中能够安装哪些包。"
   ]
  },
  {
   "cell_type": "markdown",
   "metadata": {},
   "source": [
    "### 20.2.5　指定Python版本\n",
    "如果没有指定Python版本，Heroku将使用其当前的Python默认版本。下面来确保Heroku使用与本地相同的Python版本。为此，在活动的虚拟环境中，执行命令`python3 --version`\n",
    "\n",
    "使用的是Python 3.6.9。在manage.py所在的文件夹中新建一个名为runtime.txt的文件，并在其中输入如下内容："
   ]
  },
  {
   "cell_type": "markdown",
   "metadata": {},
   "source": [
    "```runtime.txt\n",
    "python-3.6.9\n",
    "```"
   ]
  },
  {
   "cell_type": "markdown",
   "metadata": {},
   "source": [
    "这个文件应只包含一行内容，以上面所示的格式指定了使用的Python版本；确保输入小写的python，在它后面输入一个连字符，再输入由三部分组成的版本号。\n",
    "\n",
    "> 如果出现错误消息，指出不能使用你指定的Python版本，请访问https://devcenter.heroku.com/ 并单击Python，再单击链接Specifying a Python Runtime。浏览打开的文章，了解支持的Python版本，并使用与你使用的Python版本最接近的版本。"
   ]
  },
  {
   "cell_type": "markdown",
   "metadata": {},
   "source": [
    "### 20.2.6　为部署到Herohu而修改settings.py\n",
    "在settings.py末尾添加一个片段，在其中指定一些Heroku环境设置："
   ]
  },
  {
   "cell_type": "markdown",
   "metadata": {},
   "source": [
    "```settings.py\n",
    "# Heroku Settings\n",
    "if os.getcwd() == '/app':\n",
    "    import dj_database_url\n",
    "    DATABASES = {\n",
    "        'default': dj_database_url.config(default='postgres://localhost')\n",
    "    }\n",
    "\n",
    "    # 让request.is_secure()承认X-Forwarded-Proto头\n",
    "    SECURE_PROXY_SSL_HEADER = ('HTTP_X_FORWARDED_PROTO', 'https')\n",
    "\n",
    "    # 支持所有的主机头（host header）\n",
    "    ALLOWED_HOSTS = ['*']\n",
    "\n",
    "    # 静态资产配置\n",
    "    BASE_DIR = os.path.dirname(os.path.abspath(__file__))\n",
    "    STATIC_ROOT = 'staticfiles'\n",
    "    STATICFILES_DIRS = (\n",
    "        os.path.join(BASE_DIR, 'static'),\n",
    "    )\n",
    "```"
   ]
  },
  {
   "cell_type": "markdown",
   "metadata": {},
   "source": [
    "首先使用函数getcwd()，获取当前的工作目录（当前运行的文件所在的目录）。在Heroku部署中，这个目录总是/app。在本地部署中，这个目录通常是项目文件夹的名称。这个if测试确保仅当项目被部署到Heroku时，才运行这个代码块。这种结构能够将同一个设置文件用于本地开发环境和在线服务器。\n",
    "\n",
    "接着导入dj_database_url，用于在Heroku上配置服务器。Heroku使用PostgreSQL（也叫Postgres）——一种比SQLite更高级的数据库；这些设置对项目进行配置，使其在Heroku上使用Postgres数据库。其他设置的作用分别如下：支持HTTPS请求；让Django能够使用Heroku的URL来提供项目提供的服务；设置项目，使其能够在Heroku上正确地提供静态文件。"
   ]
  },
  {
   "cell_type": "markdown",
   "metadata": {},
   "source": [
    "### 20.2.7　创建启动进程的Procfile\n",
    "Procfile告诉Heroku启动哪些进程，以便能够正确地提供项目提供的服务。这个文件只包含一行，应将其命名为Procfile（其中的P为大写），不指定文件扩展名，并保存到manage.py所在的目录中。\n",
    "\n",
    "Procfile的内容如下："
   ]
  },
  {
   "cell_type": "markdown",
   "metadata": {},
   "source": [
    "```Procfile\n",
    "web: gunicorn learning_log.wsgi --log-file -\n",
    "```"
   ]
  },
  {
   "cell_type": "markdown",
   "metadata": {},
   "source": [
    "这行代码让Heroku将gunicorn用作服务器，并使用learning_log/wsgi.py中的设置来启动应用程序。标志log-file告诉Heroku应将哪些类型的事件写入日志。"
   ]
  },
  {
   "cell_type": "markdown",
   "metadata": {},
   "source": [
    "### 20.2.8　为部署到Herohu而修改wsgi.py\n",
    "为部署到Heroku，还需修改wsgi.py，因为Heroku需要的设置与一直在使用的设置稍有不同："
   ]
  },
  {
   "cell_type": "markdown",
   "metadata": {},
   "source": [
    "```wsgi.py\n",
    "import os\n",
    "\n",
    "from django.core.wsgi import get_wsgi_application\n",
    "from dj_static import Cling\n",
    "\n",
    "from django.core.wsgi import get_wsgi_application\n",
    "\n",
    "os.environ.setdefault('DJANGO_SETTINGS_MODULE', 'learning_log.settings')\n",
    "\n",
    "#application = get_wsgi_application()\n",
    "application = Cling(get_wsgi_application())\n",
    "```"
   ]
  },
  {
   "cell_type": "markdown",
   "metadata": {},
   "source": [
    "导入了帮助正确地提供静态文件的Cling，并使用它来启动应用程序。这些代码在本地也适用，因此无需将其放在if代码块内。"
   ]
  },
  {
   "cell_type": "markdown",
   "metadata": {},
   "source": [
    "### 20.2.9　创建用于存储静态文件的目录\n",
    "在Heroku上，Django搜集所有的静态文件，并将它们放在一个地方，以便能够高效地管理它们。创建一个用于存储这些静态文件的目录。在文件夹learning_log中，有一个名称也为learning_log的子文件夹。在这个子文件夹中，新建一个名为static的文件夹，因此这个文件夹的路径为learning_log/learning_log/static/。还需在这个文件夹中创建一个占位文件，因为项目被推送到Heroku时，它将不会包含原来为空的文件夹。在目录static/中，创建一个名为placeholder.txt的文件："
   ]
  },
  {
   "cell_type": "markdown",
   "metadata": {},
   "source": [
    "```placeholder.txt\n",
    "This file ensures that learning_log/static/ will be added to the project.\n",
    "Django will collect static files and place them in learning_log/static/.\n",
    "```"
   ]
  },
  {
   "cell_type": "markdown",
   "metadata": {},
   "source": [
    "上述内容没有什么特别之处，只是指出了在项目中添加这个文件的原因"
   ]
  },
  {
   "cell_type": "markdown",
   "metadata": {},
   "source": [
    "### 20.2.10　在本地使用gunicorn服务器\n",
    "如果使用的是Linux或OS X，可在部署到Heroku前尝试在本地使用gunicorn服务器。为此，在活动的虚拟环境中，执行命令`heroku local`以启动Procfile指定的进程。\n",
    "\n",
    "首次执行命令`heroku local`时，将安装Heroku Toolbelt中的很多包。这里的输出表明启动了gunicorn，以及进程id。接下来表明，gunicorn在端口5000上侦听请求。另外，gunicorn还启动了一个工作进程，用于帮助处理请求。\n",
    "\n",
    "为确认一切运行正常，请访问http://localhost:5000/ ，将看到“学习笔记”的主页，就像使用Django服务器（runserver）时一样。为停止heroku local 启动的进程，请按`Ctrl + C`，在本地开发中继续使用runserver 。\n",
    "\n",
    "> gunicorn不能在Windows系统上运行，因此如果使用的是Windows系统，请跳过这一步。但这不会影响你将项目部署到Heroku。"
   ]
  },
  {
   "cell_type": "markdown",
   "metadata": {},
   "source": [
    "### 20.2.11　使用Git跟踪项目文件\n",
    "Git是一个版本控制程序，能够在每次成功实现新功能后都拍摄项目代码的快照。无论出现什么问题都可以轻松地恢复到最后一个可行的快照。每个快照都被称为`提交`。\n",
    "\n",
    "使用Git意味着在试着实现新功能时无需担心破坏项目。将项目部署到服务器时，需要确保部署的是可行版本。"
   ]
  },
  {
   "cell_type": "markdown",
   "metadata": {},
   "source": [
    "#### 20.2.11.1 安装Git\n",
    "Heroku Toolbelt包含Git，因此应该已经安装到了系统中。然而，在安装Heroku Toolbelt之前打开的终端窗口中无法访问Git，因此请打开一个新的终端窗口，并在其中执行命令`git --version`。"
   ]
  },
  {
   "cell_type": "markdown",
   "metadata": {},
   "source": [
    "#### 20.2.11.2 配置Git\n",
    "Git跟踪谁修改了项目，即便项目由一个人开发时亦如此。为进行跟踪，Git需要知道用户名和email。因此，必须提供用户名，但对于练习项目，可随便使用一个email。\n",
    "\n",
    "如果忘记了，当首次提交时，Git将提示提供这些信息。"
   ]
  },
  {
   "cell_type": "markdown",
   "metadata": {},
   "source": [
    "```sh\n",
    "git config --global user.name \"ehmatthes\"\n",
    "git config --global user.email \"eric@example.com\"\n",
    "```"
   ]
  },
  {
   "cell_type": "markdown",
   "metadata": {},
   "source": [
    "#### 20.2.11.3 忽略文件 \n",
    "无需让Git跟踪项目中的每个文件，因此将让Git忽略一些文件。为此，在manage.py所在的文件夹中创建一个名为.gitignore的文件。\n",
    "\n",
    "> 这个文件名以句点打头，且不包含扩展名。"
   ]
  },
  {
   "cell_type": "markdown",
   "metadata": {},
   "source": [
    "```.gitignore\n",
    "__pycache__/\n",
    "*.sqlite3\n",
    "```"
   ]
  },
  {
   "cell_type": "markdown",
   "metadata": {},
   "source": [
    "让Git忽略目录llenv（具体环境不在项目文件内，因此不需要），因为随时都可以自动重新创建它。指定不跟踪目录 `\\ _pycache__`，这个目录包含Django运行.py文件时自动创建的.pyc文件。不跟踪对本地数据库的修改，因为这是一个糟糕的做法：**如果在服务器上使用的也是SQLite，当项目推送到服务器时，可能会不小心用本地测试数据库覆盖在线数据库。**\n",
    "\n",
    "> 如果使用的是Python 2.7，请将`_pycache_`替换为*.pyc ，因为Python 2.7不会创建目录`__pycache__`。"
   ]
  },
  {
   "cell_type": "markdown",
   "metadata": {},
   "source": [
    "#### 20.2.11.4 提交项目\n",
    "需要为“学习笔记”初始化一个Git仓库，将所有必要的文件都加入到这个仓库中，并提交项目的初始状态。"
   ]
  },
  {
   "cell_type": "markdown",
   "metadata": {},
   "source": [
    "```sh\n",
    "git init\n",
    "git add .\n",
    "git commit -am \"Ready for deployment to heroku.\"\n",
    "git status\n",
    "```"
   ]
  },
  {
   "cell_type": "markdown",
   "metadata": {},
   "source": [
    "首先执行命令`git init`，在“学习笔记”所在的目录中初始化一个空仓库。接着执行命令`git add .`，将未被忽略的文件都添加到这个仓库中。然后执行了命令`git commit -am commit message`，其中的标志`-a`让Git在这个提交中包含所有修改过的文件，而标志`-m`让Git记录一条日志消息。\n",
    "\n",
    "最后执行命令`git status`，确认当前位于分支master中，而工作目录是干净 （clean）的。每当要将项目推送到Heroku时，都希望看到这样的状态。"
   ]
  },
  {
   "cell_type": "markdown",
   "metadata": {},
   "source": [
    "### 20.2.12　推送到Heroku\n",
    "以完成项目推送到Heroku做好了准备。在活动的虚拟环境中，执行下面的命令："
   ]
  },
  {
   "cell_type": "markdown",
   "metadata": {},
   "source": [
    "```sh\n",
    "heroku login\n",
    "heroku create\n",
    "# 选个可以识别的名称\n",
    "heroku apps:rename flashield-learninglogs\n",
    "\n",
    "# 或者使用如下命令创建时提供名称\n",
    "heroku apps:create flashield-learninglogs\n",
    "# 实际部署中还关闭了DISABLE_COLLECTSTATIC\n",
    "heroku config:set DISABLE_COLLECTSTATIC=1\n",
    "git push heroku master\n",
    "```"
   ]
  },
  {
   "cell_type": "markdown",
   "metadata": {},
   "source": [
    "首先，在终端会话中，使用在https://heroku.com/ 创建账户时指定的用户名和密码来登录Heroku。然后，让Heroku创建一个空项目。Heroku生成的项目名由两个单词和一个数字组成，以后可修改这个名称。接下来，执行命令`git push heroku master`，让Git将项目的分支master推送到Heroku刚才创建的仓库中；Heroku随后使用这些文件在其服务器上创建项目。反馈消息会列出用于访问这个项目的URL。\n",
    "\n",
    "执行这些命令后，项目就部署好了，但还未对其做全面的配置。为核实正确地启动了服务器进程，请执行命令`heroku ps`。\n",
    "\n",
    "输出指出了在接下来的一个月内，项目还可在多长时间内处于活动状态（550小时）。项目的活动时间超过这个限制后，将显示标准的服务器错误页面，稍后将设置这个错误页面。\n",
    "\n",
    "```\n",
    "=== web (Free): gunicorn learning_log.wsgi --log-file - (1)\n",
    "web.1: up 2020/04/17 15:36:36 +0800 (~ 30s ago)\n",
    "```\n",
    "提示已经启动了Procfile指定的进程。"
   ]
  },
  {
   "cell_type": "markdown",
   "metadata": {},
   "source": [
    "现在，可以使用命令`heroku open`在浏览器中打开这个应用程序了（实际过程中并不需要）。\n",
    "\n",
    "也可以启动浏览器并输入Heroku返回的URL，但上述命令可实现同样的结果。将看到“学习笔记”的主页，其样式设置正确无误，但还无法使用这个应用程序，因为还没有建立数据库。\n",
    "\n",
    "> 部署到Heroku的流程会不断变化。如果遇到无法解决的问题，请通过查看Heroku文档来获取帮助。为此，可访问https://devcenter.heroku.com/ ，单击Python，再单击链接Getting Started with Django。"
   ]
  },
  {
   "cell_type": "markdown",
   "metadata": {},
   "source": [
    "最后，通过查阅官方文档`https://devcenter.heroku.com/categories/python-support`，补充调试工具`heroku config:set DEBUG_COLLECTSTATIC=1`，修改了setting.py。能够正常的build了。"
   ]
  },
  {
   "cell_type": "markdown",
   "metadata": {},
   "source": [
    "```settings.py\n",
    "# Heroku Settings\n",
    "if ('/tmp/build' in os.getcwd()) or (os.getcwd() == '/app'):\n",
    "    import dj_database_url\n",
    "    DATABASES = {\n",
    "        'default': dj_database_url.config(default='postgres://localhost')\n",
    "    }\n",
    "\n",
    "    # 让request.is_secure()承认X-Forwarded-Proto头\n",
    "    SECURE_PROXY_SSL_HEADER = ('HTTP_X_FORWARDED_PROTO', 'https')\n",
    "\n",
    "    # 支持所有的主机头（host header）\n",
    "    ALLOWED_HOSTS = ['*']\n",
    "\n",
    "    # 静态资产配置\n",
    "    #BASE_DIR = os.path.dirname(os.path.abspath(__file__))\n",
    "    BASE_DIR = os.path.dirname(os.path.dirname(os.path.abspath(__file__)))\n",
    "    #STATIC_ROOT = 'static'\n",
    "    STATIC_ROOT = os.path.join(BASE_DIR, 'staticfiles')\n",
    "    STATIC_URL = '/static/'\n",
    "    STATICFILES_DIRS = (\n",
    "        os.path.join(BASE_DIR, 'static'),\n",
    "    )\n",
    "```"
   ]
  },
  {
   "cell_type": "markdown",
   "metadata": {},
   "source": [
    "### 20.2.13　在Heroku上建立数据库\n",
    "为建立在线数据库，需要再次执行命令migrate ，并应用在开发期间生成的所有迁移。要对Heroku项目执行Django和Python命令，可使用命令`heroku run`。"
   ]
  },
  {
   "cell_type": "markdown",
   "metadata": {},
   "source": [
    "```sh\n",
    "heroku run python manage.py migrate\n",
    "```"
   ]
  },
  {
   "cell_type": "markdown",
   "metadata": {},
   "source": [
    "首先执行了命令`heroku run python manage.py migrate`；Heroku随后创建一个终端会话来执行命令migrate。接着，Django应用默认迁移以及在开发“学习笔记”期间生成的迁移。\n",
    "\n",
    "现在访问这个部署的应用程序，将能够像在本地系统上一样使用它。然而，看不到在本地部署中输入的任何数据，因为没有复制到在线服务器。一种通常的做法是不将本地数据复制到在线部署中，因为本地数据通常是测试数据。\n",
    "\n",
    "现在可以分享“学习笔记”的Heroku URL，让任何人都可以使用它。"
   ]
  },
  {
   "cell_type": "markdown",
   "metadata": {},
   "source": [
    "### 20.2.14　改进Heroku部署\n",
    "通过创建超级用户来改进部署，就像在本地一样。还将让这个项目更安全：将DEBUG设置为False，让用户在错误消息中看不到额外的信息，以防他们使用这些信息来攻击服务器。"
   ]
  },
  {
   "cell_type": "markdown",
   "metadata": {},
   "source": [
    "#### 20.2.14.1 在Heroku上创建超级用户\n",
    "可使用命令heroku run来执行一次性命令，但也可这样执行命令：在连接到了Heroku服务器的情况下，使用命令heroku run bash 来打开Bash终端会话。Bash是众多Linux终端运行的语言。使用Bash终端会话来创建超级用户，以便能够访问在线应用程序的管理网站："
   ]
  },
  {
   "cell_type": "markdown",
   "metadata": {},
   "source": [
    "```sh\n",
    "heroku run bash\n",
    "python manage.py createsuperuser\n",
    "```"
   ]
  },
  {
   "cell_type": "markdown",
   "metadata": {},
   "source": [
    "首先，运行命令`ls`，查看服务器上文件和目录；服务器包含的文件和目录应该与本地系统相同。\n",
    "\n",
    "> 即便使用的是Windows系统，也应使用这里列出的命令（如`ls`而不是`dir`），因为正通过远程连接运行一个Linux终端。\n",
    "\n",
    "接着执行创建超级用户的命令，输入相关的信息。在这个终端会话中创建超级用户后，使用命令exit返回到本地系统的终端会话。\n",
    "\n",
    "现在，可以在在线应用程序的URL末尾添加/admin/来登录管理网站了。这个URL为https://flashield-learninglogs.herokuapp.com/admin/ 。\n",
    "\n",
    "如果已经有人开始使用这个项目，别忘了管理员可以访问他们的所有数据！千万别不把这当回事，否则用户就不会再将其数据托付在这个网站了。"
   ]
  },
  {
   "cell_type": "markdown",
   "metadata": {},
   "source": [
    "#### 20.2.14.2 在Heroku上创建对用户友好的URL\n",
    "URL需要更加友好，比https://afternoon-meadow-2775.herokuapp.com/ 更好记。为此，使用一个命令来重命名应用程序：`heroku apps:rename learning-log`。\n",
    "\n",
    "给应用程序命名时，可使用字母、数字和连字符；只要指定的名称未被别人使用就行。现在，项目的URL变成了https://flashield-learninglogs.herokuapp.com/ ；使用以前的URL再也无法访问它，命令apps:rename 将整个项目都移到了新的URL处。\n",
    "\n",
    "> 使用Heroku提供的免费服务来部署项目时，如果项目在指定的时间内未收到请求或过于活跃，Heroku将让项目进入休眠状态。用户初次访问处于休眠状态的网站时，加载时间将更长，但对于后续请求，服务器的响应速度将更快。这就是Heroku能够提供免费部署的原因所在。"
   ]
  },
  {
   "cell_type": "markdown",
   "metadata": {},
   "source": [
    "### 20.2.15　确保项目的安全\n",
    "当前部署的项目存在一个严重的安全问题：settings.py包含设置`DEBUG=True`，在发生错误时显示调试信息。开发项目时，Django的错误页面显示了重要的调试信息，如果将项目部署到服务器后依然保留这个设置，将给攻击者提供大量可供利用的信息。还需确保任何人都无法看到这些信息，也不能冒充项目托管网站来重定向请求。\n",
    "\n",
    "下面来修改settings.py，能够在本地看到错误消息，但部署到服务器后不显示任何错误消息："
   ]
  },
  {
   "cell_type": "markdown",
   "metadata": {},
   "source": [
    "```settings.py\n",
    "# Heroku Settings\n",
    "if ('/tmp/build' in os.getcwd()) or (os.getcwd()=='/app'):\n",
    "    import dj_database_url\n",
    "    DATABASES = {\n",
    "        'default': dj_database_url.config(default='postgres://localhost')\n",
    "    }\n",
    "\n",
    "    # 让request.is_secure()承认X-Forwarded-Proto头\n",
    "    SECURE_PROXY_SSL_HEADER = ('HTTP_X_FORWARDED_PROTO', 'https')\n",
    "\n",
    "    # 支持所有的主机头（host header）\n",
    "    ALLOWED_HOSTS = ['flashield-learninglogs.herokuapp.com']\n",
    "\n",
    "    # 关闭Debug调试\n",
    "    DEBUG = False\n",
    "\n",
    "    # 静态资产配置\n",
    "    #BASE_DIR = os.path.dirname(os.path.abspath(__file__))\n",
    "    BASE_DIR = os.path.dirname(os.path.dirname(os.path.abspath(__file__)))\n",
    "    #STATIC_ROOT = 'static'\n",
    "    STATIC_ROOT = os.path.join(BASE_DIR, 'staticfiles')\n",
    "    STATIC_URL = '/static/'\n",
    "    STATICFILES_DIRS = (\n",
    "        os.path.join(BASE_DIR, 'static'),\n",
    "    )\n",
    "```"
   ]
  },
  {
   "cell_type": "markdown",
   "metadata": {},
   "source": [
    "只需做两方面的修改。修改ALLOWED_HOSTS，只允许Heroku托管这个项目。需要使用应用程序的名称。将DEBUG设置为False，让Django不在错误发生时显示敏感信息。"
   ]
  },
  {
   "cell_type": "markdown",
   "metadata": {},
   "source": [
    "### 20.2.16　提交并推送修改\n",
    "现在需要将对settings.py所做的修改提交到Git仓库，再将修改推送到Heroku。"
   ]
  },
  {
   "cell_type": "markdown",
   "metadata": {},
   "source": [
    "```sh\n",
    "git commit -am \"Set DEBUG=False for Heroku.\"\n",
    "git status\n",
    "git push heroku master\n",
    "```"
   ]
  },
  {
   "cell_type": "markdown",
   "metadata": {},
   "source": [
    "执行命令`git commit`，并指定了一条简短而具有描述性的提交消息。标志`-am`让Git提交所有修改过的文件，并记录一条日志消息。Git找出唯一一个修改过的文件，并将所做的修改提交到仓库。\n",
    "\n",
    "返回的状态表明在仓库的分支master上工作，当前没有任何未提交的修改。推送到Heroku之前，必须检查状态并看到刚才所说的消息。如果没有看到这样的消息，说明有未提交的修改，而这些修改将不会推送到服务器。在这种情况下，可尝试再次执行命令commit。\n",
    "\n",
    "接着将修改后的仓库推送到Heroku。\n",
    "\n",
    "Heroku发现仓库发生了变化，因此重建项目，确保所有的修改都已生效。但不会重建数据库，因此这次无需执行命令migrate 。\n",
    "\n",
    "现在要核实部署更安全了，请输入项目的URL，并在末尾加上未定义的扩展。例如，尝试访问http://flashield-learninglogs.herokuapp.com/letmein/ 。将看到一个通用的错误页面，它没有泄露任何有关该项目的具体信息。如果尝试向本地的“学习笔记”发出同样的请求——输入URL http://IP:8000/letmein/ ，将看到完整的Django错误页面。这样的结果非常理想，接着开发这个项目时，将看到信息丰富的错误消息，但用户看不到有关项目代码的重要信息。"
   ]
  },
  {
   "cell_type": "markdown",
   "metadata": {},
   "source": [
    "### 20.2.17　创建自定义错误页面\n",
    "对“学习笔记”进行了配置，使其在用户请求不属于他的主题或条目时返回404错误。可能还遇到过一些500错误（内部错误）。404错误通常意味着Django代码是正确的，但请求的对象不存在。500错误通常意味着代码有问题，如views.py中的函数有问题。当前，在这两种情况下，Django都返回通用的错误页面，可以编写外观与“学习笔记”一致的404和500错误页面模板。这些模板必须放在根模板目录中。"
   ]
  },
  {
   "cell_type": "markdown",
   "metadata": {},
   "source": [
    "#### 20.2.17.1 创建自定义模板\n",
    "在文件夹learning_log/learning_log中，新建一个文件夹，并将其命名为templates；再在这个文件夹中新建一个名为404.html的文件，并在其中输入如下内容："
   ]
  },
  {
   "cell_type": "markdown",
   "metadata": {},
   "source": [
    "```404.html\n",
    "{% extends \"learning_logs/base.html\" %}\n",
    "\n",
    "{% block header %}\n",
    "    <h2>The item you requested is not available. (404)</h2>\n",
    "{% endblock header %}\n",
    "```"
   ]
  },
  {
   "cell_type": "markdown",
   "metadata": {},
   "source": [
    "这个简单的模板指定了通用的404错误页面包含的信息，并且该页面的外观与网站的其他部分一致。\n",
    "\n",
    "再创建一个名为500.html的文件，并在其中输入如下代码："
   ]
  },
  {
   "cell_type": "markdown",
   "metadata": {},
   "source": [
    "```500.html\n",
    "{% extends \"learning_logs/base.html\" %}\n",
    "\n",
    "{% block header %}\n",
    "    <h2>There has been an internal error. (500)</h2>\n",
    "{% endblock header %}\n",
    "```"
   ]
  },
  {
   "cell_type": "markdown",
   "metadata": {},
   "source": [
    "这些新文件要求对settings.py做细微的修改："
   ]
  },
  {
   "cell_type": "markdown",
   "metadata": {},
   "source": [
    "```settings.py\n",
    "TEMPLATES = [\n",
    "    {\n",
    "        'BACKEND': 'django.template.backends.django.DjangoTemplates',\n",
    "        # 404,500等自定义网页模版\n",
    "        'DIRS': [os.path.join(BASE_DIR, 'learninglog/templates')],\n",
    "        'APP_DIRS': True,\n",
    "        'OPTIONS': {\n",
    "            'context_processors': [\n",
    "                'django.template.context_processors.debug',\n",
    "                'django.template.context_processors.request',\n",
    "                'django.contrib.auth.context_processors.auth',\n",
    "                'django.contrib.messages.context_processors.messages',\n",
    "            ],\n",
    "        },\n",
    "    },\n",
    "]\n",
    "```"
   ]
  },
  {
   "cell_type": "markdown",
   "metadata": {},
   "source": [
    "这项修改让Django在根模板目录中查找错误页面模板。"
   ]
  },
  {
   "cell_type": "markdown",
   "metadata": {},
   "source": [
    "#### 20.2.17.2. 在本地查看错误页面\n",
    "\n",
    "在将项目推送到Heroku之前，要在本地检查错误页面，首先需要在本地设置中设置Debug=False，以禁止显示默认的Django调试页面。可对settings.py做如下修改：`DEBUG = False`"
   ]
  },
  {
   "cell_type": "markdown",
   "metadata": {},
   "source": [
    "DEBUG 被设置为False时，必须在ALLOWED_HOSTS 中指定一个主机。现在，请求一个不属于该用户的主题或条目，以查看404错误页面；请求不存在的URL（如IP:8000/letmein/ ），以查看500错误页面。\n",
    "\n",
    "查看错误页面后，将DEBUG 重新设置为True ，以方便进一步开发“学习笔记”。（在settings.py中用于Heroku部署的部分中，确保DEBUG 依然被设置为False ）。\n",
    "\n",
    "> 500错误页面不会显示任何有关当前用户的信息，因为发生服务器错误时，Django不会通过响应发送任何上下文信息。"
   ]
  },
  {
   "cell_type": "markdown",
   "metadata": {},
   "source": [
    "#### 20.2.17.3 将修改推送到Heroku\n",
    "\n",
    "现在提交对模板所做的修改，并将这些修改推送到Heroku。"
   ]
  },
  {
   "cell_type": "markdown",
   "metadata": {},
   "source": [
    "```sh\n",
    "git add .\n",
    "git commit -am \"Added custom 404 and 500 error pages.\"\n",
    "git push heroku master\n",
    "```"
   ]
  },
  {
   "cell_type": "markdown",
   "metadata": {},
   "source": [
    "首先执行命令`git add .`，这是因为在项目中创建了一些新文件，因此需要让Git跟踪这些文件。然后，提交所做的修改，并将修改后的项目推送到Heroku。\n",
    "\n",
    "现在，错误页面出现时，其样式应该与网站的其他部分一致，这样在发生错误时，用户将不会感到突兀。"
   ]
  },
  {
   "cell_type": "markdown",
   "metadata": {},
   "source": [
    "#### 20.2.17.4 使用方法get_object_or_404()\n",
    "\n",
    "现在，如果用户手工请求不存在的主题或条目，将导致500错误。Django尝试渲染请求的页面，但没有足够的信息来完成这项任务，进而引发500错误。对于这种情形，将其视为404错误更合适，为此可使用Django快捷函数get_object_or_404() 。这个函数尝试从数据库获取请求的对象，如果这个对象不存在，就引发404异常。在views.py中导入这个函数，并用它替换函数get() ："
   ]
  },
  {
   "cell_type": "markdown",
   "metadata": {},
   "source": [
    "```views.py\n",
    "from django.shortcuts import render, get_object_or_404\n",
    "\n",
    "@login_required\n",
    "def topic(request, topic_id):\n",
    "    \"\"\"显示单个主题及其所有的条目\"\"\"\n",
    "    # topic = Topic.objects.get(id=topic_id)\n",
    "    topic = get_object_or_404(Topic, id=topic_id)\n",
    "    # 确认请求的主题属于当前的用户\n",
    "    if topic.owner != request.user:\n",
    "        raise Http404\n",
    "    entries = topic.entry_set.order_by('-date_added')\n",
    "    context = {'topic': topic, 'entries': entries}\n",
    "    return render(request, 'learning_logs/topic.html', context)\n",
    "```"
   ]
  },
  {
   "cell_type": "markdown",
   "metadata": {},
   "source": [
    "现在，如果请求不存在的主题（例如，使用URL http://IP:8000/topics/999999/ ），将看到404错误页面。为部署这里所做的修改，再次提交，并将项目推送到Heroku。"
   ]
  },
  {
   "cell_type": "markdown",
   "metadata": {},
   "source": [
    "### 20.2.18　继续开发\n",
    "将项目“学习笔记”推送到服务器后，进一步开发或开发要部署的其他项目。更新项目的过程几乎完全相同。\n",
    "\n",
    "首先，对本地项目做必要的修改。如果在修改过程中创建了新文件，使用命令`git add .`将它们加入到Git仓库中。如果有修改要求迁移数据库，也需要执行这个命令，因为每个迁移都将生成新的迁移文件。\n",
    "\n",
    "然后，使用命令`git commit -am \"commit message\"`将修改提交到仓库，再使用命令`git push heroku master`将修改推送到Heroku。如果在本地迁移了数据库，也需要迁移在线数据库。为此，可以使用一次性命令`heroku run python manage.py migrate`，也可使用`heroku run bash`打开一个远程终端会话，并在其中执行命令`python manage.py migrate`。然后访问在线项目，确认修改已生效。\n",
    "\n",
    "在这个过程中很容易犯错，因此看到错误时不要大惊小怪。如果代码不能正确地工作，请重新审视所做的工作，尝试找出其中的错误。"
   ]
  },
  {
   "cell_type": "markdown",
   "metadata": {},
   "source": [
    "### 20.2.19　设置SECRET_KEY\n",
    "Django根据settings.py中设置SECRET_KEY的值来实现大量的安全协议。在这个项目中，提交到仓库的设置文件包含设置SECRET_KEY 。对于一个练习项目而言，这足够了，但对于生产网站，应更细致地处理设置SECRET_KEY 。如果你创建的项目的用途很重要，务必研究如何更安全地处理设置SECRET_KEY 。"
   ]
  },
  {
   "cell_type": "markdown",
   "metadata": {},
   "source": [
    "### 20.2.20　将项目从Heroku删除\n",
    "一个不错的练习是，使用同一个项目或一系列小项目执行部署过程多次，直到对部署过程了如指掌。然而，需要知道如何删除部署的项目。Heroku可能还限制了可免费托管的项目数。\n",
    "\n",
    "在Heroku网站（https://heroku.com/ ）登录后，将被重定向到一个页面，其中列出了你托管的所有项目。单击要删除的项目，将看到另一个页面，其中显示了有关这个项目的信息。单击链接Settings，再向下滚动，找到用于删除项目的链接并单击它。这种操作是不可撤销的，因此Heroku要求手工输入要删除的项目的名称，以确认你确实要删除它。\n",
    "\n",
    "如果在终端中工作，也可使用命令destroy来删除项目："
   ]
  },
  {
   "cell_type": "markdown",
   "metadata": {},
   "source": [
    "```sh\n",
    "heroku apps:destroy flashield-learninglogs\n",
    "```"
   ]
  },
  {
   "cell_type": "markdown",
   "metadata": {},
   "source": [
    ">　删除Heroku上的项目对本地项目没有任何影响。如果没有人使用部署的项目，就尽管去练习部署过程好了，在Heroku删除项目再重新部署完全合情合理。"
   ]
  },
  {
   "cell_type": "markdown",
   "metadata": {},
   "source": [
    "### **练习：**\n",
    "20-3 在线博客 ：将你一直在开发的项目Blog部署到Heroku。确保将DEBUG 设置为False ，并修改设置ALLOWED_HOSTS ，让部署相当安全。\n",
    "\n",
    "20-4 在更多的情况下显示404错误页面 ：在视图函数new_entry() 和edit_entry() 中，也使用函数get_object_or_404() 。完成这些修改后进行测试：输入类似于http://localhost:8000/new_entry/99999/ 的URL，确认你能够看到404错误页面。\n",
    "\n",
    "20-5 扩展“学习笔记” ：在“学习笔记”中添加一项功能，将修改推送到在线部署。尝试做一项简单的修改，如在主页中对项目作更详细的描述；再尝试添加一项更高级的功能，如让用户能够将主题设置为公开的。为此，需要在模型Topic 中添加一个名为public 的属性（其默认值为False ），并在new_topic 页面中添加一个表单元素，让用户能够将私有主题改为公开的。然后，迁移项目，并修改views.py，让未登录的用户也可以看到所有公开的主题。将修改推送到Heroku后，别忘了迁移在线数据库。"
   ]
  }
 ],
 "metadata": {
  "kernelspec": {
   "display_name": "Python 3",
   "language": "python",
   "name": "python3"
  },
  "language_info": {
   "codemirror_mode": {
    "name": "ipython",
    "version": 3
   },
   "file_extension": ".py",
   "mimetype": "text/x-python",
   "name": "python",
   "nbconvert_exporter": "python",
   "pygments_lexer": "ipython3",
   "version": "3.6.9"
  },
  "toc": {
   "base_numbering": 1,
   "nav_menu": {},
   "number_sections": false,
   "sideBar": true,
   "skip_h1_title": false,
   "title_cell": "Table of Contents",
   "title_sidebar": "Contents",
   "toc_cell": false,
   "toc_position": {
    "height": "calc(100% - 180px)",
    "left": "10px",
    "top": "150px",
    "width": "165px"
   },
   "toc_section_display": true,
   "toc_window_display": true
  }
 },
 "nbformat": 4,
 "nbformat_minor": 2
}
