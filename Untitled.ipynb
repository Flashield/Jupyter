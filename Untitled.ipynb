{
 "cells": [
  {
   "cell_type": "code",
   "execution_count": 1,
   "metadata": {},
   "outputs": [],
   "source": [
    "import pandas as pd"
   ]
  },
  {
   "cell_type": "code",
   "execution_count": 96,
   "metadata": {},
   "outputs": [
    {
     "data": {
      "text/plain": [
       "'0.9.6'"
      ]
     },
     "execution_count": 96,
     "metadata": {},
     "output_type": "execute_result"
    }
   ],
   "source": [
    "import xlsxwriter\n",
    "\n",
    "xlsxwriter.__version__"
   ]
  },
  {
   "cell_type": "code",
   "execution_count": 93,
   "metadata": {},
   "outputs": [],
   "source": [
    "df = pd.read_csv('datasets/titanic.csv')"
   ]
  },
  {
   "cell_type": "code",
   "execution_count": 6,
   "metadata": {},
   "outputs": [],
   "source": [
    "df_male = df[df.sex == 'male']\n",
    "df_female = df[df.sex == 'female']"
   ]
  },
  {
   "cell_type": "code",
   "execution_count": null,
   "metadata": {},
   "outputs": [],
   "source": [
    "df_male.to_excel('male')"
   ]
  },
  {
   "cell_type": "code",
   "execution_count": 94,
   "metadata": {},
   "outputs": [
    {
     "name": "stderr",
     "output_type": "stream",
     "text": [
      "/usr/local/lib/python3.6/dist-packages/pandas/compat/_optional.py:106: UserWarning: Pandas requires version '0.9.8' or newer of 'xlsxwriter' (version '0.9.6' currently installed).\n",
      "  warnings.warn(msg, UserWarning)\n"
     ]
    }
   ],
   "source": [
    "# 按属性拆文件\n",
    "for i in df.sex.unique():\n",
    "    df[df.sex == i].to_excel(f'{i}.xlsx')"
   ]
  },
  {
   "cell_type": "code",
   "execution_count": 30,
   "metadata": {},
   "outputs": [
    {
     "data": {
      "text/html": [
       "<div>\n",
       "<style scoped>\n",
       "    .dataframe tbody tr th:only-of-type {\n",
       "        vertical-align: middle;\n",
       "    }\n",
       "\n",
       "    .dataframe tbody tr th {\n",
       "        vertical-align: top;\n",
       "    }\n",
       "\n",
       "    .dataframe thead th {\n",
       "        text-align: right;\n",
       "    }\n",
       "</style>\n",
       "<table border=\"1\" class=\"dataframe\">\n",
       "  <thead>\n",
       "    <tr style=\"text-align: right;\">\n",
       "      <th></th>\n",
       "      <th>0</th>\n",
       "      <th>1</th>\n",
       "      <th>2</th>\n",
       "    </tr>\n",
       "  </thead>\n",
       "  <tbody>\n",
       "    <tr>\n",
       "      <th>0</th>\n",
       "      <td>1</td>\n",
       "      <td>2</td>\n",
       "      <td>3</td>\n",
       "    </tr>\n",
       "    <tr>\n",
       "      <th>1</th>\n",
       "      <td>4</td>\n",
       "      <td>5</td>\n",
       "      <td>6</td>\n",
       "    </tr>\n",
       "    <tr>\n",
       "      <th>2</th>\n",
       "      <td>7</td>\n",
       "      <td>8</td>\n",
       "      <td>9</td>\n",
       "    </tr>\n",
       "    <tr>\n",
       "      <th>3</th>\n",
       "      <td>10</td>\n",
       "      <td>11</td>\n",
       "      <td>12</td>\n",
       "    </tr>\n",
       "  </tbody>\n",
       "</table>\n",
       "</div>"
      ],
      "text/plain": [
       "    0   1   2\n",
       "0   1   2   3\n",
       "1   4   5   6\n",
       "2   7   8   9\n",
       "3  10  11  12"
      ]
     },
     "execution_count": 30,
     "metadata": {},
     "output_type": "execute_result"
    }
   ],
   "source": [
    "a = pd.DataFrame(np.arange(1,13).reshape(-1,3))\n",
    "a1."
   ]
  },
  {
   "cell_type": "code",
   "execution_count": 31,
   "metadata": {},
   "outputs": [
    {
     "data": {
      "text/html": [
       "<div>\n",
       "<style scoped>\n",
       "    .dataframe tbody tr th:only-of-type {\n",
       "        vertical-align: middle;\n",
       "    }\n",
       "\n",
       "    .dataframe tbody tr th {\n",
       "        vertical-align: top;\n",
       "    }\n",
       "\n",
       "    .dataframe thead th {\n",
       "        text-align: right;\n",
       "    }\n",
       "</style>\n",
       "<table border=\"1\" class=\"dataframe\">\n",
       "  <thead>\n",
       "    <tr style=\"text-align: right;\">\n",
       "      <th></th>\n",
       "      <th>0</th>\n",
       "      <th>1</th>\n",
       "    </tr>\n",
       "  </thead>\n",
       "  <tbody>\n",
       "    <tr>\n",
       "      <th>0</th>\n",
       "      <td>a</td>\n",
       "      <td>6</td>\n",
       "    </tr>\n",
       "    <tr>\n",
       "      <th>1</th>\n",
       "      <td>b</td>\n",
       "      <td>3</td>\n",
       "    </tr>\n",
       "  </tbody>\n",
       "</table>\n",
       "</div>"
      ],
      "text/plain": [
       "   0  1\n",
       "0  a  6\n",
       "1  b  3"
      ]
     },
     "execution_count": 31,
     "metadata": {},
     "output_type": "execute_result"
    }
   ],
   "source": [
    "b = pd.DataFrame([['a',6],['b',3]])\n",
    "b"
   ]
  },
  {
   "cell_type": "code",
   "execution_count": 32,
   "metadata": {},
   "outputs": [
    {
     "data": {
      "text/html": [
       "<div>\n",
       "<style scoped>\n",
       "    .dataframe tbody tr th:only-of-type {\n",
       "        vertical-align: middle;\n",
       "    }\n",
       "\n",
       "    .dataframe tbody tr th {\n",
       "        vertical-align: top;\n",
       "    }\n",
       "\n",
       "    .dataframe thead th {\n",
       "        text-align: right;\n",
       "    }\n",
       "</style>\n",
       "<table border=\"1\" class=\"dataframe\">\n",
       "  <thead>\n",
       "    <tr style=\"text-align: right;\">\n",
       "      <th></th>\n",
       "      <th>0_x</th>\n",
       "      <th>1_x</th>\n",
       "      <th>2</th>\n",
       "      <th>0_y</th>\n",
       "      <th>1_y</th>\n",
       "    </tr>\n",
       "  </thead>\n",
       "  <tbody>\n",
       "    <tr>\n",
       "      <th>0</th>\n",
       "      <td>1</td>\n",
       "      <td>2</td>\n",
       "      <td>3</td>\n",
       "      <td>b</td>\n",
       "      <td>3.0</td>\n",
       "    </tr>\n",
       "    <tr>\n",
       "      <th>1</th>\n",
       "      <td>4</td>\n",
       "      <td>5</td>\n",
       "      <td>6</td>\n",
       "      <td>a</td>\n",
       "      <td>6.0</td>\n",
       "    </tr>\n",
       "    <tr>\n",
       "      <th>2</th>\n",
       "      <td>7</td>\n",
       "      <td>8</td>\n",
       "      <td>9</td>\n",
       "      <td>NaN</td>\n",
       "      <td>NaN</td>\n",
       "    </tr>\n",
       "    <tr>\n",
       "      <th>3</th>\n",
       "      <td>10</td>\n",
       "      <td>11</td>\n",
       "      <td>12</td>\n",
       "      <td>NaN</td>\n",
       "      <td>NaN</td>\n",
       "    </tr>\n",
       "  </tbody>\n",
       "</table>\n",
       "</div>"
      ],
      "text/plain": [
       "   0_x  1_x   2  0_y  1_y\n",
       "0    1    2   3    b  3.0\n",
       "1    4    5   6    a  6.0\n",
       "2    7    8   9  NaN  NaN\n",
       "3   10   11  12  NaN  NaN"
      ]
     },
     "execution_count": 32,
     "metadata": {},
     "output_type": "execute_result"
    }
   ],
   "source": [
    "pd.merge(a,b,left_on=2, right_on=1, how='left')"
   ]
  },
  {
   "cell_type": "code",
   "execution_count": 33,
   "metadata": {},
   "outputs": [
    {
     "data": {
      "text/plain": [
       "array(['male', 'female'], dtype=object)"
      ]
     },
     "execution_count": 33,
     "metadata": {},
     "output_type": "execute_result"
    }
   ],
   "source": [
    "df.sex.unique()"
   ]
  },
  {
   "cell_type": "code",
   "execution_count": 39,
   "metadata": {},
   "outputs": [
    {
     "data": {
      "text/html": [
       "<div>\n",
       "<style scoped>\n",
       "    .dataframe tbody tr th:only-of-type {\n",
       "        vertical-align: middle;\n",
       "    }\n",
       "\n",
       "    .dataframe tbody tr th {\n",
       "        vertical-align: top;\n",
       "    }\n",
       "\n",
       "    .dataframe thead th {\n",
       "        text-align: right;\n",
       "    }\n",
       "</style>\n",
       "<table border=\"1\" class=\"dataframe\">\n",
       "  <thead>\n",
       "    <tr style=\"text-align: right;\">\n",
       "      <th></th>\n",
       "      <th>survived</th>\n",
       "      <th>age</th>\n",
       "      <th>sibsp</th>\n",
       "      <th>parch</th>\n",
       "      <th>fare</th>\n",
       "      <th>adult_male</th>\n",
       "      <th>sex_female</th>\n",
       "      <th>sex_male</th>\n",
       "      <th>embarked_C</th>\n",
       "      <th>embarked_Q</th>\n",
       "      <th>...</th>\n",
       "      <th>who_child</th>\n",
       "      <th>who_man</th>\n",
       "      <th>who_woman</th>\n",
       "      <th>deck_A</th>\n",
       "      <th>deck_B</th>\n",
       "      <th>deck_C</th>\n",
       "      <th>deck_D</th>\n",
       "      <th>deck_E</th>\n",
       "      <th>deck_F</th>\n",
       "      <th>deck_G</th>\n",
       "    </tr>\n",
       "  </thead>\n",
       "  <tbody>\n",
       "    <tr>\n",
       "      <th>0</th>\n",
       "      <td>0</td>\n",
       "      <td>22.0</td>\n",
       "      <td>1</td>\n",
       "      <td>0</td>\n",
       "      <td>7.2500</td>\n",
       "      <td>True</td>\n",
       "      <td>0</td>\n",
       "      <td>1</td>\n",
       "      <td>0</td>\n",
       "      <td>0</td>\n",
       "      <td>...</td>\n",
       "      <td>0</td>\n",
       "      <td>1</td>\n",
       "      <td>0</td>\n",
       "      <td>0</td>\n",
       "      <td>0</td>\n",
       "      <td>0</td>\n",
       "      <td>0</td>\n",
       "      <td>0</td>\n",
       "      <td>0</td>\n",
       "      <td>0</td>\n",
       "    </tr>\n",
       "    <tr>\n",
       "      <th>1</th>\n",
       "      <td>1</td>\n",
       "      <td>38.0</td>\n",
       "      <td>1</td>\n",
       "      <td>0</td>\n",
       "      <td>71.2833</td>\n",
       "      <td>False</td>\n",
       "      <td>1</td>\n",
       "      <td>0</td>\n",
       "      <td>1</td>\n",
       "      <td>0</td>\n",
       "      <td>...</td>\n",
       "      <td>0</td>\n",
       "      <td>0</td>\n",
       "      <td>1</td>\n",
       "      <td>0</td>\n",
       "      <td>0</td>\n",
       "      <td>1</td>\n",
       "      <td>0</td>\n",
       "      <td>0</td>\n",
       "      <td>0</td>\n",
       "      <td>0</td>\n",
       "    </tr>\n",
       "    <tr>\n",
       "      <th>2</th>\n",
       "      <td>1</td>\n",
       "      <td>26.0</td>\n",
       "      <td>0</td>\n",
       "      <td>0</td>\n",
       "      <td>7.9250</td>\n",
       "      <td>False</td>\n",
       "      <td>1</td>\n",
       "      <td>0</td>\n",
       "      <td>0</td>\n",
       "      <td>0</td>\n",
       "      <td>...</td>\n",
       "      <td>0</td>\n",
       "      <td>0</td>\n",
       "      <td>1</td>\n",
       "      <td>0</td>\n",
       "      <td>0</td>\n",
       "      <td>0</td>\n",
       "      <td>0</td>\n",
       "      <td>0</td>\n",
       "      <td>0</td>\n",
       "      <td>0</td>\n",
       "    </tr>\n",
       "    <tr>\n",
       "      <th>3</th>\n",
       "      <td>1</td>\n",
       "      <td>35.0</td>\n",
       "      <td>1</td>\n",
       "      <td>0</td>\n",
       "      <td>53.1000</td>\n",
       "      <td>False</td>\n",
       "      <td>1</td>\n",
       "      <td>0</td>\n",
       "      <td>0</td>\n",
       "      <td>0</td>\n",
       "      <td>...</td>\n",
       "      <td>0</td>\n",
       "      <td>0</td>\n",
       "      <td>1</td>\n",
       "      <td>0</td>\n",
       "      <td>0</td>\n",
       "      <td>1</td>\n",
       "      <td>0</td>\n",
       "      <td>0</td>\n",
       "      <td>0</td>\n",
       "      <td>0</td>\n",
       "    </tr>\n",
       "    <tr>\n",
       "      <th>4</th>\n",
       "      <td>0</td>\n",
       "      <td>35.0</td>\n",
       "      <td>0</td>\n",
       "      <td>0</td>\n",
       "      <td>8.0500</td>\n",
       "      <td>True</td>\n",
       "      <td>0</td>\n",
       "      <td>1</td>\n",
       "      <td>0</td>\n",
       "      <td>0</td>\n",
       "      <td>...</td>\n",
       "      <td>0</td>\n",
       "      <td>1</td>\n",
       "      <td>0</td>\n",
       "      <td>0</td>\n",
       "      <td>0</td>\n",
       "      <td>0</td>\n",
       "      <td>0</td>\n",
       "      <td>0</td>\n",
       "      <td>0</td>\n",
       "      <td>0</td>\n",
       "    </tr>\n",
       "    <tr>\n",
       "      <th>...</th>\n",
       "      <td>...</td>\n",
       "      <td>...</td>\n",
       "      <td>...</td>\n",
       "      <td>...</td>\n",
       "      <td>...</td>\n",
       "      <td>...</td>\n",
       "      <td>...</td>\n",
       "      <td>...</td>\n",
       "      <td>...</td>\n",
       "      <td>...</td>\n",
       "      <td>...</td>\n",
       "      <td>...</td>\n",
       "      <td>...</td>\n",
       "      <td>...</td>\n",
       "      <td>...</td>\n",
       "      <td>...</td>\n",
       "      <td>...</td>\n",
       "      <td>...</td>\n",
       "      <td>...</td>\n",
       "      <td>...</td>\n",
       "      <td>...</td>\n",
       "    </tr>\n",
       "    <tr>\n",
       "      <th>886</th>\n",
       "      <td>0</td>\n",
       "      <td>27.0</td>\n",
       "      <td>0</td>\n",
       "      <td>0</td>\n",
       "      <td>13.0000</td>\n",
       "      <td>True</td>\n",
       "      <td>0</td>\n",
       "      <td>1</td>\n",
       "      <td>0</td>\n",
       "      <td>0</td>\n",
       "      <td>...</td>\n",
       "      <td>0</td>\n",
       "      <td>1</td>\n",
       "      <td>0</td>\n",
       "      <td>0</td>\n",
       "      <td>0</td>\n",
       "      <td>0</td>\n",
       "      <td>0</td>\n",
       "      <td>0</td>\n",
       "      <td>0</td>\n",
       "      <td>0</td>\n",
       "    </tr>\n",
       "    <tr>\n",
       "      <th>887</th>\n",
       "      <td>1</td>\n",
       "      <td>19.0</td>\n",
       "      <td>0</td>\n",
       "      <td>0</td>\n",
       "      <td>30.0000</td>\n",
       "      <td>False</td>\n",
       "      <td>1</td>\n",
       "      <td>0</td>\n",
       "      <td>0</td>\n",
       "      <td>0</td>\n",
       "      <td>...</td>\n",
       "      <td>0</td>\n",
       "      <td>0</td>\n",
       "      <td>1</td>\n",
       "      <td>0</td>\n",
       "      <td>1</td>\n",
       "      <td>0</td>\n",
       "      <td>0</td>\n",
       "      <td>0</td>\n",
       "      <td>0</td>\n",
       "      <td>0</td>\n",
       "    </tr>\n",
       "    <tr>\n",
       "      <th>888</th>\n",
       "      <td>0</td>\n",
       "      <td>NaN</td>\n",
       "      <td>1</td>\n",
       "      <td>2</td>\n",
       "      <td>23.4500</td>\n",
       "      <td>False</td>\n",
       "      <td>1</td>\n",
       "      <td>0</td>\n",
       "      <td>0</td>\n",
       "      <td>0</td>\n",
       "      <td>...</td>\n",
       "      <td>0</td>\n",
       "      <td>0</td>\n",
       "      <td>1</td>\n",
       "      <td>0</td>\n",
       "      <td>0</td>\n",
       "      <td>0</td>\n",
       "      <td>0</td>\n",
       "      <td>0</td>\n",
       "      <td>0</td>\n",
       "      <td>0</td>\n",
       "    </tr>\n",
       "    <tr>\n",
       "      <th>889</th>\n",
       "      <td>1</td>\n",
       "      <td>26.0</td>\n",
       "      <td>0</td>\n",
       "      <td>0</td>\n",
       "      <td>30.0000</td>\n",
       "      <td>True</td>\n",
       "      <td>0</td>\n",
       "      <td>1</td>\n",
       "      <td>1</td>\n",
       "      <td>0</td>\n",
       "      <td>...</td>\n",
       "      <td>0</td>\n",
       "      <td>1</td>\n",
       "      <td>0</td>\n",
       "      <td>0</td>\n",
       "      <td>0</td>\n",
       "      <td>1</td>\n",
       "      <td>0</td>\n",
       "      <td>0</td>\n",
       "      <td>0</td>\n",
       "      <td>0</td>\n",
       "    </tr>\n",
       "    <tr>\n",
       "      <th>890</th>\n",
       "      <td>0</td>\n",
       "      <td>32.0</td>\n",
       "      <td>0</td>\n",
       "      <td>0</td>\n",
       "      <td>7.7500</td>\n",
       "      <td>True</td>\n",
       "      <td>0</td>\n",
       "      <td>1</td>\n",
       "      <td>0</td>\n",
       "      <td>1</td>\n",
       "      <td>...</td>\n",
       "      <td>0</td>\n",
       "      <td>1</td>\n",
       "      <td>0</td>\n",
       "      <td>0</td>\n",
       "      <td>0</td>\n",
       "      <td>0</td>\n",
       "      <td>0</td>\n",
       "      <td>0</td>\n",
       "      <td>0</td>\n",
       "      <td>0</td>\n",
       "    </tr>\n",
       "  </tbody>\n",
       "</table>\n",
       "<p>891 rows × 24 columns</p>\n",
       "</div>"
      ],
      "text/plain": [
       "     survived   age  sibsp  parch     fare  adult_male  sex_female  sex_male  \\\n",
       "0           0  22.0      1      0   7.2500        True           0         1   \n",
       "1           1  38.0      1      0  71.2833       False           1         0   \n",
       "2           1  26.0      0      0   7.9250       False           1         0   \n",
       "3           1  35.0      1      0  53.1000       False           1         0   \n",
       "4           0  35.0      0      0   8.0500        True           0         1   \n",
       "..        ...   ...    ...    ...      ...         ...         ...       ...   \n",
       "886         0  27.0      0      0  13.0000        True           0         1   \n",
       "887         1  19.0      0      0  30.0000       False           1         0   \n",
       "888         0   NaN      1      2  23.4500       False           1         0   \n",
       "889         1  26.0      0      0  30.0000        True           0         1   \n",
       "890         0  32.0      0      0   7.7500        True           0         1   \n",
       "\n",
       "     embarked_C  embarked_Q  ...  who_child  who_man  who_woman  deck_A  \\\n",
       "0             0           0  ...          0        1          0       0   \n",
       "1             1           0  ...          0        0          1       0   \n",
       "2             0           0  ...          0        0          1       0   \n",
       "3             0           0  ...          0        0          1       0   \n",
       "4             0           0  ...          0        1          0       0   \n",
       "..          ...         ...  ...        ...      ...        ...     ...   \n",
       "886           0           0  ...          0        1          0       0   \n",
       "887           0           0  ...          0        0          1       0   \n",
       "888           0           0  ...          0        0          1       0   \n",
       "889           1           0  ...          0        1          0       0   \n",
       "890           0           1  ...          0        1          0       0   \n",
       "\n",
       "     deck_B  deck_C  deck_D  deck_E  deck_F  deck_G  \n",
       "0         0       0       0       0       0       0  \n",
       "1         0       1       0       0       0       0  \n",
       "2         0       0       0       0       0       0  \n",
       "3         0       1       0       0       0       0  \n",
       "4         0       0       0       0       0       0  \n",
       "..      ...     ...     ...     ...     ...     ...  \n",
       "886       0       0       0       0       0       0  \n",
       "887       1       0       0       0       0       0  \n",
       "888       0       0       0       0       0       0  \n",
       "889       0       1       0       0       0       0  \n",
       "890       0       0       0       0       0       0  \n",
       "\n",
       "[891 rows x 24 columns]"
      ]
     },
     "execution_count": 39,
     "metadata": {},
     "output_type": "execute_result"
    }
   ],
   "source": [
    "pd.get_dummies(df)"
   ]
  },
  {
   "cell_type": "code",
   "execution_count": 40,
   "metadata": {},
   "outputs": [
    {
     "name": "stdout",
     "output_type": "stream",
     "text": [
      "<class 'pandas.core.frame.DataFrame'>\n",
      "RangeIndex: 891 entries, 0 to 890\n",
      "Data columns (total 11 columns):\n",
      " #   Column      Non-Null Count  Dtype  \n",
      "---  ------      --------------  -----  \n",
      " 0   survived    891 non-null    int64  \n",
      " 1   sex         891 non-null    object \n",
      " 2   age         714 non-null    float64\n",
      " 3   sibsp       891 non-null    int64  \n",
      " 4   parch       891 non-null    int64  \n",
      " 5   fare        891 non-null    float64\n",
      " 6   embarked    889 non-null    object \n",
      " 7   class       891 non-null    object \n",
      " 8   who         891 non-null    object \n",
      " 9   adult_male  891 non-null    bool   \n",
      " 10  deck        203 non-null    object \n",
      "dtypes: bool(1), float64(2), int64(3), object(5)\n",
      "memory usage: 70.6+ KB\n"
     ]
    }
   ],
   "source": [
    "df.info()"
   ]
  },
  {
   "cell_type": "code",
   "execution_count": 41,
   "metadata": {},
   "outputs": [],
   "source": [
    "df = pd.read_csv('datasets/USA_cars_datasets.csv')"
   ]
  },
  {
   "cell_type": "code",
   "execution_count": 47,
   "metadata": {},
   "outputs": [
    {
     "name": "stdout",
     "output_type": "stream",
     "text": [
      "<class 'pandas.core.frame.DataFrame'>\n",
      "RangeIndex: 2499 entries, 0 to 2498\n",
      "Data columns (total 13 columns):\n",
      " #   Column        Non-Null Count  Dtype  \n",
      "---  ------        --------------  -----  \n",
      " 0   Unnamed: 0    2499 non-null   int64  \n",
      " 1   price         2499 non-null   int64  \n",
      " 2   brand         2499 non-null   object \n",
      " 3   model         2499 non-null   object \n",
      " 4   year          2499 non-null   int64  \n",
      " 5   title_status  2499 non-null   object \n",
      " 6   mileage       2499 non-null   float64\n",
      " 7   color         2499 non-null   object \n",
      " 8   vin           2499 non-null   object \n",
      " 9   lot           2499 non-null   int64  \n",
      " 10  state         2499 non-null   object \n",
      " 11  country       2499 non-null   object \n",
      " 12  condition     2499 non-null   object \n",
      "dtypes: float64(1), int64(4), object(8)\n",
      "memory usage: 253.9+ KB\n"
     ]
    }
   ],
   "source": [
    "df.info()"
   ]
  },
  {
   "cell_type": "code",
   "execution_count": 54,
   "metadata": {},
   "outputs": [],
   "source": [
    "from sklearn.cluster import KMeans\n",
    "from sklearn.metrics import silhouette_score"
   ]
  },
  {
   "cell_type": "code",
   "execution_count": 68,
   "metadata": {},
   "outputs": [],
   "source": [
    "df_train = df[['price', 'mileage', 'lot']]"
   ]
  },
  {
   "cell_type": "code",
   "execution_count": 89,
   "metadata": {},
   "outputs": [
    {
     "name": "stdout",
     "output_type": "stream",
     "text": [
      "[0.9826193374465318]\n"
     ]
    }
   ],
   "source": [
    "score = []\n",
    "for n in range(2, 3):\n",
    "    kmeans = KMeans(n_clusters=n)\n",
    "    kmeans.fit(df_train)\n",
    "    score.append(silhouette_score(df_train, kmeans.labels_))\n",
    "print(score)"
   ]
  },
  {
   "cell_type": "code",
   "execution_count": 84,
   "metadata": {},
   "outputs": [],
   "source": [
    "socre = np.array(score)"
   ]
  },
  {
   "cell_type": "code",
   "execution_count": 85,
   "metadata": {},
   "outputs": [
    {
     "data": {
      "text/plain": [
       "2"
      ]
     },
     "execution_count": 85,
     "metadata": {},
     "output_type": "execute_result"
    }
   ],
   "source": [
    "socre.argmax()"
   ]
  },
  {
   "cell_type": "code",
   "execution_count": 90,
   "metadata": {},
   "outputs": [
    {
     "data": {
      "text/plain": [
       "array([1, 0, 0, ..., 0, 0, 0], dtype=int32)"
      ]
     },
     "execution_count": 90,
     "metadata": {},
     "output_type": "execute_result"
    }
   ],
   "source": [
    "kmeans.labels_"
   ]
  },
  {
   "cell_type": "code",
   "execution_count": 91,
   "metadata": {},
   "outputs": [
    {
     "data": {
      "text/plain": [
       "0    2498\n",
       "1       1\n",
       "dtype: int64"
      ]
     },
     "execution_count": 91,
     "metadata": {},
     "output_type": "execute_result"
    }
   ],
   "source": [
    "pd.value_counts(kmeans.labels_)"
   ]
  },
  {
   "cell_type": "code",
   "execution_count": 72,
   "metadata": {},
   "outputs": [
    {
     "data": {
      "text/plain": [
       "0.5901190995243198"
      ]
     },
     "execution_count": 72,
     "metadata": {},
     "output_type": "execute_result"
    }
   ],
   "source": [
    "silhouette_score(df_train, kmeans.labels_)"
   ]
  },
  {
   "cell_type": "code",
   "execution_count": 1,
   "metadata": {},
   "outputs": [
    {
     "data": {
      "text/plain": [
       "(1000, 15)"
      ]
     },
     "execution_count": 1,
     "metadata": {},
     "output_type": "execute_result"
    },
    {
     "data": {
      "text/plain": [
       "<Figure size 1080x1080 with 0 Axes>"
      ]
     },
     "metadata": {},
     "output_type": "display_data"
    }
   ],
   "source": [
    "import pandas as pd\n",
    "from sklearn.model_selection import train_test_split\n",
    "\n",
    "import matplotlib.pyplot as plt\n",
    "plt.figure(figsize=(15,15))\n",
    "\n",
    "data = pd.read_csv('datasets/telephone.csv') #改成正确位置\n",
    "\n",
    "data.shape"
   ]
  },
  {
   "cell_type": "code",
   "execution_count": 7,
   "metadata": {},
   "outputs": [
    {
     "name": "stdout",
     "output_type": "stream",
     "text": [
      "Accuracy on training set: 0.783\n",
      "Accuracy on test set: 0.680\n",
      "Feature importances:\n",
      "[0.0258033  0.15811102 0.         0.04659841 0.         0.\n",
      " 0.         0.47216652 0.         0.04982716 0.07459926 0.0346877\n",
      " 0.13820663 0.        ]\n"
     ]
    }
   ],
   "source": [
    "X=data.iloc[:,0:-1]\n",
    "Y=data.iloc[:,-1:]\n",
    "X_train, X_test, y_train, y_test = train_test_split(X, Y, train_size=0.6,test_size=0.4,random_state=1253)\n",
    "\n",
    "from sklearn.tree import DecisionTreeClassifier,plot_tree,export_text\n",
    "tree = DecisionTreeClassifier(max_depth=5,min_samples_split=8,class_weight={0:1,1:3})\n",
    "tree = tree.fit(X_train, y_train)\n",
    "\n",
    "\n",
    "print(\"Accuracy on training set: {:.3f}\".format(tree.score(X_train, y_train)))\n",
    "print(\"Accuracy on test set: {:.3f}\".format(tree.score(X_test, y_test)))\n",
    "\n",
    "print(\"Feature importances:\\n{}\".format(tree.feature_importances_))"
   ]
  },
  {
   "cell_type": "code",
   "execution_count": 4,
   "metadata": {},
   "outputs": [
    {
     "data": {
      "text/plain": [
       "[Text(193.30714285714285, 199.32, 'X[7] <= 30.5\\ngini = 0.494\\nsamples = 600\\nvalue = [428, 344]'),\n",
       " Text(125.55, 163.07999999999998, 'X[12] <= 0.5\\ngini = 0.466\\nsamples = 270\\nvalue = [146, 248]'),\n",
       " Text(63.77142857142857, 126.83999999999999, 'X[7] <= 11.5\\ngini = 0.5\\nsamples = 144\\nvalue = [95, 98]'),\n",
       " Text(31.885714285714286, 90.6, 'X[0] <= 2.5\\ngini = 0.438\\nsamples = 49\\nvalue = [24, 50]'),\n",
       " Text(15.942857142857143, 54.359999999999985, 'X[3] <= 19.5\\ngini = 0.5\\nsamples = 30\\nvalue = [20, 20]'),\n",
       " Text(7.9714285714285715, 18.119999999999976, 'gini = 0.0\\nsamples = 6\\nvalue = [6, 0]'),\n",
       " Text(23.914285714285715, 18.119999999999976, 'gini = 0.484\\nsamples = 24\\nvalue = [14, 20]'),\n",
       " Text(47.82857142857143, 54.359999999999985, 'X[9] <= 1.95\\ngini = 0.208\\nsamples = 19\\nvalue = [4, 30]'),\n",
       " Text(39.85714285714286, 18.119999999999976, 'gini = 0.0\\nsamples = 1\\nvalue = [1, 0]'),\n",
       " Text(55.8, 18.119999999999976, 'gini = 0.165\\nsamples = 18\\nvalue = [3, 30]'),\n",
       " Text(95.65714285714286, 90.6, 'X[9] <= 7.825\\ngini = 0.481\\nsamples = 95\\nvalue = [71, 48]'),\n",
       " Text(79.71428571428572, 54.359999999999985, 'X[7] <= 29.5\\ngini = 0.398\\nsamples = 63\\nvalue = [53, 20]'),\n",
       " Text(71.74285714285715, 18.119999999999976, 'gini = 0.356\\nsamples = 61\\nvalue = [53, 16]'),\n",
       " Text(87.68571428571428, 18.119999999999976, 'gini = 0.0\\nsamples = 2\\nvalue = [0, 4]'),\n",
       " Text(111.6, 54.359999999999985, 'X[10] <= 22.75\\ngini = 0.476\\nsamples = 32\\nvalue = [18, 28]'),\n",
       " Text(103.62857142857143, 18.119999999999976, 'gini = 0.418\\nsamples = 24\\nvalue = [11, 26]'),\n",
       " Text(119.57142857142857, 18.119999999999976, 'gini = 0.346\\nsamples = 8\\nvalue = [7, 2]'),\n",
       " Text(187.32857142857142, 126.83999999999999, 'X[11] <= 31.825\\ngini = 0.379\\nsamples = 126\\nvalue = [51, 150]'),\n",
       " Text(159.42857142857144, 90.6, 'X[3] <= 27.5\\ngini = 0.438\\nsamples = 88\\nvalue = [43, 90]'),\n",
       " Text(143.4857142857143, 54.359999999999985, 'X[3] <= 18.5\\ngini = 0.5\\nsamples = 27\\nvalue = [18, 18]'),\n",
       " Text(135.5142857142857, 18.119999999999976, 'gini = 0.278\\nsamples = 7\\nvalue = [2, 10]'),\n",
       " Text(151.45714285714286, 18.119999999999976, 'gini = 0.444\\nsamples = 20\\nvalue = [16, 8]'),\n",
       " Text(175.37142857142857, 54.359999999999985, 'X[9] <= 10.1\\ngini = 0.383\\nsamples = 61\\nvalue = [25, 72]'),\n",
       " Text(167.4, 18.119999999999976, 'gini = 0.367\\nsamples = 59\\nvalue = [23, 72]'),\n",
       " Text(183.34285714285716, 18.119999999999976, 'gini = 0.0\\nsamples = 2\\nvalue = [2, 0]'),\n",
       " Text(215.22857142857143, 90.6, 'X[9] <= 12.325\\ngini = 0.208\\nsamples = 38\\nvalue = [8, 60]'),\n",
       " Text(207.25714285714287, 54.359999999999985, 'X[10] <= 27.75\\ngini = 0.187\\nsamples = 37\\nvalue = [7, 60]'),\n",
       " Text(199.28571428571428, 18.119999999999976, 'gini = 0.124\\nsamples = 32\\nvalue = [4, 56]'),\n",
       " Text(215.22857142857143, 18.119999999999976, 'gini = 0.49\\nsamples = 5\\nvalue = [3, 4]'),\n",
       " Text(223.2, 54.359999999999985, 'gini = 0.0\\nsamples = 1\\nvalue = [1, 0]'),\n",
       " Text(261.06428571428575, 163.07999999999998, 'X[1] <= 23.5\\ngini = 0.379\\nsamples = 330\\nvalue = [282, 96]'),\n",
       " Text(239.14285714285714, 126.83999999999999, 'X[2] <= 0.5\\ngini = 0.245\\nsamples = 8\\nvalue = [2, 12]'),\n",
       " Text(231.17142857142858, 90.6, 'gini = 0.0\\nsamples = 1\\nvalue = [1, 0]'),\n",
       " Text(247.11428571428573, 90.6, 'gini = 0.142\\nsamples = 7\\nvalue = [1, 12]'),\n",
       " Text(282.98571428571427, 126.83999999999999, 'X[12] <= 0.5\\ngini = 0.355\\nsamples = 322\\nvalue = [280, 84]'),\n",
       " Text(263.0571428571429, 90.6, 'X[1] <= 54.5\\ngini = 0.244\\nsamples = 222\\nvalue = [205, 34]'),\n",
       " Text(255.0857142857143, 54.359999999999985, 'X[3] <= 41.5\\ngini = 0.309\\nsamples = 161\\nvalue = [144, 34]'),\n",
       " Text(247.11428571428573, 18.119999999999976, 'gini = 0.432\\nsamples = 48\\nvalue = [39, 18]'),\n",
       " Text(263.0571428571429, 18.119999999999976, 'gini = 0.229\\nsamples = 113\\nvalue = [105, 16]'),\n",
       " Text(271.0285714285714, 54.359999999999985, 'gini = 0.0\\nsamples = 61\\nvalue = [61, 0]'),\n",
       " Text(302.9142857142857, 90.6, 'X[10] <= 35.25\\ngini = 0.48\\nsamples = 100\\nvalue = [75, 50]'),\n",
       " Text(286.9714285714286, 54.359999999999985, 'X[1] <= 53.5\\ngini = 0.433\\nsamples = 85\\nvalue = [69, 32]'),\n",
       " Text(279.0, 18.119999999999976, 'gini = 0.474\\nsamples = 67\\nvalue = [51, 32]'),\n",
       " Text(294.9428571428571, 18.119999999999976, 'gini = 0.0\\nsamples = 18\\nvalue = [18, 0]'),\n",
       " Text(318.8571428571429, 54.359999999999985, 'X[7] <= 43.5\\ngini = 0.375\\nsamples = 15\\nvalue = [6, 18]'),\n",
       " Text(310.8857142857143, 18.119999999999976, 'gini = 0.0\\nsamples = 3\\nvalue = [3, 0]'),\n",
       " Text(326.8285714285714, 18.119999999999976, 'gini = 0.245\\nsamples = 12\\nvalue = [3, 18]')]"
      ]
     },
     "execution_count": 4,
     "metadata": {},
     "output_type": "execute_result"
    },
    {
     "data": {
      "image/png": "[encoded data removed]",
      "text/plain": [
       "<Figure size 432x288 with 1 Axes>"
      ]
     },
     "metadata": {
      "needs_background": "light"
     },
     "output_type": "display_data"
    }
   ],
   "source": [
    "#画树\n",
    "plot_tree(tree)"
   ]
  },
  {
   "cell_type": "code",
   "execution_count": 9,
   "metadata": {},
   "outputs": [
    {
     "name": "stdout",
     "output_type": "stream",
     "text": [
      "[[206  92]\n",
      " [ 36  66]]\n",
      "              precision    recall  f1-score   support\n",
      "\n",
      "           0       0.85      0.69      0.76       298\n",
      "           1       0.42      0.65      0.51       102\n",
      "\n",
      "    accuracy                           0.68       400\n",
      "   macro avg       0.63      0.67      0.64       400\n",
      "weighted avg       0.74      0.68      0.70       400\n",
      "\n",
      "决策规则: \n",
      " |--- feature_7 <= 30.50\n",
      "|   |--- feature_12 <= 0.50\n",
      "|   |   |--- feature_7 <= 11.50\n",
      "|   |   |   |--- feature_0 <= 2.50\n",
      "|   |   |   |   |--- feature_3 <= 19.50\n",
      "|   |   |   |   |   |--- class: 0\n",
      "|   |   |   |   |--- feature_3 >  19.50\n",
      "|   |   |   |   |   |--- class: 1\n",
      "|   |   |   |--- feature_0 >  2.50\n",
      "|   |   |   |   |--- feature_1 <= 22.00\n",
      "|   |   |   |   |   |--- class: 0\n",
      "|   |   |   |   |--- feature_1 >  22.00\n",
      "|   |   |   |   |   |--- class: 1\n",
      "|   |   |--- feature_7 >  11.50\n",
      "|   |   |   |--- feature_9 <= 7.83\n",
      "|   |   |   |   |--- feature_7 <= 24.50\n",
      "|   |   |   |   |   |--- class: 0\n",
      "|   |   |   |   |--- feature_7 >  24.50\n",
      "|   |   |   |   |   |--- class: 1\n",
      "|   |   |   |--- feature_9 >  7.83\n",
      "|   |   |   |   |--- feature_10 <= 22.75\n",
      "|   |   |   |   |   |--- class: 1\n",
      "|   |   |   |   |--- feature_10 >  22.75\n",
      "|   |   |   |   |   |--- class: 0\n",
      "|   |--- feature_12 >  0.50\n",
      "|   |   |--- feature_11 <= 31.82\n",
      "|   |   |   |--- feature_11 <= 29.30\n",
      "|   |   |   |   |--- feature_7 <= 29.50\n",
      "|   |   |   |   |   |--- class: 1\n",
      "|   |   |   |   |--- feature_7 >  29.50\n",
      "|   |   |   |   |   |--- class: 0\n",
      "|   |   |   |--- feature_11 >  29.30\n",
      "|   |   |   |   |--- class: 0\n",
      "|   |   |--- feature_11 >  31.82\n",
      "|   |   |   |--- feature_9 <= 12.32\n",
      "|   |   |   |   |--- feature_10 <= 27.75\n",
      "|   |   |   |   |   |--- class: 1\n",
      "|   |   |   |   |--- feature_10 >  27.75\n",
      "|   |   |   |   |   |--- class: 1\n",
      "|   |   |   |--- feature_9 >  12.32\n",
      "|   |   |   |   |--- class: 0\n",
      "|--- feature_7 >  30.50\n",
      "|   |--- feature_12 <= 0.50\n",
      "|   |   |--- feature_1 <= 22.50\n",
      "|   |   |   |--- class: 1\n",
      "|   |   |--- feature_1 >  22.50\n",
      "|   |   |   |--- feature_1 <= 54.50\n",
      "|   |   |   |   |--- feature_3 <= 41.50\n",
      "|   |   |   |   |   |--- class: 0\n",
      "|   |   |   |   |--- feature_3 >  41.50\n",
      "|   |   |   |   |   |--- class: 0\n",
      "|   |   |   |--- feature_1 >  54.50\n",
      "|   |   |   |   |--- class: 0\n",
      "|   |--- feature_12 >  0.50\n",
      "|   |   |--- feature_10 <= 35.25\n",
      "|   |   |   |--- feature_1 <= 53.50\n",
      "|   |   |   |   |--- feature_7 <= 45.50\n",
      "|   |   |   |   |   |--- class: 1\n",
      "|   |   |   |   |--- feature_7 >  45.50\n",
      "|   |   |   |   |   |--- class: 0\n",
      "|   |   |   |--- feature_1 >  53.50\n",
      "|   |   |   |   |--- class: 0\n",
      "|   |   |--- feature_10 >  35.25\n",
      "|   |   |   |--- feature_7 <= 43.50\n",
      "|   |   |   |   |--- class: 0\n",
      "|   |   |   |--- feature_7 >  43.50\n",
      "|   |   |   |   |--- feature_10 <= 64.88\n",
      "|   |   |   |   |   |--- class: 1\n",
      "|   |   |   |   |--- feature_10 >  64.88\n",
      "|   |   |   |   |   |--- class: 0\n",
      "\n"
     ]
    }
   ],
   "source": [
    "#输出变量重要性\n",
    "import numpy as np\n",
    "data.columns[np.argsort(tree.feature_importances_)[::-1]]\n",
    "\n",
    "plt.rcParams[\"font.sans-serif\"] = [\"SimHei\"] #这行和下一行是解决图形标签无法显示中文的问题\n",
    "plt.rcParams['axes.unicode_minus'] = False\n",
    "\n",
    "#画重要性排序图\n",
    "#plt.figure()\n",
    "#plt.barh(data.columns[np.argsort(tree.feature_importances_)],list(sorted(tree.feature_importances_)),height=0.6)\n",
    "\n",
    "from sklearn.metrics import classification_report,confusion_matrix\n",
    "\n",
    "predictY = tree.predict(X_test)\n",
    "print(confusion_matrix(y_test,predictY))\n",
    "print(classification_report(y_test,predictY))\n",
    "\n",
    "print('决策规则: \\n',export_text(tree))"
   ]
  }
 ],
 "metadata": {
  "kernelspec": {
   "display_name": "Python 3",
   "language": "python",
   "name": "python3"
  },
  "language_info": {
   "codemirror_mode": {
    "name": "ipython",
    "version": 3
   },
   "file_extension": ".py",
   "mimetype": "text/x-python",
   "name": "python",
   "nbconvert_exporter": "python",
   "pygments_lexer": "ipython3",
   "version": "3.6.9"
  },
  "toc": {
   "base_numbering": 1,
   "nav_menu": {},
   "number_sections": true,
   "sideBar": true,
   "skip_h1_title": false,
   "title_cell": "Table of Contents",
   "title_sidebar": "Contents",
   "toc_cell": false,
   "toc_position": {},
   "toc_section_display": true,
   "toc_window_display": true
  },
  "varInspector": {
   "cols": {
    "lenName": 16,
    "lenType": 16,
    "lenVar": 40
   },
   "kernels_config": {
    "python": {
     "delete_cmd_postfix": "",
     "delete_cmd_prefix": "del ",
     "library": "var_list.py",
     "varRefreshCmd": "print(var_dic_list())"
    },
    "r": {
     "delete_cmd_postfix": ") ",
     "delete_cmd_prefix": "rm(",
     "library": "var_list.r",
     "varRefreshCmd": "cat(var_dic_list()) "
    }
   },
   "types_to_exclude": [
    "module",
    "function",
    "builtin_function_or_method",
    "instance",
    "_Feature"
   ],
   "window_display": false
  }
 },
 "nbformat": 4,
 "nbformat_minor": 4
}
