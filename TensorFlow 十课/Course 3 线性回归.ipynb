{
 "cells": [
  {
   "cell_type": "code",
   "execution_count": 1,
   "metadata": {},
   "outputs": [],
   "source": [
    "import tensorflow as tf\n",
    "import numpy as np\n",
    "import matplotlib.pyplot as plt"
   ]
  },
  {
   "cell_type": "code",
   "execution_count": 2,
   "metadata": {},
   "outputs": [],
   "source": [
    "#使用numpy生产200个线性的随机点\n",
    "x_data = np.linspace(1,100,200)[:,np.newaxis]\n",
    "#print(x_data,x_data.shape)\n",
    "noise = np.random.normal(0,0.02,x_data.shape)\n",
    "y_data = np.square(x_data) + noise"
   ]
  },
  {
   "cell_type": "code",
   "execution_count": 3,
   "metadata": {},
   "outputs": [],
   "source": [
    "#定义两个placeholder\n",
    "x = tf.placeholder(tf.float32,[None,1])\n",
    "y = tf.placeholder(tf.float32,[None,1])"
   ]
  },
  {
   "cell_type": "code",
   "execution_count": 4,
   "metadata": {},
   "outputs": [
    {
     "data": {
      "text/plain": [
       "'tf.global_variables_initializer()\\nwith tf.Session() as sess:\\n    print(sess.run([Weights_L1,Bias_L1]))'"
      ]
     },
     "execution_count": 4,
     "metadata": {},
     "output_type": "execute_result"
    }
   ],
   "source": [
    "#定义神经网络中间层\n",
    "Weights_L1 = tf.Variable(tf.random_normal([1,10]))\n",
    "Bias_L1 = tf.Variable(tf.random_normal([1,10]))\n",
    "Wx_plus_b_L1 = tf.matmul(x,Weights_L1)+Bias_L1 #注意矩阵乘法的前后顺序\n",
    "L1 = tf.nn.tanh(Wx_plus_b_L1)\n",
    "'''tf.global_variables_initializer()\n",
    "with tf.Session() as sess:\n",
    "    print(sess.run([Weights_L1,Bias_L1]))'''"
   ]
  },
  {
   "cell_type": "code",
   "execution_count": 5,
   "metadata": {},
   "outputs": [],
   "source": [
    "#定义神经网络输出层\n",
    "Weights_L2 = tf.Variable(tf.random_normal([10,1]))\n",
    "Bias_L2 = tf.Variable(tf.random_normal([1,1]))\n",
    "Wx_plus_b_L2 = tf.matmul(L1, Weights_L2) + Bias_L2 #注意矩阵乘法的前后顺序\n",
    "prediction = tf.nn.tanh(Wx_plus_b_L2)"
   ]
  },
  {
   "cell_type": "code",
   "execution_count": 6,
   "metadata": {},
   "outputs": [
    {
     "name": "stdout",
     "output_type": "stream",
     "text": [
      "20345104.0\n",
      "20345104.0\n",
      "20345104.0\n",
      "20345104.0\n",
      "20345104.0\n"
     ]
    },
    {
     "data": {
      "image/png": "[encoded data removed]",
      "text/plain": [
       "<matplotlib.figure.Figure at 0x7ff93154b2b0>"
      ]
     },
     "metadata": {},
     "output_type": "display_data"
    }
   ],
   "source": [
    "#定义损失函数\n",
    "loss = tf.reduce_mean(tf.square(y - prediction))\n",
    "tran_step =  tf.train.GradientDescentOptimizer(0.03).minimize(loss)\n",
    "with tf.Session() as sess:\n",
    "    sess.run(tf.global_variables_initializer())\n",
    "    for i in range(2000):\n",
    "        sess.run(tran_step, feed_dict = {x:x_data, y:y_data})\n",
    "        if i%400 == 0:\n",
    "            print(sess.run(loss, feed_dict={x:x_data, y:y_data}))\n",
    "    #获得预测值\n",
    "    prediction_value = sess.run(prediction, feed_dict={x:x_data})\n",
    "    plt.figure()\n",
    "    plt.scatter(x_data,y_data)\n",
    "    plt.plot(x_data,prediction_value,'b',lw=5)\n",
    "    plt.show()"
   ]
  },
  {
   "cell_type": "code",
   "execution_count": null,
   "metadata": {},
   "outputs": [],
   "source": [
    "            "
   ]
  }
 ],
 "metadata": {
  "kernelspec": {
   "display_name": "Python 3",
   "language": "python",
   "name": "python3"
  },
  "language_info": {
   "codemirror_mode": {
    "name": "ipython",
    "version": 3
   },
   "file_extension": ".py",
   "mimetype": "text/x-python",
   "name": "python",
   "nbconvert_exporter": "python",
   "pygments_lexer": "ipython3",
   "version": "3.6.8"
  }
 },
 "nbformat": 4,
 "nbformat_minor": 2
}
