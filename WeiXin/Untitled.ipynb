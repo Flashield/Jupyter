{
 "cells": [
  {
   "cell_type": "code",
   "execution_count": 2,
   "metadata": {},
   "outputs": [],
   "source": [
    "import time\n",
    "from urllib import request\n",
    "import json\n",
    "import urllib"
   ]
  },
  {
   "cell_type": "code",
   "execution_count": 8,
   "metadata": {},
   "outputs": [],
   "source": [
    "appid = 'wx52d8b7b32451e895'\n",
    "appsec = 'fb9eeaf21b92ceed9b8200c44fabea6d'\n",
    "token_live = int(time.time()-10)\n",
    "access_token = '12_zuM4ZFWy141NJA71ff4nbH_dnSKvClJPa2LZFGy7Hhw4UD_vLznUuWgTSiANVtuNittoZkOCAdSNVZUbJOJG1yws5pb7rd4QFqyzg3ZDQGTzgYPL1bazdqTqAgW5AmEgpa3oLNan1euuZT6VWHTfACASDP'"
   ]
  },
  {
   "cell_type": "code",
   "execution_count": 9,
   "metadata": {},
   "outputs": [],
   "source": [
    "url = 'https://api.weixin.qq.com/cgi-bin/token?grant_type=client_credential&appid={}&secret={}'.format(appid,appsec)\n",
    "url1 = 'https://api.weixin.qq.com/cgi-bin/menu/create?access_token={}'.format(access_token)"
   ]
  },
  {
   "cell_type": "code",
   "execution_count": 11,
   "metadata": {},
   "outputs": [
    {
     "name": "stdout",
     "output_type": "stream",
     "text": [
      "https://api.weixin.qq.com/cgi-bin/menu/create?access_token=12_zuM4ZFWy141NJA71ff4nbH_dnSKvClJPa2LZFGy7Hhw4UD_vLznUuWgTSiANVtuNittoZkOCAdSNVZUbJOJG1yws5pb7rd4QFqyzg3ZDQGTzgYPL1bazdqTqAgW5AmEgpa3oLNan1euuZT6VWHTfACASDP\n"
     ]
    }
   ],
   "source": [
    "print(url1)"
   ]
  },
  {
   "cell_type": "code",
   "execution_count": 14,
   "metadata": {},
   "outputs": [],
   "source": [
    "opener = urllib.request.build_opener()"
   ]
  },
  {
   "cell_type": "code",
   "execution_count": 20,
   "metadata": {},
   "outputs": [
    {
     "name": "stdout",
     "output_type": "stream",
     "text": [
      "{\"errcode\":48001,\"errmsg\":\"api unauthorized hint: [p9fe9a0154vr60!]\"}\n"
     ]
    }
   ],
   "source": [
    "request = opener.open(url1,b)\n",
    "get_rlt = request.read().decode(encoding='UTF8',errors='ignore')\n",
    "print(get_rlt)"
   ]
  },
  {
   "cell_type": "code",
   "execution_count": 16,
   "metadata": {},
   "outputs": [
    {
     "ename": "SyntaxError",
     "evalue": "bytes can only contain ASCII literal characters. (<ipython-input-16-7f332f94180a>, line 29)",
     "output_type": "error",
     "traceback": [
      "\u001b[0;36m  File \u001b[0;32m\"<ipython-input-16-7f332f94180a>\"\u001b[0;36m, line \u001b[0;32m29\u001b[0m\n\u001b[0;31m    }'''\u001b[0m\n\u001b[0m       ^\u001b[0m\n\u001b[0;31mSyntaxError\u001b[0m\u001b[0;31m:\u001b[0m bytes can only contain ASCII literal characters.\n"
     ]
    }
   ],
   "source": [
    "a='''{\n",
    "     \"button\":[\n",
    "     {    \n",
    "          \"type\":\"click\",\n",
    "          \"name\":\"今日歌曲\",\n",
    "          \"key\":\"V1001_TODAY_MUSIC\"\n",
    "      },\n",
    "      {\n",
    "           \"name\":\"菜单\",\n",
    "           \"sub_button\":[\n",
    "           {    \n",
    "               \"type\":\"view\",\n",
    "               \"name\":\"搜索\",\n",
    "               \"url\":\"http://www.soso.com/\"\n",
    "            },\n",
    "            {\n",
    "                 \"type\":\"miniprogram\",\n",
    "                 \"name\":\"wxa\",\n",
    "                 \"url\":\"http://mp.weixin.qq.com\",\n",
    "                 \"appid\":\"wx286b93c14bbf93aa\",\n",
    "                 \"pagepath\":\"pages/lunar/index\"\n",
    "             },\n",
    "            {\n",
    "               \"type\":\"click\",\n",
    "               \"name\":\"赞一下我们\",\n",
    "               \"key\":\"V1001_GOOD\"\n",
    "            }]\n",
    "       }]\n",
    " }'''"
   ]
  },
  {
   "cell_type": "code",
   "execution_count": 17,
   "metadata": {},
   "outputs": [],
   "source": [
    "b = a.encode(encoding='UTF8')"
   ]
  },
  {
   "cell_type": "code",
   "execution_count": 21,
   "metadata": {},
   "outputs": [
    {
     "name": "stdout",
     "output_type": "stream",
     "text": [
      "{'button': [{'key': 'V1001_TODAY_MUSIC', 'name': '今日歌曲', 'type': 'click'}, {'sub_button': [{'url': 'http://www.soso.com/', 'name': '搜索', 'type': 'view'}, {'pagepath': 'pages/lunar/index', 'url': 'http://mp.weixin.qq.com', 'appid': 'wx286b93c14bbf93aa', 'name': 'wxa', 'type': 'miniprogram'}, {'key': 'V1001_GOOD', 'name': '赞一下我们', 'type': 'click'}], 'name': '菜单'}]}\n"
     ]
    }
   ],
   "source": [
    "print(json.loads(a))"
   ]
  },
  {
   "cell_type": "code",
   "execution_count": 23,
   "metadata": {},
   "outputs": [],
   "source": [
    "a=dict()"
   ]
  },
  {
   "cell_type": "code",
   "execution_count": 25,
   "metadata": {},
   "outputs": [],
   "source": [
    "a['h']='g'"
   ]
  },
  {
   "cell_type": "code",
   "execution_count": 42,
   "metadata": {},
   "outputs": [],
   "source": [
    "a='ab'"
   ]
  },
  {
   "cell_type": "code",
   "execution_count": 43,
   "metadata": {},
   "outputs": [
    {
     "name": "stdout",
     "output_type": "stream",
     "text": [
      "a\n"
     ]
    }
   ],
   "source": [
    "print(a[0:-1])"
   ]
  },
  {
   "cell_type": "code",
   "execution_count": 2,
   "metadata": {},
   "outputs": [],
   "source": [
    "import cx_Oracle"
   ]
  },
  {
   "cell_type": "code",
   "execution_count": 14,
   "metadata": {},
   "outputs": [],
   "source": [
    "def sms_msg(wx_get_msg):\n",
    "    dbconn=cx_Oracle.connect('NTTask','NTTask','ESXVM0504')\n",
    "    dbcur = dbconn.cursor()\n",
    "    proc_data = 'Message from Weixin:{}'.format(wx_get_msg)\n",
    "    dbcur.callproc('Weixin_Msg',[proc_data,])\n",
    "    dbcur.close()\n",
    "    dbconn.close()"
   ]
  },
  {
   "cell_type": "code",
   "execution_count": 1,
   "metadata": {},
   "outputs": [],
   "source": [
    "a = {'access_token': '24.d150b67eb48f2646328f8fc2d7f6f4e4.2592000.1595225782.282335-11705762', 'live_time': 1595222182}"
   ]
  },
  {
   "cell_type": "code",
   "execution_count": 3,
   "metadata": {},
   "outputs": [
    {
     "data": {
      "text/plain": [
       "'{\"access_token\": \"24.d150b67eb48f2646328f8fc2d7f6f4e4.2592000.1595225782.282335-11705762\", \"live_time\": 1595222182}'"
      ]
     },
     "execution_count": 3,
     "metadata": {},
     "output_type": "execute_result"
    }
   ],
   "source": [
    "json.dumps(a)"
   ]
  }
 ],
 "metadata": {
  "kernelspec": {
   "display_name": "Python 3",
   "language": "python",
   "name": "python3"
  },
  "language_info": {
   "codemirror_mode": {
    "name": "ipython",
    "version": 3
   },
   "file_extension": ".py",
   "mimetype": "text/x-python",
   "name": "python",
   "nbconvert_exporter": "python",
   "pygments_lexer": "ipython3",
   "version": "3.6.9"
  },
  "toc": {
   "base_numbering": 1,
   "nav_menu": {},
   "number_sections": true,
   "sideBar": true,
   "skip_h1_title": false,
   "title_cell": "Table of Contents",
   "title_sidebar": "Contents",
   "toc_cell": false,
   "toc_position": {},
   "toc_section_display": true,
   "toc_window_display": false
  },
  "varInspector": {
   "cols": {
    "lenName": 16,
    "lenType": 16,
    "lenVar": 40
   },
   "kernels_config": {
    "python": {
     "delete_cmd_postfix": "",
     "delete_cmd_prefix": "del ",
     "library": "var_list.py",
     "varRefreshCmd": "print(var_dic_list())"
    },
    "r": {
     "delete_cmd_postfix": ") ",
     "delete_cmd_prefix": "rm(",
     "library": "var_list.r",
     "varRefreshCmd": "cat(var_dic_list()) "
    }
   },
   "types_to_exclude": [
    "module",
    "function",
    "builtin_function_or_method",
    "instance",
    "_Feature"
   ],
   "window_display": false
  }
 },
 "nbformat": 4,
 "nbformat_minor": 2
}
