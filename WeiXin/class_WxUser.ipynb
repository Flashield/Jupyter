{
 "cells": [
  {
   "cell_type": "code",
   "execution_count": 100,
   "metadata": {},
   "outputs": [],
   "source": [
    "import time\n",
    "import random\n",
    "\n",
    "class WxUser():\n",
    "    \"\"\"微信用户\"\"\"\n",
    "    def __init__(self, user_id):\n",
    "        self.menu = []\n",
    "        self.user_id = user_id\n",
    "        self.act_time = int(time.time())\n",
    "        self.answer = ''\n",
    "        self.correct_cnt = 0\n",
    "        \n",
    "    def game_calc(self, game_input):\n",
    "        \"\"\"运算游戏\"\"\"\n",
    "        \n",
    "        max_num = 9 * int(self.correct_cnt/3+1)\n",
    "        num_1 = random.randint(1,max_num)\n",
    "        num_2 = random.randint(1,max_num)\n",
    "        if game_input == 'b':\n",
    "            self.rep_text = '{} + {} = ?'.format(num_1, num_2)\n",
    "            self.answer = num_1 + num_2\n",
    "        elif game_input.isdigit() and self.answer:\n",
    "            if int(float(game_input)) == float(game_input) and int(float(game_input)) == self.answer:\n",
    "                self.rep_text = 'Correct! \\nNext:\\t {} + {} = ?'.format(num_1,num_2)\n",
    "                self.answer = num_1 + num_2\n",
    "                self.correct_cnt += 1\n",
    "            else:\n",
    "                self.rep_text = 'Wrong, correct answer is {}! \\nNext:\\t {} + {} = ?'.format(self.answer,num_1,num_2)\n",
    "                self.answer = num_1 + num_2\n",
    "                self.correct_cnt = 0\n",
    "        elif game_input == 'q':\n",
    "            self.menu.pop()\n",
    "            self.rep_text = 'You have quited the game!'\n",
    "        else:\n",
    "            self.rep_text = 'Please input the correct command!'\n",
    "        return self.rep_text\n",
    "    "
   ]
  },
  {
   "cell_type": "code",
   "execution_count": 101,
   "metadata": {},
   "outputs": [],
   "source": [
    "user_id = 'hfdkaiufdsakjf'\n",
    "wx_user = WxUser(user_id)\n",
    "wx_users[user_id] = wx_user"
   ]
  },
  {
   "cell_type": "code",
   "execution_count": 111,
   "metadata": {},
   "outputs": [
    {
     "name": "stdout",
     "output_type": "stream",
     "text": [
      "Correct! \n",
      "Next:\t 8 + 8 = ?\n"
     ]
    }
   ],
   "source": [
    "print(wx_users[user_id].game_calc('52'))"
   ]
  },
  {
   "cell_type": "code",
   "execution_count": 81,
   "metadata": {},
   "outputs": [],
   "source": [
    "game=''"
   ]
  },
  {
   "cell_type": "code",
   "execution_count": 82,
   "metadata": {},
   "outputs": [],
   "source": [
    "game = 5"
   ]
  },
  {
   "cell_type": "code",
   "execution_count": 9,
   "metadata": {},
   "outputs": [],
   "source": [
    "user.add(test_user)"
   ]
  },
  {
   "cell_type": "code",
   "execution_count": 10,
   "metadata": {},
   "outputs": [],
   "source": [
    "import time"
   ]
  },
  {
   "cell_type": "code",
   "execution_count": 12,
   "metadata": {},
   "outputs": [
    {
     "data": {
      "text/plain": [
       "1580904657.1906087"
      ]
     },
     "execution_count": 12,
     "metadata": {},
     "output_type": "execute_result"
    }
   ],
   "source": [
    "time.time()"
   ]
  },
  {
   "cell_type": "code",
   "execution_count": 21,
   "metadata": {},
   "outputs": [],
   "source": [
    "user['53213213']=test_user"
   ]
  },
  {
   "cell_type": "code",
   "execution_count": 24,
   "metadata": {},
   "outputs": [
    {
     "data": {
      "text/plain": [
       "1580904718"
      ]
     },
     "execution_count": 24,
     "metadata": {},
     "output_type": "execute_result"
    }
   ],
   "source": [
    "user['53213213'].act_time"
   ]
  },
  {
   "cell_type": "code",
   "execution_count": 25,
   "metadata": {},
   "outputs": [],
   "source": [
    "k='53213213'"
   ]
  },
  {
   "cell_type": "code",
   "execution_count": 26,
   "metadata": {},
   "outputs": [
    {
     "data": {
      "text/plain": [
       "'53213213'"
      ]
     },
     "execution_count": 26,
     "metadata": {},
     "output_type": "execute_result"
    }
   ],
   "source": [
    "user[k].user_id"
   ]
  },
  {
   "cell_type": "code",
   "execution_count": 31,
   "metadata": {},
   "outputs": [],
   "source": [
    "user_id = 'hfdkaiufdsakjf'"
   ]
  },
  {
   "cell_type": "code",
   "execution_count": 32,
   "metadata": {},
   "outputs": [],
   "source": [
    "wx_user = WxUser(user_id)\n",
    "wx_users[user_id] = wx_user"
   ]
  },
  {
   "cell_type": "code",
   "execution_count": 33,
   "metadata": {},
   "outputs": [
    {
     "data": {
      "text/plain": [
       "{'Sjfldsjalfdj': <__main__.WxUser at 0x7f348b771c18>,\n",
       " 'hfdkaiufdsakjf': <__main__.WxUser at 0x7f348b771eb8>}"
      ]
     },
     "execution_count": 33,
     "metadata": {},
     "output_type": "execute_result"
    }
   ],
   "source": [
    "wx_users"
   ]
  },
  {
   "cell_type": "code",
   "execution_count": 52,
   "metadata": {},
   "outputs": [
    {
     "ename": "AttributeError",
     "evalue": "'WxUser' object has no attribute 'game_calc'",
     "output_type": "error",
     "traceback": [
      "\u001b[0;31m---------------------------------------------------------------------------\u001b[0m",
      "\u001b[0;31mAttributeError\u001b[0m                            Traceback (most recent call last)",
      "\u001b[0;32m<ipython-input-52-1a5cfe2ebf5f>\u001b[0m in \u001b[0;36m<module>\u001b[0;34m()\u001b[0m\n\u001b[0;32m----> 1\u001b[0;31m \u001b[0mwx_users\u001b[0m\u001b[0;34m[\u001b[0m\u001b[0;34m'Sjfldsjalfdj'\u001b[0m\u001b[0;34m]\u001b[0m\u001b[0;34m.\u001b[0m\u001b[0mgame_calc\u001b[0m\u001b[0;34m(\u001b[0m\u001b[0;34m)\u001b[0m\u001b[0;34m\u001b[0m\u001b[0;34m\u001b[0m\u001b[0m\n\u001b[0m",
      "\u001b[0;31mAttributeError\u001b[0m: 'WxUser' object has no attribute 'game_calc'"
     ]
    }
   ],
   "source": [
    "wx_users['Sjfldsjalfdj'].game_calc()"
   ]
  },
  {
   "cell_type": "code",
   "execution_count": 35,
   "metadata": {},
   "outputs": [
    {
     "data": {
      "text/plain": [
       "1580906144"
      ]
     },
     "execution_count": 35,
     "metadata": {},
     "output_type": "execute_result"
    }
   ],
   "source": [
    "wx_users['hfdkaiufdsakjf'].act_time"
   ]
  },
  {
   "cell_type": "code",
   "execution_count": 41,
   "metadata": {},
   "outputs": [],
   "source": [
    "wx_users['hfdkaiufdsakjf'].menu.append(8)"
   ]
  },
  {
   "cell_type": "code",
   "execution_count": 42,
   "metadata": {},
   "outputs": [
    {
     "data": {
      "text/plain": [
       "[4, 8]"
      ]
     },
     "execution_count": 42,
     "metadata": {},
     "output_type": "execute_result"
    }
   ],
   "source": [
    "wx_users['hfdkaiufdsakjf'].menu"
   ]
  },
  {
   "cell_type": "code",
   "execution_count": 49,
   "metadata": {},
   "outputs": [
    {
     "data": {
      "text/plain": [
       "True"
      ]
     },
     "execution_count": 49,
     "metadata": {},
     "output_type": "execute_result"
    }
   ],
   "source": [
    "'Sjfldsjaldj' not in  wx_users.keys()"
   ]
  },
  {
   "cell_type": "code",
   "execution_count": 44,
   "metadata": {},
   "outputs": [
    {
     "data": {
      "text/plain": [
       "8"
      ]
     },
     "execution_count": 44,
     "metadata": {},
     "output_type": "execute_result"
    }
   ],
   "source": [
    "a.pop()"
   ]
  },
  {
   "cell_type": "code",
   "execution_count": 45,
   "metadata": {},
   "outputs": [
    {
     "data": {
      "text/plain": [
       "[4]"
      ]
     },
     "execution_count": 45,
     "metadata": {},
     "output_type": "execute_result"
    }
   ],
   "source": []
  },
  {
   "cell_type": "code",
   "execution_count": null,
   "metadata": {},
   "outputs": [],
   "source": []
  }
 ],
 "metadata": {
  "kernelspec": {
   "display_name": "Python 3",
   "language": "python",
   "name": "python3"
  },
  "language_info": {
   "codemirror_mode": {
    "name": "ipython",
    "version": 3
   },
   "file_extension": ".py",
   "mimetype": "text/x-python",
   "name": "python",
   "nbconvert_exporter": "python",
   "pygments_lexer": "ipython3",
   "version": "3.6.9"
  }
 },
 "nbformat": 4,
 "nbformat_minor": 2
}
