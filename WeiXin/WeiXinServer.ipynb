{
 "cells": [
  {
   "cell_type": "code",
   "execution_count": null,
   "metadata": {},
   "outputs": [
    {
     "name": "stderr",
     "output_type": "stream",
     "text": [
      " * Running on http://0.0.0.0:9999/ (Press CTRL+C to quit)\n"
     ]
    },
    {
     "name": "stdout",
     "output_type": "stream",
     "text": [
      "data from Weixin:b'<xml><ToUserName><![CDATA[gh_730770a41cd7]]></ToUserName>\\n<FromUserName><![CDATA[o9IEI1c3I7kafdiTK5RrQUTYXpYg]]></FromUserName>\\n<CreateTime>1577426978</CreateTime>\\n<MsgType><![CDATA[text]]></MsgType>\\n<Content><![CDATA[test]]></Content>\\n<MsgId>22583322227880903</MsgId>\\n</xml>'\n"
     ]
    },
    {
     "name": "stderr",
     "output_type": "stream",
     "text": [
      "168.235.99.33 - - [27/Dec/2019 14:09:40] \"\u001b[37mPOST /wx?signature=6eba0b3e0b2f80b29ac27758a14034b2e34f4b44&timestamp=1577426978&nonce=848814230&openid=o9IEI1c3I7kafdiTK5RrQUTYXpYg HTTP/1.0\u001b[0m\" 200 -\n"
     ]
    },
    {
     "name": "stdout",
     "output_type": "stream",
     "text": [
      "send_msg:{'MsgType': 'text', 'Content': '测试', 'FromUserName': 'gh_730770a41cd7', 'ToUserName': 'o9IEI1c3I7kafdiTK5RrQUTYXpYg'}\n",
      "datas:<xml>\n",
      "        <FromUserName>gh_730770a41cd7</FromUserName>\n",
      "        <ToUserName>o9IEI1c3I7kafdiTK5RrQUTYXpYg</ToUserName>\n",
      "        <CreateTime>1577426980</CreateTime>\n",
      "        <MsgType>text</MsgType>\n",
      "        <Content>测试</Content>\n",
      "        </xml>\n",
      "28_LGKDg7GLfUjE3iRjGHw6s4SvOfKUisIFqlXrlg99x1wSWuTVFhNzb17eoERLwCfR4pi_jReHxRqudavXr5dr9Ki-jJ8ejxjN4gV2q1fMuQdeBrJ7ziPpha_8WqDqqTACzKqv6OAHIZgojSn2NRQcABAVZY 1577434120\n"
     ]
    }
   ],
   "source": [
    "# coding:utf-8\n",
    "from hashlib import sha1\n",
    "from flask import Flask, request\n",
    "import time\n",
    "import urllib.request\n",
    "import json\n",
    "import wxfunc\n",
    "\n",
    "token = 'Flashield'\n",
    "appid = 'wx52d8b7b32451e895'\n",
    "appsec = 'fb9eeaf21b92ceed9b8200c44fabea6d'\n",
    "AccessToken = {'access_token': '12_46y9bFrNQlGBfJV1XkYMrrIc_Ab55sB0KZaYngky7dnUIZsx_40b50HSwzJry-ii7yvpaYWVgoF9Pnd_oT6V6EOJcUt1nFRiPbCpUJD1UibSVUaUftHDm80Tksjw2lhRoTMgCaLUEQH6k4vQDHPgAFALPX', 'live_time': 1534768234}\n",
    "\n",
    "app = Flask(__name__)\n",
    "\n",
    "def get_token(appid,appsec):\n",
    "    url = 'https://api.weixin.qq.com/cgi-bin/token?grant_type=client_credential&appid={}&secret={}'.format(appid,appsec)    \n",
    "    if int(AccessToken['live_time']) < int(time.time()):\n",
    "        opener = urllib.request.build_opener()\n",
    "        request = opener.open(url)\n",
    "        get_acc_token = request.read().decode(encoding='UTF8',errors='ignore')\n",
    "        AccessToken['access_token'] = json.loads(get_acc_token)['access_token']\n",
    "        AccessToken['live_time'] = int(time.time())+json.loads(get_acc_token)['expires_in']-60\n",
    "    print(AccessToken['access_token'],AccessToken['live_time'])\n",
    "    return AccessToken['access_token']\n",
    "\n",
    "def get_update(token, timestamp, nonce):\n",
    "    arguments = ''\n",
    "    for k in sorted([token, timestamp, nonce]):\n",
    "        arguments = arguments + str(k)\n",
    "    m = sha1()\n",
    "    m.update(arguments.encode('utf8'))\n",
    "    return m.hexdigest()\n",
    "\n",
    "def check_signature():\n",
    "    signature = request.args.get('signature', '')\n",
    "    timestamp = request.args.get('timestamp', '')\n",
    "    nonce = request.args.get('nonce', '')\n",
    "    print(signature)\n",
    "    check = get_update(token, timestamp, nonce)\n",
    "    return True if check == signature else False\n",
    "\n",
    "@app.route('/wx', methods=['GET', 'POST'])\n",
    "def weixinInterface():\n",
    "    if check_signature:\n",
    "        if request.method == 'GET':\n",
    "            echostr = request.args.get('echostr', '')\n",
    "            return echostr\n",
    "        elif request.method == 'POST':\n",
    "            data = request.data\n",
    "            print(\"data from Weixin:{}\".format(data))\n",
    "            wxfunc.sms_msg(data)\n",
    "            msg = wxfunc.parse_xml(data)\n",
    "            get_token(appid,appsec)\n",
    "        return msg\n",
    "    else:\n",
    "        return 'signature error'\n",
    "    \n",
    "@app.route('/')\n",
    "def index():\n",
    "    return \"\"\n",
    "\n",
    "if __name__ == '__main__':\n",
    "    app.run(host='0.0.0.0',port=9999)"
   ]
  },
  {
   "cell_type": "code",
   "execution_count": null,
   "metadata": {},
   "outputs": [],
   "source": []
  }
 ],
 "metadata": {
  "kernelspec": {
   "display_name": "Python 3",
   "language": "python",
   "name": "python3"
  },
  "language_info": {
   "codemirror_mode": {
    "name": "ipython",
    "version": 3
   },
   "file_extension": ".py",
   "mimetype": "text/x-python",
   "name": "python",
   "nbconvert_exporter": "python",
   "pygments_lexer": "ipython3",
   "version": "3.6.9"
  }
 },
 "nbformat": 4,
 "nbformat_minor": 2
}
