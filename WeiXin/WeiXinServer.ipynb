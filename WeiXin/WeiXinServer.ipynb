{
 "cells": [
  {
   "cell_type": "code",
   "execution_count": null,
   "metadata": {},
   "outputs": [
    {
     "name": "stdout",
     "output_type": "stream",
     "text": [
      " * Serving Flask app \"__main__\" (lazy loading)\n",
      " * Environment: production\n",
      "\u001b[31m   WARNING: This is a development server. Do not use it in a production deployment.\u001b[0m\n",
      "\u001b[2m   Use a production WSGI server instead.\u001b[0m\n",
      " * Debug mode: off\n"
     ]
    },
    {
     "name": "stderr",
     "output_type": "stream",
     "text": [
      " * Running on http://0.0.0.0:9999/ (Press CTRL+C to quit)\n"
     ]
    },
    {
     "name": "stdout",
     "output_type": "stream",
     "text": [
      "data from Weixin:b'<xml><ToUserName><![CDATA[gh_730770a41cd7]]></ToUserName>\\n<FromUserName><![CDATA[o9IEI1c3I7kafdiTK5RrQUTYXpYg]]></FromUserName>\\n<CreateTime>1593417219</CreateTime>\\n<MsgType><![CDATA[image]]></MsgType>\\n<PicUrl><![CDATA[http://mmbiz.qpic.cn/mmbiz_jpg/eLeIX511CwbAmH0gys8YRtnCI4wmNDGKibSXI9gnS9PM3PlyAdtNXCaDW1cIG7AAAI0kWv27hqdl8d4Bx2FuxDg/0]]></PicUrl>\\n<MsgId>22812249269603492</MsgId>\\n<MediaId><![CDATA[aCHy9wP0RWc_I2nbbkgHBBQNM9_tIKyd1GGpFJAHRSoHJlaE52pDe6k1Jz4sSMmT]]></MediaId>\\n</xml>'\n"
     ]
    },
    {
     "name": "stderr",
     "output_type": "stream",
     "text": [
      "168.235.99.33 - - [29/Jun/2020 15:53:42] \"\u001b[37mPOST /wx?signature=3c118be289ae53c9948f5a3249a8076c66b12162&timestamp=1593417220&nonce=1159151019&openid=o9IEI1c3I7kafdiTK5RrQUTYXpYg HTTP/1.0\u001b[0m\" 200 -\n"
     ]
    },
    {
     "name": "stdout",
     "output_type": "stream",
     "text": [
      "send_msg:{'FromUserName': 'gh_730770a41cd7', 'ToUserName': 'o9IEI1c3I7kafdiTK5RrQUTYXpYg', 'MsgType': 'text', 'Content': '待办需求基本信息- Internet Explorer\\n②ht0395210 dit, do? method=audit&=20102602020219t\\n待办需求-基本信息\\n*市场需求:零星取数\\n需求小类:其他\\n提单人联系电话:13813745798\\n需求名称:关于高考号卡数据分析\\n提交时间:2020-\\n2020-06-23\\n需求背\\n开卡支局\\n元、开卡当月是否通信,开卡次月是否\\n*需求囗径\\n余额,本月是否通\\n详细\\n号码、开卡时间、开卡支局、开卡单元、开卡当月是否j\\n*需求结果字段:\\n余额,本月是否通信\\n详细\\n房号\\n附件名称\\n高考预配号码xlsx\\n需求工单历史记录(点击我展示或者隐蔺)\\n处理时间\\n处理意见\\n王晓红工单发起已处理\\n2020-06-2309:17;41\\n请领导审批。\\n2020-06-2309:22:45\\n庄彬集中运组审\\n06-2310:05:16\\n同意。\\n庄彬业务支撑中心未处理\\n会工单处理\\n●提交○驳回C结单\\n瑞玥开发组(需习\\n○宋志强○蒋晶晶○厥硕区○马锋湘\\n○季求波\\n口径关联\\n'}\n",
      "datas:<xml>\n",
      "        <FromUserName>gh_730770a41cd7</FromUserName>\n",
      "        <ToUserName>o9IEI1c3I7kafdiTK5RrQUTYXpYg</ToUserName>\n",
      "        <CreateTime>1593417222</CreateTime>\n",
      "        <MsgType>text</MsgType>\n",
      "        <Content>待办需求基本信息- Internet Explorer\n",
      "②ht0395210 dit, do? method=audit&=20102602020219t\n",
      "待办需求-基本信息\n",
      "*市场需求:零星取数\n",
      "需求小类:其他\n",
      "提单人联系电话:13813745798\n",
      "需求名称:关于高考号卡数据分析\n",
      "提交时间:2020-\n",
      "2020-06-23\n",
      "需求背\n",
      "开卡支局\n",
      "元、开卡当月是否通信,开卡次月是否\n",
      "*需求囗径\n",
      "余额,本月是否通\n",
      "详细\n",
      "号码、开卡时间、开卡支局、开卡单元、开卡当月是否j\n",
      "*需求结果字段:\n",
      "余额,本月是否通信\n",
      "详细\n",
      "房号\n",
      "附件名称\n",
      "高考预配号码xlsx\n",
      "需求工单历史记录(点击我展示或者隐蔺)\n",
      "处理时间\n",
      "处理意见\n",
      "王晓红工单发起已处理\n",
      "2020-06-2309:17;41\n",
      "请领导审批。\n",
      "2020-06-2309:22:45\n",
      "庄彬集中运组审\n",
      "06-2310:05:16\n",
      "同意。\n",
      "庄彬业务支撑中心未处理\n",
      "会工单处理\n",
      "●提交○驳回C结单\n",
      "瑞玥开发组(需习\n",
      "○宋志强○蒋晶晶○厥硕区○马锋湘\n",
      "○季求波\n",
      "口径关联\n",
      "</Content>\n",
      "        </xml>\n",
      "34_7L2Gegb47c65XRmIJNh66Jx3COpoUM9tWU7DS6HbfZp-a8k6lsCJMGm7Sr27rrRzHJmbRTOAourmD-zTLBJ7jR06eDY74V5Qn7Efc1w1botKYyttAYgvI-j14mHRtY9WkPRdyFl--2zsbPUtEUKjAAAJZP 1593424362\n"
     ]
    }
   ],
   "source": [
    "# coding:utf-8\n",
    "from hashlib import sha1\n",
    "from flask import Flask, request\n",
    "import time\n",
    "import urllib.request\n",
    "import json\n",
    "import wxfunc\n",
    "\n",
    "token = 'Flashield'\n",
    "appid = 'wx52d8b7b32451e895'\n",
    "appsec = 'fb9eeaf21b92ceed9b8200c44fabea6d'\n",
    "AccessToken = {'access_token': '12_46y9bFrNQlGBfJV1XkYMrrIc_Ab55sB0KZaYngky7dnUIZsx_40b50HSwzJry-ii7yvpaYWVgoF9Pnd_oT6V6EOJcUt1nFRiPbCpUJD1UibSVUaUftHDm80Tksjw2lhRoTMgCaLUEQH6k4vQDHPgAFALPX', 'live_time': 1534768234}\n",
    "\n",
    "app = Flask(__name__)\n",
    "\n",
    "def get_token(appid,appsec):\n",
    "    url = 'https://api.weixin.qq.com/cgi-bin/token?grant_type=client_credential&appid={}&secret={}'.format(appid,appsec)    \n",
    "    if int(AccessToken['live_time']) < int(time.time()):\n",
    "        opener = urllib.request.build_opener()\n",
    "        request = opener.open(url)\n",
    "        get_acc_token = request.read().decode(encoding='UTF8',errors='ignore')\n",
    "        AccessToken['access_token'] = json.loads(get_acc_token)['access_token']\n",
    "        AccessToken['live_time'] = int(time.time())+json.loads(get_acc_token)['expires_in']-60\n",
    "    print(AccessToken['access_token'],AccessToken['live_time'])\n",
    "    return AccessToken['access_token']\n",
    "\n",
    "def get_update(token, timestamp, nonce):\n",
    "    arguments = ''\n",
    "    for k in sorted([token, timestamp, nonce]):\n",
    "        arguments = arguments + str(k)\n",
    "    m = sha1()\n",
    "    m.update(arguments.encode('utf8'))\n",
    "    return m.hexdigest()\n",
    "\n",
    "def check_signature():\n",
    "    signature = request.args.get('signature', '')\n",
    "    timestamp = request.args.get('timestamp', '')\n",
    "    nonce = request.args.get('nonce', '')\n",
    "    print(signature)\n",
    "    check = get_update(token, timestamp, nonce)\n",
    "    return True if check == signature else False\n",
    "\n",
    "@app.route('/wx', methods=['GET', 'POST'])\n",
    "def weixinInterface():\n",
    "    if check_signature:\n",
    "        if request.method == 'GET':\n",
    "            echostr = request.args.get('echostr', '')\n",
    "            return echostr\n",
    "        elif request.method == 'POST':\n",
    "            data = request.data\n",
    "            print(\"data from Weixin:{}\".format(data))\n",
    "            wxfunc.sms_msg(data)\n",
    "            msg = wxfunc.parse_xml(data)\n",
    "            get_token(appid,appsec)\n",
    "        return msg\n",
    "    else:\n",
    "        return 'signature error'\n",
    "    \n",
    "@app.route('/')\n",
    "def index():\n",
    "    return \"\"\n",
    "\n",
    "if __name__ == '__main__':\n",
    "    app.run(host='0.0.0.0',port=9999)"
   ]
  }
 ],
 "metadata": {
  "kernelspec": {
   "display_name": "Python 3",
   "language": "python",
   "name": "python3"
  },
  "language_info": {
   "codemirror_mode": {
    "name": "ipython",
    "version": 3
   },
   "file_extension": ".py",
   "mimetype": "text/x-python",
   "name": "python",
   "nbconvert_exporter": "python",
   "pygments_lexer": "ipython3",
   "version": "3.6.9"
  },
  "toc": {
   "base_numbering": 1,
   "nav_menu": {},
   "number_sections": true,
   "sideBar": true,
   "skip_h1_title": false,
   "title_cell": "Table of Contents",
   "title_sidebar": "Contents",
   "toc_cell": false,
   "toc_position": {},
   "toc_section_display": true,
   "toc_window_display": false
  },
  "varInspector": {
   "cols": {
    "lenName": 16,
    "lenType": 16,
    "lenVar": 40
   },
   "kernels_config": {
    "python": {
     "delete_cmd_postfix": "",
     "delete_cmd_prefix": "del ",
     "library": "var_list.py",
     "varRefreshCmd": "print(var_dic_list())"
    },
    "r": {
     "delete_cmd_postfix": ") ",
     "delete_cmd_prefix": "rm(",
     "library": "var_list.r",
     "varRefreshCmd": "cat(var_dic_list()) "
    }
   },
   "types_to_exclude": [
    "module",
    "function",
    "builtin_function_or_method",
    "instance",
    "_Feature"
   ],
   "window_display": false
  }
 },
 "nbformat": 4,
 "nbformat_minor": 2
}
