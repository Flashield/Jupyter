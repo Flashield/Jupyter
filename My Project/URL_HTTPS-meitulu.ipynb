{
 "cells": [
  {
   "cell_type": "code",
   "execution_count": 1,
   "metadata": {
    "pycharm": {
     "is_executing": false
    }
   },
   "outputs": [],
   "source": [
    "import urllib\n",
    "import urllib.request\n",
    "import http\n",
    "import http.cookiejar\n",
    "import os\n",
    "\n",
    "from bs4 import BeautifulSoup\n",
    "import lxml\n",
    "\n",
    "import MySQLdb"
   ]
  },
  {
   "cell_type": "code",
   "execution_count": 2,
   "metadata": {},
   "outputs": [],
   "source": [
    "html_url = \"https://www.meitulu.com/item/{}.html\"\n",
    "pic_url = \"https://mtl.gzhuibei.com/images/img/{}/{}.jpg\""
   ]
  },
  {
   "cell_type": "code",
   "execution_count": 13,
   "metadata": {},
   "outputs": [],
   "source": [
    "opener = urllib.request.build_opener()\n",
    "#添加headers\n",
    "headers = [('Referer',html_url),\\\n",
    "           ('Accept-Language','en,zh-CN;q=0.8,zh;q=0.6,en-US;q=0.4'),\\\n",
    "           ('Cache-Control','max-age=0'),\\\n",
    "           ('Content-Type','application/x-www-form-urlencoded'),\\\n",
    "           ('Origin',html_url),\\\n",
    "           ('Connection','keep-alive'),\\\n",
    "           ('User-Agent','Mozilla/5.0 (Windows NT 5.2) AppleWebKit/537.36 (KHTML, like Gecko) Chrome/49.0.2623.112 Safari/537.36'),\\\n",
    "           ('Accept','text/html,application/xhtml+xml,application/xml;q=0.9,image/webp,*/*;q=0.8')]\n",
    "opener.addheaders = headers"
   ]
  },
  {
   "cell_type": "code",
   "execution_count": 3,
   "metadata": {},
   "outputs": [],
   "source": [
    "## /html/body/div[2]/div[2]/p[2]\n",
    "def get_gallery(gallery_num):\n",
    "    try:\n",
    "        print(html_url.format(gallery_num))\n",
    "        dict_gallery_properties = {'gallery_num':gallery_num,'gallery_model':\"\", 'gallery_vol':\"\", 'gallery_pic_num':\"\", 'gallery_producer':\"\", \n",
    "                           'gallery_resolution':\"\", 'gallery_title':\"\", 'gallery_remark':[], 'gallery_date':\"\", 'gallery_raw':\"\"}\n",
    "        print(dict_gallery_properties)\n",
    "        request = opener.open(html_url.format(gallery_num), timeout=60)\n",
    "        request_read = request.read()\n",
    "        #print(request_read.decode(encoding='UTF8',errors='ignore'))\n",
    "        html_soup = BeautifulSoup(request_read)\n",
    "        gallery_title = html_soup.title.text\n",
    "        dict_gallery_properties[\"gallery_title\"] = gallery_title[:-4].replace(\"/\",\"\")\n",
    "        \n",
    "        gallery_properties = html_soup.html.body.find_all(class_=\"c_l\")[0].find_all(\"p\")\n",
    "        dict_gallery_properties['gallery_raw'] = str(gallery_properties)\n",
    "\n",
    "        #dict_gallery_properties = \n",
    "        get_gallery_properties(gallery_properties, dict_gallery_properties)\n",
    "        print(dict_gallery_properties)\n",
    "        try:\n",
    "            add_database_gallery(dict_gallery_properties)\n",
    "            get_download(dict_gallery_properties)\n",
    "        except Exception as e:\n",
    "            print(e)\n",
    "            update_crawl_end_time(dict_gallery_properties, str(e))\n",
    "    except Exception as e:\n",
    "        print(str(e))\n",
    "        add_database_gallery(dict_gallery_properties)\n",
    "        update_crawl_end_time(dict_gallery_properties, str(e))"
   ]
  },
  {
   "cell_type": "code",
   "execution_count": 5,
   "metadata": {},
   "outputs": [],
   "source": [
    "def get_gallery_properties(gallery_properties, dict_gallery_properties):\n",
    "    \"\"\"分析图册属性\"\"\"\n",
    "    for i in gallery_properties:\n",
    "        print(i.text)\n",
    "        if i.text.split(\"：\")[0] == \"发行机构\":\n",
    "            dict_gallery_properties[\"gallery_producer\"] = i.text.split(\"：\")[1].strip()\n",
    "        elif i.text.split(\"：\")[0] == \"期刊编号\":\n",
    "            dict_gallery_properties[\"gallery_vol\"] = i.text.split(\"：\")[1].strip()\n",
    "        elif i.text.split(\"：\")[0] == \"图片数量\":\n",
    "            dict_gallery_properties[\"gallery_pic_num\"] = int(i.text.split(\"：\")[1].replace(\"张\",\"\").strip())\n",
    "        elif i.text.split(\"：\")[0] == \"分 辨 率\":\n",
    "            dict_gallery_properties[\"gallery_resolution\"] = i.text.split(\"：\")[1].strip()\n",
    "        elif i.text.split(\"：\")[0] == \"模特姓名\":\n",
    "            dict_gallery_properties[\"gallery_model\"] = i.text.split(\"：\")[1].strip()\n",
    "        elif i.text.split(\"：\")[0] == \"发行时间\":\n",
    "            dict_gallery_properties[\"gallery_date\"] = i.text.split(\"：\")[1].strip()\n",
    "        else:\n",
    "            dict_gallery_properties[\"gallery_remark\"].append(i.text)\n",
    "    #print(dict_gallery_properties)\n",
    "    #return dict_gallery_properties"
   ]
  },
  {
   "cell_type": "code",
   "execution_count": 11,
   "metadata": {},
   "outputs": [],
   "source": [
    "def get_download(dict_gallery_properties):\n",
    "    \"\"\"下载图册\"\"\"\n",
    "    \n",
    "    # 生成下载脚本\n",
    "    with open('{}_{}.sh'.format(dict_gallery_properties['gallery_num'],dict_gallery_properties[\"gallery_model\"]), \"w\") as f:\n",
    "        f.write('mkdir \"{}_{}\" \\n'.format(dict_gallery_properties['gallery_num'],dict_gallery_properties[\"gallery_title\"]))\n",
    "        f.write('cd \"{}_{}\" \\n'.format(dict_gallery_properties['gallery_num'],dict_gallery_properties[\"gallery_title\"]))\n",
    "        for i in range(dict_gallery_properties[\"gallery_pic_num\"]):\n",
    "            f.write('wget {} -O \"{}_{}_{}.jpg\" -a ../log/{}_{}.log \\n'.\n",
    "                    format(pic_url.format(dict_gallery_properties['gallery_num'],i+1),dict_gallery_properties['gallery_num'],\n",
    "                           dict_gallery_properties[\"gallery_model\"],i+1,dict_gallery_properties['gallery_num'],\n",
    "                           dict_gallery_properties[\"gallery_model\"]))\n",
    "            #print('wget {} -O \"{}_{}_{}.jpg\"'.format(pic_url.format(gallery_num,i+1),gallery_num,dict_gallery_properties[\"gallery_model\"],i+1))\n",
    "    \n",
    "    update_crawl_start_time(dict_gallery_properties)        \n",
    "    #os.system('sh \"{}_{}.sh\"'.format(gallery_num,dict_gallery_properties[\"gallery_model\"]))\n",
    "    update_crawl_end_time(dict_gallery_properties, '1')\n",
    "    "
   ]
  },
  {
   "cell_type": "code",
   "execution_count": 7,
   "metadata": {},
   "outputs": [],
   "source": [
    "def add_database_gallery(dict_gallery_properties):\n",
    "    \"\"\"将图库信息插入数据库\"\"\"\n",
    "    spider_db = MySQLdb.connect(\"nfs.flashield.com\", \"NTTask\", \"NTTask123!@#\", \"NTTask\", charset='utf8' )\n",
    "\n",
    "    spider_cursor = spider_db.cursor()\n",
    "\n",
    "    sql_stmt = \"\"\"INSERT into t_meitulu_spider(gallery_num, gallery_title, gallery_producer, gallery_vol, \n",
    "    gallery_pic_num, gallery_resolution, gallery_model, gallery_date, gallery_remark, gallery_raw,get_date)\n",
    "    VALUES(%s,%s,%s,%s,%s,%s,%s,%s,%s,%s,SYSDATE())\"\"\"\n",
    "\n",
    "    spider_cursor.execute(sql_stmt, (dict_gallery_properties['gallery_num'], dict_gallery_properties['gallery_title'], \n",
    "                                     dict_gallery_properties['gallery_producer'],dict_gallery_properties['gallery_vol'],\n",
    "                                     dict_gallery_properties['gallery_pic_num'], dict_gallery_properties['gallery_resolution'], \n",
    "                                     dict_gallery_properties['gallery_model'], dict_gallery_properties['gallery_date'], \n",
    "                                     str(dict_gallery_properties['gallery_remark']), dict_gallery_properties['gallery_raw']))\n",
    "\n",
    "    spider_db.commit()\n",
    "    spider_cursor.close()\n",
    "    spider_db.close()"
   ]
  },
  {
   "cell_type": "code",
   "execution_count": 8,
   "metadata": {},
   "outputs": [],
   "source": [
    "def update_crawl_start_time(dict_gallery_properties):\n",
    "    \"\"\"爬虫抓取时间入数据库\"\"\"\n",
    "    spider_db = MySQLdb.connect(\"nfs.flashield.com\", \"NTTask\", \"NTTask123!@#\", \"NTTask\", charset='utf8' )\n",
    "\n",
    "    spider_cursor = spider_db.cursor()\n",
    "\n",
    "    sql_stmt = \"\"\"UPDATE t_meitulu_spider a set a.crawl_start_date = SYSDATE()\n",
    "    WHERE a.gallery_num = %s and a.gallery_model = %s\"\"\"\n",
    "\n",
    "    spider_cursor.execute(sql_stmt, (dict_gallery_properties['gallery_num'], dict_gallery_properties['gallery_model']))\n",
    "\n",
    "    spider_db.commit()\n",
    "    spider_cursor.close()\n",
    "    spider_db.close()"
   ]
  },
  {
   "cell_type": "code",
   "execution_count": 9,
   "metadata": {},
   "outputs": [],
   "source": [
    "def update_crawl_end_time(dict_gallery_properties, spider_status):\n",
    "    \"\"\"爬虫抓取状态入数据库\"\"\"\n",
    "    spider_db = MySQLdb.connect(\"nfs.flashield.com\", \"NTTask\", \"NTTask123!@#\", \"NTTask\", charset='utf8' )\n",
    "\n",
    "    spider_cursor = spider_db.cursor()\n",
    "\n",
    "    sql_stmt = \"\"\"UPDATE t_meitulu_spider a set a.crawl_end_date = SYSDATE(), a.crawl_status = %s \n",
    "    WHERE a.gallery_num = %s and a.gallery_model = %s\"\"\"\n",
    "\n",
    "    spider_cursor.execute(sql_stmt, (spider_status, dict_gallery_properties['gallery_num'], dict_gallery_properties['gallery_model']))\n",
    "\n",
    "    spider_db.commit()\n",
    "    spider_cursor.close()\n",
    "    spider_db.close()"
   ]
  },
  {
   "cell_type": "code",
   "execution_count": 10,
   "metadata": {},
   "outputs": [
    {
     "name": "stdout",
     "output_type": "stream",
     "text": [
      "https://www.meitulu.com/item/1.html\n",
      "{'gallery_num': 1, 'gallery_model': '', 'gallery_vol': '', 'gallery_pic_num': '', 'gallery_producer': '', 'gallery_resolution': '', 'gallery_title': '', 'gallery_remark': [], 'gallery_date': '', 'gallery_raw': ''}\n",
      "1\n",
      "HTTP Error 404: Not Found\n",
      "2\n",
      "3\n",
      "4\n"
     ]
    }
   ],
   "source": [
    "get_gallery(1)"
   ]
  },
  {
   "cell_type": "code",
   "execution_count": null,
   "metadata": {},
   "outputs": [],
   "source": []
  },
  {
   "cell_type": "code",
   "execution_count": 7,
   "metadata": {},
   "outputs": [],
   "source": [
    "html_url = \"https://www.meitulu.com/item/{}.html\".replace(\"/\",\"\").replace(\"\\\\\",\"\")"
   ]
  },
  {
   "cell_type": "code",
   "execution_count": 5,
   "metadata": {},
   "outputs": [
    {
     "data": {
      "text/plain": [
       "'https:www.meitulu.comitem{}.html'"
      ]
     },
     "execution_count": 5,
     "metadata": {},
     "output_type": "execute_result"
    }
   ],
   "source": [
    "html_url"
   ]
  },
  {
   "cell_type": "code",
   "execution_count": 20,
   "metadata": {},
   "outputs": [
    {
     "ename": "URLError",
     "evalue": "<urlopen error timed out>",
     "output_type": "error",
     "traceback": [
      "\u001b[0;31m---------------------------------------------------------------------------\u001b[0m",
      "\u001b[0;31mtimeout\u001b[0m                                   Traceback (most recent call last)",
      "\u001b[0;32m/usr/lib/python3.6/urllib/request.py\u001b[0m in \u001b[0;36mdo_open\u001b[0;34m(self, http_class, req, **http_conn_args)\u001b[0m\n\u001b[1;32m   1317\u001b[0m                 h.request(req.get_method(), req.selector, req.data, headers,\n\u001b[0;32m-> 1318\u001b[0;31m                           encode_chunked=req.has_header('Transfer-encoding'))\n\u001b[0m\u001b[1;32m   1319\u001b[0m             \u001b[0;32mexcept\u001b[0m \u001b[0mOSError\u001b[0m \u001b[0;32mas\u001b[0m \u001b[0merr\u001b[0m\u001b[0;34m:\u001b[0m \u001b[0;31m# timeout error\u001b[0m\u001b[0;34m\u001b[0m\u001b[0;34m\u001b[0m\u001b[0m\n",
      "\u001b[0;32m/usr/lib/python3.6/http/client.py\u001b[0m in \u001b[0;36mrequest\u001b[0;34m(self, method, url, body, headers, encode_chunked)\u001b[0m\n\u001b[1;32m   1253\u001b[0m         \u001b[0;34m\"\"\"Send a complete request to the server.\"\"\"\u001b[0m\u001b[0;34m\u001b[0m\u001b[0;34m\u001b[0m\u001b[0m\n\u001b[0;32m-> 1254\u001b[0;31m         \u001b[0mself\u001b[0m\u001b[0;34m.\u001b[0m\u001b[0m_send_request\u001b[0m\u001b[0;34m(\u001b[0m\u001b[0mmethod\u001b[0m\u001b[0;34m,\u001b[0m \u001b[0murl\u001b[0m\u001b[0;34m,\u001b[0m \u001b[0mbody\u001b[0m\u001b[0;34m,\u001b[0m \u001b[0mheaders\u001b[0m\u001b[0;34m,\u001b[0m \u001b[0mencode_chunked\u001b[0m\u001b[0;34m)\u001b[0m\u001b[0;34m\u001b[0m\u001b[0;34m\u001b[0m\u001b[0m\n\u001b[0m\u001b[1;32m   1255\u001b[0m \u001b[0;34m\u001b[0m\u001b[0m\n",
      "\u001b[0;32m/usr/lib/python3.6/http/client.py\u001b[0m in \u001b[0;36m_send_request\u001b[0;34m(self, method, url, body, headers, encode_chunked)\u001b[0m\n\u001b[1;32m   1299\u001b[0m             \u001b[0mbody\u001b[0m \u001b[0;34m=\u001b[0m \u001b[0m_encode\u001b[0m\u001b[0;34m(\u001b[0m\u001b[0mbody\u001b[0m\u001b[0;34m,\u001b[0m \u001b[0;34m'body'\u001b[0m\u001b[0;34m)\u001b[0m\u001b[0;34m\u001b[0m\u001b[0;34m\u001b[0m\u001b[0m\n\u001b[0;32m-> 1300\u001b[0;31m         \u001b[0mself\u001b[0m\u001b[0;34m.\u001b[0m\u001b[0mendheaders\u001b[0m\u001b[0;34m(\u001b[0m\u001b[0mbody\u001b[0m\u001b[0;34m,\u001b[0m \u001b[0mencode_chunked\u001b[0m\u001b[0;34m=\u001b[0m\u001b[0mencode_chunked\u001b[0m\u001b[0;34m)\u001b[0m\u001b[0;34m\u001b[0m\u001b[0;34m\u001b[0m\u001b[0m\n\u001b[0m\u001b[1;32m   1301\u001b[0m \u001b[0;34m\u001b[0m\u001b[0m\n",
      "\u001b[0;32m/usr/lib/python3.6/http/client.py\u001b[0m in \u001b[0;36mendheaders\u001b[0;34m(self, message_body, encode_chunked)\u001b[0m\n\u001b[1;32m   1248\u001b[0m             \u001b[0;32mraise\u001b[0m \u001b[0mCannotSendHeader\u001b[0m\u001b[0;34m(\u001b[0m\u001b[0;34m)\u001b[0m\u001b[0;34m\u001b[0m\u001b[0;34m\u001b[0m\u001b[0m\n\u001b[0;32m-> 1249\u001b[0;31m         \u001b[0mself\u001b[0m\u001b[0;34m.\u001b[0m\u001b[0m_send_output\u001b[0m\u001b[0;34m(\u001b[0m\u001b[0mmessage_body\u001b[0m\u001b[0;34m,\u001b[0m \u001b[0mencode_chunked\u001b[0m\u001b[0;34m=\u001b[0m\u001b[0mencode_chunked\u001b[0m\u001b[0;34m)\u001b[0m\u001b[0;34m\u001b[0m\u001b[0;34m\u001b[0m\u001b[0m\n\u001b[0m\u001b[1;32m   1250\u001b[0m \u001b[0;34m\u001b[0m\u001b[0m\n",
      "\u001b[0;32m/usr/lib/python3.6/http/client.py\u001b[0m in \u001b[0;36m_send_output\u001b[0;34m(self, message_body, encode_chunked)\u001b[0m\n\u001b[1;32m   1035\u001b[0m         \u001b[0;32mdel\u001b[0m \u001b[0mself\u001b[0m\u001b[0;34m.\u001b[0m\u001b[0m_buffer\u001b[0m\u001b[0;34m[\u001b[0m\u001b[0;34m:\u001b[0m\u001b[0;34m]\u001b[0m\u001b[0;34m\u001b[0m\u001b[0;34m\u001b[0m\u001b[0m\n\u001b[0;32m-> 1036\u001b[0;31m         \u001b[0mself\u001b[0m\u001b[0;34m.\u001b[0m\u001b[0msend\u001b[0m\u001b[0;34m(\u001b[0m\u001b[0mmsg\u001b[0m\u001b[0;34m)\u001b[0m\u001b[0;34m\u001b[0m\u001b[0;34m\u001b[0m\u001b[0m\n\u001b[0m\u001b[1;32m   1037\u001b[0m \u001b[0;34m\u001b[0m\u001b[0m\n",
      "\u001b[0;32m/usr/lib/python3.6/http/client.py\u001b[0m in \u001b[0;36msend\u001b[0;34m(self, data)\u001b[0m\n\u001b[1;32m    973\u001b[0m             \u001b[0;32mif\u001b[0m \u001b[0mself\u001b[0m\u001b[0;34m.\u001b[0m\u001b[0mauto_open\u001b[0m\u001b[0;34m:\u001b[0m\u001b[0;34m\u001b[0m\u001b[0;34m\u001b[0m\u001b[0m\n\u001b[0;32m--> 974\u001b[0;31m                 \u001b[0mself\u001b[0m\u001b[0;34m.\u001b[0m\u001b[0mconnect\u001b[0m\u001b[0;34m(\u001b[0m\u001b[0;34m)\u001b[0m\u001b[0;34m\u001b[0m\u001b[0;34m\u001b[0m\u001b[0m\n\u001b[0m\u001b[1;32m    975\u001b[0m             \u001b[0;32melse\u001b[0m\u001b[0;34m:\u001b[0m\u001b[0;34m\u001b[0m\u001b[0;34m\u001b[0m\u001b[0m\n",
      "\u001b[0;32m/usr/lib/python3.6/http/client.py\u001b[0m in \u001b[0;36mconnect\u001b[0;34m(self)\u001b[0m\n\u001b[1;32m   1406\u001b[0m \u001b[0;34m\u001b[0m\u001b[0m\n\u001b[0;32m-> 1407\u001b[0;31m             \u001b[0msuper\u001b[0m\u001b[0;34m(\u001b[0m\u001b[0;34m)\u001b[0m\u001b[0;34m.\u001b[0m\u001b[0mconnect\u001b[0m\u001b[0;34m(\u001b[0m\u001b[0;34m)\u001b[0m\u001b[0;34m\u001b[0m\u001b[0;34m\u001b[0m\u001b[0m\n\u001b[0m\u001b[1;32m   1408\u001b[0m \u001b[0;34m\u001b[0m\u001b[0m\n",
      "\u001b[0;32m/usr/lib/python3.6/http/client.py\u001b[0m in \u001b[0;36mconnect\u001b[0;34m(self)\u001b[0m\n\u001b[1;32m    945\u001b[0m         self.sock = self._create_connection(\n\u001b[0;32m--> 946\u001b[0;31m             (self.host,self.port), self.timeout, self.source_address)\n\u001b[0m\u001b[1;32m    947\u001b[0m         \u001b[0mself\u001b[0m\u001b[0;34m.\u001b[0m\u001b[0msock\u001b[0m\u001b[0;34m.\u001b[0m\u001b[0msetsockopt\u001b[0m\u001b[0;34m(\u001b[0m\u001b[0msocket\u001b[0m\u001b[0;34m.\u001b[0m\u001b[0mIPPROTO_TCP\u001b[0m\u001b[0;34m,\u001b[0m \u001b[0msocket\u001b[0m\u001b[0;34m.\u001b[0m\u001b[0mTCP_NODELAY\u001b[0m\u001b[0;34m,\u001b[0m \u001b[0;36m1\u001b[0m\u001b[0;34m)\u001b[0m\u001b[0;34m\u001b[0m\u001b[0;34m\u001b[0m\u001b[0m\n",
      "\u001b[0;32m/usr/lib/python3.6/socket.py\u001b[0m in \u001b[0;36mcreate_connection\u001b[0;34m(address, timeout, source_address)\u001b[0m\n\u001b[1;32m    723\u001b[0m     \u001b[0;32mif\u001b[0m \u001b[0merr\u001b[0m \u001b[0;32mis\u001b[0m \u001b[0;32mnot\u001b[0m \u001b[0;32mNone\u001b[0m\u001b[0;34m:\u001b[0m\u001b[0;34m\u001b[0m\u001b[0;34m\u001b[0m\u001b[0m\n\u001b[0;32m--> 724\u001b[0;31m         \u001b[0;32mraise\u001b[0m \u001b[0merr\u001b[0m\u001b[0;34m\u001b[0m\u001b[0;34m\u001b[0m\u001b[0m\n\u001b[0m\u001b[1;32m    725\u001b[0m     \u001b[0;32melse\u001b[0m\u001b[0;34m:\u001b[0m\u001b[0;34m\u001b[0m\u001b[0;34m\u001b[0m\u001b[0m\n",
      "\u001b[0;32m/usr/lib/python3.6/socket.py\u001b[0m in \u001b[0;36mcreate_connection\u001b[0;34m(address, timeout, source_address)\u001b[0m\n\u001b[1;32m    712\u001b[0m                 \u001b[0msock\u001b[0m\u001b[0;34m.\u001b[0m\u001b[0mbind\u001b[0m\u001b[0;34m(\u001b[0m\u001b[0msource_address\u001b[0m\u001b[0;34m)\u001b[0m\u001b[0;34m\u001b[0m\u001b[0;34m\u001b[0m\u001b[0m\n\u001b[0;32m--> 713\u001b[0;31m             \u001b[0msock\u001b[0m\u001b[0;34m.\u001b[0m\u001b[0mconnect\u001b[0m\u001b[0;34m(\u001b[0m\u001b[0msa\u001b[0m\u001b[0;34m)\u001b[0m\u001b[0;34m\u001b[0m\u001b[0;34m\u001b[0m\u001b[0m\n\u001b[0m\u001b[1;32m    714\u001b[0m             \u001b[0;31m# Break explicitly a reference cycle\u001b[0m\u001b[0;34m\u001b[0m\u001b[0;34m\u001b[0m\u001b[0;34m\u001b[0m\u001b[0m\n",
      "\u001b[0;31mtimeout\u001b[0m: timed out",
      "\nDuring handling of the above exception, another exception occurred:\n",
      "\u001b[0;31mURLError\u001b[0m                                  Traceback (most recent call last)",
      "\u001b[0;32m<ipython-input-20-19ded028d004>\u001b[0m in \u001b[0;36m<module>\u001b[0;34m()\u001b[0m\n\u001b[0;32m----> 1\u001b[0;31m \u001b[0mrequest\u001b[0m \u001b[0;34m=\u001b[0m \u001b[0mopener\u001b[0m\u001b[0;34m.\u001b[0m\u001b[0mopen\u001b[0m\u001b[0;34m(\u001b[0m\u001b[0mhtml_url\u001b[0m\u001b[0;34m.\u001b[0m\u001b[0mformat\u001b[0m\u001b[0;34m(\u001b[0m\u001b[0;36m3\u001b[0m\u001b[0;34m)\u001b[0m\u001b[0;34m,\u001b[0m \u001b[0mtimeout\u001b[0m\u001b[0;34m=\u001b[0m\u001b[0;36m1\u001b[0m\u001b[0;34m)\u001b[0m\u001b[0;34m\u001b[0m\u001b[0;34m\u001b[0m\u001b[0m\n\u001b[0m\u001b[1;32m      2\u001b[0m \u001b[0mrequest_read\u001b[0m \u001b[0;34m=\u001b[0m \u001b[0mrequest\u001b[0m\u001b[0;34m.\u001b[0m\u001b[0mread\u001b[0m\u001b[0;34m(\u001b[0m\u001b[0;34m)\u001b[0m\u001b[0;34m\u001b[0m\u001b[0;34m\u001b[0m\u001b[0m\n\u001b[1;32m      3\u001b[0m \u001b[0mprint\u001b[0m\u001b[0;34m(\u001b[0m\u001b[0mrequest_read\u001b[0m\u001b[0;34m.\u001b[0m\u001b[0mdecode\u001b[0m\u001b[0;34m(\u001b[0m\u001b[0mencoding\u001b[0m\u001b[0;34m=\u001b[0m\u001b[0;34m'UTF8'\u001b[0m\u001b[0;34m,\u001b[0m\u001b[0merrors\u001b[0m\u001b[0;34m=\u001b[0m\u001b[0;34m'ignore'\u001b[0m\u001b[0;34m)\u001b[0m\u001b[0;34m)\u001b[0m\u001b[0;34m\u001b[0m\u001b[0;34m\u001b[0m\u001b[0m\n",
      "\u001b[0;32m/usr/lib/python3.6/urllib/request.py\u001b[0m in \u001b[0;36mopen\u001b[0;34m(self, fullurl, data, timeout)\u001b[0m\n\u001b[1;32m    524\u001b[0m             \u001b[0mreq\u001b[0m \u001b[0;34m=\u001b[0m \u001b[0mmeth\u001b[0m\u001b[0;34m(\u001b[0m\u001b[0mreq\u001b[0m\u001b[0;34m)\u001b[0m\u001b[0;34m\u001b[0m\u001b[0;34m\u001b[0m\u001b[0m\n\u001b[1;32m    525\u001b[0m \u001b[0;34m\u001b[0m\u001b[0m\n\u001b[0;32m--> 526\u001b[0;31m         \u001b[0mresponse\u001b[0m \u001b[0;34m=\u001b[0m \u001b[0mself\u001b[0m\u001b[0;34m.\u001b[0m\u001b[0m_open\u001b[0m\u001b[0;34m(\u001b[0m\u001b[0mreq\u001b[0m\u001b[0;34m,\u001b[0m \u001b[0mdata\u001b[0m\u001b[0;34m)\u001b[0m\u001b[0;34m\u001b[0m\u001b[0;34m\u001b[0m\u001b[0m\n\u001b[0m\u001b[1;32m    527\u001b[0m \u001b[0;34m\u001b[0m\u001b[0m\n\u001b[1;32m    528\u001b[0m         \u001b[0;31m# post-process response\u001b[0m\u001b[0;34m\u001b[0m\u001b[0;34m\u001b[0m\u001b[0;34m\u001b[0m\u001b[0m\n",
      "\u001b[0;32m/usr/lib/python3.6/urllib/request.py\u001b[0m in \u001b[0;36m_open\u001b[0;34m(self, req, data)\u001b[0m\n\u001b[1;32m    542\u001b[0m         \u001b[0mprotocol\u001b[0m \u001b[0;34m=\u001b[0m \u001b[0mreq\u001b[0m\u001b[0;34m.\u001b[0m\u001b[0mtype\u001b[0m\u001b[0;34m\u001b[0m\u001b[0;34m\u001b[0m\u001b[0m\n\u001b[1;32m    543\u001b[0m         result = self._call_chain(self.handle_open, protocol, protocol +\n\u001b[0;32m--> 544\u001b[0;31m                                   '_open', req)\n\u001b[0m\u001b[1;32m    545\u001b[0m         \u001b[0;32mif\u001b[0m \u001b[0mresult\u001b[0m\u001b[0;34m:\u001b[0m\u001b[0;34m\u001b[0m\u001b[0;34m\u001b[0m\u001b[0m\n\u001b[1;32m    546\u001b[0m             \u001b[0;32mreturn\u001b[0m \u001b[0mresult\u001b[0m\u001b[0;34m\u001b[0m\u001b[0;34m\u001b[0m\u001b[0m\n",
      "\u001b[0;32m/usr/lib/python3.6/urllib/request.py\u001b[0m in \u001b[0;36m_call_chain\u001b[0;34m(self, chain, kind, meth_name, *args)\u001b[0m\n\u001b[1;32m    502\u001b[0m         \u001b[0;32mfor\u001b[0m \u001b[0mhandler\u001b[0m \u001b[0;32min\u001b[0m \u001b[0mhandlers\u001b[0m\u001b[0;34m:\u001b[0m\u001b[0;34m\u001b[0m\u001b[0;34m\u001b[0m\u001b[0m\n\u001b[1;32m    503\u001b[0m             \u001b[0mfunc\u001b[0m \u001b[0;34m=\u001b[0m \u001b[0mgetattr\u001b[0m\u001b[0;34m(\u001b[0m\u001b[0mhandler\u001b[0m\u001b[0;34m,\u001b[0m \u001b[0mmeth_name\u001b[0m\u001b[0;34m)\u001b[0m\u001b[0;34m\u001b[0m\u001b[0;34m\u001b[0m\u001b[0m\n\u001b[0;32m--> 504\u001b[0;31m             \u001b[0mresult\u001b[0m \u001b[0;34m=\u001b[0m \u001b[0mfunc\u001b[0m\u001b[0;34m(\u001b[0m\u001b[0;34m*\u001b[0m\u001b[0margs\u001b[0m\u001b[0;34m)\u001b[0m\u001b[0;34m\u001b[0m\u001b[0;34m\u001b[0m\u001b[0m\n\u001b[0m\u001b[1;32m    505\u001b[0m             \u001b[0;32mif\u001b[0m \u001b[0mresult\u001b[0m \u001b[0;32mis\u001b[0m \u001b[0;32mnot\u001b[0m \u001b[0;32mNone\u001b[0m\u001b[0;34m:\u001b[0m\u001b[0;34m\u001b[0m\u001b[0;34m\u001b[0m\u001b[0m\n\u001b[1;32m    506\u001b[0m                 \u001b[0;32mreturn\u001b[0m \u001b[0mresult\u001b[0m\u001b[0;34m\u001b[0m\u001b[0;34m\u001b[0m\u001b[0m\n",
      "\u001b[0;32m/usr/lib/python3.6/urllib/request.py\u001b[0m in \u001b[0;36mhttps_open\u001b[0;34m(self, req)\u001b[0m\n\u001b[1;32m   1359\u001b[0m         \u001b[0;32mdef\u001b[0m \u001b[0mhttps_open\u001b[0m\u001b[0;34m(\u001b[0m\u001b[0mself\u001b[0m\u001b[0;34m,\u001b[0m \u001b[0mreq\u001b[0m\u001b[0;34m)\u001b[0m\u001b[0;34m:\u001b[0m\u001b[0;34m\u001b[0m\u001b[0;34m\u001b[0m\u001b[0m\n\u001b[1;32m   1360\u001b[0m             return self.do_open(http.client.HTTPSConnection, req,\n\u001b[0;32m-> 1361\u001b[0;31m                 context=self._context, check_hostname=self._check_hostname)\n\u001b[0m\u001b[1;32m   1362\u001b[0m \u001b[0;34m\u001b[0m\u001b[0m\n\u001b[1;32m   1363\u001b[0m         \u001b[0mhttps_request\u001b[0m \u001b[0;34m=\u001b[0m \u001b[0mAbstractHTTPHandler\u001b[0m\u001b[0;34m.\u001b[0m\u001b[0mdo_request_\u001b[0m\u001b[0;34m\u001b[0m\u001b[0;34m\u001b[0m\u001b[0m\n",
      "\u001b[0;32m/usr/lib/python3.6/urllib/request.py\u001b[0m in \u001b[0;36mdo_open\u001b[0;34m(self, http_class, req, **http_conn_args)\u001b[0m\n\u001b[1;32m   1318\u001b[0m                           encode_chunked=req.has_header('Transfer-encoding'))\n\u001b[1;32m   1319\u001b[0m             \u001b[0;32mexcept\u001b[0m \u001b[0mOSError\u001b[0m \u001b[0;32mas\u001b[0m \u001b[0merr\u001b[0m\u001b[0;34m:\u001b[0m \u001b[0;31m# timeout error\u001b[0m\u001b[0;34m\u001b[0m\u001b[0;34m\u001b[0m\u001b[0m\n\u001b[0;32m-> 1320\u001b[0;31m                 \u001b[0;32mraise\u001b[0m \u001b[0mURLError\u001b[0m\u001b[0;34m(\u001b[0m\u001b[0merr\u001b[0m\u001b[0;34m)\u001b[0m\u001b[0;34m\u001b[0m\u001b[0;34m\u001b[0m\u001b[0m\n\u001b[0m\u001b[1;32m   1321\u001b[0m             \u001b[0mr\u001b[0m \u001b[0;34m=\u001b[0m \u001b[0mh\u001b[0m\u001b[0;34m.\u001b[0m\u001b[0mgetresponse\u001b[0m\u001b[0;34m(\u001b[0m\u001b[0;34m)\u001b[0m\u001b[0;34m\u001b[0m\u001b[0;34m\u001b[0m\u001b[0m\n\u001b[1;32m   1322\u001b[0m         \u001b[0;32mexcept\u001b[0m\u001b[0;34m:\u001b[0m\u001b[0;34m\u001b[0m\u001b[0;34m\u001b[0m\u001b[0m\n",
      "\u001b[0;31mURLError\u001b[0m: <urlopen error timed out>"
     ]
    }
   ],
   "source": [
    "request = opener.open(html_url.format(3), timeout=1)\n",
    "request_read = request.read()\n",
    "print(request_read.decode(encoding='UTF8',errors='ignore'))"
   ]
  },
  {
   "cell_type": "code",
   "execution_count": null,
   "metadata": {},
   "outputs": [],
   "source": [
    "add_database_gallery(dict_gallery_properties)"
   ]
  },
  {
   "cell_type": "code",
   "execution_count": null,
   "metadata": {},
   "outputs": [],
   "source": [
    "dict_gallery_properties.keys()"
   ]
  },
  {
   "cell_type": "code",
   "execution_count": null,
   "metadata": {},
   "outputs": [],
   "source": [
    "dict_gallery_properties[\"gallery_remark\"].append('i.text123')"
   ]
  },
  {
   "cell_type": "code",
   "execution_count": null,
   "metadata": {},
   "outputs": [],
   "source": [
    "dict_gallery_properties"
   ]
  },
  {
   "cell_type": "code",
   "execution_count": null,
   "metadata": {},
   "outputs": [],
   "source": [
    "import MySQLdb"
   ]
  },
  {
   "cell_type": "code",
   "execution_count": null,
   "metadata": {},
   "outputs": [],
   "source": []
  },
  {
   "cell_type": "code",
   "execution_count": null,
   "metadata": {},
   "outputs": [],
   "source": []
  },
  {
   "cell_type": "code",
   "execution_count": null,
   "metadata": {},
   "outputs": [],
   "source": [
    "dict_gallery_properties['gallery_number']=7"
   ]
  },
  {
   "cell_type": "code",
   "execution_count": null,
   "metadata": {},
   "outputs": [],
   "source": [
    "(dict_gallery_properties['gallery_number'], dict_gallery_properties['gallery_title'], dict_gallery_properties['gallery_producer'],\n",
    " dict_gallery_properties['gallery_pic_num'], dict_gallery_properties['gallery_resolution'], dict_gallery_properties['gallery_model'], \n",
    " dict_gallery_properties['gallery_date'], str(dict_gallery_properties['gallery_remark']), dict_gallery_properties['gallery_raw'])"
   ]
  },
  {
   "cell_type": "code",
   "execution_count": 2,
   "metadata": {
    "pycharm": {
     "is_executing": false
    }
   },
   "outputs": [],
   "source": [
    "spider_db = MySQLdb.connect(\"nfs.flashield.com\", \"NTTask\", \"NTTask123!@#\", \"NTTask\", charset='utf8' )\n",
    "spider_cursor = spider_db.cursor()"
   ]
  },
  {
   "cell_type": "code",
   "execution_count": 4,
   "metadata": {
    "pycharm": {
     "is_executing": false
    }
   },
   "outputs": [
    {
     "traceback": [
      "\u001b[0;31m---------------------------------------------------------------------------\u001b[0m",
      "\u001b[0;31mOperationalError\u001b[0m                          Traceback (most recent call last)",
      "\u001b[0;32m<ipython-input-4-0ba7196dd8e0>\u001b[0m in \u001b[0;36m<module>\u001b[0;34m\u001b[0m\n\u001b[1;32m      1\u001b[0m \u001b[0mspider_cursor\u001b[0m\u001b[0;34m.\u001b[0m\u001b[0mclose\u001b[0m\u001b[0;34m(\u001b[0m\u001b[0;34m)\u001b[0m\u001b[0;34m\u001b[0m\u001b[0;34m\u001b[0m\u001b[0m\n\u001b[0;32m----> 2\u001b[0;31m \u001b[0mspider_db\u001b[0m\u001b[0;34m.\u001b[0m\u001b[0mclose\u001b[0m\u001b[0;34m(\u001b[0m\u001b[0;34m)\u001b[0m\u001b[0;34m\u001b[0m\u001b[0;34m\u001b[0m\u001b[0m\n\u001b[0m\u001b[1;32m      3\u001b[0m \u001b[0;34m\u001b[0m\u001b[0m\n",
      "\u001b[0;31mOperationalError\u001b[0m: (2006, '')"
     ],
     "ename": "OperationalError",
     "evalue": "(2006, '')",
     "output_type": "error"
    }
   ],
   "source": [
    "spider_cursor.close()\n",
    "spider_db.close()"
   ]
  },
  {
   "cell_type": "code",
   "execution_count": null,
   "metadata": {},
   "outputs": [],
   "source": []
  },
  {
   "cell_type": "code",
   "execution_count": null,
   "metadata": {},
   "outputs": [],
   "source": []
  },
  {
   "cell_type": "code",
   "execution_count": null,
   "metadata": {},
   "outputs": [],
   "source": []
  },
  {
   "cell_type": "code",
   "execution_count": null,
   "metadata": {},
   "outputs": [],
   "source": [
    "a.append('123')"
   ]
  },
  {
   "cell_type": "code",
   "execution_count": null,
   "metadata": {},
   "outputs": [],
   "source": [
    "range(1,10)"
   ]
  },
  {
   "cell_type": "code",
   "execution_count": null,
   "metadata": {},
   "outputs": [],
   "source": []
  },
  {
   "cell_type": "code",
   "execution_count": null,
   "metadata": {},
   "outputs": [],
   "source": [
    "class Gallery():\n",
    "    \"\"\"图册的类\"\"\"\n",
    "    def __init__(self, gallery_number):\n",
    "        \"\"\"通过图册编号进行初始化\"\"\"\n",
    "        self.gallery_number = gallery_number\n",
    "        \n",
    "    def get_html(self):\n",
    "        "
   ]
  },
  {
   "cell_type": "code",
   "execution_count": null,
   "metadata": {},
   "outputs": [],
   "source": [
    "url1 = 'http://www.itokoo.com/'\n",
    "url2 = 'http://www.itokoo.com/login.php'\n",
    "'''headers = {\n",
    "    \"Content-Type\": \"application/x-www-form-urlencoded; charset=UTF-8\",\\\n",
    "    \"User-Agent\": \"Mozilla/5.0 (Windows NT 5.2) AppleWebKit/537.36 (KHTML, like Gecko) Chrome/49.0.2623.112 Safari/537.36\",\\\n",
    "    \"Connection\": \"Keep-Alive\",\\\n",
    "    \"Cache-Control\": \"no-cache\"}'''\n",
    "opener = urllib.request.build_opener()\n",
    "#添加headers\n",
    "headers = [('Referer',url1),\\\n",
    "           ('Accept-Language','en,zh-CN;q=0.8,zh;q=0.6,en-US;q=0.4'),\\\n",
    "           ('Cache-Control','max-age=0'),\\\n",
    "           ('Content-Type','application/x-www-form-urlencoded'),\\\n",
    "           ('Origin',url1),\\\n",
    "           ('Connection','keep-alive'),\\\n",
    "           ('User-Agent','Mozilla/5.0 (Windows NT 5.2) AppleWebKit/537.36 (KHTML, like Gecko) Chrome/49.0.2623.112 Safari/537.36'),\\\n",
    "           ('Accept','text/html,application/xhtml+xml,application/xml;q=0.9,image/webp,*/*;q=0.8')]\n",
    "opener.addheaders = headers\n",
    "\n",
    "#添加cookie\n",
    "cookie_filename = 'cookie_itoko.txt'\n",
    "#cookies = http.cookiejar.CookieJar()\n",
    "cookies = http.cookiejar.MozillaCookieJar(cookie_filename)\n",
    "cookies.load(ignore_discard=True, ignore_expires=True)\n",
    "cookie_handler = urllib.request.HTTPCookieProcessor(cookies)\n",
    "opener.add_handler(cookie_handler)\n",
    "#添加代理\n",
    "proxy_handler = urllib.request.ProxyHandler({'https':'221.178.146.113:61399','http':'221.178.146.113:61399'})\n",
    "#opener.add_handler(proxy_handler)\n",
    "\n",
    "#添加PostData\n",
    "data = {\"jumpurl\":\"http%3A%2F%2Fwww.itokoo.com%2Findex.php\",\"step\":\"2\",\\\n",
    "        \"ajax\":\"1\",\"pwuser\":\"Flashield\",\"pwpwd\":\"Zb122525\",\"lgt\":\"0\"}\n",
    "post_data = urllib.parse.urlencode(data).encode(encoding='UTF8')\n",
    "print(post_data)"
   ]
  },
  {
   "cell_type": "code",
   "execution_count": null,
   "metadata": {},
   "outputs": [],
   "source": [
    "#request = opener.open(url1)\n",
    "#request_read = request.read()\n",
    "#print(request_read.decode(encoding='UTF8',errors='ignore'))\n"
   ]
  },
  {
   "cell_type": "code",
   "execution_count": null,
   "metadata": {},
   "outputs": [],
   "source": [
    "request = opener.open(url2,post_data)\n",
    "print(request.read().decode(encoding='UTF8',errors='ignore'))"
   ]
  },
  {
   "cell_type": "code",
   "execution_count": null,
   "metadata": {},
   "outputs": [],
   "source": [
    "#登录成功后，保存cookies\n",
    "cookies.save(ignore_discard=True, ignore_expires=True)"
   ]
  },
  {
   "cell_type": "code",
   "execution_count": null,
   "metadata": {},
   "outputs": [],
   "source": [
    "url3='http://www.itokoo.com/jobcenter.php?action=apply'\n",
    "headers = [('Referer',url3),\\\n",
    "           ('Accept-Language','en,zh-CN;q=0.8,zh;q=0.6,en-US;q=0.4'),\\\n",
    "           ('Cache-Control','max-age=0'),\\\n",
    "           ('Content-Type','application/x-www-form-urlencoded'),\\\n",
    "           ('Origin',url3),\\\n",
    "           ('Connection','keep-alive'),\\\n",
    "           ('User-Agent','Mozilla/5.0 (Windows NT 5.2) AppleWebKit/537.36 (KHTML, like Gecko) Chrome/49.0.2623.112 Safari/537.36'),\\\n",
    "           ('Accept','text/html,application/xhtml+xml,application/xml;q=0.9,image/webp,*/*;q=0.8')]\n",
    "opener.addheaders = headers\n",
    "data3 = {\"id\":\"5\",\"step\":\"2\"}\n",
    "post_data3 = urllib.parse.urlencode(data3).encode(encoding='UTF8')\n",
    "request = opener.open(url3,post_data3)\n",
    "print(request.read().decode(encoding='GBK',errors='ignore'))"
   ]
  },
  {
   "cell_type": "code",
   "execution_count": null,
   "metadata": {},
   "outputs": [],
   "source": [
    "url4='http://www.itokoo.com/jobcenter.php?action=gain'\n",
    "data4 = {\"id\":\"5\",\"step\":\"2\"}\n",
    "post_data4 = urllib.parse.urlencode(data4).encode(encoding='UTF8')\n",
    "request = opener.open(url4,post_data4)\n",
    "print(request.read().decode(encoding='GBK',errors='ignore'))\n",
    "#print(request_read.decode(encoding='UTF8',errors='ignore'))"
   ]
  },
  {
   "cell_type": "code",
   "execution_count": null,
   "metadata": {},
   "outputs": [],
   "source": [
    "url5='http://www.itokoo.com/jobcenter.php?action=punch'\n",
    "headers5 = [('Referer','http://www.itokoo.com/u.php'),\\\n",
    "           ('Accept-Language','en,zh-CN;q=0.8,zh;q=0.6,en-US;q=0.4'),\\\n",
    "           ('Cache-Control','max-age=0'),\\\n",
    "           ('Content-Type','application/x-www-form-urlencoded'),\\\n",
    "           ('Origin','http://www.itokoo.com/u.php'),\\\n",
    "           ('Connection','keep-alive'),\\\n",
    "           ('User-Agent','Mozilla/5.0 (Windows NT 5.2) AppleWebKit/537.36 (KHTML, like Gecko) Chrome/49.0.2623.112 Safari/537.36'),\\\n",
    "           ('Accept','text/html,application/xhtml+xml,application/xml;q=0.9,image/webp,*/*;q=0.8')]\n",
    "opener.addheaders = headers5\n",
    "data5 = {\"step\":\"2\"}\n",
    "post_data5 = urllib.parse.urlencode(data5).encode(encoding='UTF8')\n",
    "request = opener.open(url4,post_data4)\n",
    "print(request.read().decode(encoding='GBK',errors='ignore'))"
   ]
  },
  {
   "cell_type": "code",
   "execution_count": null,
   "metadata": {},
   "outputs": [],
   "source": []
  }
 ],
 "metadata": {
  "kernelspec": {
   "display_name": "Python 3",
   "language": "python",
   "name": "python3"
  },
  "language_info": {
   "codemirror_mode": {
    "name": "ipython",
    "version": 3
   },
   "file_extension": ".py",
   "mimetype": "text/x-python",
   "name": "python",
   "nbconvert_exporter": "python",
   "pygments_lexer": "ipython3",
   "version": "3.6.9"
  },
  "pycharm": {
   "stem_cell": {
    "cell_type": "raw",
    "source": [],
    "metadata": {
     "collapsed": false
    }
   }
  }
 },
 "nbformat": 4,
 "nbformat_minor": 2
}