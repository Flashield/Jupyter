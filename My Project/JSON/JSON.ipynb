{
 "cells": [
  {
   "cell_type": "code",
   "execution_count": 1,
   "metadata": {},
   "outputs": [],
   "source": [
    "import json"
   ]
  },
  {
   "cell_type": "code",
   "execution_count": 2,
   "metadata": {},
   "outputs": [
    {
     "name": "stdout",
     "output_type": "stream",
     "text": [
      "JSON_STR:{\"result\":true,\"message\":\"\",\"data\":[{\"displayOrder\":\"\",\"empList\":[{\"commonName\":\"臧晨阳\",\"createTime\":null,\"displayOrder\":\"1\",\"email\":\"zangcy@js.chinamobile.com\",\"employeeNumber\":\"23113001\",\"extend1\":\"60\",\"extend2\":\"\",\"extend3\":\"\",\"field\":\"\",\"fields\":\"\",\"id\":\"3348823265700\",\"isManuallyAdd\":\"\",\"jobName\":\"地市分公司部门正职\",\"lastUpdateTime\":{\"date\":15,\"day\":5,\"hours\":18,\"minutes\":16,\"month\":2,\"seconds\":46,\"time\":1552645006000,\"timezoneOffset\":-480,\"year\":119},\"lastUpdateTimes\":\"2019-03-15 18:16:46\",\"mobile\":\"18862808080\",\"orgCode\":\"23265700\",\"permission\":3,\"personalTag\":\"\",\"personalTags\":\"\",\"phone\":\"0513-68019228\",\"position\":\"市公司部门经理\",\"primaryFlag\":\"\",\"shortNumber\":\"62995\",\"valid\":1},{\"commonName\":\"卞亮亮\",\"createTime\":null,\"displayOrder\":\"2\",\"email\":\"bianll@js.chinamobile.com\",\"employeeNumber\":\"23110117\",\"extend1\":\"65\",\"extend2\":\"\",\"extend3\":\"\",\"field\":\"\",\"fields\":\"\",\"id\":\"3310623265700\",\"isManuallyAdd\":\"\",\"jobName\":\"地市分公司部门副职\",\"lastUpdateTime\":{\"date\":21,\"day\":4,\"hours\":16,\"minutes\":4,\"month\":2,\"seconds\":24,\"time\":1553155464000,\"timezoneOffset\":-480,\"year\":119},\"lastUpdateTimes\":\"2019-03-21 16:04:24\",\"mobile\":\"13962956122\",\"orgCode\":\"23265700\",\"permission\":3,\"personalTag\":\"\",\"personalTags\":\"\",\"phone\":\"13800513222-56122\",\"position\":\"市公司部门副经理\",\"primaryFlag\":\"\",\"shortNumber\":\"66122\",\"valid\":1},{\"commonName\":\"顾玉婷\",\"createTime\":null,\"displayOrder\":\"3\",\"email\":\"guyt@js.chinamobile.com\",\"employeeNumber\":\"23110823\",\"extend1\":\"70\",\"extend2\":\"\",\"extend3\":\"\",\"field\":\"\",\"fields\":\"\",\"id\":\"6803123265700\",\"isManuallyAdd\":\"\",\"jobName\":\"地市分公司部门副职\",\"lastUpdateTime\":{\"date\":15,\"day\":5,\"hours\":18,\"minutes\":16,\"month\":2,\"seconds\":46,\"time\":1552645006000,\"timezoneOffset\":-480,\"year\":119},\"lastUpdateTimes\":\"2019-03-15 18:16:46\",\"mobile\":\"13962950811\",\"orgCode\":\"23265700\",\"permission\":3,\"personalTag\":\"\",\"personalTags\":\"\",\"phone\":\"\",\"position\":\"市公司部门副经理\",\"primaryFlag\":\"\",\"shortNumber\":\"61812\",\"valid\":1},{\"commonName\":\"鲍陈冬sgs\",\"createTime\":null,\"displayOrder\":\"4\",\"email\":\"baocd@js.chinamobile.com\",\"employeeNumber\":\"23113749\",\"extend1\":\"99\",\"extend2\":\"\",\"extend3\":\"\",\"field\":\"\",\"fields\":\"\",\"id\":\"8756223265700\",\"isManuallyAdd\":\"\",\"jobName\":\"普通员工\",\"lastUpdateTime\":{\"date\":3,\"day\":1,\"hours\":13,\"minutes\":41,\"month\":5,\"seconds\":46,\"time\":1559540506000,\"timezoneOffset\":-480,\"year\":119},\"lastUpdateTimes\":\"2019-06-03 13:41:46\",\"mobile\":\"13862773355\",\"orgCode\":\"23265700\",\"permission\":0,\"personalTag\":\"\",\"personalTags\":\"\",\"phone\":\"\",\"position\":\"新闻宣传\",\"primaryFlag\":\"\",\"shortNumber\":\"63355\",\"valid\":1},{\"commonName\":\"施桂花\",\"createTime\":null,\"displayOrder\":\"6\",\"email\":\"shiguihuant2@js.chinamobile.com\",\"employeeNumber\":\"23110963\",\"extend1\":\"99\",\"extend2\":\"\",\"extend3\":\"\",\"field\":\"\",\"fields\":\"\",\"id\":\"8016323265700\",\"isManuallyAdd\":\"\",\"jobName\":\"普通员工\",\"lastUpdateTime\":{\"date\":15,\"day\":5,\"hours\":18,\"minutes\":16,\"month\":2,\"seconds\":47,\"time\":1552645007000,\"timezoneOffset\":-480,\"year\":119},\"lastUpdateTimes\":\"2019-03-15 18:16:47\",\"mobile\":\"13814618753\",\"orgCode\":\"23265700\",\"permission\":0,\"personalTag\":\"综合支撑\",\"personalTags\":\"综合支撑\",\"phone\":\"\",\"position\":\"综合支撑\",\"primaryFlag\":\"\",\"shortNumber\":\"68753\",\"valid\":1},{\"commonName\":\"徐月华\",\"createTime\":null,\"displayOrder\":\"99\",\"email\":\"xuyh@js.chinamobile.com\",\"employeeNumber\":\"23110021\",\"extend1\":\"99\",\"extend2\":\"\",\"extend3\":\"\",\"field\":\"\",\"fields\":\"\",\"id\":\"3302023265700\",\"isManuallyAdd\":\"\",\"jobName\":\"普通员工\",\"lastUpdateTime\":{\"date\":6,\"day\":5,\"hours\":17,\"minutes\":11,\"month\":0,\"seconds\":22,\"time\":1483693882000,\"timezoneOffset\":-480,\"year\":117},\"lastUpdateTimes\":\"2017-01-06 17:11:22\",\"mobile\":\"13813600006\",\"orgCode\":\"23265700\",\"permission\":0,\"personalTag\":\"\",\"personalTags\":\"\",\"phone\":\"\",\"position\":\"档案管理\",\"primaryFlag\":\"\",\"shortNumber\":\"60090\",\"valid\":1},{\"commonName\":\"苏锦余\",\"createTime\":null,\"displayOrder\":\"99\",\"email\":\"sujy@js.chinamobile.com\",\"employeeNumber\":\"23110729\",\"extend1\":\"99\",\"extend2\":\"\",\"extend3\":\"\",\"field\":\"\",\"fields\":\"\",\"id\":\"3324323265700\",\"isManuallyAdd\":\"\",\"jobName\":\"普通员工\",\"lastUpdateTime\":{\"date\":15,\"day\":5,\"hours\":18,\"minutes\":16,\"month\":2,\"seconds\":48,\"time\":1552645008000,\"timezoneOffset\":-480,\"year\":119},\"lastUpdateTimes\":\"2019-03-15 18:16:48\",\"mobile\":\"13912288680\",\"orgCode\":\"23265700\",\"permission\":0,\"personalTag\":\"\",\"personalTags\":\"\",\"phone\":\"\",\"position\":\"综合支撑\",\"primaryFlag\":\"\",\"shortNumber\":\"68680\",\"valid\":1},{\"commonName\":\"任剑\",\"createTime\":null,\"displayOrder\":\"99\",\"email\":\"renj@js.chinamobile.com\",\"employeeNumber\":\"23110730\",\"extend1\":\"99\",\"extend2\":\"\",\"extend3\":\"\",\"field\":\"\",\"fields\":\"\",\"id\":\"3324423265700\",\"isManuallyAdd\":\"\",\"jobName\":\"普通员工\",\"lastUpdateTime\":{\"date\":15,\"day\":5,\"hours\":18,\"minutes\":17,\"month\":2,\"seconds\":45,\"time\":1552645065000,\"timezoneOffset\":-480,\"year\":119},\"lastUpdateTimes\":\"2019-03-15 18:17:45\",\"mobile\":\"13962980001\",\"orgCode\":\"23265700\",\"permission\":0,\"personalTag\":\"\",\"personalTags\":\"\",\"phone\":\"\",\"position\":\"综合支撑\",\"primaryFlag\":\"\",\"shortNumber\":\"62352\",\"valid\":1},{\"commonName\":\"卞建峰\",\"createTime\":null,\"displayOrder\":\"99\",\"email\":\"bianjf@js.chinamobile.com\",\"employeeNumber\":\"23110731\",\"extend1\":\"99\",\"extend2\":\"\",\"extend3\":\"\",\"field\":\"\",\"fields\":\"\",\"id\":\"3324523265700\",\"isManuallyAdd\":\"\",\"jobName\":\"普通员工\",\"lastUpdateTime\":{\"date\":15,\"day\":5,\"hours\":18,\"minutes\":17,\"month\":2,\"seconds\":46,\"time\":1552645066000,\"timezoneOffset\":-480,\"year\":119},\"lastUpdateTimes\":\"2019-03-15 18:17:46\",\"mobile\":\"18862973999\",\"orgCode\":\"23265700\",\"permission\":0,\"personalTag\":\"\",\"personalTags\":\"\",\"phone\":\"\",\"position\":\"综合支撑\",\"primaryFlag\":\"\",\"shortNumber\":\"65789\",\"valid\":1},{\"commonName\":\"范志杰\",\"createTime\":null,\"displayOrder\":\"99\",\"email\":\"fanzhijie@js.chinamobile.com\",\"employeeNumber\":\"23110776\",\"extend1\":\"99\",\"extend2\":\"\",\"extend3\":\"\",\"field\":\"\",\"fields\":\"\",\"id\":\"3329023265700\",\"isManuallyAdd\":\"\",\"jobName\":\"普通员工\",\"lastUpdateTime\":{\"date\":15,\"day\":5,\"hours\":18,\"minutes\":17,\"month\":2,\"seconds\":46,\"time\":1552645066000,\"timezoneOffset\":-480,\"year\":119},\"lastUpdateTimes\":\"2019-03-15 18:17:46\",\"mobile\":\"18862802988\",\"orgCode\":\"23265700\",\"permission\":0,\"personalTag\":\"\",\"personalTags\":\"\",\"phone\":\"\",\"position\":\"综合支撑\",\"primaryFlag\":\"\",\"shortNumber\":\"61048\",\"valid\":1},{\"commonName\":\"张骏\",\"createTime\":null,\"displayOrder\":\"99\",\"email\":\"zhangjunNT1@js.chinamobile.com\",\"employeeNumber\":\"23111551\",\"extend1\":\"99\",\"extend2\":\"\",\"extend3\":\"\",\"field\":\"\",\"fields\":\"\",\"id\":\"11431323265700\",\"isManuallyAdd\":\"\",\"jobName\":\"普通员工\",\"lastUpdateTime\":{\"date\":15,\"day\":5,\"hours\":18,\"minutes\":17,\"month\":2,\"seconds\":46,\"time\":1552645066000,\"timezoneOffset\":-480,\"year\":119},\"lastUpdateTimes\":\"2019-03-15 18:17:46\",\"mobile\":\"13912262233\",\"orgCode\":\"23265700\",\"permission\":0,\"personalTag\":\"\",\"personalTags\":\"\",\"phone\":\"\",\"position\":\"综合支撑\",\"primaryFlag\":\"\",\"shortNumber\":\"62235\",\"valid\":1},{\"commonName\":\"金燕\",\"createTime\":null,\"displayOrder\":\"99\",\"email\":\"jinyanNT@js.chinamobile.com\",\"employeeNumber\":\"23111553\",\"extend1\":\"99\",\"extend2\":\"\",\"extend3\":\"\",\"field\":\"\",\"fields\":\"\",\"id\":\"11096923265700\",\"isManuallyAdd\":\"\",\"jobName\":\"普通员工\",\"lastUpdateTime\":{\"date\":30,\"day\":2,\"hours\":14,\"minutes\":15,\"month\":3,\"seconds\":25,\"time\":1556604925000,\"timezoneOffset\":-480,\"year\":119},\"lastUpdateTimes\":\"2019-04-30 14:15:25\",\"mobile\":\"15851209991\",\"orgCode\":\"23265700\",\"permission\":0,\"personalTag\":\"\",\"personalTags\":\"\",\"phone\":\"\",\"position\":\"综合秘书\",\"primaryFlag\":\"\",\"shortNumber\":\"69291\",\"valid\":1},{\"commonName\":\"黄蕾\",\"createTime\":null,\"displayOrder\":\"99\",\"email\":\"huanglei@js.chinamobile.com\",\"employeeNumber\":\"23111795\",\"extend1\":\"99\",\"extend2\":\"\",\"extend3\":\"\",\"field\":\"\",\"fields\":\"\",\"id\":\"10139023265700\",\"isManuallyAdd\":\"\",\"jobName\":\"普通员工\",\"lastUpdateTime\":{\"date\":15,\"day\":5,\"hours\":18,\"minutes\":16,\"month\":2,\"seconds\":47,\"time\":1552645007000,\"timezoneOffset\":-480,\"year\":119},\"lastUpdateTimes\":\"2019-03-15 18:16:47\",\"mobile\":\"15051225500\",\"orgCode\":\"23265700\",\"permission\":0,\"personalTag\":\"综合秘书\",\"personalTags\":\"综合秘书\",\"phone\":\"\",\"position\":\"综合秘书\",\"primaryFlag\":\"\",\"shortNumber\":\"65500\",\"valid\":1},{\"commonName\":\"王媛媛\",\"createTime\":null,\"displayOrder\":\"99\",\"email\":\"wangyuanyuanNT@js.chinamobile.com\",\"employeeNumber\":\"23111866\",\"extend1\":\"99\",\"extend2\":\"\",\"extend3\":\"\",\"field\":\"\",\"fields\":\"\",\"id\":\"10276223265700\",\"isManuallyAdd\":\"\",\"jobName\":\"普通员工\",\"lastUpdateTime\":{\"date\":15,\"day\":5,\"hours\":18,\"minutes\":16,\"month\":2,\"seconds\":47,\"time\":1552645007000,\"timezoneOffset\":-480,\"year\":119},\"lastUpdateTimes\":\"2019-03-15 18:16:47\",\"mobile\":\"15962900002\",\"orgCode\":\"23265700\",\"permission\":0,\"personalTag\":\"档案管理\",\"personalTags\":\"档案管理\",\"phone\":\"13800513222-50062\",\"position\":\"档案管理\",\"primaryFlag\":\"\",\"shortNumber\":\"60062\",\"valid\":1},{\"commonName\":\"王拥坤\",\"createTime\":null,\"displayOrder\":\"99\",\"email\":\"wangyongkun@js.chinamobile.com\",\"employeeNumber\":\"23111888\",\"extend1\":\"99\",\"extend2\":\"\",\"extend3\":\"\",\"field\":\"\",\"fields\":\"\",\"id\":\"9386623265700\",\"isManuallyAdd\":\"\",\"jobName\":\"普通员工\",\"lastUpdateTime\":{\"date\":15,\"day\":5,\"hours\":18,\"minutes\":17,\"month\":2,\"seconds\":46,\"time\":1552645066000,\"timezoneOffset\":-480,\"year\":119},\"lastUpdateTimes\":\"2019-03-15 18:17:46\",\"mobile\":\"13962934810\",\"orgCode\":\"23265700\",\"permission\":0,\"personalTag\":\"\",\"personalTags\":\"\",\"phone\":\"\",\"position\":\"综合支撑\",\"primaryFlag\":\"\",\"shortNumber\":\"64810\",\"valid\":1},{\"commonName\":\"吴道宏\",\"createTime\":null,\"displayOrder\":\"99\",\"email\":\"wudh@js.chinamobile.com\",\"employeeNumber\":\"23112028\",\"extend1\":\"99\",\"extend2\":\"\",\"extend3\":\"\",\"field\":\"\",\"fields\":\"\",\"id\":\"3343623265700\",\"isManuallyAdd\":\"\",\"jobName\":\"普通员工\",\"lastUpdateTime\":{\"date\":15,\"day\":5,\"hours\":18,\"minutes\":16,\"month\":2,\"seconds\":46,\"time\":1552645006000,\"timezoneOffset\":-480,\"year\":119},\"lastUpdateTimes\":\"2019-03-15 18:16:46\",\"mobile\":\"13951308916\",\"orgCode\":\"23265700\",\"permission\":0,\"personalTag\":\"\",\"personalTags\":\"\",\"phone\":\"13800513222-58916\",\"position\":\"综合管理\",\"primaryFlag\":\"\",\"shortNumber\":\"68916\",\"valid\":1},{\"commonName\":\"毛伟\",\"createTime\":null,\"displayOrder\":\"99\",\"email\":\"maowei@js.chinamobile.com\",\"employeeNumber\":\"23115653\",\"extend1\":\"99\",\"extend2\":\"\",\"extend3\":\"\",\"field\":\"\",\"fields\":\"\",\"id\":\"3371623265700\",\"isManuallyAdd\":\"\",\"jobName\":\"普通员工\",\"lastUpdateTime\":{\"date\":15,\"day\":5,\"hours\":18,\"minutes\":17,\"month\":2,\"seconds\":46,\"time\":1552645066000,\"timezoneOffset\":-480,\"year\":119},\"lastUpdateTimes\":\"2019-03-15 18:17:46\",\"mobile\":\"18862888333\",\"orgCode\":\"23265700\",\"permission\":0,\"personalTag\":\"\",\"personalTags\":\"\",\"phone\":\"\",\"position\":\"综合支撑\",\"primaryFlag\":\"\",\"shortNumber\":\"68363\",\"valid\":1},{\"commonName\":\"宋小健\",\"createTime\":null,\"displayOrder\":\"99\",\"email\":\"songxj@js.chinamobile.com\",\"employeeNumber\":\"23116031\",\"extend1\":\"99\",\"extend2\":\"\",\"extend3\":\"\",\"field\":\"\",\"fields\":\"\",\"id\":\"3374523265700\",\"isManuallyAdd\":\"\",\"jobName\":\"普通员工\",\"lastUpdateTime\":{\"date\":15,\"day\":5,\"hours\":18,\"minutes\":16,\"month\":2,\"seconds\":47,\"time\":1552645007000,\"timezoneOffset\":-480,\"year\":119},\"lastUpdateTimes\":\"2019-03-15 18:16:47\",\"mobile\":\"13506290909\",\"orgCode\":\"23265700\",\"permission\":0,\"personalTag\":\"\",\"personalTags\":\"\",\"phone\":\"13800513222-51122\",\"position\":\"安全管理\",\"primaryFlag\":\"\",\"shortNumber\":\"61122\",\"valid\":1},{\"commonName\":\"周轶红\",\"createTime\":null,\"displayOrder\":\"99\",\"email\":\"zhouyihong@js.chinamobile.com\",\"employeeNumber\":\"23117035\",\"extend1\":\"99\",\"extend2\":\"\",\"extend3\":\"\",\"field\":\"\",\"fields\":\"\",\"id\":\"16185923265700\",\"isManuallyAdd\":\"\",\"jobName\":\"普通员工\",\"lastUpdateTime\":{\"date\":30,\"day\":2,\"hours\":14,\"minutes\":15,\"month\":3,\"seconds\":24,\"time\":1556604924000,\"timezoneOffset\":-480,\"year\":119},\"lastUpdateTimes\":\"2019-04-30 14:15:24\",\"mobile\":\"18851423066\",\"orgCode\":\"23265700\",\"permission\":0,\"personalTag\":\"\",\"personalTags\":\"\",\"phone\":\"\",\"position\":\"综合秘书\",\"primaryFlag\":\"\",\"shortNumber\":\"62098\",\"valid\":1},{\"commonName\":\"盛青松\",\"createTime\":null,\"displayOrder\":\"150\",\"email\":\"shengqs@js.chinamobile.com\",\"employeeNumber\":\"23110728\",\"extend1\":\"99\",\"extend2\":\"\",\"extend3\":\"\",\"field\":\"\",\"fields\":\"\",\"id\":\"3324223265700\",\"isManuallyAdd\":\"\",\"jobName\":\"普通员工\",\"lastUpdateTime\":{\"date\":15,\"day\":5,\"hours\":18,\"minutes\":16,\"month\":2,\"seconds\":47,\"time\":1552645007000,\"timezoneOffset\":-480,\"year\":119},\"lastUpdateTimes\":\"2019-03-15 18:16:47\",\"mobile\":\"13862900585\",\"orgCode\":\"23265700\",\"permission\":0,\"personalTag\":\"\",\"personalTags\":\"\",\"phone\":\"\",\"position\":\"综合支撑\",\"primaryFlag\":\"\",\"shortNumber\":\"60585\",\"valid\":1},{\"commonName\":\"季晓玉\",\"createTime\":null,\"displayOrder\":\"190\",\"email\":\"jixy@js.chinamobile.com\",\"employeeNumber\":\"23110954\",\"extend1\":\"99\",\"extend2\":\"\",\"extend3\":\"\",\"field\":\"\",\"fields\":\"\",\"id\":\"8015423265700\",\"isManuallyAdd\":\"\",\"jobName\":\"普通员工\",\"lastUpdateTime\":{\"date\":15,\"day\":5,\"hours\":18,\"minutes\":17,\"month\":2,\"seconds\":46,\"time\":1552645066000,\"timezoneOffset\":-480,\"year\":119},\"lastUpdateTimes\":\"2019-03-15 18:17:46\",\"mobile\":\"13776959882\",\"orgCode\":\"23265700\",\"permission\":0,\"personalTag\":\"\",\"personalTags\":\"\",\"phone\":\"0513-68019020\",\"position\":\"综合支撑\",\"primaryFlag\":\"\",\"shortNumber\":\"69883\",\"valid\":1},{\"commonName\":\"席海琴\",\"createTime\":null,\"displayOrder\":\"350\",\"email\":\"xihq@js.chinamobile.com\",\"employeeNumber\":\"23110725\",\"extend1\":\"99\",\"extend2\":\"\",\"extend3\":\"\",\"field\":\"\",\"fields\":\"\",\"id\":\"3323923265700\",\"isManuallyAdd\":\"\",\"jobName\":\"普通员工\",\"lastUpdateTime\":{\"date\":15,\"day\":5,\"hours\":18,\"minutes\":16,\"month\":2,\"seconds\":47,\"time\":1552645007000,\"timezoneOffset\":-480,\"year\":119},\"lastUpdateTimes\":\"2019-03-15 18:16:47\",\"mobile\":\"13706299986\",\"orgCode\":\"23265700\",\"permission\":0,\"personalTag\":\"\",\"personalTags\":\"\",\"phone\":\"\",\"position\":\"后勤管理\",\"primaryFlag\":\"\",\"shortNumber\":\"60012\",\"valid\":1},{\"commonName\":\"李旭\",\"createTime\":null,\"displayOrder\":\"370\",\"email\":\"lixu@js.chinamobile.com\",\"employeeNumber\":\"23110732\",\"extend1\":\"99\",\"extend2\":\"\",\"extend3\":\"\",\"field\":\"\",\"fields\":\"\",\"id\":\"3324623265700\",\"isManuallyAdd\":\"\",\"jobName\":\"普通员工\",\"lastUpdateTime\":{\"date\":15,\"day\":5,\"hours\":18,\"minutes\":17,\"month\":2,\"seconds\":46,\"time\":1552645066000,\"timezoneOffset\":-480,\"year\":119},\"lastUpdateTimes\":\"2019-03-15 18:17:46\",\"mobile\":\"18862990055\",\"orgCode\":\"23265700\",\"permission\":0,\"personalTag\":\"\",\"personalTags\":\"\",\"phone\":\"\",\"position\":\"综合支撑\",\"primaryFlag\":\"\",\"shortNumber\":\"64151\",\"valid\":1},{\"commonName\":\"陆甜\",\"createTime\":null,\"displayOrder\":\"375\",\"email\":\"lutian@js.chinamobile.com\",\"employeeNumber\":\"23110727\",\"extend1\":\"99\",\"extend2\":\"\",\"extend3\":\"\",\"field\":\"\",\"fields\":\"\",\"id\":\"3324123265700\",\"isManuallyAdd\":\"\",\"jobName\":\"普通员工\",\"lastUpdateTime\":{\"date\":15,\"day\":5,\"hours\":18,\"minutes\":16,\"month\":2,\"seconds\":48,\"time\":1552645008000,\"timezoneOffset\":-480,\"year\":119},\"lastUpdateTimes\":\"2019-03-15 18:16:48\",\"mobile\":\"13962805555\",\"orgCode\":\"23265700\",\"permission\":0,\"personalTag\":\"\",\"personalTags\":\"\",\"phone\":\"\",\"position\":\"综合支撑\",\"primaryFlag\":\"\",\"shortNumber\":\"63090\",\"valid\":1}],\"orgList\":[{\"displayOrder\":\"\",\"duty\":\"\",\"dutys\":\"\",\"fullName\":\"江苏公司/南通分公司/综合部/采购物流中心\",\"hasChildren\":\"\",\"orgCode\":\"23265701\",\"parentOrgCode\":\"23265700\",\"shortName\":\"采购物流中心\",\"style\":\"地市公司部门\"}],\"self\":{\"displayOrder\":\"2\",\"duty\":\"\",\"dutys\":\"\",\"fullName\":\"江苏公司/南通分公司/综合部\",\"hasChildren\":\"1\",\"orgCode\":\"23265700\",\"parentOrgCode\":\"23260000\",\"shortName\":\"综合部\",\"style\":\"地市公司部门\"}}]}\n"
     ]
    }
   ],
   "source": [
    "json_str = input('JSON_STR:')"
   ]
  },
  {
   "cell_type": "code",
   "execution_count": 5,
   "metadata": {
    "scrolled": true
   },
   "outputs": [
    {
     "name": "stdout",
     "output_type": "stream",
     "text": [
      "综合部 臧晨阳 zangcy@js.chinamobile.com 23113001 地市分公司部门正职 18862808080 62995\n",
      "综合部 卞亮亮 bianll@js.chinamobile.com 23110117 地市分公司部门副职 13962956122 66122\n",
      "综合部 顾玉婷 guyt@js.chinamobile.com 23110823 地市分公司部门副职 13962950811 61812\n",
      "综合部 鲍陈冬sgs baocd@js.chinamobile.com 23113749 普通员工 13862773355 63355\n",
      "综合部 施桂花 shiguihuant2@js.chinamobile.com 23110963 普通员工 13814618753 68753\n",
      "综合部 徐月华 xuyh@js.chinamobile.com 23110021 普通员工 13813600006 60090\n",
      "综合部 苏锦余 sujy@js.chinamobile.com 23110729 普通员工 13912288680 68680\n",
      "综合部 任剑 renj@js.chinamobile.com 23110730 普通员工 13962980001 62352\n",
      "综合部 卞建峰 bianjf@js.chinamobile.com 23110731 普通员工 18862973999 65789\n",
      "综合部 范志杰 fanzhijie@js.chinamobile.com 23110776 普通员工 18862802988 61048\n",
      "综合部 张骏 zhangjunNT1@js.chinamobile.com 23111551 普通员工 13912262233 62235\n",
      "综合部 金燕 jinyanNT@js.chinamobile.com 23111553 普通员工 15851209991 69291\n",
      "综合部 黄蕾 huanglei@js.chinamobile.com 23111795 普通员工 15051225500 65500\n",
      "综合部 王媛媛 wangyuanyuanNT@js.chinamobile.com 23111866 普通员工 15962900002 60062\n",
      "综合部 王拥坤 wangyongkun@js.chinamobile.com 23111888 普通员工 13962934810 64810\n",
      "综合部 吴道宏 wudh@js.chinamobile.com 23112028 普通员工 13951308916 68916\n",
      "综合部 毛伟 maowei@js.chinamobile.com 23115653 普通员工 18862888333 68363\n",
      "综合部 宋小健 songxj@js.chinamobile.com 23116031 普通员工 13506290909 61122\n",
      "综合部 周轶红 zhouyihong@js.chinamobile.com 23117035 普通员工 18851423066 62098\n",
      "综合部 盛青松 shengqs@js.chinamobile.com 23110728 普通员工 13862900585 60585\n",
      "综合部 季晓玉 jixy@js.chinamobile.com 23110954 普通员工 13776959882 69883\n",
      "综合部 席海琴 xihq@js.chinamobile.com 23110725 普通员工 13706299986 60012\n",
      "综合部 李旭 lixu@js.chinamobile.com 23110732 普通员工 18862990055 64151\n",
      "综合部 陆甜 lutian@js.chinamobile.com 23110727 普通员工 13962805555 63090\n"
     ]
    }
   ],
   "source": [
    "list_All = json.loads(json_str)\n",
    "list_emplist = json.loads(json_str, strict=False)['data'][0]['empList']\n",
    "for i in range(len(list_emplist)):\n",
    "    print(list_All['data'][0]['self']['shortName'],list_emplist[i]['commonName'],list_emplist[i]['email'],list_emplist[i]['employeeNumber'],list_emplist[i]['jobName'],list_emplist[i]['mobile'],list_emplist[i]['shortNumber'])"
   ]
  },
  {
   "cell_type": "code",
   "execution_count": null,
   "metadata": {},
   "outputs": [],
   "source": [
    "list_All['data'][0]['self']['fullName']"
   ]
  },
  {
   "cell_type": "code",
   "execution_count": 6,
   "metadata": {},
   "outputs": [
    {
     "name": "stdout",
     "output_type": "stream",
     "text": [
      "23265701 采购物流中心 江苏公司/南通分公司/综合部/采购物流中心\n"
     ]
    }
   ],
   "source": [
    "for i in range(len(list_All['data'][0]['orgList'])):\n",
    "    print(list_All['data'][0]['orgList'][i]['orgCode'],list_All['data'][0]['orgList'][i]['shortName'],list_All['data'][0]['orgList'][i]['fullName'])"
   ]
  },
  {
   "cell_type": "code",
   "execution_count": null,
   "metadata": {},
   "outputs": [],
   "source": [
    "a='江苏公司/南通分公司'\n",
    "try:\n",
    "    print(a.split('/')[2])\n",
    "except Exception as ex:\n",
    "    print(a.split('/')[1])"
   ]
  }
 ],
 "metadata": {
  "kernelspec": {
   "display_name": "Python 3",
   "language": "python",
   "name": "python3"
  },
  "language_info": {
   "codemirror_mode": {
    "name": "ipython",
    "version": 3
   },
   "file_extension": ".py",
   "mimetype": "text/x-python",
   "name": "python",
   "nbconvert_exporter": "python",
   "pygments_lexer": "ipython3",
   "version": "3.6.7"
  }
 },
 "nbformat": 4,
 "nbformat_minor": 2
}
