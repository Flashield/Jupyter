{
 "cells": [
  {
   "cell_type": "code",
   "execution_count": 1,
   "metadata": {},
   "outputs": [],
   "source": [
    "import urllib\n",
    "import urllib.request\n",
    "import http\n",
    "import http.cookiejar\n",
    "import cx_Oracle\n",
    "import time"
   ]
  },
  {
   "cell_type": "code",
   "execution_count": 2,
   "metadata": {},
   "outputs": [],
   "source": [
    "spider='esxvm2208'\n",
    "spider_db_user='NTTASK'\n",
    "spider_db_pass='NTTASK'\n",
    "spider_db='ESXVM0504'"
   ]
  },
  {
   "cell_type": "code",
   "execution_count": null,
   "metadata": {},
   "outputs": [],
   "source": [
    "while True:\n",
    "    dbconn=cx_Oracle.connect(spider_db_user,spider_db_pass,spider_db)\n",
    "    dbcur=dbconn.cursor()\n",
    "    smt_sql = \"UPDATE kd_dx_customer a SET a.spider_source = '{}' WHERE a.certid like '3206%' AND a.spider_source IS NULL AND ROWNUM <= 100\".format(spider)\n",
    "    dbcur.execute(smt_sql)\n",
    "    dbconn.commit()\n",
    "    smt_sql = \"SELECT a.certid FROM kd_dx_customer a WHERE a.spider_source = '{}' AND a.kd_info IS NULL\".format(spider)\n",
    "    dbcur.execute(smt_sql)\n",
    "    dbrlt=dbcur.fetchall()\n",
    "    for CertInfo in dbrlt:\n",
    "        print(CertInfo[0])\n",
    "        DX_kd_info=get_kdinfo(CertInfo[0])\n",
    "        time.sleep(2)\n",
    "        print(DX_kd_info)\n",
    "        smt_sql = \"update kd_dx_customer a SET a.kd_info='{}',a.check_time=SYSDATE WHERE a.certid = '{}' AND a.spider_source = '{}'\".format(DX_kd_info,CertInfo[0],spider)\n",
    "        dbcur.execute(smt_sql)\n",
    "        dbconn.commit()\n",
    "    dbcur.close()\n",
    "    dbconn.close()\n",
    "#print(dbrlt)"
   ]
  },
  {
   "cell_type": "code",
   "execution_count": 4,
   "metadata": {},
   "outputs": [],
   "source": [
    "def get_kdinfo(CertID):\n",
    "    url = 'http://js.189.cn/umall/broadbandExtend/checkAccNbr'\n",
    "    opener = urllib.request.build_opener()\n",
    "    #添加headers\n",
    "    headers = [('Referer','http://js.189.cn/umall/broadbandExtend/index'),\\\n",
    "               ('Accept-Language','zh-CN;q=0.8,zh;q=0.6,en-US;q=0.4'),\\\n",
    "               ('Cache-Control','max-age=0'),\\\n",
    "               ('Content-Type','application/x-www-form-urlencoded'),\\\n",
    "               ('Origin',url),\\\n",
    "               ('Connection','keep-alive'),\\\n",
    "               ('User-Agent','Mozilla/5.0 (Windows NT 6.1; WOW64; rv:47.0) Gecko/20100101 Firefox/47.0'),\\\n",
    "               ('Accept','application/json, text/javascript, */*; q=0.01')]\n",
    "    opener.addheaders = headers\n",
    "\n",
    "    #添加cookie\n",
    "    cookie_filename = 'cookie_189_cn.txt'\n",
    "    #cookies = http.cookiejar.CookieJar()\n",
    "    cookies = http.cookiejar.MozillaCookieJar(cookie_filename)\n",
    "    cookies.load(ignore_discard=True, ignore_expires=True)\n",
    "    change_cookie = http.cookiejar.Cookie(\n",
    "        version=0, name=\"cityCode\", value=\"js_nt\",\n",
    "        port=None, port_specified=False,\n",
    "        domain=\"js.189.cn\",\n",
    "        domain_specified=True, domain_initial_dot=False,\n",
    "        path=\"/\", path_specified=True, secure=False,\n",
    "        expires=None, discard=True,\n",
    "        comment=None, comment_url=None,\n",
    "        rest={\"HttpOnly\": None}, rfc2109=False)\n",
    "    cookies.set_cookie(change_cookie)\n",
    "    cookie_handler = urllib.request.HTTPCookieProcessor(cookies)\n",
    "    opener.add_handler(cookie_handler)\n",
    "    #添加代理\n",
    "    proxy_handler = urllib.request.ProxyHandler({'https':'221.178.146.113:61388','http':'221.178.146.113:61388'})\n",
    "    #opener.add_handler(proxy_handler)\n",
    "\n",
    "    #添加PostData\n",
    "    #data = {\"accNbr\":\"32062519621126691X\",\"areaCode\":\"0513\",\"isIdCard\":\"1\"}\n",
    "    data = {\"accNbr\":CertID,\"areaCode\":\"0513\",\"isIdCard\":\"1\"}\n",
    "    post_data = urllib.parse.urlencode(data).encode(encoding='UTF8')\n",
    "    print(post_data)\n",
    "    try:\n",
    "        request = opener.open(url,post_data)\n",
    "        kd_info=request.read().decode(encoding='utf8',errors='ignore')\n",
    "    except Exception as ex:\n",
    "        kd_info='Exception!'\n",
    "    return kd_info"
   ]
  },
  {
   "cell_type": "code",
   "execution_count": null,
   "metadata": {},
   "outputs": [
    {
     "name": "stdout",
     "output_type": "stream",
     "text": [
      "b'accNbr=32068219861110297X&areaCode=0513&isIdCard=1'\n"
     ]
    }
   ],
   "source": [
    "#request = opener.open(url1)\n",
    "#request_read = request.read()\n",
    "#print(request_read.decode(encoding='UTF8',errors='ignore'))\n",
    "print(get_kdinfo('32068219861110297X'))"
   ]
  },
  {
   "cell_type": "code",
   "execution_count": null,
   "metadata": {},
   "outputs": [],
   "source": [
    "request = opener.open(url1,post_data)\n",
    "a=request.read()\n",
    "print(a.decode(encoding='utf8',errors='ignore'))"
   ]
  },
  {
   "cell_type": "code",
   "execution_count": null,
   "metadata": {},
   "outputs": [],
   "source": [
    "#登录成功后，保存cookies\n",
    "cookies.save(ignore_discard=True, ignore_expires=True)"
   ]
  },
  {
   "cell_type": "code",
   "execution_count": null,
   "metadata": {},
   "outputs": [],
   "source": [
    "print(a)\n",
    "a.decode(encoding='UTF8')"
   ]
  },
  {
   "cell_type": "code",
   "execution_count": null,
   "metadata": {},
   "outputs": [],
   "source": [
    "get_kdinfo('32062519621126691X')"
   ]
  },
  {
   "cell_type": "code",
   "execution_count": null,
   "metadata": {},
   "outputs": [],
   "source": [
    "url5='http://www.itokoo.com/jobcenter.php?action=punch'\n",
    "headers5 = [('Referer','http://www.itokoo.com/u.php'),\\\n",
    "           ('Accept-Language','en,zh-CN;q=0.8,zh;q=0.6,en-US;q=0.4'),\\\n",
    "           ('Cache-Control','max-age=0'),\\\n",
    "           ('Content-Type','application/x-www-form-urlencoded'),\\\n",
    "           ('Origin','http://www.itokoo.com/u.php'),\\\n",
    "           ('Connection','keep-alive'),\\\n",
    "           ('User-Agent','Mozilla/5.0 (Windows NT 5.2) AppleWebKit/537.36 (KHTML, like Gecko) Chrome/49.0.2623.112 Safari/537.36'),\\\n",
    "           ('Accept','text/html,application/xhtml+xml,application/xml;q=0.9,image/webp,*/*;q=0.8')]\n",
    "opener.addheaders = headers5\n",
    "data5 = {\"step\":\"2\"}\n",
    "post_data5 = urllib.parse.urlencode(data5).encode(encoding='UTF8')\n",
    "request = opener.open(url4,post_data4)\n",
    "print(request.read().decode(encoding='GBK',errors='ignore'))"
   ]
  },
  {
   "cell_type": "code",
   "execution_count": null,
   "metadata": {},
   "outputs": [],
   "source": [
    "dbrlt[1][0]"
   ]
  },
  {
   "cell_type": "code",
   "execution_count": null,
   "metadata": {},
   "outputs": [],
   "source": [
    "dbconn.commit()"
   ]
  },
  {
   "cell_type": "code",
   "execution_count": null,
   "metadata": {},
   "outputs": [],
   "source": [
    "    dbcur.close()\n",
    "    dbconn.close()"
   ]
  },
  {
   "cell_type": "code",
   "execution_count": null,
   "metadata": {},
   "outputs": [],
   "source": []
  }
 ],
 "metadata": {
  "kernelspec": {
   "display_name": "Python 3",
   "language": "python",
   "name": "python3"
  },
  "language_info": {
   "codemirror_mode": {
    "name": "ipython",
    "version": 3
   },
   "file_extension": ".py",
   "mimetype": "text/x-python",
   "name": "python",
   "nbconvert_exporter": "python",
   "pygments_lexer": "ipython3",
   "version": "3.6.7"
  }
 },
 "nbformat": 4,
 "nbformat_minor": 2
}
