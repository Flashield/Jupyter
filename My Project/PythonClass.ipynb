{
 "cells": [
  {
   "cell_type": "code",
   "execution_count": 164,
   "metadata": {},
   "outputs": [],
   "source": [
    "import time\n",
    "class wx_user:\n",
    "    def __init__(self,dict_user):\n",
    "        self.open_id = dict_user\n",
    "        self.live_time = int(time.time())+3600\n",
    "        self.func = list()\n",
    "\n",
    "    def add_func(self,func_list):\n",
    "        self.func.append(func_list)\n",
    "        self.live_time = int(time.time())+3600\n",
    "        \n",
    "    def back_func(self):\n",
    "        try:\n",
    "            self.func.pop(-1)\n",
    "        except:\n",
    "            self.func=list()\n",
    "        self.live_time = int(time.time())+3600"
   ]
  },
  {
   "cell_type": "code",
   "execution_count": 165,
   "metadata": {},
   "outputs": [],
   "source": [
    "a = 'User_test'"
   ]
  },
  {
   "cell_type": "code",
   "execution_count": 166,
   "metadata": {},
   "outputs": [
    {
     "name": "stdout",
     "output_type": "stream",
     "text": [
      "2018-08-22 18:48:54\n"
     ]
    }
   ],
   "source": [
    "obj = wx_user(a)\n",
    "print(time.strftime(\"%Y-%m-%d %H:%M:%S\",time.localtime(obj.live_time)))"
   ]
  },
  {
   "cell_type": "code",
   "execution_count": 170,
   "metadata": {},
   "outputs": [],
   "source": [
    "obj.add_func(2)"
   ]
  },
  {
   "cell_type": "code",
   "execution_count": 183,
   "metadata": {
    "scrolled": true
   },
   "outputs": [
    {
     "data": {
      "text/plain": [
       "[]"
      ]
     },
     "execution_count": 183,
     "metadata": {},
     "output_type": "execute_result"
    }
   ],
   "source": [
    "obj.func"
   ]
  },
  {
   "cell_type": "code",
   "execution_count": 182,
   "metadata": {},
   "outputs": [],
   "source": [
    "obj.back_func()"
   ]
  },
  {
   "cell_type": "code",
   "execution_count": null,
   "metadata": {},
   "outputs": [],
   "source": []
  }
 ],
 "metadata": {
  "kernelspec": {
   "display_name": "Python 3",
   "language": "python",
   "name": "python3"
  },
  "language_info": {
   "codemirror_mode": {
    "name": "ipython",
    "version": 3
   },
   "file_extension": ".py",
   "mimetype": "text/x-python",
   "name": "python",
   "nbconvert_exporter": "python",
   "pygments_lexer": "ipython3",
   "version": "3.5.2"
  }
 },
 "nbformat": 4,
 "nbformat_minor": 2
}
