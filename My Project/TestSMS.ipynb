{
 "cells": [
  {
   "cell_type": "code",
   "execution_count": 1,
   "metadata": {},
   "outputs": [],
   "source": [
    "#MAS:1065736812158\n",
    "import suds\n",
    "from suds.client import Client\n",
    "import pandas\n",
    "mas_appid = 'P288517643798085'"
   ]
  },
  {
   "cell_type": "code",
   "execution_count": 2,
   "metadata": {},
   "outputs": [],
   "source": [
    "def mas_send_sms(msisdn,text_msg,msg_type='Normal'):\n",
    "    url = \"http://221.178.146.234:8379/MAS3/services/cmcc_mas_wbs?wsdl\"\n",
    "    client = Client(url)\n",
    "    result = client.service.sendSms(ApplicationID=mas_appid,DestinationAddresses='tel:{}'.format(msisdn),ExtendCode='10657368121580001',\\\n",
    "                                     Message=text_msg,MessageFormat='ASCII',SendMethod=msg_type,DeliveryResultRequest=True)\n",
    "    return result\n",
    "#print(result)\n",
    "#print(client)"
   ]
  },
  {
   "cell_type": "code",
   "execution_count": 3,
   "metadata": {},
   "outputs": [
    {
     "name": "stdout",
     "output_type": "stream",
     "text": [
      "f592281a-1dfe-4ae0-a1f5-b37b2d387bf7\n",
      "41e39285-fcdc-4d5c-b340-7c85812b049e\n"
     ]
    }
   ],
   "source": [
    "print(mas_send_sms(13806296955,'脚本数据测试1, Instant','Instant'))\n",
    "print(mas_send_sms(13806296955,'脚本数据测试2, Normal','Normal'))"
   ]
  },
  {
   "cell_type": "code",
   "execution_count": 4,
   "metadata": {},
   "outputs": [
    {
     "name": "stdout",
     "output_type": "stream",
     "text": [
      "[APRegistration, APStatusRep, APLogOut, PauseAP, RecoveryAP, APSvcAuthentic, APSvcPerfCmd, APSvcAlarm, APSvcPerfReport, startNotification, stopNotification, sendSms, notifySmsDeliveryStatus, GetReceivedSms, GetSmsDeliveryStatus, notifySmsReception, sendMessage, getMessageDeliveryStatus, getReceivedMessages, getMessage, notifyMessageReception, notifyMessageDeliveryReceipt, getLocation, getLocationForGroup, startPeriodicNotification, EndNotification, LocationNotification, LocationError, LocationEnd, sendPush, getPushDeliveryStatus, notifyPushDeliveryReceipt, makeUssd, handleUssd, ussdContinue, endUssd, notifyUssdEnd]\n"
     ]
    },
    {
     "data": {
      "text/plain": [
       "[(ApplicationID,\n",
       "  <Element:0x7f3889e7e978 name=\"ApplicationID\" type=\"('string', 'http://www.w3.org/2001/XMLSchema')\" />,\n",
       "  [<Element:0x7f3889e7ee80 name=\"sendPushRequest\" />,\n",
       "   <Complex:0x7f3889e7ebe0 />,\n",
       "   <Sequence:0x7f3889e7ea58 />]),\n",
       " (addresses,\n",
       "  <Element:0x7f3889e7e860 name=\"addresses\" type=\"('anyURI', 'http://www.w3.org/2001/XMLSchema')\" />,\n",
       "  [<Element:0x7f3889e7ee80 name=\"sendPushRequest\" />,\n",
       "   <Complex:0x7f3889e7ebe0 />,\n",
       "   <Sequence:0x7f3889e7ea58 />]),\n",
       " (targetURL,\n",
       "  <Element:0x7f3889e7e780 name=\"targetURL\" type=\"('anyURI', 'http://www.w3.org/2001/XMLSchema')\" />,\n",
       "  [<Element:0x7f3889e7ee80 name=\"sendPushRequest\" />,\n",
       "   <Complex:0x7f3889e7ebe0 />,\n",
       "   <Sequence:0x7f3889e7ea58 />]),\n",
       " (ExtendCode,\n",
       "  <Element:0x7f3889e7e668 name=\"ExtendCode\" type=\"('string', 'http://www.w3.org/2001/XMLSchema')\" />,\n",
       "  [<Element:0x7f3889e7ee80 name=\"sendPushRequest\" />,\n",
       "   <Complex:0x7f3889e7ebe0 />,\n",
       "   <Sequence:0x7f3889e7ea58 />]),\n",
       " (subject,\n",
       "  <Element:0x7f3889e7e630 name=\"subject\" type=\"('string', 'http://www.w3.org/2001/XMLSchema')\" />,\n",
       "  [<Element:0x7f3889e7ee80 name=\"sendPushRequest\" />,\n",
       "   <Complex:0x7f3889e7ebe0 />,\n",
       "   <Sequence:0x7f3889e7ea58 />]),\n",
       " (receiptRequest,\n",
       "  <Element:0x7f3889e7e4e0 name=\"receiptRequest\" type=\"('boolean', 'http://www.w3.org/2001/XMLSchema')\" />,\n",
       "  [<Element:0x7f3889e7ee80 name=\"sendPushRequest\" />,\n",
       "   <Complex:0x7f3889e7ebe0 />,\n",
       "   <Sequence:0x7f3889e7ea58 />])]"
      ]
     },
     "execution_count": 4,
     "metadata": {},
     "output_type": "execute_result"
    }
   ],
   "source": [
    "url = \"http://221.178.146.234:8379/MAS3/services/cmcc_mas_wbs?wsdl\"\n",
    "client = Client(url)\n",
    "#print(client)\n",
    "def get_all_methods(client):\n",
    "    return [method for method in client.wsdl.services[0].ports[0].methods]\n",
    "\n",
    "print(get_all_methods(client))\n",
    "\n",
    "def get_method_args(client, method_name):\n",
    "    method = client.wsdl.services[0].ports[0].methods[method_name]\n",
    "    input_params = method.binding.input\n",
    "    return input_params.param_defs(method)\n",
    "get_method_args(client, \"sendPush\")"
   ]
  },
  {
   "cell_type": "code",
   "execution_count": null,
   "metadata": {},
   "outputs": [],
   "source": [
    "result =  client.service.sendSms(ApplicationID='P288517643798085',DestinationAddresses='tel:13806296955',ExtendCode='1065736812158001',\\\n",
    "                                 Message='测试中文20180823_02',MessageFormat='ASCII',SendMethod='Instant',DeliveryResultRequest=True)\n",
    "print(result)"
   ]
  },
  {
   "cell_type": "code",
   "execution_count": 8,
   "metadata": {},
   "outputs": [
    {
     "name": "stdout",
     "output_type": "stream",
     "text": [
      "[]\n"
     ]
    }
   ],
   "source": [
    "print(client.service.GetReceivedSms('P288517643798085'))"
   ]
  },
  {
   "cell_type": "code",
   "execution_count": null,
   "metadata": {},
   "outputs": [],
   "source": [
    "print(mas_send_sms(13806296955,'脚本数据测试1','Instant'))\n",
    "print(mas_send_sms(13806296955,'脚本数据测试2','Normal'))"
   ]
  },
  {
   "cell_type": "code",
   "execution_count": null,
   "metadata": {},
   "outputs": [],
   "source": []
  }
 ],
 "metadata": {
  "kernelspec": {
   "display_name": "Python 3",
   "language": "python",
   "name": "python3"
  },
  "language_info": {
   "codemirror_mode": {
    "name": "ipython",
    "version": 3
   },
   "file_extension": ".py",
   "mimetype": "text/x-python",
   "name": "python",
   "nbconvert_exporter": "python",
   "pygments_lexer": "ipython3",
   "version": "3.6.9"
  }
 },
 "nbformat": 4,
 "nbformat_minor": 2
}
