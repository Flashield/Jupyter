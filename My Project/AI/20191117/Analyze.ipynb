{
 "cells": [
  {
   "cell_type": "code",
   "execution_count": 1,
   "metadata": {},
   "outputs": [],
   "source": [
    "import pandas as pd\n",
    "import numpy as np\n",
    "import matplotlib.pyplot as plt"
   ]
  },
  {
   "cell_type": "code",
   "execution_count": 2,
   "metadata": {},
   "outputs": [],
   "source": [
    "#读取数据\n",
    "train_set = pd.read_csv(\"telco-customer-churn.csv\",encoding='utf-8')\n",
    "predict_set = pd.read_csv(\"test.csv\")\n",
    "#pd.read_fwf() #读取二进制文件\n",
    "#pd.read_excel(\"filename.xlsx\") #读取Excel\n",
    "#xlrd #读取excel的第三方模块"
   ]
  },
  {
   "cell_type": "code",
   "execution_count": 4,
   "metadata": {},
   "outputs": [
    {
     "name": "stdout",
     "output_type": "stream",
     "text": [
      "<class 'pandas.core.frame.DataFrame'>\n",
      "RangeIndex: 6043 entries, 0 to 6042\n",
      "Data columns (total 21 columns):\n",
      "customerID          6043 non-null object\n",
      "gender              6043 non-null object\n",
      "SeniorCitizen       6043 non-null int64\n",
      "Partner             6043 non-null object\n",
      "Dependents          6043 non-null object\n",
      "tenure              6043 non-null int64\n",
      "PhoneService        6043 non-null object\n",
      "MultipleLines       6043 non-null object\n",
      "InternetService     6043 non-null object\n",
      "OnlineSecurity      6043 non-null object\n",
      "OnlineBackup        6043 non-null object\n",
      "DeviceProtection    6043 non-null object\n",
      "TechSupport         6043 non-null object\n",
      "StreamingTV         6043 non-null object\n",
      "StreamingMovies     6043 non-null object\n",
      "Contract            6043 non-null object\n",
      "PaperlessBilling    6043 non-null object\n",
      "PaymentMethod       6043 non-null object\n",
      "MonthlyCharges      6043 non-null float64\n",
      "TotalCharges        6043 non-null object\n",
      "Churn               6043 non-null object\n",
      "dtypes: float64(1), int64(2), object(18)\n",
      "memory usage: 991.6+ KB\n"
     ]
    },
    {
     "data": {
      "text/plain": [
       "(6043, 21)"
      ]
     },
     "execution_count": 4,
     "metadata": {},
     "output_type": "execute_result"
    }
   ],
   "source": [
    "train_set.info()\n",
    "train_set.shape"
   ]
  },
  {
   "cell_type": "code",
   "execution_count": null,
   "metadata": {},
   "outputs": [],
   "source": []
  },
  {
   "cell_type": "code",
   "execution_count": null,
   "metadata": {},
   "outputs": [],
   "source": []
  },
  {
   "cell_type": "code",
   "execution_count": null,
   "metadata": {},
   "outputs": [],
   "source": [
    "#数据描述\n",
    "train_set.info()\n",
    "train_set.describe()\n",
    "train_set.values[1]\n",
    "train_set.values[:,1]\n",
    "train_set.index\n",
    "#索引的常见形式（时间序列，数字，字符）\n",
    "train_set.to_numpy().reshape(-1,1) #?\n",
    "a = train_set[['Age','Gender']]"
   ]
  },
  {
   "cell_type": "code",
   "execution_count": null,
   "metadata": {},
   "outputs": [],
   "source": [
    "#常用的统计函数\n",
    "train_set.var() #方差，表示离散度\n",
    "train_set.corr() #相关系数\n",
    "train_set.cov() #协方差，表示相关度\n",
    "train_set.median() #中位数\n",
    "train_set.sum() #汇总和\n",
    "train_set.cumsum() #累计和\n",
    "train_set.Age.cumprod() #累计积\n",
    "train_set.MonthlyIncome.ptp #极差\n",
    "train_set.Age.mode() #众数\n",
    "train_set #?4分位差 75%-25%的差\n",
    "train_set['Age'].sem() #标准误差\n",
    "np.argmin(train_set.Age) #返回最小值的下标\n",
    "np.argmax(train_set.MonthlyIncome)#返回最大值的下标"
   ]
  },
  {
   "cell_type": "code",
   "execution_count": null,
   "metadata": {},
   "outputs": [],
   "source": [
    "#数据探索\n",
    "##词频统计\n",
    "train_set.Gender.value_counts()\n",
    "print(train_set.Gender.value_counts(ascending=True))\n",
    "print(train_set.Gender.value_counts(normalize=True))\n",
    "#分组统计信息\n",
    "train_set.groupby(train_set.Department).count()\n",
    "train_set.groupby(train_set.RelationshipSatisfaction).sum()\n",
    "train_set.MonthlyIncome.groupby(by = train_set.Department).mean()\n",
    "#实际操作\n",
    "train_set.Attrition.value_counts()"
   ]
  },
  {
   "cell_type": "code",
   "execution_count": null,
   "metadata": {},
   "outputs": [],
   "source": [
    "#列操作\n",
    "train_set.columns\n",
    "train_set.columns.tolist()\n",
    "train_set.index\n",
    "train_set.columns[[1,2,3]]\n",
    "train_set.Age.dtype\n",
    "train_set.Age > 30 #数值判断\n",
    "train_set[train_set.Age > 30] #筛选判断后的值\n",
    "#train_set[train_set.dtypes = 'object'] #筛选判断后的值\n",
    "train_set.index\n",
    "train_set.columns[[1,2,3]]\n",
    "train_set[['Gender', 'Age', 'Department']].columns\n",
    "train_set.sort_values(by=['Age','Education'],) #按数值排序"
   ]
  },
  {
   "cell_type": "code",
   "execution_count": null,
   "metadata": {},
   "outputs": [],
   "source": [
    "#查看是否有缺失值\n",
    "## 离散值填众数，数值型填（均值、中位数、众数）\n",
    "print(train_set.isnull().any())\n",
    "train_set.shape\n",
    "train_set.isnull()\n",
    "train_set.Gender.isin(['Male'])\n",
    "train_set[['Age','Gender']][train_set.Gender.isin(['Male'])]\n",
    "#填充缺失值\n",
    "train_set.fillna(0.1234) #固定值填充\n",
    "train_set.fillna(method='ffill') #前一个值填充\n",
    "train_set.fillna(method='bfill') #前一个值填充\n",
    "#删除缺失值\n",
    "train_set.dropna(how='all') #all:全部是缺失值，any：只要有一个就删除\n",
    "train_set.dropna(thresh = 2, axis=0) # 保留至少有两个非NaN的值\n",
    "#插值法\n",
    "##线性插值（见Pandas目录里的数据预处理部分）"
   ]
  },
  {
   "cell_type": "code",
   "execution_count": null,
   "metadata": {},
   "outputs": [],
   "source": [
    "#重复值的清洗\n",
    "##数值重复\n",
    "train_set.drop_duplicates() #keep='first'保留第一个\n",
    "##特征重复\n",
    "train_set.corr(method='pearson') # 相关系数：'pearson'结果是1时，是重复特征；>0.5显著相关；>0.3相关\n",
    "train_set.drop()"
   ]
  },
  {
   "cell_type": "code",
   "execution_count": null,
   "metadata": {},
   "outputs": [],
   "source": [
    "#异常值清洗\n",
    "# 3\\sigma原则：拉伊达法则。适用于正态分布。\\mu均值；\\sigma标准差。3\\sigma占比达到0.9973。\n",
    "#箱线图分析：QL(下四分位),QU(上四分位),IQR(QU-QL,包含全部观察值的一半)"
   ]
  },
  {
   "cell_type": "code",
   "execution_count": null,
   "metadata": {},
   "outputs": [],
   "source": [
    "#字符串的清洗"
   ]
  },
  {
   "cell_type": "code",
   "execution_count": null,
   "metadata": {},
   "outputs": [],
   "source": [
    "#查看不同的值\n",
    "train_set.Department.unique()"
   ]
  },
  {
   "cell_type": "code",
   "execution_count": null,
   "metadata": {},
   "outputs": [],
   "source": [
    "#数据清洗\n",
    "##缺失值清洗\n",
    "##重复值清洗\n",
    "##异常值清洗"
   ]
  },
  {
   "cell_type": "code",
   "execution_count": null,
   "metadata": {},
   "outputs": [],
   "source": [
    "##数据的归一化\n",
    "##正则化\n",
    "##标准化"
   ]
  },
  {
   "cell_type": "code",
   "execution_count": null,
   "metadata": {},
   "outputs": [],
   "source": [
    "#数据的格式变换\n",
    "##行列变换\n"
   ]
  },
  {
   "cell_type": "code",
   "execution_count": null,
   "metadata": {},
   "outputs": [],
   "source": [
    "#数据的评估和优化\n",
    "##准确率\n",
    "##精度\n",
    "##召回率\n",
    "##F1综合评分矩阵\n",
    "##ROC曲线\n",
    "##混淆矩阵\n",
    "#K-means \n",
    "#SVM 核函数"
   ]
  },
  {
   "cell_type": "code",
   "execution_count": null,
   "metadata": {},
   "outputs": [],
   "source": [
    "#制作直方图\n",
    "pd.crosstab(train_set.Department, train_set.Attrition).plot(kind = 'bar')\n",
    "plt.title('Attrition of  Department')\n",
    "plt.xlabel = 'Department'\n",
    "plt.ylabel = 'Attrition'\n",
    "#plt.savefig('AttritionofDepartment')"
   ]
  },
  {
   "cell_type": "code",
   "execution_count": null,
   "metadata": {},
   "outputs": [],
   "source": [
    "num_bins = 20 #分箱大小\n",
    "train_set.hist(bins = num_bins, figsize = (20,15))\n",
    "plt.show()"
   ]
  },
  {
   "cell_type": "code",
   "execution_count": null,
   "metadata": {},
   "outputs": [],
   "source": [
    "#预处理以及建模通过另外一个脚本\n",
    "##最重要的预处理!\n",
    "cat_vars=['Gender','Department','EducationField']\n",
    "for var in cat_vars:\n",
    "    cat_list = pd.get_dummies(df[var],prefix = var)\n",
    "    df_with_dummy = df.join(cat_list)\n",
    "    df = df_with_dummy"
   ]
  },
  {
   "cell_type": "code",
   "execution_count": null,
   "metadata": {},
   "outputs": [],
   "source": [
    "df.drop(df.columns[[1,3,6]], axis = 1, inplace=True) #inplace=True 修改原表数据， False删除内存数据"
   ]
  },
  {
   "cell_type": "code",
   "execution_count": null,
   "metadata": {},
   "outputs": [],
   "source": [
    "#df.to_csv('employee_pre.csv')\n",
    "df.info()"
   ]
  },
  {
   "cell_type": "code",
   "execution_count": null,
   "metadata": {},
   "outputs": [],
   "source": [
    "df_var = df.columns.values.tolist()\n",
    "Y=['Attrition']\n",
    "X=[i for i in df_var if i not in Y]"
   ]
  },
  {
   "cell_type": "code",
   "execution_count": null,
   "metadata": {},
   "outputs": [],
   "source": [
    "X, Y"
   ]
  },
  {
   "cell_type": "code",
   "execution_count": null,
   "metadata": {},
   "outputs": [],
   "source": [
    "#特征选择\n",
    "from sklearn.feature_selection import RFE\n",
    "from sklearn.linear_model import LogisticRegression\n",
    "model = LogisticRegression()\n",
    "rfe = RFE(model,12)\n",
    "rfe = rfe.fit(df[X],df[Y])\n",
    "print(rfe.support_)\n",
    "print(rfe.ranking_)"
   ]
  },
  {
   "cell_type": "code",
   "execution_count": null,
   "metadata": {},
   "outputs": [],
   "source": [
    "select_colomns = [  'RelationshipSatisfaction',\n",
    "'Gender_Female',\n",
    "'Department_Human Resources',\n",
    "'Department_Research & Development',\n",
    "'EducationField_Human Resources',\n",
    "'EducationField_Life Sciences',\n",
    "'EducationField_Marketing',\n",
    "'EducationField_Medical',\n",
    "'EducationField_Other',\n",
    "'EducationField_Technical Degree']\n",
    "x=df[select_colomns]\n",
    "y=df.Attrition"
   ]
  },
  {
   "cell_type": "code",
   "execution_count": null,
   "metadata": {},
   "outputs": [],
   "source": [
    "#切割样本\n",
    "from sklearn.model_selection import train_test_split\n",
    "X_train,X_test,Y_train,Y_test = train_test_split(x,y,test_size=0.3,random_state = 0)"
   ]
  },
  {
   "cell_type": "code",
   "execution_count": null,
   "metadata": {},
   "outputs": [],
   "source": [
    "#随机森林\n",
    "from sklearn.ensemble import RandomForestClassifier\n",
    "from sklearn.metrics import accuracy_score\n",
    "rf = RandomForestClassifier()\n",
    "rf.fit(X_train,Y_train)\n",
    "RandomForestClassifier(bootstrap=True, class_weight=None, criterion='gini', max_depth=None, max_features='auto', max_leaf_nodes=None, min_impurity_split=1e-07, min_samples_leaf=1, min_samples_split=2, min_weight_fraction_leaf=0.0, n_estimators=10, n_jobs=1, oob_score=False, random_state=None, verbose=0, warm_start=False)\n",
    "accuracy_score(Y_test,rf.predict(X_test))"
   ]
  },
  {
   "cell_type": "code",
   "execution_count": null,
   "metadata": {},
   "outputs": [],
   "source": [
    "#SVM\n",
    "from sklearn.svm import SVC\n",
    "svc = SVC()\n",
    "svc.fit(X_train,Y_train)\n",
    "accuracy_score(Y_test,svc.predict(X_test))"
   ]
  },
  {
   "cell_type": "code",
   "execution_count": null,
   "metadata": {},
   "outputs": [],
   "source": [
    "#线性回归\n",
    "from sklearn.linear_model import LogisticRegression\n",
    "logreg = LogisticRegression()\n",
    "logreg.fit(X_train,Y_train)\n",
    "accuracy_score(Y_test,logreg.predict(X_test))"
   ]
  },
  {
   "cell_type": "code",
   "execution_count": null,
   "metadata": {},
   "outputs": [],
   "source": [
    "#预测集处理\n",
    "##预处理\n",
    "df_predict = pd.read_csv('./My Project/AI/20191115/score.csv')\n",
    "cat_vars=['Gender','Department','EducationField']\n",
    "for var in cat_vars:\n",
    "    cat_list = pd.get_dummies(df_predict[var],prefix = var)\n",
    "    df_predict_with_dummy = df_predict.join(cat_list)\n",
    "    df_predict = df_predict_with_dummy"
   ]
  },
  {
   "cell_type": "code",
   "execution_count": null,
   "metadata": {},
   "outputs": [],
   "source": [
    "df_predict.drop(df_predict.columns[[1,3,6]], axis = 1, inplace=True)"
   ]
  },
  {
   "cell_type": "code",
   "execution_count": null,
   "metadata": {},
   "outputs": [],
   "source": [
    "x_predict = df_predict[select_colomns]"
   ]
  },
  {
   "cell_type": "code",
   "execution_count": null,
   "metadata": {},
   "outputs": [],
   "source": [
    "df1 = pd.get_dummies(df['Attrition'],prefix='Attrition')"
   ]
  },
  {
   "cell_type": "code",
   "execution_count": null,
   "metadata": {},
   "outputs": [],
   "source": [
    "df1.corr(df1.Attrition_No)"
   ]
  },
  {
   "cell_type": "code",
   "execution_count": null,
   "metadata": {},
   "outputs": [],
   "source": [
    "df1 = df1.drop(df1.columns[9],axis = 1)"
   ]
  },
  {
   "cell_type": "code",
   "execution_count": null,
   "metadata": {},
   "outputs": [],
   "source": [
    "df.corrwith(df.Age)"
   ]
  },
  {
   "cell_type": "code",
   "execution_count": null,
   "metadata": {},
   "outputs": [],
   "source": [
    "dates=pd.date_range('2019-08-01',periods=6)\n",
    "num = np.random.randn(6,4)\n",
    "column = ['a','b','c','d']\n",
    "df = pd.DataFrame(data=num,index=dates,columns=column)\n",
    "df\n",
    "df.T #矩阵转置\n",
    "df.loc['2019-08-02']\n",
    "df.iloc[0]\n",
    "#df.ix[[2,5],['b','c']]\n",
    "df.iloc[[2,5]][['b','c']] #equals to df.ix[[2,5],['b','c']]\n",
    "col = ['b','c','a','d'] #固定列名\n",
    "df[col]"
   ]
  }
 ],
 "metadata": {
  "file_extension": ".py",
  "kernelspec": {
   "display_name": "Python 3",
   "language": "python",
   "name": "python3"
  },
  "language_info": {
   "codemirror_mode": {
    "name": "ipython",
    "version": 3
   },
   "file_extension": ".py",
   "mimetype": "text/x-python",
   "name": "python",
   "nbconvert_exporter": "python",
   "pygments_lexer": "ipython3",
   "version": "3.6.8"
  },
  "mimetype": "text/x-python",
  "name": "python",
  "npconvert_exporter": "python",
  "pygments_lexer": "ipython3",
  "version": 3
 },
 "nbformat": 4,
 "nbformat_minor": 2
}
