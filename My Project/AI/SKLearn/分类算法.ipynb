{
 "cells": [
  {
   "cell_type": "code",
   "execution_count": 1,
   "outputs": [],
   "source": [
    "from sklearn import datasets\n",
    "from sklearn.model_selection import train_test_split\n",
    "from sklearn.metrics import accuracy_score,classification_report,confusion_matrix"
   ],
   "metadata": {
    "collapsed": false,
    "pycharm": {
     "name": "#%%\n",
     "is_executing": false
    }
   }
  },
  {
   "cell_type": "code",
   "execution_count": 2,
   "outputs": [
    {
     "name": "stdout",
     "text": [
      "(90, 4)\n",
      "(90,)\n",
      "(60, 4)\n",
      "(60,)\n"
     ],
     "output_type": "stream"
    }
   ],
   "source": [
    "iris = datasets.load_iris()\n",
    "# Split Training and Testing Data\n",
    "X_train, X_test, y_train, y_test = train_test_split(\n",
    "iris['data'], iris['target'], train_size=0.6,test_size=0.4,random_state=1253)\n",
    "\n",
    "print(X_train.shape)\n",
    "print(y_train.shape)\n",
    "\n",
    "print(X_test.shape)\n",
    "print(y_test.shape)"
   ],
   "metadata": {
    "collapsed": false,
    "pycharm": {
     "name": "#%%\n",
     "is_executing": false
    }
   }
  },
  {
   "cell_type": "code",
   "execution_count": 17,
   "outputs": [
    {
     "name": "stdout",
     "text": [
      "[0 0 1 1 1 1 0 1 2 0 1 2 0 2 2 2 2 0 2 2 1 2 1 1 1 1 2 2 1 1 2 0 2 1 0 1 0\n",
      " 2 2 0 0 0 0 0 1 2 2 1 1 0 2 1 0 2 2 2 2 0 1 0]\n",
      "[0 0 1 1 1 1 0 1 2 0 1 2 0 2 2 2 2 0 2 2 1 2 1 1 1 1 2 2 1 1 2 0 2 1 0 1 0\n",
      " 2 2 0 0 0 0 0 1 2 2 1 1 0 2 1 0 2 2 2 2 0 1 0]\n",
      "模型准确率: 1.0\n",
      "模型准确率: 1.0\n"
     ],
     "output_type": "stream"
    }
   ],
   "source": [
    "# KNN 训练模型\n",
    "from sklearn.neighbors import KNeighborsClassifier\n",
    "knn = KNeighborsClassifier(n_neighbors=7)\n",
    "knn.fit(X_train, y_train)\n",
    "\n",
    "y_pred = knn.predict(X_test) #模型对测试集数据进行预测的结果\n",
    "print(y_pred)\n",
    "print(y_test) #测试集真正的标签数据\n",
    "result = y_pred == y_test #有多少个是预测正确的\n",
    "print('模型准确率:',result.sum()/len(X_test))\n",
    "\n",
    "#score函数和上面是等价的\n",
    "print('模型准确率:',knn.score(X_test, y_test) )"
   ],
   "metadata": {
    "collapsed": false,
    "pycharm": {
     "name": "#%%\n",
     "is_executing": false
    }
   }
  },
  {
   "cell_type": "code",
   "execution_count": 16,
   "outputs": [
    {
     "name": "stdout",
     "text": [
      "预测结果: [0]\n",
      "把预测结果转为标签值： ['setosa']\n"
     ],
     "output_type": "stream"
    },
    {
     "data": {
      "text/plain": "['setosa']"
     },
     "metadata": {},
     "output_type": "execute_result",
     "execution_count": 16
    }
   ],
   "source": [
    "#对新数据进行预测\n",
    "import numpy as np\n",
    "X_new = np.array([[5, 2.9, 1, 0.2]]) #生成一条新数据\n",
    "prediction = knn.predict(X_new) #预测\n",
    "print('预测结果:',prediction)\n",
    "print('把预测结果转为标签值：',iris['target_names'][prediction])\n",
    "[0]\n",
    "['setosa']\n"
   ],
   "metadata": {
    "collapsed": false,
    "pycharm": {
     "name": "#%%\n",
     "is_executing": false
    }
   }
  },
  {
   "cell_type": "code",
   "execution_count": 3,
   "metadata": {
    "collapsed": true,
    "pycharm": {
     "is_executing": false
    }
   },
   "outputs": [
    {
     "name": "stdout",
     "text": [
      "[0 0 1 1 1 1 0 1 2 0 1 2 0 2 2 2 2 0 2 2 1 2 1 1 1 1 2 2 1 1 2 0 2 1 0 1 0\n",
      " 2 2 0 0 0 0 0 1 2 2 1 1 0 2 1 0 2 2 2 2 0 1 0]\n",
      "[0 0 1 1 1 1 0 1 2 0 1 2 0 2 2 2 2 0 2 2 1 2 1 1 1 1 2 2 1 1 2 0 2 1 0 1 0\n",
      " 2 2 0 0 0 0 0 1 2 2 1 1 0 2 1 0 2 2 2 2 0 1 0]\n",
      "模型准确率: 1.0\n",
      "1.0\n"
     ],
     "output_type": "stream"
    }
   ],
   "source": [
    "# SVM Training Model\n",
    "from sklearn.svm import SVC\n",
    "class_svc = SVC(kernel='rbf',gamma='scale')\n",
    "class_svc.fit(X_train, y_train)\n",
    "\n",
    "y_pred = class_svc.predict(X_test) #模型对测试集数据进行预测的结果\n",
    "print(y_pred)\n",
    "print(y_test) #测试集真正的标签数据\n",
    "result = (y_pred == y_test) #有多少个是预测正确的\n",
    "print('模型准确率:',result.sum()/len(X_test))\n",
    "\n",
    "y_pred = class_svc.predict(X_test)\n",
    "print(class_svc.score(X_test, y_test))"
   ]
  },
  {
   "cell_type": "code",
   "execution_count": 20,
   "outputs": [
    {
     "name": "stdout",
     "text": [
      "[0 0 1 1 1 1 0 1 2 0 1 2 0 2 2 2 2 0 2 2 1 2 2 1 1 1 2 2 1 1 2 0 2 2 0 1 0\n",
      " 2 2 0 0 0 0 0 1 2 2 1 2 0 2 1 0 2 2 2 1 0 1 0]\n",
      "[0 0 1 1 1 1 0 1 2 0 1 2 0 2 2 2 2 0 2 2 1 2 1 1 1 1 2 2 1 1 2 0 2 1 0 1 0\n",
      " 2 2 0 0 0 0 0 1 2 2 1 1 0 2 1 0 2 2 2 2 0 1 0]\n",
      "模型准确率: 0.9333333333333333\n",
      "0.9333333333333333\n"
     ],
     "output_type": "stream"
    },
    {
     "name": "stderr",
     "text": [
      "/usr/local/lib/python3.6/dist-packages/sklearn/linear_model/logistic.py:432: FutureWarning: Default solver will be changed to 'lbfgs' in 0.22. Specify a solver to silence this warning.\n",
      "  FutureWarning)\n",
      "/usr/local/lib/python3.6/dist-packages/sklearn/linear_model/logistic.py:469: FutureWarning: Default multi_class will be changed to 'auto' in 0.22. Specify the multi_class option to silence this warning.\n",
      "  \"this warning.\", FutureWarning)\n"
     ],
     "output_type": "stream"
    }
   ],
   "source": [
    "# LogisticRegression Model\n",
    "from sklearn.linear_model import LogisticRegression \n",
    "class_lr = LogisticRegression(penalty='l2')\n",
    "class_lr.fit(X_train, y_train)\n",
    "\n",
    "y_pred = class_lr.predict(X_test) #模型对测试集数据进行预测的结果\n",
    "print(y_pred)\n",
    "print(y_test) #测试集真正的标签数据\n",
    "result = (y_pred == y_test) #有多少个是预测正确的\n",
    "print('模型准确率:',result.sum()/len(X_test))\n",
    "\n",
    "y_pred = class_lr.predict(X_test)\n",
    "print(class_lr.score(X_test, y_test))"
   ],
   "metadata": {
    "collapsed": false,
    "pycharm": {
     "name": "#%%\n",
     "is_executing": false
    }
   }
  },
  {
   "cell_type": "code",
   "execution_count": 4,
   "outputs": [
    {
     "traceback": [
      "\u001b[0;31m---------------------------------------------------------------------------\u001b[0m",
      "\u001b[0;31mNameError\u001b[0m                                 Traceback (most recent call last)",
      "\u001b[0;32m<ipython-input-4-fb5d8351535e>\u001b[0m in \u001b[0;36m<module>\u001b[0;34m\u001b[0m\n\u001b[0;32m----> 1\u001b[0;31m \u001b[0mprint\u001b[0m\u001b[0;34m(\u001b[0m\u001b[0maccuracy_score\u001b[0m\u001b[0;34m(\u001b[0m\u001b[0my_test\u001b[0m\u001b[0;34m,\u001b[0m\u001b[0mclass_lr\u001b[0m\u001b[0;34m.\u001b[0m\u001b[0mpredict\u001b[0m\u001b[0;34m(\u001b[0m\u001b[0mX_test\u001b[0m\u001b[0;34m)\u001b[0m\u001b[0;34m)\u001b[0m\u001b[0;34m)\u001b[0m\u001b[0;34m\u001b[0m\u001b[0;34m\u001b[0m\u001b[0m\n\u001b[0m\u001b[1;32m      2\u001b[0m \u001b[0mprint\u001b[0m\u001b[0;34m(\u001b[0m\u001b[0mclassification_report\u001b[0m\u001b[0;34m(\u001b[0m\u001b[0my_test\u001b[0m\u001b[0;34m,\u001b[0m\u001b[0mclass_lr\u001b[0m\u001b[0;34m.\u001b[0m\u001b[0mpredict\u001b[0m\u001b[0;34m(\u001b[0m\u001b[0mX_test\u001b[0m\u001b[0;34m)\u001b[0m\u001b[0;34m)\u001b[0m\u001b[0;34m)\u001b[0m\u001b[0;34m\u001b[0m\u001b[0;34m\u001b[0m\u001b[0m\n\u001b[1;32m      3\u001b[0m \u001b[0mprint\u001b[0m\u001b[0;34m(\u001b[0m\u001b[0mconfusion_matrix\u001b[0m\u001b[0;34m(\u001b[0m\u001b[0my_test\u001b[0m\u001b[0;34m,\u001b[0m\u001b[0mclass_lr\u001b[0m\u001b[0;34m.\u001b[0m\u001b[0mpredict\u001b[0m\u001b[0;34m(\u001b[0m\u001b[0mX_test\u001b[0m\u001b[0;34m)\u001b[0m\u001b[0;34m)\u001b[0m\u001b[0;34m)\u001b[0m\u001b[0;34m\u001b[0m\u001b[0;34m\u001b[0m\u001b[0m\n\u001b[1;32m      4\u001b[0m \u001b[0;34m\u001b[0m\u001b[0m\n",
      "\u001b[0;31mNameError\u001b[0m: name 'class_lr' is not defined"
     ],
     "ename": "NameError",
     "evalue": "name 'class_lr' is not defined",
     "output_type": "error"
    }
   ],
   "source": [
    "print(accuracy_score(y_test,class_svc.predict(X_test)))\n",
    "print(classification_report(y_test,class_svc.predict(X_test)))\n",
    "print(confusion_matrix(y_test,class_svc.predict(X_test)))"
   ],
   "metadata": {
    "collapsed": false,
    "pycharm": {
     "name": "#%%\n",
     "is_executing": false
    }
   }
  },
  {
   "cell_type": "code",
   "execution_count": 31,
   "outputs": [
    {
     "data": {
      "text/plain": "'bcde'"
     },
     "metadata": {},
     "output_type": "execute_result",
     "execution_count": 31
    }
   ],
   "source": [
    "\n",
    "\n"
   ],
   "metadata": {
    "collapsed": false,
    "pycharm": {
     "name": "#%%\n",
     "is_executing": false
    }
   }
  }
 ],
 "metadata": {
  "kernelspec": {
   "display_name": "Python 3",
   "language": "python",
   "name": "python3"
  },
  "language_info": {
   "codemirror_mode": {
    "name": "ipython",
    "version": 2
   },
   "file_extension": ".py",
   "mimetype": "text/x-python",
   "name": "python",
   "nbconvert_exporter": "python",
   "pygments_lexer": "ipython2",
   "version": "2.7.6"
  },
  "pycharm": {
   "stem_cell": {
    "cell_type": "raw",
    "source": [],
    "metadata": {
     "collapsed": false
    }
   }
  }
 },
 "nbformat": 4,
 "nbformat_minor": 0
}