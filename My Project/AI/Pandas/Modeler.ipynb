{
 "cells": [
  {
   "cell_type": "code",
   "execution_count": null,
   "metadata": {},
   "outputs": [],
   "source": [
    "import pandas as pd\n",
    "import numpy as np\n",
    "import matplotlib.pyplot as plt\n",
    "#读取数据\n",
    "train_set = pd.read_csv(\"Train.csv\",encoding='utf-8')\n",
    "predict_set = pd.read_csv(\"Predict.csv\")"
   ]
  },
  {
   "cell_type": "code",
   "execution_count": null,
   "metadata": {},
   "outputs": [],
   "source": [
    "train_set.info()"
   ]
  },
  {
   "cell_type": "code",
   "execution_count": null,
   "metadata": {},
   "outputs": [],
   "source": [
    "#最重要的预处理!\n",
    "#对于非数值型的变量进行清洗\n",
    "cat_vars=['Gender','Department','EducationField']\n",
    "for var in cat_vars:\n",
    "    cat_list = pd.get_dummies(train_set[var],prefix = var)\n",
    "    train_with_dummy = train_set.join(cat_list)\n",
    "    train_set = train_with_dummy"
   ]
  },
  {
   "cell_type": "code",
   "execution_count": null,
   "metadata": {},
   "outputs": [],
   "source": [
    "train_set.info()"
   ]
  },
  {
   "cell_type": "code",
   "execution_count": null,
   "metadata": {},
   "outputs": [],
   "source": [
    "train_set.drop(train_set[cat_vars].columns, axis = 1, inplace=True)"
   ]
  },
  {
   "cell_type": "code",
   "execution_count": null,
   "metadata": {},
   "outputs": [],
   "source": [
    "#df.to_csv('employee_pre.csv')\n",
    "train_set.info()"
   ]
  },
  {
   "cell_type": "code",
   "execution_count": null,
   "metadata": {},
   "outputs": [],
   "source": [
    "train_set.drop(train_set[['Attrition_No']].columns, axis = 1, inplace=True)"
   ]
  },
  {
   "cell_type": "code",
   "execution_count": null,
   "metadata": {},
   "outputs": [],
   "source": [
    "train_col_var = train_set.columns.values.tolist()\n",
    "Y_list=['Attrition']\n",
    "X_list=[i for i in train_col_var if i not in Y_list]"
   ]
  },
  {
   "cell_type": "code",
   "execution_count": null,
   "metadata": {},
   "outputs": [],
   "source": [
    "X_list, Y_list"
   ]
  },
  {
   "cell_type": "code",
   "execution_count": null,
   "metadata": {},
   "outputs": [],
   "source": [
    "#特征选择\n",
    "##如果变量不是很多，可以不一定进行\n",
    "from sklearn.feature_selection import RFE\n",
    "from sklearn.linear_model import LogisticRegression\n",
    "model = LogisticRegression(solver='liblinear')\n",
    "rfe = RFE(model,10)\n",
    "rfe = rfe.fit(train_set[X_list],train_set[Y_list].values.ravel())\n",
    "print(rfe.support_)\n",
    "print(rfe.ranking_)"
   ]
  },
  {
   "cell_type": "code",
   "execution_count": null,
   "metadata": {},
   "outputs": [],
   "source": [
    "#这个暂时不知道该怎么处理，还是手工处理的\n",
    "select_colomns = ['RelationshipSatisfaction',\n",
    "'Gender_Female',\n",
    "'Department_Human Resources',\n",
    "'Department_Research & Development',\n",
    "'EducationField_Human Resources',\n",
    "'EducationField_Life Sciences',\n",
    "'EducationField_Marketing',\n",
    "'EducationField_Medical',\n",
    "'EducationField_Other',\n",
    "'EducationField_Technical Degree']\n",
    "#X_list=select_colomns\n",
    "X_raw=train_set[X_list]\n",
    "y=train_set[Y_list]\n",
    "#X_raw=sample_train_set[X_list]\n",
    "#y=sample_train_set[Y_list]"
   ]
  },
  {
   "cell_type": "code",
   "execution_count": null,
   "metadata": {},
   "outputs": [],
   "source": [
    "#切割样本\n",
    "from sklearn.model_selection import train_test_split\n",
    "from sklearn import preprocessing\n",
    "X = preprocessing.minmax_scale(X_raw,feature_range=(-1,1))\n",
    "X_train,X_test,y_train,y_test = train_test_split(X,y,test_size=0.3,random_state = np.random)"
   ]
  },
  {
   "cell_type": "code",
   "execution_count": null,
   "metadata": {},
   "outputs": [],
   "source": [
    "#增加抽样操作\n",
    "#sample_train_set = train_set[train_set.Attrition_Yes==0].sample(n=300)\n",
    "#sample_train_set = sample_train_set.append(train_set[train_set.Attrition_Yes==1])\n",
    "sample_train_set.Attrition_Yes.value_counts()\n",
    "sample_train_set.corrwith(sample_train_set.Attrition_Yes)\n",
    "train_set.corrwith(train_set.Attrition_Yes)\n",
    "train_set.cov()\n",
    "#train_set.shape"
   ]
  },
  {
   "cell_type": "code",
   "execution_count": null,
   "metadata": {},
   "outputs": [],
   "source": [
    "#随机森林\n",
    "from sklearn.ensemble import RandomForestClassifier\n",
    "from sklearn.metrics import accuracy_score,classification_report,confusion_matrix\n",
    "#X = preprocessing.minmax_scale(x,feature_range=(-1,1))\n",
    "X_train,X_test,Y_train,Y_test = train_test_split(X,y,test_size=0.3,random_state = np.random)\n",
    "rf = RandomForestClassifier(n_estimators=100)\n",
    "rf.fit(X_train,Y_train.values.ravel())\n",
    "RandomForestClassifier(bootstrap=True, class_weight=None, criterion='gini', max_depth=None, max_features='auto', max_leaf_nodes=None, min_impurity_split=1e-07, min_samples_leaf=1, min_samples_split=2, min_weight_fraction_leaf=0.0, n_estimators=10, n_jobs=1, oob_score=False, random_state=None, verbose=0, warm_start=False)\n",
    "print('accuracy_score is :{}'.format(accuracy_score(Y_test,rf.predict(X_test))))\n",
    "print('classification_report is :\\n{}'.format(classification_report(Y_test,rf.predict(X_test))))\n",
    "print('confusion_matrix is :\\n{}'.format(confusion_matrix(Y_test,rf.predict(X_test))))"
   ]
  },
  {
   "cell_type": "code",
   "execution_count": null,
   "metadata": {},
   "outputs": [],
   "source": [
    "## SVM\n",
    "from sklearn.svm import SVC\n",
    "from sklearn.metrics import accuracy_score\n",
    "#数据归一化\n",
    "#x = preprocessing.minmax_scale(x,feature_range=(-1,1))\n",
    "X_train,X_test,Y_train,Y_test = train_test_split(X,y,test_size=0.3,random_state = np.random)\n",
    "svc = SVC(gamma='auto')\n",
    "svc.fit(X_train,Y_train.values.ravel())\n",
    "print('accuracy_score is :{}'.format(accuracy_score(Y_test,svc.predict(X_test))))\n",
    "print('classification_report is :\\n{}'.format(classification_report(Y_test,svc.predict(X_test))))\n",
    "print('confusion_matrix is :\\n{}'.format(confusion_matrix(Y_test,svc.predict(X_test))))"
   ]
  },
  {
   "cell_type": "code",
   "execution_count": null,
   "metadata": {},
   "outputs": [],
   "source": [
    "#线性回归\n",
    "from sklearn.linear_model import LogisticRegression\n",
    "logreg = LogisticRegression()\n",
    "X_train,X_test,Y_train,Y_test = train_test_split(X,y,test_size=0.3,random_state = np.random)\n",
    "logreg.fit(X_train,Y_train)\n",
    "print('accuracy_score is :{}'.format(accuracy_score(Y_test,logreg.predict(X_test))))\n",
    "print('classification_report is :\\n{}'.format(classification_report(Y_test,logreg.predict(X_test))))\n",
    "print('confusion_matrix is :\\n{}'.format(confusion_matrix(Y_test,logreg.predict(X_test))))"
   ]
  },
  {
   "cell_type": "code",
   "execution_count": null,
   "metadata": {},
   "outputs": [],
   "source": [
    "#预测集处理\n",
    "##预处理\n",
    "cat_vars=['Gender','Department','EducationField']\n",
    "for var in cat_vars:\n",
    "    cat_list = pd.get_dummies(predict_set[var],prefix = var)\n",
    "    predict_set_with_dummy = predict_set.join(cat_list)\n",
    "    predict_set = predict_set_with_dummy"
   ]
  },
  {
   "cell_type": "code",
   "execution_count": null,
   "metadata": {},
   "outputs": [],
   "source": [
    "predict_set.drop(predict_set[cat_vars].columns, axis = 1, inplace=True)"
   ]
  },
  {
   "cell_type": "code",
   "execution_count": null,
   "metadata": {},
   "outputs": [],
   "source": [
    "predict_X=predict_set[X_list]"
   ]
  },
  {
   "cell_type": "code",
   "execution_count": null,
   "metadata": {},
   "outputs": [],
   "source": [
    "predict_y = rf.predict(predict_X)\n",
    "print(predict_y)\n",
    "print(predict_y.reshape(-1,1))"
   ]
  },
  {
   "cell_type": "code",
   "execution_count": null,
   "metadata": {},
   "outputs": [],
   "source": [
    "predict_set.info()"
   ]
  },
  {
   "cell_type": "code",
   "execution_count": null,
   "metadata": {},
   "outputs": [],
   "source": [
    "x_predict = df_predict[select_colomns]"
   ]
  },
  {
   "cell_type": "code",
   "execution_count": null,
   "metadata": {},
   "outputs": [],
   "source": [
    "df1 = pd.get_dummies(df['Attrition'],prefix='Attrition')"
   ]
  },
  {
   "cell_type": "code",
   "execution_count": null,
   "metadata": {},
   "outputs": [],
   "source": [
    "df1.corr(df1.Attrition_No)"
   ]
  },
  {
   "cell_type": "code",
   "execution_count": null,
   "metadata": {},
   "outputs": [],
   "source": [
    "df1 = df1.drop(df1.columns[9],axis = 1)"
   ]
  },
  {
   "cell_type": "code",
   "execution_count": null,
   "metadata": {},
   "outputs": [],
   "source": [
    "df.corrwith(df.Age)"
   ]
  },
  {
   "cell_type": "code",
   "execution_count": null,
   "metadata": {},
   "outputs": [],
   "source": [
    "plt.annotate()"
   ]
  }
 ],
 "metadata": {
  "file_extension": ".py",
  "kernelspec": {
   "display_name": "Python 3",
   "language": "python",
   "name": "python3"
  },
  "language_info": {
   "codemirror_mode": {
    "name": "ipython",
    "version": 3
   },
   "file_extension": ".py",
   "mimetype": "text/x-python",
   "name": "python",
   "nbconvert_exporter": "python",
   "pygments_lexer": "ipython3",
   "version": "3.6.8"
  },
  "mimetype": "text/x-python",
  "name": "python",
  "npconvert_exporter": "python",
  "pygments_lexer": "ipython3",
  "version": 3
 },
 "nbformat": 4,
 "nbformat_minor": 2
}
