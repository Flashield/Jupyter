{
 "cells": [
  {
   "cell_type": "code",
   "execution_count": 1,
   "metadata": {},
   "outputs": [],
   "source": [
    "import zipfile\n",
    "import os\n",
    "import math\n",
    "import pandas as pd\n",
    "import cx_Oracle"
   ]
  },
  {
   "cell_type": "markdown",
   "metadata": {},
   "source": [
    "## 初始时间设定"
   ]
  },
  {
   "cell_type": "code",
   "execution_count": 2,
   "metadata": {},
   "outputs": [],
   "source": [
    "# 数据库信息\n",
    "ana_db_user='NTTASK'\n",
    "ana_db_pass='NTTASK'\n",
    "ana_db='ESXVM0504'\n",
    "\n",
    "# 分析日期\n",
    "ana_date = 20200831\n",
    "ana_mon = str(ana_date)[0:6]"
   ]
  },
  {
   "cell_type": "code",
   "execution_count": 3,
   "metadata": {},
   "outputs": [],
   "source": [
    "def unzip_file(ana_date):\n",
    "    # 解压缩文件\n",
    "    province_file = '全省业务发展日报({}).zip'.format(ana_date)\n",
    "    f_province_zip = zipfile.ZipFile(province_file)\n",
    "    print('Extracting……'.format(f_province_zip.extract(member=f_province_zip.namelist()[0])))\n",
    "    os.rename(f_province_zip.namelist()[0],f'province_ana{ana_date}.xls')"
   ]
  },
  {
   "cell_type": "code",
   "execution_count": 4,
   "metadata": {},
   "outputs": [],
   "source": [
    "# unzip_file(ana_date)"
   ]
  },
  {
   "cell_type": "markdown",
   "metadata": {},
   "source": [
    "## 清理当月数据"
   ]
  },
  {
   "cell_type": "code",
   "execution_count": 5,
   "metadata": {},
   "outputs": [],
   "source": [
    "dbconn=cx_Oracle.connect(ana_db_user,ana_db_pass,ana_db)\n",
    "dbcur=dbconn.cursor()\n",
    "sql_stmt = 'DELETE FROM T_QSYWFZRB_RPT a WHERE a.report_mon = :ana_mon'\n",
    "dbcur.execute(sql_stmt, [ana_mon])\n",
    "dbcur.close()\n",
    "dbconn.commit()\n",
    "dbconn.close()"
   ]
  },
  {
   "cell_type": "markdown",
   "metadata": {},
   "source": [
    "## 导入数据库表"
   ]
  },
  {
   "cell_type": "code",
   "execution_count": 6,
   "metadata": {
    "scrolled": true
   },
   "outputs": [
    {
     "name": "stdout",
     "output_type": "stream",
     "text": [
      "0 1、竞争态势\n",
      "Int64Index([1, 20, 39, 58, 77, 96], dtype='int64') Int64Index([16, 35, 54, 73, 92, 111], dtype='int64')\n",
      "1 2、用户发展\n",
      "Int64Index([1, 20, 39], dtype='int64') Int64Index([16, 35, 55], dtype='int64')\n",
      "2 3、流量经营\n",
      "Int64Index([1, 20, 39, 59, 78, 98, 117], dtype='int64') Int64Index([16, 35, 55, 74, 94, 113, 131], dtype='int64')\n",
      "3 4、终端发展\n",
      "Int64Index([1, 20, 39, 58, 77, 96, 117, 136, 156, 175, 194, 215, 235, 254], dtype='int64') Int64Index([16, 35, 54, 73, 92, 113, 132, 152, 171, 190, 211, 231, 250, 269], dtype='int64')\n",
      "4 5、家庭市场\n",
      "Int64Index([1, 20, 39, 58], dtype='int64') Int64Index([16, 35, 54, 73], dtype='int64')\n",
      "5 6、收入结构\n",
      "Int64Index([1, 23, 43, 64, 85], dtype='int64') Int64Index([19, 39, 60, 81, 102], dtype='int64')\n",
      "6 7、集团市场\n",
      "Int64Index([  1,  22,  43,  63,  84, 103, 122, 141, 161, 179, 198, 216, 236,\n",
      "            255, 273, 292, 311, 330, 350, 369, 388, 407, 426, 445, 464, 483,\n",
      "            502, 520, 539, 558],\n",
      "           dtype='int64') Int64Index([ 19,  40,  60,  81, 100, 119, 138, 158, 175, 195, 213, 233, 252,\n",
      "            270, 289, 308, 327, 347, 365, 385, 404, 423, 442, 461, 480, 499,\n",
      "            517, 536, 555, 574],\n",
      "           dtype='int64')\n",
      "7 8、数据业务\n",
      "Int64Index([1, 20, 39, 58, 77, 96, 116, 135, 154, 173, 192], dtype='int64') Int64Index([16, 35, 54, 73, 92, 112, 131, 150, 169, 188, 208], dtype='int64')\n",
      "8 9、大流量产品发展\n",
      "Int64Index([1, 20], dtype='int64') Int64Index([16, 35], dtype='int64')\n",
      "9 指标说明\n",
      "Int64Index([], dtype='int64') Int64Index([], dtype='int64')\n",
      "10 10、经分零星报表\n",
      "Int64Index([1, 21, 40, 60], dtype='int64') Int64Index([17, 36, 56, 76], dtype='int64')\n",
      "11 11、其他零星数据\n",
      "Int64Index([0], dtype='int64') Int64Index([14], dtype='int64')\n"
     ]
    }
   ],
   "source": [
    "province_kpi = pd.read_excel(f'全省业务发展日报({ana_date}).xls',header=None, sheet_name=None)\n",
    "for sheet_num, sheet_key in enumerate(province_kpi.keys()):\n",
    "    print(sheet_num, sheet_key)\n",
    "    # 按Excel中的Sheet进行处理\n",
    "    kpi_df = province_kpi[sheet_key]\n",
    "    # 取分表的表头\n",
    "    kpi_t_head_list = kpi_df[kpi_df[0]=='地市'].index\n",
    "    # 取分表的表尾\n",
    "    kpi_t_end_list = kpi_df[pd.eval(\"(kpi_df[0]=='全省') or (kpi_df[0]=='合计') or (kpi_df[0]=='江苏省')\")].index\n",
    "    print(kpi_t_head_list, kpi_t_end_list)\n",
    "    for tab_num in range(len(kpi_t_head_list)):\n",
    "        # 取内部明细表格\n",
    "        tab = kpi_df[kpi_t_head_list[tab_num]:kpi_t_end_list[tab_num]+1].fillna(method='ffill').dropna(axis=1, how='all').fillna(method='ffill', axis=1)\n",
    "        # 分解表格标题和表格数据内容\n",
    "        tab_cap = tab[tab[0]=='地市']\n",
    "        tab_content = tab[tab[0]!='地市']\n",
    "        # 准备入库\n",
    "        dbconn=cx_Oracle.connect(ana_db_user,ana_db_pass,ana_db)\n",
    "        dbcur=dbconn.cursor()\n",
    "        # 按列取值\n",
    "        for tab_row in range(1, tab_cap.shape[1]):\n",
    "            # 数据标题\n",
    "            kpi_id = '{:02d}.{:02d}.{:02d}'.format(sheet_num,tab_num,tab_row)\n",
    "            kpi_title = '|'.join([x.strip() for x in tab_cap[tab_row].drop_duplicates().to_list()])\n",
    "            kpi_data = tab_content[tab_row].apply(\n",
    "                lambda x:round(float(x.rstrip('%'))/100,4) if str(x)[-1]=='%' else (float('nan') if x == '-' else float(x)))\n",
    "            # 处理NaN问题\n",
    "            # print(kpi_data.to_list())\n",
    "            sql_parm = [str(ana_date)[0:6], kpi_id, kpi_title]+[None if math.isnan(x) else x for x in kpi_data.to_list()]\n",
    "            # print(len(kpi_data), sql_parm)\n",
    "            if len(kpi_data) == 15:\n",
    "                sql_stmt = '''INSERT INTO t_qsywfzrb_rpt(report_mon, kpi_id, kpi_name, c_01,c_02,c_03,c_04,c_05,c_06,c_07,c_08,c_09,c_10,c_11,c_12,c_13,c_15,c_99)\n",
    "                VALUES(:report_mon, :kpi_id, :kpi_name, :c_01,:c_02,:c_03,:c_04,:c_05,:c_06,:c_07,:c_08,:c_09,:c_10,:c_11,:c_12,:c_13,:c_15,:c_99)'''\n",
    "            elif len(kpi_data) == 14:\n",
    "                sql_stmt = '''INSERT INTO t_qsywfzrb_rpt(report_mon, kpi_id, kpi_name, c_01,c_02,c_03,c_04,c_05,c_06,c_07,c_08,c_09,c_10,c_11,c_12,c_13,c_99)\n",
    "                VALUES(:report_mon, :kpi_id, :kpi_name, :c_01,:c_02,:c_03,:c_04,:c_05,:c_06,:c_07,:c_08,:c_09,:c_10,:c_11,:c_12,:c_13,:c_99)'''\n",
    "            else:\n",
    "                print('Error, Please Check {}'.format(kpi_title))\n",
    "                break\n",
    "            # print(sql_parm)\n",
    "            dbcur.execute(sql_stmt, sql_parm)\n",
    "        dbcur.close()\n",
    "        dbconn.commit()\n",
    "        dbconn.close()"
   ]
  },
  {
   "cell_type": "markdown",
   "metadata": {},
   "source": [
    "## 按规则生成处理字段"
   ]
  },
  {
   "cell_type": "code",
   "execution_count": 7,
   "metadata": {},
   "outputs": [
    {
     "name": "stdout",
     "output_type": "stream",
     "text": [
      "['202008', '99.01.01', '互联网电视销户|当月累计|当月离网率', 0.013462493737065095, 0.019252421289664645, 0.009054067475311013, 0.010011478528861424, 0.0067332806843619485, 0.007166282584014788, 0.009817251679406504, 0.0097383443745199, 0.009349681441482809, 0.010500136501774523, 0.007937477517833025, 0.011762180882970702, 0.00771484375, None, 0.010633350355828727]\n",
      "['202008', '99.01.02', '当月累计(TB)|手机上网流量(TB)|其中5G网流量|DOU(G)', 3.8118274304418986, 3.7443710589362715, 3.877253046594982, 2.6538038291605304, 2.900850489662677, 2.2991533980582526, 2.925993220338983, 3.288691612903226, 3.5834117759693633, 2.7023989424983474, 3.7785500485908656, 2.6489288846520496, 3.399630571198713, None, 3.373736756023965]\n",
      "['202008', '99.01.03', '总计|套餐内使用流量（TB）|DOU(G)', 4.695980066253115, 5.374075822410048, 4.919561375961625, 3.896970528899149, 5.707033313913458, 3.839724561650849, 3.9442989478099766, 4.83015776340989, 4.471317274510502, 4.5176951816936315, 4.209762390966259, 3.6941963472077832, 4.82776281144598, None, 4.785188705612315]\n",
      "['202008', '99.01.04', '其中：咪咕任我看|套餐内使用流量（TB）|DOU(G)', 0.05045648917927457, 0.03234853128388892, 0.04765035047417094, 0.021071817032660138, 0.04177590908144787, 0.02950337402380772, 0.023218621738756065, 0.019739393153046285, 0.04139152870350462, 0.02635712122741496, 0.03800959484539693, 0.032481256377268085, 0.039379590646472375, None, 0.03352051835853132]\n",
      "['202008', '99.01.05', '其中：三方任我看|套餐内使用流量（TB）|DOU(G)', 5.148585809453315, 6.136034803461899, 5.422268684535749, 4.729823444320213, 6.232057516874459, 4.766995912869387, 4.648442233847899, 5.580202939178937, 4.815050074490288, 5.655129842740098, 5.2080842683918105, 4.569264220251568, 5.667746512646552, None, 5.468476168388045]\n"
     ]
    }
   ],
   "source": [
    "# 读取当月字段\n",
    "dbconn=cx_Oracle.connect(ana_db_user,ana_db_pass,ana_db)\n",
    "dbcur=dbconn.cursor()\n",
    "dbcur.execute('SELECT * FROM T_QSYWFZRB_RPT a WHERE a.REPORT_MON = {}'.format(str(ana_date)[:6]))\n",
    "dbrlt=dbcur.fetchall()\n",
    "\n",
    "df_ann_mon = pd.DataFrame(dbrlt)\n",
    "# 读取原有配置规则\n",
    "df_deal = pd.read_json('kpi_deal_cfg.json')\n",
    "# 按规则计算，并入库\n",
    "for i in df_deal.index:\n",
    "    deal_rlt = eval(df_deal.loc[i,'kpi_deal_str'])\n",
    "    deal_sql = \"\"\"INSERT INTO t_qsywfzrb_rpt(report_mon, kpi_id, kpi_name, c_01,c_02,c_03,c_04,c_05,c_06,c_07,c_08,c_09,c_10,c_11,c_12,c_13,c_15,c_99)\n",
    "                VALUES(:report_mon, :kpi_id, :kpi_name, :c_01,:c_02,:c_03,:c_04,:c_05,:c_06,:c_07,:c_08,:c_09,:c_10,:c_11,:c_12,:c_13,:c_15,:c_99)\"\"\"\n",
    "    deal_sql_param = [ana_mon, df_deal.loc[i,'kpi_id'], df_deal.loc[i,'kpi_name']]+[None if math.isnan(x) else x for x in deal_rlt.to_list()]\n",
    "    print(deal_sql_param)\n",
    "    dbcur.execute(deal_sql, deal_sql_param)\n",
    "dbcur.close()\n",
    "dbconn.commit()\n",
    "dbconn.close()"
   ]
  },
  {
   "cell_type": "markdown",
   "metadata": {},
   "source": [
    "## 单独调整规则，并加入规则（不调整无需运行）"
   ]
  },
  {
   "cell_type": "code",
   "execution_count": null,
   "metadata": {},
   "outputs": [],
   "source": [
    "# 测试处理字符串\n",
    "deal_string = \"df_ann_mon[df_ann_mon[2] == '其中：咪咕任我看|套餐内使用流量（TB）'].iloc[0,3:]/df_ann_mon[df_ann_mon[2] == '其中：咪咕任我看|当月到达'].iloc[0,3:]*1024\"\n",
    "eval(deal_string)"
   ]
  },
  {
   "cell_type": "code",
   "execution_count": null,
   "metadata": {},
   "outputs": [],
   "source": [
    "# 处理字符串\n",
    "print('目前配置项：\\n', df_deal)\n",
    "\n",
    "KPI_ID = input('KPI_ID:')\n",
    "KPI_NAME = input('KPI_NAME:')\n",
    "deal_string = input('deal_string:')\n",
    "\n",
    "# 生成单独处理的规则\n",
    "kpi_deal_rule = pd.DataFrame([[KPI_ID, \n",
    "                               KPI_NAME, \n",
    "                               deal_string,\n",
    "                               np.nan]], \n",
    "                             columns = [\"kpi_id\", \"kpi_name\", \"kpi_deal_str\", \"remark\"])\n",
    "# 合并规则\n",
    "df_deal = df_deal.append(kpi_deal_rule, ignore_index=True,)\n",
    "# 删除重复项\n",
    "df_deal.drop_duplicates(inplace=True)\n",
    "\n",
    "# 保存配置项\n",
    "df_deal.to_json('kpi_deal_cfg.json', force_ascii=False)"
   ]
  },
  {
   "cell_type": "markdown",
   "metadata": {},
   "source": [
    "## 生成最终结果Excel"
   ]
  },
  {
   "cell_type": "code",
   "execution_count": 8,
   "metadata": {},
   "outputs": [],
   "source": [
    "# 读取当月字段\n",
    "dbconn=cx_Oracle.connect(ana_db_user,ana_db_pass,ana_db)\n",
    "dbcur=dbconn.cursor()\n",
    "# 调用处理存储过程\n",
    "dbcur.callproc('p_deal_qskb@nt_zhuangbin.ntdb3', [ana_mon])\n",
    "# 获取全量数据\n",
    "dbcur.execute('SELECT * FROM T_QSYWFZRB_RPT a WHERE a.REPORT_MON = {} order by a.kpi_id'.format(str(ana_date)[:6]))\n",
    "dbrlt=dbcur.fetchall()\n",
    "df_ana_mon = pd.DataFrame(dbrlt)\n",
    "dbcur.close()\n",
    "dbconn.commit()\n",
    "dbconn.close()\n",
    "df_ana_mon.to_excel(f'{ana_mon}月全量.xlsx', header=False, index=False)"
   ]
  },
  {
   "cell_type": "markdown",
   "metadata": {},
   "source": [
    "<font color = 'red'>处理结束，下载结果数据并粘贴即可</font>"
   ]
  },
  {
   "cell_type": "code",
   "execution_count": null,
   "metadata": {},
   "outputs": [],
   "source": []
  },
  {
   "cell_type": "code",
   "execution_count": null,
   "metadata": {},
   "outputs": [],
   "source": []
  },
  {
   "cell_type": "code",
   "execution_count": null,
   "metadata": {
    "scrolled": true
   },
   "outputs": [],
   "source": [
    "dbcur.close()\n",
    "dbconn.commit()\n",
    "dbconn.close()"
   ]
  },
  {
   "cell_type": "code",
   "execution_count": null,
   "metadata": {},
   "outputs": [],
   "source": [
    "str(ana_date)[0:6]"
   ]
  },
  {
   "cell_type": "code",
   "execution_count": null,
   "metadata": {},
   "outputs": [],
   "source": [
    "kpi_df0 = province_kpi['7、集团市场']\n",
    "kpi_df0"
   ]
  },
  {
   "cell_type": "code",
   "execution_count": null,
   "metadata": {},
   "outputs": [],
   "source": [
    "#取分表的表头\n",
    "kpi_t_head_list = kpi_df0[kpi_df0[0]=='地市'].index\n",
    "#取分表的表尾\n",
    "kpi_t_end_list = kpi_df0[pd.eval(\"(kpi_df0[0]=='全省') or (kpi_df0[0]=='合计')\")].index"
   ]
  },
  {
   "cell_type": "code",
   "execution_count": null,
   "metadata": {},
   "outputs": [],
   "source": [
    "kpi_t_head_list, kpi_t_end_list"
   ]
  },
  {
   "cell_type": "code",
   "execution_count": null,
   "metadata": {},
   "outputs": [],
   "source": [
    "# 取内部明细表格\n",
    "tab = kpi_df0[273:289+1].fillna(method='ffill').dropna(axis=1, how='all').fillna(method='ffill', axis=1)"
   ]
  },
  {
   "cell_type": "code",
   "execution_count": null,
   "metadata": {},
   "outputs": [],
   "source": [
    "# 分解表格标题和表格数据内容\n",
    "tab_cap = tab[tab[0]=='地市']\n",
    "tab_content = tab[tab[0]!='地市']"
   ]
  },
  {
   "cell_type": "code",
   "execution_count": null,
   "metadata": {},
   "outputs": [],
   "source": [
    "tab_cap"
   ]
  },
  {
   "cell_type": "code",
   "execution_count": null,
   "metadata": {},
   "outputs": [],
   "source": [
    "# 数据标题\n",
    "'|'.join(tab_cap[8].drop_duplicates().to_list())"
   ]
  },
  {
   "cell_type": "code",
   "execution_count": null,
   "metadata": {},
   "outputs": [],
   "source": [
    "tab_cont_with_index = tab_content.set_index([0])"
   ]
  },
  {
   "cell_type": "code",
   "execution_count": null,
   "metadata": {},
   "outputs": [],
   "source": [
    "kpi_data = tab_cont_with_index[8].apply(lambda x:round(float(x.rstrip('%'))/100,4) if str(x)[-1]=='%' else (None if x == '-' else x))"
   ]
  },
  {
   "cell_type": "code",
   "execution_count": null,
   "metadata": {},
   "outputs": [],
   "source": [
    "kpi_data.to_list()"
   ]
  },
  {
   "cell_type": "code",
   "execution_count": null,
   "metadata": {},
   "outputs": [],
   "source": [
    "[None if math.isnan(x) else x for x in a]"
   ]
  },
  {
   "cell_type": "code",
   "execution_count": null,
   "metadata": {},
   "outputs": [],
   "source": [
    "b=float('nan')"
   ]
  },
  {
   "cell_type": "code",
   "execution_count": null,
   "metadata": {},
   "outputs": [],
   "source": [
    "math.isnan(a[13])"
   ]
  },
  {
   "cell_type": "code",
   "execution_count": null,
   "metadata": {},
   "outputs": [],
   "source": [
    "sql_parm = [202005,'1.2.3.4','Test']+kpi_data.to_list()"
   ]
  },
  {
   "cell_type": "code",
   "execution_count": null,
   "metadata": {},
   "outputs": [],
   "source": [
    "dbconn=cx_Oracle.connect(ana_db_user,ana_db_pass,ana_db)"
   ]
  },
  {
   "cell_type": "code",
   "execution_count": null,
   "metadata": {},
   "outputs": [],
   "source": [
    "dbcur=dbconn.cursor()"
   ]
  },
  {
   "cell_type": "code",
   "execution_count": null,
   "metadata": {},
   "outputs": [],
   "source": [
    "#sql_stmt = '''INSERT INTO t_qsywfzrb_rpt(report_mon, kpi_id, kpi_name, c_01,c_02,c_03,c_04,c_05,c_06,c_07,c_08,c_09,c_10,c_11,c_12,c_13,c_15,c_99)\n",
    "#VALUES(:report_mon, :kpi_id, :kpi_name, :c_01,:c_02,:c_03,:c_04,:c_05,:c_06,:c_07,:c_08,:c_09,:c_10,:c_11,:c_12,:c_13,:c_15,:c_99)'''\n",
    "\n",
    "sql_stmt = '''INSERT INTO t_qsywfzrb_rpt(report_mon, kpi_id, kpi_name, c_01,c_02,c_03,c_04,c_05,c_06,c_07,c_08,c_09,c_10,c_11,c_12,c_13,c_99)\n",
    "VALUES(:report_mon, :kpi_id, :kpi_name, :c_01,:c_02,:c_03,:c_04,:c_05,:c_06,:c_07,:c_08,:c_09,:c_10,:c_11,:c_12,:c_13,:c_99)'''\n",
    "\n",
    "dbcur.execute(sql_stmt, sql_parm)\n",
    "#dbrlt=dbcur.fetchall()\n",
    "print(dbrlt)"
   ]
  },
  {
   "cell_type": "code",
   "execution_count": null,
   "metadata": {},
   "outputs": [],
   "source": [
    "dbcur.close()\n",
    "dbconn.commit()\n",
    "dbconn.close()"
   ]
  },
  {
   "cell_type": "code",
   "execution_count": null,
   "metadata": {},
   "outputs": [],
   "source": [
    "a = [' 123 ',' 456 ']"
   ]
  },
  {
   "cell_type": "code",
   "execution_count": null,
   "metadata": {},
   "outputs": [],
   "source": [
    "[x.strip() for x in a]"
   ]
  },
  {
   "cell_type": "code",
   "execution_count": null,
   "metadata": {},
   "outputs": [],
   "source": []
  },
  {
   "cell_type": "code",
   "execution_count": null,
   "metadata": {},
   "outputs": [],
   "source": []
  },
  {
   "cell_type": "code",
   "execution_count": null,
   "metadata": {},
   "outputs": [],
   "source": []
  },
  {
   "cell_type": "code",
   "execution_count": null,
   "metadata": {},
   "outputs": [],
   "source": [
    "a[3].apply(lambda x:x if str(x)[-1]!='%' else float(x.rstrip('%'))/100)"
   ]
  },
  {
   "cell_type": "code",
   "execution_count": null,
   "metadata": {
    "code_folding": []
   },
   "outputs": [],
   "source": [
    "# 行数\n",
    "print(kpi_df0.shape[0])\n",
    "# 列数\n",
    "print(kpi_df0.shape[1])"
   ]
  }
 ],
 "metadata": {
  "kernelspec": {
   "display_name": "Python 3",
   "language": "python",
   "name": "python3"
  },
  "language_info": {
   "codemirror_mode": {
    "name": "ipython",
    "version": 3
   },
   "file_extension": ".py",
   "mimetype": "text/x-python",
   "name": "python",
   "nbconvert_exporter": "python",
   "pygments_lexer": "ipython3",
   "version": "3.6.9"
  },
  "toc": {
   "base_numbering": 1,
   "nav_menu": {},
   "number_sections": true,
   "sideBar": true,
   "skip_h1_title": false,
   "title_cell": "Table of Contents",
   "title_sidebar": "Contents",
   "toc_cell": false,
   "toc_position": {
    "height": "calc(100% - 180px)",
    "left": "10px",
    "top": "150px",
    "width": "307.2px"
   },
   "toc_section_display": true,
   "toc_window_display": true
  },
  "varInspector": {
   "cols": {
    "lenName": 16,
    "lenType": 16,
    "lenVar": 40
   },
   "kernels_config": {
    "python": {
     "delete_cmd_postfix": "",
     "delete_cmd_prefix": "del ",
     "library": "var_list.py",
     "varRefreshCmd": "print(var_dic_list())"
    },
    "r": {
     "delete_cmd_postfix": ") ",
     "delete_cmd_prefix": "rm(",
     "library": "var_list.r",
     "varRefreshCmd": "cat(var_dic_list()) "
    }
   },
   "position": {
    "height": "212.4px",
    "left": "1118px",
    "right": "20px",
    "top": "111px",
    "width": "350px"
   },
   "types_to_exclude": [
    "module",
    "function",
    "builtin_function_or_method",
    "instance",
    "_Feature"
   ],
   "window_display": false
  }
 },
 "nbformat": 4,
 "nbformat_minor": 2
}
