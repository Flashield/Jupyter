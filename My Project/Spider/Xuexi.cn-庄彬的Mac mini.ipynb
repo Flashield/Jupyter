{
 "cells": [
  {
   "cell_type": "code",
   "execution_count": 1,
   "metadata": {},
   "outputs": [
    {
     "name": "stdout",
     "output_type": "stream",
     "text": [
      "env: DISPLAY=211.139.119.100:0\n"
     ]
    }
   ],
   "source": [
    "%env DISPLAY=211.139.119.100:0\n",
    "from selenium import webdriver\n",
    "from selenium.webdriver.common.action_chains import ActionChains\n",
    "from bs4 import BeautifulSoup\n",
    "from IPython.display import Image\n",
    "import time,random,base64\n",
    "import MAS"
   ]
  },
  {
   "cell_type": "code",
   "execution_count": 2,
   "metadata": {},
   "outputs": [],
   "source": [
    "chrome_options = webdriver.chrome.options.Options()\n",
    "chrome_options.add_argument(\"--headless\")\n",
    "browser = webdriver.Chrome(options=chrome_options)"
   ]
  },
  {
   "cell_type": "code",
   "execution_count": 3,
   "metadata": {},
   "outputs": [
    {
     "data": {
      "image/png": "[encoded data removed]",
      "text/plain": [
       "<IPython.core.display.Image object>"
      ]
     },
     "metadata": {},
     "output_type": "display_data"
    }
   ],
   "source": [
    "browser.get('https://www.xuexi.cn')\n",
    "time.sleep(10)\n",
    "if browser.page_source.find('login-icon') > 0:\n",
    "    #学习平台登陆\n",
    "    browser.get('https://pc.xuexi.cn/points/login.html?ref=https%3A%2F%2Fwww.xuexi.cn%2F')\n",
    "    #browser.execute_script(\"window.scrollTo(0, document.body.scrollHeight);\")\n",
    "    time.sleep(10)\n",
    "    frame_image = browser.find_element_by_xpath('//*[@id=\"ddlogin-iframe\"]')\n",
    "    browser.switch_to.frame(frame_image)\n",
    "    #ele_image=browser.find_element_by_xpath('//*[@id=\"qrcode\"]/img')\n",
    "    ele_image=browser.find_element_by_xpath('//*[@id=\"app\"]/div/div[1]/div/div[1]/div[1]/img')\n",
    "    display(Image(data=base64.b64decode(ele_image.get_attribute('src')[22:])))"
   ]
  },
  {
   "cell_type": "code",
   "execution_count": 4,
   "metadata": {
    "scrolled": true
   },
   "outputs": [
    {
     "name": "stdout",
     "output_type": "stream",
     "text": [
      "Scan It and Press Enter Cellphone: 13806296955\n"
     ]
    }
   ],
   "source": [
    "cellphone = input('Scan It and Press Enter Cellphone: ')"
   ]
  },
  {
   "cell_type": "code",
   "execution_count": 5,
   "metadata": {},
   "outputs": [],
   "source": [
    "#ele_article=browser.find_elements_by_class_name('_3wnLIRcEni99IWb4rSpguK')\n",
    "#cnt_art=0\n",
    "#cnt_video=0"
   ]
  },
  {
   "cell_type": "code",
   "execution_count": 6,
   "metadata": {},
   "outputs": [],
   "source": [
    "#普通文章学习\n",
    "ele_article=browser.find_element_by_xpath('//*[@id=\"root\"]/div/header/div[2]/div[1]/div[1]/a[1]')\n",
    "ele_article.click()\n",
    "time.sleep(10)\n",
    "browser.switch_to.window(browser.window_handles[1])"
   ]
  },
  {
   "cell_type": "code",
   "execution_count": null,
   "metadata": {},
   "outputs": [
    {
     "name": "stdout",
     "output_type": "stream",
     "text": [
      "0 习近平：团结合作是国际社会战胜疫情最有力武器\n",
      "1 习近平致全国青联十三届全委会和全国学联二十七大的贺信\n"
     ]
    }
   ],
   "source": [
    "for i in range(6):\n",
    "    t_article = random.choice(browser.find_elements_by_class_name('text-wrap'))\n",
    "    print(i, t_article.text)\n",
    "    t_article.click()\n",
    "    #ran_int = random.randint(0,len(browser.find_elements_by_class_name('text-wrap')))\n",
    "    #print(i, browser.find_elements_by_class_name('text-wrap')[ran_int].text)\n",
    "    #browser.find_elements_by_class_name('text-wrap')[ran_int].click()\n",
    "    current_windows = browser.window_handles\n",
    "    browser.switch_to.window(current_windows[2])\n",
    "    browser.execute_script(\"window.scrollTo(0, document.body.scrollHeight);\")\n",
    "    time.sleep(200)\n",
    "    browser.close()\n",
    "    browser.switch_to.window(browser.window_handles[1])"
   ]
  },
  {
   "cell_type": "code",
   "execution_count": null,
   "metadata": {},
   "outputs": [],
   "source": [
    "#返回主页\n",
    "browser.close()\n",
    "browser.switch_to.window(browser.window_handles[0])"
   ]
  },
  {
   "cell_type": "code",
   "execution_count": null,
   "metadata": {},
   "outputs": [],
   "source": [
    "#视频文章学习\n",
    "ele_v_article=browser.find_element_by_xpath('//*[@id=\"root\"]/div/header/div[2]/div[1]/div[2]/a[2]')\n",
    "ele_v_article.click()\n",
    "time.sleep(10)\n",
    "browser.switch_to.window(browser.window_handles[1])"
   ]
  },
  {
   "cell_type": "code",
   "execution_count": null,
   "metadata": {},
   "outputs": [],
   "source": [
    "#随机进入视频栏目\n",
    "ele_v_article = random.choice(browser.find_elements_by_xpath('//*[@id=\"495f\"]/div/div/div/div/div/section/div/div/div/div[1]/*'))\n",
    "print(ele_v_article)\n",
    "#ele_v_article=browser.find_elements_by_xpath('//*[@id=\"495f\"]/div/div/div/div/div/section/div/div/div/div[1]/*')[ran_int]\n",
    "#ele_v_article=browser.find_element_by_xpath('//*[@id=\"495f\"]/div/div/div/div/div/section/div/div/div/div[1]/div[1]/div/div/span')\n",
    "ele_v_article.click()\n",
    "time.sleep(10)\n",
    "browser.switch_to.window(browser.window_handles[2])"
   ]
  },
  {
   "cell_type": "code",
   "execution_count": null,
   "metadata": {},
   "outputs": [],
   "source": [
    "#随机进入视频子栏目\n",
    "video_len = len(browser.find_elements_by_xpath('//body/div/div/div/section/div/div/div/div/div/section[2]/div/div/div/div/div/section/div/div/div/div/div/div/div/div[2]/div/section/div/div/div/div/div/section/div/div/div/div/div/section/div/div/div/div/div/div/div/div[1]/div/*'))\n",
    "print(video_len)\n",
    "ran_int = random.randint(1,video_len-1)\n",
    "print(ran_int)\n",
    "ele_v_article=browser.find_elements_by_xpath('//body/div/div/div/section/div/div/div/div/div/section[2]/div/div/div/div/div/section/div/div/div/div/div/div/div/div[2]/div/section/div/div/div/div/div/section/div/div/div/div/div/section/div/div/div/div/div/div/div/div[1]/div/*')[ran_int]\n",
    "#ele_v_article=browser.find_element_by_xpath('//*[@id=\"495f\"]/div/div/div/div/div/section/div/div/div/div[1]/div[1]/div/div/span')\n",
    "ele_v_article.click()\n",
    "time.sleep(10)\n"
   ]
  },
  {
   "cell_type": "code",
   "execution_count": null,
   "metadata": {},
   "outputs": [],
   "source": [
    "for i in range(6):\n",
    "    #ran_int = random.randint(0,len(browser.find_elements_by_class_name('textWrapper')))\n",
    "    #print(i, ran_int, browser.find_elements_by_class_name('textWrapper')[ran_int].text)\n",
    "    #browser.find_elements_by_class_name('textWrapper')[ran_int].click()\n",
    "    v_article = random.choice(browser.find_elements_by_class_name('textWrapper'))\n",
    "    print(i, v_article.text)\n",
    "    v_article.click()\n",
    "    current_windows = browser.window_handles\n",
    "    browser.switch_to.window(current_windows[3])\n",
    "    browser.execute_script(\"window.scrollTo(0, document.body.scrollHeight);\")\n",
    "    time.sleep(300)\n",
    "    browser.close()\n",
    "    browser.switch_to.window(browser.window_handles[2])"
   ]
  },
  {
   "cell_type": "code",
   "execution_count": null,
   "metadata": {},
   "outputs": [],
   "source": [
    "#关闭其他窗口，进入主页\n",
    "for i in range(1,len(browser.window_handles)):\n",
    "    browser.switch_to.window(browser.window_handles[1])\n",
    "    browser.close()\n",
    "browser.switch_to.window(browser.window_handles[0])"
   ]
  },
  {
   "cell_type": "code",
   "execution_count": null,
   "metadata": {},
   "outputs": [],
   "source": [
    "#检查积分情况\n",
    "ele_v_article=browser.find_element_by_xpath('//*[@id=\"root\"]/div/div/section/div/div/div/div/div[4]/section/div[4]')\n",
    "ele_v_article.click()\n",
    "browser.switch_to.window(browser.window_handles[1])\n",
    "time.sleep(10)\n",
    "ele_score=browser.find_elements_by_class_name('my-points-points')\n",
    "print(\"Today's Score is {}\".format(ele_score[1].text))\n",
    "#发送短信提醒\n",
    "MAS.mas_send_sms(cellphone,\"Today's Score is {}\".format(ele_score[1].text),'Instant')"
   ]
  },
  {
   "cell_type": "code",
   "execution_count": null,
   "metadata": {},
   "outputs": [],
   "source": [
    "#退出\n",
    "browser.quit()"
   ]
  },
  {
   "cell_type": "code",
   "execution_count": null,
   "metadata": {},
   "outputs": [],
   "source": [
    "MAS.mas_send_sms(cellphone,\"Today's Score is {}\".format(ele_score[1].text),'Instant')"
   ]
  },
  {
   "cell_type": "code",
   "execution_count": null,
   "metadata": {},
   "outputs": [],
   "source": [
    "#关闭当前窗口并转主页\n",
    "browser.close()\n",
    "browser.switch_to.window(browser.window_handles[0])"
   ]
  },
  {
   "cell_type": "code",
   "execution_count": null,
   "metadata": {},
   "outputs": [],
   "source": [
    "print(browser.current_url)\n",
    "print(browser.page_source)"
   ]
  },
  {
   "cell_type": "code",
   "execution_count": null,
   "metadata": {},
   "outputs": [],
   "source": [
    "ele_score=browser.find_elements_by_class_name('my-points-points')\n",
    "len(ele_score)"
   ]
  },
  {
   "cell_type": "code",
   "execution_count": null,
   "metadata": {},
   "outputs": [],
   "source": [
    "browser.get('https://pc.xuexi.cn/points/login.html?ref=https%3A%2F%2Fwww.xuexi.cn%2F')\n",
    "browser.execute_script(\"window.scrollTo(0, document.body.scrollHeight);\")\n",
    "frame_image = browser.find_element_by_xpath('//*[@id=\"ddlogin-iframe\"]')\n",
    "browser.switch_to.frame(frame_image)\n",
    "ele_image=browser.find_element_by_xpath('//*[@id=\"qrcode\"]/img')\n",
    "display(Image(data=base64.b64decode(ele_image.get_attribute('src')[22:])))"
   ]
  },
  {
   "cell_type": "code",
   "execution_count": null,
   "metadata": {},
   "outputs": [],
   "source": [
    "frame_image = browser.find_element_by_xpath('//*[@id=\"ddlogin-iframe\"]')"
   ]
  },
  {
   "cell_type": "code",
   "execution_count": null,
   "metadata": {},
   "outputs": [],
   "source": [
    "a = BeautifulSoup(browser.page_source)"
   ]
  },
  {
   "cell_type": "code",
   "execution_count": null,
   "metadata": {},
   "outputs": [],
   "source": [
    "print(a.prettify())\n",
    "b = a.find_all(id='4e94')[0]"
   ]
  },
  {
   "cell_type": "code",
   "execution_count": null,
   "metadata": {},
   "outputs": [],
   "source": [
    "print(a.body.div.div.section.div.div.div.div.div.prettify())"
   ]
  },
  {
   "cell_type": "code",
   "execution_count": null,
   "metadata": {},
   "outputs": [],
   "source": [
    "print(a.)"
   ]
  },
  {
   "cell_type": "code",
   "execution_count": null,
   "metadata": {},
   "outputs": [],
   "source": [
    "ele = browser.find_elements_by_xpath('//*[@id=\"4e94\"]/div/div/div/div/div/div/div/div[1]/div/*')[0]"
   ]
  },
  {
   "cell_type": "code",
   "execution_count": null,
   "metadata": {},
   "outputs": [],
   "source": [
    "ele.parent.tag_name"
   ]
  },
  {
   "cell_type": "code",
   "execution_count": null,
   "metadata": {},
   "outputs": [],
   "source": [
    "type(ele)"
   ]
  },
  {
   "cell_type": "code",
   "execution_count": null,
   "metadata": {},
   "outputs": [],
   "source": [
    "ele = browser.find_element_by_xpath('//*[@id=\"4e94\"]')"
   ]
  },
  {
   "cell_type": "code",
   "execution_count": null,
   "metadata": {},
   "outputs": [],
   "source": [
    "ele.text"
   ]
  },
  {
   "cell_type": "code",
   "execution_count": null,
   "metadata": {},
   "outputs": [],
   "source": [
    "import lxml\n",
    "req_xml = lxml.etree.HTML(browser.page_source)"
   ]
  },
  {
   "cell_type": "code",
   "execution_count": null,
   "metadata": {},
   "outputs": [],
   "source": [
    "type(req_xml)"
   ]
  },
  {
   "cell_type": "code",
   "execution_count": null,
   "metadata": {},
   "outputs": [],
   "source": [
    "test = req_xml.xpath('//*[@id=\"665a\"]')"
   ]
  },
  {
   "cell_type": "code",
   "execution_count": null,
   "metadata": {},
   "outputs": [],
   "source": [
    "elem = test[0]"
   ]
  },
  {
   "cell_type": "code",
   "execution_count": null,
   "metadata": {},
   "outputs": [],
   "source": [
    "elem.getroottree().getelementpath(elem)"
   ]
  },
  {
   "cell_type": "code",
   "execution_count": null,
   "metadata": {},
   "outputs": [],
   "source": [
    "l.getelementpath(elem)"
   ]
  },
  {
   "cell_type": "code",
   "execution_count": null,
   "metadata": {},
   "outputs": [],
   "source": [
    "browser.get('https://www.xuexi.cn')"
   ]
  },
  {
   "cell_type": "code",
   "execution_count": null,
   "metadata": {},
   "outputs": [],
   "source": [
    "ran_int = random.randint(0,len(browser.find_elements_by_xpath('//*[@id=\"495f\"]/div/div/div/div/div/section/div/div/div/div[1]/*')))\n",
    "print(ran_int)\n",
    "ele_v_article=browser.find_elements_by_xpath('//*[@id=\"495f\"]/div/div/div/div/div/section/div/div/div/div[1]/*')[ran_int]"
   ]
  },
  {
   "cell_type": "markdown",
   "metadata": {},
   "source": [
    "## browser.get('https://www.xuexi.cn')"
   ]
  }
 ],
 "metadata": {
  "kernelspec": {
   "display_name": "Python 3",
   "language": "python",
   "name": "python3"
  },
  "language_info": {
   "codemirror_mode": {
    "name": "ipython",
    "version": 3
   },
   "file_extension": ".py",
   "mimetype": "text/x-python",
   "name": "python",
   "nbconvert_exporter": "python",
   "pygments_lexer": "ipython3",
   "version": "3.6.9"
  },
  "toc": {
   "base_numbering": 1,
   "nav_menu": {},
   "number_sections": true,
   "sideBar": true,
   "skip_h1_title": false,
   "title_cell": "Table of Contents",
   "title_sidebar": "Contents",
   "toc_cell": false,
   "toc_position": {},
   "toc_section_display": true,
   "toc_window_display": false
  },
  "varInspector": {
   "cols": {
    "lenName": 16,
    "lenType": 16,
    "lenVar": 40
   },
   "kernels_config": {
    "python": {
     "delete_cmd_postfix": "",
     "delete_cmd_prefix": "del ",
     "library": "var_list.py",
     "varRefreshCmd": "print(var_dic_list())"
    },
    "r": {
     "delete_cmd_postfix": ") ",
     "delete_cmd_prefix": "rm(",
     "library": "var_list.r",
     "varRefreshCmd": "cat(var_dic_list()) "
    }
   },
   "types_to_exclude": [
    "module",
    "function",
    "builtin_function_or_method",
    "instance",
    "_Feature"
   ],
   "window_display": false
  }
 },
 "nbformat": 4,
 "nbformat_minor": 2
}
