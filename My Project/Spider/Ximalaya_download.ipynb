{
 "cells": [
  {
   "cell_type": "code",
   "execution_count": 1,
   "metadata": {},
   "outputs": [
    {
     "name": "stdout",
     "output_type": "stream",
     "text": [
      "env: DISPLAY=211.139.119.100:0\n"
     ]
    }
   ],
   "source": [
    "#因为在远程通过XServer调用的Chrome要加下面一行\n",
    "%env DISPLAY=211.139.119.100:0\n",
    "from selenium import webdriver\n",
    "from selenium.webdriver.common.action_chains import ActionChains\n",
    "from selenium.webdriver.common.desired_capabilities import DesiredCapabilities\n",
    "import json\n",
    "\n",
    "#from bs4 import BeautifulSoup\n",
    "#from IPython.display import Image\n",
    "import time,random,base64"
   ]
  },
  {
   "cell_type": "code",
   "execution_count": 2,
   "metadata": {},
   "outputs": [],
   "source": [
    "chrome_options = webdriver.chrome.options.Options()\n",
    "#chrome_options.add_argument(\"--headless\")\n",
    "d = DesiredCapabilities.CHROME\n",
    "#这个不行\n",
    "d['loggingPrefs'] = { 'performance':'ALL', 'driver':'ALL', 'browser':'ALL' }\n",
    "#这个才可以在Chrome 78中使用\n",
    "d = {\n",
    "    'browserName': 'chrome',\n",
    "    'loggingPrefs': {\n",
    "        'browser': 'ALL',\n",
    "        'driver': 'ALL',\n",
    "        'performance': 'ALL',\n",
    "    },\n",
    "    'goog:chromeOptions': {\n",
    "        'perfLoggingPrefs': {\n",
    "            'enableNetwork': True,\n",
    "        },\n",
    "        'w3c': False, \n",
    "    },\n",
    "}\n",
    "browser = webdriver.Chrome(desired_capabilities=d)"
   ]
  },
  {
   "cell_type": "code",
   "execution_count": 3,
   "metadata": {},
   "outputs": [],
   "source": [
    "browser.get('https://www.ximalaya.com/')\n",
    "#在Chrome上进行登陆，并转至需要下载的节目的页面"
   ]
  },
  {
   "cell_type": "code",
   "execution_count": 4,
   "metadata": {},
   "outputs": [
    {
     "name": "stdout",
     "output_type": "stream",
     "text": [
      "https://www.ximalaya.com/youshengshu/22630007/\n"
     ]
    }
   ],
   "source": [
    "print(browser.current_url)\n",
    "#print(browser.page_source)"
   ]
  },
  {
   "cell_type": "code",
   "execution_count": 5,
   "metadata": {},
   "outputs": [],
   "source": [
    "def process_browser_log_entry(entry):\n",
    "    response = json.loads(entry['message'])['message']\n",
    "    return response"
   ]
  },
  {
   "cell_type": "code",
   "execution_count": 29,
   "metadata": {},
   "outputs": [],
   "source": [
    "def start_play(num):\n",
    "    #确定音频标题\n",
    "    m4a_title = browser.find_element_by_xpath('//*[@id=\"anchor_sound_list\"]/div[2]/ul/li[{}]/div[2]/a/span'.format(num)).text\n",
    "    #print(m4a_title)\n",
    "    #查找元素\n",
    "    ximalaya_player=browser.find_element_by_xpath('//*[@id=\"anchor_sound_list\"]/div[2]/ul/li[{}]/div[1]/div/div[1]/span'.format(num))\n",
    "    time.sleep(1)\n",
    "    #将元素可见\n",
    "    browser.execute_script(\"arguments[0].scrollIntoView();\",ximalaya_player)\n",
    "    time.sleep(1)\n",
    "    #向下滚动200个像素点\n",
    "    browser.execute_script(\"window.scrollBy(0,-200)\")\n",
    "    time.sleep(1)\n",
    "    if num == 1:\n",
    "        ActionChains(browser).move_to_element(ximalaya_player).perform()\n",
    "        time.sleep(2)\n",
    "    #点击播放\n",
    "    ximalaya_player=browser.find_element_by_xpath('//*[@id=\"anchor_sound_list\"]/div[2]/ul/li[{}]/div[1]/div'.format(num))\n",
    "    #在具体处理之前先清理log，不然会取到前一个文件的Log\n",
    "    browser_log = browser.get_log('performance')\n",
    "    #print(browser_log)\n",
    "    #print(\"test\")\n",
    "    ximalaya_player.click()\n",
    "    time.sleep(2)\n",
    "    #分析log查找具体内容，Chrome的Network中的内容\n",
    "    browser_log = browser.get_log('performance') \n",
    "    events = [process_browser_log_entry(entry) for entry in browser_log]\n",
    "\n",
    "    ana_events = [event for event in events if 'Network.responseReceived' in event['method']]\n",
    "    test_params = [test_param['params'] for test_param in ana_events]\n",
    "    test1_params = [test1_param for test1_param in test_params if 'response' in test1_param.keys()]\n",
    "    test2_params = [test2_param['response']['url'] for test2_param in test1_params if 'Media' in test2_param['type']]\n",
    "    m4a_url = str(list(set(test2_params))[0])\n",
    "    #print(m4a_url)\n",
    "    #wget比网页下载要好，wget可以获取文件的真实创建时间\n",
    "    print('wget \"{}\" -O {}.m4a'.format(m4a_url, m4a_title))\n",
    "    print('sleep 5')\n",
    "    time.sleep(1)\n",
    "    #暂停播放\n",
    "    ximalaya_player=browser.find_element_by_xpath('//*[@id=\"anchor_sound_list\"]/div[2]/ul/li[{}]/div[1]/div'.format(num))\n",
    "    ximalaya_player.click()\n",
    "    time.sleep(1)"
   ]
  },
  {
   "cell_type": "code",
   "execution_count": 38,
   "metadata": {
    "scrolled": true
   },
   "outputs": [
    {
     "name": "stdout",
     "output_type": "stream",
     "text": [
      "wget \"https://vod.xmcdn.com/download/1.0.0/group3/M05/2D/77/wKgMbF34S-yAG_iMAH7pXMXi5vM936.m4a?sign=66c9c6fd23785d79da568be532fec88c&buy_key=617574686f72697a6564&token=4791&timestamp=1577413204&duration=1027\" -O 平凡的世界210.m4a\n",
      "sleep 5\n",
      "wget \"https://vod.xmcdn.com/download/1.0.0/group3/M02/31/D1/wKgMbF35nVfTwWtzAIUhZQ6ukig832.m4a?sign=549a91b1b57c49f97a2dfe8ef12abd74&buy_key=617574686f72697a6564&token=4249&timestamp=1577413211&duration=1065\" -O 平凡的世界211.m4a\n",
      "sleep 5\n",
      "wget \"http://audiopay.cos.xmcdn.com/download/1.0.0/group3/M04/31/D2/wKgMbF35nV2jwXUjAHkOFz2eqW4025.m4a?sign=27a3f68e6c935bbb9e9b23257a8f1920&buy_key=617574686f72697a6564&token=1357&timestamp=1577413219&duration=979\" -O 平凡的世界212.m4a\n",
      "sleep 5\n",
      "wget \"https://vod.xmcdn.com/download/1.0.0/group3/M00/35/E2/wKgMdl367t3CF13VAIHWQ9VVqxg830.m4a?sign=6bc27ad8ef152adbee6954da126d8ed2&buy_key=617574686f72697a6564&token=4690&timestamp=1577413226&duration=1050\" -O 平凡的世界213.m4a\n",
      "sleep 5\n",
      "wget \"https://vod.xmcdn.com/download/1.0.0/group3/M00/35/E2/wKgMdl367t6j2KciAIUQ_WNXjHo222.m4a?sign=4e74e84d56f58857314cf41a266004ff&buy_key=617574686f72697a6564&token=5417&timestamp=1577413234&duration=1077\" -O 平凡的世界214.m4a\n",
      "sleep 5\n",
      "wget \"https://vod.xmcdn.com/download/1.0.0/group3/M0B/3B/29/wKgMdl38QFuifwtcAHOYITMAjfE841.m4a?sign=9a0912382afaa074be64f93a287fa298&buy_key=617574686f72697a6564&token=7447&timestamp=1577413241&duration=935\" -O 平凡的世界215.m4a\n",
      "sleep 5\n",
      "wget \"https://vod.xmcdn.com/download/1.0.0/group3/M0B/3B/2A/wKgMdl38QGKjLES2AI1B6kdPPAQ100.m4a?sign=7a57fe8c774130a74765a3c0e196c8ec&buy_key=617574686f72697a6564&token=4257&timestamp=1577413249&duration=1143\" -O 平凡的世界216.m4a\n",
      "sleep 5\n",
      "wget \"https://vod.xmcdn.com/download/1.0.0/group3/M04/3E/89/wKgMdl39koaBY43-AIER4AKkvLQ329.m4a?sign=445f64c497348ea9dc91e6cbf80de82d&buy_key=617574686f72697a6564&token=7581&timestamp=1577413256&duration=1032\" -O 平凡的世界217.m4a\n",
      "sleep 5\n",
      "wget \"http://audiopay.cos.tx.xmcdn.com/download/1.0.0/group3/M08/42/89/wKgMdl3-41bB97vpAHQ7IAxme8A864.m4a?sign=bcab9af1f138f122bf0dce7dbd307966&buy_key=617574686f72697a6564&token=5859&timestamp=1577413264&duration=940\" -O 平凡的世界218.m4a\n",
      "sleep 5\n",
      "wget \"https://vod.xmcdn.com/download/1.0.0/group3/M03/45/D9/wKgMbF4ANNqSVEGZAHo8lHnXJsU806.m4a?sign=6b0900c2d8ab72a00c2d8ec97505e707&buy_key=617574686f72697a6564&token=1655&timestamp=1577413271&duration=989\" -O 平凡的世界219（明天更新最后3集，《人生》最后2集）.m4a\n",
      "sleep 5\n",
      "wget \"https://vod.xmcdn.com/download/1.0.0/group3/M03/45/D3/wKgMdl4ANN7THlUlAH6i31s5TU0022.m4a?sign=a2a36b2851ef7b61defc00f45401bd39&buy_key=617574686f72697a6564&token=4683&timestamp=1577413279&duration=1025\" -O 平凡的世界220（明天更新最后3集，《人生》最后2集）.m4a\n",
      "sleep 5\n",
      "wget \"http://audiopay.tx.xmcdn.com/download/1.0.0/group3/M00/4A/19/wKgMbF4BhmHxhutFAIuCCaF5dCY896.m4a?sign=b3a83dbd90d53741bcd79db4a2148887&buy_key=617574686f72697a6564&token=1508&timestamp=1577413286&duration=1129\" -O 平凡的世界221（本周五18点两位主播直播，欢迎关注）.m4a\n",
      "sleep 5\n",
      "wget \"https://vod.xmcdn.com/download/1.0.0/group3/M08/4A/19/wKgMbF4BhmSjHECzAJbpSWZu19c153.m4a?sign=1db2fe858fd07156a3445fe551fe01b9&buy_key=617574686f72697a6564&token=4971&timestamp=1577413294&duration=1221\" -O 平凡的世界222（本周五18点两位主播直播，欢迎关注）.m4a\n",
      "sleep 5\n",
      "wget \"https://vod.xmcdn.com/download/1.0.0/group3/M08/4A/19/wKgMbF4Bhl6RCYR9AJLCJRv_r5c394.m4a?sign=973326b2189aebb0476b13ad5103c2fe&buy_key=617574686f72697a6564&token=1088&timestamp=1577413301&duration=1187\" -O 平凡的世界223（本周五18点两位主播直播，欢迎关注）.m4a\n",
      "sleep 5\n"
     ]
    },
    {
     "ename": "NoSuchElementException",
     "evalue": "Message: no such element: Unable to locate element: {\"method\":\"xpath\",\"selector\":\"//*[@id=\"anchor_sound_list\"]/div[2]/ul/li[15]/div[2]/a/span\"}\n  (Session info: chrome=78.0.3904.108)\n  (Driver info: chromedriver=78.0.3904.70 (edb9c9f3de0247fd912a77b7f6cae7447f6d3ad5-refs/branch-heads/3904@{#800}),platform=Linux 4.15.0-72-generic x86_64)\n",
     "output_type": "error",
     "traceback": [
      "\u001b[0;31m---------------------------------------------------------------------------\u001b[0m",
      "\u001b[0;31mNoSuchElementException\u001b[0m                    Traceback (most recent call last)",
      "\u001b[0;32m<ipython-input-38-be8a9cec1cc3>\u001b[0m in \u001b[0;36m<module>\u001b[0;34m()\u001b[0m\n\u001b[1;32m      1\u001b[0m \u001b[0;31m#一页30个音频\u001b[0m\u001b[0;34m\u001b[0m\u001b[0;34m\u001b[0m\u001b[0;34m\u001b[0m\u001b[0m\n\u001b[1;32m      2\u001b[0m \u001b[0;32mfor\u001b[0m \u001b[0mm4a_num\u001b[0m \u001b[0;32min\u001b[0m \u001b[0mrange\u001b[0m\u001b[0;34m(\u001b[0m\u001b[0;36m1\u001b[0m\u001b[0;34m,\u001b[0m\u001b[0;36m31\u001b[0m\u001b[0;34m)\u001b[0m\u001b[0;34m:\u001b[0m\u001b[0;34m\u001b[0m\u001b[0;34m\u001b[0m\u001b[0m\n\u001b[0;32m----> 3\u001b[0;31m     \u001b[0mstart_play\u001b[0m\u001b[0;34m(\u001b[0m\u001b[0mm4a_num\u001b[0m\u001b[0;34m)\u001b[0m\u001b[0;34m\u001b[0m\u001b[0;34m\u001b[0m\u001b[0m\n\u001b[0m",
      "\u001b[0;32m<ipython-input-29-5b47c91cce07>\u001b[0m in \u001b[0;36mstart_play\u001b[0;34m(num)\u001b[0m\n\u001b[1;32m      1\u001b[0m \u001b[0;32mdef\u001b[0m \u001b[0mstart_play\u001b[0m\u001b[0;34m(\u001b[0m\u001b[0mnum\u001b[0m\u001b[0;34m)\u001b[0m\u001b[0;34m:\u001b[0m\u001b[0;34m\u001b[0m\u001b[0;34m\u001b[0m\u001b[0m\n\u001b[1;32m      2\u001b[0m     \u001b[0;31m#确定音频标题\u001b[0m\u001b[0;34m\u001b[0m\u001b[0;34m\u001b[0m\u001b[0;34m\u001b[0m\u001b[0m\n\u001b[0;32m----> 3\u001b[0;31m     \u001b[0mm4a_title\u001b[0m \u001b[0;34m=\u001b[0m \u001b[0mbrowser\u001b[0m\u001b[0;34m.\u001b[0m\u001b[0mfind_element_by_xpath\u001b[0m\u001b[0;34m(\u001b[0m\u001b[0;34m'//*[@id=\"anchor_sound_list\"]/div[2]/ul/li[{}]/div[2]/a/span'\u001b[0m\u001b[0;34m.\u001b[0m\u001b[0mformat\u001b[0m\u001b[0;34m(\u001b[0m\u001b[0mnum\u001b[0m\u001b[0;34m)\u001b[0m\u001b[0;34m)\u001b[0m\u001b[0;34m.\u001b[0m\u001b[0mtext\u001b[0m\u001b[0;34m\u001b[0m\u001b[0;34m\u001b[0m\u001b[0m\n\u001b[0m\u001b[1;32m      4\u001b[0m     \u001b[0;31m#print(m4a_title)\u001b[0m\u001b[0;34m\u001b[0m\u001b[0;34m\u001b[0m\u001b[0;34m\u001b[0m\u001b[0m\n\u001b[1;32m      5\u001b[0m     \u001b[0;31m#查找元素\u001b[0m\u001b[0;34m\u001b[0m\u001b[0;34m\u001b[0m\u001b[0;34m\u001b[0m\u001b[0m\n",
      "\u001b[0;32m/usr/local/lib/python3.6/dist-packages/selenium/webdriver/remote/webdriver.py\u001b[0m in \u001b[0;36mfind_element_by_xpath\u001b[0;34m(self, xpath)\u001b[0m\n\u001b[1;32m    392\u001b[0m             \u001b[0melement\u001b[0m \u001b[0;34m=\u001b[0m \u001b[0mdriver\u001b[0m\u001b[0;34m.\u001b[0m\u001b[0mfind_element_by_xpath\u001b[0m\u001b[0;34m(\u001b[0m\u001b[0;34m'//div/td[1]'\u001b[0m\u001b[0;34m)\u001b[0m\u001b[0;34m\u001b[0m\u001b[0;34m\u001b[0m\u001b[0m\n\u001b[1;32m    393\u001b[0m         \"\"\"\n\u001b[0;32m--> 394\u001b[0;31m         \u001b[0;32mreturn\u001b[0m \u001b[0mself\u001b[0m\u001b[0;34m.\u001b[0m\u001b[0mfind_element\u001b[0m\u001b[0;34m(\u001b[0m\u001b[0mby\u001b[0m\u001b[0;34m=\u001b[0m\u001b[0mBy\u001b[0m\u001b[0;34m.\u001b[0m\u001b[0mXPATH\u001b[0m\u001b[0;34m,\u001b[0m \u001b[0mvalue\u001b[0m\u001b[0;34m=\u001b[0m\u001b[0mxpath\u001b[0m\u001b[0;34m)\u001b[0m\u001b[0;34m\u001b[0m\u001b[0;34m\u001b[0m\u001b[0m\n\u001b[0m\u001b[1;32m    395\u001b[0m \u001b[0;34m\u001b[0m\u001b[0m\n\u001b[1;32m    396\u001b[0m     \u001b[0;32mdef\u001b[0m \u001b[0mfind_elements_by_xpath\u001b[0m\u001b[0;34m(\u001b[0m\u001b[0mself\u001b[0m\u001b[0;34m,\u001b[0m \u001b[0mxpath\u001b[0m\u001b[0;34m)\u001b[0m\u001b[0;34m:\u001b[0m\u001b[0;34m\u001b[0m\u001b[0;34m\u001b[0m\u001b[0m\n",
      "\u001b[0;32m/usr/local/lib/python3.6/dist-packages/selenium/webdriver/remote/webdriver.py\u001b[0m in \u001b[0;36mfind_element\u001b[0;34m(self, by, value)\u001b[0m\n\u001b[1;32m    976\u001b[0m         return self.execute(Command.FIND_ELEMENT, {\n\u001b[1;32m    977\u001b[0m             \u001b[0;34m'using'\u001b[0m\u001b[0;34m:\u001b[0m \u001b[0mby\u001b[0m\u001b[0;34m,\u001b[0m\u001b[0;34m\u001b[0m\u001b[0;34m\u001b[0m\u001b[0m\n\u001b[0;32m--> 978\u001b[0;31m             'value': value})['value']\n\u001b[0m\u001b[1;32m    979\u001b[0m \u001b[0;34m\u001b[0m\u001b[0m\n\u001b[1;32m    980\u001b[0m     \u001b[0;32mdef\u001b[0m \u001b[0mfind_elements\u001b[0m\u001b[0;34m(\u001b[0m\u001b[0mself\u001b[0m\u001b[0;34m,\u001b[0m \u001b[0mby\u001b[0m\u001b[0;34m=\u001b[0m\u001b[0mBy\u001b[0m\u001b[0;34m.\u001b[0m\u001b[0mID\u001b[0m\u001b[0;34m,\u001b[0m \u001b[0mvalue\u001b[0m\u001b[0;34m=\u001b[0m\u001b[0;32mNone\u001b[0m\u001b[0;34m)\u001b[0m\u001b[0;34m:\u001b[0m\u001b[0;34m\u001b[0m\u001b[0;34m\u001b[0m\u001b[0m\n",
      "\u001b[0;32m/usr/local/lib/python3.6/dist-packages/selenium/webdriver/remote/webdriver.py\u001b[0m in \u001b[0;36mexecute\u001b[0;34m(self, driver_command, params)\u001b[0m\n\u001b[1;32m    319\u001b[0m         \u001b[0mresponse\u001b[0m \u001b[0;34m=\u001b[0m \u001b[0mself\u001b[0m\u001b[0;34m.\u001b[0m\u001b[0mcommand_executor\u001b[0m\u001b[0;34m.\u001b[0m\u001b[0mexecute\u001b[0m\u001b[0;34m(\u001b[0m\u001b[0mdriver_command\u001b[0m\u001b[0;34m,\u001b[0m \u001b[0mparams\u001b[0m\u001b[0;34m)\u001b[0m\u001b[0;34m\u001b[0m\u001b[0;34m\u001b[0m\u001b[0m\n\u001b[1;32m    320\u001b[0m         \u001b[0;32mif\u001b[0m \u001b[0mresponse\u001b[0m\u001b[0;34m:\u001b[0m\u001b[0;34m\u001b[0m\u001b[0;34m\u001b[0m\u001b[0m\n\u001b[0;32m--> 321\u001b[0;31m             \u001b[0mself\u001b[0m\u001b[0;34m.\u001b[0m\u001b[0merror_handler\u001b[0m\u001b[0;34m.\u001b[0m\u001b[0mcheck_response\u001b[0m\u001b[0;34m(\u001b[0m\u001b[0mresponse\u001b[0m\u001b[0;34m)\u001b[0m\u001b[0;34m\u001b[0m\u001b[0;34m\u001b[0m\u001b[0m\n\u001b[0m\u001b[1;32m    322\u001b[0m             response['value'] = self._unwrap_value(\n\u001b[1;32m    323\u001b[0m                 response.get('value', None))\n",
      "\u001b[0;32m/usr/local/lib/python3.6/dist-packages/selenium/webdriver/remote/errorhandler.py\u001b[0m in \u001b[0;36mcheck_response\u001b[0;34m(self, response)\u001b[0m\n\u001b[1;32m    240\u001b[0m                 \u001b[0malert_text\u001b[0m \u001b[0;34m=\u001b[0m \u001b[0mvalue\u001b[0m\u001b[0;34m[\u001b[0m\u001b[0;34m'alert'\u001b[0m\u001b[0;34m]\u001b[0m\u001b[0;34m.\u001b[0m\u001b[0mget\u001b[0m\u001b[0;34m(\u001b[0m\u001b[0;34m'text'\u001b[0m\u001b[0;34m)\u001b[0m\u001b[0;34m\u001b[0m\u001b[0;34m\u001b[0m\u001b[0m\n\u001b[1;32m    241\u001b[0m             \u001b[0;32mraise\u001b[0m \u001b[0mexception_class\u001b[0m\u001b[0;34m(\u001b[0m\u001b[0mmessage\u001b[0m\u001b[0;34m,\u001b[0m \u001b[0mscreen\u001b[0m\u001b[0;34m,\u001b[0m \u001b[0mstacktrace\u001b[0m\u001b[0;34m,\u001b[0m \u001b[0malert_text\u001b[0m\u001b[0;34m)\u001b[0m\u001b[0;34m\u001b[0m\u001b[0;34m\u001b[0m\u001b[0m\n\u001b[0;32m--> 242\u001b[0;31m         \u001b[0;32mraise\u001b[0m \u001b[0mexception_class\u001b[0m\u001b[0;34m(\u001b[0m\u001b[0mmessage\u001b[0m\u001b[0;34m,\u001b[0m \u001b[0mscreen\u001b[0m\u001b[0;34m,\u001b[0m \u001b[0mstacktrace\u001b[0m\u001b[0;34m)\u001b[0m\u001b[0;34m\u001b[0m\u001b[0;34m\u001b[0m\u001b[0m\n\u001b[0m\u001b[1;32m    243\u001b[0m \u001b[0;34m\u001b[0m\u001b[0m\n\u001b[1;32m    244\u001b[0m     \u001b[0;32mdef\u001b[0m \u001b[0m_value_or_default\u001b[0m\u001b[0;34m(\u001b[0m\u001b[0mself\u001b[0m\u001b[0;34m,\u001b[0m \u001b[0mobj\u001b[0m\u001b[0;34m,\u001b[0m \u001b[0mkey\u001b[0m\u001b[0;34m,\u001b[0m \u001b[0mdefault\u001b[0m\u001b[0;34m)\u001b[0m\u001b[0;34m:\u001b[0m\u001b[0;34m\u001b[0m\u001b[0;34m\u001b[0m\u001b[0m\n",
      "\u001b[0;31mNoSuchElementException\u001b[0m: Message: no such element: Unable to locate element: {\"method\":\"xpath\",\"selector\":\"//*[@id=\"anchor_sound_list\"]/div[2]/ul/li[15]/div[2]/a/span\"}\n  (Session info: chrome=78.0.3904.108)\n  (Driver info: chromedriver=78.0.3904.70 (edb9c9f3de0247fd912a77b7f6cae7447f6d3ad5-refs/branch-heads/3904@{#800}),platform=Linux 4.15.0-72-generic x86_64)\n"
     ]
    }
   ],
   "source": [
    "#一页30个音频\n",
    "for m4a_num in range(1,31):\n",
    "    start_play(m4a_num)"
   ]
  },
  {
   "cell_type": "code",
   "execution_count": null,
   "metadata": {},
   "outputs": [],
   "source": [
    "#文件下载的函数\n",
    "import requests\n",
    "def download_file_as(Download_address, target_file)\n",
    "#下载地址\n",
    "#把下载地址发送给requests模块\n",
    "down_file=requests.get(Download_address)\n",
    "#下载文件\n",
    "with open(target_file,\"wb\") as code:\n",
    "     code.write(down_file.content)"
   ]
  },
  {
   "cell_type": "code",
   "execution_count": 24,
   "metadata": {},
   "outputs": [
    {
     "name": "stdout",
     "output_type": "stream",
     "text": [
      "['https://vod.xmcdn.com/download/1.0.0/group2/M0B/EC/59/wKgLdF1vSk2zQmQuAHUqfSuz300781.m4a?sign=cf5f3c4d43bd0f46c953e0bc9ae51dbc&buy_key=617574686f72697a6564&token=4829&timestamp=1577410136&duration=948']\n",
      "wget \"https://vod.xmcdn.com/download/1.0.0/group2/M0B/EC/59/wKgLdF1vSk2zQmQuAHUqfSuz300781.m4a?sign=cf5f3c4d43bd0f46c953e0bc9ae51dbc&buy_key=617574686f72697a6564&token=4829&timestamp=1577410136&duration=948\" -O 平凡的世界01（一口气听完《百年孤独》，爽！）.m4a\n",
      "sleep 5\n"
     ]
    }
   ],
   "source": [
    "start_play(2)"
   ]
  },
  {
   "cell_type": "code",
   "execution_count": null,
   "metadata": {},
   "outputs": [],
   "source": []
  }
 ],
 "metadata": {
  "kernelspec": {
   "display_name": "Python 3",
   "language": "python",
   "name": "python3"
  },
  "language_info": {
   "codemirror_mode": {
    "name": "ipython",
    "version": 3
   },
   "file_extension": ".py",
   "mimetype": "text/x-python",
   "name": "python",
   "nbconvert_exporter": "python",
   "pygments_lexer": "ipython3",
   "version": "3.6.9"
  }
 },
 "nbformat": 4,
 "nbformat_minor": 2
}
