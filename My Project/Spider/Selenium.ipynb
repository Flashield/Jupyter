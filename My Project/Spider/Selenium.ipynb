{
 "cells": [
  {
   "cell_type": "code",
   "execution_count": 11,
   "metadata": {},
   "outputs": [
    {
     "name": "stderr",
     "output_type": "stream",
     "text": [
      "/usr/lib/python3/dist-packages/ipykernel_launcher.py:7: DeprecationWarning: use options instead of chrome_options\n",
      "  import sys\n"
     ]
    },
    {
     "name": "stdout",
     "output_type": "stream",
     "text": [
      "data:image/png;base64,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\n"
     ]
    }
   ],
   "source": [
    "import base64\n",
    "from selenium import webdriver\n",
    "from selenium.webdriver.chrome.options import Options\n",
    "chrome_options = Options()\n",
    "chrome_options.add_argument(\"--headless\")\n",
    "chrome_options.add_argument(\"--window-size=1024x768\")\n",
    "browser = webdriver.Chrome(chrome_options=chrome_options)\n",
    "browser.get(\"https://login.dingtalk.com/login/qrcode.htm?goto=https%3A%2F%2Foapi.dingtalk.com%2Fconnect%2Fqrconnect%3Fappid%3Ddingoankubyrfkttorhpou%26response_type%3Dcode%26scope%3Dsnsapi_login%26redirect_uri%3Dhttps%3A%2F%2Fpc-api.xuexi.cn%2Fopen%2Fapi%2Fsns%2Fcallback&style=border%3Anone%3Bbackground-color%3A%23FFFFFF%3B\")\n",
    "#print(browser.page_source)\n",
    "#查找二维码\n",
    "qr_img = browser.find_element_by_xpath('//*[@id=\"qrcode\"]/img')\n",
    "qr_img_base64 = qr_img.get_attribute('src')\n",
    "print(qr_img_base64)\n",
    "#二维码存为文件\n",
    "with open('qr_code.png', 'wb') as f:\n",
    "    f.write(base64.b64decode(qr_img_base64[22:]))\n",
    "#browser.close()"
   ]
  },
  {
   "cell_type": "code",
   "execution_count": null,
   "metadata": {},
   "outputs": [],
   "source": [
    "#移动到网页底部\n",
    "browser.execute_script(\"window.scrollTo(0, document.body.scrollHeight);\")"
   ]
  },
  {
   "cell_type": "code",
   "execution_count": 5,
   "metadata": {},
   "outputs": [
    {
     "ename": "WebDriverException",
     "evalue": "Message: invalid session id\n  (Driver info: chromedriver=74.0.3729.6 (255758eccf3d244491b8a1317aa76e1ce10d57e9-refs/branch-heads/3729@{#29}),platform=Linux 4.15.0-50-generic x86_64)\n",
     "output_type": "error",
     "traceback": [
      "\u001b[0;31m---------------------------------------------------------------------------\u001b[0m",
      "\u001b[0;31mWebDriverException\u001b[0m                        Traceback (most recent call last)",
      "\u001b[0;32m<ipython-input-5-3ca37d5e640e>\u001b[0m in \u001b[0;36m<module>\u001b[0;34m()\u001b[0m\n\u001b[0;32m----> 1\u001b[0;31m \u001b[0mbrowser\u001b[0m\u001b[0;34m.\u001b[0m\u001b[0mget_cookies\u001b[0m\u001b[0;34m(\u001b[0m\u001b[0;34m)\u001b[0m\u001b[0;34m[\u001b[0m\u001b[0;36m0\u001b[0m\u001b[0;34m]\u001b[0m\u001b[0;34m[\u001b[0m\u001b[0;34m'value'\u001b[0m\u001b[0;34m]\u001b[0m\u001b[0;34m\u001b[0m\u001b[0;34m\u001b[0m\u001b[0m\n\u001b[0m",
      "\u001b[0;32m/usr/local/lib/python3.6/dist-packages/selenium/webdriver/remote/webdriver.py\u001b[0m in \u001b[0;36mget_cookies\u001b[0;34m(self)\u001b[0m\n\u001b[1;32m    839\u001b[0m             \u001b[0mdriver\u001b[0m\u001b[0;34m.\u001b[0m\u001b[0mget_cookies\u001b[0m\u001b[0;34m(\u001b[0m\u001b[0;34m)\u001b[0m\u001b[0;34m\u001b[0m\u001b[0;34m\u001b[0m\u001b[0m\n\u001b[1;32m    840\u001b[0m         \"\"\"\n\u001b[0;32m--> 841\u001b[0;31m         \u001b[0;32mreturn\u001b[0m \u001b[0mself\u001b[0m\u001b[0;34m.\u001b[0m\u001b[0mexecute\u001b[0m\u001b[0;34m(\u001b[0m\u001b[0mCommand\u001b[0m\u001b[0;34m.\u001b[0m\u001b[0mGET_ALL_COOKIES\u001b[0m\u001b[0;34m)\u001b[0m\u001b[0;34m[\u001b[0m\u001b[0;34m'value'\u001b[0m\u001b[0;34m]\u001b[0m\u001b[0;34m\u001b[0m\u001b[0;34m\u001b[0m\u001b[0m\n\u001b[0m\u001b[1;32m    842\u001b[0m \u001b[0;34m\u001b[0m\u001b[0m\n\u001b[1;32m    843\u001b[0m     \u001b[0;32mdef\u001b[0m \u001b[0mget_cookie\u001b[0m\u001b[0;34m(\u001b[0m\u001b[0mself\u001b[0m\u001b[0;34m,\u001b[0m \u001b[0mname\u001b[0m\u001b[0;34m)\u001b[0m\u001b[0;34m:\u001b[0m\u001b[0;34m\u001b[0m\u001b[0;34m\u001b[0m\u001b[0m\n",
      "\u001b[0;32m/usr/local/lib/python3.6/dist-packages/selenium/webdriver/remote/webdriver.py\u001b[0m in \u001b[0;36mexecute\u001b[0;34m(self, driver_command, params)\u001b[0m\n\u001b[1;32m    319\u001b[0m         \u001b[0mresponse\u001b[0m \u001b[0;34m=\u001b[0m \u001b[0mself\u001b[0m\u001b[0;34m.\u001b[0m\u001b[0mcommand_executor\u001b[0m\u001b[0;34m.\u001b[0m\u001b[0mexecute\u001b[0m\u001b[0;34m(\u001b[0m\u001b[0mdriver_command\u001b[0m\u001b[0;34m,\u001b[0m \u001b[0mparams\u001b[0m\u001b[0;34m)\u001b[0m\u001b[0;34m\u001b[0m\u001b[0;34m\u001b[0m\u001b[0m\n\u001b[1;32m    320\u001b[0m         \u001b[0;32mif\u001b[0m \u001b[0mresponse\u001b[0m\u001b[0;34m:\u001b[0m\u001b[0;34m\u001b[0m\u001b[0;34m\u001b[0m\u001b[0m\n\u001b[0;32m--> 321\u001b[0;31m             \u001b[0mself\u001b[0m\u001b[0;34m.\u001b[0m\u001b[0merror_handler\u001b[0m\u001b[0;34m.\u001b[0m\u001b[0mcheck_response\u001b[0m\u001b[0;34m(\u001b[0m\u001b[0mresponse\u001b[0m\u001b[0;34m)\u001b[0m\u001b[0;34m\u001b[0m\u001b[0;34m\u001b[0m\u001b[0m\n\u001b[0m\u001b[1;32m    322\u001b[0m             response['value'] = self._unwrap_value(\n\u001b[1;32m    323\u001b[0m                 response.get('value', None))\n",
      "\u001b[0;32m/usr/local/lib/python3.6/dist-packages/selenium/webdriver/remote/errorhandler.py\u001b[0m in \u001b[0;36mcheck_response\u001b[0;34m(self, response)\u001b[0m\n\u001b[1;32m    240\u001b[0m                 \u001b[0malert_text\u001b[0m \u001b[0;34m=\u001b[0m \u001b[0mvalue\u001b[0m\u001b[0;34m[\u001b[0m\u001b[0;34m'alert'\u001b[0m\u001b[0;34m]\u001b[0m\u001b[0;34m.\u001b[0m\u001b[0mget\u001b[0m\u001b[0;34m(\u001b[0m\u001b[0;34m'text'\u001b[0m\u001b[0;34m)\u001b[0m\u001b[0;34m\u001b[0m\u001b[0;34m\u001b[0m\u001b[0m\n\u001b[1;32m    241\u001b[0m             \u001b[0;32mraise\u001b[0m \u001b[0mexception_class\u001b[0m\u001b[0;34m(\u001b[0m\u001b[0mmessage\u001b[0m\u001b[0;34m,\u001b[0m \u001b[0mscreen\u001b[0m\u001b[0;34m,\u001b[0m \u001b[0mstacktrace\u001b[0m\u001b[0;34m,\u001b[0m \u001b[0malert_text\u001b[0m\u001b[0;34m)\u001b[0m\u001b[0;34m\u001b[0m\u001b[0;34m\u001b[0m\u001b[0m\n\u001b[0;32m--> 242\u001b[0;31m         \u001b[0;32mraise\u001b[0m \u001b[0mexception_class\u001b[0m\u001b[0;34m(\u001b[0m\u001b[0mmessage\u001b[0m\u001b[0;34m,\u001b[0m \u001b[0mscreen\u001b[0m\u001b[0;34m,\u001b[0m \u001b[0mstacktrace\u001b[0m\u001b[0;34m)\u001b[0m\u001b[0;34m\u001b[0m\u001b[0;34m\u001b[0m\u001b[0m\n\u001b[0m\u001b[1;32m    243\u001b[0m \u001b[0;34m\u001b[0m\u001b[0m\n\u001b[1;32m    244\u001b[0m     \u001b[0;32mdef\u001b[0m \u001b[0m_value_or_default\u001b[0m\u001b[0;34m(\u001b[0m\u001b[0mself\u001b[0m\u001b[0;34m,\u001b[0m \u001b[0mobj\u001b[0m\u001b[0;34m,\u001b[0m \u001b[0mkey\u001b[0m\u001b[0;34m,\u001b[0m \u001b[0mdefault\u001b[0m\u001b[0;34m)\u001b[0m\u001b[0;34m:\u001b[0m\u001b[0;34m\u001b[0m\u001b[0;34m\u001b[0m\u001b[0m\n",
      "\u001b[0;31mWebDriverException\u001b[0m: Message: invalid session id\n  (Driver info: chromedriver=74.0.3729.6 (255758eccf3d244491b8a1317aa76e1ce10d57e9-refs/branch-heads/3729@{#29}),platform=Linux 4.15.0-50-generic x86_64)\n"
     ]
    }
   ],
   "source": [
    "browser.get_cookies()[0]['value']"
   ]
  },
  {
   "cell_type": "code",
   "execution_count": null,
   "metadata": {},
   "outputs": [],
   "source": [
    "browser.execute_script()"
   ]
  },
  {
   "cell_type": "code",
   "execution_count": 5,
   "metadata": {},
   "outputs": [],
   "source": [
    "a = browser.execute_script('return umx.getToken()')"
   ]
  },
  {
   "cell_type": "code",
   "execution_count": 9,
   "metadata": {},
   "outputs": [
    {
     "name": "stdout",
     "output_type": "stream",
     "text": [
      "1559199657146595069173211559199657146986\n"
     ]
    }
   ],
   "source": [
    "print(a)"
   ]
  },
  {
   "cell_type": "code",
   "execution_count": 10,
   "metadata": {},
   "outputs": [],
   "source": [
    "browser.close()"
   ]
  },
  {
   "cell_type": "code",
   "execution_count": 1,
   "metadata": {},
   "outputs": [
    {
     "name": "stderr",
     "output_type": "stream",
     "text": [
      "/usr/lib/python3/dist-packages/ipykernel_launcher.py:6: DeprecationWarning: use options instead of chrome_options\n",
      "  \n"
     ]
    }
   ],
   "source": [
    "from selenium import webdriver\n",
    "from selenium.webdriver.chrome.options import Options\n",
    "chrome_options = Options()\n",
    "chrome_options.add_argument(\"--headless\")\n",
    "chrome_options.add_argument(\"--window-size=1024x768\")\n",
    "browser = webdriver.Chrome(chrome_options=chrome_options)\n",
    "browser.get(\"http://wapjs.189.cn/tysh/pages/kdSpeedUp/speedUpIndexNew.html\")"
   ]
  },
  {
   "cell_type": "code",
   "execution_count": 3,
   "metadata": {},
   "outputs": [
    {
     "data": {
      "text/plain": [
       "'5fc4205af46dae67f49165ef4fae362dc60cafdc5e9de99aaf631fe3c107d81c9a050fe6d9c94b6eefd39f8e6f64d94f28c2e0ab37d20f5c3ee1b58e5b047f67efc7fb469bbe6570dc381d86a493dc599e95cd2b87319089efa05234cd997764d4abdbff11cb07999ea9beeb40e2865e2faa5201a414955c1d4dce8812b670f3'"
      ]
     },
     "execution_count": 3,
     "metadata": {},
     "output_type": "execute_result"
    }
   ],
   "source": [
    "browser.execute_script('return ztEncrptyUtil.encode(\"123456\")')"
   ]
  },
  {
   "cell_type": "code",
   "execution_count": 7,
   "metadata": {},
   "outputs": [
    {
     "data": {
      "text/plain": [
       "'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'"
      ]
     },
     "execution_count": 7,
     "metadata": {},
     "output_type": "execute_result"
    }
   ],
   "source": [
    "browser.execute_script('return ztEncrptyUtil.encode(\"accountType=2;idCard=32062119641004832X;areaCode=0513;actionCode=jsztActionCode_mallbroadBandBuinessselectUserBroadAccNbr;PathCode=mall-00003;channelCode_common=300177;pubAreaCode=025;pushUserId=jszt_912507;coachUser=;userLogAccNbrType=;userLogAccNbr=;userTokenAccNbrType=2;ztVersion=4.0;ztInterSource=300177;pubToken=undefined;\")')"
   ]
  },
  {
   "cell_type": "code",
   "execution_count": null,
   "metadata": {},
   "outputs": [],
   "source": []
  }
 ],
 "metadata": {
  "kernelspec": {
   "display_name": "Python 3",
   "language": "python",
   "name": "python3"
  },
  "language_info": {
   "codemirror_mode": {
    "name": "ipython",
    "version": 3
   },
   "file_extension": ".py",
   "mimetype": "text/x-python",
   "name": "python",
   "nbconvert_exporter": "python",
   "pygments_lexer": "ipython3",
   "version": "3.7.4"
  }
 },
 "nbformat": 4,
 "nbformat_minor": 2
}
