{
 "cells": [
  {
   "cell_type": "markdown",
   "metadata": {},
   "source": [
    "## get Forest \n",
    "URL: https://www.rigetti.com/forest\n",
    "\n",
    "## Install SDK\n",
    "wget https://downloads.rigetti.com/qcs-sdk/forest-sdk-linux-deb.tar.bz2 \n",
    "\n",
    "tar jxvf forest-sdk-linux-deb.tar.bz2\n",
    "\n",
    "## Run QVM and Quilc as Server\n",
    "Console 1:\n",
    "`qvm -S`\n",
    "\n",
    "Console 2:\n",
    "`quilc -S`\n",
    "\n",
    "## Run Quantum Computing Script"
   ]
  },
  {
   "cell_type": "code",
   "execution_count": 1,
   "metadata": {},
   "outputs": [
    {
     "name": "stdout",
     "output_type": "stream",
     "text": [
      "[(1, 1), (1, 1), (1, 1), (0, 0), (1, 1), (1, 1), (1, 1), (0, 0), (1, 1), (0, 0), (0, 0), (0, 0), (0, 0), (1, 1), (0, 0), (1, 1), (1, 1), (1, 1), (1, 1), (1, 1)]\n"
     ]
    }
   ],
   "source": [
    "from pyquil.quil import Program\n",
    "from pyquil.api import *\n",
    "from pyquil.gates import *\n",
    "\n",
    "# Apply H to qubit 0, then CNOT to qubit 0 and 1\n",
    "p = Program(H(0), CNOT(0, 1))\n",
    "# Get info for a 2-qubit quantum virtual machine\n",
    "qc = get_qc('2q-qvm')\n",
    "# Simulate program\n",
    "results = qc.run_and_measure(p, trials=20)\n",
    "print(list(zip(results[0], results[1])))\n",
    "\n",
    "## Apply H to qubit 1, then CNOT to qubit 1 and 2\n",
    "#p = Program(H(1), CNOT(1, 2))\n",
    "## Get info for a real 2-qubit quantum computer named Aspen-4-2Q-A\n",
    "#qc = get_qc('Aspen-4-2Q-A')\n",
    "## Send program to the quantum computer and run it\n",
    "#results = qc.run_and_measure(p, trials=10)\n",
    "#print(list(zip(results[1], results[2])))"
   ]
  },
  {
   "cell_type": "code",
   "execution_count": 2,
   "metadata": {},
   "outputs": [
    {
     "data": {
      "text/plain": [
       "[[0, 0],\n",
       " [0, 0],\n",
       " [0, 0],\n",
       " [0, 0],\n",
       " [0, 0],\n",
       " [0, 0],\n",
       " [1, 1],\n",
       " [0, 0],\n",
       " [0, 0],\n",
       " [1, 1]]"
      ]
     },
     "execution_count": 2,
     "metadata": {},
     "output_type": "execute_result"
    }
   ],
   "source": [
    "from pyquil import get_qc, Program\n",
    "from pyquil.gates import CNOT, H, MEASURE\n",
    " \n",
    "qvm = get_qc('2q-qvm')\n",
    " \n",
    "p = Program()\n",
    "p += H(0)\n",
    "p += CNOT(0, 1)\n",
    "ro = p.declare('ro', 'BIT', 2)\n",
    "p += MEASURE(0, ro[0])\n",
    "p += MEASURE(1, ro[1])\n",
    "p.wrap_in_numshots_loop(10)\n",
    " \n",
    "qvm.run(p).tolist()"
   ]
  },
  {
   "cell_type": "code",
   "execution_count": 3,
   "metadata": {},
   "outputs": [
    {
     "name": "stderr",
     "output_type": "stream",
     "text": [
      "/usr/local/lib/python3.6/dist-packages/pyquil/api/_quantum_computer.py:773: RuntimeWarning: Unable to start qvm server, since the specified port 5000 is in use.\n",
      "  warnings.warn(RuntimeWarning(warning_msg))\n",
      "/usr/local/lib/python3.6/dist-packages/pyquil/api/_quantum_computer.py:783: RuntimeWarning: Unable to start quilc server, since the specified port 5555 is in use.\n",
      "  warnings.warn(RuntimeWarning(warning_msg))\n"
     ]
    },
    {
     "name": "stdout",
     "output_type": "stream",
     "text": [
      "[0 1 1 0 1 0 1 0 1 1 0 1]\n",
      "[0 1 1 0 1 0 1 0 1 1 0 1]\n"
     ]
    }
   ],
   "source": [
    "from pyquil import get_qc, Program\n",
    "from pyquil.gates import CNOT, Z\n",
    "from pyquil.api import local_forest_runtime\n",
    "\n",
    "prog = Program(Z(0), CNOT(0, 1))\n",
    "\n",
    "with local_forest_runtime():\n",
    "    qvm = get_qc('9q-square-qvm')\n",
    "    results = qvm.run_and_measure(prog, trials=15)\n",
    "\n",
    "# construct a Bell State program\n",
    "p = Program(H(0), CNOT(0, 1))\n",
    "\n",
    "# run the program on a QVM\n",
    "qc = get_qc('9q-square-qvm')\n",
    "result = qc.run_and_measure(p, trials=12)\n",
    "print(result[0])\n",
    "print(result[1])"
   ]
  },
  {
   "cell_type": "code",
   "execution_count": null,
   "metadata": {},
   "outputs": [],
   "source": []
  }
 ],
 "metadata": {
  "kernelspec": {
   "display_name": "Python 3",
   "language": "python",
   "name": "python3"
  },
  "language_info": {
   "codemirror_mode": {
    "name": "ipython",
    "version": 3
   },
   "file_extension": ".py",
   "mimetype": "text/x-python",
   "name": "python",
   "nbconvert_exporter": "python",
   "pygments_lexer": "ipython3",
   "version": "3.6.8"
  }
 },
 "nbformat": 4,
 "nbformat_minor": 2
}
