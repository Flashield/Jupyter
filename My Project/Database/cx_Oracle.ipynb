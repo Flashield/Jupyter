{
 "cells": [
  {
   "cell_type": "code",
   "execution_count": 1,
   "metadata": {},
   "outputs": [],
   "source": [
    "import cx_Oracle"
   ]
  },
  {
   "cell_type": "code",
   "execution_count": 2,
   "metadata": {},
   "outputs": [],
   "source": [
    "bakctrluser='NTBACKUP'\n",
    "bakctrlpass='NTBACKUP'\n",
    "bakctrldb='ESXVM0504'"
   ]
  },
  {
   "cell_type": "code",
   "execution_count": 3,
   "metadata": {},
   "outputs": [],
   "source": [
    "dbconn=cx_Oracle.connect(bakctrluser,bakctrlpass,bakctrldb)"
   ]
  },
  {
   "cell_type": "code",
   "execution_count": 4,
   "metadata": {},
   "outputs": [
    {
     "name": "stdout",
     "output_type": "stream",
     "text": [
      "[('SYS', '/1000e8d1_LinkedHashMapValueIt', None, 20736, None, 'JAVA CLASS', datetime.datetime(2008, 2, 17, 2, 3, 58), datetime.datetime(2008, 2, 17, 2, 3, 58), '2008-02-17:02:03:58', 'VALID', 'N', 'N', 'N'), ('SYS', '/1005bd30_LnkdConstant', None, 13886, None, 'JAVA CLASS', datetime.datetime(2008, 2, 17, 2, 3, 58), datetime.datetime(2008, 2, 17, 2, 3, 58), '2008-02-17:02:03:58', 'VALID', 'N', 'N', 'N'), ('SYS', '/10076b23_OraCustomDatumClosur', None, 11587, None, 'JAVA CLASS', datetime.datetime(2008, 2, 17, 2, 3, 58), datetime.datetime(2008, 2, 17, 2, 3, 58), '2008-02-17:02:03:58', 'VALID', 'N', 'N', 'N'), ('SYS', '/100c1606_StandardMidiFileRead', None, 21063, None, 'JAVA CLASS', datetime.datetime(2008, 2, 17, 2, 3, 58), datetime.datetime(2008, 2, 17, 2, 3, 58), '2008-02-17:02:03:58', 'VALID', 'N', 'N', 'N'), ('SYS', '/1023e902_OraCharsetUTFE', None, 11304, None, 'JAVA CLASS', datetime.datetime(2008, 2, 17, 2, 3, 58), datetime.datetime(2008, 2, 17, 2, 3, 58), '2008-02-17:02:03:58', 'VALID', 'N', 'N', 'N'), ('SYS', '/10240eba_GenPropertySequence', None, 47553, None, 'JAVA CLASS', datetime.datetime(2008, 2, 17, 2, 18, 57), datetime.datetime(2008, 2, 17, 2, 19), '2008-02-17:02:18:57', 'VALID', 'N', 'N', 'N'), ('SYS', '/10297c91_SAXAttrList', None, 38270, None, 'JAVA CLASS', datetime.datetime(2008, 2, 17, 2, 5, 32), datetime.datetime(2008, 2, 17, 2, 5, 52), '2008-02-17:02:05:32', 'VALID', 'N', 'N', 'N'), ('SYS', '/103a2e73_DefaultEditorKitEndP', None, 17854, None, 'JAVA CLASS', datetime.datetime(2008, 2, 17, 2, 3, 58), datetime.datetime(2008, 2, 17, 2, 3, 58), '2008-02-17:02:03:58', 'VALID', 'N', 'N', 'N'), ('SYS', '/104371db_JDWPThreadReferenceS', None, 16009, None, 'JAVA CLASS', datetime.datetime(2008, 2, 17, 2, 3, 58), datetime.datetime(2008, 2, 17, 2, 3, 58), '2008-02-17:02:03:58', 'VALID', 'N', 'N', 'N')]\n"
     ]
    }
   ],
   "source": [
    "dbcur=dbconn.cursor()\n",
    "dbcur.execute('SELECT * FROM all_objects where rownum < 10')\n",
    "dbrlt=dbcur.fetchall()\n",
    "print(dbrlt)"
   ]
  },
  {
   "cell_type": "code",
   "execution_count": 5,
   "metadata": {},
   "outputs": [],
   "source": [
    "dbcur.close()"
   ]
  },
  {
   "cell_type": "code",
   "execution_count": 6,
   "metadata": {},
   "outputs": [],
   "source": [
    "dbconn.close()"
   ]
  },
  {
   "cell_type": "code",
   "execution_count": null,
   "metadata": {},
   "outputs": [],
   "source": []
  }
 ],
 "metadata": {
  "kernelspec": {
   "display_name": "Python 3",
   "language": "python",
   "name": "python3"
  },
  "language_info": {
   "codemirror_mode": {
    "name": "ipython",
    "version": 3
   },
   "file_extension": ".py",
   "mimetype": "text/x-python",
   "name": "python",
   "nbconvert_exporter": "python",
   "pygments_lexer": "ipython3",
   "version": "3.6.9"
  },
  "toc": {
   "base_numbering": 1,
   "nav_menu": {},
   "number_sections": true,
   "sideBar": true,
   "skip_h1_title": false,
   "title_cell": "Table of Contents",
   "title_sidebar": "Contents",
   "toc_cell": false,
   "toc_position": {},
   "toc_section_display": true,
   "toc_window_display": false
  },
  "varInspector": {
   "cols": {
    "lenName": 16,
    "lenType": 16,
    "lenVar": 40
   },
   "kernels_config": {
    "python": {
     "delete_cmd_postfix": "",
     "delete_cmd_prefix": "del ",
     "library": "var_list.py",
     "varRefreshCmd": "print(var_dic_list())"
    },
    "r": {
     "delete_cmd_postfix": ") ",
     "delete_cmd_prefix": "rm(",
     "library": "var_list.r",
     "varRefreshCmd": "cat(var_dic_list()) "
    }
   },
   "types_to_exclude": [
    "module",
    "function",
    "builtin_function_or_method",
    "instance",
    "_Feature"
   ],
   "window_display": false
  }
 },
 "nbformat": 4,
 "nbformat_minor": 2
}
