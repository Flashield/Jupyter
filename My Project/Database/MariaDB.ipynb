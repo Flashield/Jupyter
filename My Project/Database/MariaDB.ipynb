{
 "cells": [
  {
   "cell_type": "code",
   "execution_count": null,
   "metadata": {},
   "outputs": [],
   "source": [
    "import MySQLdb"
   ]
  },
  {
   "cell_type": "code",
   "execution_count": null,
   "metadata": {},
   "outputs": [],
   "source": [
    "db = MySQLdb.connect(\"nfs.flashield.com\", \"nttask\", \"nttask123!@#\", \"NTTask\", charset='utf8' )"
   ]
  },
  {
   "cell_type": "code",
   "execution_count": null,
   "metadata": {},
   "outputs": [],
   "source": [
    "cursor = db.cursor()"
   ]
  },
  {
   "cell_type": "code",
   "execution_count": null,
   "metadata": {},
   "outputs": [],
   "source": [
    "sql_stmt = \"insert into t_proxy_info(proxy_ip,proxy_port,proxy_location,proxy_anon,proxy_type,proxy_speed,proxy_time,proxy_life,proxy_web_check_time)\\\n",
    "            select %s,%s,%s,%s,%s,%s,%s,%s,%s from dual\\\n",
    "            where NOT EXISTS (select 1 from t_proxy_info where proxy_ip = %s and proxy_port = %s)\"\n",
    "print(sql_stmt.format('8.8.8.8',12345))"
   ]
  },
  {
   "cell_type": "code",
   "execution_count": null,
   "metadata": {},
   "outputs": [],
   "source": [
    "#print(proxy_info)\n",
    "cursor.execute(sql_stmt,tuple(proxy_info+proxy_info[0:2]))"
   ]
  },
  {
   "cell_type": "code",
   "execution_count": null,
   "metadata": {},
   "outputs": [],
   "source": [
    "proxy_info=('112.87.71.58', 9999, '江苏宿迁', '高匿', 'HTTP', '0.143秒', '0.028秒', '1分钟', '19-06-25 09:20')"
   ]
  },
  {
   "cell_type": "code",
   "execution_count": null,
   "metadata": {},
   "outputs": [],
   "source": [
    "data = cursor.fetchall()"
   ]
  },
  {
   "cell_type": "code",
   "execution_count": null,
   "metadata": {},
   "outputs": [],
   "source": [
    "print(data)"
   ]
  },
  {
   "cell_type": "code",
   "execution_count": null,
   "metadata": {},
   "outputs": [],
   "source": [
    "db.commit()"
   ]
  },
  {
   "cell_type": "code",
   "execution_count": null,
   "metadata": {},
   "outputs": [],
   "source": [
    "db.close()"
   ]
  },
  {
   "cell_type": "code",
   "execution_count": null,
   "metadata": {},
   "outputs": [],
   "source": [
    "proxy_info = ['112.85.128.175', 9999, '江苏南通', '高匿', 'HTTP', '3.17秒', '0.634秒', '64天', '19-06-25 13:00']"
   ]
  }
 ],
 "metadata": {
  "kernelspec": {
   "display_name": "Python 3",
   "language": "python",
   "name": "python3"
  },
  "language_info": {
   "codemirror_mode": {
    "name": "ipython",
    "version": 3
   },
   "file_extension": ".py",
   "mimetype": "text/x-python",
   "name": "python",
   "nbconvert_exporter": "python",
   "pygments_lexer": "ipython3",
   "version": "3.6.9"
  }
 },
 "nbformat": 4,
 "nbformat_minor": 2
}
