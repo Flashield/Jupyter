{
 "cells": [
  {
   "cell_type": "code",
   "execution_count": 1,
   "metadata": {},
   "outputs": [],
   "source": [
    "import urllib\n",
    "import urllib.request\n",
    "import http\n",
    "import http.cookiejar"
   ]
  },
  {
   "cell_type": "code",
   "execution_count": 2,
   "metadata": {},
   "outputs": [
    {
     "name": "stdout",
     "output_type": "stream",
     "text": [
      "b'jumpurl=http%253A%252F%252Fwww.itokoo.com%252Findex.php&pwuser=Flashield&lgt=0&pwpwd=Zb122525&step=2&ajax=1'\n"
     ]
    }
   ],
   "source": [
    "url1 = 'http://www.itokoo.com/'\n",
    "url2 = 'http://www.itokoo.com/login.php'\n",
    "'''headers = {\n",
    "    \"Content-Type\": \"application/x-www-form-urlencoded; charset=UTF-8\",\\\n",
    "    \"User-Agent\": \"Mozilla/5.0 (Windows NT 5.2) AppleWebKit/537.36 (KHTML, like Gecko) Chrome/49.0.2623.112 Safari/537.36\",\\\n",
    "    \"Connection\": \"Keep-Alive\",\\\n",
    "    \"Cache-Control\": \"no-cache\"}'''\n",
    "opener = urllib.request.build_opener()\n",
    "#添加headers\n",
    "headers = [('Referer',url1),\\\n",
    "           ('Accept-Language','en,zh-CN;q=0.8,zh;q=0.6,en-US;q=0.4'),\\\n",
    "           ('Cache-Control','max-age=0'),\\\n",
    "           ('Content-Type','application/x-www-form-urlencoded'),\\\n",
    "           ('Origin',url1),\\\n",
    "           ('Connection','keep-alive'),\\\n",
    "           ('User-Agent','Mozilla/5.0 (Windows NT 5.2) AppleWebKit/537.36 (KHTML, like Gecko) Chrome/49.0.2623.112 Safari/537.36'),\\\n",
    "           ('Accept','text/html,application/xhtml+xml,application/xml;q=0.9,image/webp,*/*;q=0.8')]\n",
    "opener.addheaders = headers\n",
    "\n",
    "#添加cookie\n",
    "cookie_filename = 'cookie_itoko.txt'\n",
    "#cookies = http.cookiejar.CookieJar()\n",
    "cookies = http.cookiejar.MozillaCookieJar(cookie_filename)\n",
    "cookies.load(ignore_discard=True, ignore_expires=True)\n",
    "cookie_handler = urllib.request.HTTPCookieProcessor(cookies)\n",
    "opener.add_handler(cookie_handler)\n",
    "#添加代理\n",
    "proxy_handler = urllib.request.ProxyHandler({'https':'221.178.146.113:61399','http':'221.178.146.113:61399'})\n",
    "#opener.add_handler(proxy_handler)\n",
    "\n",
    "#添加PostData\n",
    "data = {\"jumpurl\":\"http%3A%2F%2Fwww.itokoo.com%2Findex.php\",\"step\":\"2\",\\\n",
    "        \"ajax\":\"1\",\"pwuser\":\"Flashield\",\"pwpwd\":\"Zb122525\",\"lgt\":\"0\"}\n",
    "post_data = urllib.parse.urlencode(data).encode(encoding='UTF8')\n",
    "print(post_data)"
   ]
  },
  {
   "cell_type": "code",
   "execution_count": 10,
   "metadata": {},
   "outputs": [],
   "source": [
    "#request = opener.open(url1)\n",
    "#request_read = request.read()\n",
    "#print(request_read.decode(encoding='UTF8',errors='ignore'))\n"
   ]
  },
  {
   "cell_type": "code",
   "execution_count": 11,
   "metadata": {},
   "outputs": [
    {
     "name": "stdout",
     "output_type": "stream",
     "text": [
      "<?xml version=\"1.0\" encoding=\"gbk\"?><ajax><![CDATA[success\thttp%3A%2F%2Fwww.itokoo.com%2Findex.php]]></ajax>\n"
     ]
    }
   ],
   "source": [
    "request = opener.open(url2,post_data)\n",
    "print(request.read().decode(encoding='UTF8',errors='ignore'))"
   ]
  },
  {
   "cell_type": "code",
   "execution_count": 15,
   "metadata": {},
   "outputs": [],
   "source": [
    "#登录成功后，保存cookies\n",
    "cookies.save(ignore_discard=True, ignore_expires=True)"
   ]
  },
  {
   "cell_type": "code",
   "execution_count": 3,
   "metadata": {},
   "outputs": [
    {
     "name": "stdout",
     "output_type": "stream",
     "text": [
      "<?xml version=\"1.0\" encoding=\"gbk\"?><ajax><![CDATA[[{\"message\":'抱歉，还没到下一次申请任务时间',\"flag\":'',\"html\":''}]]]></ajax>\n"
     ]
    }
   ],
   "source": [
    "url3='http://www.itokoo.com/jobcenter.php?action=apply'\n",
    "headers = [('Referer',url3),\\\n",
    "           ('Accept-Language','en,zh-CN;q=0.8,zh;q=0.6,en-US;q=0.4'),\\\n",
    "           ('Cache-Control','max-age=0'),\\\n",
    "           ('Content-Type','application/x-www-form-urlencoded'),\\\n",
    "           ('Origin',url3),\\\n",
    "           ('Connection','keep-alive'),\\\n",
    "           ('User-Agent','Mozilla/5.0 (Windows NT 5.2) AppleWebKit/537.36 (KHTML, like Gecko) Chrome/49.0.2623.112 Safari/537.36'),\\\n",
    "           ('Accept','text/html,application/xhtml+xml,application/xml;q=0.9,image/webp,*/*;q=0.8')]\n",
    "opener.addheaders = headers\n",
    "data3 = {\"id\":\"5\",\"step\":\"2\"}\n",
    "post_data3 = urllib.parse.urlencode(data3).encode(encoding='UTF8')\n",
    "request = opener.open(url3,post_data3)\n",
    "print(request.read().decode(encoding='GBK',errors='ignore'))"
   ]
  },
  {
   "cell_type": "code",
   "execution_count": 13,
   "metadata": {},
   "outputs": [
    {
     "name": "stdout",
     "output_type": "stream",
     "text": [
      "<?xml version=\"1.0\" encoding=\"gbk\"?><ajax><![CDATA[[{\"message\":'抱歉，你已经领取过奖励，不能重复领取',\"flag\":'1',\"html\":''}]]]></ajax>\n"
     ]
    }
   ],
   "source": [
    "url4='http://www.itokoo.com/jobcenter.php?action=gain'\n",
    "data4 = {\"id\":\"5\",\"step\":\"2\"}\n",
    "post_data4 = urllib.parse.urlencode(data4).encode(encoding='UTF8')\n",
    "request = opener.open(url4,post_data4)\n",
    "print(request.read().decode(encoding='GBK',errors='ignore'))\n",
    "#print(request_read.decode(encoding='UTF8',errors='ignore'))"
   ]
  },
  {
   "cell_type": "code",
   "execution_count": 14,
   "metadata": {},
   "outputs": [
    {
     "name": "stdout",
     "output_type": "stream",
     "text": [
      "<?xml version=\"1.0\" encoding=\"gbk\"?><ajax><![CDATA[[{\"message\":'抱歉，你已经领取过奖励，不能重复领取',\"flag\":'1',\"html\":''}]]]></ajax>\n"
     ]
    }
   ],
   "source": [
    "url5='http://www.itokoo.com/jobcenter.php?action=punch'\n",
    "headers5 = [('Referer','http://www.itokoo.com/u.php'),\\\n",
    "           ('Accept-Language','en,zh-CN;q=0.8,zh;q=0.6,en-US;q=0.4'),\\\n",
    "           ('Cache-Control','max-age=0'),\\\n",
    "           ('Content-Type','application/x-www-form-urlencoded'),\\\n",
    "           ('Origin','http://www.itokoo.com/u.php'),\\\n",
    "           ('Connection','keep-alive'),\\\n",
    "           ('User-Agent','Mozilla/5.0 (Windows NT 5.2) AppleWebKit/537.36 (KHTML, like Gecko) Chrome/49.0.2623.112 Safari/537.36'),\\\n",
    "           ('Accept','text/html,application/xhtml+xml,application/xml;q=0.9,image/webp,*/*;q=0.8')]\n",
    "opener.addheaders = headers5\n",
    "data5 = {\"step\":\"2\"}\n",
    "post_data5 = urllib.parse.urlencode(data5).encode(encoding='UTF8')\n",
    "request = opener.open(url4,post_data4)\n",
    "print(request.read().decode(encoding='GBK',errors='ignore'))"
   ]
  },
  {
   "cell_type": "code",
   "execution_count": null,
   "metadata": {},
   "outputs": [],
   "source": []
  }
 ],
 "metadata": {
  "kernelspec": {
   "display_name": "Python 3",
   "language": "python",
   "name": "python3"
  },
  "language_info": {
   "codemirror_mode": {
    "name": "ipython",
    "version": 3
   },
   "file_extension": ".py",
   "mimetype": "text/x-python",
   "name": "python",
   "nbconvert_exporter": "python",
   "pygments_lexer": "ipython3",
   "version": "3.5.2"
  }
 },
 "nbformat": 4,
 "nbformat_minor": 2
}
