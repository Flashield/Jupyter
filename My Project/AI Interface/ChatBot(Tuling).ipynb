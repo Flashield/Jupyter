{
 "cells": [
  {
   "cell_type": "code",
   "execution_count": 63,
   "metadata": {},
   "outputs": [],
   "source": [
    "import urllib\n",
    "import urllib.request\n",
    "import json\n",
    "tuling_apikey = '6cf4f224dee642b2b55a89d2638fa982'"
   ]
  },
  {
   "cell_type": "code",
   "execution_count": 65,
   "metadata": {},
   "outputs": [
    {
     "name": "stdout",
     "output_type": "stream",
     "text": [
      "还可以\n"
     ]
    }
   ],
   "source": [
    "def msg_tuling_bot(chat_request):\n",
    "    chatbot_url = 'http://openapi.tuling123.com/openapi/api/v2'\n",
    "    post_dict = {'reqType':'0',\n",
    "       'perception': {'inputText': {'text': ''},\n",
    "                      'inputImage': {'url': 'imageUrl'},\n",
    "                      'selfInfo': {'location': {'city': '南通', 'province': '江苏', 'street': '洪江路'}}},\n",
    "      'userInfo': {'apiKey': '', 'userId': 'Flashield'}}\n",
    "    post_dict['perception']['inputText']['text']=chat_request\n",
    "    post_dict['userInfo']['apiKey']=tuling_apikey\n",
    "    post_data=json.dumps(post_dict).encode('UTF-8')\n",
    "    opener = urllib.request.build_opener()\n",
    "    request = opener.open(chatbot_url,post_data)\n",
    "    req_text = request.read().decode(encoding='UTF8',errors='ignore')\n",
    "    reply = json.loads(req_text)\n",
    "    reply_text = reply['results'][0]['values']['text']\n",
    "    return reply_text\n"
   ]
  },
  {
   "cell_type": "code",
   "execution_count": 73,
   "metadata": {},
   "outputs": [
    {
     "name": "stdout",
     "output_type": "stream",
     "text": [
      "成都:周四,晴转多云 无持续风向微风,最低气温23度，最高气温32度\n"
     ]
    }
   ],
   "source": [
    "print(msg_tuling_bot('后天成都的天气？'))"
   ]
  },
  {
   "cell_type": "code",
   "execution_count": null,
   "metadata": {},
   "outputs": [],
   "source": []
  }
 ],
 "metadata": {
  "kernelspec": {
   "display_name": "Python 3",
   "language": "python",
   "name": "python3"
  },
  "language_info": {
   "codemirror_mode": {
    "name": "ipython",
    "version": 3
   },
   "file_extension": ".py",
   "mimetype": "text/x-python",
   "name": "python",
   "nbconvert_exporter": "python",
   "pygments_lexer": "ipython3",
   "version": "3.5.2"
  }
 },
 "nbformat": 4,
 "nbformat_minor": 2
}
