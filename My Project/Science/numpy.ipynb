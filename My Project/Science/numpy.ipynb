{
 "cells": [
  {
   "cell_type": "code",
   "execution_count": 1,
   "metadata": {},
   "outputs": [],
   "source": [
    "import numpy as np"
   ]
  },
  {
   "cell_type": "code",
   "execution_count": 11,
   "metadata": {},
   "outputs": [
    {
     "name": "stdout",
     "output_type": "stream",
     "text": [
      "[[ 1.2  2.2  1.4  3. ]\n",
      " [ 1.3  2.4  2.1  4. ]\n",
      " [ 1.   1.   0.   5. ]]\n",
      "[[ 1.2  1.3  1. ]\n",
      " [ 2.2  2.4  1. ]\n",
      " [ 1.4  2.1  0. ]\n",
      " [ 3.   4.   5. ]]\n",
      "[[ 1.2  2.2  1.4  3. ]\n",
      " [ 1.3  2.4  2.1  4. ]\n",
      " [ 1.   1.   0.   5. ]]\n",
      "[[ 1.2  1.3  1. ]\n",
      " [ 2.2  2.4  1. ]\n",
      " [ 1.4  2.1  0. ]\n",
      " [ 3.   4.   5. ]]\n",
      "<class 'numpy.ndarray'> <class 'numpy.matrixlib.defmatrix.matrix'>\n",
      "<bound method matrix.tolist of matrix([[ 1.2,  2.2,  1.4,  3. ],\n",
      "        [ 1.3,  2.4,  2.1,  4. ],\n",
      "        [ 1. ,  1. ,  0. ,  5. ]])>\n"
     ]
    }
   ],
   "source": [
    "#list转array\n",
    "x = [[1.2,2.2,1.4,3],[1.3,2.4,2.1,4],[1,1,0,5]]\n",
    "arr = np.array(x)\n",
    "print(arr)\n",
    "#array转置\n",
    "print(arr.T)\n",
    "m = np.matrix(x)\n",
    "print(m)\n",
    "print(m.T)\n",
    "print(type(arr),type(m))\n",
    "print(m.tolist)"
   ]
  },
  {
   "cell_type": "code",
   "execution_count": 12,
   "metadata": {},
   "outputs": [
    {
     "data": {
      "text/plain": [
       "[[1.2, 1.3, 1.0], [2.2, 2.4, 1.0], [1.4, 2.1, 0.0], [3.0, 4.0, 5.0]]"
      ]
     },
     "execution_count": 12,
     "metadata": {},
     "output_type": "execute_result"
    }
   ],
   "source": [
    "m.T.tolist()"
   ]
  },
  {
   "cell_type": "code",
   "execution_count": null,
   "metadata": {},
   "outputs": [],
   "source": []
  }
 ],
 "metadata": {
  "kernelspec": {
   "display_name": "Python 3",
   "language": "python",
   "name": "python3"
  },
  "language_info": {
   "codemirror_mode": {
    "name": "ipython",
    "version": 3
   },
   "file_extension": ".py",
   "mimetype": "text/x-python",
   "name": "python",
   "nbconvert_exporter": "python",
   "pygments_lexer": "ipython3",
   "version": "3.6.6"
  }
 },
 "nbformat": 4,
 "nbformat_minor": 2
}
