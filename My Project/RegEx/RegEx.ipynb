{
 "cells": [
  {
   "cell_type": "code",
   "execution_count": 1,
   "metadata": {
    "pycharm": {
     "is_executing": false
    }
   },
   "outputs": [],
   "source": [
    "import re\n",
    "#正则表达式可通过https://regexr.com/这个网站进行测试"
   ]
  },
  {
   "cell_type": "code",
   "execution_count": 4,
   "metadata": {},
   "outputs": [
    {
     "name": "stdout",
     "output_type": "stream",
     "text": [
      "matchObj.group() : (Cats) are smarter than dogs\n",
      "matchObj.group(1) : Cats\n",
      "matchObj.group(2) : smarter\n",
      "matchObj.group(3) : than dogs\n"
     ]
    }
   ],
   "source": [
    "line = \"(Cats) are smarter than dogs\"\n",
    "#从头开始匹配\n",
    "matchObj = re.match( r'\\((.*)\\) are (.*?) (.*)', line)\n",
    " \n",
    "if matchObj:\n",
    "    print(\"matchObj.group() : \"+matchObj.group())\n",
    "    print(\"matchObj.group(1) : \"+matchObj.group(1))\n",
    "    print(\"matchObj.group(2) : \"+matchObj.group(2))\n",
    "    print(\"matchObj.group(3) : \"+matchObj.group(3))\n",
    "else:\n",
    "    print(\"No match!!\")"
   ]
  },
  {
   "cell_type": "code",
   "execution_count": 5,
   "metadata": {},
   "outputs": [
    {
     "name": "stdout",
     "output_type": "stream",
     "text": [
      "searchObj.group() :  (Cats) are smarter than dogs\n",
      "searchObj.group(1) :  Cats\n",
      "searchObj.group(2) :  smarter\n"
     ]
    }
   ],
   "source": [
    "line = \"Hello, (Cats) are smarter than dogs\";\n",
    "#扫描整个字符串并返回第一个成功的匹配\n",
    "searchObj = re.search( r'\\((.*)\\) are (.*?) .*', line, re.M|re.I)\n",
    " \n",
    "if searchObj:\n",
    "    print (\"searchObj.group() : \", searchObj.group())\n",
    "    print (\"searchObj.group(1) : \", searchObj.group(1))\n",
    "    print (\"searchObj.group(2) : \", searchObj.group(2))\n",
    "else:\n",
    "    print (\"Nothing found!!\")"
   ]
  },
  {
   "cell_type": "code",
   "execution_count": 6,
   "metadata": {},
   "outputs": [
    {
     "name": "stdout",
     "output_type": "stream",
     "text": [
      "(0, 3)\n",
      "None\n",
      "(0, 3)\n",
      "(11, 14)\n"
     ]
    }
   ],
   "source": [
    "#注意区别\n",
    "print(re.match('www', 'www.runoob.com').span())\n",
    "print(re.match('com', 'www.runoob.com')) \n",
    "print(re.search('www', 'www.runoob.com').span())\n",
    "print(re.search('com', 'www.runoob.com').span()) "
   ]
  },
  {
   "cell_type": "code",
   "execution_count": 7,
   "metadata": {},
   "outputs": [
    {
     "name": "stdout",
     "output_type": "stream",
     "text": [
      "电话号码是:  2004-959-559 \n",
      "电话号码是 :  2004959559\n"
     ]
    }
   ],
   "source": [
    "#re.sub进行替换\n",
    "phone = \"2004-959-559 # 这是一个国外电话号码\"\n",
    " \n",
    "# 删除字符串中的 Python注释 \n",
    "num = re.sub(r'#.*$', \"\", phone)\n",
    "print (\"电话号码是: \", num)\n",
    " \n",
    "# 删除非数字(-)的字符串 \n",
    "num = re.sub(r'\\D', \"\", phone)\n",
    "print (\"电话号码是 : \", num)"
   ]
  },
  {
   "cell_type": "markdown",
   "metadata": {},
   "source": [
    "# re.compile 函数\n",
    "compile 函数用于编译正则表达式，生成一个正则表达式（ Pattern ）对象，供 match() 和 search() 这两个函数使用。\n",
    "\n",
    "## 语法格式为：\n",
    "re.compile(pattern[, flags])\n",
    "\n",
    "## 参数：\n",
    "### pattern : 一个字符串形式的正则表达式\n",
    "### flags : 可选，表示匹配模式，比如忽略大小写，多行模式等，具体参数为：\n",
    "\n",
    "** re.I 忽略大小写\n",
    "** re.L 表示特殊字符集 \\w, \\W, \\b, \\B, \\s, \\S 依赖于当前环境\n",
    "** re.M 多行模式\n",
    "** re.S 即为 . 并且包括换行符在内的任意字符（. 不包括换行符）\n",
    "** re.U 表示特殊字符集 \\w, \\W, \\b, \\B, \\d, \\D, \\s, \\S 依赖于 Unicode 字符属性数据库\n",
    "** re.X 为了增加可读性，忽略空格和 # 后面的注释"
   ]
  },
  {
   "cell_type": "code",
   "execution_count": 8,
   "metadata": {},
   "outputs": [
    {
     "name": "stdout",
     "output_type": "stream",
     "text": [
      "None\n",
      "None\n",
      "<_sre.SRE_Match object; span=(3, 5), match='12'>\n",
      "12\n",
      "3\n",
      "5\n",
      "(3, 5)\n"
     ]
    }
   ],
   "source": [
    "pattern = re.compile(r'\\d+')                    # 用于匹配至少一个数字\n",
    "m = pattern.match('one12twothree34four')        # 查找头部，没有匹配\n",
    "print(m)\n",
    "m = pattern.match('one12twothree34four', 2, 10) # 从'e'的位置开始匹配，没有匹配\n",
    "print(m)\n",
    "m = pattern.match('one12twothree34four', 3, 10) # 从'1'的位置开始匹配，正好匹配\n",
    "print(m)                                         # 返回一个 Match 对象\n",
    "print(m.group(0))   # 可省略 0\n",
    "print(m.start(0))   # 可省略 0\n",
    "print(m.end(0))     # 可省略 0\n",
    "print(m.span(0))    # 可省略 0"
   ]
  },
  {
   "cell_type": "code",
   "execution_count": 5,
   "metadata": {},
   "outputs": [
    {
     "name": "stdout",
     "output_type": "stream",
     "text": [
      "贪婪匹配 ['哈哈</a><a>呵呵']\n",
      "非贪婪匹配 ['哈哈', '呵呵']\n"
     ]
    }
   ],
   "source": [
    "#贪婪匹配，非贪婪匹配？\n",
    "s=\"<a>哈哈</a><a>呵呵</a>\"\n",
    "import re\n",
    "res1=re.findall( \"<a>(.*)</a>\",s)\n",
    "print(\"贪婪匹配\",res1)\n",
    "res2=re.findall(\"<a>(.*?)</a>\",s)\n",
    "print(\"非贪婪匹配\",res2)"
   ]
  },
  {
   "cell_type": "code",
   "execution_count": 54,
   "metadata": {},
   "outputs": [
    {
     "name": "stdout",
     "output_type": "stream",
     "text": [
      "$(document).ready(function() {\n",
      "\tsetTimeout(function(){\n",
      "\t\tif($('img#tp').width() > 100) {\n",
      "\t\t\t$('#result').html('<div class=\"well\"><p>您现在的 IP：<code>67.21.94.192</code></p><p>所在地理位置：<code>美国 Sharktech</code></p><p>GeoIP: Los Angeles, California, United States</p></div>');\n",
      "\t\t\t$('#tips').css('display', 'none');\n",
      "\t\t}\n",
      "\t\telse {\n",
      "\t\t\t$('#tips').html('<div class=\"well\">为维持本站运营，请不要屏蔽广告，谢谢。</div>');\n",
      "\t\t}\n",
      "\t}, 500);\n",
      "});\n",
      "\n",
      "html('<div class=\"well\"><p>您现在的 IP：<code>67.21.94.192</code></p><p>所在地理位置：<code>美国 Sharktech</code></p><p>GeoIP: Los Angeles, California, United States</p></div>')\n",
      "<div class=\"well\"><p>您现在的 IP：<code>67.21.94.192</code></p><p>所在地理位置：<code>美国 Sharktech</code></p><p>GeoIP: Los Angeles, California, United States</p></div>\n"
     ]
    }
   ],
   "source": [
    "line = \"\"\"$(document).ready(function() {\n",
    "\tsetTimeout(function(){\n",
    "\t\tif($('img#tp').width() > 100) {\n",
    "\t\t\t$('#result').html('<div class=\"well\"><p>您现在的 IP：<code>67.21.94.192</code></p><p>所在地理位置：<code>美国 Sharktech</code></p><p>GeoIP: Los Angeles, California, United States</p></div>');\n",
    "\t\t\t$('#tips').css('display', 'none');\n",
    "\t\t}\n",
    "\t\telse {\n",
    "\t\t\t$('#tips').html('<div class=\"well\">为维持本站运营，请不要屏蔽广告，谢谢。</div>');\n",
    "\t\t}\n",
    "\t}, 500);\n",
    "});\n",
    "\"\"\"\n",
    "print(line)\n",
    "searchObj = re.search(\"html\\('(.*)'\\)\",line, re.M|re.I)\n",
    "#注意group()和group(1)的区别\n",
    "print(searchObj.group())\n",
    "print(searchObj.group(1))"
   ]
  },
  {
   "cell_type": "code",
   "execution_count": 3,
   "metadata": {
    "pycharm": {
     "is_executing": false
    }
   },
   "outputs": [
    {
     "name": "stdout",
     "output_type": "stream",
     "text": [
      "销售(hao)数据表格(新的)信息表.xls\n"
     ]
    }
   ],
   "source": [
    "## 具体练习\n",
    "b = \"销售(hao)数据(234)表格(新的)信(231)息表(10). xls.xls\"\n",
    "print(''.join(list(re.findall(r\"([^\\.]+).*(\\..+)\",re.sub(r\"\\(\\d+\\)\",'', b))[0])))"
   ]
  }
 ],
 "metadata": {
  "kernelspec": {
   "display_name": "Python 3",
   "language": "python",
   "name": "python3"
  },
  "language_info": {
   "codemirror_mode": {
    "name": "ipython",
    "version": 3
   },
   "file_extension": ".py",
   "mimetype": "text/x-python",
   "name": "python",
   "nbconvert_exporter": "python",
   "pygments_lexer": "ipython3",
   "version": "3.6.9"
  },
  "pycharm": {
   "stem_cell": {
    "cell_type": "raw",
    "metadata": {
     "collapsed": false
    },
    "source": []
   }
  },
  "toc": {
   "base_numbering": 1,
   "nav_menu": {},
   "number_sections": true,
   "sideBar": true,
   "skip_h1_title": false,
   "title_cell": "Table of Contents",
   "title_sidebar": "Contents",
   "toc_cell": false,
   "toc_position": {},
   "toc_section_display": true,
   "toc_window_display": false
  },
  "varInspector": {
   "cols": {
    "lenName": 16,
    "lenType": 16,
    "lenVar": 40
   },
   "kernels_config": {
    "python": {
     "delete_cmd_postfix": "",
     "delete_cmd_prefix": "del ",
     "library": "var_list.py",
     "varRefreshCmd": "print(var_dic_list())"
    },
    "r": {
     "delete_cmd_postfix": ") ",
     "delete_cmd_prefix": "rm(",
     "library": "var_list.r",
     "varRefreshCmd": "cat(var_dic_list()) "
    }
   },
   "types_to_exclude": [
    "module",
    "function",
    "builtin_function_or_method",
    "instance",
    "_Feature"
   ],
   "window_display": false
  }
 },
 "nbformat": 4,
 "nbformat_minor": 2
}
